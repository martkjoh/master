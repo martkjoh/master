{
 "cells": [
  {
   "cell_type": "code",
   "execution_count": 19,
   "id": "b35e7d13",
   "metadata": {},
   "outputs": [],
   "source": [
    "%display latex\n",
    "load(\"three_flavor.sage\")"
   ]
  },
  {
   "cell_type": "code",
   "execution_count": 20,
   "id": "ddcb84e6",
   "metadata": {},
   "outputs": [],
   "source": [
    "n = 2\n",
    "var(\"f\")\n",
    "v = v_mu\n",
    "\n",
    "exp_l_a = lambda l, a: (one - l**2) + l**2 * cos(a) + i *l * sin(a)\n",
    "# pion condensate\n",
    "A = exp_l_a(l7, a/2)\n",
    "U = lambda n: EXP(I * pi_s/f, n)\n",
    "U_d = lambda n: EXP(-I * pi_s/f, n)\n",
    "\n",
    "SIGMA = lambda n: mat_prep(A * U(n) * A, n)\n",
    "SIGMA_d = lambda n: mat_prep(A.C.T * U_d(n) * A.C.T, n)"
   ]
  },
  {
   "cell_type": "code",
   "execution_count": 21,
   "id": "1330e164",
   "metadata": {},
   "outputs": [],
   "source": [
    "S = SIGMA(n)\n",
    "Sd = SIGMA_d(n)"
   ]
  },
  {
   "cell_type": "code",
   "execution_count": 22,
   "id": "0e321b7f",
   "metadata": {},
   "outputs": [],
   "source": [
    "dS = diff(S, x) # nabla_mu Sigma\n",
    "dSd = diff(Sd, x)\n",
    "COM = v*S - S*v # [v_mu, Sigma]\n",
    "COMd = Sd*v - v*Sd"
   ]
  },
  {
   "cell_type": "code",
   "execution_count": 23,
   "id": "1ec54d71",
   "metadata": {},
   "outputs": [],
   "source": [
    "dS = mat_prep(dS, n)\n",
    "dSd = mat_prep(dSd, n)\n",
    "COM = mat_prep(COM, n)\n",
    "COMd = mat_prep(COMd, n)"
   ]
  },
  {
   "cell_type": "code",
   "execution_count": 24,
   "id": "3de1d063",
   "metadata": {},
   "outputs": [],
   "source": [
    "term1 = mat_prep(dS*(dSd), n)"
   ]
  },
  {
   "cell_type": "code",
   "execution_count": 25,
   "id": "59b566b4",
   "metadata": {},
   "outputs": [],
   "source": [
    "term2 = -I*mat_prep(dS*(-COMd) + COM*dSd, n)"
   ]
  },
  {
   "cell_type": "code",
   "execution_count": 26,
   "id": "1444827a",
   "metadata": {},
   "outputs": [],
   "source": [
    "term3 = mat_prep(COM*COMd, n)"
   ]
  },
  {
   "cell_type": "code",
   "execution_count": 27,
   "id": "73d62ad1",
   "metadata": {},
   "outputs": [],
   "source": [
    "term1 = term1.trace().full_simplify().trig_reduce()\n",
    "term2 = term2.trace().full_simplify().trig_reduce()\n",
    "term3 = term3.trace().full_simplify().trig_reduce()\n",
    "mass_term = (chi*Sd + S*chi).trace().trig_reduce().full_simplify()\n",
    "term1, term2, term3, mass_term = (f^2/4 * term for term in [term1, term2, term3, mass_term])"
   ]
  },
  {
   "cell_type": "code",
   "execution_count": 28,
   "id": "304c1475",
   "metadata": {},
   "outputs": [],
   "source": [
    "def print_coeff(elem):\n",
    "    coeff = elem.coefficients(e)\n",
    "    for i in range(len(coeff)):\n",
    "        print(e^coeff[i][1], \":\")\n",
    "        pretty_print(coeff[i][0].full_simplify())"
   ]
  },
  {
   "cell_type": "code",
   "execution_count": 29,
   "id": "241d3e44",
   "metadata": {},
   "outputs": [
    {
     "data": {
      "text/html": [
       "<html><script type=\"math/tex; mode=display\">\\newcommand{\\Bold}[1]{\\mathbf{#1}}\\frac{1}{8} \\, {\\delta}^{2} f^{2} {\\mu_I}^{2} \\sin\\left({\\alpha}\\right)^{2} - \\frac{1}{2} \\, {\\delta}^{2} f^{2} {\\mu_I} {\\mu_S} \\sin\\left({\\alpha}\\right)^{2} + \\frac{1}{2} \\, {\\delta}^{2} f^{2} {\\mu_S}^{2} \\sin\\left({\\alpha}\\right)^{2} + \\frac{1}{2} \\, f^{2} {\\bar m}^{2} {\\left(\\cos\\left({\\alpha}\\right) + 1\\right)} + \\frac{1}{2} \\, {\\Delta m}^{2} f^{2} {\\left(\\cos\\left({\\alpha}\\right) - 1\\right)} + \\frac{1}{2} \\, f^{2} {m_S}^{2} \\cos\\left({\\alpha}\\right)</script></html>"
      ],
      "text/plain": [
       "1/8*d^2*f^2*muI^2*sin(a)^2 - 1/2*d^2*f^2*muI*muS*sin(a)^2 + 1/2*d^2*f^2*muS^2*sin(a)^2 + 1/2*f^2*mbar^2*(cos(a) + 1) + 1/2*dm^2*f^2*(cos(a) - 1) + 1/2*f^2*mS^2*cos(a)"
      ]
     },
     "metadata": {},
     "output_type": "display_data"
    }
   ],
   "source": [
    "L = (term1 + term2 + term3 + mass_term).full_simplify()\n",
    "pretty_print(L.coefficients(e)[0][0])"
   ]
  },
  {
   "cell_type": "code",
   "execution_count": 14,
   "id": "631b4cc8",
   "metadata": {},
   "outputs": [
    {
     "data": {
      "text/html": [
       "<html><script type=\"math/tex; mode=display\">\\newcommand{\\Bold}[1]{\\mathbf{#1}}\\frac{1}{2} \\, \\frac{\\partial}{\\partial x}\\pi_{1}\\left(x\\right)^{2} + \\frac{1}{2} \\, \\frac{\\partial}{\\partial x}\\pi_{2}\\left(x\\right)^{2} + \\frac{1}{2} \\, \\frac{\\partial}{\\partial x}\\pi_{3}\\left(x\\right)^{2} + \\frac{1}{2} \\, \\frac{\\partial}{\\partial x}\\pi_{4}\\left(x\\right)^{2} + \\frac{1}{2} \\, \\frac{\\partial}{\\partial x}\\pi_{5}\\left(x\\right)^{2} + \\frac{1}{2} \\, \\frac{\\partial}{\\partial x}\\pi_{6}\\left(x\\right)^{2} + \\frac{1}{2} \\, \\frac{\\partial}{\\partial x}\\pi_{7}\\left(x\\right)^{2} + \\frac{1}{2} \\, \\frac{\\partial}{\\partial x}\\pi_{8}\\left(x\\right)^{2}</script></html>"
      ],
      "text/plain": [
       "1/2*diff(pi1(x), x)^2 + 1/2*diff(pi2(x), x)^2 + 1/2*diff(pi3(x), x)^2 + 1/2*diff(pi4(x), x)^2 + 1/2*diff(pi5(x), x)^2 + 1/2*diff(pi6(x), x)^2 + 1/2*diff(pi7(x), x)^2 + 1/2*diff(pi8(x), x)^2"
      ]
     },
     "execution_count": 14,
     "metadata": {},
     "output_type": "execute_result"
    }
   ],
   "source": [
    "(term1).full_simplify().coefficient(e**2)"
   ]
  },
  {
   "cell_type": "code",
   "execution_count": 15,
   "id": "80f6f1ec",
   "metadata": {},
   "outputs": [
    {
     "data": {
      "text/html": [
       "<html><script type=\"math/tex; mode=display\">\\newcommand{\\Bold}[1]{\\mathbf{#1}}-\\frac{1}{2} \\, {\\left({\\delta} {\\mu_I} {\\left(\\cos\\left({\\alpha}\\right) + 3\\right)} - 2 \\, {\\delta} {\\mu_S} {\\left(\\cos\\left({\\alpha}\\right) - 1\\right)}\\right)} \\pi_{2}\\left(x\\right) \\frac{\\partial}{\\partial x}\\pi_{1}\\left(x\\right) + \\frac{1}{2} \\, {\\left({\\delta} {\\mu_I} {\\left(\\cos\\left({\\alpha}\\right) + 3\\right)} - 2 \\, {\\delta} {\\mu_S} {\\left(\\cos\\left({\\alpha}\\right) - 1\\right)}\\right)} \\pi_{1}\\left(x\\right) \\frac{\\partial}{\\partial x}\\pi_{2}\\left(x\\right) - \\frac{1}{2} \\, {\\left(2 \\, {\\delta} {\\mu_S} {\\left(\\cos\\left({\\alpha}\\right) + 1\\right)} - {\\delta} {\\mu_I} {\\left(\\cos\\left({\\alpha}\\right) - 3\\right)}\\right)} \\pi_{5}\\left(x\\right) \\frac{\\partial}{\\partial x}\\pi_{4}\\left(x\\right) + \\frac{1}{2} \\, {\\left(2 \\, {\\delta} {\\mu_S} {\\left(\\cos\\left({\\alpha}\\right) + 1\\right)} - {\\delta} {\\mu_I} {\\left(\\cos\\left({\\alpha}\\right) - 3\\right)}\\right)} \\pi_{4}\\left(x\\right) \\frac{\\partial}{\\partial x}\\pi_{5}\\left(x\\right) + {\\left({\\delta} {\\mu_I} \\cos\\left({\\alpha}\\right) - 2 \\, {\\delta} {\\mu_S} \\cos\\left({\\alpha}\\right)\\right)} \\pi_{7}\\left(x\\right) \\frac{\\partial}{\\partial x}\\pi_{6}\\left(x\\right) - {\\left({\\delta} {\\mu_I} \\cos\\left({\\alpha}\\right) - 2 \\, {\\delta} {\\mu_S} \\cos\\left({\\alpha}\\right)\\right)} \\pi_{6}\\left(x\\right) \\frac{\\partial}{\\partial x}\\pi_{7}\\left(x\\right)</script></html>"
      ],
      "text/plain": [
       "-1/2*(d*muI*(cos(a) + 3) - 2*d*muS*(cos(a) - 1))*pi2(x)*diff(pi1(x), x) + 1/2*(d*muI*(cos(a) + 3) - 2*d*muS*(cos(a) - 1))*pi1(x)*diff(pi2(x), x) - 1/2*(2*d*muS*(cos(a) + 1) - d*muI*(cos(a) - 3))*pi5(x)*diff(pi4(x), x) + 1/2*(2*d*muS*(cos(a) + 1) - d*muI*(cos(a) - 3))*pi4(x)*diff(pi5(x), x) + (d*muI*cos(a) - 2*d*muS*cos(a))*pi7(x)*diff(pi6(x), x) - (d*muI*cos(a) - 2*d*muS*cos(a))*pi6(x)*diff(pi7(x), x)"
      ]
     },
     "execution_count": 15,
     "metadata": {},
     "output_type": "execute_result"
    }
   ],
   "source": [
    "2*(term2).full_simplify().coefficient(e**2)"
   ]
  },
  {
   "cell_type": "code",
   "execution_count": 16,
   "id": "3a72249b",
   "metadata": {},
   "outputs": [
    {
     "data": {
      "text/html": [
       "<html><script type=\"math/tex; mode=display\">\\newcommand{\\Bold}[1]{\\mathbf{#1}}-\\frac{1}{16} \\, {\\left({\\left(\\sin\\left({\\alpha}\\right)^{2} - 3 \\, \\cos\\left({\\alpha}\\right) - 5\\right)} {\\delta}^{2} {\\mu_I}^{2} - 4 \\, {\\left(\\sin\\left({\\alpha}\\right)^{2} - \\cos\\left({\\alpha}\\right) + 1\\right)} {\\delta}^{2} {\\mu_I} {\\mu_S} + 4 \\, {\\left(\\sin\\left({\\alpha}\\right)^{2} + \\cos\\left({\\alpha}\\right) - 1\\right)} {\\delta}^{2} {\\mu_S}^{2}\\right)} \\pi_{1}\\left(x\\right)^{2} - \\frac{1}{16} \\, {\\left({\\left(\\sin\\left({\\alpha}\\right)^{2} - 3 \\, \\cos\\left({\\alpha}\\right) - 5\\right)} {\\delta}^{2} {\\mu_I}^{2} - 4 \\, {\\left(\\sin\\left({\\alpha}\\right)^{2} - \\cos\\left({\\alpha}\\right) + 1\\right)} {\\delta}^{2} {\\mu_I} {\\mu_S} + 4 \\, {\\left(\\sin\\left({\\alpha}\\right)^{2} + \\cos\\left({\\alpha}\\right) - 1\\right)} {\\delta}^{2} {\\mu_S}^{2}\\right)} \\pi_{2}\\left(x\\right)^{2} - \\frac{1}{32} \\, {\\left({\\delta}^{2} {\\mu_I}^{2} \\sin\\left({\\alpha}\\right)^{2} - 4 \\, {\\delta}^{2} {\\mu_I} {\\mu_S} \\sin\\left({\\alpha}\\right)^{2} + 4 \\, {\\delta}^{2} {\\mu_S}^{2} \\sin\\left({\\alpha}\\right)^{2}\\right)} \\pi_{3}\\left(x\\right)^{2} - \\frac{1}{16} \\, {\\left({\\left(\\sin\\left({\\alpha}\\right)^{2} + 3 \\, \\cos\\left({\\alpha}\\right) - 5\\right)} {\\delta}^{2} {\\mu_I}^{2} - 4 \\, {\\left(\\sin\\left({\\alpha}\\right)^{2} + \\cos\\left({\\alpha}\\right) + 1\\right)} {\\delta}^{2} {\\mu_I} {\\mu_S} + 4 \\, {\\left(\\sin\\left({\\alpha}\\right)^{2} - \\cos\\left({\\alpha}\\right) - 1\\right)} {\\delta}^{2} {\\mu_S}^{2}\\right)} \\pi_{4}\\left(x\\right)^{2} - \\frac{1}{16} \\, {\\left({\\left(\\sin\\left({\\alpha}\\right)^{2} + 3 \\, \\cos\\left({\\alpha}\\right) - 5\\right)} {\\delta}^{2} {\\mu_I}^{2} - 4 \\, {\\left(\\sin\\left({\\alpha}\\right)^{2} + \\cos\\left({\\alpha}\\right) + 1\\right)} {\\delta}^{2} {\\mu_I} {\\mu_S} + 4 \\, {\\left(\\sin\\left({\\alpha}\\right)^{2} - \\cos\\left({\\alpha}\\right) - 1\\right)} {\\delta}^{2} {\\mu_S}^{2}\\right)} \\pi_{5}\\left(x\\right)^{2} - \\frac{1}{8} \\, {\\left({\\left(\\sin\\left({\\alpha}\\right)^{2} - 1\\right)} {\\delta}^{2} {\\mu_I}^{2} - 4 \\, {\\left(\\sin\\left({\\alpha}\\right)^{2} - 1\\right)} {\\delta}^{2} {\\mu_I} {\\mu_S} + 4 \\, {\\left(\\sin\\left({\\alpha}\\right)^{2} - 1\\right)} {\\delta}^{2} {\\mu_S}^{2}\\right)} \\pi_{6}\\left(x\\right)^{2} - \\frac{1}{8} \\, {\\left({\\left(2 \\, \\sin\\left({\\alpha}\\right)^{2} - 1\\right)} {\\delta}^{2} {\\mu_I}^{2} - 4 \\, {\\left(2 \\, \\sin\\left({\\alpha}\\right)^{2} - 1\\right)} {\\delta}^{2} {\\mu_I} {\\mu_S} + 4 \\, {\\left(2 \\, \\sin\\left({\\alpha}\\right)^{2} - 1\\right)} {\\delta}^{2} {\\mu_S}^{2}\\right)} \\pi_{7}\\left(x\\right)^{2} + \\frac{1}{16} \\, {\\left(\\sqrt{3} {\\delta}^{2} {\\mu_I}^{2} \\sin\\left({\\alpha}\\right)^{2} - 4 \\, \\sqrt{3} {\\delta}^{2} {\\mu_I} {\\mu_S} \\sin\\left({\\alpha}\\right)^{2} + 4 \\, \\sqrt{3} {\\delta}^{2} {\\mu_S}^{2} \\sin\\left({\\alpha}\\right)^{2}\\right)} \\pi_{3}\\left(x\\right) \\pi_{8}\\left(x\\right) - \\frac{3}{32} \\, {\\left({\\delta}^{2} {\\mu_I}^{2} \\sin\\left({\\alpha}\\right)^{2} - 4 \\, {\\delta}^{2} {\\mu_I} {\\mu_S} \\sin\\left({\\alpha}\\right)^{2} + 4 \\, {\\delta}^{2} {\\mu_S}^{2} \\sin\\left({\\alpha}\\right)^{2}\\right)} \\pi_{8}\\left(x\\right)^{2}</script></html>"
      ],
      "text/plain": [
       "-1/16*((sin(a)^2 - 3*cos(a) - 5)*d^2*muI^2 - 4*(sin(a)^2 - cos(a) + 1)*d^2*muI*muS + 4*(sin(a)^2 + cos(a) - 1)*d^2*muS^2)*pi1(x)^2 - 1/16*((sin(a)^2 - 3*cos(a) - 5)*d^2*muI^2 - 4*(sin(a)^2 - cos(a) + 1)*d^2*muI*muS + 4*(sin(a)^2 + cos(a) - 1)*d^2*muS^2)*pi2(x)^2 - 1/32*(d^2*muI^2*sin(a)^2 - 4*d^2*muI*muS*sin(a)^2 + 4*d^2*muS^2*sin(a)^2)*pi3(x)^2 - 1/16*((sin(a)^2 + 3*cos(a) - 5)*d^2*muI^2 - 4*(sin(a)^2 + cos(a) + 1)*d^2*muI*muS + 4*(sin(a)^2 - cos(a) - 1)*d^2*muS^2)*pi4(x)^2 - 1/16*((sin(a)^2 + 3*cos(a) - 5)*d^2*muI^2 - 4*(sin(a)^2 + cos(a) + 1)*d^2*muI*muS + 4*(sin(a)^2 - cos(a) - 1)*d^2*muS^2)*pi5(x)^2 - 1/8*((sin(a)^2 - 1)*d^2*muI^2 - 4*(sin(a)^2 - 1)*d^2*muI*muS + 4*(sin(a)^2 - 1)*d^2*muS^2)*pi6(x)^2 - 1/8*((2*sin(a)^2 - 1)*d^2*muI^2 - 4*(2*sin(a)^2 - 1)*d^2*muI*muS + 4*(2*sin(a)^2 - 1)*d^2*muS^2)*pi7(x)^2 + 1/16*(sqrt(3)*d^2*muI^2*sin(a)^2 - 4*sqrt(3)*d^2*muI*muS*sin(a)^2 + 4*sqrt(3)*d^2*muS^2*sin(a)^2)*pi3(x)*pi8(x) - 3/32*(d^2*muI^2*sin(a)^2 - 4*d^2*muI*muS*sin(a)^2 + 4*d^2*muS^2*sin(a)^2)*pi8(x)^2"
      ]
     },
     "execution_count": 16,
     "metadata": {},
     "output_type": "execute_result"
    }
   ],
   "source": [
    "term3.full_simplify().coefficient(e**2)"
   ]
  },
  {
   "cell_type": "code",
   "execution_count": 17,
   "id": "0bc664ae",
   "metadata": {},
   "outputs": [
    {
     "data": {
      "text/html": [
       "<html><script type=\"math/tex; mode=display\">\\newcommand{\\Bold}[1]{\\mathbf{#1}}-\\frac{1}{8} \\, {\\left({\\bar m}^{2} {\\left(\\cos\\left({\\alpha}\\right) + 3\\right)} + {\\Delta m}^{2} {\\left(\\cos\\left({\\alpha}\\right) - 1\\right)} + {m_S}^{2} {\\left(\\cos\\left({\\alpha}\\right) - 1\\right)}\\right)} \\pi_{1}\\left(x\\right)^{2} - \\frac{1}{8} \\, {\\left({\\bar m}^{2} {\\left(\\cos\\left({\\alpha}\\right) + 3\\right)} + {\\Delta m}^{2} {\\left(\\cos\\left({\\alpha}\\right) - 1\\right)} + {m_S}^{2} {\\left(\\cos\\left({\\alpha}\\right) - 1\\right)}\\right)} \\pi_{2}\\left(x\\right)^{2} - \\frac{1}{8} \\, {\\left({\\bar m}^{2} {\\left(\\cos\\left({\\alpha}\\right) + 3\\right)} + {\\Delta m}^{2} {\\left(\\cos\\left({\\alpha}\\right) - 1\\right)} + {m_S}^{2} {\\left(\\cos\\left({\\alpha}\\right) - 1\\right)}\\right)} \\pi_{3}\\left(x\\right)^{2} - \\frac{1}{8} \\, {\\left({m_S}^{2} {\\left(\\cos\\left({\\alpha}\\right) + 1\\right)} + {\\bar m}^{2} {\\left(\\cos\\left({\\alpha}\\right) + 1\\right)} + {\\Delta m}^{2} {\\left(\\cos\\left({\\alpha}\\right) - 3\\right)}\\right)} \\pi_{4}\\left(x\\right)^{2} - \\frac{1}{8} \\, {\\left({m_S}^{2} {\\left(\\cos\\left({\\alpha}\\right) + 1\\right)} + {\\bar m}^{2} {\\left(\\cos\\left({\\alpha}\\right) + 1\\right)} + {\\Delta m}^{2} {\\left(\\cos\\left({\\alpha}\\right) - 3\\right)}\\right)} \\pi_{5}\\left(x\\right)^{2} - \\frac{1}{4} \\, {\\left({\\Delta m}^{2} \\cos\\left({\\alpha}\\right) + {m_S}^{2} \\cos\\left({\\alpha}\\right) + {\\bar m}^{2} \\cos\\left({\\alpha}\\right)\\right)} \\pi_{6}\\left(x\\right)^{2} - \\frac{1}{4} \\, {\\left({\\Delta m}^{2} \\cos\\left({\\alpha}\\right) + {m_S}^{2} \\cos\\left({\\alpha}\\right) + {\\bar m}^{2} \\cos\\left({\\alpha}\\right)\\right)} \\pi_{7}\\left(x\\right)^{2} + \\frac{1}{12} \\, {\\left({\\left(\\sqrt{3} \\cos\\left({\\alpha}\\right) + 3 \\, \\sqrt{3}\\right)} {\\Delta m}^{2} + {\\left(\\sqrt{3} \\cos\\left({\\alpha}\\right) - \\sqrt{3}\\right)} {m_S}^{2} + {\\left(\\sqrt{3} \\cos\\left({\\alpha}\\right) - \\sqrt{3}\\right)} {\\bar m}^{2}\\right)} \\pi_{3}\\left(x\\right) \\pi_{8}\\left(x\\right) - \\frac{1}{24} \\, {\\left({m_S}^{2} {\\left(5 \\, \\cos\\left({\\alpha}\\right) + 3\\right)} + {\\bar m}^{2} {\\left(5 \\, \\cos\\left({\\alpha}\\right) - 1\\right)} + 5 \\, {\\Delta m}^{2} {\\left(\\cos\\left({\\alpha}\\right) - 1\\right)}\\right)} \\pi_{8}\\left(x\\right)^{2}</script></html>"
      ],
      "text/plain": [
       "-1/8*(mbar^2*(cos(a) + 3) + dm^2*(cos(a) - 1) + mS^2*(cos(a) - 1))*pi1(x)^2 - 1/8*(mbar^2*(cos(a) + 3) + dm^2*(cos(a) - 1) + mS^2*(cos(a) - 1))*pi2(x)^2 - 1/8*(mbar^2*(cos(a) + 3) + dm^2*(cos(a) - 1) + mS^2*(cos(a) - 1))*pi3(x)^2 - 1/8*(mS^2*(cos(a) + 1) + mbar^2*(cos(a) + 1) + dm^2*(cos(a) - 3))*pi4(x)^2 - 1/8*(mS^2*(cos(a) + 1) + mbar^2*(cos(a) + 1) + dm^2*(cos(a) - 3))*pi5(x)^2 - 1/4*(dm^2*cos(a) + mS^2*cos(a) + mbar^2*cos(a))*pi6(x)^2 - 1/4*(dm^2*cos(a) + mS^2*cos(a) + mbar^2*cos(a))*pi7(x)^2 + 1/12*((sqrt(3)*cos(a) + 3*sqrt(3))*dm^2 + (sqrt(3)*cos(a) - sqrt(3))*mS^2 + (sqrt(3)*cos(a) - sqrt(3))*mbar^2)*pi3(x)*pi8(x) - 1/24*(mS^2*(5*cos(a) + 3) + mbar^2*(5*cos(a) - 1) + 5*dm^2*(cos(a) - 1))*pi8(x)^2"
      ]
     },
     "execution_count": 17,
     "metadata": {},
     "output_type": "execute_result"
    }
   ],
   "source": [
    "mass_term.full_simplify().coefficient(e**2)"
   ]
  },
  {
   "cell_type": "code",
   "execution_count": 18,
   "id": "769e5eb7",
   "metadata": {},
   "outputs": [
    {
     "data": {
      "text/html": [
       "<html><script type=\"math/tex; mode=display\">\\newcommand{\\Bold}[1]{\\mathbf{#1}}\\frac{1}{8} \\, {\\left({\\left(\\sin\\left({\\alpha}\\right)^{2} - 3 \\, \\cos\\left({\\alpha}\\right) - 5\\right)} {\\delta}^{2} {\\mu_I}^{2} - 4 \\, {\\left(\\sin\\left({\\alpha}\\right)^{2} - \\cos\\left({\\alpha}\\right) + 1\\right)} {\\delta}^{2} {\\mu_I} {\\mu_S} + 4 \\, {\\left(\\sin\\left({\\alpha}\\right)^{2} + \\cos\\left({\\alpha}\\right) - 1\\right)} {\\delta}^{2} {\\mu_S}^{2} + 2 \\, {\\bar m}^{2} {\\left(\\cos\\left({\\alpha}\\right) + 3\\right)} + 2 \\, {\\Delta m}^{2} {\\left(\\cos\\left({\\alpha}\\right) - 1\\right)} + 2 \\, {m_S}^{2} {\\left(\\cos\\left({\\alpha}\\right) - 1\\right)}\\right)} \\pi_{1}\\left(x\\right)^{2} + \\frac{1}{8} \\, {\\left({\\left(\\sin\\left({\\alpha}\\right)^{2} - 3 \\, \\cos\\left({\\alpha}\\right) - 5\\right)} {\\delta}^{2} {\\mu_I}^{2} - 4 \\, {\\left(\\sin\\left({\\alpha}\\right)^{2} - \\cos\\left({\\alpha}\\right) + 1\\right)} {\\delta}^{2} {\\mu_I} {\\mu_S} + 4 \\, {\\left(\\sin\\left({\\alpha}\\right)^{2} + \\cos\\left({\\alpha}\\right) - 1\\right)} {\\delta}^{2} {\\mu_S}^{2} + 2 \\, {\\bar m}^{2} {\\left(\\cos\\left({\\alpha}\\right) + 3\\right)} + 2 \\, {\\Delta m}^{2} {\\left(\\cos\\left({\\alpha}\\right) - 1\\right)} + 2 \\, {m_S}^{2} {\\left(\\cos\\left({\\alpha}\\right) - 1\\right)}\\right)} \\pi_{2}\\left(x\\right)^{2} + \\frac{1}{16} \\, {\\left({\\delta}^{2} {\\mu_I}^{2} \\sin\\left({\\alpha}\\right)^{2} - 4 \\, {\\delta}^{2} {\\mu_I} {\\mu_S} \\sin\\left({\\alpha}\\right)^{2} + 4 \\, {\\delta}^{2} {\\mu_S}^{2} \\sin\\left({\\alpha}\\right)^{2} + 4 \\, {\\bar m}^{2} {\\left(\\cos\\left({\\alpha}\\right) + 3\\right)} + 4 \\, {\\Delta m}^{2} {\\left(\\cos\\left({\\alpha}\\right) - 1\\right)} + 4 \\, {m_S}^{2} {\\left(\\cos\\left({\\alpha}\\right) - 1\\right)}\\right)} \\pi_{3}\\left(x\\right)^{2} + \\frac{1}{8} \\, {\\left({\\left(\\sin\\left({\\alpha}\\right)^{2} + 3 \\, \\cos\\left({\\alpha}\\right) - 5\\right)} {\\delta}^{2} {\\mu_I}^{2} - 4 \\, {\\left(\\sin\\left({\\alpha}\\right)^{2} + \\cos\\left({\\alpha}\\right) + 1\\right)} {\\delta}^{2} {\\mu_I} {\\mu_S} + 4 \\, {\\left(\\sin\\left({\\alpha}\\right)^{2} - \\cos\\left({\\alpha}\\right) - 1\\right)} {\\delta}^{2} {\\mu_S}^{2} + 2 \\, {m_S}^{2} {\\left(\\cos\\left({\\alpha}\\right) + 1\\right)} + 2 \\, {\\bar m}^{2} {\\left(\\cos\\left({\\alpha}\\right) + 1\\right)} + 2 \\, {\\Delta m}^{2} {\\left(\\cos\\left({\\alpha}\\right) - 3\\right)}\\right)} \\pi_{4}\\left(x\\right)^{2} + \\frac{1}{8} \\, {\\left({\\left(\\sin\\left({\\alpha}\\right)^{2} + 3 \\, \\cos\\left({\\alpha}\\right) - 5\\right)} {\\delta}^{2} {\\mu_I}^{2} - 4 \\, {\\left(\\sin\\left({\\alpha}\\right)^{2} + \\cos\\left({\\alpha}\\right) + 1\\right)} {\\delta}^{2} {\\mu_I} {\\mu_S} + 4 \\, {\\left(\\sin\\left({\\alpha}\\right)^{2} - \\cos\\left({\\alpha}\\right) - 1\\right)} {\\delta}^{2} {\\mu_S}^{2} + 2 \\, {m_S}^{2} {\\left(\\cos\\left({\\alpha}\\right) + 1\\right)} + 2 \\, {\\bar m}^{2} {\\left(\\cos\\left({\\alpha}\\right) + 1\\right)} + 2 \\, {\\Delta m}^{2} {\\left(\\cos\\left({\\alpha}\\right) - 3\\right)}\\right)} \\pi_{5}\\left(x\\right)^{2} + \\frac{1}{4} \\, {\\left({\\left(\\sin\\left({\\alpha}\\right)^{2} - 1\\right)} {\\delta}^{2} {\\mu_I}^{2} - 4 \\, {\\left(\\sin\\left({\\alpha}\\right)^{2} - 1\\right)} {\\delta}^{2} {\\mu_I} {\\mu_S} + 4 \\, {\\left(\\sin\\left({\\alpha}\\right)^{2} - 1\\right)} {\\delta}^{2} {\\mu_S}^{2} + 2 \\, {\\Delta m}^{2} \\cos\\left({\\alpha}\\right) + 2 \\, {m_S}^{2} \\cos\\left({\\alpha}\\right) + 2 \\, {\\bar m}^{2} \\cos\\left({\\alpha}\\right)\\right)} \\pi_{6}\\left(x\\right)^{2} + \\frac{1}{4} \\, {\\left({\\left(2 \\, \\sin\\left({\\alpha}\\right)^{2} - 1\\right)} {\\delta}^{2} {\\mu_I}^{2} - 4 \\, {\\left(2 \\, \\sin\\left({\\alpha}\\right)^{2} - 1\\right)} {\\delta}^{2} {\\mu_I} {\\mu_S} + 4 \\, {\\left(2 \\, \\sin\\left({\\alpha}\\right)^{2} - 1\\right)} {\\delta}^{2} {\\mu_S}^{2} + 2 \\, {\\Delta m}^{2} \\cos\\left({\\alpha}\\right) + 2 \\, {m_S}^{2} \\cos\\left({\\alpha}\\right) + 2 \\, {\\bar m}^{2} \\cos\\left({\\alpha}\\right)\\right)} \\pi_{7}\\left(x\\right)^{2} - \\frac{1}{24} \\, {\\left(3 \\, \\sqrt{3} {\\delta}^{2} {\\mu_I}^{2} \\sin\\left({\\alpha}\\right)^{2} - 12 \\, \\sqrt{3} {\\delta}^{2} {\\mu_I} {\\mu_S} \\sin\\left({\\alpha}\\right)^{2} + 12 \\, \\sqrt{3} {\\delta}^{2} {\\mu_S}^{2} \\sin\\left({\\alpha}\\right)^{2} + 4 \\, {\\left(\\sqrt{3} \\cos\\left({\\alpha}\\right) + 3 \\, \\sqrt{3}\\right)} {\\Delta m}^{2} + 4 \\, {\\left(\\sqrt{3} \\cos\\left({\\alpha}\\right) - \\sqrt{3}\\right)} {m_S}^{2} + 4 \\, {\\left(\\sqrt{3} \\cos\\left({\\alpha}\\right) - \\sqrt{3}\\right)} {\\bar m}^{2}\\right)} \\pi_{3}\\left(x\\right) \\pi_{8}\\left(x\\right) + \\frac{1}{48} \\, {\\left(9 \\, {\\delta}^{2} {\\mu_I}^{2} \\sin\\left({\\alpha}\\right)^{2} - 36 \\, {\\delta}^{2} {\\mu_I} {\\mu_S} \\sin\\left({\\alpha}\\right)^{2} + 36 \\, {\\delta}^{2} {\\mu_S}^{2} \\sin\\left({\\alpha}\\right)^{2} + 4 \\, {m_S}^{2} {\\left(5 \\, \\cos\\left({\\alpha}\\right) + 3\\right)} + 4 \\, {\\bar m}^{2} {\\left(5 \\, \\cos\\left({\\alpha}\\right) - 1\\right)} + 20 \\, {\\Delta m}^{2} {\\left(\\cos\\left({\\alpha}\\right) - 1\\right)}\\right)} \\pi_{8}\\left(x\\right)^{2}</script></html>"
      ],
      "text/plain": [
       "1/8*((sin(a)^2 - 3*cos(a) - 5)*d^2*muI^2 - 4*(sin(a)^2 - cos(a) + 1)*d^2*muI*muS + 4*(sin(a)^2 + cos(a) - 1)*d^2*muS^2 + 2*mbar^2*(cos(a) + 3) + 2*dm^2*(cos(a) - 1) + 2*mS^2*(cos(a) - 1))*pi1(x)^2 + 1/8*((sin(a)^2 - 3*cos(a) - 5)*d^2*muI^2 - 4*(sin(a)^2 - cos(a) + 1)*d^2*muI*muS + 4*(sin(a)^2 + cos(a) - 1)*d^2*muS^2 + 2*mbar^2*(cos(a) + 3) + 2*dm^2*(cos(a) - 1) + 2*mS^2*(cos(a) - 1))*pi2(x)^2 + 1/16*(d^2*muI^2*sin(a)^2 - 4*d^2*muI*muS*sin(a)^2 + 4*d^2*muS^2*sin(a)^2 + 4*mbar^2*(cos(a) + 3) + 4*dm^2*(cos(a) - 1) + 4*mS^2*(cos(a) - 1))*pi3(x)^2 + 1/8*((sin(a)^2 + 3*cos(a) - 5)*d^2*muI^2 - 4*(sin(a)^2 + cos(a) + 1)*d^2*muI*muS + 4*(sin(a)^2 - cos(a) - 1)*d^2*muS^2 + 2*mS^2*(cos(a) + 1) + 2*mbar^2*(cos(a) + 1) + 2*dm^2*(cos(a) - 3))*pi4(x)^2 + 1/8*((sin(a)^2 + 3*cos(a) - 5)*d^2*muI^2 - 4*(sin(a)^2 + cos(a) + 1)*d^2*muI*muS + 4*(sin(a)^2 - cos(a) - 1)*d^2*muS^2 + 2*mS^2*(cos(a) + 1) + 2*mbar^2*(cos(a) + 1) + 2*dm^2*(cos(a) - 3))*pi5(x)^2 + 1/4*((sin(a)^2 - 1)*d^2*muI^2 - 4*(sin(a)^2 - 1)*d^2*muI*muS + 4*(sin(a)^2 - 1)*d^2*muS^2 + 2*dm^2*cos(a) + 2*mS^2*cos(a) + 2*mbar^2*cos(a))*pi6(x)^2 + 1/4*((2*sin(a)^2 - 1)*d^2*muI^2 - 4*(2*sin(a)^2 - 1)*d^2*muI*muS + 4*(2*sin(a)^2 - 1)*d^2*muS^2 + 2*dm^2*cos(a) + 2*mS^2*cos(a) + 2*mbar^2*cos(a))*pi7(x)^2 - 1/24*(3*sqrt(3)*d^2*muI^2*sin(a)^2 - 12*sqrt(3)*d^2*muI*muS*sin(a)^2 + 12*sqrt(3)*d^2*muS^2*sin(a)^2 + 4*(sqrt(3)*cos(a) + 3*sqrt(3))*dm^2 + 4*(sqrt(3)*cos(a) - sqrt(3))*mS^2 + 4*(sqrt(3)*cos(a) - sqrt(3))*mbar^2)*pi3(x)*pi8(x) + 1/48*(9*d^2*muI^2*sin(a)^2 - 36*d^2*muI*muS*sin(a)^2 + 36*d^2*muS^2*sin(a)^2 + 4*mS^2*(5*cos(a) + 3) + 4*mbar^2*(5*cos(a) - 1) + 20*dm^2*(cos(a) - 1))*pi8(x)^2"
      ]
     },
     "execution_count": 18,
     "metadata": {},
     "output_type": "execute_result"
    }
   ],
   "source": [
    "-2*(term3 + mass_term).coefficient(e**2).full_simplify()"
   ]
  },
  {
   "cell_type": "code",
   "execution_count": null,
   "id": "1ce74b7f",
   "metadata": {},
   "outputs": [],
   "source": []
  }
 ],
 "metadata": {
  "kernelspec": {
   "display_name": "SageMath 9.0",
   "language": "sage",
   "name": "sagemath"
  },
  "language_info": {
   "codemirror_mode": {
    "name": "ipython",
    "version": 3
   },
   "file_extension": ".py",
   "mimetype": "text/x-python",
   "name": "python",
   "nbconvert_exporter": "python",
   "pygments_lexer": "ipython3",
   "version": "3.8.10"
  }
 },
 "nbformat": 4,
 "nbformat_minor": 5
}
