{
 "cells": [
  {
   "cell_type": "code",
   "execution_count": 1,
   "id": "b35e7d13",
   "metadata": {},
   "outputs": [],
   "source": [
    "%display latex\n",
    "load(\"three_flavor.sage\")"
   ]
  },
  {
   "cell_type": "code",
   "execution_count": 2,
   "id": "ddcb84e6",
   "metadata": {},
   "outputs": [],
   "source": [
    "n = 2\n",
    "v = v_em + v_mu\n",
    "\n",
    "exp_l_a = lambda l, a: (one - l**2) + l**2 * cos(a) + i *l * sin(a)\n",
    "# pion condensate\n",
    "A = exp_l_a(l2, a/2)\n",
    "U = lambda n: EXP(I * pi_s/f, n)\n",
    "U_d = lambda n: EXP(-I * pi_s/f, n)\n",
    "\n",
    "SIGMA = lambda n: mat_prep(A * U(n) * A, n)\n",
    "SIGMA_d = lambda n: mat_prep(A.C.T * U_d(n) * A.C.T, n)"
   ]
  },
  {
   "cell_type": "code",
   "execution_count": 3,
   "id": "1330e164",
   "metadata": {},
   "outputs": [],
   "source": [
    "S = SIGMA(n)\n",
    "Sd = SIGMA_d(n)"
   ]
  },
  {
   "cell_type": "code",
   "execution_count": 4,
   "id": "0e321b7f",
   "metadata": {},
   "outputs": [],
   "source": [
    "dS = diff(S, x) # nabla_mu Sigma\n",
    "dSd = diff(Sd, x)\n",
    "COM = v*S - S*v # [v_mu, Sigma]\n",
    "COMd = Sd*v - v*Sd\n",
    "\n",
    "dS = mat_prep(dS, n)\n",
    "dSd = mat_prep(dSd, n)\n",
    "COM = mat_prep(COM, n)\n",
    "COMd = mat_prep(COMd, n)"
   ]
  },
  {
   "cell_type": "code",
   "execution_count": 5,
   "id": "3e5b098b",
   "metadata": {},
   "outputs": [
    {
     "data": {
      "text/html": [
       "<html><script type=\"math/tex; mode=display\">\\newcommand{\\Bold}[1]{\\mathbf{#1}}{\\Delta m_\\mathrm{EM}}</script></html>"
      ],
      "text/plain": [
       "dmem"
      ]
     },
     "execution_count": 5,
     "metadata": {},
     "output_type": "execute_result"
    }
   ],
   "source": [
    "var(\"dmem\", latex_name=\"\\\\Delta m_\\\\mathrm{EM}\")"
   ]
  },
  {
   "cell_type": "code",
   "execution_count": 6,
   "id": "73d62ad1",
   "metadata": {},
   "outputs": [],
   "source": [
    "term1 = mat_prep(dS*(dSd), n) \n",
    "term2 = -I*mat_prep(dS*(-COMd) + COM*dSd, n)\n",
    "term3 = mat_prep(COM*COMd, n)\n",
    "\n",
    "term1 = term1.trace().trig_reduce().full_simplify()\n",
    "term2 = term2.trace().trig_reduce().full_simplify()\n",
    "term3 = term3.trace().trig_reduce().full_simplify()\n",
    "\n",
    "mass_term = (chi*Sd + S*chi).trace().trig_reduce().full_simplify()\n",
    "em_term = 1/2*dmem**2*f**2*(Q*S*Q*Sd)\n",
    "em_term = mat_prep(em_term, n).trace().trig_reduce().full_simplify()\n",
    "\n",
    "term1, term2, term3, mass_term = (f^2/4 * term for term in [term1, term2, term3, mass_term])"
   ]
  },
  {
   "cell_type": "code",
   "execution_count": 7,
   "id": "3f491782",
   "metadata": {},
   "outputs": [
    {
     "data": {
      "text/html": [
       "<html><script type=\"math/tex; mode=display\">\\newcommand{\\Bold}[1]{\\mathbf{#1}}\\frac{1}{2} \\, {\\varepsilon}^{2} \\frac{\\partial}{\\partial x}\\pi_1\\left(x\\right)^{2} + \\frac{1}{2} \\, {\\varepsilon}^{2} \\frac{\\partial}{\\partial x}\\pi_2\\left(x\\right)^{2} + \\frac{1}{2} \\, {\\varepsilon}^{2} \\frac{\\partial}{\\partial x}\\pi_3\\left(x\\right)^{2} + \\frac{1}{2} \\, {\\varepsilon}^{2} \\frac{\\partial}{\\partial x}\\pi_4\\left(x\\right)^{2} + \\frac{1}{2} \\, {\\varepsilon}^{2} \\frac{\\partial}{\\partial x}\\pi_5\\left(x\\right)^{2} + \\frac{1}{2} \\, {\\varepsilon}^{2} \\frac{\\partial}{\\partial x}\\pi_6\\left(x\\right)^{2} + \\frac{1}{2} \\, {\\varepsilon}^{2} \\frac{\\partial}{\\partial x}\\pi_7\\left(x\\right)^{2} + \\frac{1}{2} \\, {\\varepsilon}^{2} \\frac{\\partial}{\\partial x}\\pi_8\\left(x\\right)^{2}</script></html>"
      ],
      "text/plain": [
       "1/2*e^2*diff(pi1(x), x)^2 + 1/2*e^2*diff(pi2(x), x)^2 + 1/2*e^2*diff(pi3(x), x)^2 + 1/2*e^2*diff(pi4(x), x)^2 + 1/2*e^2*diff(pi5(x), x)^2 + 1/2*e^2*diff(pi6(x), x)^2 + 1/2*e^2*diff(pi7(x), x)^2 + 1/2*e^2*diff(pi8(x), x)^2"
      ]
     },
     "execution_count": 7,
     "metadata": {},
     "output_type": "execute_result"
    }
   ],
   "source": [
    "term1"
   ]
  },
  {
   "cell_type": "code",
   "execution_count": 8,
   "id": "50f2648a",
   "metadata": {},
   "outputs": [
    {
     "data": {
      "text/html": [
       "<html><script type=\"math/tex; mode=display\">\\newcommand{\\Bold}[1]{\\mathbf{#1}}{\\left({\\delta} {\\varepsilon}^{2} {\\mu_I} \\cos\\left({\\alpha}\\right) + {\\mathcal A_\\mu} {\\varepsilon}^{2} {e} \\cos\\left({\\alpha}\\right)\\right)} \\pi_1\\left(x\\right) \\frac{\\partial}{\\partial x}\\pi_2\\left(x\\right) - \\frac{1}{2} \\, {\\left({\\delta} {\\varepsilon}^{2} {\\mu_I} \\cos\\left({\\alpha}\\right) + 2 \\, {\\delta} {\\varepsilon}^{2} {\\mu_S} + {\\left({\\mathcal A_\\mu} \\cos\\left({\\alpha}\\right) + {\\mathcal A_\\mu}\\right)} {\\varepsilon}^{2} {e}\\right)} \\pi_5\\left(x\\right) \\frac{\\partial}{\\partial x}\\pi_4\\left(x\\right) + \\frac{1}{2} \\, {\\left({\\delta} {\\varepsilon}^{2} {\\mu_I} \\cos\\left({\\alpha}\\right) + 2 \\, {\\delta} {\\varepsilon}^{2} {\\mu_S} + {\\left({\\mathcal A_\\mu} \\cos\\left({\\alpha}\\right) + {\\mathcal A_\\mu}\\right)} {\\varepsilon}^{2} {e}\\right)} \\pi_4\\left(x\\right) \\frac{\\partial}{\\partial x}\\pi_5\\left(x\\right) + \\frac{1}{2} \\, {\\left({\\delta} {\\varepsilon}^{2} {\\mu_I} \\cos\\left({\\alpha}\\right) - 2 \\, {\\delta} {\\varepsilon}^{2} {\\mu_S} + {\\left({\\mathcal A_\\mu} \\cos\\left({\\alpha}\\right) - {\\mathcal A_\\mu}\\right)} {\\varepsilon}^{2} {e}\\right)} \\pi_7\\left(x\\right) \\frac{\\partial}{\\partial x}\\pi_6\\left(x\\right) - \\frac{1}{2} \\, {\\left({\\delta} {\\varepsilon}^{2} {\\mu_I} \\cos\\left({\\alpha}\\right) - 2 \\, {\\delta} {\\varepsilon}^{2} {\\mu_S} + {\\left({\\mathcal A_\\mu} \\cos\\left({\\alpha}\\right) - {\\mathcal A_\\mu}\\right)} {\\varepsilon}^{2} {e}\\right)} \\pi_6\\left(x\\right) \\frac{\\partial}{\\partial x}\\pi_7\\left(x\\right) - {\\left({\\delta} {\\varepsilon} f {\\mu_I} \\sin\\left({\\alpha}\\right) + {\\mathcal A_\\mu} {\\varepsilon} f {e} \\sin\\left({\\alpha}\\right) + {\\left({\\delta} {\\varepsilon}^{2} {\\mu_I} \\cos\\left({\\alpha}\\right) + {\\mathcal A_\\mu} {\\varepsilon}^{2} {e} \\cos\\left({\\alpha}\\right)\\right)} \\pi_2\\left(x\\right)\\right)} \\frac{\\partial}{\\partial x}\\pi_1\\left(x\\right)</script></html>"
      ],
      "text/plain": [
       "(d*e^2*muI*cos(a) + A_mu*e^2*qe*cos(a))*pi1(x)*diff(pi2(x), x) - 1/2*(d*e^2*muI*cos(a) + 2*d*e^2*muS + (A_mu*cos(a) + A_mu)*e^2*qe)*pi5(x)*diff(pi4(x), x) + 1/2*(d*e^2*muI*cos(a) + 2*d*e^2*muS + (A_mu*cos(a) + A_mu)*e^2*qe)*pi4(x)*diff(pi5(x), x) + 1/2*(d*e^2*muI*cos(a) - 2*d*e^2*muS + (A_mu*cos(a) - A_mu)*e^2*qe)*pi7(x)*diff(pi6(x), x) - 1/2*(d*e^2*muI*cos(a) - 2*d*e^2*muS + (A_mu*cos(a) - A_mu)*e^2*qe)*pi6(x)*diff(pi7(x), x) - (d*e*f*muI*sin(a) + A_mu*e*f*qe*sin(a) + (d*e^2*muI*cos(a) + A_mu*e^2*qe*cos(a))*pi2(x))*diff(pi1(x), x)"
      ]
     },
     "execution_count": 8,
     "metadata": {},
     "output_type": "execute_result"
    }
   ],
   "source": [
    "term2"
   ]
  },
  {
   "cell_type": "code",
   "execution_count": 9,
   "id": "a7f174c4",
   "metadata": {},
   "outputs": [
    {
     "data": {
      "text/html": [
       "<html><script type=\"math/tex; mode=display\">\\newcommand{\\Bold}[1]{\\mathbf{#1}}-\\frac{1}{2} \\, {\\left(\\cos\\left({\\alpha}\\right)^{2} - 1\\right)} {\\delta}^{2} f^{2} {\\mu_I}^{2} - {\\left({\\mathcal A_\\mu} \\cos\\left({\\alpha}\\right)^{2} - {\\mathcal A_\\mu}\\right)} {\\delta} f^{2} {\\mu_I} {e} - \\frac{1}{2} \\, {\\left({\\mathcal A_\\mu}^{2} \\cos\\left({\\alpha}\\right)^{2} - {\\mathcal A_\\mu}^{2}\\right)} f^{2} {e}^{2} + \\frac{1}{2} \\, {\\left({\\delta}^{2} {\\varepsilon}^{2} {\\mu_I}^{2} \\cos\\left({\\alpha}\\right)^{2} + 2 \\, {\\mathcal A_\\mu} {\\delta} {\\varepsilon}^{2} {\\mu_I} {e} \\cos\\left({\\alpha}\\right)^{2} + {\\mathcal A_\\mu}^{2} {\\varepsilon}^{2} {e}^{2} \\cos\\left({\\alpha}\\right)^{2}\\right)} \\pi_1\\left(x\\right)^{2} + \\frac{1}{2} \\, {\\left({\\left(2 \\, \\cos\\left({\\alpha}\\right)^{2} - 1\\right)} {\\delta}^{2} {\\varepsilon}^{2} {\\mu_I}^{2} + 2 \\, {\\left(2 \\, {\\mathcal A_\\mu} \\cos\\left({\\alpha}\\right)^{2} - {\\mathcal A_\\mu}\\right)} {\\delta} {\\varepsilon}^{2} {\\mu_I} {e} + {\\left(2 \\, {\\mathcal A_\\mu}^{2} \\cos\\left({\\alpha}\\right)^{2} - {\\mathcal A_\\mu}^{2}\\right)} {\\varepsilon}^{2} {e}^{2}\\right)} \\pi_2\\left(x\\right)^{2} + \\frac{1}{2} \\, {\\left({\\left(\\cos\\left({\\alpha}\\right)^{2} - 1\\right)} {\\delta}^{2} {\\varepsilon}^{2} {\\mu_I}^{2} + 2 \\, {\\left({\\mathcal A_\\mu} \\cos\\left({\\alpha}\\right)^{2} - {\\mathcal A_\\mu}\\right)} {\\delta} {\\varepsilon}^{2} {\\mu_I} {e} + {\\left({\\mathcal A_\\mu}^{2} \\cos\\left({\\alpha}\\right)^{2} - {\\mathcal A_\\mu}^{2}\\right)} {\\varepsilon}^{2} {e}^{2}\\right)} \\pi_3\\left(x\\right)^{2} + \\frac{1}{8} \\, {\\left({\\left(2 \\, \\cos\\left({\\alpha}\\right)^{2} - 1\\right)} {\\delta}^{2} {\\varepsilon}^{2} {\\mu_I}^{2} + 4 \\, {\\delta}^{2} {\\varepsilon}^{2} {\\mu_I} {\\mu_S} \\cos\\left({\\alpha}\\right) + 4 \\, {\\delta}^{2} {\\varepsilon}^{2} {\\mu_S}^{2} + 2 \\, {\\left({\\mathcal A_\\mu}^{2} \\cos\\left({\\alpha}\\right)^{2} + {\\mathcal A_\\mu}^{2} \\cos\\left({\\alpha}\\right)\\right)} {\\varepsilon}^{2} {e}^{2} + 2 \\, {\\left({\\left(2 \\, {\\mathcal A_\\mu} \\cos\\left({\\alpha}\\right)^{2} + {\\mathcal A_\\mu} \\cos\\left({\\alpha}\\right) - {\\mathcal A_\\mu}\\right)} {\\delta} {\\varepsilon}^{2} {\\mu_I} + 2 \\, {\\left({\\mathcal A_\\mu} \\cos\\left({\\alpha}\\right) + {\\mathcal A_\\mu}\\right)} {\\delta} {\\varepsilon}^{2} {\\mu_S}\\right)} {e}\\right)} \\pi_4\\left(x\\right)^{2} + \\frac{1}{8} \\, {\\left({\\left(2 \\, \\cos\\left({\\alpha}\\right)^{2} - 1\\right)} {\\delta}^{2} {\\varepsilon}^{2} {\\mu_I}^{2} + 4 \\, {\\delta}^{2} {\\varepsilon}^{2} {\\mu_I} {\\mu_S} \\cos\\left({\\alpha}\\right) + 4 \\, {\\delta}^{2} {\\varepsilon}^{2} {\\mu_S}^{2} + 2 \\, {\\left({\\mathcal A_\\mu}^{2} \\cos\\left({\\alpha}\\right)^{2} + {\\mathcal A_\\mu}^{2} \\cos\\left({\\alpha}\\right)\\right)} {\\varepsilon}^{2} {e}^{2} + 2 \\, {\\left({\\left(2 \\, {\\mathcal A_\\mu} \\cos\\left({\\alpha}\\right)^{2} + {\\mathcal A_\\mu} \\cos\\left({\\alpha}\\right) - {\\mathcal A_\\mu}\\right)} {\\delta} {\\varepsilon}^{2} {\\mu_I} + 2 \\, {\\left({\\mathcal A_\\mu} \\cos\\left({\\alpha}\\right) + {\\mathcal A_\\mu}\\right)} {\\delta} {\\varepsilon}^{2} {\\mu_S}\\right)} {e}\\right)} \\pi_5\\left(x\\right)^{2} + \\frac{1}{8} \\, {\\left({\\left(2 \\, \\cos\\left({\\alpha}\\right)^{2} - 1\\right)} {\\delta}^{2} {\\varepsilon}^{2} {\\mu_I}^{2} - 4 \\, {\\delta}^{2} {\\varepsilon}^{2} {\\mu_I} {\\mu_S} \\cos\\left({\\alpha}\\right) + 4 \\, {\\delta}^{2} {\\varepsilon}^{2} {\\mu_S}^{2} + 2 \\, {\\left({\\mathcal A_\\mu}^{2} \\cos\\left({\\alpha}\\right)^{2} - {\\mathcal A_\\mu}^{2} \\cos\\left({\\alpha}\\right)\\right)} {\\varepsilon}^{2} {e}^{2} + 2 \\, {\\left({\\left(2 \\, {\\mathcal A_\\mu} \\cos\\left({\\alpha}\\right)^{2} - {\\mathcal A_\\mu} \\cos\\left({\\alpha}\\right) - {\\mathcal A_\\mu}\\right)} {\\delta} {\\varepsilon}^{2} {\\mu_I} - 2 \\, {\\left({\\mathcal A_\\mu} \\cos\\left({\\alpha}\\right) - {\\mathcal A_\\mu}\\right)} {\\delta} {\\varepsilon}^{2} {\\mu_S}\\right)} {e}\\right)} \\pi_6\\left(x\\right)^{2} + \\frac{1}{8} \\, {\\left({\\left(2 \\, \\cos\\left({\\alpha}\\right)^{2} - 1\\right)} {\\delta}^{2} {\\varepsilon}^{2} {\\mu_I}^{2} - 4 \\, {\\delta}^{2} {\\varepsilon}^{2} {\\mu_I} {\\mu_S} \\cos\\left({\\alpha}\\right) + 4 \\, {\\delta}^{2} {\\varepsilon}^{2} {\\mu_S}^{2} + 2 \\, {\\left({\\mathcal A_\\mu}^{2} \\cos\\left({\\alpha}\\right)^{2} - {\\mathcal A_\\mu}^{2} \\cos\\left({\\alpha}\\right)\\right)} {\\varepsilon}^{2} {e}^{2} + 2 \\, {\\left({\\left(2 \\, {\\mathcal A_\\mu} \\cos\\left({\\alpha}\\right)^{2} - {\\mathcal A_\\mu} \\cos\\left({\\alpha}\\right) - {\\mathcal A_\\mu}\\right)} {\\delta} {\\varepsilon}^{2} {\\mu_I} - 2 \\, {\\left({\\mathcal A_\\mu} \\cos\\left({\\alpha}\\right) - {\\mathcal A_\\mu}\\right)} {\\delta} {\\varepsilon}^{2} {\\mu_S}\\right)} {e}\\right)} \\pi_7\\left(x\\right)^{2} + {\\left({\\delta}^{2} {\\varepsilon} f {\\mu_I}^{2} \\cos\\left({\\alpha}\\right) \\sin\\left({\\alpha}\\right) + 2 \\, {\\mathcal A_\\mu} {\\delta} {\\varepsilon} f {\\mu_I} {e} \\cos\\left({\\alpha}\\right) \\sin\\left({\\alpha}\\right) + {\\mathcal A_\\mu}^{2} {\\varepsilon} f {e}^{2} \\cos\\left({\\alpha}\\right) \\sin\\left({\\alpha}\\right)\\right)} \\pi_2\\left(x\\right)</script></html>"
      ],
      "text/plain": [
       "-1/2*(cos(a)^2 - 1)*d^2*f^2*muI^2 - (A_mu*cos(a)^2 - A_mu)*d*f^2*muI*qe - 1/2*(A_mu^2*cos(a)^2 - A_mu^2)*f^2*qe^2 + 1/2*(d^2*e^2*muI^2*cos(a)^2 + 2*A_mu*d*e^2*muI*qe*cos(a)^2 + A_mu^2*e^2*qe^2*cos(a)^2)*pi1(x)^2 + 1/2*((2*cos(a)^2 - 1)*d^2*e^2*muI^2 + 2*(2*A_mu*cos(a)^2 - A_mu)*d*e^2*muI*qe + (2*A_mu^2*cos(a)^2 - A_mu^2)*e^2*qe^2)*pi2(x)^2 + 1/2*((cos(a)^2 - 1)*d^2*e^2*muI^2 + 2*(A_mu*cos(a)^2 - A_mu)*d*e^2*muI*qe + (A_mu^2*cos(a)^2 - A_mu^2)*e^2*qe^2)*pi3(x)^2 + 1/8*((2*cos(a)^2 - 1)*d^2*e^2*muI^2 + 4*d^2*e^2*muI*muS*cos(a) + 4*d^2*e^2*muS^2 + 2*(A_mu^2*cos(a)^2 + A_mu^2*cos(a))*e^2*qe^2 + 2*((2*A_mu*cos(a)^2 + A_mu*cos(a) - A_mu)*d*e^2*muI + 2*(A_mu*cos(a) + A_mu)*d*e^2*muS)*qe)*pi4(x)^2 + 1/8*((2*cos(a)^2 - 1)*d^2*e^2*muI^2 + 4*d^2*e^2*muI*muS*cos(a) + 4*d^2*e^2*muS^2 + 2*(A_mu^2*cos(a)^2 + A_mu^2*cos(a))*e^2*qe^2 + 2*((2*A_mu*cos(a)^2 + A_mu*cos(a) - A_mu)*d*e^2*muI + 2*(A_mu*cos(a) + A_mu)*d*e^2*muS)*qe)*pi5(x)^2 + 1/8*((2*cos(a)^2 - 1)*d^2*e^2*muI^2 - 4*d^2*e^2*muI*muS*cos(a) + 4*d^2*e^2*muS^2 + 2*(A_mu^2*cos(a)^2 - A_mu^2*cos(a))*e^2*qe^2 + 2*((2*A_mu*cos(a)^2 - A_mu*cos(a) - A_mu)*d*e^2*muI - 2*(A_mu*cos(a) - A_mu)*d*e^2*muS)*qe)*pi6(x)^2 + 1/8*((2*cos(a)^2 - 1)*d^2*e^2*muI^2 - 4*d^2*e^2*muI*muS*cos(a) + 4*d^2*e^2*muS^2 + 2*(A_mu^2*cos(a)^2 - A_mu^2*cos(a))*e^2*qe^2 + 2*((2*A_mu*cos(a)^2 - A_mu*cos(a) - A_mu)*d*e^2*muI - 2*(A_mu*cos(a) - A_mu)*d*e^2*muS)*qe)*pi7(x)^2 + (d^2*e*f*muI^2*cos(a)*sin(a) + 2*A_mu*d*e*f*muI*qe*cos(a)*sin(a) + A_mu^2*e*f*qe^2*cos(a)*sin(a))*pi2(x)"
      ]
     },
     "execution_count": 9,
     "metadata": {},
     "output_type": "execute_result"
    }
   ],
   "source": [
    "term3"
   ]
  },
  {
   "cell_type": "code",
   "execution_count": 10,
   "id": "40f47713",
   "metadata": {},
   "outputs": [
    {
     "data": {
      "text/html": [
       "<html><script type=\"math/tex; mode=display\">\\newcommand{\\Bold}[1]{\\mathbf{#1}}\\frac{1}{2} \\, {\\bar m}^{2} \\cos\\left({\\alpha}\\right) \\pi_1\\left(x\\right)^{2} + \\frac{1}{2} \\, {\\bar m}^{2} \\cos\\left({\\alpha}\\right) \\pi_2\\left(x\\right)^{2} + \\frac{1}{2} \\, {\\bar m}^{2} \\cos\\left({\\alpha}\\right) \\pi_3\\left(x\\right)^{2} - \\frac{1}{3} \\, \\sqrt{3} {\\Delta m}^{2} \\pi_3\\left(x\\right) \\pi_8\\left(x\\right) + \\frac{1}{4} \\, {\\left({\\bar m}^{2} \\cos\\left({\\alpha}\\right) - {\\Delta m}^{2} + {m_S}^{2}\\right)} \\pi_4\\left(x\\right)^{2} + \\frac{1}{4} \\, {\\left({\\bar m}^{2} \\cos\\left({\\alpha}\\right) - {\\Delta m}^{2} + {m_S}^{2}\\right)} \\pi_5\\left(x\\right)^{2} + \\frac{1}{4} \\, {\\left({\\bar m}^{2} \\cos\\left({\\alpha}\\right) + {\\Delta m}^{2} + {m_S}^{2}\\right)} \\pi_6\\left(x\\right)^{2} + \\frac{1}{4} \\, {\\left({\\bar m}^{2} \\cos\\left({\\alpha}\\right) + {\\Delta m}^{2} + {m_S}^{2}\\right)} \\pi_7\\left(x\\right)^{2} + \\frac{1}{6} \\, {\\left({\\bar m}^{2} \\cos\\left({\\alpha}\\right) + 2 \\, {m_S}^{2}\\right)} \\pi_8\\left(x\\right)^{2}</script></html>"
      ],
      "text/plain": [
       "1/2*mbar^2*cos(a)*pi1(x)^2 + 1/2*mbar^2*cos(a)*pi2(x)^2 + 1/2*mbar^2*cos(a)*pi3(x)^2 - 1/3*sqrt(3)*dm^2*pi3(x)*pi8(x) + 1/4*(mbar^2*cos(a) - dm^2 + mS^2)*pi4(x)^2 + 1/4*(mbar^2*cos(a) - dm^2 + mS^2)*pi5(x)^2 + 1/4*(mbar^2*cos(a) + dm^2 + mS^2)*pi6(x)^2 + 1/4*(mbar^2*cos(a) + dm^2 + mS^2)*pi7(x)^2 + 1/6*(mbar^2*cos(a) + 2*mS^2)*pi8(x)^2"
      ]
     },
     "execution_count": 10,
     "metadata": {},
     "output_type": "execute_result"
    }
   ],
   "source": [
    "-mass_term.coefficient(e**2)"
   ]
  },
  {
   "cell_type": "code",
   "execution_count": 11,
   "id": "77106202",
   "metadata": {},
   "outputs": [
    {
     "data": {
      "text/html": [
       "<html><script type=\"math/tex; mode=display\">\\newcommand{\\Bold}[1]{\\mathbf{#1}}-\\frac{1}{2} \\, {\\delta}^{2} {\\mu_I}^{2} \\cos\\left({\\alpha}\\right)^{2} \\pi_1\\left(x\\right)^{2} - \\frac{1}{2} \\, {\\left(2 \\, \\cos\\left({\\alpha}\\right)^{2} - 1\\right)} {\\delta}^{2} {\\mu_I}^{2} \\pi_2\\left(x\\right)^{2} - \\frac{1}{2} \\, {\\left(\\cos\\left({\\alpha}\\right)^{2} - 1\\right)} {\\delta}^{2} {\\mu_I}^{2} \\pi_3\\left(x\\right)^{2} - \\frac{1}{8} \\, {\\left({\\left(2 \\, \\cos\\left({\\alpha}\\right)^{2} - 1\\right)} {\\delta}^{2} {\\mu_I}^{2} + 4 \\, {\\delta}^{2} {\\mu_I} {\\mu_S} \\cos\\left({\\alpha}\\right) + 4 \\, {\\delta}^{2} {\\mu_S}^{2}\\right)} \\pi_4\\left(x\\right)^{2} - \\frac{1}{8} \\, {\\left({\\left(2 \\, \\cos\\left({\\alpha}\\right)^{2} - 1\\right)} {\\delta}^{2} {\\mu_I}^{2} + 4 \\, {\\delta}^{2} {\\mu_I} {\\mu_S} \\cos\\left({\\alpha}\\right) + 4 \\, {\\delta}^{2} {\\mu_S}^{2}\\right)} \\pi_5\\left(x\\right)^{2} - \\frac{1}{8} \\, {\\left({\\left(2 \\, \\cos\\left({\\alpha}\\right)^{2} - 1\\right)} {\\delta}^{2} {\\mu_I}^{2} - 4 \\, {\\delta}^{2} {\\mu_I} {\\mu_S} \\cos\\left({\\alpha}\\right) + 4 \\, {\\delta}^{2} {\\mu_S}^{2}\\right)} \\pi_6\\left(x\\right)^{2} - \\frac{1}{8} \\, {\\left({\\left(2 \\, \\cos\\left({\\alpha}\\right)^{2} - 1\\right)} {\\delta}^{2} {\\mu_I}^{2} - 4 \\, {\\delta}^{2} {\\mu_I} {\\mu_S} \\cos\\left({\\alpha}\\right) + 4 \\, {\\delta}^{2} {\\mu_S}^{2}\\right)} \\pi_7\\left(x\\right)^{2}</script></html>"
      ],
      "text/plain": [
       "-1/2*d^2*muI^2*cos(a)^2*pi1(x)^2 - 1/2*(2*cos(a)^2 - 1)*d^2*muI^2*pi2(x)^2 - 1/2*(cos(a)^2 - 1)*d^2*muI^2*pi3(x)^2 - 1/8*((2*cos(a)^2 - 1)*d^2*muI^2 + 4*d^2*muI*muS*cos(a) + 4*d^2*muS^2)*pi4(x)^2 - 1/8*((2*cos(a)^2 - 1)*d^2*muI^2 + 4*d^2*muI*muS*cos(a) + 4*d^2*muS^2)*pi5(x)^2 - 1/8*((2*cos(a)^2 - 1)*d^2*muI^2 - 4*d^2*muI*muS*cos(a) + 4*d^2*muS^2)*pi6(x)^2 - 1/8*((2*cos(a)^2 - 1)*d^2*muI^2 - 4*d^2*muI*muS*cos(a) + 4*d^2*muS^2)*pi7(x)^2"
      ]
     },
     "execution_count": 11,
     "metadata": {},
     "output_type": "execute_result"
    }
   ],
   "source": [
    "term3.substitute(A_mu==0)\n",
    "(-term3).coefficient(e**2).substitute(A_mu==0)"
   ]
  },
  {
   "cell_type": "code",
   "execution_count": 12,
   "id": "91702dd0",
   "metadata": {},
   "outputs": [
    {
     "data": {
      "text/html": [
       "<html><script type=\"math/tex; mode=display\">\\newcommand{\\Bold}[1]{\\mathbf{#1}}-\\frac{1}{2} \\, {\\Delta m_\\mathrm{EM}}^{2} \\pi_3\\left(x\\right)^{2} \\sin\\left({\\alpha}\\right)^{2} - \\frac{1}{2} \\, {\\left(\\sin\\left({\\alpha}\\right)^{2} - 1\\right)} {\\Delta m_\\mathrm{EM}}^{2} \\pi_1\\left(x\\right)^{2} - \\frac{1}{2} \\, {\\left(2 \\, \\sin\\left({\\alpha}\\right)^{2} - 1\\right)} {\\Delta m_\\mathrm{EM}}^{2} \\pi_2\\left(x\\right)^{2} - \\frac{1}{4} \\, {\\left(\\sin\\left({\\alpha}\\right)^{2} - \\cos\\left({\\alpha}\\right) - 1\\right)} {\\Delta m_\\mathrm{EM}}^{2} \\pi_4\\left(x\\right)^{2} - \\frac{1}{4} \\, {\\left(\\sin\\left({\\alpha}\\right)^{2} - \\cos\\left({\\alpha}\\right) - 1\\right)} {\\Delta m_\\mathrm{EM}}^{2} \\pi_5\\left(x\\right)^{2} - \\frac{1}{4} \\, {\\left(\\sin\\left({\\alpha}\\right)^{2} + \\cos\\left({\\alpha}\\right) - 1\\right)} {\\Delta m_\\mathrm{EM}}^{2} \\pi_6\\left(x\\right)^{2} - \\frac{1}{4} \\, {\\left(\\sin\\left({\\alpha}\\right)^{2} + \\cos\\left({\\alpha}\\right) - 1\\right)} {\\Delta m_\\mathrm{EM}}^{2} \\pi_7\\left(x\\right)^{2}</script></html>"
      ],
      "text/plain": [
       "-1/2*dmem^2*pi3(x)^2*sin(a)^2 - 1/2*(sin(a)^2 - 1)*dmem^2*pi1(x)^2 - 1/2*(2*sin(a)^2 - 1)*dmem^2*pi2(x)^2 - 1/4*(sin(a)^2 - cos(a) - 1)*dmem^2*pi4(x)^2 - 1/4*(sin(a)^2 - cos(a) - 1)*dmem^2*pi5(x)^2 - 1/4*(sin(a)^2 + cos(a) - 1)*dmem^2*pi6(x)^2 - 1/4*(sin(a)^2 + cos(a) - 1)*dmem^2*pi7(x)^2"
      ]
     },
     "execution_count": 12,
     "metadata": {},
     "output_type": "execute_result"
    }
   ],
   "source": [
    "(-em_term).coefficient(e**2).simplify()"
   ]
  },
  {
   "cell_type": "code",
   "execution_count": 45,
   "id": "ecfe5a6d",
   "metadata": {},
   "outputs": [
    {
     "data": {
      "text/html": [
       "<html><script type=\"math/tex; mode=display\">\\newcommand{\\Bold}[1]{\\mathbf{#1}}2 \\, \\cos\\left({\\alpha}\\right)^{2} - 1</script></html>"
      ],
      "text/plain": [
       "2*cos(a)^2 - 1"
      ]
     },
     "execution_count": 45,
     "metadata": {},
     "output_type": "execute_result"
    }
   ],
   "source": [
    "cos(2*a).full_simplify()"
   ]
  },
  {
   "cell_type": "code",
   "execution_count": 46,
   "id": "6bdf4dba",
   "metadata": {},
   "outputs": [
    {
     "data": {
      "text/html": [
       "<html><script type=\"math/tex; mode=display\">\\newcommand{\\Bold}[1]{\\mathbf{#1}}-\\frac{1}{2} \\, \\cos\\left(2 \\, {\\alpha}\\right) - \\frac{1}{2}</script></html>"
      ],
      "text/plain": [
       "-1/2*cos(2*a) - 1/2"
      ]
     },
     "execution_count": 46,
     "metadata": {},
     "output_type": "execute_result"
    }
   ],
   "source": [
    "(sin(a)**2-1).trig_reduce()"
   ]
  },
  {
   "cell_type": "code",
   "execution_count": 14,
   "id": "5088d4a8",
   "metadata": {},
   "outputs": [
    {
     "data": {
      "text/html": [
       "<html><script type=\"math/tex; mode=display\">\\newcommand{\\Bold}[1]{\\mathbf{#1}}-\\cos\\left(2 \\, {\\alpha}\\right)</script></html>"
      ],
      "text/plain": [
       "-cos(2*a)"
      ]
     },
     "execution_count": 14,
     "metadata": {},
     "output_type": "execute_result"
    }
   ],
   "source": [
    "(2*sin(a)**2-1).trig_reduce()"
   ]
  },
  {
   "cell_type": "code",
   "execution_count": 15,
   "id": "88dd7e22",
   "metadata": {},
   "outputs": [
    {
     "data": {
      "text/html": [
       "<html><script type=\"math/tex; mode=display\">\\newcommand{\\Bold}[1]{\\mathbf{#1}}\\cos\\left(2 \\, {\\alpha}\\right)</script></html>"
      ],
      "text/plain": [
       "cos(2*a)"
      ]
     },
     "execution_count": 15,
     "metadata": {},
     "output_type": "execute_result"
    }
   ],
   "source": [
    "(2*cos(a)**2-1).trig_reduce()"
   ]
  },
  {
   "cell_type": "code",
   "execution_count": 16,
   "id": "cc2fd888",
   "metadata": {},
   "outputs": [],
   "source": [
    "k1 = (-2*(mass_term+term3+em_term)).expand().full_simplify().coefficient(e**2).expand()\n",
    "k2 = (k1+2/sqrt(3)*dm**2*p[2]*p[7]).full_simplify() - 2/sqrt(3)*dm**2*p[2]*p[7]"
   ]
  },
  {
   "cell_type": "code",
   "execution_count": 17,
   "id": "3c095638",
   "metadata": {},
   "outputs": [
    {
     "data": {
      "text/html": [
       "<html><script type=\"math/tex; mode=display\">\\newcommand{\\Bold}[1]{\\mathbf{#1}}-\\frac{1}{2} \\, {\\varepsilon}^{2} {\\bar m}^{2} \\cos\\left({\\alpha}\\right) \\pi_1\\left(x\\right)^{2} - \\frac{1}{2} \\, {\\varepsilon}^{2} {\\bar m}^{2} \\cos\\left({\\alpha}\\right) \\pi_2\\left(x\\right)^{2} - \\frac{1}{2} \\, {\\varepsilon}^{2} {\\bar m}^{2} \\cos\\left({\\alpha}\\right) \\pi_3\\left(x\\right)^{2} + \\frac{1}{3} \\, \\sqrt{3} {\\Delta m}^{2} {\\varepsilon}^{2} \\pi_3\\left(x\\right) \\pi_8\\left(x\\right) - {\\varepsilon} f {\\bar m}^{2} \\pi_2\\left(x\\right) \\sin\\left({\\alpha}\\right) + f^{2} {\\bar m}^{2} \\cos\\left({\\alpha}\\right) + \\frac{1}{2} \\, f^{2} {m_S}^{2} - \\frac{1}{4} \\, {\\left({\\varepsilon}^{2} {\\bar m}^{2} \\cos\\left({\\alpha}\\right) - {\\Delta m}^{2} {\\varepsilon}^{2} + {\\varepsilon}^{2} {m_S}^{2}\\right)} \\pi_4\\left(x\\right)^{2} - \\frac{1}{4} \\, {\\left({\\varepsilon}^{2} {\\bar m}^{2} \\cos\\left({\\alpha}\\right) - {\\Delta m}^{2} {\\varepsilon}^{2} + {\\varepsilon}^{2} {m_S}^{2}\\right)} \\pi_5\\left(x\\right)^{2} - \\frac{1}{4} \\, {\\left({\\varepsilon}^{2} {\\bar m}^{2} \\cos\\left({\\alpha}\\right) + {\\Delta m}^{2} {\\varepsilon}^{2} + {\\varepsilon}^{2} {m_S}^{2}\\right)} \\pi_6\\left(x\\right)^{2} - \\frac{1}{4} \\, {\\left({\\varepsilon}^{2} {\\bar m}^{2} \\cos\\left({\\alpha}\\right) + {\\Delta m}^{2} {\\varepsilon}^{2} + {\\varepsilon}^{2} {m_S}^{2}\\right)} \\pi_7\\left(x\\right)^{2} - \\frac{1}{6} \\, {\\left({\\varepsilon}^{2} {\\bar m}^{2} \\cos\\left({\\alpha}\\right) + 2 \\, {\\varepsilon}^{2} {m_S}^{2}\\right)} \\pi_8\\left(x\\right)^{2}</script></html>"
      ],
      "text/plain": [
       "-1/2*e^2*mbar^2*cos(a)*pi1(x)^2 - 1/2*e^2*mbar^2*cos(a)*pi2(x)^2 - 1/2*e^2*mbar^2*cos(a)*pi3(x)^2 + 1/3*sqrt(3)*dm^2*e^2*pi3(x)*pi8(x) - e*f*mbar^2*pi2(x)*sin(a) + f^2*mbar^2*cos(a) + 1/2*f^2*mS^2 - 1/4*(e^2*mbar^2*cos(a) - dm^2*e^2 + e^2*mS^2)*pi4(x)^2 - 1/4*(e^2*mbar^2*cos(a) - dm^2*e^2 + e^2*mS^2)*pi5(x)^2 - 1/4*(e^2*mbar^2*cos(a) + dm^2*e^2 + e^2*mS^2)*pi6(x)^2 - 1/4*(e^2*mbar^2*cos(a) + dm^2*e^2 + e^2*mS^2)*pi7(x)^2 - 1/6*(e^2*mbar^2*cos(a) + 2*e^2*mS^2)*pi8(x)^2"
      ]
     },
     "execution_count": 17,
     "metadata": {},
     "output_type": "execute_result"
    }
   ],
   "source": [
    "mass_term"
   ]
  },
  {
   "cell_type": "code",
   "execution_count": 18,
   "id": "984a79b5",
   "metadata": {},
   "outputs": [
    {
     "data": {
      "text/html": [
       "<html><script type=\"math/tex; mode=display\">\\newcommand{\\Bold}[1]{\\mathbf{#1}}\\frac{1}{2} \\, {\\varepsilon}^{2} \\frac{\\partial}{\\partial x}\\pi_1\\left(x\\right)^{2} + \\frac{1}{2} \\, {\\varepsilon}^{2} \\frac{\\partial}{\\partial x}\\pi_2\\left(x\\right)^{2} + \\frac{1}{2} \\, {\\varepsilon}^{2} \\frac{\\partial}{\\partial x}\\pi_3\\left(x\\right)^{2} + \\frac{1}{2} \\, {\\varepsilon}^{2} \\frac{\\partial}{\\partial x}\\pi_4\\left(x\\right)^{2} + \\frac{1}{2} \\, {\\varepsilon}^{2} \\frac{\\partial}{\\partial x}\\pi_5\\left(x\\right)^{2} + \\frac{1}{2} \\, {\\varepsilon}^{2} \\frac{\\partial}{\\partial x}\\pi_6\\left(x\\right)^{2} + \\frac{1}{2} \\, {\\varepsilon}^{2} \\frac{\\partial}{\\partial x}\\pi_7\\left(x\\right)^{2} + \\frac{1}{2} \\, {\\varepsilon}^{2} \\frac{\\partial}{\\partial x}\\pi_8\\left(x\\right)^{2}</script></html>"
      ],
      "text/plain": [
       "1/2*e^2*diff(pi1(x), x)^2 + 1/2*e^2*diff(pi2(x), x)^2 + 1/2*e^2*diff(pi3(x), x)^2 + 1/2*e^2*diff(pi4(x), x)^2 + 1/2*e^2*diff(pi5(x), x)^2 + 1/2*e^2*diff(pi6(x), x)^2 + 1/2*e^2*diff(pi7(x), x)^2 + 1/2*e^2*diff(pi8(x), x)^2"
      ]
     },
     "execution_count": 18,
     "metadata": {},
     "output_type": "execute_result"
    }
   ],
   "source": [
    "term1"
   ]
  },
  {
   "cell_type": "code",
   "execution_count": 19,
   "id": "9996b8d2",
   "metadata": {},
   "outputs": [
    {
     "name": "stdout",
     "output_type": "stream",
     "text": [
      "{\\delta}^{2} {\\mu_I}^{2} \\pi_1\\left(x\\right)^{2} \\sin\\left({\\alpha}\\right)^{2} + 2 \\, {\\mathcal A_\\mu} {\\delta} {\\mu_I} {e} \\pi_1\\left(x\\right)^{2} \\sin\\left({\\alpha}\\right)^{2} + {\\mathcal A_\\mu}^{2} {e}^{2} \\pi_1\\left(x\\right)^{2} \\sin\\left({\\alpha}\\right)^{2} + 2 \\, {\\delta}^{2} {\\mu_I}^{2} \\pi_2\\left(x\\right)^{2} \\sin\\left({\\alpha}\\right)^{2} + 4 \\, {\\mathcal A_\\mu} {\\delta} {\\mu_I} {e} \\pi_2\\left(x\\right)^{2} \\sin\\left({\\alpha}\\right)^{2} + 2 \\, {\\mathcal A_\\mu}^{2} {e}^{2} \\pi_2\\left(x\\right)^{2} \\sin\\left({\\alpha}\\right)^{2} + {\\delta}^{2} {\\mu_I}^{2} \\pi_3\\left(x\\right)^{2} \\sin\\left({\\alpha}\\right)^{2} + 2 \\, {\\mathcal A_\\mu} {\\delta} {\\mu_I} {e} \\pi_3\\left(x\\right)^{2} \\sin\\left({\\alpha}\\right)^{2} + {\\mathcal A_\\mu}^{2} {e}^{2} \\pi_3\\left(x\\right)^{2} \\sin\\left({\\alpha}\\right)^{2} + \\frac{1}{2} \\, {\\delta}^{2} {\\mu_I}^{2} \\pi_4\\left(x\\right)^{2} \\sin\\left({\\alpha}\\right)^{2} + {\\mathcal A_\\mu} {\\delta} {\\mu_I} {e} \\pi_4\\left(x\\right)^{2} \\sin\\left({\\alpha}\\right)^{2} + \\frac{1}{2} \\, {\\mathcal A_\\mu}^{2} {e}^{2} \\pi_4\\left(x\\right)^{2} \\sin\\left({\\alpha}\\right)^{2} + \\frac{1}{2} \\, {\\delta}^{2} {\\mu_I}^{2} \\pi_5\\left(x\\right)^{2} \\sin\\left({\\alpha}\\right)^{2} + {\\mathcal A_\\mu} {\\delta} {\\mu_I} {e} \\pi_5\\left(x\\right)^{2} \\sin\\left({\\alpha}\\right)^{2} + \\frac{1}{2} \\, {\\mathcal A_\\mu}^{2} {e}^{2} \\pi_5\\left(x\\right)^{2} \\sin\\left({\\alpha}\\right)^{2} + \\frac{1}{2} \\, {\\delta}^{2} {\\mu_I}^{2} \\pi_6\\left(x\\right)^{2} \\sin\\left({\\alpha}\\right)^{2} + {\\mathcal A_\\mu} {\\delta} {\\mu_I} {e} \\pi_6\\left(x\\right)^{2} \\sin\\left({\\alpha}\\right)^{2} + \\frac{1}{2} \\, {\\mathcal A_\\mu}^{2} {e}^{2} \\pi_6\\left(x\\right)^{2} \\sin\\left({\\alpha}\\right)^{2} + \\frac{1}{2} \\, {\\delta}^{2} {\\mu_I}^{2} \\pi_7\\left(x\\right)^{2} \\sin\\left({\\alpha}\\right)^{2} + {\\mathcal A_\\mu} {\\delta} {\\mu_I} {e} \\pi_7\\left(x\\right)^{2} \\sin\\left({\\alpha}\\right)^{2} + \\frac{1}{2} \\, {\\mathcal A_\\mu}^{2} {e}^{2} \\pi_7\\left(x\\right)^{2} \\sin\\left({\\alpha}\\right)^{2} - {\\delta}^{2} {\\mu_I} {\\mu_S} \\cos\\left({\\alpha}\\right) \\pi_4\\left(x\\right)^{2} - \\frac{1}{2} \\, {\\mathcal A_\\mu} {\\delta} {\\mu_I} {e} \\cos\\left({\\alpha}\\right) \\pi_4\\left(x\\right)^{2} - {\\mathcal A_\\mu} {\\delta} {\\mu_S} {e} \\cos\\left({\\alpha}\\right) \\pi_4\\left(x\\right)^{2} - \\frac{1}{2} \\, {\\mathcal A_\\mu}^{2} {e}^{2} \\cos\\left({\\alpha}\\right) \\pi_4\\left(x\\right)^{2} - {\\delta}^{2} {\\mu_I} {\\mu_S} \\cos\\left({\\alpha}\\right) \\pi_5\\left(x\\right)^{2} - \\frac{1}{2} \\, {\\mathcal A_\\mu} {\\delta} {\\mu_I} {e} \\cos\\left({\\alpha}\\right) \\pi_5\\left(x\\right)^{2} - {\\mathcal A_\\mu} {\\delta} {\\mu_S} {e} \\cos\\left({\\alpha}\\right) \\pi_5\\left(x\\right)^{2} - \\frac{1}{2} \\, {\\mathcal A_\\mu}^{2} {e}^{2} \\cos\\left({\\alpha}\\right) \\pi_5\\left(x\\right)^{2} + {\\delta}^{2} {\\mu_I} {\\mu_S} \\cos\\left({\\alpha}\\right) \\pi_6\\left(x\\right)^{2} + \\frac{1}{2} \\, {\\mathcal A_\\mu} {\\delta} {\\mu_I} {e} \\cos\\left({\\alpha}\\right) \\pi_6\\left(x\\right)^{2} + {\\mathcal A_\\mu} {\\delta} {\\mu_S} {e} \\cos\\left({\\alpha}\\right) \\pi_6\\left(x\\right)^{2} + \\frac{1}{2} \\, {\\mathcal A_\\mu}^{2} {e}^{2} \\cos\\left({\\alpha}\\right) \\pi_6\\left(x\\right)^{2} + {\\delta}^{2} {\\mu_I} {\\mu_S} \\cos\\left({\\alpha}\\right) \\pi_7\\left(x\\right)^{2} + \\frac{1}{2} \\, {\\mathcal A_\\mu} {\\delta} {\\mu_I} {e} \\cos\\left({\\alpha}\\right) \\pi_7\\left(x\\right)^{2} + {\\mathcal A_\\mu} {\\delta} {\\mu_S} {e} \\cos\\left({\\alpha}\\right) \\pi_7\\left(x\\right)^{2} + \\frac{1}{2} \\, {\\mathcal A_\\mu}^{2} {e}^{2} \\cos\\left({\\alpha}\\right) \\pi_7\\left(x\\right)^{2} - {\\delta}^{2} {\\mu_I}^{2} \\pi_1\\left(x\\right)^{2} - 2 \\, {\\mathcal A_\\mu} {\\delta} {\\mu_I} {e} \\pi_1\\left(x\\right)^{2} - {\\mathcal A_\\mu}^{2} {e}^{2} \\pi_1\\left(x\\right)^{2} - {\\delta}^{2} {\\mu_I}^{2} \\pi_2\\left(x\\right)^{2} - 2 \\, {\\mathcal A_\\mu} {\\delta} {\\mu_I} {e} \\pi_2\\left(x\\right)^{2} - {\\mathcal A_\\mu}^{2} {e}^{2} \\pi_2\\left(x\\right)^{2} - \\frac{1}{4} \\, {\\delta}^{2} {\\mu_I}^{2} \\pi_4\\left(x\\right)^{2} - {\\delta}^{2} {\\mu_S}^{2} \\pi_4\\left(x\\right)^{2} - \\frac{1}{2} \\, {\\mathcal A_\\mu} {\\delta} {\\mu_I} {e} \\pi_4\\left(x\\right)^{2} - {\\mathcal A_\\mu} {\\delta} {\\mu_S} {e} \\pi_4\\left(x\\right)^{2} - \\frac{1}{2} \\, {\\mathcal A_\\mu}^{2} {e}^{2} \\pi_4\\left(x\\right)^{2} - \\frac{1}{4} \\, {\\delta}^{2} {\\mu_I}^{2} \\pi_5\\left(x\\right)^{2} - {\\delta}^{2} {\\mu_S}^{2} \\pi_5\\left(x\\right)^{2} - \\frac{1}{2} \\, {\\mathcal A_\\mu} {\\delta} {\\mu_I} {e} \\pi_5\\left(x\\right)^{2} - {\\mathcal A_\\mu} {\\delta} {\\mu_S} {e} \\pi_5\\left(x\\right)^{2} - \\frac{1}{2} \\, {\\mathcal A_\\mu}^{2} {e}^{2} \\pi_5\\left(x\\right)^{2} - \\frac{1}{4} \\, {\\delta}^{2} {\\mu_I}^{2} \\pi_6\\left(x\\right)^{2} - {\\delta}^{2} {\\mu_S}^{2} \\pi_6\\left(x\\right)^{2} - \\frac{1}{2} \\, {\\mathcal A_\\mu} {\\delta} {\\mu_I} {e} \\pi_6\\left(x\\right)^{2} - {\\mathcal A_\\mu} {\\delta} {\\mu_S} {e} \\pi_6\\left(x\\right)^{2} - \\frac{1}{2} \\, {\\mathcal A_\\mu}^{2} {e}^{2} \\pi_6\\left(x\\right)^{2} - \\frac{1}{4} \\, {\\delta}^{2} {\\mu_I}^{2} \\pi_7\\left(x\\right)^{2} - {\\delta}^{2} {\\mu_S}^{2} \\pi_7\\left(x\\right)^{2} - \\frac{1}{2} \\, {\\mathcal A_\\mu} {\\delta} {\\mu_I} {e} \\pi_7\\left(x\\right)^{2} - {\\mathcal A_\\mu} {\\delta} {\\mu_S} {e} \\pi_7\\left(x\\right)^{2} - \\frac{1}{2} \\, {\\mathcal A_\\mu}^{2} {e}^{2} \\pi_7\\left(x\\right)^{2} - {\\Delta m_\\mathrm{EM}}^{2} \\pi_1\\left(x\\right)^{2} \\sin\\left({\\alpha}\\right)^{2} - 2 \\, {\\Delta m_\\mathrm{EM}}^{2} \\pi_2\\left(x\\right)^{2} \\sin\\left({\\alpha}\\right)^{2} - {\\Delta m_\\mathrm{EM}}^{2} \\pi_3\\left(x\\right)^{2} \\sin\\left({\\alpha}\\right)^{2} - \\frac{1}{2} \\, {\\Delta m_\\mathrm{EM}}^{2} \\pi_4\\left(x\\right)^{2} \\sin\\left({\\alpha}\\right)^{2} - \\frac{1}{2} \\, {\\Delta m_\\mathrm{EM}}^{2} \\pi_5\\left(x\\right)^{2} \\sin\\left({\\alpha}\\right)^{2} - \\frac{1}{2} \\, {\\Delta m_\\mathrm{EM}}^{2} \\pi_6\\left(x\\right)^{2} \\sin\\left({\\alpha}\\right)^{2} - \\frac{1}{2} \\, {\\Delta m_\\mathrm{EM}}^{2} \\pi_7\\left(x\\right)^{2} \\sin\\left({\\alpha}\\right)^{2} + {\\bar m}^{2} \\cos\\left({\\alpha}\\right) \\pi_1\\left(x\\right)^{2} + {\\bar m}^{2} \\cos\\left({\\alpha}\\right) \\pi_2\\left(x\\right)^{2} + {\\bar m}^{2} \\cos\\left({\\alpha}\\right) \\pi_3\\left(x\\right)^{2} + \\frac{1}{2} \\, {\\Delta m_\\mathrm{EM}}^{2} \\cos\\left({\\alpha}\\right) \\pi_4\\left(x\\right)^{2} + \\frac{1}{2} \\, {\\bar m}^{2} \\cos\\left({\\alpha}\\right) \\pi_4\\left(x\\right)^{2} + \\frac{1}{2} \\, {\\Delta m_\\mathrm{EM}}^{2} \\cos\\left({\\alpha}\\right) \\pi_5\\left(x\\right)^{2} + \\frac{1}{2} \\, {\\bar m}^{2} \\cos\\left({\\alpha}\\right) \\pi_5\\left(x\\right)^{2} - \\frac{1}{2} \\, {\\Delta m_\\mathrm{EM}}^{2} \\cos\\left({\\alpha}\\right) \\pi_6\\left(x\\right)^{2} + \\frac{1}{2} \\, {\\bar m}^{2} \\cos\\left({\\alpha}\\right) \\pi_6\\left(x\\right)^{2} - \\frac{1}{2} \\, {\\Delta m_\\mathrm{EM}}^{2} \\cos\\left({\\alpha}\\right) \\pi_7\\left(x\\right)^{2} + \\frac{1}{2} \\, {\\bar m}^{2} \\cos\\left({\\alpha}\\right) \\pi_7\\left(x\\right)^{2} + \\frac{1}{3} \\, {\\bar m}^{2} \\cos\\left({\\alpha}\\right) \\pi_8\\left(x\\right)^{2} - \\frac{2}{3} \\, \\sqrt{3} {\\Delta m}^{2} \\pi_3\\left(x\\right) \\pi_8\\left(x\\right) + {\\Delta m_\\mathrm{EM}}^{2} \\pi_1\\left(x\\right)^{2} + {\\Delta m_\\mathrm{EM}}^{2} \\pi_2\\left(x\\right)^{2} - \\frac{1}{2} \\, {\\Delta m}^{2} \\pi_4\\left(x\\right)^{2} + \\frac{1}{2} \\, {\\Delta m_\\mathrm{EM}}^{2} \\pi_4\\left(x\\right)^{2} + \\frac{1}{2} \\, {m_S}^{2} \\pi_4\\left(x\\right)^{2} - \\frac{1}{2} \\, {\\Delta m}^{2} \\pi_5\\left(x\\right)^{2} + \\frac{1}{2} \\, {\\Delta m_\\mathrm{EM}}^{2} \\pi_5\\left(x\\right)^{2} + \\frac{1}{2} \\, {m_S}^{2} \\pi_5\\left(x\\right)^{2} + \\frac{1}{2} \\, {\\Delta m}^{2} \\pi_6\\left(x\\right)^{2} + \\frac{1}{2} \\, {\\Delta m_\\mathrm{EM}}^{2} \\pi_6\\left(x\\right)^{2} + \\frac{1}{2} \\, {m_S}^{2} \\pi_6\\left(x\\right)^{2} + \\frac{1}{2} \\, {\\Delta m}^{2} \\pi_7\\left(x\\right)^{2} + \\frac{1}{2} \\, {\\Delta m_\\mathrm{EM}}^{2} \\pi_7\\left(x\\right)^{2} + \\frac{1}{2} \\, {m_S}^{2} \\pi_7\\left(x\\right)^{2} + \\frac{2}{3} \\, {m_S}^{2} \\pi_8\\left(x\\right)^{2}\n"
     ]
    }
   ],
   "source": [
    "print(latex(k2.expand()))"
   ]
  },
  {
   "cell_type": "code",
   "execution_count": null,
   "id": "601e7bb2",
   "metadata": {},
   "outputs": [],
   "source": []
  },
  {
   "cell_type": "code",
   "execution_count": 20,
   "id": "287d5557",
   "metadata": {},
   "outputs": [
    {
     "data": {
      "text/html": [
       "<html><script type=\"math/tex; mode=display\">\\newcommand{\\Bold}[1]{\\mathbf{#1}}\\frac{1}{2} \\, {\\Delta m_\\mathrm{EM}}^{2} {\\varepsilon}^{2} \\pi_3\\left(x\\right)^{2} \\sin\\left({\\alpha}\\right)^{2} + \\frac{1}{2} \\, {\\left(\\sin\\left({\\alpha}\\right)^{2} - 1\\right)} {\\Delta m_\\mathrm{EM}}^{2} {\\varepsilon}^{2} \\pi_1\\left(x\\right)^{2} + \\frac{1}{2} \\, {\\left(2 \\, \\sin\\left({\\alpha}\\right)^{2} - 1\\right)} {\\Delta m_\\mathrm{EM}}^{2} {\\varepsilon}^{2} \\pi_2\\left(x\\right)^{2} + \\frac{1}{4} \\, {\\left(\\sin\\left({\\alpha}\\right)^{2} - \\cos\\left({\\alpha}\\right) - 1\\right)} {\\Delta m_\\mathrm{EM}}^{2} {\\varepsilon}^{2} \\pi_4\\left(x\\right)^{2} + \\frac{1}{4} \\, {\\left(\\sin\\left({\\alpha}\\right)^{2} - \\cos\\left({\\alpha}\\right) - 1\\right)} {\\Delta m_\\mathrm{EM}}^{2} {\\varepsilon}^{2} \\pi_5\\left(x\\right)^{2} + \\frac{1}{4} \\, {\\left(\\sin\\left({\\alpha}\\right)^{2} + \\cos\\left({\\alpha}\\right) - 1\\right)} {\\Delta m_\\mathrm{EM}}^{2} {\\varepsilon}^{2} \\pi_6\\left(x\\right)^{2} + \\frac{1}{4} \\, {\\left(\\sin\\left({\\alpha}\\right)^{2} + \\cos\\left({\\alpha}\\right) - 1\\right)} {\\Delta m_\\mathrm{EM}}^{2} {\\varepsilon}^{2} \\pi_7\\left(x\\right)^{2} - {\\Delta m_\\mathrm{EM}}^{2} {\\varepsilon} f \\cos\\left({\\alpha}\\right) \\pi_2\\left(x\\right) \\sin\\left({\\alpha}\\right) - \\frac{1}{6} \\, {\\left(3 \\, \\sin\\left({\\alpha}\\right)^{2} - 2\\right)} {\\Delta m_\\mathrm{EM}}^{2} f^{2}</script></html>"
      ],
      "text/plain": [
       "1/2*dmem^2*e^2*pi3(x)^2*sin(a)^2 + 1/2*(sin(a)^2 - 1)*dmem^2*e^2*pi1(x)^2 + 1/2*(2*sin(a)^2 - 1)*dmem^2*e^2*pi2(x)^2 + 1/4*(sin(a)^2 - cos(a) - 1)*dmem^2*e^2*pi4(x)^2 + 1/4*(sin(a)^2 - cos(a) - 1)*dmem^2*e^2*pi5(x)^2 + 1/4*(sin(a)^2 + cos(a) - 1)*dmem^2*e^2*pi6(x)^2 + 1/4*(sin(a)^2 + cos(a) - 1)*dmem^2*e^2*pi7(x)^2 - dmem^2*e*f*cos(a)*pi2(x)*sin(a) - 1/6*(3*sin(a)^2 - 2)*dmem^2*f^2"
      ]
     },
     "execution_count": 20,
     "metadata": {},
     "output_type": "execute_result"
    }
   ],
   "source": [
    "em_term"
   ]
  },
  {
   "cell_type": "code",
   "execution_count": 21,
   "id": "bb1a7e81",
   "metadata": {},
   "outputs": [],
   "source": [
    "n = 3\n",
    "v = v_em + v_mu\n",
    "\n",
    "S = SIGMA(n)\n",
    "Sd = SIGMA_d(n)\n",
    "\n",
    "dS = diff(S, x) # nabla_mu Sigma\n",
    "dSd = diff(Sd, x)\n",
    "COM = v*S - S*v # [v_mu, Sigma]\n",
    "COMd = Sd*v - v*Sd\n",
    "\n",
    "dS = mat_prep(dS, n)\n",
    "dSd = mat_prep(dSd, n)\n",
    "COM = mat_prep(COM, n)\n",
    "COMd = mat_prep(COMd, n)\n",
    "\n",
    "term1 = mat_prep(dS*(dSd), n) \n",
    "term2 = -I*mat_prep(dS*(-COMd) + COM*dSd, n)\n",
    "term3 = mat_prep(COM*COMd, n)\n",
    "\n",
    "term1 = term1.trace().trig_reduce().full_simplify()\n",
    "term2 = term2.trace().trig_reduce().full_simplify()\n",
    "term3 = term3.trace().trig_reduce().full_simplify()\n",
    "\n",
    "mass_term = (chi*Sd + S*chi).trace().trig_reduce().full_simplify()\n",
    "em_term = qe**2*C*(Q*S*Q*Sd)\n",
    "em_term = mat_prep(em_term, n).trace()\n",
    "em_term = em_term.full_simplify().full_simplify()\n",
    "\n",
    "term1, term2, term3, mass_term = (f^2/4 * term for term in [term1, term2, term3, mass_term])"
   ]
  },
  {
   "cell_type": "code",
   "execution_count": 22,
   "id": "b3ce75d3",
   "metadata": {},
   "outputs": [
    {
     "data": {
      "text/html": [
       "<html><script type=\"math/tex; mode=display\">\\newcommand{\\Bold}[1]{\\mathbf{#1}}\\frac{1}{2} \\, {\\varepsilon}^{2} \\frac{\\partial}{\\partial x}\\pi_1\\left(x\\right)^{2} + \\frac{1}{2} \\, {\\varepsilon}^{2} \\frac{\\partial}{\\partial x}\\pi_2\\left(x\\right)^{2} + \\frac{1}{2} \\, {\\varepsilon}^{2} \\frac{\\partial}{\\partial x}\\pi_3\\left(x\\right)^{2} + \\frac{1}{2} \\, {\\varepsilon}^{2} \\frac{\\partial}{\\partial x}\\pi_4\\left(x\\right)^{2} + \\frac{1}{2} \\, {\\varepsilon}^{2} \\frac{\\partial}{\\partial x}\\pi_5\\left(x\\right)^{2} + \\frac{1}{2} \\, {\\varepsilon}^{2} \\frac{\\partial}{\\partial x}\\pi_6\\left(x\\right)^{2} + \\frac{1}{2} \\, {\\varepsilon}^{2} \\frac{\\partial}{\\partial x}\\pi_7\\left(x\\right)^{2} + \\frac{1}{2} \\, {\\varepsilon}^{2} \\frac{\\partial}{\\partial x}\\pi_8\\left(x\\right)^{2}</script></html>"
      ],
      "text/plain": [
       "1/2*e^2*diff(pi1(x), x)^2 + 1/2*e^2*diff(pi2(x), x)^2 + 1/2*e^2*diff(pi3(x), x)^2 + 1/2*e^2*diff(pi4(x), x)^2 + 1/2*e^2*diff(pi5(x), x)^2 + 1/2*e^2*diff(pi6(x), x)^2 + 1/2*e^2*diff(pi7(x), x)^2 + 1/2*e^2*diff(pi8(x), x)^2"
      ]
     },
     "execution_count": 22,
     "metadata": {},
     "output_type": "execute_result"
    }
   ],
   "source": [
    "term1"
   ]
  },
  {
   "cell_type": "code",
   "execution_count": 23,
   "id": "09b94793",
   "metadata": {},
   "outputs": [
    {
     "data": {
      "text/html": [
       "<html><script type=\"math/tex; mode=display\">\\newcommand{\\Bold}[1]{\\mathbf{#1}}-\\frac{4 \\, {\\left({\\delta} {\\varepsilon}^{3} {\\mu_I} \\sin\\left({\\alpha}\\right) + {\\mathcal A_\\mu} {\\varepsilon}^{3} {e} \\sin\\left({\\alpha}\\right)\\right)} \\pi_1\\left(x\\right) \\pi_3\\left(x\\right) \\frac{\\partial}{\\partial x}\\pi_3\\left(x\\right) + {\\left(6 \\, {\\delta} {\\varepsilon} f^{2} {\\mu_I} \\sin\\left({\\alpha}\\right) + 6 \\, {\\mathcal A_\\mu} {\\varepsilon} f^{2} {e} \\sin\\left({\\alpha}\\right) - 4 \\, {\\left({\\delta} {\\varepsilon}^{3} {\\mu_I} \\sin\\left({\\alpha}\\right) + {\\mathcal A_\\mu} {\\varepsilon}^{3} {e} \\sin\\left({\\alpha}\\right)\\right)} \\pi_2\\left(x\\right)^{2} - 4 \\, {\\left({\\delta} {\\varepsilon}^{3} {\\mu_I} \\sin\\left({\\alpha}\\right) + {\\mathcal A_\\mu} {\\varepsilon}^{3} {e} \\sin\\left({\\alpha}\\right)\\right)} \\pi_3\\left(x\\right)^{2} - {\\left({\\delta} {\\varepsilon}^{3} {\\mu_I} \\sin\\left({\\alpha}\\right) + {\\mathcal A_\\mu} {\\varepsilon}^{3} {e} \\sin\\left({\\alpha}\\right)\\right)} \\pi_4\\left(x\\right)^{2} - {\\left({\\delta} {\\varepsilon}^{3} {\\mu_I} \\sin\\left({\\alpha}\\right) + {\\mathcal A_\\mu} {\\varepsilon}^{3} {e} \\sin\\left({\\alpha}\\right)\\right)} \\pi_5\\left(x\\right)^{2} - {\\left({\\delta} {\\varepsilon}^{3} {\\mu_I} \\sin\\left({\\alpha}\\right) + {\\mathcal A_\\mu} {\\varepsilon}^{3} {e} \\sin\\left({\\alpha}\\right)\\right)} \\pi_6\\left(x\\right)^{2} - {\\left({\\delta} {\\varepsilon}^{3} {\\mu_I} \\sin\\left({\\alpha}\\right) + {\\mathcal A_\\mu} {\\varepsilon}^{3} {e} \\sin\\left({\\alpha}\\right)\\right)} \\pi_7\\left(x\\right)^{2} + 6 \\, {\\left({\\delta} {\\varepsilon}^{2} f {\\mu_I} \\cos\\left({\\alpha}\\right) + {\\mathcal A_\\mu} {\\varepsilon}^{2} f {e} \\cos\\left({\\alpha}\\right)\\right)} \\pi_2\\left(x\\right)\\right)} \\frac{\\partial}{\\partial x}\\pi_1\\left(x\\right) + 2 \\, {\\left(2 \\, {\\left({\\delta} {\\varepsilon}^{3} {\\mu_I} \\sin\\left({\\alpha}\\right) + {\\mathcal A_\\mu} {\\varepsilon}^{3} {e} \\sin\\left({\\alpha}\\right)\\right)} \\pi_1\\left(x\\right) \\pi_2\\left(x\\right) - 3 \\, {\\left({\\delta} {\\varepsilon}^{2} f {\\mu_I} \\cos\\left({\\alpha}\\right) + {\\mathcal A_\\mu} {\\varepsilon}^{2} f {e} \\cos\\left({\\alpha}\\right)\\right)} \\pi_1\\left(x\\right)\\right)} \\frac{\\partial}{\\partial x}\\pi_2\\left(x\\right) + {\\left({\\left({\\delta} {\\varepsilon}^{3} {\\mu_I} \\sin\\left({\\alpha}\\right) + {\\mathcal A_\\mu} {\\varepsilon}^{3} {e} \\sin\\left({\\alpha}\\right)\\right)} \\pi_1\\left(x\\right) \\pi_4\\left(x\\right) + 3 \\, {\\left({\\delta} {\\varepsilon}^{3} {\\mu_I} \\sin\\left({\\alpha}\\right) + {\\mathcal A_\\mu} {\\varepsilon}^{3} {e} \\sin\\left({\\alpha}\\right)\\right)} \\pi_3\\left(x\\right) \\pi_6\\left(x\\right) + {\\left(\\sqrt{3} {\\delta} {\\varepsilon}^{3} {\\mu_I} \\sin\\left({\\alpha}\\right) + \\sqrt{3} {\\mathcal A_\\mu} {\\varepsilon}^{3} {e} \\sin\\left({\\alpha}\\right)\\right)} \\pi_6\\left(x\\right) \\pi_8\\left(x\\right) + 3 \\, {\\left({\\delta} {\\varepsilon}^{2} f {\\mu_I} \\cos\\left({\\alpha}\\right) + 2 \\, {\\delta} {\\varepsilon}^{2} f {\\mu_S} + {\\left({\\mathcal A_\\mu} \\cos\\left({\\alpha}\\right) + {\\mathcal A_\\mu}\\right)} {\\varepsilon}^{2} f {e} - {\\left({\\delta} {\\varepsilon}^{3} {\\mu_I} \\sin\\left({\\alpha}\\right) + {\\mathcal A_\\mu} {\\varepsilon}^{3} {e} \\sin\\left({\\alpha}\\right)\\right)} \\pi_2\\left(x\\right)\\right)} \\pi_5\\left(x\\right)\\right)} \\frac{\\partial}{\\partial x}\\pi_4\\left(x\\right) + {\\left({\\left({\\delta} {\\varepsilon}^{3} {\\mu_I} \\sin\\left({\\alpha}\\right) + {\\mathcal A_\\mu} {\\varepsilon}^{3} {e} \\sin\\left({\\alpha}\\right)\\right)} \\pi_1\\left(x\\right) \\pi_5\\left(x\\right) + 3 \\, {\\left({\\delta} {\\varepsilon}^{3} {\\mu_I} \\sin\\left({\\alpha}\\right) + {\\mathcal A_\\mu} {\\varepsilon}^{3} {e} \\sin\\left({\\alpha}\\right)\\right)} \\pi_3\\left(x\\right) \\pi_7\\left(x\\right) + {\\left(\\sqrt{3} {\\delta} {\\varepsilon}^{3} {\\mu_I} \\sin\\left({\\alpha}\\right) + \\sqrt{3} {\\mathcal A_\\mu} {\\varepsilon}^{3} {e} \\sin\\left({\\alpha}\\right)\\right)} \\pi_7\\left(x\\right) \\pi_8\\left(x\\right) - 3 \\, {\\left({\\delta} {\\varepsilon}^{2} f {\\mu_I} \\cos\\left({\\alpha}\\right) + 2 \\, {\\delta} {\\varepsilon}^{2} f {\\mu_S} + {\\left({\\mathcal A_\\mu} \\cos\\left({\\alpha}\\right) + {\\mathcal A_\\mu}\\right)} {\\varepsilon}^{2} f {e} - {\\left({\\delta} {\\varepsilon}^{3} {\\mu_I} \\sin\\left({\\alpha}\\right) + {\\mathcal A_\\mu} {\\varepsilon}^{3} {e} \\sin\\left({\\alpha}\\right)\\right)} \\pi_2\\left(x\\right)\\right)} \\pi_4\\left(x\\right)\\right)} \\frac{\\partial}{\\partial x}\\pi_5\\left(x\\right) - {\\left(3 \\, {\\left({\\delta} {\\varepsilon}^{3} {\\mu_I} \\sin\\left({\\alpha}\\right) + {\\mathcal A_\\mu} {\\varepsilon}^{3} {e} \\sin\\left({\\alpha}\\right)\\right)} \\pi_3\\left(x\\right) \\pi_4\\left(x\\right) - {\\left({\\delta} {\\varepsilon}^{3} {\\mu_I} \\sin\\left({\\alpha}\\right) + {\\mathcal A_\\mu} {\\varepsilon}^{3} {e} \\sin\\left({\\alpha}\\right)\\right)} \\pi_1\\left(x\\right) \\pi_6\\left(x\\right) - {\\left(\\sqrt{3} {\\delta} {\\varepsilon}^{3} {\\mu_I} \\sin\\left({\\alpha}\\right) + \\sqrt{3} {\\mathcal A_\\mu} {\\varepsilon}^{3} {e} \\sin\\left({\\alpha}\\right)\\right)} \\pi_4\\left(x\\right) \\pi_8\\left(x\\right) + 3 \\, {\\left({\\delta} {\\varepsilon}^{2} f {\\mu_I} \\cos\\left({\\alpha}\\right) - 2 \\, {\\delta} {\\varepsilon}^{2} f {\\mu_S} + {\\left({\\mathcal A_\\mu} \\cos\\left({\\alpha}\\right) - {\\mathcal A_\\mu}\\right)} {\\varepsilon}^{2} f {e} - {\\left({\\delta} {\\varepsilon}^{3} {\\mu_I} \\sin\\left({\\alpha}\\right) + {\\mathcal A_\\mu} {\\varepsilon}^{3} {e} \\sin\\left({\\alpha}\\right)\\right)} \\pi_2\\left(x\\right)\\right)} \\pi_7\\left(x\\right)\\right)} \\frac{\\partial}{\\partial x}\\pi_6\\left(x\\right) - {\\left(3 \\, {\\left({\\delta} {\\varepsilon}^{3} {\\mu_I} \\sin\\left({\\alpha}\\right) + {\\mathcal A_\\mu} {\\varepsilon}^{3} {e} \\sin\\left({\\alpha}\\right)\\right)} \\pi_3\\left(x\\right) \\pi_5\\left(x\\right) - {\\left({\\delta} {\\varepsilon}^{3} {\\mu_I} \\sin\\left({\\alpha}\\right) + {\\mathcal A_\\mu} {\\varepsilon}^{3} {e} \\sin\\left({\\alpha}\\right)\\right)} \\pi_1\\left(x\\right) \\pi_7\\left(x\\right) - {\\left(\\sqrt{3} {\\delta} {\\varepsilon}^{3} {\\mu_I} \\sin\\left({\\alpha}\\right) + \\sqrt{3} {\\mathcal A_\\mu} {\\varepsilon}^{3} {e} \\sin\\left({\\alpha}\\right)\\right)} \\pi_5\\left(x\\right) \\pi_8\\left(x\\right) - 3 \\, {\\left({\\delta} {\\varepsilon}^{2} f {\\mu_I} \\cos\\left({\\alpha}\\right) - 2 \\, {\\delta} {\\varepsilon}^{2} f {\\mu_S} + {\\left({\\mathcal A_\\mu} \\cos\\left({\\alpha}\\right) - {\\mathcal A_\\mu}\\right)} {\\varepsilon}^{2} f {e} - {\\left({\\delta} {\\varepsilon}^{3} {\\mu_I} \\sin\\left({\\alpha}\\right) + {\\mathcal A_\\mu} {\\varepsilon}^{3} {e} \\sin\\left({\\alpha}\\right)\\right)} \\pi_2\\left(x\\right)\\right)} \\pi_6\\left(x\\right)\\right)} \\frac{\\partial}{\\partial x}\\pi_7\\left(x\\right) - 2 \\, {\\left({\\left(\\sqrt{3} {\\delta} {\\varepsilon}^{3} {\\mu_I} \\sin\\left({\\alpha}\\right) + \\sqrt{3} {\\mathcal A_\\mu} {\\varepsilon}^{3} {e} \\sin\\left({\\alpha}\\right)\\right)} \\pi_4\\left(x\\right) \\pi_6\\left(x\\right) + {\\left(\\sqrt{3} {\\delta} {\\varepsilon}^{3} {\\mu_I} \\sin\\left({\\alpha}\\right) + \\sqrt{3} {\\mathcal A_\\mu} {\\varepsilon}^{3} {e} \\sin\\left({\\alpha}\\right)\\right)} \\pi_5\\left(x\\right) \\pi_7\\left(x\\right)\\right)} \\frac{\\partial}{\\partial x}\\pi_8\\left(x\\right)}{6 \\, f}</script></html>"
      ],
      "text/plain": [
       "-1/6*(4*(d*e^3*muI*sin(a) + A_mu*e^3*qe*sin(a))*pi1(x)*pi3(x)*diff(pi3(x), x) + (6*d*e*f^2*muI*sin(a) + 6*A_mu*e*f^2*qe*sin(a) - 4*(d*e^3*muI*sin(a) + A_mu*e^3*qe*sin(a))*pi2(x)^2 - 4*(d*e^3*muI*sin(a) + A_mu*e^3*qe*sin(a))*pi3(x)^2 - (d*e^3*muI*sin(a) + A_mu*e^3*qe*sin(a))*pi4(x)^2 - (d*e^3*muI*sin(a) + A_mu*e^3*qe*sin(a))*pi5(x)^2 - (d*e^3*muI*sin(a) + A_mu*e^3*qe*sin(a))*pi6(x)^2 - (d*e^3*muI*sin(a) + A_mu*e^3*qe*sin(a))*pi7(x)^2 + 6*(d*e^2*f*muI*cos(a) + A_mu*e^2*f*qe*cos(a))*pi2(x))*diff(pi1(x), x) + 2*(2*(d*e^3*muI*sin(a) + A_mu*e^3*qe*sin(a))*pi1(x)*pi2(x) - 3*(d*e^2*f*muI*cos(a) + A_mu*e^2*f*qe*cos(a))*pi1(x))*diff(pi2(x), x) + ((d*e^3*muI*sin(a) + A_mu*e^3*qe*sin(a))*pi1(x)*pi4(x) + 3*(d*e^3*muI*sin(a) + A_mu*e^3*qe*sin(a))*pi3(x)*pi6(x) + (sqrt(3)*d*e^3*muI*sin(a) + sqrt(3)*A_mu*e^3*qe*sin(a))*pi6(x)*pi8(x) + 3*(d*e^2*f*muI*cos(a) + 2*d*e^2*f*muS + (A_mu*cos(a) + A_mu)*e^2*f*qe - (d*e^3*muI*sin(a) + A_mu*e^3*qe*sin(a))*pi2(x))*pi5(x))*diff(pi4(x), x) + ((d*e^3*muI*sin(a) + A_mu*e^3*qe*sin(a))*pi1(x)*pi5(x) + 3*(d*e^3*muI*sin(a) + A_mu*e^3*qe*sin(a))*pi3(x)*pi7(x) + (sqrt(3)*d*e^3*muI*sin(a) + sqrt(3)*A_mu*e^3*qe*sin(a))*pi7(x)*pi8(x) - 3*(d*e^2*f*muI*cos(a) + 2*d*e^2*f*muS + (A_mu*cos(a) + A_mu)*e^2*f*qe - (d*e^3*muI*sin(a) + A_mu*e^3*qe*sin(a))*pi2(x))*pi4(x))*diff(pi5(x), x) - (3*(d*e^3*muI*sin(a) + A_mu*e^3*qe*sin(a))*pi3(x)*pi4(x) - (d*e^3*muI*sin(a) + A_mu*e^3*qe*sin(a))*pi1(x)*pi6(x) - (sqrt(3)*d*e^3*muI*sin(a) + sqrt(3)*A_mu*e^3*qe*sin(a))*pi4(x)*pi8(x) + 3*(d*e^2*f*muI*cos(a) - 2*d*e^2*f*muS + (A_mu*cos(a) - A_mu)*e^2*f*qe - (d*e^3*muI*sin(a) + A_mu*e^3*qe*sin(a))*pi2(x))*pi7(x))*diff(pi6(x), x) - (3*(d*e^3*muI*sin(a) + A_mu*e^3*qe*sin(a))*pi3(x)*pi5(x) - (d*e^3*muI*sin(a) + A_mu*e^3*qe*sin(a))*pi1(x)*pi7(x) - (sqrt(3)*d*e^3*muI*sin(a) + sqrt(3)*A_mu*e^3*qe*sin(a))*pi5(x)*pi8(x) - 3*(d*e^2*f*muI*cos(a) - 2*d*e^2*f*muS + (A_mu*cos(a) - A_mu)*e^2*f*qe - (d*e^3*muI*sin(a) + A_mu*e^3*qe*sin(a))*pi2(x))*pi6(x))*diff(pi7(x), x) - 2*((sqrt(3)*d*e^3*muI*sin(a) + sqrt(3)*A_mu*e^3*qe*sin(a))*pi4(x)*pi6(x) + (sqrt(3)*d*e^3*muI*sin(a) + sqrt(3)*A_mu*e^3*qe*sin(a))*pi5(x)*pi7(x))*diff(pi8(x), x))/f"
      ]
     },
     "execution_count": 23,
     "metadata": {},
     "output_type": "execute_result"
    }
   ],
   "source": [
    "term2"
   ]
  },
  {
   "cell_type": "code",
   "execution_count": 24,
   "id": "fccf6745",
   "metadata": {},
   "outputs": [
    {
     "data": {
      "text/html": [
       "<html><script type=\"math/tex; mode=display\">\\newcommand{\\Bold}[1]{\\mathbf{#1}}-\\frac{12 \\, {\\left(\\cos\\left({\\alpha}\\right)^{2} - 1\\right)} {\\delta}^{2} f^{3} {\\mu_I}^{2} + 24 \\, {\\left({\\mathcal A_\\mu} \\cos\\left({\\alpha}\\right)^{2} - {\\mathcal A_\\mu}\\right)} {\\delta} f^{3} {\\mu_I} {e} + 12 \\, {\\left({\\mathcal A_\\mu}^{2} \\cos\\left({\\alpha}\\right)^{2} - {\\mathcal A_\\mu}^{2}\\right)} f^{3} {e}^{2} + 16 \\, {\\left({\\delta}^{2} {\\varepsilon}^{3} {\\mu_I}^{2} \\cos\\left({\\alpha}\\right) \\sin\\left({\\alpha}\\right) + 2 \\, {\\mathcal A_\\mu} {\\delta} {\\varepsilon}^{3} {\\mu_I} {e} \\cos\\left({\\alpha}\\right) \\sin\\left({\\alpha}\\right) + {\\mathcal A_\\mu}^{2} {\\varepsilon}^{3} {e}^{2} \\cos\\left({\\alpha}\\right) \\sin\\left({\\alpha}\\right)\\right)} \\pi_2\\left(x\\right)^{3} - 12 \\, {\\left(2 \\, {\\delta}^{2} {\\varepsilon}^{3} {\\mu_I} {\\mu_S} \\sin\\left({\\alpha}\\right) + {\\mathcal A_\\mu}^{2} {\\varepsilon}^{3} {e}^{2} \\sin\\left({\\alpha}\\right) + {\\left({\\mathcal A_\\mu} {\\delta} {\\varepsilon}^{3} {\\mu_I} \\sin\\left({\\alpha}\\right) + 2 \\, {\\mathcal A_\\mu} {\\delta} {\\varepsilon}^{3} {\\mu_S} \\sin\\left({\\alpha}\\right)\\right)} {e}\\right)} \\pi_3\\left(x\\right) \\pi_5\\left(x\\right) \\pi_6\\left(x\\right) + 12 \\, {\\left(2 \\, {\\delta}^{2} {\\varepsilon}^{3} {\\mu_I} {\\mu_S} \\sin\\left({\\alpha}\\right) + {\\mathcal A_\\mu}^{2} {\\varepsilon}^{3} {e}^{2} \\sin\\left({\\alpha}\\right) + {\\left({\\mathcal A_\\mu} {\\delta} {\\varepsilon}^{3} {\\mu_I} \\sin\\left({\\alpha}\\right) + 2 \\, {\\mathcal A_\\mu} {\\delta} {\\varepsilon}^{3} {\\mu_S} \\sin\\left({\\alpha}\\right)\\right)} {e}\\right)} \\pi_3\\left(x\\right) \\pi_4\\left(x\\right) \\pi_7\\left(x\\right) - 12 \\, {\\left({\\delta}^{2} {\\varepsilon}^{2} f {\\mu_I}^{2} \\cos\\left({\\alpha}\\right)^{2} + 2 \\, {\\mathcal A_\\mu} {\\delta} {\\varepsilon}^{2} f {\\mu_I} {e} \\cos\\left({\\alpha}\\right)^{2} + {\\mathcal A_\\mu}^{2} {\\varepsilon}^{2} f {e}^{2} \\cos\\left({\\alpha}\\right)^{2}\\right)} \\pi_1\\left(x\\right)^{2} - 12 \\, {\\left({\\left(2 \\, \\cos\\left({\\alpha}\\right)^{2} - 1\\right)} {\\delta}^{2} {\\varepsilon}^{2} f {\\mu_I}^{2} + 2 \\, {\\left(2 \\, {\\mathcal A_\\mu} \\cos\\left({\\alpha}\\right)^{2} - {\\mathcal A_\\mu}\\right)} {\\delta} {\\varepsilon}^{2} f {\\mu_I} {e} + {\\left(2 \\, {\\mathcal A_\\mu}^{2} \\cos\\left({\\alpha}\\right)^{2} - {\\mathcal A_\\mu}^{2}\\right)} {\\varepsilon}^{2} f {e}^{2}\\right)} \\pi_2\\left(x\\right)^{2} - 4 \\, {\\left(3 \\, {\\left(\\cos\\left({\\alpha}\\right)^{2} - 1\\right)} {\\delta}^{2} {\\varepsilon}^{2} f {\\mu_I}^{2} + 6 \\, {\\left({\\mathcal A_\\mu} \\cos\\left({\\alpha}\\right)^{2} - {\\mathcal A_\\mu}\\right)} {\\delta} {\\varepsilon}^{2} f {\\mu_I} {e} + 3 \\, {\\left({\\mathcal A_\\mu}^{2} \\cos\\left({\\alpha}\\right)^{2} - {\\mathcal A_\\mu}^{2}\\right)} {\\varepsilon}^{2} f {e}^{2} - 4 \\, {\\left({\\delta}^{2} {\\varepsilon}^{3} {\\mu_I}^{2} \\cos\\left({\\alpha}\\right) \\sin\\left({\\alpha}\\right) + 2 \\, {\\mathcal A_\\mu} {\\delta} {\\varepsilon}^{3} {\\mu_I} {e} \\cos\\left({\\alpha}\\right) \\sin\\left({\\alpha}\\right) + {\\mathcal A_\\mu}^{2} {\\varepsilon}^{3} {e}^{2} \\cos\\left({\\alpha}\\right) \\sin\\left({\\alpha}\\right)\\right)} \\pi_2\\left(x\\right)\\right)} \\pi_3\\left(x\\right)^{2} - {\\left(3 \\, {\\left(2 \\, \\cos\\left({\\alpha}\\right)^{2} - 1\\right)} {\\delta}^{2} {\\varepsilon}^{2} f {\\mu_I}^{2} + 12 \\, {\\delta}^{2} {\\varepsilon}^{2} f {\\mu_I} {\\mu_S} \\cos\\left({\\alpha}\\right) + 12 \\, {\\delta}^{2} {\\varepsilon}^{2} f {\\mu_S}^{2} + 6 \\, {\\left({\\mathcal A_\\mu}^{2} \\cos\\left({\\alpha}\\right)^{2} + {\\mathcal A_\\mu}^{2} \\cos\\left({\\alpha}\\right)\\right)} {\\varepsilon}^{2} f {e}^{2} + 6 \\, {\\left({\\left(2 \\, {\\mathcal A_\\mu} \\cos\\left({\\alpha}\\right)^{2} + {\\mathcal A_\\mu} \\cos\\left({\\alpha}\\right) - {\\mathcal A_\\mu}\\right)} {\\delta} {\\varepsilon}^{2} f {\\mu_I} + 2 \\, {\\left({\\mathcal A_\\mu} \\cos\\left({\\alpha}\\right) + {\\mathcal A_\\mu}\\right)} {\\delta} {\\varepsilon}^{2} f {\\mu_S}\\right)} {e} - 2 \\, {\\left(5 \\, {\\delta}^{2} {\\varepsilon}^{3} {\\mu_I}^{2} \\cos\\left({\\alpha}\\right) \\sin\\left({\\alpha}\\right) + 6 \\, {\\delta}^{2} {\\varepsilon}^{3} {\\mu_I} {\\mu_S} \\sin\\left({\\alpha}\\right) + {\\left(5 \\, {\\mathcal A_\\mu}^{2} \\cos\\left({\\alpha}\\right) + 3 \\, {\\mathcal A_\\mu}^{2}\\right)} {\\varepsilon}^{3} {e}^{2} \\sin\\left({\\alpha}\\right) + {\\left({\\left(10 \\, {\\mathcal A_\\mu} \\cos\\left({\\alpha}\\right) + 3 \\, {\\mathcal A_\\mu}\\right)} {\\delta} {\\varepsilon}^{3} {\\mu_I} \\sin\\left({\\alpha}\\right) + 6 \\, {\\mathcal A_\\mu} {\\delta} {\\varepsilon}^{3} {\\mu_S} \\sin\\left({\\alpha}\\right)\\right)} {e}\\right)} \\pi_2\\left(x\\right)\\right)} \\pi_4\\left(x\\right)^{2} - {\\left(3 \\, {\\left(2 \\, \\cos\\left({\\alpha}\\right)^{2} - 1\\right)} {\\delta}^{2} {\\varepsilon}^{2} f {\\mu_I}^{2} + 12 \\, {\\delta}^{2} {\\varepsilon}^{2} f {\\mu_I} {\\mu_S} \\cos\\left({\\alpha}\\right) + 12 \\, {\\delta}^{2} {\\varepsilon}^{2} f {\\mu_S}^{2} + 6 \\, {\\left({\\mathcal A_\\mu}^{2} \\cos\\left({\\alpha}\\right)^{2} + {\\mathcal A_\\mu}^{2} \\cos\\left({\\alpha}\\right)\\right)} {\\varepsilon}^{2} f {e}^{2} + 6 \\, {\\left({\\left(2 \\, {\\mathcal A_\\mu} \\cos\\left({\\alpha}\\right)^{2} + {\\mathcal A_\\mu} \\cos\\left({\\alpha}\\right) - {\\mathcal A_\\mu}\\right)} {\\delta} {\\varepsilon}^{2} f {\\mu_I} + 2 \\, {\\left({\\mathcal A_\\mu} \\cos\\left({\\alpha}\\right) + {\\mathcal A_\\mu}\\right)} {\\delta} {\\varepsilon}^{2} f {\\mu_S}\\right)} {e} - 2 \\, {\\left(5 \\, {\\delta}^{2} {\\varepsilon}^{3} {\\mu_I}^{2} \\cos\\left({\\alpha}\\right) \\sin\\left({\\alpha}\\right) + 6 \\, {\\delta}^{2} {\\varepsilon}^{3} {\\mu_I} {\\mu_S} \\sin\\left({\\alpha}\\right) + {\\left(5 \\, {\\mathcal A_\\mu}^{2} \\cos\\left({\\alpha}\\right) + 3 \\, {\\mathcal A_\\mu}^{2}\\right)} {\\varepsilon}^{3} {e}^{2} \\sin\\left({\\alpha}\\right) + {\\left({\\left(10 \\, {\\mathcal A_\\mu} \\cos\\left({\\alpha}\\right) + 3 \\, {\\mathcal A_\\mu}\\right)} {\\delta} {\\varepsilon}^{3} {\\mu_I} \\sin\\left({\\alpha}\\right) + 6 \\, {\\mathcal A_\\mu} {\\delta} {\\varepsilon}^{3} {\\mu_S} \\sin\\left({\\alpha}\\right)\\right)} {e}\\right)} \\pi_2\\left(x\\right)\\right)} \\pi_5\\left(x\\right)^{2} - {\\left(3 \\, {\\left(2 \\, \\cos\\left({\\alpha}\\right)^{2} - 1\\right)} {\\delta}^{2} {\\varepsilon}^{2} f {\\mu_I}^{2} - 12 \\, {\\delta}^{2} {\\varepsilon}^{2} f {\\mu_I} {\\mu_S} \\cos\\left({\\alpha}\\right) + 12 \\, {\\delta}^{2} {\\varepsilon}^{2} f {\\mu_S}^{2} + 6 \\, {\\left({\\mathcal A_\\mu}^{2} \\cos\\left({\\alpha}\\right)^{2} - {\\mathcal A_\\mu}^{2} \\cos\\left({\\alpha}\\right)\\right)} {\\varepsilon}^{2} f {e}^{2} + 6 \\, {\\left({\\left(2 \\, {\\mathcal A_\\mu} \\cos\\left({\\alpha}\\right)^{2} - {\\mathcal A_\\mu} \\cos\\left({\\alpha}\\right) - {\\mathcal A_\\mu}\\right)} {\\delta} {\\varepsilon}^{2} f {\\mu_I} - 2 \\, {\\left({\\mathcal A_\\mu} \\cos\\left({\\alpha}\\right) - {\\mathcal A_\\mu}\\right)} {\\delta} {\\varepsilon}^{2} f {\\mu_S}\\right)} {e} - 2 \\, {\\left(5 \\, {\\delta}^{2} {\\varepsilon}^{3} {\\mu_I}^{2} \\cos\\left({\\alpha}\\right) \\sin\\left({\\alpha}\\right) - 6 \\, {\\delta}^{2} {\\varepsilon}^{3} {\\mu_I} {\\mu_S} \\sin\\left({\\alpha}\\right) + {\\left(5 \\, {\\mathcal A_\\mu}^{2} \\cos\\left({\\alpha}\\right) - 3 \\, {\\mathcal A_\\mu}^{2}\\right)} {\\varepsilon}^{3} {e}^{2} \\sin\\left({\\alpha}\\right) + {\\left({\\left(10 \\, {\\mathcal A_\\mu} \\cos\\left({\\alpha}\\right) - 3 \\, {\\mathcal A_\\mu}\\right)} {\\delta} {\\varepsilon}^{3} {\\mu_I} \\sin\\left({\\alpha}\\right) - 6 \\, {\\mathcal A_\\mu} {\\delta} {\\varepsilon}^{3} {\\mu_S} \\sin\\left({\\alpha}\\right)\\right)} {e}\\right)} \\pi_2\\left(x\\right)\\right)} \\pi_6\\left(x\\right)^{2} - {\\left(3 \\, {\\left(2 \\, \\cos\\left({\\alpha}\\right)^{2} - 1\\right)} {\\delta}^{2} {\\varepsilon}^{2} f {\\mu_I}^{2} - 12 \\, {\\delta}^{2} {\\varepsilon}^{2} f {\\mu_I} {\\mu_S} \\cos\\left({\\alpha}\\right) + 12 \\, {\\delta}^{2} {\\varepsilon}^{2} f {\\mu_S}^{2} + 6 \\, {\\left({\\mathcal A_\\mu}^{2} \\cos\\left({\\alpha}\\right)^{2} - {\\mathcal A_\\mu}^{2} \\cos\\left({\\alpha}\\right)\\right)} {\\varepsilon}^{2} f {e}^{2} + 6 \\, {\\left({\\left(2 \\, {\\mathcal A_\\mu} \\cos\\left({\\alpha}\\right)^{2} - {\\mathcal A_\\mu} \\cos\\left({\\alpha}\\right) - {\\mathcal A_\\mu}\\right)} {\\delta} {\\varepsilon}^{2} f {\\mu_I} - 2 \\, {\\left({\\mathcal A_\\mu} \\cos\\left({\\alpha}\\right) - {\\mathcal A_\\mu}\\right)} {\\delta} {\\varepsilon}^{2} f {\\mu_S}\\right)} {e} - 2 \\, {\\left(5 \\, {\\delta}^{2} {\\varepsilon}^{3} {\\mu_I}^{2} \\cos\\left({\\alpha}\\right) \\sin\\left({\\alpha}\\right) - 6 \\, {\\delta}^{2} {\\varepsilon}^{3} {\\mu_I} {\\mu_S} \\sin\\left({\\alpha}\\right) + {\\left(5 \\, {\\mathcal A_\\mu}^{2} \\cos\\left({\\alpha}\\right) - 3 \\, {\\mathcal A_\\mu}^{2}\\right)} {\\varepsilon}^{3} {e}^{2} \\sin\\left({\\alpha}\\right) + {\\left({\\left(10 \\, {\\mathcal A_\\mu} \\cos\\left({\\alpha}\\right) - 3 \\, {\\mathcal A_\\mu}\\right)} {\\delta} {\\varepsilon}^{3} {\\mu_I} \\sin\\left({\\alpha}\\right) - 6 \\, {\\mathcal A_\\mu} {\\delta} {\\varepsilon}^{3} {\\mu_S} \\sin\\left({\\alpha}\\right)\\right)} {e}\\right)} \\pi_2\\left(x\\right)\\right)} \\pi_7\\left(x\\right)^{2} - 8 \\, {\\left(3 \\, {\\delta}^{2} {\\varepsilon} f^{2} {\\mu_I}^{2} \\cos\\left({\\alpha}\\right) \\sin\\left({\\alpha}\\right) + 6 \\, {\\mathcal A_\\mu} {\\delta} {\\varepsilon} f^{2} {\\mu_I} {e} \\cos\\left({\\alpha}\\right) \\sin\\left({\\alpha}\\right) + 3 \\, {\\mathcal A_\\mu}^{2} {\\varepsilon} f^{2} {e}^{2} \\cos\\left({\\alpha}\\right) \\sin\\left({\\alpha}\\right) - 2 \\, {\\left({\\delta}^{2} {\\varepsilon}^{3} {\\mu_I}^{2} \\cos\\left({\\alpha}\\right) \\sin\\left({\\alpha}\\right) + 2 \\, {\\mathcal A_\\mu} {\\delta} {\\varepsilon}^{3} {\\mu_I} {e} \\cos\\left({\\alpha}\\right) \\sin\\left({\\alpha}\\right) + {\\mathcal A_\\mu}^{2} {\\varepsilon}^{3} {e}^{2} \\cos\\left({\\alpha}\\right) \\sin\\left({\\alpha}\\right)\\right)} \\pi_1\\left(x\\right)^{2}\\right)} \\pi_2\\left(x\\right) - 4 \\, {\\left({\\left(\\sqrt{3} {\\delta}^{2} {\\varepsilon}^{3} {\\mu_I}^{2} \\cos\\left({\\alpha}\\right) \\sin\\left({\\alpha}\\right) + 2 \\, \\sqrt{3} {\\mathcal A_\\mu} {\\delta} {\\varepsilon}^{3} {\\mu_I} {e} \\cos\\left({\\alpha}\\right) \\sin\\left({\\alpha}\\right) + \\sqrt{3} {\\mathcal A_\\mu}^{2} {\\varepsilon}^{3} {e}^{2} \\cos\\left({\\alpha}\\right) \\sin\\left({\\alpha}\\right)\\right)} \\pi_5\\left(x\\right) \\pi_6\\left(x\\right) - {\\left(\\sqrt{3} {\\delta}^{2} {\\varepsilon}^{3} {\\mu_I}^{2} \\cos\\left({\\alpha}\\right) \\sin\\left({\\alpha}\\right) + 2 \\, \\sqrt{3} {\\mathcal A_\\mu} {\\delta} {\\varepsilon}^{3} {\\mu_I} {e} \\cos\\left({\\alpha}\\right) \\sin\\left({\\alpha}\\right) + \\sqrt{3} {\\mathcal A_\\mu}^{2} {\\varepsilon}^{3} {e}^{2} \\cos\\left({\\alpha}\\right) \\sin\\left({\\alpha}\\right)\\right)} \\pi_4\\left(x\\right) \\pi_7\\left(x\\right)\\right)} \\pi_8\\left(x\\right)}{24 \\, f}</script></html>"
      ],
      "text/plain": [
       "-1/24*(12*(cos(a)^2 - 1)*d^2*f^3*muI^2 + 24*(A_mu*cos(a)^2 - A_mu)*d*f^3*muI*qe + 12*(A_mu^2*cos(a)^2 - A_mu^2)*f^3*qe^2 + 16*(d^2*e^3*muI^2*cos(a)*sin(a) + 2*A_mu*d*e^3*muI*qe*cos(a)*sin(a) + A_mu^2*e^3*qe^2*cos(a)*sin(a))*pi2(x)^3 - 12*(2*d^2*e^3*muI*muS*sin(a) + A_mu^2*e^3*qe^2*sin(a) + (A_mu*d*e^3*muI*sin(a) + 2*A_mu*d*e^3*muS*sin(a))*qe)*pi3(x)*pi5(x)*pi6(x) + 12*(2*d^2*e^3*muI*muS*sin(a) + A_mu^2*e^3*qe^2*sin(a) + (A_mu*d*e^3*muI*sin(a) + 2*A_mu*d*e^3*muS*sin(a))*qe)*pi3(x)*pi4(x)*pi7(x) - 12*(d^2*e^2*f*muI^2*cos(a)^2 + 2*A_mu*d*e^2*f*muI*qe*cos(a)^2 + A_mu^2*e^2*f*qe^2*cos(a)^2)*pi1(x)^2 - 12*((2*cos(a)^2 - 1)*d^2*e^2*f*muI^2 + 2*(2*A_mu*cos(a)^2 - A_mu)*d*e^2*f*muI*qe + (2*A_mu^2*cos(a)^2 - A_mu^2)*e^2*f*qe^2)*pi2(x)^2 - 4*(3*(cos(a)^2 - 1)*d^2*e^2*f*muI^2 + 6*(A_mu*cos(a)^2 - A_mu)*d*e^2*f*muI*qe + 3*(A_mu^2*cos(a)^2 - A_mu^2)*e^2*f*qe^2 - 4*(d^2*e^3*muI^2*cos(a)*sin(a) + 2*A_mu*d*e^3*muI*qe*cos(a)*sin(a) + A_mu^2*e^3*qe^2*cos(a)*sin(a))*pi2(x))*pi3(x)^2 - (3*(2*cos(a)^2 - 1)*d^2*e^2*f*muI^2 + 12*d^2*e^2*f*muI*muS*cos(a) + 12*d^2*e^2*f*muS^2 + 6*(A_mu^2*cos(a)^2 + A_mu^2*cos(a))*e^2*f*qe^2 + 6*((2*A_mu*cos(a)^2 + A_mu*cos(a) - A_mu)*d*e^2*f*muI + 2*(A_mu*cos(a) + A_mu)*d*e^2*f*muS)*qe - 2*(5*d^2*e^3*muI^2*cos(a)*sin(a) + 6*d^2*e^3*muI*muS*sin(a) + (5*A_mu^2*cos(a) + 3*A_mu^2)*e^3*qe^2*sin(a) + ((10*A_mu*cos(a) + 3*A_mu)*d*e^3*muI*sin(a) + 6*A_mu*d*e^3*muS*sin(a))*qe)*pi2(x))*pi4(x)^2 - (3*(2*cos(a)^2 - 1)*d^2*e^2*f*muI^2 + 12*d^2*e^2*f*muI*muS*cos(a) + 12*d^2*e^2*f*muS^2 + 6*(A_mu^2*cos(a)^2 + A_mu^2*cos(a))*e^2*f*qe^2 + 6*((2*A_mu*cos(a)^2 + A_mu*cos(a) - A_mu)*d*e^2*f*muI + 2*(A_mu*cos(a) + A_mu)*d*e^2*f*muS)*qe - 2*(5*d^2*e^3*muI^2*cos(a)*sin(a) + 6*d^2*e^3*muI*muS*sin(a) + (5*A_mu^2*cos(a) + 3*A_mu^2)*e^3*qe^2*sin(a) + ((10*A_mu*cos(a) + 3*A_mu)*d*e^3*muI*sin(a) + 6*A_mu*d*e^3*muS*sin(a))*qe)*pi2(x))*pi5(x)^2 - (3*(2*cos(a)^2 - 1)*d^2*e^2*f*muI^2 - 12*d^2*e^2*f*muI*muS*cos(a) + 12*d^2*e^2*f*muS^2 + 6*(A_mu^2*cos(a)^2 - A_mu^2*cos(a))*e^2*f*qe^2 + 6*((2*A_mu*cos(a)^2 - A_mu*cos(a) - A_mu)*d*e^2*f*muI - 2*(A_mu*cos(a) - A_mu)*d*e^2*f*muS)*qe - 2*(5*d^2*e^3*muI^2*cos(a)*sin(a) - 6*d^2*e^3*muI*muS*sin(a) + (5*A_mu^2*cos(a) - 3*A_mu^2)*e^3*qe^2*sin(a) + ((10*A_mu*cos(a) - 3*A_mu)*d*e^3*muI*sin(a) - 6*A_mu*d*e^3*muS*sin(a))*qe)*pi2(x))*pi6(x)^2 - (3*(2*cos(a)^2 - 1)*d^2*e^2*f*muI^2 - 12*d^2*e^2*f*muI*muS*cos(a) + 12*d^2*e^2*f*muS^2 + 6*(A_mu^2*cos(a)^2 - A_mu^2*cos(a))*e^2*f*qe^2 + 6*((2*A_mu*cos(a)^2 - A_mu*cos(a) - A_mu)*d*e^2*f*muI - 2*(A_mu*cos(a) - A_mu)*d*e^2*f*muS)*qe - 2*(5*d^2*e^3*muI^2*cos(a)*sin(a) - 6*d^2*e^3*muI*muS*sin(a) + (5*A_mu^2*cos(a) - 3*A_mu^2)*e^3*qe^2*sin(a) + ((10*A_mu*cos(a) - 3*A_mu)*d*e^3*muI*sin(a) - 6*A_mu*d*e^3*muS*sin(a))*qe)*pi2(x))*pi7(x)^2 - 8*(3*d^2*e*f^2*muI^2*cos(a)*sin(a) + 6*A_mu*d*e*f^2*muI*qe*cos(a)*sin(a) + 3*A_mu^2*e*f^2*qe^2*cos(a)*sin(a) - 2*(d^2*e^3*muI^2*cos(a)*sin(a) + 2*A_mu*d*e^3*muI*qe*cos(a)*sin(a) + A_mu^2*e^3*qe^2*cos(a)*sin(a))*pi1(x)^2)*pi2(x) - 4*((sqrt(3)*d^2*e^3*muI^2*cos(a)*sin(a) + 2*sqrt(3)*A_mu*d*e^3*muI*qe*cos(a)*sin(a) + sqrt(3)*A_mu^2*e^3*qe^2*cos(a)*sin(a))*pi5(x)*pi6(x) - (sqrt(3)*d^2*e^3*muI^2*cos(a)*sin(a) + 2*sqrt(3)*A_mu*d*e^3*muI*qe*cos(a)*sin(a) + sqrt(3)*A_mu^2*e^3*qe^2*cos(a)*sin(a))*pi4(x)*pi7(x))*pi8(x))/f"
      ]
     },
     "execution_count": 24,
     "metadata": {},
     "output_type": "execute_result"
    }
   ],
   "source": [
    "term3"
   ]
  },
  {
   "cell_type": "code",
   "execution_count": 25,
   "id": "cc481dd3",
   "metadata": {},
   "outputs": [
    {
     "data": {
      "text/html": [
       "<html><script type=\"math/tex; mode=display\">\\newcommand{\\Bold}[1]{\\mathbf{#1}}\\frac{2 \\, {\\varepsilon}^{3} {\\bar m}^{2} \\pi_2\\left(x\\right)^{3} \\sin\\left({\\alpha}\\right) - 6 \\, {\\varepsilon}^{2} f {\\bar m}^{2} \\cos\\left({\\alpha}\\right) \\pi_1\\left(x\\right)^{2} - 6 \\, {\\varepsilon}^{2} f {\\bar m}^{2} \\cos\\left({\\alpha}\\right) \\pi_2\\left(x\\right)^{2} + 4 \\, \\sqrt{3} {\\Delta m}^{2} {\\varepsilon}^{2} f \\pi_3\\left(x\\right) \\pi_8\\left(x\\right) + 12 \\, f^{3} {\\bar m}^{2} \\cos\\left({\\alpha}\\right) + 6 \\, f^{3} {m_S}^{2} + 2 \\, {\\left({\\varepsilon}^{3} {\\bar m}^{2} \\pi_2\\left(x\\right) \\sin\\left({\\alpha}\\right) - 3 \\, {\\varepsilon}^{2} f {\\bar m}^{2} \\cos\\left({\\alpha}\\right)\\right)} \\pi_3\\left(x\\right)^{2} + {\\left(2 \\, {\\varepsilon}^{3} {\\bar m}^{2} \\pi_2\\left(x\\right) \\sin\\left({\\alpha}\\right) - 3 \\, {\\varepsilon}^{2} f {\\bar m}^{2} \\cos\\left({\\alpha}\\right) + 3 \\, {\\Delta m}^{2} {\\varepsilon}^{2} f - 3 \\, {\\varepsilon}^{2} f {m_S}^{2}\\right)} \\pi_4\\left(x\\right)^{2} + {\\left(2 \\, {\\varepsilon}^{3} {\\bar m}^{2} \\pi_2\\left(x\\right) \\sin\\left({\\alpha}\\right) - 3 \\, {\\varepsilon}^{2} f {\\bar m}^{2} \\cos\\left({\\alpha}\\right) + 3 \\, {\\Delta m}^{2} {\\varepsilon}^{2} f - 3 \\, {\\varepsilon}^{2} f {m_S}^{2}\\right)} \\pi_5\\left(x\\right)^{2} + {\\left(2 \\, {\\varepsilon}^{3} {\\bar m}^{2} \\pi_2\\left(x\\right) \\sin\\left({\\alpha}\\right) - 3 \\, {\\varepsilon}^{2} f {\\bar m}^{2} \\cos\\left({\\alpha}\\right) - 3 \\, {\\Delta m}^{2} {\\varepsilon}^{2} f - 3 \\, {\\varepsilon}^{2} f {m_S}^{2}\\right)} \\pi_6\\left(x\\right)^{2} + {\\left(2 \\, {\\varepsilon}^{3} {\\bar m}^{2} \\pi_2\\left(x\\right) \\sin\\left({\\alpha}\\right) - 3 \\, {\\varepsilon}^{2} f {\\bar m}^{2} \\cos\\left({\\alpha}\\right) - 3 \\, {\\Delta m}^{2} {\\varepsilon}^{2} f - 3 \\, {\\varepsilon}^{2} f {m_S}^{2}\\right)} \\pi_7\\left(x\\right)^{2} + 2 \\, {\\left({\\varepsilon}^{3} {\\bar m}^{2} \\pi_2\\left(x\\right) \\sin\\left({\\alpha}\\right) - {\\varepsilon}^{2} f {\\bar m}^{2} \\cos\\left({\\alpha}\\right) - 2 \\, {\\varepsilon}^{2} f {m_S}^{2}\\right)} \\pi_8\\left(x\\right)^{2} + 2 \\, {\\left({\\varepsilon}^{3} {\\bar m}^{2} \\pi_1\\left(x\\right)^{2} \\sin\\left({\\alpha}\\right) - 6 \\, {\\varepsilon} f^{2} {\\bar m}^{2} \\sin\\left({\\alpha}\\right)\\right)} \\pi_2\\left(x\\right)}{12 \\, f}</script></html>"
      ],
      "text/plain": [
       "1/12*(2*e^3*mbar^2*pi2(x)^3*sin(a) - 6*e^2*f*mbar^2*cos(a)*pi1(x)^2 - 6*e^2*f*mbar^2*cos(a)*pi2(x)^2 + 4*sqrt(3)*dm^2*e^2*f*pi3(x)*pi8(x) + 12*f^3*mbar^2*cos(a) + 6*f^3*mS^2 + 2*(e^3*mbar^2*pi2(x)*sin(a) - 3*e^2*f*mbar^2*cos(a))*pi3(x)^2 + (2*e^3*mbar^2*pi2(x)*sin(a) - 3*e^2*f*mbar^2*cos(a) + 3*dm^2*e^2*f - 3*e^2*f*mS^2)*pi4(x)^2 + (2*e^3*mbar^2*pi2(x)*sin(a) - 3*e^2*f*mbar^2*cos(a) + 3*dm^2*e^2*f - 3*e^2*f*mS^2)*pi5(x)^2 + (2*e^3*mbar^2*pi2(x)*sin(a) - 3*e^2*f*mbar^2*cos(a) - 3*dm^2*e^2*f - 3*e^2*f*mS^2)*pi6(x)^2 + (2*e^3*mbar^2*pi2(x)*sin(a) - 3*e^2*f*mbar^2*cos(a) - 3*dm^2*e^2*f - 3*e^2*f*mS^2)*pi7(x)^2 + 2*(e^3*mbar^2*pi2(x)*sin(a) - e^2*f*mbar^2*cos(a) - 2*e^2*f*mS^2)*pi8(x)^2 + 2*(e^3*mbar^2*pi1(x)^2*sin(a) - 6*e*f^2*mbar^2*sin(a))*pi2(x))/f"
      ]
     },
     "execution_count": 25,
     "metadata": {},
     "output_type": "execute_result"
    }
   ],
   "source": [
    "mass_term "
   ]
  },
  {
   "cell_type": "code",
   "execution_count": 26,
   "id": "13e88077",
   "metadata": {},
   "outputs": [
    {
     "data": {
      "text/html": [
       "<html><script type=\"math/tex; mode=display\">\\newcommand{\\Bold}[1]{\\mathbf{#1}}-\\frac{4 \\, \\sqrt{3} C {\\varepsilon}^{3} {e}^{2} \\cos\\left(\\frac{1}{2} \\, {\\alpha}\\right)^{3} \\pi_5\\left(x\\right) \\pi_6\\left(x\\right) \\pi_8\\left(x\\right) \\sin\\left(\\frac{1}{2} \\, {\\alpha}\\right)}{3 \\, f^{3}} + \\frac{4 \\, \\sqrt{3} C {\\varepsilon}^{3} {e}^{2} \\cos\\left(\\frac{1}{2} \\, {\\alpha}\\right)^{3} \\pi_4\\left(x\\right) \\pi_7\\left(x\\right) \\pi_8\\left(x\\right) \\sin\\left(\\frac{1}{2} \\, {\\alpha}\\right)}{3 \\, f^{3}} + \\frac{16 \\, C {\\varepsilon}^{3} {e}^{2} \\cos\\left(\\frac{1}{2} \\, {\\alpha}\\right)^{3} \\pi_1\\left(x\\right)^{2} \\pi_2\\left(x\\right) \\sin\\left(\\frac{1}{2} \\, {\\alpha}\\right)}{3 \\, f^{3}} + \\frac{16 \\, C {\\varepsilon}^{3} {e}^{2} \\cos\\left(\\frac{1}{2} \\, {\\alpha}\\right)^{3} \\pi_2\\left(x\\right)^{3} \\sin\\left(\\frac{1}{2} \\, {\\alpha}\\right)}{3 \\, f^{3}} + \\frac{16 \\, C {\\varepsilon}^{3} {e}^{2} \\cos\\left(\\frac{1}{2} \\, {\\alpha}\\right)^{3} \\pi_2\\left(x\\right) \\pi_3\\left(x\\right)^{2} \\sin\\left(\\frac{1}{2} \\, {\\alpha}\\right)}{3 \\, f^{3}} + \\frac{10 \\, C {\\varepsilon}^{3} {e}^{2} \\cos\\left(\\frac{1}{2} \\, {\\alpha}\\right)^{3} \\pi_2\\left(x\\right) \\pi_4\\left(x\\right)^{2} \\sin\\left(\\frac{1}{2} \\, {\\alpha}\\right)}{3 \\, f^{3}} + \\frac{10 \\, C {\\varepsilon}^{3} {e}^{2} \\cos\\left(\\frac{1}{2} \\, {\\alpha}\\right)^{3} \\pi_2\\left(x\\right) \\pi_5\\left(x\\right)^{2} \\sin\\left(\\frac{1}{2} \\, {\\alpha}\\right)}{3 \\, f^{3}} + \\frac{10 \\, C {\\varepsilon}^{3} {e}^{2} \\cos\\left(\\frac{1}{2} \\, {\\alpha}\\right)^{3} \\pi_2\\left(x\\right) \\pi_6\\left(x\\right)^{2} \\sin\\left(\\frac{1}{2} \\, {\\alpha}\\right)}{3 \\, f^{3}} + \\frac{10 \\, C {\\varepsilon}^{3} {e}^{2} \\cos\\left(\\frac{1}{2} \\, {\\alpha}\\right)^{3} \\pi_2\\left(x\\right) \\pi_7\\left(x\\right)^{2} \\sin\\left(\\frac{1}{2} \\, {\\alpha}\\right)}{3 \\, f^{3}} - \\frac{4 \\, C {\\varepsilon}^{2} {e}^{2} \\cos\\left(\\frac{1}{2} \\, {\\alpha}\\right)^{4} \\pi_1\\left(x\\right)^{2}}{f^{2}} - \\frac{8 \\, C {\\varepsilon}^{2} {e}^{2} \\cos\\left(\\frac{1}{2} \\, {\\alpha}\\right)^{4} \\pi_2\\left(x\\right)^{2}}{f^{2}} - \\frac{4 \\, C {\\varepsilon}^{2} {e}^{2} \\cos\\left(\\frac{1}{2} \\, {\\alpha}\\right)^{4} \\pi_3\\left(x\\right)^{2}}{f^{2}} - \\frac{2 \\, C {\\varepsilon}^{2} {e}^{2} \\cos\\left(\\frac{1}{2} \\, {\\alpha}\\right)^{4} \\pi_4\\left(x\\right)^{2}}{f^{2}} - \\frac{2 \\, C {\\varepsilon}^{2} {e}^{2} \\cos\\left(\\frac{1}{2} \\, {\\alpha}\\right)^{4} \\pi_5\\left(x\\right)^{2}}{f^{2}} - \\frac{2 \\, C {\\varepsilon}^{2} {e}^{2} \\cos\\left(\\frac{1}{2} \\, {\\alpha}\\right)^{4} \\pi_6\\left(x\\right)^{2}}{f^{2}} - \\frac{2 \\, C {\\varepsilon}^{2} {e}^{2} \\cos\\left(\\frac{1}{2} \\, {\\alpha}\\right)^{4} \\pi_7\\left(x\\right)^{2}}{f^{2}} + \\frac{2 \\, \\sqrt{3} C {\\varepsilon}^{3} {e}^{2} \\cos\\left(\\frac{1}{2} \\, {\\alpha}\\right) \\pi_5\\left(x\\right) \\pi_6\\left(x\\right) \\pi_8\\left(x\\right) \\sin\\left(\\frac{1}{2} \\, {\\alpha}\\right)}{3 \\, f^{3}} - \\frac{2 \\, \\sqrt{3} C {\\varepsilon}^{3} {e}^{2} \\cos\\left(\\frac{1}{2} \\, {\\alpha}\\right) \\pi_4\\left(x\\right) \\pi_7\\left(x\\right) \\pi_8\\left(x\\right) \\sin\\left(\\frac{1}{2} \\, {\\alpha}\\right)}{3 \\, f^{3}} - \\frac{8 \\, C {\\varepsilon} {e}^{2} \\cos\\left(\\frac{1}{2} \\, {\\alpha}\\right)^{3} \\pi_2\\left(x\\right) \\sin\\left(\\frac{1}{2} \\, {\\alpha}\\right)}{f} - \\frac{8 \\, C {\\varepsilon}^{3} {e}^{2} \\cos\\left(\\frac{1}{2} \\, {\\alpha}\\right) \\pi_1\\left(x\\right)^{2} \\pi_2\\left(x\\right) \\sin\\left(\\frac{1}{2} \\, {\\alpha}\\right)}{3 \\, f^{3}} - \\frac{8 \\, C {\\varepsilon}^{3} {e}^{2} \\cos\\left(\\frac{1}{2} \\, {\\alpha}\\right) \\pi_2\\left(x\\right)^{3} \\sin\\left(\\frac{1}{2} \\, {\\alpha}\\right)}{3 \\, f^{3}} - \\frac{8 \\, C {\\varepsilon}^{3} {e}^{2} \\cos\\left(\\frac{1}{2} \\, {\\alpha}\\right) \\pi_2\\left(x\\right) \\pi_3\\left(x\\right)^{2} \\sin\\left(\\frac{1}{2} \\, {\\alpha}\\right)}{3 \\, f^{3}} - \\frac{2 \\, C {\\varepsilon}^{3} {e}^{2} \\cos\\left(\\frac{1}{2} \\, {\\alpha}\\right) \\pi_2\\left(x\\right) \\pi_4\\left(x\\right)^{2} \\sin\\left(\\frac{1}{2} \\, {\\alpha}\\right)}{3 \\, f^{3}} - \\frac{2 \\, C {\\varepsilon}^{3} {e}^{2} \\cos\\left(\\frac{1}{2} \\, {\\alpha}\\right) \\pi_2\\left(x\\right) \\pi_5\\left(x\\right)^{2} \\sin\\left(\\frac{1}{2} \\, {\\alpha}\\right)}{3 \\, f^{3}} - \\frac{2 \\, C {\\varepsilon}^{3} {e}^{2} \\cos\\left(\\frac{1}{2} \\, {\\alpha}\\right) \\pi_3\\left(x\\right) \\pi_5\\left(x\\right) \\pi_6\\left(x\\right) \\sin\\left(\\frac{1}{2} \\, {\\alpha}\\right)}{f^{3}} - \\frac{8 \\, C {\\varepsilon}^{3} {e}^{2} \\cos\\left(\\frac{1}{2} \\, {\\alpha}\\right) \\pi_2\\left(x\\right) \\pi_6\\left(x\\right)^{2} \\sin\\left(\\frac{1}{2} \\, {\\alpha}\\right)}{3 \\, f^{3}} + \\frac{2 \\, C {\\varepsilon}^{3} {e}^{2} \\cos\\left(\\frac{1}{2} \\, {\\alpha}\\right) \\pi_3\\left(x\\right) \\pi_4\\left(x\\right) \\pi_7\\left(x\\right) \\sin\\left(\\frac{1}{2} \\, {\\alpha}\\right)}{f^{3}} - \\frac{8 \\, C {\\varepsilon}^{3} {e}^{2} \\cos\\left(\\frac{1}{2} \\, {\\alpha}\\right) \\pi_2\\left(x\\right) \\pi_7\\left(x\\right)^{2} \\sin\\left(\\frac{1}{2} \\, {\\alpha}\\right)}{3 \\, f^{3}} + 4 \\, C {e}^{2} \\cos\\left(\\frac{1}{2} \\, {\\alpha}\\right)^{4} + \\frac{4 \\, C {\\varepsilon}^{2} {e}^{2} \\cos\\left(\\frac{1}{2} \\, {\\alpha}\\right)^{2} \\pi_1\\left(x\\right)^{2}}{f^{2}} + \\frac{8 \\, C {\\varepsilon}^{2} {e}^{2} \\cos\\left(\\frac{1}{2} \\, {\\alpha}\\right)^{2} \\pi_2\\left(x\\right)^{2}}{f^{2}} + \\frac{4 \\, C {\\varepsilon}^{2} {e}^{2} \\cos\\left(\\frac{1}{2} \\, {\\alpha}\\right)^{2} \\pi_3\\left(x\\right)^{2}}{f^{2}} + \\frac{C {\\varepsilon}^{2} {e}^{2} \\cos\\left(\\frac{1}{2} \\, {\\alpha}\\right)^{2} \\pi_4\\left(x\\right)^{2}}{f^{2}} + \\frac{C {\\varepsilon}^{2} {e}^{2} \\cos\\left(\\frac{1}{2} \\, {\\alpha}\\right)^{2} \\pi_5\\left(x\\right)^{2}}{f^{2}} + \\frac{3 \\, C {\\varepsilon}^{2} {e}^{2} \\cos\\left(\\frac{1}{2} \\, {\\alpha}\\right)^{2} \\pi_6\\left(x\\right)^{2}}{f^{2}} + \\frac{3 \\, C {\\varepsilon}^{2} {e}^{2} \\cos\\left(\\frac{1}{2} \\, {\\alpha}\\right)^{2} \\pi_7\\left(x\\right)^{2}}{f^{2}} + \\frac{4 \\, C {\\varepsilon} {e}^{2} \\cos\\left(\\frac{1}{2} \\, {\\alpha}\\right) \\pi_2\\left(x\\right) \\sin\\left(\\frac{1}{2} \\, {\\alpha}\\right)}{f} - 4 \\, C {e}^{2} \\cos\\left(\\frac{1}{2} \\, {\\alpha}\\right)^{2} - \\frac{C {\\varepsilon}^{2} {e}^{2} \\pi_1\\left(x\\right)^{2}}{f^{2}} - \\frac{C {\\varepsilon}^{2} {e}^{2} \\pi_2\\left(x\\right)^{2}}{f^{2}} - \\frac{C {\\varepsilon}^{2} {e}^{2} \\pi_6\\left(x\\right)^{2}}{f^{2}} - \\frac{C {\\varepsilon}^{2} {e}^{2} \\pi_7\\left(x\\right)^{2}}{f^{2}} + \\frac{2}{3} \\, C {e}^{2}</script></html>"
      ],
      "text/plain": [
       "-4/3*sqrt(3)*C*e^3*qe^2*cos(1/2*a)^3*pi5(x)*pi6(x)*pi8(x)*sin(1/2*a)/f^3 + 4/3*sqrt(3)*C*e^3*qe^2*cos(1/2*a)^3*pi4(x)*pi7(x)*pi8(x)*sin(1/2*a)/f^3 + 16/3*C*e^3*qe^2*cos(1/2*a)^3*pi1(x)^2*pi2(x)*sin(1/2*a)/f^3 + 16/3*C*e^3*qe^2*cos(1/2*a)^3*pi2(x)^3*sin(1/2*a)/f^3 + 16/3*C*e^3*qe^2*cos(1/2*a)^3*pi2(x)*pi3(x)^2*sin(1/2*a)/f^3 + 10/3*C*e^3*qe^2*cos(1/2*a)^3*pi2(x)*pi4(x)^2*sin(1/2*a)/f^3 + 10/3*C*e^3*qe^2*cos(1/2*a)^3*pi2(x)*pi5(x)^2*sin(1/2*a)/f^3 + 10/3*C*e^3*qe^2*cos(1/2*a)^3*pi2(x)*pi6(x)^2*sin(1/2*a)/f^3 + 10/3*C*e^3*qe^2*cos(1/2*a)^3*pi2(x)*pi7(x)^2*sin(1/2*a)/f^3 - 4*C*e^2*qe^2*cos(1/2*a)^4*pi1(x)^2/f^2 - 8*C*e^2*qe^2*cos(1/2*a)^4*pi2(x)^2/f^2 - 4*C*e^2*qe^2*cos(1/2*a)^4*pi3(x)^2/f^2 - 2*C*e^2*qe^2*cos(1/2*a)^4*pi4(x)^2/f^2 - 2*C*e^2*qe^2*cos(1/2*a)^4*pi5(x)^2/f^2 - 2*C*e^2*qe^2*cos(1/2*a)^4*pi6(x)^2/f^2 - 2*C*e^2*qe^2*cos(1/2*a)^4*pi7(x)^2/f^2 + 2/3*sqrt(3)*C*e^3*qe^2*cos(1/2*a)*pi5(x)*pi6(x)*pi8(x)*sin(1/2*a)/f^3 - 2/3*sqrt(3)*C*e^3*qe^2*cos(1/2*a)*pi4(x)*pi7(x)*pi8(x)*sin(1/2*a)/f^3 - 8*C*e*qe^2*cos(1/2*a)^3*pi2(x)*sin(1/2*a)/f - 8/3*C*e^3*qe^2*cos(1/2*a)*pi1(x)^2*pi2(x)*sin(1/2*a)/f^3 - 8/3*C*e^3*qe^2*cos(1/2*a)*pi2(x)^3*sin(1/2*a)/f^3 - 8/3*C*e^3*qe^2*cos(1/2*a)*pi2(x)*pi3(x)^2*sin(1/2*a)/f^3 - 2/3*C*e^3*qe^2*cos(1/2*a)*pi2(x)*pi4(x)^2*sin(1/2*a)/f^3 - 2/3*C*e^3*qe^2*cos(1/2*a)*pi2(x)*pi5(x)^2*sin(1/2*a)/f^3 - 2*C*e^3*qe^2*cos(1/2*a)*pi3(x)*pi5(x)*pi6(x)*sin(1/2*a)/f^3 - 8/3*C*e^3*qe^2*cos(1/2*a)*pi2(x)*pi6(x)^2*sin(1/2*a)/f^3 + 2*C*e^3*qe^2*cos(1/2*a)*pi3(x)*pi4(x)*pi7(x)*sin(1/2*a)/f^3 - 8/3*C*e^3*qe^2*cos(1/2*a)*pi2(x)*pi7(x)^2*sin(1/2*a)/f^3 + 4*C*qe^2*cos(1/2*a)^4 + 4*C*e^2*qe^2*cos(1/2*a)^2*pi1(x)^2/f^2 + 8*C*e^2*qe^2*cos(1/2*a)^2*pi2(x)^2/f^2 + 4*C*e^2*qe^2*cos(1/2*a)^2*pi3(x)^2/f^2 + C*e^2*qe^2*cos(1/2*a)^2*pi4(x)^2/f^2 + C*e^2*qe^2*cos(1/2*a)^2*pi5(x)^2/f^2 + 3*C*e^2*qe^2*cos(1/2*a)^2*pi6(x)^2/f^2 + 3*C*e^2*qe^2*cos(1/2*a)^2*pi7(x)^2/f^2 + 4*C*e*qe^2*cos(1/2*a)*pi2(x)*sin(1/2*a)/f - 4*C*qe^2*cos(1/2*a)^2 - C*e^2*qe^2*pi1(x)^2/f^2 - C*e^2*qe^2*pi2(x)^2/f^2 - C*e^2*qe^2*pi6(x)^2/f^2 - C*e^2*qe^2*pi7(x)^2/f^2 + 2/3*C*qe^2"
      ]
     },
     "execution_count": 26,
     "metadata": {},
     "output_type": "execute_result"
    }
   ],
   "source": [
    "em_term.expand()"
   ]
  },
  {
   "cell_type": "code",
   "execution_count": 27,
   "id": "0b986855",
   "metadata": {},
   "outputs": [
    {
     "data": {
      "text/html": [
       "<html><script type=\"math/tex; mode=display\">\\newcommand{\\Bold}[1]{\\mathbf{#1}}C \\cos\\left({\\alpha}\\right)^{2} - \\frac{1}{3} \\, C</script></html>"
      ],
      "text/plain": [
       "C*cos(a)^2 - 1/3*C"
      ]
     },
     "execution_count": 27,
     "metadata": {},
     "output_type": "execute_result"
    }
   ],
   "source": [
    "(1/2*(cos(a)**2 - 1/3)*2*C).full_simplify()"
   ]
  },
  {
   "cell_type": "code",
   "execution_count": 28,
   "id": "76a38c62",
   "metadata": {},
   "outputs": [],
   "source": [
    "S = mat_prep(exp_l_a(l5, a), n)\n",
    "Sd = S.T\n",
    "\n",
    "dS = diff(S, x) # nabla_mu Sigma\n",
    "dSd = diff(Sd, x)\n",
    "COM = v*S - S*v # [v_mu, Sigma]\n",
    "COMd = Sd*v - v*Sd\n",
    "\n",
    "dS = mat_prep(dS, n)\n",
    "dSd = mat_prep(dSd, n)\n",
    "COM = mat_prep(COM, n)\n",
    "COMd = mat_prep(COMd, n)\n",
    "\n",
    "term1 = mat_prep(dS*(dSd), n) \n",
    "term2 = -I*mat_prep(dS*(-COMd) + COM*dSd, n)\n",
    "term3 = mat_prep(COM*COMd, n)\n",
    "\n",
    "term1 = term1.trace().trig_reduce().full_simplify()\n",
    "term2 = term2.trace().trig_reduce().full_simplify()\n",
    "term3 = term3.trace().trig_reduce().full_simplify()\n",
    "\n",
    "mass_term = (chi*Sd + S*chi).trace().trig_reduce().full_simplify()\n",
    "em_term = qe**2*C*(Q*S*Q*Sd)\n",
    "em_term = mat_prep(em_term, n).trace().full_simplify().full_simplify()\n",
    "\n",
    "term1, term2, term3, mass_term = (f^2/4 * term for term in [term1, term2, term3, mass_term])"
   ]
  },
  {
   "cell_type": "code",
   "execution_count": 29,
   "id": "32376b0e",
   "metadata": {},
   "outputs": [
    {
     "data": {
      "text/html": [
       "<html><script type=\"math/tex; mode=display\">\\newcommand{\\Bold}[1]{\\mathbf{#1}}0</script></html>"
      ],
      "text/plain": [
       "0"
      ]
     },
     "execution_count": 29,
     "metadata": {},
     "output_type": "execute_result"
    }
   ],
   "source": [
    "term1"
   ]
  },
  {
   "cell_type": "code",
   "execution_count": 30,
   "id": "afa6e7e5",
   "metadata": {},
   "outputs": [
    {
     "data": {
      "text/html": [
       "<html><script type=\"math/tex; mode=display\">\\newcommand{\\Bold}[1]{\\mathbf{#1}}0</script></html>"
      ],
      "text/plain": [
       "0"
      ]
     },
     "execution_count": 30,
     "metadata": {},
     "output_type": "execute_result"
    }
   ],
   "source": [
    "term2"
   ]
  },
  {
   "cell_type": "code",
   "execution_count": 31,
   "id": "ed4505a5",
   "metadata": {},
   "outputs": [
    {
     "data": {
      "text/html": [
       "<html><script type=\"math/tex; mode=display\">\\newcommand{\\Bold}[1]{\\mathbf{#1}}\\frac{1}{8} \\, {\\left({\\delta}^{2} {\\mu_I}^{2} \\sin\\left({\\alpha}\\right)^{2} + 4 \\, {\\delta}^{2} {\\mu_I} {\\mu_S} \\sin\\left({\\alpha}\\right)^{2} + 4 \\, {\\delta}^{2} {\\mu_S}^{2} \\sin\\left({\\alpha}\\right)^{2} + 4 \\, {\\mathcal A_\\mu}^{2} {e}^{2} \\sin\\left({\\alpha}\\right)^{2} + 4 \\, {\\left({\\mathcal A_\\mu} {\\delta} {\\mu_I} \\sin\\left({\\alpha}\\right)^{2} + 2 \\, {\\mathcal A_\\mu} {\\delta} {\\mu_S} \\sin\\left({\\alpha}\\right)^{2}\\right)} {e}\\right)} f^{2}</script></html>"
      ],
      "text/plain": [
       "1/8*(d^2*muI^2*sin(a)^2 + 4*d^2*muI*muS*sin(a)^2 + 4*d^2*muS^2*sin(a)^2 + 4*A_mu^2*qe^2*sin(a)^2 + 4*(A_mu*d*muI*sin(a)^2 + 2*A_mu*d*muS*sin(a)^2)*qe)*f^2"
      ]
     },
     "execution_count": 31,
     "metadata": {},
     "output_type": "execute_result"
    }
   ],
   "source": [
    "term3"
   ]
  },
  {
   "cell_type": "code",
   "execution_count": 32,
   "id": "b8785bf6",
   "metadata": {},
   "outputs": [
    {
     "data": {
      "text/html": [
       "<html><script type=\"math/tex; mode=display\">\\newcommand{\\Bold}[1]{\\mathbf{#1}}\\frac{1}{2} \\, {\\left({\\bar m}^{2} {\\left(\\cos\\left({\\alpha}\\right) + 1\\right)} - {\\Delta m}^{2} {\\left(\\cos\\left({\\alpha}\\right) - 1\\right)} + {m_S}^{2} \\cos\\left({\\alpha}\\right)\\right)} f^{2}</script></html>"
      ],
      "text/plain": [
       "1/2*(mbar^2*(cos(a) + 1) - dm^2*(cos(a) - 1) + mS^2*cos(a))*f^2"
      ]
     },
     "execution_count": 32,
     "metadata": {},
     "output_type": "execute_result"
    }
   ],
   "source": [
    "mass_term"
   ]
  },
  {
   "cell_type": "code",
   "execution_count": 33,
   "id": "9767c511",
   "metadata": {},
   "outputs": [
    {
     "data": {
      "text/html": [
       "<html><script type=\"math/tex; mode=display\">\\newcommand{\\Bold}[1]{\\mathbf{#1}}\\frac{1}{3} \\, {\\left(3 \\, C \\cos\\left({\\alpha}\\right)^{2} - C\\right)} {e}^{2}</script></html>"
      ],
      "text/plain": [
       "1/3*(3*C*cos(a)^2 - C)*qe^2"
      ]
     },
     "execution_count": 33,
     "metadata": {},
     "output_type": "execute_result"
    }
   ],
   "source": [
    "em_term.full_simplify()"
   ]
  },
  {
   "cell_type": "code",
   "execution_count": 34,
   "id": "6269a07d",
   "metadata": {},
   "outputs": [],
   "source": [
    "S = mat_prep(exp_l_a(l7, a), n)\n",
    "Sd = S.T\n",
    "\n",
    "dS = diff(S, x) # nabla_mu Sigma\n",
    "dSd = diff(Sd, x)\n",
    "COM = v*S - S*v # [v_mu, Sigma]\n",
    "COMd = Sd*v - v*Sd\n",
    "\n",
    "dS = mat_prep(dS, n)\n",
    "dSd = mat_prep(dSd, n)\n",
    "COM = mat_prep(COM, n)\n",
    "COMd = mat_prep(COMd, n)\n",
    "\n",
    "term1 = mat_prep(dS*(dSd), n) \n",
    "term2 = -I*mat_prep(dS*(-COMd) + COM*dSd, n)\n",
    "term3 = mat_prep(COM*COMd, n)\n",
    "\n",
    "term1 = term1.trace().trig_reduce().full_simplify()\n",
    "term2 = term2.trace().trig_reduce().full_simplify()\n",
    "term3 = term3.trace().trig_reduce().full_simplify()\n",
    "\n",
    "mass_term = (chi*Sd + S*chi).trace().trig_reduce().full_simplify()\n",
    "em_term = qe**2*C*(Q*S*Q*Sd)\n",
    "em_term = mat_prep(em_term, n).trace().full_simplify().full_simplify()\n",
    "\n",
    "term1, term2, term3, mass_term = (f^2/4 * term for term in [term1, term2, term3, mass_term])"
   ]
  },
  {
   "cell_type": "code",
   "execution_count": 35,
   "id": "aece3bde",
   "metadata": {},
   "outputs": [
    {
     "data": {
      "text/html": [
       "<html><script type=\"math/tex; mode=display\">\\newcommand{\\Bold}[1]{\\mathbf{#1}}0</script></html>"
      ],
      "text/plain": [
       "0"
      ]
     },
     "execution_count": 35,
     "metadata": {},
     "output_type": "execute_result"
    }
   ],
   "source": [
    "term1"
   ]
  },
  {
   "cell_type": "code",
   "execution_count": 36,
   "id": "c872d414",
   "metadata": {},
   "outputs": [
    {
     "data": {
      "text/html": [
       "<html><script type=\"math/tex; mode=display\">\\newcommand{\\Bold}[1]{\\mathbf{#1}}0</script></html>"
      ],
      "text/plain": [
       "0"
      ]
     },
     "execution_count": 36,
     "metadata": {},
     "output_type": "execute_result"
    }
   ],
   "source": [
    "term2"
   ]
  },
  {
   "cell_type": "code",
   "execution_count": 37,
   "id": "56c55034",
   "metadata": {},
   "outputs": [
    {
     "data": {
      "text/html": [
       "<html><script type=\"math/tex; mode=display\">\\newcommand{\\Bold}[1]{\\mathbf{#1}}\\frac{1}{8} \\, {\\left({\\delta}^{2} {\\mu_I}^{2} \\sin\\left({\\alpha}\\right)^{2} - 4 \\, {\\delta}^{2} {\\mu_I} {\\mu_S} \\sin\\left({\\alpha}\\right)^{2} + 4 \\, {\\delta}^{2} {\\mu_S}^{2} \\sin\\left({\\alpha}\\right)^{2}\\right)} f^{2}</script></html>"
      ],
      "text/plain": [
       "1/8*(d^2*muI^2*sin(a)^2 - 4*d^2*muI*muS*sin(a)^2 + 4*d^2*muS^2*sin(a)^2)*f^2"
      ]
     },
     "execution_count": 37,
     "metadata": {},
     "output_type": "execute_result"
    }
   ],
   "source": [
    "term3"
   ]
  },
  {
   "cell_type": "code",
   "execution_count": 38,
   "id": "b4e9d200",
   "metadata": {},
   "outputs": [
    {
     "data": {
      "text/html": [
       "<html><script type=\"math/tex; mode=display\">\\newcommand{\\Bold}[1]{\\mathbf{#1}}\\frac{1}{2} \\, {\\left({\\bar m}^{2} {\\left(\\cos\\left({\\alpha}\\right) + 1\\right)} + {\\Delta m}^{2} {\\left(\\cos\\left({\\alpha}\\right) - 1\\right)} + {m_S}^{2} \\cos\\left({\\alpha}\\right)\\right)} f^{2}</script></html>"
      ],
      "text/plain": [
       "1/2*(mbar^2*(cos(a) + 1) + dm^2*(cos(a) - 1) + mS^2*cos(a))*f^2"
      ]
     },
     "execution_count": 38,
     "metadata": {},
     "output_type": "execute_result"
    }
   ],
   "source": [
    "mass_term"
   ]
  },
  {
   "cell_type": "code",
   "execution_count": 39,
   "id": "a77a2a58",
   "metadata": {},
   "outputs": [
    {
     "data": {
      "text/html": [
       "<html><script type=\"math/tex; mode=display\">\\newcommand{\\Bold}[1]{\\mathbf{#1}}\\frac{2}{3} \\, C {e}^{2}</script></html>"
      ],
      "text/plain": [
       "2/3*C*qe^2"
      ]
     },
     "execution_count": 39,
     "metadata": {},
     "output_type": "execute_result"
    }
   ],
   "source": [
    "em_term"
   ]
  },
  {
   "cell_type": "code",
   "execution_count": 40,
   "id": "639ff7e8",
   "metadata": {},
   "outputs": [
    {
     "data": {
      "text/html": [
       "<html><script type=\"math/tex; mode=display\">\\newcommand{\\Bold}[1]{\\mathbf{#1}}-\\frac{{\\delta} + \\frac{x^{2}}{{\\delta} x^{2} - 1} - \\frac{1}{x^{2}} + 2}{{\\delta} + \\frac{{\\left({\\delta} x^{2} - 3\\right)} x^{2}}{{\\left({\\delta} x^{2} - 1\\right)}^{2}} + \\frac{1}{x^{2}} + 2}</script></html>"
      ],
      "text/plain": [
       "-(d + x^2/(d*x^2 - 1) - 1/x^2 + 2)/(d + (d*x^2 - 3)*x^2/(d*x^2 - 1)^2 + 1/x^2 + 2)"
      ]
     },
     "execution_count": 40,
     "metadata": {},
     "output_type": "execute_result"
    }
   ],
   "source": [
    "k1 = (\n",
    "    (1/x**2 + x**2/(1 - x**2*d) - 2 - d) \n",
    "    / (\n",
    "        (1/x**2 - x**2*(3 - x**2 * d)/(1 - x**2*d)**2 + 2 + d)\n",
    "    )\n",
    ")\n",
    "k1"
   ]
  },
  {
   "cell_type": "code",
   "execution_count": 41,
   "id": "2538f98b",
   "metadata": {},
   "outputs": [
    {
     "data": {
      "text/html": [
       "<html><script type=\"math/tex; mode=display\">\\newcommand{\\Bold}[1]{\\mathbf{#1}}-\\frac{{\\left({\\delta}^{2} + {\\delta}\\right)} x^{4} - {\\left(2 \\, {\\delta} + 1\\right)} x^{2} + 1}{{\\left({\\delta}^{2} + {\\delta}\\right)} x^{4} - 3 \\, x^{2} - 1}</script></html>"
      ],
      "text/plain": [
       "-((d^2 + d)*x^4 - (2*d + 1)*x^2 + 1)/((d^2 + d)*x^4 - 3*x^2 - 1)"
      ]
     },
     "execution_count": 41,
     "metadata": {},
     "output_type": "execute_result"
    }
   ],
   "source": [
    "k1.full_simplify()"
   ]
  },
  {
   "cell_type": "code",
   "execution_count": 42,
   "id": "1d4e49b6",
   "metadata": {},
   "outputs": [
    {
     "data": {
      "text/html": [
       "<html><script type=\"math/tex; mode=display\">\\newcommand{\\Bold}[1]{\\mathbf{#1}}-\\frac{{\\left(x + 1\\right)} {\\left(x - 1\\right)}}{3 \\, x^{2} + 1}</script></html>"
      ],
      "text/plain": [
       "-(x + 1)*(x - 1)/(3*x^2 + 1)"
      ]
     },
     "execution_count": 42,
     "metadata": {},
     "output_type": "execute_result"
    }
   ],
   "source": [
    "k1.subs(d==0).full_simplify().factor()"
   ]
  },
  {
   "cell_type": "code",
   "execution_count": 43,
   "id": "ee112903",
   "metadata": {},
   "outputs": [
    {
     "data": {
      "text/html": [
       "<html><script type=\"math/tex; mode=display\">\\newcommand{\\Bold}[1]{\\mathbf{#1}}-\\frac{3 \\, x^{2} + 1}{{\\left(x + 1\\right)} {\\left(x - 1\\right)}}</script></html>"
      ],
      "text/plain": [
       "-(3*x^2 + 1)/((x + 1)*(x - 1))"
      ]
     },
     "execution_count": 43,
     "metadata": {},
     "output_type": "execute_result"
    }
   ],
   "source": [
    "(1/k1).subs(d==0).full_simplify().factor()"
   ]
  },
  {
   "cell_type": "code",
   "execution_count": 44,
   "id": "78dfa46e",
   "metadata": {},
   "outputs": [
    {
     "data": {
      "text/html": [
       "<html><script type=\"math/tex; mode=display\">\\newcommand{\\Bold}[1]{\\mathbf{#1}}3 \\, x^{4} + 2 \\, x^{2} + 1</script></html>"
      ],
      "text/plain": [
       "3*x^4 + 2*x^2 + 1"
      ]
     },
     "execution_count": 44,
     "metadata": {},
     "output_type": "execute_result"
    }
   ],
   "source": [
    "(3*x**4 + 2*x**2 + 1).factor()"
   ]
  },
  {
   "cell_type": "code",
   "execution_count": null,
   "id": "34b67946",
   "metadata": {},
   "outputs": [],
   "source": []
  }
 ],
 "metadata": {
  "kernelspec": {
   "display_name": "SageMath 9.0",
   "language": "sage",
   "name": "sagemath"
  },
  "language_info": {
   "codemirror_mode": {
    "name": "ipython",
    "version": 3
   },
   "file_extension": ".py",
   "mimetype": "text/x-python",
   "name": "python",
   "nbconvert_exporter": "python",
   "pygments_lexer": "ipython3",
   "version": "3.8.10"
  }
 },
 "nbformat": 4,
 "nbformat_minor": 5
}
