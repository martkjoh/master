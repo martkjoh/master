{
 "cells": [
  {
   "cell_type": "code",
   "execution_count": 6,
   "id": "75da04e6",
   "metadata": {},
   "outputs": [
    {
     "data": {
      "text/plain": [
       "9/8"
      ]
     },
     "execution_count": 6,
     "metadata": {},
     "output_type": "execute_result"
    }
   ],
   "source": [
    "G = [5/24, 3/32, 3/16, 0, 1/8, 3/8, 11/144, 0, 5/48]\n",
    "# H2 = G[0]\n",
    "2*(2*G[1] + 2*G[2] + G[3])"
   ]
  },
  {
   "cell_type": "code",
   "execution_count": 35,
   "id": "54d97a6d",
   "metadata": {},
   "outputs": [
    {
     "data": {
      "text/plain": [
       "5/2"
      ]
     },
     "execution_count": 35,
     "metadata": {},
     "output_type": "execute_result"
    }
   ],
   "source": [
    "4*(2*G[4]+G[5])"
   ]
  },
  {
   "cell_type": "code",
   "execution_count": 25,
   "id": "3d4acb7f",
   "metadata": {},
   "outputs": [
    {
     "data": {
      "text/plain": [
       "1/2"
      ]
     },
     "execution_count": 25,
     "metadata": {},
     "output_type": "execute_result"
    }
   ],
   "source": [
    "4*G[4]"
   ]
  },
  {
   "cell_type": "code",
   "execution_count": 8,
   "id": "d4676968",
   "metadata": {},
   "outputs": [
    {
     "data": {
      "text/plain": [
       "37/18"
      ]
     },
     "execution_count": 8,
     "metadata": {},
     "output_type": "execute_result"
    }
   ],
   "source": [
    "8*(2*G[6] + G[8])"
   ]
  },
  {
   "cell_type": "code",
   "execution_count": 39,
   "id": "9763fbd8",
   "metadata": {},
   "outputs": [
    {
     "data": {
      "text/plain": [
       "1/2"
      ]
     },
     "execution_count": 39,
     "metadata": {},
     "output_type": "execute_result"
    }
   ],
   "source": [
    "4*G[4]"
   ]
  },
  {
   "cell_type": "code",
   "execution_count": 40,
   "id": "beeca425",
   "metadata": {},
   "outputs": [
    {
     "data": {
      "text/plain": [
       "11/9"
      ]
     },
     "execution_count": 40,
     "metadata": {},
     "output_type": "execute_result"
    }
   ],
   "source": [
    "16*G[6]"
   ]
  },
  {
   "cell_type": "code",
   "execution_count": 41,
   "id": "26f4411e",
   "metadata": {},
   "outputs": [
    {
     "data": {
      "text/plain": [
       "0"
      ]
     },
     "execution_count": 41,
     "metadata": {},
     "output_type": "execute_result"
    }
   ],
   "source": [
    "2*G[0]-4*G[8]"
   ]
  },
  {
   "cell_type": "code",
   "execution_count": 43,
   "id": "a7f25660",
   "metadata": {},
   "outputs": [
    {
     "data": {
      "text/plain": [
       "5/6"
      ]
     },
     "execution_count": 43,
     "metadata": {},
     "output_type": "execute_result"
    }
   ],
   "source": [
    "2*(G[0]+2*G[8])"
   ]
  },
  {
   "cell_type": "code",
   "execution_count": 45,
   "id": "fa928a8b",
   "metadata": {},
   "outputs": [
    {
     "data": {
      "text/plain": [
       "13/18"
      ]
     },
     "execution_count": 45,
     "metadata": {},
     "output_type": "execute_result"
    }
   ],
   "source": [
    "4*G[6]+2*G[8]+G[0]"
   ]
  },
  {
   "cell_type": "code",
   "execution_count": 3,
   "id": "70bc8f86",
   "metadata": {},
   "outputs": [
    {
     "data": {
      "text/html": [
       "<html><script type=\"math/tex; mode=display\">\\newcommand{\\Bold}[1]{\\mathbf{#1}}\\frac{1}{2} \\, \\Delta^{4} + \\frac{37}{18} \\, m^{4} + \\frac{11}{9} \\, m^{2} m_{S}^{2} + \\frac{13}{18} \\, m_{S}^{4} + \\frac{5}{2} \\, m^{2} \\mu^{2} + \\frac{1}{2} \\, m_{S}^{2} \\mu^{2} + \\frac{9}{8} \\, \\mu^{4}</script></html>"
      ],
      "text/plain": [
       "1/2*Delta^4 + 37/18*m^4 + 11/9*m^2*m_S^2 + 13/18*m_S^4 + 5/2*m^2*mu^2 + 1/2*m_S^2*mu^2 + 9/8*mu^4"
      ]
     },
     "execution_count": 3,
     "metadata": {},
     "output_type": "execute_result"
    }
   ],
   "source": [
    "%display latex\n",
    "var(\"m mu m_S Delta \")\n",
    "\n",
    "m3 = m**2 + mu**2\n",
    "m8 = 1/3*(m**2 + 2*m_S**2)\n",
    "m2 = m**2\n",
    "m45 = (m**2 - Delta**2 + m_S**2)/2 + 1/4*mu**2\n",
    "m67 = (m**2 + Delta**2 + m_S**2)/2 + 1/4*mu**2\n",
    "\n",
    "a = m3**2 + m8**2/2 + m2**2/2 + m45**2 + m67**2\n",
    "a.expand()"
   ]
  }
 ],
 "metadata": {
  "kernelspec": {
   "display_name": "SageMath 9.0",
   "language": "sage",
   "name": "sagemath"
  },
  "language_info": {
   "codemirror_mode": {
    "name": "ipython",
    "version": 3
   },
   "file_extension": ".py",
   "mimetype": "text/x-python",
   "name": "python",
   "nbconvert_exporter": "python",
   "pygments_lexer": "ipython3",
   "version": "3.8.10"
  }
 },
 "nbformat": 4,
 "nbformat_minor": 5
}
