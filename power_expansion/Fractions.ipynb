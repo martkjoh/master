{
 "cells": [
  {
   "cell_type": "code",
   "execution_count": 6,
   "id": "75da04e6",
   "metadata": {},
   "outputs": [
    {
     "data": {
      "text/plain": [
       "9/8"
      ]
     },
     "execution_count": 6,
     "metadata": {},
     "output_type": "execute_result"
    }
   ],
   "source": [
    "G = [5/24, 3/32, 3/16, 0, 1/8, 3/8, 11/144, 0, 5/48]\n",
    "# H2 = G[0]\n",
    "2*(2*G[1] + 2*G[2] + G[3])"
   ]
  },
  {
   "cell_type": "code",
   "execution_count": 35,
   "id": "54d97a6d",
   "metadata": {},
   "outputs": [
    {
     "data": {
      "text/plain": [
       "5/2"
      ]
     },
     "execution_count": 35,
     "metadata": {},
     "output_type": "execute_result"
    }
   ],
   "source": [
    "4*(2*G[4]+G[5])"
   ]
  },
  {
   "cell_type": "code",
   "execution_count": 25,
   "id": "3d4acb7f",
   "metadata": {},
   "outputs": [
    {
     "data": {
      "text/plain": [
       "1/2"
      ]
     },
     "execution_count": 25,
     "metadata": {},
     "output_type": "execute_result"
    }
   ],
   "source": [
    "4*G[4]"
   ]
  },
  {
   "cell_type": "code",
   "execution_count": 8,
   "id": "d4676968",
   "metadata": {},
   "outputs": [
    {
     "data": {
      "text/plain": [
       "37/18"
      ]
     },
     "execution_count": 8,
     "metadata": {},
     "output_type": "execute_result"
    }
   ],
   "source": [
    "8*(2*G[6] + G[8])"
   ]
  },
  {
   "cell_type": "code",
   "execution_count": 39,
   "id": "9763fbd8",
   "metadata": {},
   "outputs": [
    {
     "data": {
      "text/plain": [
       "1/2"
      ]
     },
     "execution_count": 39,
     "metadata": {},
     "output_type": "execute_result"
    }
   ],
   "source": [
    "4*G[4]"
   ]
  },
  {
   "cell_type": "code",
   "execution_count": 40,
   "id": "beeca425",
   "metadata": {},
   "outputs": [
    {
     "data": {
      "text/plain": [
       "11/9"
      ]
     },
     "execution_count": 40,
     "metadata": {},
     "output_type": "execute_result"
    }
   ],
   "source": [
    "16*G[6]"
   ]
  },
  {
   "cell_type": "code",
   "execution_count": 41,
   "id": "26f4411e",
   "metadata": {},
   "outputs": [
    {
     "data": {
      "text/plain": [
       "0"
      ]
     },
     "execution_count": 41,
     "metadata": {},
     "output_type": "execute_result"
    }
   ],
   "source": [
    "2*G[0]-4*G[8]"
   ]
  },
  {
   "cell_type": "code",
   "execution_count": 43,
   "id": "a7f25660",
   "metadata": {},
   "outputs": [
    {
     "data": {
      "text/plain": [
       "5/6"
      ]
     },
     "execution_count": 43,
     "metadata": {},
     "output_type": "execute_result"
    }
   ],
   "source": [
    "2*(G[0]+2*G[8])"
   ]
  },
  {
   "cell_type": "code",
   "execution_count": 45,
   "id": "fa928a8b",
   "metadata": {},
   "outputs": [
    {
     "data": {
      "text/plain": [
       "13/18"
      ]
     },
     "execution_count": 45,
     "metadata": {},
     "output_type": "execute_result"
    }
   ],
   "source": [
    "4*G[6]+2*G[8]+G[0]"
   ]
  },
  {
   "cell_type": "code",
   "execution_count": 47,
   "id": "70bc8f86",
   "metadata": {},
   "outputs": [
    {
     "data": {
      "text/plain": [
       "83/72"
      ]
     },
     "execution_count": 47,
     "metadata": {},
     "output_type": "execute_result"
    }
   ],
   "source": [
    "1/2+1/36 + 1/2 + 1/8"
   ]
  },
  {
   "cell_type": "code",
   "execution_count": 28,
   "id": "4bb29c7f",
   "metadata": {},
   "outputs": [
    {
     "data": {
      "text/plain": [
       "36"
      ]
     },
     "execution_count": 28,
     "metadata": {},
     "output_type": "execute_result"
    }
   ],
   "source": [
    "4*9"
   ]
  },
  {
   "cell_type": "code",
   "execution_count": 29,
   "id": "e2fcffcb",
   "metadata": {},
   "outputs": [
    {
     "data": {
      "text/plain": [
       "19/18"
      ]
     },
     "execution_count": 29,
     "metadata": {},
     "output_type": "execute_result"
    }
   ],
   "source": [
    "37/18-1"
   ]
  },
  {
   "cell_type": "code",
   "execution_count": 30,
   "id": "c2b4c294",
   "metadata": {},
   "outputs": [
    {
     "data": {
      "text/plain": [
       "3/4"
      ]
     },
     "execution_count": 30,
     "metadata": {},
     "output_type": "execute_result"
    }
   ],
   "source": [
    "19/18-11/36"
   ]
  },
  {
   "cell_type": "code",
   "execution_count": 33,
   "id": "b99fbabd",
   "metadata": {},
   "outputs": [
    {
     "data": {
      "text/plain": [
       "11/9"
      ]
     },
     "execution_count": 33,
     "metadata": {},
     "output_type": "execute_result"
    }
   ],
   "source": [
    "4*11/36"
   ]
  },
  {
   "cell_type": "code",
   "execution_count": 49,
   "id": "2864731b",
   "metadata": {},
   "outputs": [
    {
     "data": {
      "text/plain": [
       "2*cos(x)^2 - 1"
      ]
     },
     "execution_count": 49,
     "metadata": {},
     "output_type": "execute_result"
    }
   ],
   "source": [
    "cos(2*x).full_simplify()"
   ]
  },
  {
   "cell_type": "code",
   "execution_count": null,
   "id": "29f47250",
   "metadata": {},
   "outputs": [],
   "source": []
  }
 ],
 "metadata": {
  "kernelspec": {
   "display_name": "SageMath 9.0",
   "language": "sage",
   "name": "sagemath"
  },
  "language_info": {
   "codemirror_mode": {
    "name": "ipython",
    "version": 3
   },
   "file_extension": ".py",
   "mimetype": "text/x-python",
   "name": "python",
   "nbconvert_exporter": "python",
   "pygments_lexer": "ipython3",
   "version": "3.8.10"
  }
 },
 "nbformat": 4,
 "nbformat_minor": 5
}
