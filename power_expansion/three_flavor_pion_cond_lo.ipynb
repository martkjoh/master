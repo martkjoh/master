{
 "cells": [
  {
   "cell_type": "code",
   "execution_count": 181,
   "id": "b35e7d13",
   "metadata": {},
   "outputs": [],
   "source": [
    "%display latex\n",
    "load(\"three_flavor.sage\")"
   ]
  },
  {
   "cell_type": "code",
   "execution_count": 203,
   "id": "ddcb84e6",
   "metadata": {},
   "outputs": [],
   "source": [
    "n = 2\n",
    "\n",
    "A = (one - l2**2) + l2**2*cos(a/2) + I * l2 * sin(a/2)\n",
    "U = lambda n: EXP(I * pi_s, n)\n",
    "U_d = lambda n: EXP(-I * pi_s, n)\n",
    "\n",
    "SIGMA = lambda n: mat_prep(A * U(n) * A, n)\n",
    "SIGMA_d = lambda n: mat_prep(A.C.T * U_d(n) * A.C.T, n)"
   ]
  },
  {
   "cell_type": "code",
   "execution_count": 204,
   "id": "1330e164",
   "metadata": {},
   "outputs": [],
   "source": [
    "S = SIGMA(n)\n",
    "Sd = SIGMA_d(n)"
   ]
  },
  {
   "cell_type": "code",
   "execution_count": 205,
   "id": "0e321b7f",
   "metadata": {},
   "outputs": [],
   "source": [
    "dS = diff(S, x) # nabla_mu Sigma\n",
    "dSd = diff(Sd, x)\n",
    "COM = v*S - S*v # [v_mu, Sigma]\n",
    "COMd = Sd*v - v*Sd"
   ]
  },
  {
   "cell_type": "code",
   "execution_count": 206,
   "id": "3de1d063",
   "metadata": {},
   "outputs": [],
   "source": [
    "term1 = mat_prep(dS*(dSd), n)"
   ]
  },
  {
   "cell_type": "code",
   "execution_count": 207,
   "id": "59b566b4",
   "metadata": {},
   "outputs": [],
   "source": [
    "term2 = -I*mat_prep(dS*(-COMd) + COM*dSd, n)"
   ]
  },
  {
   "cell_type": "code",
   "execution_count": 208,
   "id": "1444827a",
   "metadata": {},
   "outputs": [],
   "source": [
    "term3 = mat_prep(COM*COMd, n)"
   ]
  },
  {
   "cell_type": "code",
   "execution_count": 209,
   "id": "73d62ad1",
   "metadata": {},
   "outputs": [
    {
     "data": {
      "text/html": [
       "<html><script type=\"math/tex; mode=display\">\\newcommand{\\Bold}[1]{\\mathbf{#1}}2 \\, {\\varepsilon}^{2} \\frac{\\partial}{\\partial x}\\pi_1\\left(x\\right)^{2} + 2 \\, {\\varepsilon}^{2} \\frac{\\partial}{\\partial x}\\pi_2\\left(x\\right)^{2} + 2 \\, {\\varepsilon}^{2} \\frac{\\partial}{\\partial x}\\pi_3\\left(x\\right)^{2} + 2 \\, {\\varepsilon}^{2} \\frac{\\partial}{\\partial x}\\pi_{4}\\left(x\\right)^{2} + 2 \\, {\\varepsilon}^{2} \\frac{\\partial}{\\partial x}\\pi_{5}\\left(x\\right)^{2} + 2 \\, {\\varepsilon}^{2} \\frac{\\partial}{\\partial x}\\pi_{6}\\left(x\\right)^{2} + 2 \\, {\\varepsilon}^{2} \\frac{\\partial}{\\partial x}\\pi_{7}\\left(x\\right)^{2} + 2 \\, {\\varepsilon}^{2} \\frac{\\partial}{\\partial x}\\pi_{8}\\left(x\\right)^{2}</script></html>"
      ],
      "text/plain": [
       "2*e^2*diff(pi1(x), x)^2 + 2*e^2*diff(pi2(x), x)^2 + 2*e^2*diff(pi3(x), x)^2 + 2*e^2*diff(pi4(x), x)^2 + 2*e^2*diff(pi5(x), x)^2 + 2*e^2*diff(pi6(x), x)^2 + 2*e^2*diff(pi7(x), x)^2 + 2*e^2*diff(pi8(x), x)^2"
      ]
     },
     "execution_count": 209,
     "metadata": {},
     "output_type": "execute_result"
    }
   ],
   "source": [
    "term1.trace().full_simplify()"
   ]
  },
  {
   "cell_type": "code",
   "execution_count": 210,
   "id": "bf8e1a0f",
   "metadata": {},
   "outputs": [
    {
     "data": {
      "text/html": [
       "<html><script type=\"math/tex; mode=display\">\\newcommand{\\Bold}[1]{\\mathbf{#1}}4 \\, {\\delta} {\\varepsilon}^{2} {\\mu_I} \\cos\\left({\\alpha}\\right) \\pi_1\\left(x\\right) \\frac{\\partial}{\\partial x}\\pi_2\\left(x\\right) - 2 \\, {\\left({\\delta} {\\varepsilon}^{2} {\\mu_I} \\cos\\left({\\alpha}\\right) + 2 \\, {\\delta} {\\varepsilon}^{2} {\\mu_S}\\right)} \\pi_{5}\\left(x\\right) \\frac{\\partial}{\\partial x}\\pi_{4}\\left(x\\right) + 2 \\, {\\left({\\delta} {\\varepsilon}^{2} {\\mu_I} \\cos\\left({\\alpha}\\right) + 2 \\, {\\delta} {\\varepsilon}^{2} {\\mu_S}\\right)} \\pi_{4}\\left(x\\right) \\frac{\\partial}{\\partial x}\\pi_{5}\\left(x\\right) + 2 \\, {\\left({\\delta} {\\varepsilon}^{2} {\\mu_I} \\cos\\left({\\alpha}\\right) - 2 \\, {\\delta} {\\varepsilon}^{2} {\\mu_S}\\right)} \\pi_{7}\\left(x\\right) \\frac{\\partial}{\\partial x}\\pi_{6}\\left(x\\right) - 2 \\, {\\left({\\delta} {\\varepsilon}^{2} {\\mu_I} \\cos\\left({\\alpha}\\right) - 2 \\, {\\delta} {\\varepsilon}^{2} {\\mu_S}\\right)} \\pi_{6}\\left(x\\right) \\frac{\\partial}{\\partial x}\\pi_{7}\\left(x\\right) - 4 \\, {\\left({\\delta} {\\varepsilon}^{2} {\\mu_I} \\cos\\left({\\alpha}\\right) \\pi_2\\left(x\\right) + {\\delta} {\\varepsilon} {\\mu_I} \\sin\\left({\\alpha}\\right)\\right)} \\frac{\\partial}{\\partial x}\\pi_1\\left(x\\right)</script></html>"
      ],
      "text/plain": [
       "4*d*e^2*muI*cos(a)*pi1(x)*diff(pi2(x), x) - 2*(d*e^2*muI*cos(a) + 2*d*e^2*muS)*pi5(x)*diff(pi4(x), x) + 2*(d*e^2*muI*cos(a) + 2*d*e^2*muS)*pi4(x)*diff(pi5(x), x) + 2*(d*e^2*muI*cos(a) - 2*d*e^2*muS)*pi7(x)*diff(pi6(x), x) - 2*(d*e^2*muI*cos(a) - 2*d*e^2*muS)*pi6(x)*diff(pi7(x), x) - 4*(d*e^2*muI*cos(a)*pi2(x) + d*e*muI*sin(a))*diff(pi1(x), x)"
      ]
     },
     "execution_count": 210,
     "metadata": {},
     "output_type": "execute_result"
    }
   ],
   "source": [
    "term2.trace().full_simplify()"
   ]
  },
  {
   "cell_type": "code",
   "execution_count": 211,
   "id": "453f34d2",
   "metadata": {},
   "outputs": [
    {
     "data": {
      "text/html": [
       "<html><script type=\"math/tex; mode=display\">\\newcommand{\\Bold}[1]{\\mathbf{#1}}2 \\, {\\delta}^{2} {\\varepsilon}^{2} {\\mu_I}^{2} \\cos\\left({\\alpha}\\right)^{2} \\pi_1\\left(x\\right)^{2} + 2 \\, {\\left(2 \\, \\cos\\left({\\alpha}\\right)^{2} - 1\\right)} {\\delta}^{2} {\\varepsilon}^{2} {\\mu_I}^{2} \\pi_2\\left(x\\right)^{2} + 2 \\, {\\left(\\cos\\left({\\alpha}\\right)^{2} - 1\\right)} {\\delta}^{2} {\\varepsilon}^{2} {\\mu_I}^{2} \\pi_3\\left(x\\right)^{2} + 4 \\, {\\delta}^{2} {\\varepsilon} {\\mu_I}^{2} \\cos\\left({\\alpha}\\right) \\pi_2\\left(x\\right) \\sin\\left({\\alpha}\\right) - 2 \\, {\\left(\\cos\\left({\\alpha}\\right)^{2} - 1\\right)} {\\delta}^{2} {\\mu_I}^{2} + \\frac{1}{2} \\, {\\left({\\left(2 \\, \\cos\\left({\\alpha}\\right)^{2} - 1\\right)} {\\delta}^{2} {\\varepsilon}^{2} {\\mu_I}^{2} + 4 \\, {\\delta}^{2} {\\varepsilon}^{2} {\\mu_I} {\\mu_S} \\cos\\left({\\alpha}\\right) + 4 \\, {\\delta}^{2} {\\varepsilon}^{2} {\\mu_S}^{2}\\right)} \\pi_{4}\\left(x\\right)^{2} + \\frac{1}{2} \\, {\\left({\\left(2 \\, \\cos\\left({\\alpha}\\right)^{2} - 1\\right)} {\\delta}^{2} {\\varepsilon}^{2} {\\mu_I}^{2} + 4 \\, {\\delta}^{2} {\\varepsilon}^{2} {\\mu_I} {\\mu_S} \\cos\\left({\\alpha}\\right) + 4 \\, {\\delta}^{2} {\\varepsilon}^{2} {\\mu_S}^{2}\\right)} \\pi_{5}\\left(x\\right)^{2} + \\frac{1}{2} \\, {\\left({\\left(2 \\, \\cos\\left({\\alpha}\\right)^{2} - 1\\right)} {\\delta}^{2} {\\varepsilon}^{2} {\\mu_I}^{2} - 4 \\, {\\delta}^{2} {\\varepsilon}^{2} {\\mu_I} {\\mu_S} \\cos\\left({\\alpha}\\right) + 4 \\, {\\delta}^{2} {\\varepsilon}^{2} {\\mu_S}^{2}\\right)} \\pi_{6}\\left(x\\right)^{2} + \\frac{1}{2} \\, {\\left({\\left(2 \\, \\cos\\left({\\alpha}\\right)^{2} - 1\\right)} {\\delta}^{2} {\\varepsilon}^{2} {\\mu_I}^{2} - 4 \\, {\\delta}^{2} {\\varepsilon}^{2} {\\mu_I} {\\mu_S} \\cos\\left({\\alpha}\\right) + 4 \\, {\\delta}^{2} {\\varepsilon}^{2} {\\mu_S}^{2}\\right)} \\pi_{7}\\left(x\\right)^{2}</script></html>"
      ],
      "text/plain": [
       "2*d^2*e^2*muI^2*cos(a)^2*pi1(x)^2 + 2*(2*cos(a)^2 - 1)*d^2*e^2*muI^2*pi2(x)^2 + 2*(cos(a)^2 - 1)*d^2*e^2*muI^2*pi3(x)^2 + 4*d^2*e*muI^2*cos(a)*pi2(x)*sin(a) - 2*(cos(a)^2 - 1)*d^2*muI^2 + 1/2*((2*cos(a)^2 - 1)*d^2*e^2*muI^2 + 4*d^2*e^2*muI*muS*cos(a) + 4*d^2*e^2*muS^2)*pi4(x)^2 + 1/2*((2*cos(a)^2 - 1)*d^2*e^2*muI^2 + 4*d^2*e^2*muI*muS*cos(a) + 4*d^2*e^2*muS^2)*pi5(x)^2 + 1/2*((2*cos(a)^2 - 1)*d^2*e^2*muI^2 - 4*d^2*e^2*muI*muS*cos(a) + 4*d^2*e^2*muS^2)*pi6(x)^2 + 1/2*((2*cos(a)^2 - 1)*d^2*e^2*muI^2 - 4*d^2*e^2*muI*muS*cos(a) + 4*d^2*e^2*muS^2)*pi7(x)^2"
      ]
     },
     "execution_count": 211,
     "metadata": {},
     "output_type": "execute_result"
    }
   ],
   "source": [
    "term3.trace().full_simplify()"
   ]
  },
  {
   "cell_type": "code",
   "execution_count": 212,
   "id": "fb90abf7",
   "metadata": {},
   "outputs": [
    {
     "data": {
      "text/html": [
       "<html><script type=\"math/tex; mode=display\">\\newcommand{\\Bold}[1]{\\mathbf{#1}}\\left(\\begin{array}{rrr}\n",
       "{m_u} & 0 & 0 \\\\\n",
       "0 & {m_d} & 0 \\\\\n",
       "0 & 0 & {m_s}\n",
       "\\end{array}\\right)</script></html>"
      ],
      "text/plain": [
       "[mu  0  0]\n",
       "[ 0 md  0]\n",
       "[ 0  0 ms]"
      ]
     },
     "execution_count": 212,
     "metadata": {},
     "output_type": "execute_result"
    }
   ],
   "source": [
    "mu = var(\"mu\", latex_name=\"m_u\")\n",
    "md = var(\"md\", latex_name=\"m_d\")\n",
    "ms = var(\"ms\", latex_name=\"m_s\") \n",
    "\n",
    "m = diagonal_matrix([mu, md, ms])\n",
    "m"
   ]
  },
  {
   "cell_type": "code",
   "execution_count": 213,
   "id": "36bc4774",
   "metadata": {},
   "outputs": [],
   "source": [
    "mass_term = ((m*Sd + S*m).trace()/4).full_simplify()"
   ]
  },
  {
   "cell_type": "code",
   "execution_count": 214,
   "id": "241d3e44",
   "metadata": {},
   "outputs": [
    {
     "data": {
      "text/html": [
       "<html><script type=\"math/tex; mode=display\">\\newcommand{\\Bold}[1]{\\mathbf{#1}}-\\frac{1}{4} \\, {\\left({\\varepsilon}^{2} {m_d} \\cos\\left({\\alpha}\\right) + {\\varepsilon}^{2} {m_u} \\cos\\left({\\alpha}\\right)\\right)} \\pi_1\\left(x\\right)^{2} - \\frac{1}{4} \\, {\\left({\\varepsilon}^{2} {m_d} \\cos\\left({\\alpha}\\right) + {\\varepsilon}^{2} {m_u} \\cos\\left({\\alpha}\\right)\\right)} \\pi_2\\left(x\\right)^{2} - \\frac{1}{4} \\, {\\left({\\varepsilon}^{2} {m_d} \\cos\\left({\\alpha}\\right) + {\\varepsilon}^{2} {m_u} \\cos\\left({\\alpha}\\right)\\right)} \\pi_3\\left(x\\right)^{2} - \\frac{1}{8} \\, {\\left({\\varepsilon}^{2} {m_u} {\\left(\\cos\\left({\\alpha}\\right) + 1\\right)} + {\\varepsilon}^{2} {m_d} {\\left(\\cos\\left({\\alpha}\\right) - 1\\right)} + 2 \\, {\\varepsilon}^{2} {m_s}\\right)} \\pi_{4}\\left(x\\right)^{2} - \\frac{1}{8} \\, {\\left({\\varepsilon}^{2} {m_u} {\\left(\\cos\\left({\\alpha}\\right) + 1\\right)} + {\\varepsilon}^{2} {m_d} {\\left(\\cos\\left({\\alpha}\\right) - 1\\right)} + 2 \\, {\\varepsilon}^{2} {m_s}\\right)} \\pi_{5}\\left(x\\right)^{2} - \\frac{1}{8} \\, {\\left({\\varepsilon}^{2} {m_d} {\\left(\\cos\\left({\\alpha}\\right) + 1\\right)} + {\\varepsilon}^{2} {m_u} {\\left(\\cos\\left({\\alpha}\\right) - 1\\right)} + 2 \\, {\\varepsilon}^{2} {m_s}\\right)} \\pi_{6}\\left(x\\right)^{2} - \\frac{1}{8} \\, {\\left({\\varepsilon}^{2} {m_d} {\\left(\\cos\\left({\\alpha}\\right) + 1\\right)} + {\\varepsilon}^{2} {m_u} {\\left(\\cos\\left({\\alpha}\\right) - 1\\right)} + 2 \\, {\\varepsilon}^{2} {m_s}\\right)} \\pi_{7}\\left(x\\right)^{2} + \\frac{1}{6} \\, {\\left(\\sqrt{3} {\\varepsilon}^{2} {m_d} - \\sqrt{3} {\\varepsilon}^{2} {m_u}\\right)} \\pi_3\\left(x\\right) \\pi_{8}\\left(x\\right) - \\frac{1}{12} \\, {\\left({\\varepsilon}^{2} {m_d} \\cos\\left({\\alpha}\\right) + {\\varepsilon}^{2} {m_u} \\cos\\left({\\alpha}\\right) + 4 \\, {\\varepsilon}^{2} {m_s}\\right)} \\pi_{8}\\left(x\\right)^{2} + \\frac{1}{2} \\, {m_d} \\cos\\left({\\alpha}\\right) + \\frac{1}{2} \\, {m_u} \\cos\\left({\\alpha}\\right) - \\frac{1}{2} \\, {\\left({\\varepsilon} {m_d} \\sin\\left({\\alpha}\\right) + {\\varepsilon} {m_u} \\sin\\left({\\alpha}\\right)\\right)} \\pi_2\\left(x\\right) + \\frac{1}{2} \\, {m_s}</script></html>"
      ],
      "text/plain": [
       "-1/4*(e^2*md*cos(a) + e^2*mu*cos(a))*pi1(x)^2 - 1/4*(e^2*md*cos(a) + e^2*mu*cos(a))*pi2(x)^2 - 1/4*(e^2*md*cos(a) + e^2*mu*cos(a))*pi3(x)^2 - 1/8*(e^2*mu*(cos(a) + 1) + e^2*md*(cos(a) - 1) + 2*e^2*ms)*pi4(x)^2 - 1/8*(e^2*mu*(cos(a) + 1) + e^2*md*(cos(a) - 1) + 2*e^2*ms)*pi5(x)^2 - 1/8*(e^2*md*(cos(a) + 1) + e^2*mu*(cos(a) - 1) + 2*e^2*ms)*pi6(x)^2 - 1/8*(e^2*md*(cos(a) + 1) + e^2*mu*(cos(a) - 1) + 2*e^2*ms)*pi7(x)^2 + 1/6*(sqrt(3)*e^2*md - sqrt(3)*e^2*mu)*pi3(x)*pi8(x) - 1/12*(e^2*md*cos(a) + e^2*mu*cos(a) + 4*e^2*ms)*pi8(x)^2 + 1/2*md*cos(a) + 1/2*mu*cos(a) - 1/2*(e*md*sin(a) + e*mu*sin(a))*pi2(x) + 1/2*ms"
      ]
     },
     "execution_count": 214,
     "metadata": {},
     "output_type": "execute_result"
    }
   ],
   "source": [
    "mass_term"
   ]
  },
  {
   "cell_type": "code",
   "execution_count": 202,
   "id": "8cc2dfe3",
   "metadata": {},
   "outputs": [
    {
     "data": {
      "text/html": [
       "<html><script type=\"math/tex; mode=display\">\\newcommand{\\Bold}[1]{\\mathbf{#1}}\\left(\\begin{array}{rrr}\n",
       "-\\frac{1}{2} \\, {\\varepsilon}^{2} \\cos\\left({\\alpha}\\right) \\pi_1\\left(x\\right)^{2} - \\frac{1}{2} \\, {\\varepsilon}^{2} \\cos\\left({\\alpha}\\right) \\pi_2\\left(x\\right)^{2} - \\frac{1}{2} \\, {\\varepsilon}^{2} \\cos\\left({\\alpha}\\right) \\pi_3\\left(x\\right)^{2} - \\frac{1}{4} \\, {\\varepsilon}^{2} {\\left(\\cos\\left({\\alpha}\\right) + 1\\right)} \\pi_{4}\\left(x\\right)^{2} - \\frac{1}{4} \\, {\\varepsilon}^{2} {\\left(\\cos\\left({\\alpha}\\right) + 1\\right)} \\pi_{5}\\left(x\\right)^{2} - \\frac{1}{4} \\, {\\varepsilon}^{2} {\\left(\\cos\\left({\\alpha}\\right) - 1\\right)} \\pi_{6}\\left(x\\right)^{2} - \\frac{1}{4} \\, {\\varepsilon}^{2} {\\left(\\cos\\left({\\alpha}\\right) - 1\\right)} \\pi_{7}\\left(x\\right)^{2} - \\frac{1}{6} \\, {\\varepsilon}^{2} \\cos\\left({\\alpha}\\right) \\pi_{8}\\left(x\\right)^{2} - \\frac{1}{2} i \\, {\\varepsilon}^{2} \\pi_{5}\\left(x\\right) \\pi_{6}\\left(x\\right) \\sin\\left({\\alpha}\\right) + \\frac{1}{2} i \\, {\\varepsilon}^{2} \\pi_{4}\\left(x\\right) \\pi_{7}\\left(x\\right) \\sin\\left({\\alpha}\\right) - {\\varepsilon} \\pi_2\\left(x\\right) \\sin\\left({\\alpha}\\right) + i \\, {\\varepsilon} \\pi_3\\left(x\\right) + \\frac{1}{3} \\, {\\left(-i \\, \\sqrt{3} {\\varepsilon}^{2} \\pi_2\\left(x\\right) \\sin\\left({\\alpha}\\right) - \\sqrt{3} {\\varepsilon}^{2} \\pi_3\\left(x\\right) + i \\, \\sqrt{3} {\\varepsilon} \\cos\\left({\\alpha}\\right)\\right)} \\pi_{8}\\left(x\\right) + \\cos\\left({\\alpha}\\right) & -\\frac{1}{2} \\, {\\varepsilon}^{2} \\pi_1\\left(x\\right)^{2} \\sin\\left({\\alpha}\\right) - \\frac{1}{2} \\, {\\varepsilon}^{2} \\pi_2\\left(x\\right)^{2} \\sin\\left({\\alpha}\\right) - \\frac{1}{2} \\, {\\varepsilon}^{2} \\pi_3\\left(x\\right)^{2} \\sin\\left({\\alpha}\\right) - \\frac{1}{4} \\, {\\varepsilon}^{2} \\pi_{4}\\left(x\\right)^{2} \\sin\\left({\\alpha}\\right) - \\frac{1}{4} \\, {\\varepsilon}^{2} \\pi_{5}\\left(x\\right)^{2} \\sin\\left({\\alpha}\\right) - \\frac{1}{4} \\, {\\varepsilon}^{2} \\pi_{6}\\left(x\\right)^{2} \\sin\\left({\\alpha}\\right) - \\frac{1}{4} \\, {\\varepsilon}^{2} \\pi_{7}\\left(x\\right)^{2} \\sin\\left({\\alpha}\\right) - \\frac{1}{6} \\, {\\varepsilon}^{2} \\pi_{8}\\left(x\\right)^{2} \\sin\\left({\\alpha}\\right) + {\\varepsilon} \\cos\\left({\\alpha}\\right) \\pi_2\\left(x\\right) + i \\, {\\varepsilon} \\pi_1\\left(x\\right) + \\frac{1}{2} \\, {\\left(i \\, {\\varepsilon}^{2} \\cos\\left({\\alpha}\\right) \\pi_{5}\\left(x\\right) - {\\varepsilon}^{2} \\pi_{4}\\left(x\\right)\\right)} \\pi_{6}\\left(x\\right) + \\frac{1}{2} \\, {\\left(-i \\, {\\varepsilon}^{2} \\cos\\left({\\alpha}\\right) \\pi_{4}\\left(x\\right) - {\\varepsilon}^{2} \\pi_{5}\\left(x\\right)\\right)} \\pi_{7}\\left(x\\right) + \\frac{1}{3} \\, {\\left(i \\, \\sqrt{3} {\\varepsilon}^{2} \\cos\\left({\\alpha}\\right) \\pi_2\\left(x\\right) - \\sqrt{3} {\\varepsilon}^{2} \\pi_1\\left(x\\right) + i \\, \\sqrt{3} {\\varepsilon} \\sin\\left({\\alpha}\\right)\\right)} \\pi_{8}\\left(x\\right) + \\sin\\left({\\alpha}\\right) & \\frac{1}{6} \\, \\sqrt{3} {\\varepsilon}^{2} \\cos\\left(\\frac{1}{2} \\, {\\alpha}\\right) \\pi_{4}\\left(x\\right) \\pi_{8}\\left(x\\right) - \\frac{1}{6} i \\, \\sqrt{3} {\\varepsilon}^{2} \\cos\\left(\\frac{1}{2} \\, {\\alpha}\\right) \\pi_{5}\\left(x\\right) \\pi_{8}\\left(x\\right) + \\frac{1}{6} \\, \\sqrt{3} {\\varepsilon}^{2} \\pi_{6}\\left(x\\right) \\pi_{8}\\left(x\\right) \\sin\\left(\\frac{1}{2} \\, {\\alpha}\\right) - \\frac{1}{6} i \\, \\sqrt{3} {\\varepsilon}^{2} \\pi_{7}\\left(x\\right) \\pi_{8}\\left(x\\right) \\sin\\left(\\frac{1}{2} \\, {\\alpha}\\right) - \\frac{1}{2} \\, {\\left({\\varepsilon}^{2} \\cos\\left(\\frac{1}{2} \\, {\\alpha}\\right) \\pi_3\\left(x\\right) + {\\varepsilon}^{2} \\pi_1\\left(x\\right) \\sin\\left(\\frac{1}{2} \\, {\\alpha}\\right) + i \\, {\\varepsilon}^{2} \\pi_2\\left(x\\right) \\sin\\left(\\frac{1}{2} \\, {\\alpha}\\right) - 2 i \\, {\\varepsilon} \\cos\\left(\\frac{1}{2} \\, {\\alpha}\\right)\\right)} \\pi_{4}\\left(x\\right) + \\frac{1}{2} \\, {\\left(i \\, {\\varepsilon}^{2} \\cos\\left(\\frac{1}{2} \\, {\\alpha}\\right) \\pi_3\\left(x\\right) + i \\, {\\varepsilon}^{2} \\pi_1\\left(x\\right) \\sin\\left(\\frac{1}{2} \\, {\\alpha}\\right) - {\\varepsilon}^{2} \\pi_2\\left(x\\right) \\sin\\left(\\frac{1}{2} \\, {\\alpha}\\right) + 2 \\, {\\varepsilon} \\cos\\left(\\frac{1}{2} \\, {\\alpha}\\right)\\right)} \\pi_{5}\\left(x\\right) - \\frac{1}{2} \\, {\\left({\\varepsilon}^{2} \\cos\\left(\\frac{1}{2} \\, {\\alpha}\\right) \\pi_1\\left(x\\right) - i \\, {\\varepsilon}^{2} \\cos\\left(\\frac{1}{2} \\, {\\alpha}\\right) \\pi_2\\left(x\\right) - {\\varepsilon}^{2} \\pi_3\\left(x\\right) \\sin\\left(\\frac{1}{2} \\, {\\alpha}\\right) - 2 i \\, {\\varepsilon} \\sin\\left(\\frac{1}{2} \\, {\\alpha}\\right)\\right)} \\pi_{6}\\left(x\\right) + \\frac{1}{2} \\, {\\left(i \\, {\\varepsilon}^{2} \\cos\\left(\\frac{1}{2} \\, {\\alpha}\\right) \\pi_1\\left(x\\right) + {\\varepsilon}^{2} \\cos\\left(\\frac{1}{2} \\, {\\alpha}\\right) \\pi_2\\left(x\\right) - i \\, {\\varepsilon}^{2} \\pi_3\\left(x\\right) \\sin\\left(\\frac{1}{2} \\, {\\alpha}\\right) + 2 \\, {\\varepsilon} \\sin\\left(\\frac{1}{2} \\, {\\alpha}\\right)\\right)} \\pi_{7}\\left(x\\right) \\\\\n",
       "\\frac{1}{2} \\, {\\varepsilon}^{2} \\pi_1\\left(x\\right)^{2} \\sin\\left({\\alpha}\\right) + \\frac{1}{2} \\, {\\varepsilon}^{2} \\pi_2\\left(x\\right)^{2} \\sin\\left({\\alpha}\\right) + \\frac{1}{2} \\, {\\varepsilon}^{2} \\pi_3\\left(x\\right)^{2} \\sin\\left({\\alpha}\\right) + \\frac{1}{4} \\, {\\varepsilon}^{2} \\pi_{4}\\left(x\\right)^{2} \\sin\\left({\\alpha}\\right) + \\frac{1}{4} \\, {\\varepsilon}^{2} \\pi_{5}\\left(x\\right)^{2} \\sin\\left({\\alpha}\\right) + \\frac{1}{4} \\, {\\varepsilon}^{2} \\pi_{6}\\left(x\\right)^{2} \\sin\\left({\\alpha}\\right) + \\frac{1}{4} \\, {\\varepsilon}^{2} \\pi_{7}\\left(x\\right)^{2} \\sin\\left({\\alpha}\\right) + \\frac{1}{6} \\, {\\varepsilon}^{2} \\pi_{8}\\left(x\\right)^{2} \\sin\\left({\\alpha}\\right) - {\\varepsilon} \\cos\\left({\\alpha}\\right) \\pi_2\\left(x\\right) + i \\, {\\varepsilon} \\pi_1\\left(x\\right) + \\frac{1}{2} \\, {\\left(-i \\, {\\varepsilon}^{2} \\cos\\left({\\alpha}\\right) \\pi_{5}\\left(x\\right) - {\\varepsilon}^{2} \\pi_{4}\\left(x\\right)\\right)} \\pi_{6}\\left(x\\right) + \\frac{1}{2} \\, {\\left(i \\, {\\varepsilon}^{2} \\cos\\left({\\alpha}\\right) \\pi_{4}\\left(x\\right) - {\\varepsilon}^{2} \\pi_{5}\\left(x\\right)\\right)} \\pi_{7}\\left(x\\right) + \\frac{1}{3} \\, {\\left(-i \\, \\sqrt{3} {\\varepsilon}^{2} \\cos\\left({\\alpha}\\right) \\pi_2\\left(x\\right) - \\sqrt{3} {\\varepsilon}^{2} \\pi_1\\left(x\\right) - i \\, \\sqrt{3} {\\varepsilon} \\sin\\left({\\alpha}\\right)\\right)} \\pi_{8}\\left(x\\right) - \\sin\\left({\\alpha}\\right) & -\\frac{1}{2} \\, {\\varepsilon}^{2} \\cos\\left({\\alpha}\\right) \\pi_1\\left(x\\right)^{2} - \\frac{1}{2} \\, {\\varepsilon}^{2} \\cos\\left({\\alpha}\\right) \\pi_2\\left(x\\right)^{2} - \\frac{1}{2} \\, {\\varepsilon}^{2} \\cos\\left({\\alpha}\\right) \\pi_3\\left(x\\right)^{2} - \\frac{1}{4} \\, {\\varepsilon}^{2} {\\left(\\cos\\left({\\alpha}\\right) - 1\\right)} \\pi_{4}\\left(x\\right)^{2} - \\frac{1}{4} \\, {\\varepsilon}^{2} {\\left(\\cos\\left({\\alpha}\\right) - 1\\right)} \\pi_{5}\\left(x\\right)^{2} - \\frac{1}{4} \\, {\\varepsilon}^{2} {\\left(\\cos\\left({\\alpha}\\right) + 1\\right)} \\pi_{6}\\left(x\\right)^{2} - \\frac{1}{4} \\, {\\varepsilon}^{2} {\\left(\\cos\\left({\\alpha}\\right) + 1\\right)} \\pi_{7}\\left(x\\right)^{2} - \\frac{1}{6} \\, {\\varepsilon}^{2} \\cos\\left({\\alpha}\\right) \\pi_{8}\\left(x\\right)^{2} - \\frac{1}{2} i \\, {\\varepsilon}^{2} \\pi_{5}\\left(x\\right) \\pi_{6}\\left(x\\right) \\sin\\left({\\alpha}\\right) + \\frac{1}{2} i \\, {\\varepsilon}^{2} \\pi_{4}\\left(x\\right) \\pi_{7}\\left(x\\right) \\sin\\left({\\alpha}\\right) - {\\varepsilon} \\pi_2\\left(x\\right) \\sin\\left({\\alpha}\\right) - i \\, {\\varepsilon} \\pi_3\\left(x\\right) + \\frac{1}{3} \\, {\\left(-i \\, \\sqrt{3} {\\varepsilon}^{2} \\pi_2\\left(x\\right) \\sin\\left({\\alpha}\\right) + \\sqrt{3} {\\varepsilon}^{2} \\pi_3\\left(x\\right) + i \\, \\sqrt{3} {\\varepsilon} \\cos\\left({\\alpha}\\right)\\right)} \\pi_{8}\\left(x\\right) + \\cos\\left({\\alpha}\\right) & \\frac{1}{6} \\, \\sqrt{3} {\\varepsilon}^{2} \\cos\\left(\\frac{1}{2} \\, {\\alpha}\\right) \\pi_{6}\\left(x\\right) \\pi_{8}\\left(x\\right) - \\frac{1}{6} i \\, \\sqrt{3} {\\varepsilon}^{2} \\cos\\left(\\frac{1}{2} \\, {\\alpha}\\right) \\pi_{7}\\left(x\\right) \\pi_{8}\\left(x\\right) - \\frac{1}{6} \\, \\sqrt{3} {\\varepsilon}^{2} \\pi_{4}\\left(x\\right) \\pi_{8}\\left(x\\right) \\sin\\left(\\frac{1}{2} \\, {\\alpha}\\right) + \\frac{1}{6} i \\, \\sqrt{3} {\\varepsilon}^{2} \\pi_{5}\\left(x\\right) \\pi_{8}\\left(x\\right) \\sin\\left(\\frac{1}{2} \\, {\\alpha}\\right) - \\frac{1}{2} \\, {\\left({\\varepsilon}^{2} \\cos\\left(\\frac{1}{2} \\, {\\alpha}\\right) \\pi_1\\left(x\\right) + i \\, {\\varepsilon}^{2} \\cos\\left(\\frac{1}{2} \\, {\\alpha}\\right) \\pi_2\\left(x\\right) - {\\varepsilon}^{2} \\pi_3\\left(x\\right) \\sin\\left(\\frac{1}{2} \\, {\\alpha}\\right) + 2 i \\, {\\varepsilon} \\sin\\left(\\frac{1}{2} \\, {\\alpha}\\right)\\right)} \\pi_{4}\\left(x\\right) + \\frac{1}{2} \\, {\\left(i \\, {\\varepsilon}^{2} \\cos\\left(\\frac{1}{2} \\, {\\alpha}\\right) \\pi_1\\left(x\\right) - {\\varepsilon}^{2} \\cos\\left(\\frac{1}{2} \\, {\\alpha}\\right) \\pi_2\\left(x\\right) - i \\, {\\varepsilon}^{2} \\pi_3\\left(x\\right) \\sin\\left(\\frac{1}{2} \\, {\\alpha}\\right) - 2 \\, {\\varepsilon} \\sin\\left(\\frac{1}{2} \\, {\\alpha}\\right)\\right)} \\pi_{5}\\left(x\\right) + \\frac{1}{2} \\, {\\left({\\varepsilon}^{2} \\cos\\left(\\frac{1}{2} \\, {\\alpha}\\right) \\pi_3\\left(x\\right) + {\\varepsilon}^{2} \\pi_1\\left(x\\right) \\sin\\left(\\frac{1}{2} \\, {\\alpha}\\right) - i \\, {\\varepsilon}^{2} \\pi_2\\left(x\\right) \\sin\\left(\\frac{1}{2} \\, {\\alpha}\\right) + 2 i \\, {\\varepsilon} \\cos\\left(\\frac{1}{2} \\, {\\alpha}\\right)\\right)} \\pi_{6}\\left(x\\right) + \\frac{1}{2} \\, {\\left(-i \\, {\\varepsilon}^{2} \\cos\\left(\\frac{1}{2} \\, {\\alpha}\\right) \\pi_3\\left(x\\right) - i \\, {\\varepsilon}^{2} \\pi_1\\left(x\\right) \\sin\\left(\\frac{1}{2} \\, {\\alpha}\\right) - {\\varepsilon}^{2} \\pi_2\\left(x\\right) \\sin\\left(\\frac{1}{2} \\, {\\alpha}\\right) + 2 \\, {\\varepsilon} \\cos\\left(\\frac{1}{2} \\, {\\alpha}\\right)\\right)} \\pi_{7}\\left(x\\right) \\\\\n",
       "\\frac{1}{6} \\, \\sqrt{3} {\\varepsilon}^{2} \\cos\\left(\\frac{1}{2} \\, {\\alpha}\\right) \\pi_{4}\\left(x\\right) \\pi_{8}\\left(x\\right) + \\frac{1}{6} i \\, \\sqrt{3} {\\varepsilon}^{2} \\cos\\left(\\frac{1}{2} \\, {\\alpha}\\right) \\pi_{5}\\left(x\\right) \\pi_{8}\\left(x\\right) - \\frac{1}{6} \\, \\sqrt{3} {\\varepsilon}^{2} \\pi_{6}\\left(x\\right) \\pi_{8}\\left(x\\right) \\sin\\left(\\frac{1}{2} \\, {\\alpha}\\right) - \\frac{1}{6} i \\, \\sqrt{3} {\\varepsilon}^{2} \\pi_{7}\\left(x\\right) \\pi_{8}\\left(x\\right) \\sin\\left(\\frac{1}{2} \\, {\\alpha}\\right) - \\frac{1}{2} \\, {\\left({\\varepsilon}^{2} \\cos\\left(\\frac{1}{2} \\, {\\alpha}\\right) \\pi_3\\left(x\\right) - {\\varepsilon}^{2} \\pi_1\\left(x\\right) \\sin\\left(\\frac{1}{2} \\, {\\alpha}\\right) + i \\, {\\varepsilon}^{2} \\pi_2\\left(x\\right) \\sin\\left(\\frac{1}{2} \\, {\\alpha}\\right) - 2 i \\, {\\varepsilon} \\cos\\left(\\frac{1}{2} \\, {\\alpha}\\right)\\right)} \\pi_{4}\\left(x\\right) + \\frac{1}{2} \\, {\\left(-i \\, {\\varepsilon}^{2} \\cos\\left(\\frac{1}{2} \\, {\\alpha}\\right) \\pi_3\\left(x\\right) + i \\, {\\varepsilon}^{2} \\pi_1\\left(x\\right) \\sin\\left(\\frac{1}{2} \\, {\\alpha}\\right) + {\\varepsilon}^{2} \\pi_2\\left(x\\right) \\sin\\left(\\frac{1}{2} \\, {\\alpha}\\right) - 2 \\, {\\varepsilon} \\cos\\left(\\frac{1}{2} \\, {\\alpha}\\right)\\right)} \\pi_{5}\\left(x\\right) - \\frac{1}{2} \\, {\\left({\\varepsilon}^{2} \\cos\\left(\\frac{1}{2} \\, {\\alpha}\\right) \\pi_1\\left(x\\right) + i \\, {\\varepsilon}^{2} \\cos\\left(\\frac{1}{2} \\, {\\alpha}\\right) \\pi_2\\left(x\\right) + {\\varepsilon}^{2} \\pi_3\\left(x\\right) \\sin\\left(\\frac{1}{2} \\, {\\alpha}\\right) + 2 i \\, {\\varepsilon} \\sin\\left(\\frac{1}{2} \\, {\\alpha}\\right)\\right)} \\pi_{6}\\left(x\\right) + \\frac{1}{2} \\, {\\left(-i \\, {\\varepsilon}^{2} \\cos\\left(\\frac{1}{2} \\, {\\alpha}\\right) \\pi_1\\left(x\\right) + {\\varepsilon}^{2} \\cos\\left(\\frac{1}{2} \\, {\\alpha}\\right) \\pi_2\\left(x\\right) - i \\, {\\varepsilon}^{2} \\pi_3\\left(x\\right) \\sin\\left(\\frac{1}{2} \\, {\\alpha}\\right) + 2 \\, {\\varepsilon} \\sin\\left(\\frac{1}{2} \\, {\\alpha}\\right)\\right)} \\pi_{7}\\left(x\\right) & \\frac{1}{6} \\, \\sqrt{3} {\\varepsilon}^{2} \\cos\\left(\\frac{1}{2} \\, {\\alpha}\\right) \\pi_{6}\\left(x\\right) \\pi_{8}\\left(x\\right) + \\frac{1}{6} i \\, \\sqrt{3} {\\varepsilon}^{2} \\cos\\left(\\frac{1}{2} \\, {\\alpha}\\right) \\pi_{7}\\left(x\\right) \\pi_{8}\\left(x\\right) + \\frac{1}{6} \\, \\sqrt{3} {\\varepsilon}^{2} \\pi_{4}\\left(x\\right) \\pi_{8}\\left(x\\right) \\sin\\left(\\frac{1}{2} \\, {\\alpha}\\right) + \\frac{1}{6} i \\, \\sqrt{3} {\\varepsilon}^{2} \\pi_{5}\\left(x\\right) \\pi_{8}\\left(x\\right) \\sin\\left(\\frac{1}{2} \\, {\\alpha}\\right) - \\frac{1}{2} \\, {\\left({\\varepsilon}^{2} \\cos\\left(\\frac{1}{2} \\, {\\alpha}\\right) \\pi_1\\left(x\\right) - i \\, {\\varepsilon}^{2} \\cos\\left(\\frac{1}{2} \\, {\\alpha}\\right) \\pi_2\\left(x\\right) + {\\varepsilon}^{2} \\pi_3\\left(x\\right) \\sin\\left(\\frac{1}{2} \\, {\\alpha}\\right) - 2 i \\, {\\varepsilon} \\sin\\left(\\frac{1}{2} \\, {\\alpha}\\right)\\right)} \\pi_{4}\\left(x\\right) + \\frac{1}{2} \\, {\\left(-i \\, {\\varepsilon}^{2} \\cos\\left(\\frac{1}{2} \\, {\\alpha}\\right) \\pi_1\\left(x\\right) - {\\varepsilon}^{2} \\cos\\left(\\frac{1}{2} \\, {\\alpha}\\right) \\pi_2\\left(x\\right) - i \\, {\\varepsilon}^{2} \\pi_3\\left(x\\right) \\sin\\left(\\frac{1}{2} \\, {\\alpha}\\right) - 2 \\, {\\varepsilon} \\sin\\left(\\frac{1}{2} \\, {\\alpha}\\right)\\right)} \\pi_{5}\\left(x\\right) + \\frac{1}{2} \\, {\\left({\\varepsilon}^{2} \\cos\\left(\\frac{1}{2} \\, {\\alpha}\\right) \\pi_3\\left(x\\right) - {\\varepsilon}^{2} \\pi_1\\left(x\\right) \\sin\\left(\\frac{1}{2} \\, {\\alpha}\\right) - i \\, {\\varepsilon}^{2} \\pi_2\\left(x\\right) \\sin\\left(\\frac{1}{2} \\, {\\alpha}\\right) + 2 i \\, {\\varepsilon} \\cos\\left(\\frac{1}{2} \\, {\\alpha}\\right)\\right)} \\pi_{6}\\left(x\\right) + \\frac{1}{2} \\, {\\left(i \\, {\\varepsilon}^{2} \\cos\\left(\\frac{1}{2} \\, {\\alpha}\\right) \\pi_3\\left(x\\right) - i \\, {\\varepsilon}^{2} \\pi_1\\left(x\\right) \\sin\\left(\\frac{1}{2} \\, {\\alpha}\\right) + {\\varepsilon}^{2} \\pi_2\\left(x\\right) \\sin\\left(\\frac{1}{2} \\, {\\alpha}\\right) - 2 \\, {\\varepsilon} \\cos\\left(\\frac{1}{2} \\, {\\alpha}\\right)\\right)} \\pi_{7}\\left(x\\right) & -\\frac{1}{18} \\, \\sqrt{3} {\\left(12 i \\, {\\varepsilon} \\pi_{8}\\left(x\\right) + \\sqrt{3} {\\left(3 \\, {\\varepsilon}^{2} \\pi_{4}\\left(x\\right)^{2} + 3 \\, {\\varepsilon}^{2} \\pi_{5}\\left(x\\right)^{2} + 3 \\, {\\varepsilon}^{2} \\pi_{6}\\left(x\\right)^{2} + 3 \\, {\\varepsilon}^{2} \\pi_{7}\\left(x\\right)^{2} + 4 \\, {\\varepsilon}^{2} \\pi_{8}\\left(x\\right)^{2} - 6\\right)}\\right)}\n",
       "\\end{array}\\right)</script></html>"
      ],
      "text/plain": [
       "[                                                                                                                                                                                 -1/2*e^2*cos(a)*pi1(x)^2 - 1/2*e^2*cos(a)*pi2(x)^2 - 1/2*e^2*cos(a)*pi3(x)^2 - 1/4*e^2*(cos(a) + 1)*pi4(x)^2 - 1/4*e^2*(cos(a) + 1)*pi5(x)^2 - 1/4*e^2*(cos(a) - 1)*pi6(x)^2 - 1/4*e^2*(cos(a) - 1)*pi7(x)^2 - 1/6*e^2*cos(a)*pi8(x)^2 - 1/2*I*e^2*pi5(x)*pi6(x)*sin(a) + 1/2*I*e^2*pi4(x)*pi7(x)*sin(a) - e*pi2(x)*sin(a) + I*e*pi3(x) + 1/3*(-I*sqrt(3)*e^2*pi2(x)*sin(a) - sqrt(3)*e^2*pi3(x) + I*sqrt(3)*e*cos(a))*pi8(x) + cos(a)                                                                                                                                                                            -1/2*e^2*pi1(x)^2*sin(a) - 1/2*e^2*pi2(x)^2*sin(a) - 1/2*e^2*pi3(x)^2*sin(a) - 1/4*e^2*pi4(x)^2*sin(a) - 1/4*e^2*pi5(x)^2*sin(a) - 1/4*e^2*pi6(x)^2*sin(a) - 1/4*e^2*pi7(x)^2*sin(a) - 1/6*e^2*pi8(x)^2*sin(a) + e*cos(a)*pi2(x) + I*e*pi1(x) + 1/2*(I*e^2*cos(a)*pi5(x) - e^2*pi4(x))*pi6(x) + 1/2*(-I*e^2*cos(a)*pi4(x) - e^2*pi5(x))*pi7(x) + 1/3*(I*sqrt(3)*e^2*cos(a)*pi2(x) - sqrt(3)*e^2*pi1(x) + I*sqrt(3)*e*sin(a))*pi8(x) + sin(a)   1/6*sqrt(3)*e^2*cos(1/2*a)*pi4(x)*pi8(x) - 1/6*I*sqrt(3)*e^2*cos(1/2*a)*pi5(x)*pi8(x) + 1/6*sqrt(3)*e^2*pi6(x)*pi8(x)*sin(1/2*a) - 1/6*I*sqrt(3)*e^2*pi7(x)*pi8(x)*sin(1/2*a) - 1/2*(e^2*cos(1/2*a)*pi3(x) + e^2*pi1(x)*sin(1/2*a) + I*e^2*pi2(x)*sin(1/2*a) - 2*I*e*cos(1/2*a))*pi4(x) + 1/2*(I*e^2*cos(1/2*a)*pi3(x) + I*e^2*pi1(x)*sin(1/2*a) - e^2*pi2(x)*sin(1/2*a) + 2*e*cos(1/2*a))*pi5(x) - 1/2*(e^2*cos(1/2*a)*pi1(x) - I*e^2*cos(1/2*a)*pi2(x) - e^2*pi3(x)*sin(1/2*a) - 2*I*e*sin(1/2*a))*pi6(x) + 1/2*(I*e^2*cos(1/2*a)*pi1(x) + e^2*cos(1/2*a)*pi2(x) - I*e^2*pi3(x)*sin(1/2*a) + 2*e*sin(1/2*a))*pi7(x)]\n",
       "[                                                                                                                                                                           1/2*e^2*pi1(x)^2*sin(a) + 1/2*e^2*pi2(x)^2*sin(a) + 1/2*e^2*pi3(x)^2*sin(a) + 1/4*e^2*pi4(x)^2*sin(a) + 1/4*e^2*pi5(x)^2*sin(a) + 1/4*e^2*pi6(x)^2*sin(a) + 1/4*e^2*pi7(x)^2*sin(a) + 1/6*e^2*pi8(x)^2*sin(a) - e*cos(a)*pi2(x) + I*e*pi1(x) + 1/2*(-I*e^2*cos(a)*pi5(x) - e^2*pi4(x))*pi6(x) + 1/2*(I*e^2*cos(a)*pi4(x) - e^2*pi5(x))*pi7(x) + 1/3*(-I*sqrt(3)*e^2*cos(a)*pi2(x) - sqrt(3)*e^2*pi1(x) - I*sqrt(3)*e*sin(a))*pi8(x) - sin(a)                                                                                                                                                                                  -1/2*e^2*cos(a)*pi1(x)^2 - 1/2*e^2*cos(a)*pi2(x)^2 - 1/2*e^2*cos(a)*pi3(x)^2 - 1/4*e^2*(cos(a) - 1)*pi4(x)^2 - 1/4*e^2*(cos(a) - 1)*pi5(x)^2 - 1/4*e^2*(cos(a) + 1)*pi6(x)^2 - 1/4*e^2*(cos(a) + 1)*pi7(x)^2 - 1/6*e^2*cos(a)*pi8(x)^2 - 1/2*I*e^2*pi5(x)*pi6(x)*sin(a) + 1/2*I*e^2*pi4(x)*pi7(x)*sin(a) - e*pi2(x)*sin(a) - I*e*pi3(x) + 1/3*(-I*sqrt(3)*e^2*pi2(x)*sin(a) + sqrt(3)*e^2*pi3(x) + I*sqrt(3)*e*cos(a))*pi8(x) + cos(a)  1/6*sqrt(3)*e^2*cos(1/2*a)*pi6(x)*pi8(x) - 1/6*I*sqrt(3)*e^2*cos(1/2*a)*pi7(x)*pi8(x) - 1/6*sqrt(3)*e^2*pi4(x)*pi8(x)*sin(1/2*a) + 1/6*I*sqrt(3)*e^2*pi5(x)*pi8(x)*sin(1/2*a) - 1/2*(e^2*cos(1/2*a)*pi1(x) + I*e^2*cos(1/2*a)*pi2(x) - e^2*pi3(x)*sin(1/2*a) + 2*I*e*sin(1/2*a))*pi4(x) + 1/2*(I*e^2*cos(1/2*a)*pi1(x) - e^2*cos(1/2*a)*pi2(x) - I*e^2*pi3(x)*sin(1/2*a) - 2*e*sin(1/2*a))*pi5(x) + 1/2*(e^2*cos(1/2*a)*pi3(x) + e^2*pi1(x)*sin(1/2*a) - I*e^2*pi2(x)*sin(1/2*a) + 2*I*e*cos(1/2*a))*pi6(x) + 1/2*(-I*e^2*cos(1/2*a)*pi3(x) - I*e^2*pi1(x)*sin(1/2*a) - e^2*pi2(x)*sin(1/2*a) + 2*e*cos(1/2*a))*pi7(x)]\n",
       "[1/6*sqrt(3)*e^2*cos(1/2*a)*pi4(x)*pi8(x) + 1/6*I*sqrt(3)*e^2*cos(1/2*a)*pi5(x)*pi8(x) - 1/6*sqrt(3)*e^2*pi6(x)*pi8(x)*sin(1/2*a) - 1/6*I*sqrt(3)*e^2*pi7(x)*pi8(x)*sin(1/2*a) - 1/2*(e^2*cos(1/2*a)*pi3(x) - e^2*pi1(x)*sin(1/2*a) + I*e^2*pi2(x)*sin(1/2*a) - 2*I*e*cos(1/2*a))*pi4(x) + 1/2*(-I*e^2*cos(1/2*a)*pi3(x) + I*e^2*pi1(x)*sin(1/2*a) + e^2*pi2(x)*sin(1/2*a) - 2*e*cos(1/2*a))*pi5(x) - 1/2*(e^2*cos(1/2*a)*pi1(x) + I*e^2*cos(1/2*a)*pi2(x) + e^2*pi3(x)*sin(1/2*a) + 2*I*e*sin(1/2*a))*pi6(x) + 1/2*(-I*e^2*cos(1/2*a)*pi1(x) + e^2*cos(1/2*a)*pi2(x) - I*e^2*pi3(x)*sin(1/2*a) + 2*e*sin(1/2*a))*pi7(x)  1/6*sqrt(3)*e^2*cos(1/2*a)*pi6(x)*pi8(x) + 1/6*I*sqrt(3)*e^2*cos(1/2*a)*pi7(x)*pi8(x) + 1/6*sqrt(3)*e^2*pi4(x)*pi8(x)*sin(1/2*a) + 1/6*I*sqrt(3)*e^2*pi5(x)*pi8(x)*sin(1/2*a) - 1/2*(e^2*cos(1/2*a)*pi1(x) - I*e^2*cos(1/2*a)*pi2(x) + e^2*pi3(x)*sin(1/2*a) - 2*I*e*sin(1/2*a))*pi4(x) + 1/2*(-I*e^2*cos(1/2*a)*pi1(x) - e^2*cos(1/2*a)*pi2(x) - I*e^2*pi3(x)*sin(1/2*a) - 2*e*sin(1/2*a))*pi5(x) + 1/2*(e^2*cos(1/2*a)*pi3(x) - e^2*pi1(x)*sin(1/2*a) - I*e^2*pi2(x)*sin(1/2*a) + 2*I*e*cos(1/2*a))*pi6(x) + 1/2*(I*e^2*cos(1/2*a)*pi3(x) - I*e^2*pi1(x)*sin(1/2*a) + e^2*pi2(x)*sin(1/2*a) - 2*e*cos(1/2*a))*pi7(x)                                                                                                                                                                                                                                                                                                                                                                                                                                                                                        -1/18*sqrt(3)*(12*I*e*pi8(x) + sqrt(3)*(3*e^2*pi4(x)^2 + 3*e^2*pi5(x)^2 + 3*e^2*pi6(x)^2 + 3*e^2*pi7(x)^2 + 4*e^2*pi8(x)^2 - 6))]"
      ]
     },
     "execution_count": 202,
     "metadata": {},
     "output_type": "execute_result"
    }
   ],
   "source": [
    "S"
   ]
  },
  {
   "cell_type": "code",
   "execution_count": 215,
   "id": "cd32723c",
   "metadata": {},
   "outputs": [
    {
     "data": {
      "text/html": [
       "<html><script type=\"math/tex; mode=display\">\\newcommand{\\Bold}[1]{\\mathbf{#1}}\\left(\\begin{array}{rrr}\n",
       "\\frac{16}{3} & 0 & 0 \\\\\n",
       "0 & \\frac{16}{3} & 0 \\\\\n",
       "0 & 0 & \\frac{16}{3}\n",
       "\\end{array}\\right)</script></html>"
      ],
      "text/plain": [
       "[16/3    0    0]\n",
       "[   0 16/3    0]\n",
       "[   0    0 16/3]"
      ]
     },
     "execution_count": 215,
     "metadata": {},
     "output_type": "execute_result"
    }
   ],
   "source": [
    "sum(li*li for li in l)"
   ]
  },
  {
   "cell_type": "code",
   "execution_count": 126,
   "id": "711901a9",
   "metadata": {},
   "outputs": [
    {
     "data": {
      "text/html": [
       "<html><script type=\"math/tex; mode=display\">\\newcommand{\\Bold}[1]{\\mathbf{#1}}\\left[\\left[-\\frac{1}{72} \\, \\sqrt{3} {\\left(6 \\, {\\left(\\sqrt{3} {\\varepsilon}^{2} {m_d} \\cos\\left({\\alpha}\\right) + \\sqrt{3} {\\varepsilon}^{2} {m_u} \\cos\\left({\\alpha}\\right)\\right)} \\pi_1\\left(x\\right)^{2} + 6 \\, {\\left(\\sqrt{3} {\\varepsilon}^{2} {m_d} \\cos\\left({\\alpha}\\right) + \\sqrt{3} {\\varepsilon}^{2} {m_u} \\cos\\left({\\alpha}\\right)\\right)} \\pi_2\\left(x\\right)^{2} + 6 \\, {\\left(\\sqrt{3} {\\varepsilon}^{2} {m_d} \\cos\\left({\\alpha}\\right) + \\sqrt{3} {\\varepsilon}^{2} {m_u} \\cos\\left({\\alpha}\\right)\\right)} \\pi_3\\left(x\\right)^{2} + 3 \\, {\\left({\\left(\\sqrt{3} \\cos\\left({\\alpha}\\right) - \\sqrt{3}\\right)} {\\varepsilon}^{2} {m_d} + {\\left(\\sqrt{3} \\cos\\left({\\alpha}\\right) + \\sqrt{3}\\right)} {\\varepsilon}^{2} {m_s} + {\\left(\\sqrt{3} \\cos\\left({\\alpha}\\right) + \\sqrt{3}\\right)} {\\varepsilon}^{2} {m_u}\\right)} \\pi_{4}\\left(x\\right)^{2} + 3 \\, {\\left({\\left(\\sqrt{3} \\cos\\left({\\alpha}\\right) - \\sqrt{3}\\right)} {\\varepsilon}^{2} {m_d} + {\\left(\\sqrt{3} \\cos\\left({\\alpha}\\right) + \\sqrt{3}\\right)} {\\varepsilon}^{2} {m_s} + {\\left(\\sqrt{3} \\cos\\left({\\alpha}\\right) + \\sqrt{3}\\right)} {\\varepsilon}^{2} {m_u}\\right)} \\pi_{5}\\left(x\\right)^{2} + {\\left(6 i \\, \\sqrt{3} {\\varepsilon}^{2} {m_d} \\sin\\left({\\alpha}\\right) + 6 i \\, \\sqrt{3} {\\varepsilon}^{2} {m_u} \\sin\\left({\\alpha}\\right)\\right)} \\pi_{5}\\left(x\\right) \\pi_{6}\\left(x\\right) + 3 \\, {\\left({\\left(\\sqrt{3} \\cos\\left({\\alpha}\\right) + \\sqrt{3}\\right)} {\\varepsilon}^{2} {m_d} + {\\left(\\sqrt{3} \\cos\\left({\\alpha}\\right) + \\sqrt{3}\\right)} {\\varepsilon}^{2} {m_s} + {\\left(\\sqrt{3} \\cos\\left({\\alpha}\\right) - \\sqrt{3}\\right)} {\\varepsilon}^{2} {m_u}\\right)} \\pi_{6}\\left(x\\right)^{2} + {\\left(-6 i \\, \\sqrt{3} {\\varepsilon}^{2} {m_d} \\sin\\left({\\alpha}\\right) - 6 i \\, \\sqrt{3} {\\varepsilon}^{2} {m_u} \\sin\\left({\\alpha}\\right)\\right)} \\pi_{4}\\left(x\\right) \\pi_{7}\\left(x\\right) + 3 \\, {\\left({\\left(\\sqrt{3} \\cos\\left({\\alpha}\\right) + \\sqrt{3}\\right)} {\\varepsilon}^{2} {m_d} + {\\left(\\sqrt{3} \\cos\\left({\\alpha}\\right) + \\sqrt{3}\\right)} {\\varepsilon}^{2} {m_s} + {\\left(\\sqrt{3} \\cos\\left({\\alpha}\\right) - \\sqrt{3}\\right)} {\\varepsilon}^{2} {m_u}\\right)} \\pi_{7}\\left(x\\right)^{2} + 2 \\, {\\left(\\sqrt{3} {\\varepsilon}^{2} {m_d} \\cos\\left({\\alpha}\\right) + \\sqrt{3} {\\varepsilon}^{2} {m_u} \\cos\\left({\\alpha}\\right) + 2 \\, {\\left(\\sqrt{3} \\cos\\left({\\alpha}\\right) + \\sqrt{3}\\right)} {\\varepsilon}^{2} {m_s}\\right)} \\pi_{8}\\left(x\\right)^{2} - 12 \\, \\sqrt{3} {m_d} \\cos\\left({\\alpha}\\right) - 12 \\, \\sqrt{3} {m_u} \\cos\\left({\\alpha}\\right) - 6 \\, {\\left(\\sqrt{3} \\cos\\left({\\alpha}\\right) + \\sqrt{3}\\right)} {m_s} + 12 \\, {\\left(\\sqrt{3} {\\varepsilon} {m_d} \\sin\\left({\\alpha}\\right) + \\sqrt{3} {\\varepsilon} {m_u} \\sin\\left({\\alpha}\\right)\\right)} \\pi_2\\left(x\\right) + {\\left(12 i \\, \\sqrt{3} {\\varepsilon} {m_d} - 12 i \\, \\sqrt{3} {\\varepsilon} {m_u}\\right)} \\pi_3\\left(x\\right) + {\\left({\\varepsilon} {m_s} {\\left(12 i \\, \\cos\\left({\\alpha}\\right) + 12 i\\right)} - 12 i \\, {\\varepsilon} {m_d} \\cos\\left({\\alpha}\\right) - 12 i \\, {\\varepsilon} {m_u} \\cos\\left({\\alpha}\\right) + {\\left(12 i \\, {\\varepsilon}^{2} {m_d} \\sin\\left({\\alpha}\\right) + 12 i \\, {\\varepsilon}^{2} {m_u} \\sin\\left({\\alpha}\\right)\\right)} \\pi_2\\left(x\\right) - 12 \\, {\\left({\\varepsilon}^{2} {m_d} - {\\varepsilon}^{2} {m_u}\\right)} \\pi_3\\left(x\\right)\\right)} \\pi_{8}\\left(x\\right)\\right)}, 0\\right]\\right]</script></html>"
      ],
      "text/plain": [
       "[[-1/72*sqrt(3)*(6*(sqrt(3)*e^2*md*cos(a) + sqrt(3)*e^2*mu*cos(a))*pi1(x)^2 + 6*(sqrt(3)*e^2*md*cos(a) + sqrt(3)*e^2*mu*cos(a))*pi2(x)^2 + 6*(sqrt(3)*e^2*md*cos(a) + sqrt(3)*e^2*mu*cos(a))*pi3(x)^2 + 3*((sqrt(3)*cos(a) - sqrt(3))*e^2*md + (sqrt(3)*cos(a) + sqrt(3))*e^2*ms + (sqrt(3)*cos(a) + sqrt(3))*e^2*mu)*pi4(x)^2 + 3*((sqrt(3)*cos(a) - sqrt(3))*e^2*md + (sqrt(3)*cos(a) + sqrt(3))*e^2*ms + (sqrt(3)*cos(a) + sqrt(3))*e^2*mu)*pi5(x)^2 + (6*I*sqrt(3)*e^2*md*sin(a) + 6*I*sqrt(3)*e^2*mu*sin(a))*pi5(x)*pi6(x) + 3*((sqrt(3)*cos(a) + sqrt(3))*e^2*md + (sqrt(3)*cos(a) + sqrt(3))*e^2*ms + (sqrt(3)*cos(a) - sqrt(3))*e^2*mu)*pi6(x)^2 + (-6*I*sqrt(3)*e^2*md*sin(a) - 6*I*sqrt(3)*e^2*mu*sin(a))*pi4(x)*pi7(x) + 3*((sqrt(3)*cos(a) + sqrt(3))*e^2*md + (sqrt(3)*cos(a) + sqrt(3))*e^2*ms + (sqrt(3)*cos(a) - sqrt(3))*e^2*mu)*pi7(x)^2 + 2*(sqrt(3)*e^2*md*cos(a) + sqrt(3)*e^2*mu*cos(a) + 2*(sqrt(3)*cos(a) + sqrt(3))*e^2*ms)*pi8(x)^2 - 12*sqrt(3)*md*cos(a) - 12*sqrt(3)*mu*cos(a) - 6*(sqrt(3)*cos(a) + sqrt(3))*ms + 12*(sqrt(3)*e*md*sin(a) + sqrt(3)*e*mu*sin(a))*pi2(x) + (12*I*sqrt(3)*e*md - 12*I*sqrt(3)*e*mu)*pi3(x) + (e*ms*(12*I*cos(a) + 12*I) - 12*I*e*md*cos(a) - 12*I*e*mu*cos(a) + (12*I*e^2*md*sin(a) + 12*I*e^2*mu*sin(a))*pi2(x) - 12*(e^2*md - e^2*mu)*pi3(x))*pi8(x)),\n",
       "  0]]"
      ]
     },
     "execution_count": 126,
     "metadata": {},
     "output_type": "execute_result"
    }
   ],
   "source": [
    "mass_term.coefficients(p[6])"
   ]
  },
  {
   "cell_type": "code",
   "execution_count": 127,
   "id": "82b8f1d9",
   "metadata": {},
   "outputs": [
    {
     "data": {
      "text/html": [
       "<html><script type=\"math/tex; mode=display\">\\newcommand{\\Bold}[1]{\\mathbf{#1}}\\pi_7\\left(x\\right)</script></html>"
      ],
      "text/plain": [
       "pi7(x)"
      ]
     },
     "execution_count": 127,
     "metadata": {},
     "output_type": "execute_result"
    }
   ],
   "source": [
    "p[6]"
   ]
  },
  {
   "cell_type": "code",
   "execution_count": 88,
   "id": "7a90b10c",
   "metadata": {},
   "outputs": [
    {
     "data": {
      "text/html": [
       "<html><script type=\"math/tex; mode=display\">\\newcommand{\\Bold}[1]{\\mathbf{#1}}\\pi_1\\left(x\\right)</script></html>"
      ],
      "text/plain": [
       "pi1(x)"
      ]
     },
     "execution_count": 88,
     "metadata": {},
     "output_type": "execute_result"
    }
   ],
   "source": [
    "p[0]"
   ]
  },
  {
   "cell_type": "code",
   "execution_count": 113,
   "id": "3cc5c3d9",
   "metadata": {},
   "outputs": [
    {
     "data": {
      "text/html": [
       "<html><script type=\"math/tex; mode=display\">\\newcommand{\\Bold}[1]{\\mathbf{#1}}\\left(\\begin{array}{rrr}\n",
       "\\frac{1}{3} & 0 & 0 \\\\\n",
       "0 & \\frac{1}{3} & 0 \\\\\n",
       "0 & 0 & \\frac{4}{3}\n",
       "\\end{array}\\right)</script></html>"
      ],
      "text/plain": [
       "[1/3   0   0]\n",
       "[  0 1/3   0]\n",
       "[  0   0 4/3]"
      ]
     },
     "execution_count": 113,
     "metadata": {},
     "output_type": "execute_result"
    }
   ],
   "source": [
    "l8**2"
   ]
  },
  {
   "cell_type": "code",
   "execution_count": 142,
   "id": "7aedf423",
   "metadata": {},
   "outputs": [
    {
     "data": {
      "text/html": [
       "<html><script type=\"math/tex; mode=display\">\\newcommand{\\Bold}[1]{\\mathbf{#1}}\\left(\\begin{array}{rrr}\n",
       "0 & i \\, {m_d} - i \\, {m_u} & 0 \\\\\n",
       "i \\, {m_d} - i \\, {m_u} & 0 & 0 \\\\\n",
       "0 & 0 & 0\n",
       "\\end{array}\\right)</script></html>"
      ],
      "text/plain": [
       "[          0 I*md - I*mu           0]\n",
       "[I*md - I*mu           0           0]\n",
       "[          0           0           0]"
      ]
     },
     "execution_count": 142,
     "metadata": {},
     "output_type": "execute_result"
    }
   ],
   "source": [
    "com(m, l2)"
   ]
  },
  {
   "cell_type": "code",
   "execution_count": 147,
   "id": "8f16e687",
   "metadata": {},
   "outputs": [],
   "source": [
    "S = SIGMA(1)\n",
    "SCT = SIGMACT(1)"
   ]
  },
  {
   "cell_type": "code",
   "execution_count": 148,
   "id": "8a57c30c",
   "metadata": {},
   "outputs": [
    {
     "data": {
      "text/html": [
       "<html><script type=\"math/tex; mode=display\">\\newcommand{\\Bold}[1]{\\mathbf{#1}}\\left(\\begin{array}{rrr}\n",
       "\\cos\\left({\\alpha}\\right) & \\sin\\left({\\alpha}\\right) & 0 \\\\\n",
       "-\\sin\\left({\\alpha}\\right) & \\cos\\left({\\alpha}\\right) & 0 \\\\\n",
       "0 & 0 & \\frac{1}{2} \\, \\cos\\left({\\alpha}\\right) + \\frac{1}{2}\n",
       "\\end{array}\\right)</script></html>"
      ],
      "text/plain": [
       "[          cos(a)           sin(a)                0]\n",
       "[         -sin(a)           cos(a)                0]\n",
       "[               0                0 1/2*cos(a) + 1/2]"
      ]
     },
     "execution_count": 148,
     "metadata": {},
     "output_type": "execute_result"
    }
   ],
   "source": [
    "S"
   ]
  },
  {
   "cell_type": "code",
   "execution_count": 167,
   "id": "9a6b9e59",
   "metadata": {},
   "outputs": [
    {
     "data": {
      "text/html": [
       "<html><script type=\"math/tex; mode=display\">\\newcommand{\\Bold}[1]{\\mathbf{#1}}\\left(\\begin{array}{rrr}\n",
       "\\cos\\left({\\alpha}\\right) & \\sin\\left({\\alpha}\\right) & 0 \\\\\n",
       "-\\sin\\left({\\alpha}\\right) & \\cos\\left({\\alpha}\\right) & 0 \\\\\n",
       "0 & 0 & 1\n",
       "\\end{array}\\right)</script></html>"
      ],
      "text/plain": [
       "[ cos(a)  sin(a)       0]\n",
       "[-sin(a)  cos(a)       0]\n",
       "[      0       0       1]"
      ]
     },
     "execution_count": 167,
     "metadata": {},
     "output_type": "execute_result"
    }
   ],
   "source": [
    "A = l2**2*cos(a) + i *l2*sin(a) + (one - l2**2)\n",
    "A"
   ]
  },
  {
   "cell_type": "code",
   "execution_count": 169,
   "id": "a93d6576",
   "metadata": {},
   "outputs": [
    {
     "data": {
      "text/html": [
       "<html><script type=\"math/tex; mode=display\">\\newcommand{\\Bold}[1]{\\mathbf{#1}}\\left(\\begin{array}{rrr}\n",
       "\\cos\\left({\\alpha}\\right) & -\\sin\\left({\\alpha}\\right) & 0 \\\\\n",
       "\\sin\\left({\\alpha}\\right) & \\cos\\left({\\alpha}\\right) & 0 \\\\\n",
       "0 & 0 & 1\n",
       "\\end{array}\\right)</script></html>"
      ],
      "text/plain": [
       "[ cos(a) -sin(a)       0]\n",
       "[ sin(a)  cos(a)       0]\n",
       "[      0       0       1]"
      ]
     },
     "execution_count": 169,
     "metadata": {},
     "output_type": "execute_result"
    }
   ],
   "source": []
  },
  {
   "cell_type": "code",
   "execution_count": 159,
   "id": "ca5e5046",
   "metadata": {},
   "outputs": [
    {
     "data": {
      "text/html": [
       "<html><script type=\"math/tex; mode=display\">\\newcommand{\\Bold}[1]{\\mathbf{#1}}\\left(\\begin{array}{rrr}\n",
       "\\cos\\left({\\alpha}\\right) & \\sin\\left({\\alpha}\\right) & 0 \\\\\n",
       "-\\sin\\left({\\alpha}\\right) & \\cos\\left({\\alpha}\\right) & 0 \\\\\n",
       "0 & 0 & \\frac{1}{2} \\, \\cos\\left({\\alpha}\\right) + \\frac{1}{2}\n",
       "\\end{array}\\right)</script></html>"
      ],
      "text/plain": [
       "[          cos(a)           sin(a)                0]\n",
       "[         -sin(a)           cos(a)                0]\n",
       "[               0                0 1/2*cos(a) + 1/2]"
      ]
     },
     "execution_count": 159,
     "metadata": {},
     "output_type": "execute_result"
    }
   ],
   "source": [
    "S = A_a * A_a\n",
    "mat_simp(S)\n",
    "S"
   ]
  },
  {
   "cell_type": "code",
   "execution_count": 165,
   "id": "d5e8e79f",
   "metadata": {},
   "outputs": [
    {
     "data": {
      "text/html": [
       "<html><script type=\"math/tex; mode=display\">\\newcommand{\\Bold}[1]{\\mathbf{#1}}\\left(\\begin{array}{rrr}\n",
       "-\\frac{1}{72} \\, {\\left(\\sqrt{3} \\pi_8\\left(x\\right) + 3 \\, \\pi_3\\left(x\\right)\\right)}^{2} {\\varepsilon}^{2} - \\frac{1}{8} \\, {\\varepsilon}^{2} {\\left(\\pi_1\\left(x\\right) + i \\, \\pi_2\\left(x\\right)\\right)} {\\left(\\pi_1\\left(x\\right) - i \\, \\pi_2\\left(x\\right)\\right)} - \\frac{1}{8} \\, {\\varepsilon}^{2} {\\left(\\pi_4\\left(x\\right) + i \\, \\pi_5\\left(x\\right)\\right)} {\\left(\\pi_4\\left(x\\right) - i \\, \\pi_5\\left(x\\right)\\right)} + \\frac{1}{6} i \\, {\\left(\\sqrt{3} \\pi_8\\left(x\\right) + 3 \\, \\pi_3\\left(x\\right)\\right)} {\\varepsilon} + 1 & -\\frac{1}{24} \\, {\\left(\\sqrt{3} \\pi_8\\left(x\\right) + 3 \\, \\pi_3\\left(x\\right)\\right)} {\\varepsilon}^{2} {\\left(\\pi_1\\left(x\\right) - i \\, \\pi_2\\left(x\\right)\\right)} - \\frac{1}{24} \\, {\\left(\\sqrt{3} \\pi_8\\left(x\\right) - 3 \\, \\pi_3\\left(x\\right)\\right)} {\\varepsilon}^{2} {\\left(\\pi_1\\left(x\\right) - i \\, \\pi_2\\left(x\\right)\\right)} - \\frac{1}{8} \\, {\\varepsilon}^{2} {\\left(\\pi_4\\left(x\\right) - i \\, \\pi_5\\left(x\\right)\\right)} {\\left(\\pi_6\\left(x\\right) + i \\, \\pi_7\\left(x\\right)\\right)} + \\frac{1}{2} i \\, {\\varepsilon} {\\left(\\pi_1\\left(x\\right) - i \\, \\pi_2\\left(x\\right)\\right)} & \\frac{1}{12} \\, \\sqrt{3} {\\varepsilon}^{2} {\\left(\\pi_4\\left(x\\right) - i \\, \\pi_5\\left(x\\right)\\right)} \\pi_8\\left(x\\right) - \\frac{1}{24} \\, {\\left(\\sqrt{3} \\pi_8\\left(x\\right) + 3 \\, \\pi_3\\left(x\\right)\\right)} {\\varepsilon}^{2} {\\left(\\pi_4\\left(x\\right) - i \\, \\pi_5\\left(x\\right)\\right)} - \\frac{1}{8} \\, {\\varepsilon}^{2} {\\left(\\pi_1\\left(x\\right) - i \\, \\pi_2\\left(x\\right)\\right)} {\\left(\\pi_6\\left(x\\right) - i \\, \\pi_7\\left(x\\right)\\right)} + \\frac{1}{2} i \\, {\\varepsilon} {\\left(\\pi_4\\left(x\\right) - i \\, \\pi_5\\left(x\\right)\\right)} \\\\\n",
       "-\\frac{1}{24} \\, {\\left(\\sqrt{3} \\pi_8\\left(x\\right) + 3 \\, \\pi_3\\left(x\\right)\\right)} {\\varepsilon}^{2} {\\left(\\pi_1\\left(x\\right) + i \\, \\pi_2\\left(x\\right)\\right)} - \\frac{1}{24} \\, {\\left(\\sqrt{3} \\pi_8\\left(x\\right) - 3 \\, \\pi_3\\left(x\\right)\\right)} {\\varepsilon}^{2} {\\left(\\pi_1\\left(x\\right) + i \\, \\pi_2\\left(x\\right)\\right)} - \\frac{1}{8} \\, {\\varepsilon}^{2} {\\left(\\pi_4\\left(x\\right) + i \\, \\pi_5\\left(x\\right)\\right)} {\\left(\\pi_6\\left(x\\right) - i \\, \\pi_7\\left(x\\right)\\right)} + \\frac{1}{2} i \\, {\\varepsilon} {\\left(\\pi_1\\left(x\\right) + i \\, \\pi_2\\left(x\\right)\\right)} & -\\frac{1}{72} \\, {\\left(\\sqrt{3} \\pi_8\\left(x\\right) - 3 \\, \\pi_3\\left(x\\right)\\right)}^{2} {\\varepsilon}^{2} - \\frac{1}{8} \\, {\\varepsilon}^{2} {\\left(\\pi_1\\left(x\\right) + i \\, \\pi_2\\left(x\\right)\\right)} {\\left(\\pi_1\\left(x\\right) - i \\, \\pi_2\\left(x\\right)\\right)} - \\frac{1}{8} \\, {\\varepsilon}^{2} {\\left(\\pi_6\\left(x\\right) + i \\, \\pi_7\\left(x\\right)\\right)} {\\left(\\pi_6\\left(x\\right) - i \\, \\pi_7\\left(x\\right)\\right)} + \\frac{1}{6} i \\, {\\left(\\sqrt{3} \\pi_8\\left(x\\right) - 3 \\, \\pi_3\\left(x\\right)\\right)} {\\varepsilon} + 1 & \\frac{1}{12} \\, \\sqrt{3} {\\varepsilon}^{2} {\\left(\\pi_6\\left(x\\right) - i \\, \\pi_7\\left(x\\right)\\right)} \\pi_8\\left(x\\right) - \\frac{1}{8} \\, {\\varepsilon}^{2} {\\left(\\pi_1\\left(x\\right) + i \\, \\pi_2\\left(x\\right)\\right)} {\\left(\\pi_4\\left(x\\right) - i \\, \\pi_5\\left(x\\right)\\right)} - \\frac{1}{24} \\, {\\left(\\sqrt{3} \\pi_8\\left(x\\right) - 3 \\, \\pi_3\\left(x\\right)\\right)} {\\varepsilon}^{2} {\\left(\\pi_6\\left(x\\right) - i \\, \\pi_7\\left(x\\right)\\right)} + \\frac{1}{2} i \\, {\\varepsilon} {\\left(\\pi_6\\left(x\\right) - i \\, \\pi_7\\left(x\\right)\\right)} \\\\\n",
       "\\frac{1}{12} \\, \\sqrt{3} {\\varepsilon}^{2} {\\left(\\pi_4\\left(x\\right) + i \\, \\pi_5\\left(x\\right)\\right)} \\pi_8\\left(x\\right) - \\frac{1}{24} \\, {\\left(\\sqrt{3} \\pi_8\\left(x\\right) + 3 \\, \\pi_3\\left(x\\right)\\right)} {\\varepsilon}^{2} {\\left(\\pi_4\\left(x\\right) + i \\, \\pi_5\\left(x\\right)\\right)} - \\frac{1}{8} \\, {\\varepsilon}^{2} {\\left(\\pi_1\\left(x\\right) + i \\, \\pi_2\\left(x\\right)\\right)} {\\left(\\pi_6\\left(x\\right) + i \\, \\pi_7\\left(x\\right)\\right)} + \\frac{1}{2} i \\, {\\varepsilon} {\\left(\\pi_4\\left(x\\right) + i \\, \\pi_5\\left(x\\right)\\right)} & \\frac{1}{12} \\, \\sqrt{3} {\\varepsilon}^{2} {\\left(\\pi_6\\left(x\\right) + i \\, \\pi_7\\left(x\\right)\\right)} \\pi_8\\left(x\\right) - \\frac{1}{8} \\, {\\varepsilon}^{2} {\\left(\\pi_1\\left(x\\right) - i \\, \\pi_2\\left(x\\right)\\right)} {\\left(\\pi_4\\left(x\\right) + i \\, \\pi_5\\left(x\\right)\\right)} - \\frac{1}{24} \\, {\\left(\\sqrt{3} \\pi_8\\left(x\\right) - 3 \\, \\pi_3\\left(x\\right)\\right)} {\\varepsilon}^{2} {\\left(\\pi_6\\left(x\\right) + i \\, \\pi_7\\left(x\\right)\\right)} + \\frac{1}{2} i \\, {\\varepsilon} {\\left(\\pi_6\\left(x\\right) + i \\, \\pi_7\\left(x\\right)\\right)} & -\\frac{1}{8} \\, {\\varepsilon}^{2} {\\left(\\pi_4\\left(x\\right) + i \\, \\pi_5\\left(x\\right)\\right)} {\\left(\\pi_4\\left(x\\right) - i \\, \\pi_5\\left(x\\right)\\right)} - \\frac{1}{8} \\, {\\varepsilon}^{2} {\\left(\\pi_6\\left(x\\right) + i \\, \\pi_7\\left(x\\right)\\right)} {\\left(\\pi_6\\left(x\\right) - i \\, \\pi_7\\left(x\\right)\\right)} - \\frac{1}{6} \\, {\\varepsilon}^{2} \\pi_8\\left(x\\right)^{2} - \\frac{1}{3} i \\, \\sqrt{3} {\\varepsilon} \\pi_8\\left(x\\right) + 1\n",
       "\\end{array}\\right)</script></html>"
      ],
      "text/plain": [
       "[               -1/72*(sqrt(3)*pi8(x) + 3*pi3(x))^2*e^2 - 1/8*e^2*(pi1(x) + I*pi2(x))*(pi1(x) - I*pi2(x)) - 1/8*e^2*(pi4(x) + I*pi5(x))*(pi4(x) - I*pi5(x)) + 1/6*I*(sqrt(3)*pi8(x) + 3*pi3(x))*e + 1 -1/24*(sqrt(3)*pi8(x) + 3*pi3(x))*e^2*(pi1(x) - I*pi2(x)) - 1/24*(sqrt(3)*pi8(x) - 3*pi3(x))*e^2*(pi1(x) - I*pi2(x)) - 1/8*e^2*(pi4(x) - I*pi5(x))*(pi6(x) + I*pi7(x)) + 1/2*I*e*(pi1(x) - I*pi2(x))               1/12*sqrt(3)*e^2*(pi4(x) - I*pi5(x))*pi8(x) - 1/24*(sqrt(3)*pi8(x) + 3*pi3(x))*e^2*(pi4(x) - I*pi5(x)) - 1/8*e^2*(pi1(x) - I*pi2(x))*(pi6(x) - I*pi7(x)) + 1/2*I*e*(pi4(x) - I*pi5(x))]\n",
       "[-1/24*(sqrt(3)*pi8(x) + 3*pi3(x))*e^2*(pi1(x) + I*pi2(x)) - 1/24*(sqrt(3)*pi8(x) - 3*pi3(x))*e^2*(pi1(x) + I*pi2(x)) - 1/8*e^2*(pi4(x) + I*pi5(x))*(pi6(x) - I*pi7(x)) + 1/2*I*e*(pi1(x) + I*pi2(x))                -1/72*(sqrt(3)*pi8(x) - 3*pi3(x))^2*e^2 - 1/8*e^2*(pi1(x) + I*pi2(x))*(pi1(x) - I*pi2(x)) - 1/8*e^2*(pi6(x) + I*pi7(x))*(pi6(x) - I*pi7(x)) + 1/6*I*(sqrt(3)*pi8(x) - 3*pi3(x))*e + 1               1/12*sqrt(3)*e^2*(pi6(x) - I*pi7(x))*pi8(x) - 1/8*e^2*(pi1(x) + I*pi2(x))*(pi4(x) - I*pi5(x)) - 1/24*(sqrt(3)*pi8(x) - 3*pi3(x))*e^2*(pi6(x) - I*pi7(x)) + 1/2*I*e*(pi6(x) - I*pi7(x))]\n",
       "[              1/12*sqrt(3)*e^2*(pi4(x) + I*pi5(x))*pi8(x) - 1/24*(sqrt(3)*pi8(x) + 3*pi3(x))*e^2*(pi4(x) + I*pi5(x)) - 1/8*e^2*(pi1(x) + I*pi2(x))*(pi6(x) + I*pi7(x)) + 1/2*I*e*(pi4(x) + I*pi5(x))               1/12*sqrt(3)*e^2*(pi6(x) + I*pi7(x))*pi8(x) - 1/8*e^2*(pi1(x) - I*pi2(x))*(pi4(x) + I*pi5(x)) - 1/24*(sqrt(3)*pi8(x) - 3*pi3(x))*e^2*(pi6(x) + I*pi7(x)) + 1/2*I*e*(pi6(x) + I*pi7(x))                                                   -1/8*e^2*(pi4(x) + I*pi5(x))*(pi4(x) - I*pi5(x)) - 1/8*e^2*(pi6(x) + I*pi7(x))*(pi6(x) - I*pi7(x)) - 1/6*e^2*pi8(x)^2 - 1/3*I*sqrt(3)*e*pi8(x) + 1]"
      ]
     },
     "execution_count": 165,
     "metadata": {},
     "output_type": "execute_result"
    }
   ],
   "source": [
    "U(2)"
   ]
  },
  {
   "cell_type": "code",
   "execution_count": null,
   "id": "d2628f06",
   "metadata": {},
   "outputs": [],
   "source": []
  }
 ],
 "metadata": {
  "kernelspec": {
   "display_name": "SageMath 9.0",
   "language": "sage",
   "name": "sagemath"
  },
  "language_info": {
   "codemirror_mode": {
    "name": "ipython",
    "version": 3
   },
   "file_extension": ".py",
   "mimetype": "text/x-python",
   "name": "python",
   "nbconvert_exporter": "python",
   "pygments_lexer": "ipython3",
   "version": "3.8.10"
  }
 },
 "nbformat": 4,
 "nbformat_minor": 5
}
