{
 "cells": [
  {
   "cell_type": "code",
   "execution_count": 1,
   "id": "b35e7d13",
   "metadata": {},
   "outputs": [],
   "source": [
    "%display latex\n",
    "load(\"three_flavor.sage\")"
   ]
  },
  {
   "cell_type": "code",
   "execution_count": 2,
   "id": "ddcb84e6",
   "metadata": {},
   "outputs": [],
   "source": [
    "n = 2\n",
    "v = v_mu\n",
    "\n",
    "S, Sd, dS, dSd = get_S(n, l2)"
   ]
  },
  {
   "cell_type": "code",
   "execution_count": 3,
   "id": "0e321b7f",
   "metadata": {},
   "outputs": [],
   "source": [
    "COM = v*S - S*v # [v_mu, Sigma]\n",
    "COMd = Sd*v - v*Sd"
   ]
  },
  {
   "cell_type": "code",
   "execution_count": 4,
   "id": "1ec54d71",
   "metadata": {},
   "outputs": [],
   "source": [
    "COM = mat_prep(COM, n)\n",
    "COMd = mat_prep(COMd, n)"
   ]
  },
  {
   "cell_type": "code",
   "execution_count": 5,
   "id": "3de1d063",
   "metadata": {},
   "outputs": [],
   "source": [
    "term1 = mat_prep(dS*(dSd), n)"
   ]
  },
  {
   "cell_type": "code",
   "execution_count": 6,
   "id": "59b566b4",
   "metadata": {},
   "outputs": [],
   "source": [
    "term2 = -I*mat_prep(dS*(-COMd) + COM*dSd, n)"
   ]
  },
  {
   "cell_type": "code",
   "execution_count": 7,
   "id": "1444827a",
   "metadata": {},
   "outputs": [],
   "source": [
    "term3 = mat_prep(COM*COMd, n)"
   ]
  },
  {
   "cell_type": "code",
   "execution_count": 8,
   "id": "73d62ad1",
   "metadata": {},
   "outputs": [],
   "source": [
    "term1 = term1.trace().full_simplify().trig_reduce()\n",
    "term2 = term2.trace().full_simplify().trig_reduce()\n",
    "term3 = term3.trace().full_simplify().trig_reduce()\n",
    "mass_term = (chi*Sd + S*chi).trace().trig_reduce().full_simplify()\n",
    "term1, term2, term3, mass_term = (f^2/4 * term for term in [term1, term2, term3, mass_term])"
   ]
  },
  {
   "cell_type": "code",
   "execution_count": 9,
   "id": "b9e600a6",
   "metadata": {},
   "outputs": [
    {
     "data": {
      "text/html": [
       "<html><script type=\"math/tex; mode=display\">\\newcommand{\\Bold}[1]{\\mathbf{#1}}4 \\, {\\bar m}^{2} \\cos\\left({\\alpha}\\right) + 2 \\, {m_S}^{2}</script></html>"
      ],
      "text/plain": [
       "4*mbar^2*cos(a) + 2*mS^2"
      ]
     },
     "execution_count": 9,
     "metadata": {},
     "output_type": "execute_result"
    }
   ],
   "source": [
    "(mat_prep(chi*Sd + S*chi, 0)).trace().trig_reduce().full_simplify().expand()"
   ]
  },
  {
   "cell_type": "code",
   "execution_count": 10,
   "id": "241d3e44",
   "metadata": {},
   "outputs": [
    {
     "name": "stdout",
     "output_type": "stream",
     "text": [
      "1 :\n"
     ]
    },
    {
     "data": {
      "text/latex": [
       "$$ \\frac{1}{2} \\, {\\delta}^{2} f^{2} {\\mu_I}^{2} \\sin\\left({\\alpha}\\right)^{2} + f^{2} {\\bar m}^{2} \\cos\\left({\\alpha}\\right) + \\frac{1}{2} \\, f^{2} {m_S}^{2} $$"
      ],
      "text/plain": [
       "<IPython.core.display.Latex object>"
      ]
     },
     "metadata": {},
     "output_type": "display_data"
    },
    {
     "name": "stdout",
     "output_type": "stream",
     "text": [
      "e :\n"
     ]
    },
    {
     "data": {
      "text/latex": [
       "$$ {\\delta}^{2} f {\\mu_I}^{2} {\\varphi_2} \\cos\\left({\\alpha}\\right) \\sin\\left({\\alpha}\\right) - {\\delta} {\\partial_\\mu\\varphi_1} f {\\mu_I} \\sin\\left({\\alpha}\\right) - f {\\bar m}^{2} {\\varphi_2} \\sin\\left({\\alpha}\\right) $$"
      ],
      "text/plain": [
       "<IPython.core.display.Latex object>"
      ]
     },
     "metadata": {},
     "output_type": "display_data"
    },
    {
     "name": "stdout",
     "output_type": "stream",
     "text": [
      "e^2 :\n"
     ]
    },
    {
     "data": {
      "text/latex": [
       "$$ -\\frac{1}{2} \\, {\\delta}^{2} {\\mu_I}^{2} {\\varphi_1}^{2} \\sin\\left({\\alpha}\\right)^{2} - {\\delta}^{2} {\\mu_I}^{2} {\\varphi_2}^{2} \\sin\\left({\\alpha}\\right)^{2} - \\frac{1}{2} \\, {\\delta}^{2} {\\mu_I}^{2} {\\varphi_3}^{2} \\sin\\left({\\alpha}\\right)^{2} - \\frac{1}{4} \\, {\\delta}^{2} {\\mu_I}^{2} {\\varphi_4}^{2} \\sin\\left({\\alpha}\\right)^{2} - \\frac{1}{4} \\, {\\delta}^{2} {\\mu_I}^{2} {\\varphi_5}^{2} \\sin\\left({\\alpha}\\right)^{2} - \\frac{1}{4} \\, {\\delta}^{2} {\\mu_I}^{2} {\\varphi_6}^{2} \\sin\\left({\\alpha}\\right)^{2} - \\frac{1}{4} \\, {\\delta}^{2} {\\mu_I}^{2} {\\varphi_7}^{2} \\sin\\left({\\alpha}\\right)^{2} + \\frac{1}{2} \\, {\\delta}^{2} {\\mu_I} {\\mu_S} {\\varphi_4}^{2} \\cos\\left({\\alpha}\\right) + \\frac{1}{2} \\, {\\delta}^{2} {\\mu_I} {\\mu_S} {\\varphi_5}^{2} \\cos\\left({\\alpha}\\right) - \\frac{1}{2} \\, {\\delta}^{2} {\\mu_I} {\\mu_S} {\\varphi_6}^{2} \\cos\\left({\\alpha}\\right) - \\frac{1}{2} \\, {\\delta}^{2} {\\mu_I} {\\mu_S} {\\varphi_7}^{2} \\cos\\left({\\alpha}\\right) + \\frac{1}{2} \\, {\\delta}^{2} {\\mu_I}^{2} {\\varphi_1}^{2} + \\frac{1}{2} \\, {\\delta}^{2} {\\mu_I}^{2} {\\varphi_2}^{2} + \\frac{1}{8} \\, {\\delta}^{2} {\\mu_I}^{2} {\\varphi_4}^{2} + \\frac{1}{2} \\, {\\delta}^{2} {\\mu_S}^{2} {\\varphi_4}^{2} + \\frac{1}{8} \\, {\\delta}^{2} {\\mu_I}^{2} {\\varphi_5}^{2} + \\frac{1}{2} \\, {\\delta}^{2} {\\mu_S}^{2} {\\varphi_5}^{2} + \\frac{1}{8} \\, {\\delta}^{2} {\\mu_I}^{2} {\\varphi_6}^{2} + \\frac{1}{2} \\, {\\delta}^{2} {\\mu_S}^{2} {\\varphi_6}^{2} + \\frac{1}{8} \\, {\\delta}^{2} {\\mu_I}^{2} {\\varphi_7}^{2} + \\frac{1}{2} \\, {\\delta}^{2} {\\mu_S}^{2} {\\varphi_7}^{2} + {\\delta} {\\partial_\\mu\\varphi_2} {\\mu_I} {\\varphi_1} \\cos\\left({\\alpha}\\right) - \\frac{1}{2} \\, {\\bar m}^{2} {\\varphi_1}^{2} \\cos\\left({\\alpha}\\right) - {\\delta} {\\partial_\\mu\\varphi_1} {\\mu_I} {\\varphi_2} \\cos\\left({\\alpha}\\right) - \\frac{1}{2} \\, {\\bar m}^{2} {\\varphi_2}^{2} \\cos\\left({\\alpha}\\right) - \\frac{1}{2} \\, {\\bar m}^{2} {\\varphi_3}^{2} \\cos\\left({\\alpha}\\right) + \\frac{1}{2} \\, {\\delta} {\\partial_\\mu\\varphi_5} {\\mu_I} {\\varphi_4} \\cos\\left({\\alpha}\\right) - \\frac{1}{4} \\, {\\bar m}^{2} {\\varphi_4}^{2} \\cos\\left({\\alpha}\\right) - \\frac{1}{2} \\, {\\delta} {\\partial_\\mu\\varphi_4} {\\mu_I} {\\varphi_5} \\cos\\left({\\alpha}\\right) - \\frac{1}{4} \\, {\\bar m}^{2} {\\varphi_5}^{2} \\cos\\left({\\alpha}\\right) - \\frac{1}{2} \\, {\\delta} {\\partial_\\mu\\varphi_7} {\\mu_I} {\\varphi_6} \\cos\\left({\\alpha}\\right) - \\frac{1}{4} \\, {\\bar m}^{2} {\\varphi_6}^{2} \\cos\\left({\\alpha}\\right) + \\frac{1}{2} \\, {\\delta} {\\partial_\\mu\\varphi_6} {\\mu_I} {\\varphi_7} \\cos\\left({\\alpha}\\right) - \\frac{1}{4} \\, {\\bar m}^{2} {\\varphi_7}^{2} \\cos\\left({\\alpha}\\right) - \\frac{1}{6} \\, {\\bar m}^{2} {\\varphi_8}^{2} \\cos\\left({\\alpha}\\right) + \\frac{1}{3} \\, \\sqrt{3} {\\Delta m}^{2} {\\varphi_3} {\\varphi_8} + {\\delta} {\\partial_\\mu\\varphi_5} {\\mu_S} {\\varphi_4} + \\frac{1}{4} \\, {\\Delta m}^{2} {\\varphi_4}^{2} - \\frac{1}{4} \\, {m_S}^{2} {\\varphi_4}^{2} - {\\delta} {\\partial_\\mu\\varphi_4} {\\mu_S} {\\varphi_5} + \\frac{1}{4} \\, {\\Delta m}^{2} {\\varphi_5}^{2} - \\frac{1}{4} \\, {m_S}^{2} {\\varphi_5}^{2} + {\\delta} {\\partial_\\mu\\varphi_7} {\\mu_S} {\\varphi_6} - \\frac{1}{4} \\, {\\Delta m}^{2} {\\varphi_6}^{2} - \\frac{1}{4} \\, {m_S}^{2} {\\varphi_6}^{2} - {\\delta} {\\partial_\\mu\\varphi_6} {\\mu_S} {\\varphi_7} - \\frac{1}{4} \\, {\\Delta m}^{2} {\\varphi_7}^{2} - \\frac{1}{4} \\, {m_S}^{2} {\\varphi_7}^{2} - \\frac{1}{3} \\, {m_S}^{2} {\\varphi_8}^{2} + \\frac{1}{2} \\, {\\partial_\\mu\\varphi_1}^{2} + \\frac{1}{2} \\, {\\partial_\\mu\\varphi_2}^{2} + \\frac{1}{2} \\, {\\partial_\\mu\\varphi_3}^{2} + \\frac{1}{2} \\, {\\partial_\\mu\\varphi_4}^{2} + \\frac{1}{2} \\, {\\partial_\\mu\\varphi_5}^{2} + \\frac{1}{2} \\, {\\partial_\\mu\\varphi_6}^{2} + \\frac{1}{2} \\, {\\partial_\\mu\\varphi_7}^{2} + \\frac{1}{2} \\, {\\partial_\\mu\\varphi_8}^{2} $$"
      ],
      "text/plain": [
       "<IPython.core.display.Latex object>"
      ]
     },
     "metadata": {},
     "output_type": "display_data"
    }
   ],
   "source": [
    "L = (term1 + term2 + term3 + mass_term).full_simplify()\n",
    "print_coeff2(L)"
   ]
  },
  {
   "cell_type": "code",
   "execution_count": 11,
   "id": "631b4cc8",
   "metadata": {},
   "outputs": [
    {
     "data": {
      "text/html": [
       "<html><script type=\"math/tex; mode=display\">\\newcommand{\\Bold}[1]{\\mathbf{#1}}\\frac{1}{2} \\, {\\partial_\\mu\\varphi_1}^{2} + \\frac{1}{2} \\, {\\partial_\\mu\\varphi_2}^{2} + \\frac{1}{2} \\, {\\partial_\\mu\\varphi_3}^{2} + \\frac{1}{2} \\, {\\partial_\\mu\\varphi_4}^{2} + \\frac{1}{2} \\, {\\partial_\\mu\\varphi_5}^{2} + \\frac{1}{2} \\, {\\partial_\\mu\\varphi_6}^{2} + \\frac{1}{2} \\, {\\partial_\\mu\\varphi_7}^{2} + \\frac{1}{2} \\, {\\partial_\\mu\\varphi_8}^{2}</script></html>"
      ],
      "text/plain": [
       "1/2*dphi1^2 + 1/2*dphi2^2 + 1/2*dphi3^2 + 1/2*dphi4^2 + 1/2*dphi5^2 + 1/2*dphi6^2 + 1/2*dphi7^2 + 1/2*dphi8^2"
      ]
     },
     "execution_count": 11,
     "metadata": {},
     "output_type": "execute_result"
    }
   ],
   "source": [
    "(term1).full_simplify().coefficient(e**2)"
   ]
  },
  {
   "cell_type": "code",
   "execution_count": 12,
   "id": "80f6f1ec",
   "metadata": {},
   "outputs": [
    {
     "data": {
      "text/html": [
       "<html><script type=\"math/tex; mode=display\">\\newcommand{\\Bold}[1]{\\mathbf{#1}}{\\delta} {\\partial_\\mu\\varphi_2} {\\mu_I} {\\varphi_1} \\cos\\left({\\alpha}\\right) - {\\delta} {\\partial_\\mu\\varphi_1} {\\mu_I} {\\varphi_2} \\cos\\left({\\alpha}\\right) + \\frac{1}{2} \\, {\\left({\\delta} {\\partial_\\mu\\varphi_5} {\\mu_I} \\cos\\left({\\alpha}\\right) + 2 \\, {\\delta} {\\partial_\\mu\\varphi_5} {\\mu_S}\\right)} {\\varphi_4} - \\frac{1}{2} \\, {\\left({\\delta} {\\partial_\\mu\\varphi_4} {\\mu_I} \\cos\\left({\\alpha}\\right) + 2 \\, {\\delta} {\\partial_\\mu\\varphi_4} {\\mu_S}\\right)} {\\varphi_5} - \\frac{1}{2} \\, {\\left({\\delta} {\\partial_\\mu\\varphi_7} {\\mu_I} \\cos\\left({\\alpha}\\right) - 2 \\, {\\delta} {\\partial_\\mu\\varphi_7} {\\mu_S}\\right)} {\\varphi_6} + \\frac{1}{2} \\, {\\left({\\delta} {\\partial_\\mu\\varphi_6} {\\mu_I} \\cos\\left({\\alpha}\\right) - 2 \\, {\\delta} {\\partial_\\mu\\varphi_6} {\\mu_S}\\right)} {\\varphi_7}</script></html>"
      ],
      "text/plain": [
       "d*dphi2*muI*phi1*cos(a) - d*dphi1*muI*phi2*cos(a) + 1/2*(d*dphi5*muI*cos(a) + 2*d*dphi5*muS)*phi4 - 1/2*(d*dphi4*muI*cos(a) + 2*d*dphi4*muS)*phi5 - 1/2*(d*dphi7*muI*cos(a) - 2*d*dphi7*muS)*phi6 + 1/2*(d*dphi6*muI*cos(a) - 2*d*dphi6*muS)*phi7"
      ]
     },
     "execution_count": 12,
     "metadata": {},
     "output_type": "execute_result"
    }
   ],
   "source": [
    "(term2).full_simplify().coefficient(e**2)"
   ]
  },
  {
   "cell_type": "code",
   "execution_count": 13,
   "id": "8a8d1fb1",
   "metadata": {},
   "outputs": [
    {
     "data": {
      "text/html": [
       "<html><script type=\"math/tex; mode=display\">\\newcommand{\\Bold}[1]{\\mathbf{#1}}\\frac{1}{2} \\, {\\delta}^{2} {\\mu_I}^{2} {\\varphi_1}^{2} \\cos\\left({\\alpha}\\right)^{2} + \\frac{1}{2} \\, {\\left(2 \\, \\cos\\left({\\alpha}\\right)^{2} - 1\\right)} {\\delta}^{2} {\\mu_I}^{2} {\\varphi_2}^{2} + \\frac{1}{2} \\, {\\left(\\cos\\left({\\alpha}\\right)^{2} - 1\\right)} {\\delta}^{2} {\\mu_I}^{2} {\\varphi_3}^{2} + \\frac{1}{8} \\, {\\left({\\left(2 \\, \\cos\\left({\\alpha}\\right)^{2} - 1\\right)} {\\delta}^{2} {\\mu_I}^{2} + 4 \\, {\\delta}^{2} {\\mu_I} {\\mu_S} \\cos\\left({\\alpha}\\right) + 4 \\, {\\delta}^{2} {\\mu_S}^{2}\\right)} {\\varphi_4}^{2} + \\frac{1}{8} \\, {\\left({\\left(2 \\, \\cos\\left({\\alpha}\\right)^{2} - 1\\right)} {\\delta}^{2} {\\mu_I}^{2} + 4 \\, {\\delta}^{2} {\\mu_I} {\\mu_S} \\cos\\left({\\alpha}\\right) + 4 \\, {\\delta}^{2} {\\mu_S}^{2}\\right)} {\\varphi_5}^{2} + \\frac{1}{8} \\, {\\left({\\left(2 \\, \\cos\\left({\\alpha}\\right)^{2} - 1\\right)} {\\delta}^{2} {\\mu_I}^{2} - 4 \\, {\\delta}^{2} {\\mu_I} {\\mu_S} \\cos\\left({\\alpha}\\right) + 4 \\, {\\delta}^{2} {\\mu_S}^{2}\\right)} {\\varphi_6}^{2} + \\frac{1}{8} \\, {\\left({\\left(2 \\, \\cos\\left({\\alpha}\\right)^{2} - 1\\right)} {\\delta}^{2} {\\mu_I}^{2} - 4 \\, {\\delta}^{2} {\\mu_I} {\\mu_S} \\cos\\left({\\alpha}\\right) + 4 \\, {\\delta}^{2} {\\mu_S}^{2}\\right)} {\\varphi_7}^{2}</script></html>"
      ],
      "text/plain": [
       "1/2*d^2*muI^2*phi1^2*cos(a)^2 + 1/2*(2*cos(a)^2 - 1)*d^2*muI^2*phi2^2 + 1/2*(cos(a)^2 - 1)*d^2*muI^2*phi3^2 + 1/8*((2*cos(a)^2 - 1)*d^2*muI^2 + 4*d^2*muI*muS*cos(a) + 4*d^2*muS^2)*phi4^2 + 1/8*((2*cos(a)^2 - 1)*d^2*muI^2 + 4*d^2*muI*muS*cos(a) + 4*d^2*muS^2)*phi5^2 + 1/8*((2*cos(a)^2 - 1)*d^2*muI^2 - 4*d^2*muI*muS*cos(a) + 4*d^2*muS^2)*phi6^2 + 1/8*((2*cos(a)^2 - 1)*d^2*muI^2 - 4*d^2*muI*muS*cos(a) + 4*d^2*muS^2)*phi7^2"
      ]
     },
     "execution_count": 13,
     "metadata": {},
     "output_type": "execute_result"
    }
   ],
   "source": [
    "(term3).coefficient(e**2).full_simplify()"
   ]
  },
  {
   "cell_type": "code",
   "execution_count": 14,
   "id": "ac9b2929",
   "metadata": {},
   "outputs": [
    {
     "data": {
      "text/html": [
       "<html><script type=\"math/tex; mode=display\">\\newcommand{\\Bold}[1]{\\mathbf{#1}}-\\frac{1}{2} \\, {\\bar m}^{2} {\\varphi_1}^{2} \\cos\\left({\\alpha}\\right) - \\frac{1}{2} \\, {\\bar m}^{2} {\\varphi_2}^{2} \\cos\\left({\\alpha}\\right) - \\frac{1}{2} \\, {\\bar m}^{2} {\\varphi_3}^{2} \\cos\\left({\\alpha}\\right) + \\frac{1}{3} \\, \\sqrt{3} {\\Delta m}^{2} {\\varphi_3} {\\varphi_8} - \\frac{1}{4} \\, {\\left({\\bar m}^{2} \\cos\\left({\\alpha}\\right) - {\\Delta m}^{2} + {m_S}^{2}\\right)} {\\varphi_4}^{2} - \\frac{1}{4} \\, {\\left({\\bar m}^{2} \\cos\\left({\\alpha}\\right) - {\\Delta m}^{2} + {m_S}^{2}\\right)} {\\varphi_5}^{2} - \\frac{1}{4} \\, {\\left({\\bar m}^{2} \\cos\\left({\\alpha}\\right) + {\\Delta m}^{2} + {m_S}^{2}\\right)} {\\varphi_6}^{2} - \\frac{1}{4} \\, {\\left({\\bar m}^{2} \\cos\\left({\\alpha}\\right) + {\\Delta m}^{2} + {m_S}^{2}\\right)} {\\varphi_7}^{2} - \\frac{1}{6} \\, {\\left({\\bar m}^{2} \\cos\\left({\\alpha}\\right) + 2 \\, {m_S}^{2}\\right)} {\\varphi_8}^{2}</script></html>"
      ],
      "text/plain": [
       "-1/2*mbar^2*phi1^2*cos(a) - 1/2*mbar^2*phi2^2*cos(a) - 1/2*mbar^2*phi3^2*cos(a) + 1/3*sqrt(3)*dm^2*phi3*phi8 - 1/4*(mbar^2*cos(a) - dm^2 + mS^2)*phi4^2 - 1/4*(mbar^2*cos(a) - dm^2 + mS^2)*phi5^2 - 1/4*(mbar^2*cos(a) + dm^2 + mS^2)*phi6^2 - 1/4*(mbar^2*cos(a) + dm^2 + mS^2)*phi7^2 - 1/6*(mbar^2*cos(a) + 2*mS^2)*phi8^2"
      ]
     },
     "execution_count": 14,
     "metadata": {},
     "output_type": "execute_result"
    }
   ],
   "source": [
    "(mass_term).coefficient(e**2)"
   ]
  },
  {
   "cell_type": "code",
   "execution_count": 15,
   "id": "c6773cd1",
   "metadata": {},
   "outputs": [
    {
     "data": {
      "text/latex": [
       "$$ \\frac{1}{4} \\, {\\left({\\delta}^{2} {\\varepsilon}^{2} {\\mu_I}^{2} {\\left(\\cos\\left(2 \\, {\\alpha}\\right) + 1\\right)} - 2 \\, {\\varepsilon}^{2} {\\bar m}^{2} \\cos\\left({\\alpha}\\right)\\right)} {\\varphi_1}^{2} $$"
      ],
      "text/plain": [
       "<IPython.core.display.Latex object>"
      ]
     },
     "metadata": {},
     "output_type": "display_data"
    },
    {
     "data": {
      "text/latex": [
       "$$ \\frac{1}{2} \\, {\\left({\\delta}^{2} {\\varepsilon}^{2} {\\mu_I}^{2} \\cos\\left(2 \\, {\\alpha}\\right) - {\\varepsilon}^{2} {\\bar m}^{2} \\cos\\left({\\alpha}\\right)\\right)} {\\varphi_2}^{2} $$"
      ],
      "text/plain": [
       "<IPython.core.display.Latex object>"
      ]
     },
     "metadata": {},
     "output_type": "display_data"
    },
    {
     "data": {
      "text/latex": [
       "$$ \\frac{1}{4} \\, {\\left({\\delta}^{2} {\\varepsilon}^{2} {\\mu_I}^{2} {\\left(\\cos\\left(2 \\, {\\alpha}\\right) - 1\\right)} - 2 \\, {\\varepsilon}^{2} {\\bar m}^{2} \\cos\\left({\\alpha}\\right)\\right)} {\\varphi_3}^{2} $$"
      ],
      "text/plain": [
       "<IPython.core.display.Latex object>"
      ]
     },
     "metadata": {},
     "output_type": "display_data"
    },
    {
     "data": {
      "text/latex": [
       "$$ \\frac{1}{8} \\, {\\left({\\delta}^{2} {\\varepsilon}^{2} {\\mu_I}^{2} \\cos\\left(2 \\, {\\alpha}\\right) + 4 \\, {\\delta}^{2} {\\varepsilon}^{2} {\\mu_I} {\\mu_S} \\cos\\left({\\alpha}\\right) + 4 \\, {\\delta}^{2} {\\varepsilon}^{2} {\\mu_S}^{2} - 2 \\, {\\varepsilon}^{2} {\\bar m}^{2} \\cos\\left({\\alpha}\\right) + 2 \\, {\\Delta m}^{2} {\\varepsilon}^{2} - 2 \\, {\\varepsilon}^{2} {m_S}^{2}\\right)} {\\varphi_4}^{2} $$"
      ],
      "text/plain": [
       "<IPython.core.display.Latex object>"
      ]
     },
     "metadata": {},
     "output_type": "display_data"
    },
    {
     "data": {
      "text/latex": [
       "$$ \\frac{1}{8} \\, {\\left({\\delta}^{2} {\\varepsilon}^{2} {\\mu_I}^{2} \\cos\\left(2 \\, {\\alpha}\\right) + 4 \\, {\\delta}^{2} {\\varepsilon}^{2} {\\mu_I} {\\mu_S} \\cos\\left({\\alpha}\\right) + 4 \\, {\\delta}^{2} {\\varepsilon}^{2} {\\mu_S}^{2} - 2 \\, {\\varepsilon}^{2} {\\bar m}^{2} \\cos\\left({\\alpha}\\right) + 2 \\, {\\Delta m}^{2} {\\varepsilon}^{2} - 2 \\, {\\varepsilon}^{2} {m_S}^{2}\\right)} {\\varphi_5}^{2} $$"
      ],
      "text/plain": [
       "<IPython.core.display.Latex object>"
      ]
     },
     "metadata": {},
     "output_type": "display_data"
    },
    {
     "data": {
      "text/latex": [
       "$$ \\frac{1}{8} \\, {\\left({\\delta}^{2} {\\varepsilon}^{2} {\\mu_I}^{2} \\cos\\left(2 \\, {\\alpha}\\right) - 4 \\, {\\delta}^{2} {\\varepsilon}^{2} {\\mu_I} {\\mu_S} \\cos\\left({\\alpha}\\right) + 4 \\, {\\delta}^{2} {\\varepsilon}^{2} {\\mu_S}^{2} - 2 \\, {\\varepsilon}^{2} {\\bar m}^{2} \\cos\\left({\\alpha}\\right) - 2 \\, {\\Delta m}^{2} {\\varepsilon}^{2} - 2 \\, {\\varepsilon}^{2} {m_S}^{2}\\right)} {\\varphi_6}^{2} $$"
      ],
      "text/plain": [
       "<IPython.core.display.Latex object>"
      ]
     },
     "metadata": {},
     "output_type": "display_data"
    },
    {
     "data": {
      "text/latex": [
       "$$ \\frac{1}{8} \\, {\\left({\\delta}^{2} {\\varepsilon}^{2} {\\mu_I}^{2} \\cos\\left(2 \\, {\\alpha}\\right) - 4 \\, {\\delta}^{2} {\\varepsilon}^{2} {\\mu_I} {\\mu_S} \\cos\\left({\\alpha}\\right) + 4 \\, {\\delta}^{2} {\\varepsilon}^{2} {\\mu_S}^{2} - 2 \\, {\\varepsilon}^{2} {\\bar m}^{2} \\cos\\left({\\alpha}\\right) - 2 \\, {\\Delta m}^{2} {\\varepsilon}^{2} - 2 \\, {\\varepsilon}^{2} {m_S}^{2}\\right)} {\\varphi_7}^{2} $$"
      ],
      "text/plain": [
       "<IPython.core.display.Latex object>"
      ]
     },
     "metadata": {},
     "output_type": "display_data"
    },
    {
     "data": {
      "text/latex": [
       "$$ -\\frac{1}{6} \\, {\\left({\\varepsilon}^{2} {\\bar m}^{2} \\cos\\left({\\alpha}\\right) + 2 \\, {\\varepsilon}^{2} {m_S}^{2}\\right)} {\\varphi_8}^{2} $$"
      ],
      "text/plain": [
       "<IPython.core.display.Latex object>"
      ]
     },
     "metadata": {},
     "output_type": "display_data"
    }
   ],
   "source": [
    "for p in pvar:\n",
    "    pprint((term3+mass_term).coefficient(p**2).full_simplify().trig_reduce() * p**2)"
   ]
  }
 ],
 "metadata": {
  "kernelspec": {
   "display_name": "SageMath 9.0",
   "language": "sage",
   "name": "sagemath"
  },
  "language_info": {
   "codemirror_mode": {
    "name": "ipython",
    "version": 3
   },
   "file_extension": ".py",
   "mimetype": "text/x-python",
   "name": "python",
   "nbconvert_exporter": "python",
   "pygments_lexer": "ipython3",
   "version": "3.8.10"
  }
 },
 "nbformat": 4,
 "nbformat_minor": 5
}
