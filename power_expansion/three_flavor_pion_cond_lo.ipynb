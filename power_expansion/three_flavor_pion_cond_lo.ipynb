{
 "cells": [
  {
   "cell_type": "code",
   "execution_count": 1,
   "id": "b35e7d13",
   "metadata": {},
   "outputs": [],
   "source": [
    "%display latex\n",
    "load(\"three_flavor.sage\")"
   ]
  },
  {
   "cell_type": "code",
   "execution_count": 2,
   "id": "ddcb84e6",
   "metadata": {},
   "outputs": [],
   "source": [
    "n = 2\n",
    "var(\"f\")\n",
    "v = v_mu\n",
    "\n",
    "exp_l_a = lambda l, a: (one - l**2) + l**2 * cos(a) + i *l * sin(a)\n",
    "# pion condensate\n",
    "A = exp_l_a(l2, a/2)\n",
    "U = lambda n: EXP(I * pi_s/f, n)\n",
    "U_d = lambda n: EXP(-I * pi_s/f, n)\n",
    "\n",
    "SIGMA = lambda n: mat_prep(A * U(n) * A, n)\n",
    "SIGMA_d = lambda n: mat_prep(A.C.T * U_d(n) * A.C.T, n)"
   ]
  },
  {
   "cell_type": "code",
   "execution_count": 3,
   "id": "1330e164",
   "metadata": {},
   "outputs": [],
   "source": [
    "S = SIGMA(n)\n",
    "Sd = SIGMA_d(n)"
   ]
  },
  {
   "cell_type": "code",
   "execution_count": 4,
   "id": "0e321b7f",
   "metadata": {},
   "outputs": [],
   "source": [
    "dS = diff(S, x) # nabla_mu Sigma\n",
    "dSd = diff(Sd, x)\n",
    "COM = v*S - S*v # [v_mu, Sigma]\n",
    "COMd = Sd*v - v*Sd"
   ]
  },
  {
   "cell_type": "code",
   "execution_count": 5,
   "id": "1ec54d71",
   "metadata": {},
   "outputs": [],
   "source": [
    "dS = mat_prep(dS, n)\n",
    "dSd = mat_prep(dSd, n)\n",
    "COM = mat_prep(COM, n)\n",
    "COMd = mat_prep(COMd, n)"
   ]
  },
  {
   "cell_type": "code",
   "execution_count": 6,
   "id": "3de1d063",
   "metadata": {},
   "outputs": [],
   "source": [
    "term1 = mat_prep(dS*(dSd), n)"
   ]
  },
  {
   "cell_type": "code",
   "execution_count": 7,
   "id": "59b566b4",
   "metadata": {},
   "outputs": [],
   "source": [
    "term2 = -I*mat_prep(dS*(-COMd) + COM*dSd, n)"
   ]
  },
  {
   "cell_type": "code",
   "execution_count": 8,
   "id": "1444827a",
   "metadata": {},
   "outputs": [],
   "source": [
    "term3 = mat_prep(COM*COMd, n)"
   ]
  },
  {
   "cell_type": "code",
   "execution_count": 9,
   "id": "73d62ad1",
   "metadata": {},
   "outputs": [],
   "source": [
    "term1 = term1.trace().full_simplify().trig_reduce()\n",
    "term2 = term2.trace().full_simplify().trig_reduce()\n",
    "term3 = term3.trace().full_simplify().trig_reduce()\n",
    "mass_term = (chi*Sd + S*chi).trace().trig_reduce().full_simplify()\n",
    "term1, term2, term3, mass_term = (f^2/4 * term for term in [term1, term2, term3, mass_term])"
   ]
  },
  {
   "cell_type": "code",
   "execution_count": 10,
   "id": "b9e600a6",
   "metadata": {},
   "outputs": [
    {
     "data": {
      "text/html": [
       "<html><script type=\"math/tex; mode=display\">\\newcommand{\\Bold}[1]{\\mathbf{#1}}4 \\, {\\bar m}^{2} \\cos\\left({\\alpha}\\right) + 2 \\, {m_S}^{2}</script></html>"
      ],
      "text/plain": [
       "4*mbar^2*cos(a) + 2*mS^2"
      ]
     },
     "execution_count": 10,
     "metadata": {},
     "output_type": "execute_result"
    }
   ],
   "source": [
    "(mat_prep(chi*Sd + S*chi, 0)).trace().trig_reduce().full_simplify().expand()"
   ]
  },
  {
   "cell_type": "code",
   "execution_count": 11,
   "id": "241d3e44",
   "metadata": {},
   "outputs": [],
   "source": [
    "#L = (term1 + term2 + term3 + mass_term).full_simplify()\n",
    "#print_coeff(L)"
   ]
  },
  {
   "cell_type": "code",
   "execution_count": 12,
   "id": "631b4cc8",
   "metadata": {},
   "outputs": [
    {
     "data": {
      "text/html": [
       "<html><script type=\"math/tex; mode=display\">\\newcommand{\\Bold}[1]{\\mathbf{#1}}\\frac{1}{2} \\, \\frac{\\partial}{\\partial x}\\pi_{1}\\left(x\\right)^{2} + \\frac{1}{2} \\, \\frac{\\partial}{\\partial x}\\pi_{2}\\left(x\\right)^{2} + \\frac{1}{2} \\, \\frac{\\partial}{\\partial x}\\pi_{3}\\left(x\\right)^{2} + \\frac{1}{2} \\, \\frac{\\partial}{\\partial x}\\pi_{4}\\left(x\\right)^{2} + \\frac{1}{2} \\, \\frac{\\partial}{\\partial x}\\pi_{5}\\left(x\\right)^{2} + \\frac{1}{2} \\, \\frac{\\partial}{\\partial x}\\pi_{6}\\left(x\\right)^{2} + \\frac{1}{2} \\, \\frac{\\partial}{\\partial x}\\pi_{7}\\left(x\\right)^{2} + \\frac{1}{2} \\, \\frac{\\partial}{\\partial x}\\pi_{8}\\left(x\\right)^{2}</script></html>"
      ],
      "text/plain": [
       "1/2*diff(pi1(x), x)^2 + 1/2*diff(pi2(x), x)^2 + 1/2*diff(pi3(x), x)^2 + 1/2*diff(pi4(x), x)^2 + 1/2*diff(pi5(x), x)^2 + 1/2*diff(pi6(x), x)^2 + 1/2*diff(pi7(x), x)^2 + 1/2*diff(pi8(x), x)^2"
      ]
     },
     "execution_count": 12,
     "metadata": {},
     "output_type": "execute_result"
    }
   ],
   "source": [
    "(term1).full_simplify().coefficient(e**2)"
   ]
  },
  {
   "cell_type": "code",
   "execution_count": 13,
   "id": "80f6f1ec",
   "metadata": {},
   "outputs": [
    {
     "data": {
      "text/html": [
       "<html><script type=\"math/tex; mode=display\">\\newcommand{\\Bold}[1]{\\mathbf{#1}}-{\\delta} {\\mu_I} \\cos\\left({\\alpha}\\right) \\pi_{2}\\left(x\\right) \\frac{\\partial}{\\partial x}\\pi_{1}\\left(x\\right) + {\\delta} {\\mu_I} \\cos\\left({\\alpha}\\right) \\pi_{1}\\left(x\\right) \\frac{\\partial}{\\partial x}\\pi_{2}\\left(x\\right) - \\frac{1}{2} \\, {\\left({\\delta} {\\mu_I} \\cos\\left({\\alpha}\\right) + 2 \\, {\\delta} {\\mu_S}\\right)} \\pi_{5}\\left(x\\right) \\frac{\\partial}{\\partial x}\\pi_{4}\\left(x\\right) + \\frac{1}{2} \\, {\\left({\\delta} {\\mu_I} \\cos\\left({\\alpha}\\right) + 2 \\, {\\delta} {\\mu_S}\\right)} \\pi_{4}\\left(x\\right) \\frac{\\partial}{\\partial x}\\pi_{5}\\left(x\\right) + \\frac{1}{2} \\, {\\left({\\delta} {\\mu_I} \\cos\\left({\\alpha}\\right) - 2 \\, {\\delta} {\\mu_S}\\right)} \\pi_{7}\\left(x\\right) \\frac{\\partial}{\\partial x}\\pi_{6}\\left(x\\right) - \\frac{1}{2} \\, {\\left({\\delta} {\\mu_I} \\cos\\left({\\alpha}\\right) - 2 \\, {\\delta} {\\mu_S}\\right)} \\pi_{6}\\left(x\\right) \\frac{\\partial}{\\partial x}\\pi_{7}\\left(x\\right)</script></html>"
      ],
      "text/plain": [
       "-d*muI*cos(a)*pi2(x)*diff(pi1(x), x) + d*muI*cos(a)*pi1(x)*diff(pi2(x), x) - 1/2*(d*muI*cos(a) + 2*d*muS)*pi5(x)*diff(pi4(x), x) + 1/2*(d*muI*cos(a) + 2*d*muS)*pi4(x)*diff(pi5(x), x) + 1/2*(d*muI*cos(a) - 2*d*muS)*pi7(x)*diff(pi6(x), x) - 1/2*(d*muI*cos(a) - 2*d*muS)*pi6(x)*diff(pi7(x), x)"
      ]
     },
     "execution_count": 13,
     "metadata": {},
     "output_type": "execute_result"
    }
   ],
   "source": [
    "(term2).full_simplify().coefficient(e**2)"
   ]
  },
  {
   "cell_type": "code",
   "execution_count": 19,
   "id": "769e5eb7",
   "metadata": {},
   "outputs": [
    {
     "data": {
      "text/html": [
       "<html><script type=\"math/tex; mode=display\">\\newcommand{\\Bold}[1]{\\mathbf{#1}}0</script></html>"
      ],
      "text/plain": [
       "0"
      ]
     },
     "execution_count": 19,
     "metadata": {},
     "output_type": "execute_result"
    }
   ],
   "source": [
    "k1 = (-2*(mass_term+term3)).full_simplify().coefficient(e**2).expand()\n",
    "k2 = (k1+2/sqrt(3)*dm**2*p[2]*p[7]).full_simplify() - 2/sqrt(3)*dm**2*p[2]*p[7]\n",
    "k1.coefficient(e**2).full_simplify()"
   ]
  },
  {
   "cell_type": "code",
   "execution_count": 21,
   "id": "6649ea4a",
   "metadata": {},
   "outputs": [
    {
     "data": {
      "text/html": [
       "<html><script type=\"math/tex; mode=display\">\\newcommand{\\Bold}[1]{\\mathbf{#1}}-\\frac{1}{36} \\, \\sqrt{3} {\\left(24 \\, {\\Delta m}^{2} \\pi_{3}\\left(x\\right) \\pi_{8}\\left(x\\right) - 12 \\, {\\left({\\left(\\sqrt{3} \\sin\\left({\\alpha}\\right)^{2} - \\sqrt{3}\\right)} {\\delta}^{2} {\\mu_I}^{2} + \\sqrt{3} {\\bar m}^{2} \\cos\\left({\\alpha}\\right)\\right)} \\pi_{1}\\left(x\\right)^{2} - 12 \\, {\\left({\\left(2 \\, \\sqrt{3} \\sin\\left({\\alpha}\\right)^{2} - \\sqrt{3}\\right)} {\\delta}^{2} {\\mu_I}^{2} + \\sqrt{3} {\\bar m}^{2} \\cos\\left({\\alpha}\\right)\\right)} \\pi_{2}\\left(x\\right)^{2} - 12 \\, {\\left(\\sqrt{3} {\\delta}^{2} {\\mu_I}^{2} \\sin\\left({\\alpha}\\right)^{2} + \\sqrt{3} {\\bar m}^{2} \\cos\\left({\\alpha}\\right)\\right)} \\pi_{3}\\left(x\\right)^{2} + 3 \\, {\\left(4 \\, \\sqrt{3} {\\delta}^{2} {\\mu_I} {\\mu_S} \\cos\\left({\\alpha}\\right) - {\\left(2 \\, \\sqrt{3} \\sin\\left({\\alpha}\\right)^{2} - \\sqrt{3}\\right)} {\\delta}^{2} {\\mu_I}^{2} + 4 \\, \\sqrt{3} {\\delta}^{2} {\\mu_S}^{2} - 2 \\, \\sqrt{3} {\\bar m}^{2} \\cos\\left({\\alpha}\\right) + 2 \\, \\sqrt{3} {\\Delta m}^{2} - 2 \\, \\sqrt{3} {m_S}^{2}\\right)} \\pi_{4}\\left(x\\right)^{2} + 3 \\, {\\left(4 \\, \\sqrt{3} {\\delta}^{2} {\\mu_I} {\\mu_S} \\cos\\left({\\alpha}\\right) - {\\left(2 \\, \\sqrt{3} \\sin\\left({\\alpha}\\right)^{2} - \\sqrt{3}\\right)} {\\delta}^{2} {\\mu_I}^{2} + 4 \\, \\sqrt{3} {\\delta}^{2} {\\mu_S}^{2} - 2 \\, \\sqrt{3} {\\bar m}^{2} \\cos\\left({\\alpha}\\right) + 2 \\, \\sqrt{3} {\\Delta m}^{2} - 2 \\, \\sqrt{3} {m_S}^{2}\\right)} \\pi_{5}\\left(x\\right)^{2} - 3 \\, {\\left(4 \\, \\sqrt{3} {\\delta}^{2} {\\mu_I} {\\mu_S} \\cos\\left({\\alpha}\\right) + {\\left(2 \\, \\sqrt{3} \\sin\\left({\\alpha}\\right)^{2} - \\sqrt{3}\\right)} {\\delta}^{2} {\\mu_I}^{2} - 4 \\, \\sqrt{3} {\\delta}^{2} {\\mu_S}^{2} + 2 \\, \\sqrt{3} {\\bar m}^{2} \\cos\\left({\\alpha}\\right) + 2 \\, \\sqrt{3} {\\Delta m}^{2} + 2 \\, \\sqrt{3} {m_S}^{2}\\right)} \\pi_{6}\\left(x\\right)^{2} - 3 \\, {\\left(4 \\, \\sqrt{3} {\\delta}^{2} {\\mu_I} {\\mu_S} \\cos\\left({\\alpha}\\right) + {\\left(2 \\, \\sqrt{3} \\sin\\left({\\alpha}\\right)^{2} - \\sqrt{3}\\right)} {\\delta}^{2} {\\mu_I}^{2} - 4 \\, \\sqrt{3} {\\delta}^{2} {\\mu_S}^{2} + 2 \\, \\sqrt{3} {\\bar m}^{2} \\cos\\left({\\alpha}\\right) + 2 \\, \\sqrt{3} {\\Delta m}^{2} + 2 \\, \\sqrt{3} {m_S}^{2}\\right)} \\pi_{7}\\left(x\\right)^{2} - 4 \\, {\\left(\\sqrt{3} {\\bar m}^{2} \\cos\\left({\\alpha}\\right) + 2 \\, \\sqrt{3} {m_S}^{2}\\right)} \\pi_{8}\\left(x\\right)^{2}\\right)}</script></html>"
      ],
      "text/plain": [
       "-1/36*sqrt(3)*(24*dm^2*pi3(x)*pi8(x) - 12*((sqrt(3)*sin(a)^2 - sqrt(3))*d^2*muI^2 + sqrt(3)*mbar^2*cos(a))*pi1(x)^2 - 12*((2*sqrt(3)*sin(a)^2 - sqrt(3))*d^2*muI^2 + sqrt(3)*mbar^2*cos(a))*pi2(x)^2 - 12*(sqrt(3)*d^2*muI^2*sin(a)^2 + sqrt(3)*mbar^2*cos(a))*pi3(x)^2 + 3*(4*sqrt(3)*d^2*muI*muS*cos(a) - (2*sqrt(3)*sin(a)^2 - sqrt(3))*d^2*muI^2 + 4*sqrt(3)*d^2*muS^2 - 2*sqrt(3)*mbar^2*cos(a) + 2*sqrt(3)*dm^2 - 2*sqrt(3)*mS^2)*pi4(x)^2 + 3*(4*sqrt(3)*d^2*muI*muS*cos(a) - (2*sqrt(3)*sin(a)^2 - sqrt(3))*d^2*muI^2 + 4*sqrt(3)*d^2*muS^2 - 2*sqrt(3)*mbar^2*cos(a) + 2*sqrt(3)*dm^2 - 2*sqrt(3)*mS^2)*pi5(x)^2 - 3*(4*sqrt(3)*d^2*muI*muS*cos(a) + (2*sqrt(3)*sin(a)^2 - sqrt(3))*d^2*muI^2 - 4*sqrt(3)*d^2*muS^2 + 2*sqrt(3)*mbar^2*cos(a) + 2*sqrt(3)*dm^2 + 2*sqrt(3)*mS^2)*pi6(x)^2 - 3*(4*sqrt(3)*d^2*muI*muS*cos(a) + (2*sqrt(3)*sin(a)^2 - sqrt(3))*d^2*muI^2 - 4*sqrt(3)*d^2*muS^2 + 2*sqrt(3)*mbar^2*cos(a) + 2*sqrt(3)*dm^2 + 2*sqrt(3)*mS^2)*pi7(x)^2 - 4*(sqrt(3)*mbar^2*cos(a) + 2*sqrt(3)*mS^2)*pi8(x)^2)"
      ]
     },
     "execution_count": 21,
     "metadata": {},
     "output_type": "execute_result"
    }
   ],
   "source": [
    "k1.full_simplify()"
   ]
  },
  {
   "cell_type": "code",
   "execution_count": 22,
   "id": "c25b184e",
   "metadata": {},
   "outputs": [
    {
     "data": {
      "text/html": [
       "<html><script type=\"math/tex; mode=display\">\\newcommand{\\Bold}[1]{\\mathbf{#1}}-\\frac{2}{3} \\, \\sqrt{3} {\\Delta m}^{2} \\pi_3\\left(x\\right) \\pi_8\\left(x\\right) + {\\left({\\left(\\sin\\left({\\alpha}\\right)^{2} - 1\\right)} {\\delta}^{2} {\\mu_I}^{2} + {\\bar m}^{2} \\cos\\left({\\alpha}\\right)\\right)} \\pi_{1}\\left(x\\right)^{2} + {\\left({\\left(2 \\, \\sin\\left({\\alpha}\\right)^{2} - 1\\right)} {\\delta}^{2} {\\mu_I}^{2} + {\\bar m}^{2} \\cos\\left({\\alpha}\\right)\\right)} \\pi_{2}\\left(x\\right)^{2} + {\\left({\\delta}^{2} {\\mu_I}^{2} \\sin\\left({\\alpha}\\right)^{2} + {\\bar m}^{2} \\cos\\left({\\alpha}\\right)\\right)} \\pi_{3}\\left(x\\right)^{2} + \\frac{1}{4} \\, {\\left({\\left(2 \\, \\sin\\left({\\alpha}\\right)^{2} - 1\\right)} {\\delta}^{2} {\\mu_I}^{2} - 4 \\, {\\delta}^{2} {\\mu_I} {\\mu_S} \\cos\\left({\\alpha}\\right) - 4 \\, {\\delta}^{2} {\\mu_S}^{2} + 2 \\, {\\bar m}^{2} \\cos\\left({\\alpha}\\right) - 2 \\, {\\Delta m}^{2} + 2 \\, {m_S}^{2}\\right)} \\pi_{4}\\left(x\\right)^{2} + \\frac{1}{4} \\, {\\left({\\left(2 \\, \\sin\\left({\\alpha}\\right)^{2} - 1\\right)} {\\delta}^{2} {\\mu_I}^{2} - 4 \\, {\\delta}^{2} {\\mu_I} {\\mu_S} \\cos\\left({\\alpha}\\right) - 4 \\, {\\delta}^{2} {\\mu_S}^{2} + 2 \\, {\\bar m}^{2} \\cos\\left({\\alpha}\\right) - 2 \\, {\\Delta m}^{2} + 2 \\, {m_S}^{2}\\right)} \\pi_{5}\\left(x\\right)^{2} + \\frac{1}{4} \\, {\\left({\\left(2 \\, \\sin\\left({\\alpha}\\right)^{2} - 1\\right)} {\\delta}^{2} {\\mu_I}^{2} + 4 \\, {\\delta}^{2} {\\mu_I} {\\mu_S} \\cos\\left({\\alpha}\\right) - 4 \\, {\\delta}^{2} {\\mu_S}^{2} + 2 \\, {\\bar m}^{2} \\cos\\left({\\alpha}\\right) + 2 \\, {\\Delta m}^{2} + 2 \\, {m_S}^{2}\\right)} \\pi_{6}\\left(x\\right)^{2} + \\frac{1}{4} \\, {\\left({\\left(2 \\, \\sin\\left({\\alpha}\\right)^{2} - 1\\right)} {\\delta}^{2} {\\mu_I}^{2} + 4 \\, {\\delta}^{2} {\\mu_I} {\\mu_S} \\cos\\left({\\alpha}\\right) - 4 \\, {\\delta}^{2} {\\mu_S}^{2} + 2 \\, {\\bar m}^{2} \\cos\\left({\\alpha}\\right) + 2 \\, {\\Delta m}^{2} + 2 \\, {m_S}^{2}\\right)} \\pi_{7}\\left(x\\right)^{2} + \\frac{1}{3} \\, {\\left({\\bar m}^{2} \\cos\\left({\\alpha}\\right) + 2 \\, {m_S}^{2}\\right)} \\pi_{8}\\left(x\\right)^{2}</script></html>"
      ],
      "text/plain": [
       "-2/3*sqrt(3)*dm^2*pi3(x)*pi8(x) + ((sin(a)^2 - 1)*d^2*muI^2 + mbar^2*cos(a))*pi1(x)^2 + ((2*sin(a)^2 - 1)*d^2*muI^2 + mbar^2*cos(a))*pi2(x)^2 + (d^2*muI^2*sin(a)^2 + mbar^2*cos(a))*pi3(x)^2 + 1/4*((2*sin(a)^2 - 1)*d^2*muI^2 - 4*d^2*muI*muS*cos(a) - 4*d^2*muS^2 + 2*mbar^2*cos(a) - 2*dm^2 + 2*mS^2)*pi4(x)^2 + 1/4*((2*sin(a)^2 - 1)*d^2*muI^2 - 4*d^2*muI*muS*cos(a) - 4*d^2*muS^2 + 2*mbar^2*cos(a) - 2*dm^2 + 2*mS^2)*pi5(x)^2 + 1/4*((2*sin(a)^2 - 1)*d^2*muI^2 + 4*d^2*muI*muS*cos(a) - 4*d^2*muS^2 + 2*mbar^2*cos(a) + 2*dm^2 + 2*mS^2)*pi6(x)^2 + 1/4*((2*sin(a)^2 - 1)*d^2*muI^2 + 4*d^2*muI*muS*cos(a) - 4*d^2*muS^2 + 2*mbar^2*cos(a) + 2*dm^2 + 2*mS^2)*pi7(x)^2 + 1/3*(mbar^2*cos(a) + 2*mS^2)*pi8(x)^2"
      ]
     },
     "execution_count": 22,
     "metadata": {},
     "output_type": "execute_result"
    }
   ],
   "source": [
    "k2"
   ]
  },
  {
   "cell_type": "code",
   "execution_count": 16,
   "id": "198fae93",
   "metadata": {},
   "outputs": [
    {
     "data": {
      "text/html": [
       "<html><script type=\"math/tex; mode=display\">\\newcommand{\\Bold}[1]{\\mathbf{#1}}{\\left({\\left(\\sin\\left({\\alpha}\\right)^{2} - 1\\right)} {\\delta}^{2} {\\mu_I}^{2} + {\\bar m}^{2} \\cos\\left({\\alpha}\\right)\\right)} \\pi_{1}\\left(x\\right)^{2} + {\\left({\\left(2 \\, \\sin\\left({\\alpha}\\right)^{2} - 1\\right)} {\\delta}^{2} {\\mu_I}^{2} + {\\bar m}^{2} \\cos\\left({\\alpha}\\right)\\right)} \\pi_{2}\\left(x\\right)^{2} + {\\left({\\delta}^{2} {\\mu_I}^{2} \\sin\\left({\\alpha}\\right)^{2} + {\\bar m}^{2} \\cos\\left({\\alpha}\\right)\\right)} \\pi_{3}\\left(x\\right)^{2} + \\frac{1}{4} \\, {\\left({\\left(2 \\, \\sin\\left({\\alpha}\\right)^{2} - 1\\right)} {\\delta}^{2} {\\mu_I}^{2} - 4 \\, {\\delta}^{2} {\\mu_I} {\\mu_S} \\cos\\left({\\alpha}\\right) - 4 \\, {\\delta}^{2} {\\mu_S}^{2} + 2 \\, {\\bar m}^{2} \\cos\\left({\\alpha}\\right) - 2 \\, {\\Delta m}^{2} + 2 \\, {m_S}^{2}\\right)} \\pi_{4}\\left(x\\right)^{2} + \\frac{1}{4} \\, {\\left({\\left(2 \\, \\sin\\left({\\alpha}\\right)^{2} - 1\\right)} {\\delta}^{2} {\\mu_I}^{2} - 4 \\, {\\delta}^{2} {\\mu_I} {\\mu_S} \\cos\\left({\\alpha}\\right) - 4 \\, {\\delta}^{2} {\\mu_S}^{2} + 2 \\, {\\bar m}^{2} \\cos\\left({\\alpha}\\right) - 2 \\, {\\Delta m}^{2} + 2 \\, {m_S}^{2}\\right)} \\pi_{5}\\left(x\\right)^{2} + \\frac{1}{4} \\, {\\left({\\left(2 \\, \\sin\\left({\\alpha}\\right)^{2} - 1\\right)} {\\delta}^{2} {\\mu_I}^{2} + 4 \\, {\\delta}^{2} {\\mu_I} {\\mu_S} \\cos\\left({\\alpha}\\right) - 4 \\, {\\delta}^{2} {\\mu_S}^{2} + 2 \\, {\\bar m}^{2} \\cos\\left({\\alpha}\\right) + 2 \\, {\\Delta m}^{2} + 2 \\, {m_S}^{2}\\right)} \\pi_{6}\\left(x\\right)^{2} + \\frac{1}{4} \\, {\\left({\\left(2 \\, \\sin\\left({\\alpha}\\right)^{2} - 1\\right)} {\\delta}^{2} {\\mu_I}^{2} + 4 \\, {\\delta}^{2} {\\mu_I} {\\mu_S} \\cos\\left({\\alpha}\\right) - 4 \\, {\\delta}^{2} {\\mu_S}^{2} + 2 \\, {\\bar m}^{2} \\cos\\left({\\alpha}\\right) + 2 \\, {\\Delta m}^{2} + 2 \\, {m_S}^{2}\\right)} \\pi_{7}\\left(x\\right)^{2} + \\frac{1}{3} \\, {\\left({\\bar m}^{2} \\cos\\left({\\alpha}\\right) + 2 \\, {m_S}^{2}\\right)} \\pi_{8}\\left(x\\right)^{2}</script></html>"
      ],
      "text/plain": [
       "((sin(a)^2 - 1)*d^2*muI^2 + mbar^2*cos(a))*pi1(x)^2 + ((2*sin(a)^2 - 1)*d^2*muI^2 + mbar^2*cos(a))*pi2(x)^2 + (d^2*muI^2*sin(a)^2 + mbar^2*cos(a))*pi3(x)^2 + 1/4*((2*sin(a)^2 - 1)*d^2*muI^2 - 4*d^2*muI*muS*cos(a) - 4*d^2*muS^2 + 2*mbar^2*cos(a) - 2*dm^2 + 2*mS^2)*pi4(x)^2 + 1/4*((2*sin(a)^2 - 1)*d^2*muI^2 - 4*d^2*muI*muS*cos(a) - 4*d^2*muS^2 + 2*mbar^2*cos(a) - 2*dm^2 + 2*mS^2)*pi5(x)^2 + 1/4*((2*sin(a)^2 - 1)*d^2*muI^2 + 4*d^2*muI*muS*cos(a) - 4*d^2*muS^2 + 2*mbar^2*cos(a) + 2*dm^2 + 2*mS^2)*pi6(x)^2 + 1/4*((2*sin(a)^2 - 1)*d^2*muI^2 + 4*d^2*muI*muS*cos(a) - 4*d^2*muS^2 + 2*mbar^2*cos(a) + 2*dm^2 + 2*mS^2)*pi7(x)^2 + 1/3*(mbar^2*cos(a) + 2*mS^2)*pi8(x)^2"
      ]
     },
     "execution_count": 16,
     "metadata": {},
     "output_type": "execute_result"
    }
   ],
   "source": [
    "(k1+2/sqrt(3)*dm**2*p[2]*p[7]).trig_reduce().full_simplify() # m_a^2p_a^2"
   ]
  },
  {
   "cell_type": "code",
   "execution_count": 17,
   "id": "d8f50536",
   "metadata": {},
   "outputs": [
    {
     "data": {
      "text/html": [
       "<html><script type=\"math/tex; mode=display\">\\newcommand{\\Bold}[1]{\\mathbf{#1}}{\\delta}^{2} {\\mu_I}^{2} \\pi_{1}\\left(x\\right)^{2} \\sin\\left({\\alpha}\\right)^{2} + 2 \\, {\\delta}^{2} {\\mu_I}^{2} \\pi_{2}\\left(x\\right)^{2} \\sin\\left({\\alpha}\\right)^{2} + {\\delta}^{2} {\\mu_I}^{2} \\pi_{3}\\left(x\\right)^{2} \\sin\\left({\\alpha}\\right)^{2} + \\frac{1}{2} \\, {\\delta}^{2} {\\mu_I}^{2} \\pi_{4}\\left(x\\right)^{2} \\sin\\left({\\alpha}\\right)^{2} + \\frac{1}{2} \\, {\\delta}^{2} {\\mu_I}^{2} \\pi_{5}\\left(x\\right)^{2} \\sin\\left({\\alpha}\\right)^{2} + \\frac{1}{2} \\, {\\delta}^{2} {\\mu_I}^{2} \\pi_{6}\\left(x\\right)^{2} \\sin\\left({\\alpha}\\right)^{2} + \\frac{1}{2} \\, {\\delta}^{2} {\\mu_I}^{2} \\pi_{7}\\left(x\\right)^{2} \\sin\\left({\\alpha}\\right)^{2} - {\\delta}^{2} {\\mu_I} {\\mu_S} \\cos\\left({\\alpha}\\right) \\pi_{4}\\left(x\\right)^{2} - {\\delta}^{2} {\\mu_I} {\\mu_S} \\cos\\left({\\alpha}\\right) \\pi_{5}\\left(x\\right)^{2} + {\\delta}^{2} {\\mu_I} {\\mu_S} \\cos\\left({\\alpha}\\right) \\pi_{6}\\left(x\\right)^{2} + {\\delta}^{2} {\\mu_I} {\\mu_S} \\cos\\left({\\alpha}\\right) \\pi_{7}\\left(x\\right)^{2} - {\\delta}^{2} {\\mu_I}^{2} \\pi_{1}\\left(x\\right)^{2} - {\\delta}^{2} {\\mu_I}^{2} \\pi_{2}\\left(x\\right)^{2} - \\frac{1}{4} \\, {\\delta}^{2} {\\mu_I}^{2} \\pi_{4}\\left(x\\right)^{2} - {\\delta}^{2} {\\mu_S}^{2} \\pi_{4}\\left(x\\right)^{2} - \\frac{1}{4} \\, {\\delta}^{2} {\\mu_I}^{2} \\pi_{5}\\left(x\\right)^{2} - {\\delta}^{2} {\\mu_S}^{2} \\pi_{5}\\left(x\\right)^{2} - \\frac{1}{4} \\, {\\delta}^{2} {\\mu_I}^{2} \\pi_{6}\\left(x\\right)^{2} - {\\delta}^{2} {\\mu_S}^{2} \\pi_{6}\\left(x\\right)^{2} - \\frac{1}{4} \\, {\\delta}^{2} {\\mu_I}^{2} \\pi_{7}\\left(x\\right)^{2} - {\\delta}^{2} {\\mu_S}^{2} \\pi_{7}\\left(x\\right)^{2} + {\\bar m}^{2} \\cos\\left({\\alpha}\\right) \\pi_{1}\\left(x\\right)^{2} + {\\bar m}^{2} \\cos\\left({\\alpha}\\right) \\pi_{2}\\left(x\\right)^{2} + {\\bar m}^{2} \\cos\\left({\\alpha}\\right) \\pi_{3}\\left(x\\right)^{2} + \\frac{1}{2} \\, {\\bar m}^{2} \\cos\\left({\\alpha}\\right) \\pi_{4}\\left(x\\right)^{2} + \\frac{1}{2} \\, {\\bar m}^{2} \\cos\\left({\\alpha}\\right) \\pi_{5}\\left(x\\right)^{2} + \\frac{1}{2} \\, {\\bar m}^{2} \\cos\\left({\\alpha}\\right) \\pi_{6}\\left(x\\right)^{2} + \\frac{1}{2} \\, {\\bar m}^{2} \\cos\\left({\\alpha}\\right) \\pi_{7}\\left(x\\right)^{2} + \\frac{1}{3} \\, {\\bar m}^{2} \\cos\\left({\\alpha}\\right) \\pi_{8}\\left(x\\right)^{2} - \\frac{2}{3} \\, \\sqrt{3} {\\Delta m}^{2} \\pi_{3}\\left(x\\right) \\pi_{8}\\left(x\\right) - \\frac{1}{2} \\, {\\Delta m}^{2} \\pi_{4}\\left(x\\right)^{2} + \\frac{1}{2} \\, {m_S}^{2} \\pi_{4}\\left(x\\right)^{2} - \\frac{1}{2} \\, {\\Delta m}^{2} \\pi_{5}\\left(x\\right)^{2} + \\frac{1}{2} \\, {m_S}^{2} \\pi_{5}\\left(x\\right)^{2} + \\frac{1}{2} \\, {\\Delta m}^{2} \\pi_{6}\\left(x\\right)^{2} + \\frac{1}{2} \\, {m_S}^{2} \\pi_{6}\\left(x\\right)^{2} + \\frac{1}{2} \\, {\\Delta m}^{2} \\pi_{7}\\left(x\\right)^{2} + \\frac{1}{2} \\, {m_S}^{2} \\pi_{7}\\left(x\\right)^{2} + \\frac{2}{3} \\, {m_S}^{2} \\pi_{8}\\left(x\\right)^{2}</script></html>"
      ],
      "text/plain": [
       "d^2*muI^2*pi1(x)^2*sin(a)^2 + 2*d^2*muI^2*pi2(x)^2*sin(a)^2 + d^2*muI^2*pi3(x)^2*sin(a)^2 + 1/2*d^2*muI^2*pi4(x)^2*sin(a)^2 + 1/2*d^2*muI^2*pi5(x)^2*sin(a)^2 + 1/2*d^2*muI^2*pi6(x)^2*sin(a)^2 + 1/2*d^2*muI^2*pi7(x)^2*sin(a)^2 - d^2*muI*muS*cos(a)*pi4(x)^2 - d^2*muI*muS*cos(a)*pi5(x)^2 + d^2*muI*muS*cos(a)*pi6(x)^2 + d^2*muI*muS*cos(a)*pi7(x)^2 - d^2*muI^2*pi1(x)^2 - d^2*muI^2*pi2(x)^2 - 1/4*d^2*muI^2*pi4(x)^2 - d^2*muS^2*pi4(x)^2 - 1/4*d^2*muI^2*pi5(x)^2 - d^2*muS^2*pi5(x)^2 - 1/4*d^2*muI^2*pi6(x)^2 - d^2*muS^2*pi6(x)^2 - 1/4*d^2*muI^2*pi7(x)^2 - d^2*muS^2*pi7(x)^2 + mbar^2*cos(a)*pi1(x)^2 + mbar^2*cos(a)*pi2(x)^2 + mbar^2*cos(a)*pi3(x)^2 + 1/2*mbar^2*cos(a)*pi4(x)^2 + 1/2*mbar^2*cos(a)*pi5(x)^2 + 1/2*mbar^2*cos(a)*pi6(x)^2 + 1/2*mbar^2*cos(a)*pi7(x)^2 + 1/3*mbar^2*cos(a)*pi8(x)^2 - 2/3*sqrt(3)*dm^2*pi3(x)*pi8(x) - 1/2*dm^2*pi4(x)^2 + 1/2*mS^2*pi4(x)^2 - 1/2*dm^2*pi5(x)^2 + 1/2*mS^2*pi5(x)^2 + 1/2*dm^2*pi6(x)^2 + 1/2*mS^2*pi6(x)^2 + 1/2*dm^2*pi7(x)^2 + 1/2*mS^2*pi7(x)^2 + 2/3*mS^2*pi8(x)^2"
      ]
     },
     "execution_count": 17,
     "metadata": {},
     "output_type": "execute_result"
    }
   ],
   "source": [
    "k1"
   ]
  },
  {
   "cell_type": "code",
   "execution_count": 18,
   "id": "e7bcc8c9",
   "metadata": {},
   "outputs": [
    {
     "data": {
      "text/html": [
       "<html><script type=\"math/tex; mode=display\">\\newcommand{\\Bold}[1]{\\mathbf{#1}}-\\cos\\left(2 \\, {\\alpha}\\right)</script></html>"
      ],
      "text/plain": [
       "-cos(2*a)"
      ]
     },
     "execution_count": 18,
     "metadata": {},
     "output_type": "execute_result"
    }
   ],
   "source": [
    "(2*sin(a)**2 - 1).trig_reduce()"
   ]
  },
  {
   "cell_type": "code",
   "execution_count": null,
   "id": "8834a25f",
   "metadata": {},
   "outputs": [],
   "source": []
  }
 ],
 "metadata": {
  "kernelspec": {
   "display_name": "SageMath 9.0",
   "language": "sage",
   "name": "sagemath"
  },
  "language_info": {
   "codemirror_mode": {
    "name": "ipython",
    "version": 3
   },
   "file_extension": ".py",
   "mimetype": "text/x-python",
   "name": "python",
   "nbconvert_exporter": "python",
   "pygments_lexer": "ipython3",
   "version": "3.8.10"
  }
 },
 "nbformat": 4,
 "nbformat_minor": 5
}
