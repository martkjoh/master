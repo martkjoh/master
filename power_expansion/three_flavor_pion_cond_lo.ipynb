{
 "cells": [
  {
   "cell_type": "code",
   "execution_count": 1,
   "id": "b35e7d13",
   "metadata": {},
   "outputs": [],
   "source": [
    "%display latex\n",
    "load(\"three_flavor.sage\")"
   ]
  },
  {
   "cell_type": "code",
   "execution_count": 2,
   "id": "ddcb84e6",
   "metadata": {},
   "outputs": [],
   "source": [
    "n = 2\n",
    "var(\"f\")\n",
    "\n",
    "exp_l_a = lambda l, a: (one - l**2) + l**2 * cos(a) + i *l * sin(a)\n",
    "# pion condensate\n",
    "A = exp_l_a(l2, a/2)\n",
    "U = lambda n: EXP(I * pi_s/f, n)\n",
    "U_d = lambda n: EXP(-I * pi_s/f, n)\n",
    "\n",
    "SIGMA = lambda n: mat_prep(A * U(n) * A, n)\n",
    "SIGMA_d = lambda n: mat_prep(A.C.T * U_d(n) * A.C.T, n)"
   ]
  },
  {
   "cell_type": "code",
   "execution_count": 3,
   "id": "1330e164",
   "metadata": {},
   "outputs": [],
   "source": [
    "S = SIGMA(n)\n",
    "Sd = SIGMA_d(n)"
   ]
  },
  {
   "cell_type": "code",
   "execution_count": 4,
   "id": "0e321b7f",
   "metadata": {},
   "outputs": [],
   "source": [
    "dS = diff(S, x) # nabla_mu Sigma\n",
    "dSd = diff(Sd, x)\n",
    "COM = v*S - S*v # [v_mu, Sigma]\n",
    "COMd = Sd*v - v*Sd"
   ]
  },
  {
   "cell_type": "code",
   "execution_count": 5,
   "id": "1ec54d71",
   "metadata": {},
   "outputs": [],
   "source": [
    "dS = mat_prep(dS, n)\n",
    "dSd = mat_prep(dSd, n)\n",
    "COM = mat_prep(COM, n)\n",
    "COMd = mat_prep(COMd, n)"
   ]
  },
  {
   "cell_type": "code",
   "execution_count": 6,
   "id": "541dff9f",
   "metadata": {},
   "outputs": [
    {
     "data": {
      "text/html": [
       "<html><script type=\"math/tex; mode=display\">\\newcommand{\\Bold}[1]{\\mathbf{#1}}\\left(\\begin{array}{rrr}\n",
       "{m_u} & 0 & 0 \\\\\n",
       "0 & {m_d} & 0 \\\\\n",
       "0 & 0 & {m_s}\n",
       "\\end{array}\\right)</script></html>"
      ],
      "text/plain": [
       "[mu  0  0]\n",
       "[ 0 md  0]\n",
       "[ 0  0 ms]"
      ]
     },
     "execution_count": 6,
     "metadata": {},
     "output_type": "execute_result"
    }
   ],
   "source": [
    "var(\"f\")\n",
    "var(\"B0\", latex_name=\"B_0\")\n",
    "\n",
    "mu = var(\"mu\", latex_name=\"m_u\")\n",
    "md = var(\"md\", latex_name=\"m_d\")\n",
    "ms = var(\"ms\", latex_name=\"m_s\") \n",
    "\n",
    "m = diagonal_matrix([mu, md, ms])\n",
    "m"
   ]
  },
  {
   "cell_type": "code",
   "execution_count": 7,
   "id": "d54256dd",
   "metadata": {},
   "outputs": [
    {
     "data": {
      "text/html": [
       "<html><script type=\"math/tex; mode=display\">\\newcommand{\\Bold}[1]{\\mathbf{#1}}\\left[\\frac{1}{3} \\, {m_S}^{2} + \\frac{2}{3} \\, {\\bar m}^{2}, 0, 0, {\\Delta m}^{2}, 0, 0, 0, 0, -\\frac{1}{3} \\, \\sqrt{3} {\\left({m_S}^{2} - {\\bar m}^{2}\\right)}\\right]</script></html>"
      ],
      "text/plain": [
       "[1/3*mS^2 + 2/3*mbar^2, 0, 0, dm^2, 0, 0, 0, 0, -1/3*sqrt(3)*(mS^2 - mbar^2)]"
      ]
     },
     "execution_count": 7,
     "metadata": {},
     "output_type": "execute_result"
    }
   ],
   "source": [
    "var(\"dm\", latex_name=\"\\\\Delta m\")\n",
    "var(\"mbar\", latex_name=\"\\\\bar m\")\n",
    "var(\"mS\", latex_name=\"m_S\")\n",
    "chi = diagonal_matrix((mbar^2 + dm^2, mbar^2-dm^2, mS^2))\n",
    "proj(chi, l)"
   ]
  },
  {
   "cell_type": "code",
   "execution_count": 8,
   "id": "3de1d063",
   "metadata": {},
   "outputs": [],
   "source": [
    "term1 = mat_prep(dS*(dSd), n)"
   ]
  },
  {
   "cell_type": "code",
   "execution_count": 9,
   "id": "59b566b4",
   "metadata": {},
   "outputs": [],
   "source": [
    "term2 = -I*mat_prep(dS*(-COMd) + COM*dSd, n)"
   ]
  },
  {
   "cell_type": "code",
   "execution_count": 10,
   "id": "1444827a",
   "metadata": {},
   "outputs": [],
   "source": [
    "term3 = mat_prep(COM*COMd, n)"
   ]
  },
  {
   "cell_type": "code",
   "execution_count": 11,
   "id": "73d62ad1",
   "metadata": {},
   "outputs": [],
   "source": [
    "term1 = term1.trace().full_simplify().trig_reduce()\n",
    "term2 = term2.trace().full_simplify().trig_reduce()\n",
    "term3 = term3.trace().full_simplify().trig_reduce()\n",
    "#mass_term = 2*B0*((m*Sd + S*m).trace()).trig_reduce().full_simplify()\n",
    "mass_term = (chi*Sd + S*chi).trace().trig_reduce().full_simplify()\n",
    "term1, term2, term3, mass_term = (f^2/4 * term for term in [term1, term2, term3, mass_term])"
   ]
  },
  {
   "cell_type": "code",
   "execution_count": 13,
   "id": "241d3e44",
   "metadata": {},
   "outputs": [
    {
     "name": "stdout",
     "output_type": "stream",
     "text": [
      "1 :\n"
     ]
    },
    {
     "data": {
      "text/html": [
       "<html><script type=\"math/tex; mode=display\">\\newcommand{\\Bold}[1]{\\mathbf{#1}}\\frac{1}{2} \\, {\\delta}^{2} f^{2} {\\mu_I}^{2} \\sin\\left({\\alpha}\\right)^{2} + f^{2} {\\bar m}^{2} \\cos\\left({\\alpha}\\right) + \\frac{1}{2} \\, f^{2} {m_S}^{2}</script></html>"
      ],
      "text/plain": [
       "1/2*d^2*f^2*muI^2*sin(a)^2 + f^2*mbar^2*cos(a) + 1/2*f^2*mS^2"
      ]
     },
     "metadata": {},
     "output_type": "display_data"
    },
    {
     "name": "stdout",
     "output_type": "stream",
     "text": [
      "e :\n"
     ]
    },
    {
     "data": {
      "text/html": [
       "<html><script type=\"math/tex; mode=display\">\\newcommand{\\Bold}[1]{\\mathbf{#1}}-{\\delta} f {\\mu_I} \\sin\\left({\\alpha}\\right) \\frac{\\partial}{\\partial x}\\pi_1\\left(x\\right) + {\\left({\\delta}^{2} f {\\mu_I}^{2} \\cos\\left({\\alpha}\\right) \\sin\\left({\\alpha}\\right) - f {\\bar m}^{2} \\sin\\left({\\alpha}\\right)\\right)} \\pi_2\\left(x\\right)</script></html>"
      ],
      "text/plain": [
       "-d*f*muI*sin(a)*diff(pi1(x), x) + (d^2*f*muI^2*cos(a)*sin(a) - f*mbar^2*sin(a))*pi2(x)"
      ]
     },
     "metadata": {},
     "output_type": "display_data"
    },
    {
     "name": "stdout",
     "output_type": "stream",
     "text": [
      "e^2 :\n"
     ]
    },
    {
     "data": {
      "text/html": [
       "<html><script type=\"math/tex; mode=display\">\\newcommand{\\Bold}[1]{\\mathbf{#1}}-\\frac{1}{72} \\, \\sqrt{3} {\\left(24 \\, \\sqrt{3} {\\delta} {\\mu_I} \\cos\\left({\\alpha}\\right) \\pi_2\\left(x\\right) \\frac{\\partial}{\\partial x}\\pi_1\\left(x\\right) - 24 \\, \\sqrt{3} {\\delta} {\\mu_I} \\cos\\left({\\alpha}\\right) \\pi_1\\left(x\\right) \\frac{\\partial}{\\partial x}\\pi_2\\left(x\\right) + 24 \\, {\\Delta m}^{2} \\pi_3\\left(x\\right) \\pi_8\\left(x\\right) - 12 \\, {\\left(\\sqrt{3} {\\delta}^{2} {\\mu_I}^{2} \\cos\\left({\\alpha}\\right)^{2} - \\sqrt{3} {\\bar m}^{2} \\cos\\left({\\alpha}\\right)\\right)} \\pi_1\\left(x\\right)^{2} - 12 \\, {\\left({\\left(2 \\, \\sqrt{3} \\cos\\left({\\alpha}\\right)^{2} - \\sqrt{3}\\right)} {\\delta}^{2} {\\mu_I}^{2} - \\sqrt{3} {\\bar m}^{2} \\cos\\left({\\alpha}\\right)\\right)} \\pi_2\\left(x\\right)^{2} - 12 \\, {\\left({\\left(\\sqrt{3} \\cos\\left({\\alpha}\\right)^{2} - \\sqrt{3}\\right)} {\\delta}^{2} {\\mu_I}^{2} - \\sqrt{3} {\\bar m}^{2} \\cos\\left({\\alpha}\\right)\\right)} \\pi_3\\left(x\\right)^{2} - 3 \\, {\\left(4 \\, \\sqrt{3} {\\delta}^{2} {\\mu_I} {\\mu_S} \\cos\\left({\\alpha}\\right) + {\\left(2 \\, \\sqrt{3} \\cos\\left({\\alpha}\\right)^{2} - \\sqrt{3}\\right)} {\\delta}^{2} {\\mu_I}^{2} + 4 \\, \\sqrt{3} {\\delta}^{2} {\\mu_S}^{2} - 2 \\, \\sqrt{3} {\\bar m}^{2} \\cos\\left({\\alpha}\\right) - 2 \\, \\sqrt{3} {\\Delta m}^{2} - 2 \\, \\sqrt{3} {m_S}^{2}\\right)} \\pi_4\\left(x\\right)^{2} - 3 \\, {\\left(4 \\, \\sqrt{3} {\\delta}^{2} {\\mu_I} {\\mu_S} \\cos\\left({\\alpha}\\right) + {\\left(2 \\, \\sqrt{3} \\cos\\left({\\alpha}\\right)^{2} - \\sqrt{3}\\right)} {\\delta}^{2} {\\mu_I}^{2} + 4 \\, \\sqrt{3} {\\delta}^{2} {\\mu_S}^{2} - 2 \\, \\sqrt{3} {\\bar m}^{2} \\cos\\left({\\alpha}\\right) - 2 \\, \\sqrt{3} {\\Delta m}^{2} - 2 \\, \\sqrt{3} {m_S}^{2}\\right)} \\pi_5\\left(x\\right)^{2} + 3 \\, {\\left(4 \\, \\sqrt{3} {\\delta}^{2} {\\mu_I} {\\mu_S} \\cos\\left({\\alpha}\\right) - {\\left(2 \\, \\sqrt{3} \\cos\\left({\\alpha}\\right)^{2} - \\sqrt{3}\\right)} {\\delta}^{2} {\\mu_I}^{2} - 4 \\, \\sqrt{3} {\\delta}^{2} {\\mu_S}^{2} + 2 \\, \\sqrt{3} {\\bar m}^{2} \\cos\\left({\\alpha}\\right) - 2 \\, \\sqrt{3} {\\Delta m}^{2} + 2 \\, \\sqrt{3} {m_S}^{2}\\right)} \\pi_6\\left(x\\right)^{2} + 3 \\, {\\left(4 \\, \\sqrt{3} {\\delta}^{2} {\\mu_I} {\\mu_S} \\cos\\left({\\alpha}\\right) - {\\left(2 \\, \\sqrt{3} \\cos\\left({\\alpha}\\right)^{2} - \\sqrt{3}\\right)} {\\delta}^{2} {\\mu_I}^{2} - 4 \\, \\sqrt{3} {\\delta}^{2} {\\mu_S}^{2} + 2 \\, \\sqrt{3} {\\bar m}^{2} \\cos\\left({\\alpha}\\right) - 2 \\, \\sqrt{3} {\\Delta m}^{2} + 2 \\, \\sqrt{3} {m_S}^{2}\\right)} \\pi_7\\left(x\\right)^{2} + 4 \\, {\\left(\\sqrt{3} {\\bar m}^{2} \\cos\\left({\\alpha}\\right) + 2 \\, \\sqrt{3} {m_S}^{2}\\right)} \\pi_8\\left(x\\right)^{2} + 12 \\, {\\left(\\sqrt{3} {\\delta} {\\mu_I} \\cos\\left({\\alpha}\\right) + 2 \\, \\sqrt{3} {\\delta} {\\mu_S}\\right)} \\pi_5\\left(x\\right) \\frac{\\partial}{\\partial x}\\pi_4\\left(x\\right) - 12 \\, {\\left(\\sqrt{3} {\\delta} {\\mu_I} \\cos\\left({\\alpha}\\right) + 2 \\, \\sqrt{3} {\\delta} {\\mu_S}\\right)} \\pi_4\\left(x\\right) \\frac{\\partial}{\\partial x}\\pi_5\\left(x\\right) - 12 \\, {\\left(\\sqrt{3} {\\delta} {\\mu_I} \\cos\\left({\\alpha}\\right) - 2 \\, \\sqrt{3} {\\delta} {\\mu_S}\\right)} \\pi_7\\left(x\\right) \\frac{\\partial}{\\partial x}\\pi_6\\left(x\\right) + 12 \\, {\\left(\\sqrt{3} {\\delta} {\\mu_I} \\cos\\left({\\alpha}\\right) - 2 \\, \\sqrt{3} {\\delta} {\\mu_S}\\right)} \\pi_6\\left(x\\right) \\frac{\\partial}{\\partial x}\\pi_7\\left(x\\right) - 12 \\, \\sqrt{3} \\frac{\\partial}{\\partial x}\\pi_1\\left(x\\right)^{2} - 12 \\, \\sqrt{3} \\frac{\\partial}{\\partial x}\\pi_2\\left(x\\right)^{2} - 12 \\, \\sqrt{3} \\frac{\\partial}{\\partial x}\\pi_3\\left(x\\right)^{2} - 12 \\, \\sqrt{3} \\frac{\\partial}{\\partial x}\\pi_4\\left(x\\right)^{2} - 12 \\, \\sqrt{3} \\frac{\\partial}{\\partial x}\\pi_5\\left(x\\right)^{2} - 12 \\, \\sqrt{3} \\frac{\\partial}{\\partial x}\\pi_6\\left(x\\right)^{2} - 12 \\, \\sqrt{3} \\frac{\\partial}{\\partial x}\\pi_7\\left(x\\right)^{2} - 12 \\, \\sqrt{3} \\frac{\\partial}{\\partial x}\\pi_8\\left(x\\right)^{2}\\right)}</script></html>"
      ],
      "text/plain": [
       "-1/72*sqrt(3)*(24*sqrt(3)*d*muI*cos(a)*pi2(x)*diff(pi1(x), x) - 24*sqrt(3)*d*muI*cos(a)*pi1(x)*diff(pi2(x), x) + 24*dm^2*pi3(x)*pi8(x) - 12*(sqrt(3)*d^2*muI^2*cos(a)^2 - sqrt(3)*mbar^2*cos(a))*pi1(x)^2 - 12*((2*sqrt(3)*cos(a)^2 - sqrt(3))*d^2*muI^2 - sqrt(3)*mbar^2*cos(a))*pi2(x)^2 - 12*((sqrt(3)*cos(a)^2 - sqrt(3))*d^2*muI^2 - sqrt(3)*mbar^2*cos(a))*pi3(x)^2 - 3*(4*sqrt(3)*d^2*muI*muS*cos(a) + (2*sqrt(3)*cos(a)^2 - sqrt(3))*d^2*muI^2 + 4*sqrt(3)*d^2*muS^2 - 2*sqrt(3)*mbar^2*cos(a) - 2*sqrt(3)*dm^2 - 2*sqrt(3)*mS^2)*pi4(x)^2 - 3*(4*sqrt(3)*d^2*muI*muS*cos(a) + (2*sqrt(3)*cos(a)^2 - sqrt(3))*d^2*muI^2 + 4*sqrt(3)*d^2*muS^2 - 2*sqrt(3)*mbar^2*cos(a) - 2*sqrt(3)*dm^2 - 2*sqrt(3)*mS^2)*pi5(x)^2 + 3*(4*sqrt(3)*d^2*muI*muS*cos(a) - (2*sqrt(3)*cos(a)^2 - sqrt(3))*d^2*muI^2 - 4*sqrt(3)*d^2*muS^2 + 2*sqrt(3)*mbar^2*cos(a) - 2*sqrt(3)*dm^2 + 2*sqrt(3)*mS^2)*pi6(x)^2 + 3*(4*sqrt(3)*d^2*muI*muS*cos(a) - (2*sqrt(3)*cos(a)^2 - sqrt(3))*d^2*muI^2 - 4*sqrt(3)*d^2*muS^2 + 2*sqrt(3)*mbar^2*cos(a) - 2*sqrt(3)*dm^2 + 2*sqrt(3)*mS^2)*pi7(x)^2 + 4*(sqrt(3)*mbar^2*cos(a) + 2*sqrt(3)*mS^2)*pi8(x)^2 + 12*(sqrt(3)*d*muI*cos(a) + 2*sqrt(3)*d*muS)*pi5(x)*diff(pi4(x), x) - 12*(sqrt(3)*d*muI*cos(a) + 2*sqrt(3)*d*muS)*pi4(x)*diff(pi5(x), x) - 12*(sqrt(3)*d*muI*cos(a) - 2*sqrt(3)*d*muS)*pi7(x)*diff(pi6(x), x) + 12*(sqrt(3)*d*muI*cos(a) - 2*sqrt(3)*d*muS)*pi6(x)*diff(pi7(x), x) - 12*sqrt(3)*diff(pi1(x), x)^2 - 12*sqrt(3)*diff(pi2(x), x)^2 - 12*sqrt(3)*diff(pi3(x), x)^2 - 12*sqrt(3)*diff(pi4(x), x)^2 - 12*sqrt(3)*diff(pi5(x), x)^2 - 12*sqrt(3)*diff(pi6(x), x)^2 - 12*sqrt(3)*diff(pi7(x), x)^2 - 12*sqrt(3)*diff(pi8(x), x)^2)"
      ]
     },
     "metadata": {},
     "output_type": "display_data"
    }
   ],
   "source": [
    "L = (term1 + term2 + term3 + mass_term).full_simplify()\n",
    "print_coeff(L)"
   ]
  },
  {
   "cell_type": "code",
   "execution_count": 14,
   "id": "631b4cc8",
   "metadata": {},
   "outputs": [
    {
     "data": {
      "text/html": [
       "<html><script type=\"math/tex; mode=display\">\\newcommand{\\Bold}[1]{\\mathbf{#1}}\\frac{1}{2} \\, \\frac{\\partial}{\\partial x}\\pi_1\\left(x\\right)^{2} + \\frac{1}{2} \\, \\frac{\\partial}{\\partial x}\\pi_2\\left(x\\right)^{2} + \\frac{1}{2} \\, \\frac{\\partial}{\\partial x}\\pi_3\\left(x\\right)^{2} + \\frac{1}{2} \\, \\frac{\\partial}{\\partial x}\\pi_4\\left(x\\right)^{2} + \\frac{1}{2} \\, \\frac{\\partial}{\\partial x}\\pi_5\\left(x\\right)^{2} + \\frac{1}{2} \\, \\frac{\\partial}{\\partial x}\\pi_6\\left(x\\right)^{2} + \\frac{1}{2} \\, \\frac{\\partial}{\\partial x}\\pi_7\\left(x\\right)^{2} + \\frac{1}{2} \\, \\frac{\\partial}{\\partial x}\\pi_8\\left(x\\right)^{2}</script></html>"
      ],
      "text/plain": [
       "1/2*diff(pi1(x), x)^2 + 1/2*diff(pi2(x), x)^2 + 1/2*diff(pi3(x), x)^2 + 1/2*diff(pi4(x), x)^2 + 1/2*diff(pi5(x), x)^2 + 1/2*diff(pi6(x), x)^2 + 1/2*diff(pi7(x), x)^2 + 1/2*diff(pi8(x), x)^2"
      ]
     },
     "execution_count": 14,
     "metadata": {},
     "output_type": "execute_result"
    }
   ],
   "source": [
    "(term1).full_simplify().coefficient(e**2)"
   ]
  },
  {
   "cell_type": "code",
   "execution_count": 15,
   "id": "80f6f1ec",
   "metadata": {},
   "outputs": [
    {
     "data": {
      "text/html": [
       "<html><script type=\"math/tex; mode=display\">\\newcommand{\\Bold}[1]{\\mathbf{#1}}-{\\delta} {\\mu_I} \\cos\\left({\\alpha}\\right) \\pi_2\\left(x\\right) \\frac{\\partial}{\\partial x}\\pi_1\\left(x\\right) + {\\delta} {\\mu_I} \\cos\\left({\\alpha}\\right) \\pi_1\\left(x\\right) \\frac{\\partial}{\\partial x}\\pi_2\\left(x\\right) - \\frac{1}{2} \\, {\\left({\\delta} {\\mu_I} \\cos\\left({\\alpha}\\right) + 2 \\, {\\delta} {\\mu_S}\\right)} \\pi_5\\left(x\\right) \\frac{\\partial}{\\partial x}\\pi_4\\left(x\\right) + \\frac{1}{2} \\, {\\left({\\delta} {\\mu_I} \\cos\\left({\\alpha}\\right) + 2 \\, {\\delta} {\\mu_S}\\right)} \\pi_4\\left(x\\right) \\frac{\\partial}{\\partial x}\\pi_5\\left(x\\right) + \\frac{1}{2} \\, {\\left({\\delta} {\\mu_I} \\cos\\left({\\alpha}\\right) - 2 \\, {\\delta} {\\mu_S}\\right)} \\pi_7\\left(x\\right) \\frac{\\partial}{\\partial x}\\pi_6\\left(x\\right) - \\frac{1}{2} \\, {\\left({\\delta} {\\mu_I} \\cos\\left({\\alpha}\\right) - 2 \\, {\\delta} {\\mu_S}\\right)} \\pi_6\\left(x\\right) \\frac{\\partial}{\\partial x}\\pi_7\\left(x\\right)</script></html>"
      ],
      "text/plain": [
       "-d*muI*cos(a)*pi2(x)*diff(pi1(x), x) + d*muI*cos(a)*pi1(x)*diff(pi2(x), x) - 1/2*(d*muI*cos(a) + 2*d*muS)*pi5(x)*diff(pi4(x), x) + 1/2*(d*muI*cos(a) + 2*d*muS)*pi4(x)*diff(pi5(x), x) + 1/2*(d*muI*cos(a) - 2*d*muS)*pi7(x)*diff(pi6(x), x) - 1/2*(d*muI*cos(a) - 2*d*muS)*pi6(x)*diff(pi7(x), x)"
      ]
     },
     "execution_count": 15,
     "metadata": {},
     "output_type": "execute_result"
    }
   ],
   "source": [
    "(term2).full_simplify().coefficient(e**2)"
   ]
  },
  {
   "cell_type": "code",
   "execution_count": 16,
   "id": "769e5eb7",
   "metadata": {},
   "outputs": [
    {
     "data": {
      "text/html": [
       "<html><script type=\"math/tex; mode=display\">\\newcommand{\\Bold}[1]{\\mathbf{#1}}\\mathrm{True}</script></html>"
      ],
      "text/plain": [
       "True"
      ]
     },
     "execution_count": 16,
     "metadata": {},
     "output_type": "execute_result"
    }
   ],
   "source": [
    "k1 = (-2*(mass_term+term3)).full_simplify().coefficient(e**2).expand()\n",
    "k2 = (k1-2/sqrt(3)*dm*p[2]*p[7]).full_simplify() + 2/sqrt(3)*dm*p[2]*p[7]\n",
    "bool(k1==k2)"
   ]
  },
  {
   "cell_type": "code",
   "execution_count": 17,
   "id": "198fae93",
   "metadata": {},
   "outputs": [
    {
     "data": {
      "text/html": [
       "<html><script type=\"math/tex; mode=display\">\\newcommand{\\Bold}[1]{\\mathbf{#1}}\\frac{2}{3} \\, \\sqrt{3} {\\Delta m} \\pi_3\\left(x\\right) \\pi_8\\left(x\\right) + {\\left({\\left(\\sin\\left({\\alpha}\\right)^{2} - 1\\right)} {\\delta}^{2} {\\mu_I}^{2} + {\\bar m}^{2} \\cos\\left({\\alpha}\\right)\\right)} \\pi_1\\left(x\\right)^{2} + {\\left({\\left(2 \\, \\sin\\left({\\alpha}\\right)^{2} - 1\\right)} {\\delta}^{2} {\\mu_I}^{2} + {\\bar m}^{2} \\cos\\left({\\alpha}\\right)\\right)} \\pi_2\\left(x\\right)^{2} + {\\left({\\delta}^{2} {\\mu_I}^{2} \\sin\\left({\\alpha}\\right)^{2} + {\\bar m}^{2} \\cos\\left({\\alpha}\\right)\\right)} \\pi_3\\left(x\\right)^{2} + \\frac{1}{4} \\, {\\left({\\left(2 \\, \\sin\\left({\\alpha}\\right)^{2} - 1\\right)} {\\delta}^{2} {\\mu_I}^{2} - 4 \\, {\\delta}^{2} {\\mu_I} {\\mu_S} \\cos\\left({\\alpha}\\right) - 4 \\, {\\delta}^{2} {\\mu_S}^{2} + 2 \\, {\\bar m}^{2} \\cos\\left({\\alpha}\\right) + 2 \\, {\\Delta m}^{2} + 2 \\, {m_S}^{2}\\right)} \\pi_4\\left(x\\right)^{2} + \\frac{1}{4} \\, {\\left({\\left(2 \\, \\sin\\left({\\alpha}\\right)^{2} - 1\\right)} {\\delta}^{2} {\\mu_I}^{2} - 4 \\, {\\delta}^{2} {\\mu_I} {\\mu_S} \\cos\\left({\\alpha}\\right) - 4 \\, {\\delta}^{2} {\\mu_S}^{2} + 2 \\, {\\bar m}^{2} \\cos\\left({\\alpha}\\right) + 2 \\, {\\Delta m}^{2} + 2 \\, {m_S}^{2}\\right)} \\pi_5\\left(x\\right)^{2} + \\frac{1}{4} \\, {\\left({\\left(2 \\, \\sin\\left({\\alpha}\\right)^{2} - 1\\right)} {\\delta}^{2} {\\mu_I}^{2} + 4 \\, {\\delta}^{2} {\\mu_I} {\\mu_S} \\cos\\left({\\alpha}\\right) - 4 \\, {\\delta}^{2} {\\mu_S}^{2} + 2 \\, {\\bar m}^{2} \\cos\\left({\\alpha}\\right) - 2 \\, {\\Delta m}^{2} + 2 \\, {m_S}^{2}\\right)} \\pi_6\\left(x\\right)^{2} + \\frac{1}{4} \\, {\\left({\\left(2 \\, \\sin\\left({\\alpha}\\right)^{2} - 1\\right)} {\\delta}^{2} {\\mu_I}^{2} + 4 \\, {\\delta}^{2} {\\mu_I} {\\mu_S} \\cos\\left({\\alpha}\\right) - 4 \\, {\\delta}^{2} {\\mu_S}^{2} + 2 \\, {\\bar m}^{2} \\cos\\left({\\alpha}\\right) - 2 \\, {\\Delta m}^{2} + 2 \\, {m_S}^{2}\\right)} \\pi_7\\left(x\\right)^{2} + \\frac{2}{3} \\, {\\left(\\sqrt{3} {\\Delta m}^{2} - \\sqrt{3} {\\Delta m}\\right)} \\pi_3\\left(x\\right) \\pi_8\\left(x\\right) + \\frac{1}{3} \\, {\\left({\\bar m}^{2} \\cos\\left({\\alpha}\\right) + 2 \\, {m_S}^{2}\\right)} \\pi_8\\left(x\\right)^{2}</script></html>"
      ],
      "text/plain": [
       "2/3*sqrt(3)*dm*pi3(x)*pi8(x) + ((sin(a)^2 - 1)*d^2*muI^2 + mbar^2*cos(a))*pi1(x)^2 + ((2*sin(a)^2 - 1)*d^2*muI^2 + mbar^2*cos(a))*pi2(x)^2 + (d^2*muI^2*sin(a)^2 + mbar^2*cos(a))*pi3(x)^2 + 1/4*((2*sin(a)^2 - 1)*d^2*muI^2 - 4*d^2*muI*muS*cos(a) - 4*d^2*muS^2 + 2*mbar^2*cos(a) + 2*dm^2 + 2*mS^2)*pi4(x)^2 + 1/4*((2*sin(a)^2 - 1)*d^2*muI^2 - 4*d^2*muI*muS*cos(a) - 4*d^2*muS^2 + 2*mbar^2*cos(a) + 2*dm^2 + 2*mS^2)*pi5(x)^2 + 1/4*((2*sin(a)^2 - 1)*d^2*muI^2 + 4*d^2*muI*muS*cos(a) - 4*d^2*muS^2 + 2*mbar^2*cos(a) - 2*dm^2 + 2*mS^2)*pi6(x)^2 + 1/4*((2*sin(a)^2 - 1)*d^2*muI^2 + 4*d^2*muI*muS*cos(a) - 4*d^2*muS^2 + 2*mbar^2*cos(a) - 2*dm^2 + 2*mS^2)*pi7(x)^2 + 2/3*(sqrt(3)*dm^2 - sqrt(3)*dm)*pi3(x)*pi8(x) + 1/3*(mbar^2*cos(a) + 2*mS^2)*pi8(x)^2"
      ]
     },
     "execution_count": 17,
     "metadata": {},
     "output_type": "execute_result"
    }
   ],
   "source": [
    "k2 # m_a^2p_a^2"
   ]
  },
  {
   "cell_type": "code",
   "execution_count": 18,
   "id": "76733c23",
   "metadata": {},
   "outputs": [
    {
     "ename": "SyntaxError",
     "evalue": "invalid syntax (3913363609.py, line 1)",
     "output_type": "error",
     "traceback": [
      "\u001b[0;36m  File \u001b[0;32m\"/tmp/ipykernel_73123/3913363609.py\"\u001b[0;36m, line \u001b[0;32m1\u001b[0m\n\u001b[0;31m    k1.\u001b[0m\n\u001b[0m       ^\u001b[0m\n\u001b[0;31mSyntaxError\u001b[0m\u001b[0;31m:\u001b[0m invalid syntax\n"
     ]
    }
   ],
   "source": [
    "k1."
   ]
  },
  {
   "cell_type": "code",
   "execution_count": null,
   "id": "2aa4bfc7",
   "metadata": {},
   "outputs": [],
   "source": [
    "(2*sin(x)**2 - 1).trig_reduce()"
   ]
  }
 ],
 "metadata": {
  "kernelspec": {
   "display_name": "SageMath 9.0",
   "language": "sage",
   "name": "sagemath"
  },
  "language_info": {
   "codemirror_mode": {
    "name": "ipython",
    "version": 3
   },
   "file_extension": ".py",
   "mimetype": "text/x-python",
   "name": "python",
   "nbconvert_exporter": "python",
   "pygments_lexer": "ipython3",
   "version": "3.8.10"
  }
 },
 "nbformat": 4,
 "nbformat_minor": 5
}
