{
 "cells": [
  {
   "cell_type": "code",
   "execution_count": 8,
   "id": "b3e26df7",
   "metadata": {},
   "outputs": [
    {
     "data": {
      "text/html": [
       "<html><script type=\"math/tex; mode=display\">\\newcommand{\\Bold}[1]{\\mathbf{#1}}\\left(m, \\mu, m_{S}, \\Delta\\right)</script></html>"
      ],
      "text/plain": [
       "(m, mu, m_S, Delta)"
      ]
     },
     "execution_count": 8,
     "metadata": {},
     "output_type": "execute_result"
    }
   ],
   "source": [
    "%display latex\n",
    "var(\"m mu m_S Delta \")"
   ]
  },
  {
   "cell_type": "code",
   "execution_count": 19,
   "id": "cbc782cf",
   "metadata": {},
   "outputs": [],
   "source": [
    "m3 = m**2 + mu**2\n",
    "m8 = 1/3*(m**2 + 2*m_S**2)\n",
    "m2 = m**2\n",
    "m45 = (m**2 - Delta**2 + m_S**2)/2 + 1/4*mu**2\n",
    "m67 = (m**2 + Delta**2 + m_S**2)/2 + 1/4*mu**2\n",
    "\n",
    "a = m3**2 + m8**2/2 + m2**2/2 + m45**2 + m67**2"
   ]
  },
  {
   "cell_type": "code",
   "execution_count": 20,
   "id": "48afa910",
   "metadata": {},
   "outputs": [
    {
     "data": {
      "text/html": [
       "<html><script type=\"math/tex; mode=display\">\\newcommand{\\Bold}[1]{\\mathbf{#1}}\\frac{1}{2} \\, \\Delta^{4} + \\frac{37}{18} \\, m^{4} + \\frac{11}{9} \\, m^{2} m_{S}^{2} + \\frac{13}{18} \\, m_{S}^{4} + \\frac{5}{2} \\, m^{2} \\mu^{2} + \\frac{1}{2} \\, m_{S}^{2} \\mu^{2} + \\frac{9}{8} \\, \\mu^{4}</script></html>"
      ],
      "text/plain": [
       "1/2*Delta^4 + 37/18*m^4 + 11/9*m^2*m_S^2 + 13/18*m_S^4 + 5/2*m^2*mu^2 + 1/2*m_S^2*mu^2 + 9/8*mu^4"
      ]
     },
     "execution_count": 20,
     "metadata": {},
     "output_type": "execute_result"
    }
   ],
   "source": [
    "a.expand()"
   ]
  },
  {
   "cell_type": "code",
   "execution_count": null,
   "id": "a35430be",
   "metadata": {},
   "outputs": [],
   "source": []
  }
 ],
 "metadata": {
  "kernelspec": {
   "display_name": "SageMath 9.0",
   "language": "sage",
   "name": "sagemath"
  },
  "language_info": {
   "codemirror_mode": {
    "name": "ipython",
    "version": 3
   },
   "file_extension": ".py",
   "mimetype": "text/x-python",
   "name": "python",
   "nbconvert_exporter": "python",
   "pygments_lexer": "ipython3",
   "version": "3.8.10"
  }
 },
 "nbformat": 4,
 "nbformat_minor": 5
}
