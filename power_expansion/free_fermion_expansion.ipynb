{
 "cells": [
  {
   "cell_type": "code",
   "execution_count": 4,
   "id": "72c5e50f",
   "metadata": {},
   "outputs": [],
   "source": [
    "f(x) = ((2*x^3 + x)*sqrt(1+x^2) - arcsinh(x))"
   ]
  },
  {
   "cell_type": "code",
   "execution_count": 6,
   "id": "e314d6c8",
   "metadata": {},
   "outputs": [
    {
     "data": {
      "text/plain": [
       "8/3*x^3 + Order(x^5)"
      ]
     },
     "execution_count": 6,
     "metadata": {},
     "output_type": "execute_result"
    }
   ],
   "source": [
    "f(x).series(x, 5) "
   ]
  },
  {
   "cell_type": "code",
   "execution_count": 8,
   "id": "07d8b24f",
   "metadata": {},
   "outputs": [
    {
     "data": {
      "text/plain": [
       "8/15*x^5 + Order(x^6)"
      ]
     },
     "execution_count": 8,
     "metadata": {},
     "output_type": "execute_result"
    }
   ],
   "source": [
    "f(x) = 1/3*((2*x^3 - 3*x)*sqrt(1+x^2) + 3*arcsinh(x))\n",
    "\n",
    "f(x).series(x, 6)"
   ]
  },
  {
   "cell_type": "code",
   "execution_count": null,
   "id": "563bf6b5",
   "metadata": {},
   "outputs": [],
   "source": []
  }
 ],
 "metadata": {
  "kernelspec": {
   "display_name": "SageMath 9.0",
   "language": "sage",
   "name": "sagemath"
  },
  "language_info": {
   "codemirror_mode": {
    "name": "ipython",
    "version": 3
   },
   "file_extension": ".py",
   "mimetype": "text/x-python",
   "name": "python",
   "nbconvert_exporter": "python",
   "pygments_lexer": "ipython3",
   "version": "3.8.10"
  }
 },
 "nbformat": 4,
 "nbformat_minor": 5
}
