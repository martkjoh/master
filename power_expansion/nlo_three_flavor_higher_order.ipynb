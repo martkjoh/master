{
 "cells": [
  {
   "cell_type": "code",
   "execution_count": 1,
   "id": "56d1c3a9",
   "metadata": {},
   "outputs": [],
   "source": [
    "#%display latex\n",
    "load(\"three_flavor.sage\")"
   ]
  },
  {
   "cell_type": "code",
   "execution_count": 2,
   "id": "cc2f7ff0",
   "metadata": {},
   "outputs": [],
   "source": [
    "v = v_mu\n",
    "n = 2\n",
    "S, Sd, dS, dSd = get_S(n, l2, indx=\"mu\")"
   ]
  },
  {
   "cell_type": "code",
   "execution_count": 3,
   "id": "404f6fcf",
   "metadata": {},
   "outputs": [],
   "source": [
    "indxs = [\"mu\", \"nu\", \"rho\"]\n",
    "\n",
    "v = []\n",
    "COM = []\n",
    "COMd = []\n",
    "for i in indxs:\n",
    "    d = var(\"d\"+i, latex_name=\"\\\\delta_\\\\\"+i, domain=\"real\")\n",
    "    v = d*mu\n",
    "    COM.append(-(v*S - S*v))      # [v_mu, Sigma]\n",
    "    COMd.append(v*Sd - Sd*v) # [v_nu, Sigma^\\dagger]"
   ]
  },
  {
   "cell_type": "code",
   "execution_count": 4,
   "id": "a54263c8",
   "metadata": {},
   "outputs": [],
   "source": [
    "dS = []\n",
    "dSd=[]\n",
    "for i in indxs:\n",
    "    _, _, dSi, dSdi = get_S(n, l2, indx=i)\n",
    "    dS.append(dSi)\n",
    "    dSd.append(dSdi)"
   ]
  },
  {
   "cell_type": "code",
   "execution_count": 5,
   "id": "69d334df",
   "metadata": {},
   "outputs": [],
   "source": [
    "kin = []\n",
    "for i, ind in enumerate(indxs):\n",
    "    term1 = mat_prep(dS[i]*(dSd[i]), n=n)\n",
    "    term2 = -I*mat_prep(dS[i]*COMd[i] - COM[i]*dS[i], n=n)\n",
    "    term3 = mat_prep(COM[i]*COMd[i], n=n)\n",
    "    kin.append(term1 + term2 + term3)"
   ]
  },
  {
   "cell_type": "code",
   "execution_count": 6,
   "id": "989bc8b2",
   "metadata": {},
   "outputs": [
    {
     "name": "stdout",
     "output_type": "stream",
     "text": [
      "1 :\n"
     ]
    },
    {
     "data": {
      "text/latex": [
       "$$ 4 \\, {\\delta_\\mu}^{4} {\\mu_I}^{4} \\sin\\left({\\alpha}\\right)^{4} $$"
      ],
      "text/plain": [
       "<IPython.core.display.Latex object>"
      ]
     },
     "metadata": {},
     "output_type": "display_data"
    },
    {
     "name": "stdout",
     "output_type": "stream",
     "text": [
      "e :\n"
     ]
    },
    {
     "data": {
      "text/latex": [
       "$$ 16 \\, {\\delta_\\mu}^{4} {\\mu_I}^{4} {\\varphi_2} \\cos\\left({\\alpha}\\right) \\sin\\left({\\alpha}\\right)^{3} $$"
      ],
      "text/plain": [
       "<IPython.core.display.Latex object>"
      ]
     },
     "metadata": {},
     "output_type": "display_data"
    },
    {
     "name": "stdout",
     "output_type": "stream",
     "text": [
      "e^2 :\n"
     ]
    },
    {
     "data": {
      "text/latex": [
       "$$ -8 \\, {\\delta_\\mu}^{4} {\\mu_I}^{4} {\\varphi_1}^{2} \\sin\\left({\\alpha}\\right)^{4} - 32 \\, {\\delta_\\mu}^{4} {\\mu_I}^{4} {\\varphi_2}^{2} \\sin\\left({\\alpha}\\right)^{4} - 8 \\, {\\delta_\\mu}^{4} {\\mu_I}^{4} {\\varphi_3}^{2} \\sin\\left({\\alpha}\\right)^{4} - 4 \\, {\\delta_\\mu}^{4} {\\mu_I}^{4} {\\varphi_4}^{2} \\sin\\left({\\alpha}\\right)^{4} - 4 \\, {\\delta_\\mu}^{4} {\\mu_I}^{4} {\\varphi_5}^{2} \\sin\\left({\\alpha}\\right)^{4} - 4 \\, {\\delta_\\mu}^{4} {\\mu_I}^{4} {\\varphi_6}^{2} \\sin\\left({\\alpha}\\right)^{4} - 4 \\, {\\delta_\\mu}^{4} {\\mu_I}^{4} {\\varphi_7}^{2} \\sin\\left({\\alpha}\\right)^{4} + 8 \\, {\\delta_\\mu}^{4} {\\mu_I}^{3} {\\mu_S} {\\varphi_4}^{2} \\cos\\left({\\alpha}\\right) \\sin\\left({\\alpha}\\right)^{2} + 8 \\, {\\delta_\\mu}^{4} {\\mu_I}^{3} {\\mu_S} {\\varphi_5}^{2} \\cos\\left({\\alpha}\\right) \\sin\\left({\\alpha}\\right)^{2} - 8 \\, {\\delta_\\mu}^{4} {\\mu_I}^{3} {\\mu_S} {\\varphi_6}^{2} \\cos\\left({\\alpha}\\right) \\sin\\left({\\alpha}\\right)^{2} - 8 \\, {\\delta_\\mu}^{4} {\\mu_I}^{3} {\\mu_S} {\\varphi_7}^{2} \\cos\\left({\\alpha}\\right) \\sin\\left({\\alpha}\\right)^{2} + 8 \\, {\\delta_\\mu}^{4} {\\mu_I}^{4} {\\varphi_1}^{2} \\sin\\left({\\alpha}\\right)^{2} + 24 \\, {\\delta_\\mu}^{4} {\\mu_I}^{4} {\\varphi_2}^{2} \\sin\\left({\\alpha}\\right)^{2} + 2 \\, {\\delta_\\mu}^{4} {\\mu_I}^{4} {\\varphi_4}^{2} \\sin\\left({\\alpha}\\right)^{2} + 8 \\, {\\delta_\\mu}^{4} {\\mu_I}^{2} {\\mu_S}^{2} {\\varphi_4}^{2} \\sin\\left({\\alpha}\\right)^{2} + 2 \\, {\\delta_\\mu}^{4} {\\mu_I}^{4} {\\varphi_5}^{2} \\sin\\left({\\alpha}\\right)^{2} + 8 \\, {\\delta_\\mu}^{4} {\\mu_I}^{2} {\\mu_S}^{2} {\\varphi_5}^{2} \\sin\\left({\\alpha}\\right)^{2} + 2 \\, {\\delta_\\mu}^{4} {\\mu_I}^{4} {\\varphi_6}^{2} \\sin\\left({\\alpha}\\right)^{2} + 8 \\, {\\delta_\\mu}^{4} {\\mu_I}^{2} {\\mu_S}^{2} {\\varphi_6}^{2} \\sin\\left({\\alpha}\\right)^{2} + 2 \\, {\\delta_\\mu}^{4} {\\mu_I}^{4} {\\varphi_7}^{2} \\sin\\left({\\alpha}\\right)^{2} + 8 \\, {\\delta_\\mu}^{4} {\\mu_I}^{2} {\\mu_S}^{2} {\\varphi_7}^{2} \\sin\\left({\\alpha}\\right)^{2} + \\frac{16}{3} i \\, \\sqrt{3} {\\delta_\\mu}^{3} {\\partial_\\mu\\varphi_1} {\\mu_I}^{3} {\\varphi_8} \\sin\\left({\\alpha}\\right)^{3} + 4 \\, {\\delta_\\mu}^{3} {\\partial_\\mu\\varphi_5} {\\mu_I}^{3} {\\varphi_4} \\cos\\left({\\alpha}\\right) \\sin\\left({\\alpha}\\right)^{2} - 8 \\, {\\delta_\\mu}^{3} {\\partial_\\mu\\varphi_5} {\\mu_I}^{2} {\\mu_S} {\\varphi_4} \\cos\\left({\\alpha}\\right) \\sin\\left({\\alpha}\\right)^{2} - 4 \\, {\\delta_\\mu}^{3} {\\partial_\\mu\\varphi_4} {\\mu_I}^{3} {\\varphi_5} \\cos\\left({\\alpha}\\right) \\sin\\left({\\alpha}\\right)^{2} + 8 \\, {\\delta_\\mu}^{3} {\\partial_\\mu\\varphi_4} {\\mu_I}^{2} {\\mu_S} {\\varphi_5} \\cos\\left({\\alpha}\\right) \\sin\\left({\\alpha}\\right)^{2} - 4 \\, {\\delta_\\mu}^{3} {\\partial_\\mu\\varphi_7} {\\mu_I}^{3} {\\varphi_6} \\cos\\left({\\alpha}\\right) \\sin\\left({\\alpha}\\right)^{2} - 8 \\, {\\delta_\\mu}^{3} {\\partial_\\mu\\varphi_7} {\\mu_I}^{2} {\\mu_S} {\\varphi_6} \\cos\\left({\\alpha}\\right) \\sin\\left({\\alpha}\\right)^{2} + 4 \\, {\\delta_\\mu}^{3} {\\partial_\\mu\\varphi_6} {\\mu_I}^{3} {\\varphi_7} \\cos\\left({\\alpha}\\right) \\sin\\left({\\alpha}\\right)^{2} + 8 \\, {\\delta_\\mu}^{3} {\\partial_\\mu\\varphi_6} {\\mu_I}^{2} {\\mu_S} {\\varphi_7} \\cos\\left({\\alpha}\\right) \\sin\\left({\\alpha}\\right)^{2} + 4 i \\, {\\delta_\\mu}^{3} {\\partial_\\mu\\varphi_6} {\\mu_I}^{3} {\\varphi_4} \\sin\\left({\\alpha}\\right)^{3} - 8 i \\, {\\delta_\\mu}^{3} {\\partial_\\mu\\varphi_6} {\\mu_I}^{2} {\\mu_S} {\\varphi_4} \\sin\\left({\\alpha}\\right)^{3} + 4 i \\, {\\delta_\\mu}^{3} {\\partial_\\mu\\varphi_7} {\\mu_I}^{3} {\\varphi_5} \\sin\\left({\\alpha}\\right)^{3} - 8 i \\, {\\delta_\\mu}^{3} {\\partial_\\mu\\varphi_7} {\\mu_I}^{2} {\\mu_S} {\\varphi_5} \\sin\\left({\\alpha}\\right)^{3} + 4 i \\, {\\delta_\\mu}^{3} {\\partial_\\mu\\varphi_4} {\\mu_I}^{3} {\\varphi_6} \\sin\\left({\\alpha}\\right)^{3} + 8 i \\, {\\delta_\\mu}^{3} {\\partial_\\mu\\varphi_4} {\\mu_I}^{2} {\\mu_S} {\\varphi_6} \\sin\\left({\\alpha}\\right)^{3} + 4 i \\, {\\delta_\\mu}^{3} {\\partial_\\mu\\varphi_5} {\\mu_I}^{3} {\\varphi_7} \\sin\\left({\\alpha}\\right)^{3} + 8 i \\, {\\delta_\\mu}^{3} {\\partial_\\mu\\varphi_5} {\\mu_I}^{2} {\\mu_S} {\\varphi_7} \\sin\\left({\\alpha}\\right)^{3} - 4 \\, {\\delta_\\mu}^{3} {\\partial_\\mu\\varphi_5} {\\mu_I}^{3} {\\varphi_4} \\sin\\left({\\alpha}\\right)^{2} + 8 \\, {\\delta_\\mu}^{3} {\\partial_\\mu\\varphi_5} {\\mu_I}^{2} {\\mu_S} {\\varphi_4} \\sin\\left({\\alpha}\\right)^{2} + 4 \\, {\\delta_\\mu}^{3} {\\partial_\\mu\\varphi_4} {\\mu_I}^{3} {\\varphi_5} \\sin\\left({\\alpha}\\right)^{2} - 8 \\, {\\delta_\\mu}^{3} {\\partial_\\mu\\varphi_4} {\\mu_I}^{2} {\\mu_S} {\\varphi_5} \\sin\\left({\\alpha}\\right)^{2} + 4 \\, {\\delta_\\mu}^{3} {\\partial_\\mu\\varphi_7} {\\mu_I}^{3} {\\varphi_6} \\sin\\left({\\alpha}\\right)^{2} + 8 \\, {\\delta_\\mu}^{3} {\\partial_\\mu\\varphi_7} {\\mu_I}^{2} {\\mu_S} {\\varphi_6} \\sin\\left({\\alpha}\\right)^{2} - 4 \\, {\\delta_\\mu}^{3} {\\partial_\\mu\\varphi_6} {\\mu_I}^{3} {\\varphi_7} \\sin\\left({\\alpha}\\right)^{2} - 8 \\, {\\delta_\\mu}^{3} {\\partial_\\mu\\varphi_6} {\\mu_I}^{2} {\\mu_S} {\\varphi_7} \\sin\\left({\\alpha}\\right)^{2} + 8 \\, {\\delta_\\mu}^{2} {\\partial_\\mu\\varphi_1}^{2} {\\mu_I}^{2} \\sin\\left({\\alpha}\\right)^{2} + 8 \\, {\\delta_\\mu}^{2} {\\partial_\\mu\\varphi_2}^{2} {\\mu_I}^{2} \\sin\\left({\\alpha}\\right)^{2} + 8 \\, {\\delta_\\mu}^{2} {\\partial_\\mu\\varphi_3}^{2} {\\mu_I}^{2} \\sin\\left({\\alpha}\\right)^{2} + 8 \\, {\\delta_\\mu}^{2} {\\partial_\\mu\\varphi_4}^{2} {\\mu_I}^{2} \\sin\\left({\\alpha}\\right)^{2} + 8 \\, {\\delta_\\mu}^{2} {\\partial_\\mu\\varphi_5}^{2} {\\mu_I}^{2} \\sin\\left({\\alpha}\\right)^{2} + 8 \\, {\\delta_\\mu}^{2} {\\partial_\\mu\\varphi_6}^{2} {\\mu_I}^{2} \\sin\\left({\\alpha}\\right)^{2} + 8 \\, {\\delta_\\mu}^{2} {\\partial_\\mu\\varphi_7}^{2} {\\mu_I}^{2} \\sin\\left({\\alpha}\\right)^{2} + 8 \\, {\\delta_\\mu}^{2} {\\partial_\\mu\\varphi_8}^{2} {\\mu_I}^{2} \\sin\\left({\\alpha}\\right)^{2} $$"
      ],
      "text/plain": [
       "<IPython.core.display.Latex object>"
      ]
     },
     "metadata": {},
     "output_type": "display_data"
    }
   ],
   "source": [
    "L1 = (kin[0].trace()**2).series(e, n+1).truncate().trig_reduce().full_simplify()\n",
    "print_coeff2(L1)"
   ]
  },
  {
   "cell_type": "code",
   "execution_count": 7,
   "id": "b9bcb365",
   "metadata": {},
   "outputs": [
    {
     "name": "stdout",
     "output_type": "stream",
     "text": [
      "1 :\n"
     ]
    },
    {
     "data": {
      "text/latex": [
       "$$ 4 \\, {\\delta_\\mu}^{2} {\\delta_\\nu}^{2} {\\mu_I}^{4} \\sin\\left({\\alpha}\\right)^{4} $$"
      ],
      "text/plain": [
       "<IPython.core.display.Latex object>"
      ]
     },
     "metadata": {},
     "output_type": "display_data"
    },
    {
     "name": "stdout",
     "output_type": "stream",
     "text": [
      "e :\n"
     ]
    },
    {
     "data": {
      "text/latex": [
       "$$ 16 \\, {\\delta_\\mu}^{2} {\\delta_\\nu}^{2} {\\mu_I}^{4} {\\varphi_2} \\cos\\left({\\alpha}\\right) \\sin\\left({\\alpha}\\right)^{3} $$"
      ],
      "text/plain": [
       "<IPython.core.display.Latex object>"
      ]
     },
     "metadata": {},
     "output_type": "display_data"
    },
    {
     "name": "stdout",
     "output_type": "stream",
     "text": [
      "e^2 :\n"
     ]
    },
    {
     "data": {
      "text/latex": [
       "$$ -8 \\, {\\delta_\\mu}^{2} {\\delta_\\nu}^{2} {\\mu_I}^{4} {\\varphi_1}^{2} \\sin\\left({\\alpha}\\right)^{4} - 32 \\, {\\delta_\\mu}^{2} {\\delta_\\nu}^{2} {\\mu_I}^{4} {\\varphi_2}^{2} \\sin\\left({\\alpha}\\right)^{4} - 8 \\, {\\delta_\\mu}^{2} {\\delta_\\nu}^{2} {\\mu_I}^{4} {\\varphi_3}^{2} \\sin\\left({\\alpha}\\right)^{4} - 4 \\, {\\delta_\\mu}^{2} {\\delta_\\nu}^{2} {\\mu_I}^{4} {\\varphi_4}^{2} \\sin\\left({\\alpha}\\right)^{4} - 4 \\, {\\delta_\\mu}^{2} {\\delta_\\nu}^{2} {\\mu_I}^{4} {\\varphi_5}^{2} \\sin\\left({\\alpha}\\right)^{4} - 4 \\, {\\delta_\\mu}^{2} {\\delta_\\nu}^{2} {\\mu_I}^{4} {\\varphi_6}^{2} \\sin\\left({\\alpha}\\right)^{4} - 4 \\, {\\delta_\\mu}^{2} {\\delta_\\nu}^{2} {\\mu_I}^{4} {\\varphi_7}^{2} \\sin\\left({\\alpha}\\right)^{4} + 8 \\, {\\delta_\\mu}^{2} {\\delta_\\nu}^{2} {\\mu_I}^{3} {\\mu_S} {\\varphi_4}^{2} \\cos\\left({\\alpha}\\right) \\sin\\left({\\alpha}\\right)^{2} + 8 \\, {\\delta_\\mu}^{2} {\\delta_\\nu}^{2} {\\mu_I}^{3} {\\mu_S} {\\varphi_5}^{2} \\cos\\left({\\alpha}\\right) \\sin\\left({\\alpha}\\right)^{2} - 8 \\, {\\delta_\\mu}^{2} {\\delta_\\nu}^{2} {\\mu_I}^{3} {\\mu_S} {\\varphi_6}^{2} \\cos\\left({\\alpha}\\right) \\sin\\left({\\alpha}\\right)^{2} - 8 \\, {\\delta_\\mu}^{2} {\\delta_\\nu}^{2} {\\mu_I}^{3} {\\mu_S} {\\varphi_7}^{2} \\cos\\left({\\alpha}\\right) \\sin\\left({\\alpha}\\right)^{2} + 8 \\, {\\delta_\\mu}^{2} {\\delta_\\nu}^{2} {\\mu_I}^{4} {\\varphi_1}^{2} \\sin\\left({\\alpha}\\right)^{2} + 24 \\, {\\delta_\\mu}^{2} {\\delta_\\nu}^{2} {\\mu_I}^{4} {\\varphi_2}^{2} \\sin\\left({\\alpha}\\right)^{2} + 2 \\, {\\delta_\\mu}^{2} {\\delta_\\nu}^{2} {\\mu_I}^{4} {\\varphi_4}^{2} \\sin\\left({\\alpha}\\right)^{2} + 8 \\, {\\delta_\\mu}^{2} {\\delta_\\nu}^{2} {\\mu_I}^{2} {\\mu_S}^{2} {\\varphi_4}^{2} \\sin\\left({\\alpha}\\right)^{2} + 2 \\, {\\delta_\\mu}^{2} {\\delta_\\nu}^{2} {\\mu_I}^{4} {\\varphi_5}^{2} \\sin\\left({\\alpha}\\right)^{2} + 8 \\, {\\delta_\\mu}^{2} {\\delta_\\nu}^{2} {\\mu_I}^{2} {\\mu_S}^{2} {\\varphi_5}^{2} \\sin\\left({\\alpha}\\right)^{2} + 2 \\, {\\delta_\\mu}^{2} {\\delta_\\nu}^{2} {\\mu_I}^{4} {\\varphi_6}^{2} \\sin\\left({\\alpha}\\right)^{2} + 8 \\, {\\delta_\\mu}^{2} {\\delta_\\nu}^{2} {\\mu_I}^{2} {\\mu_S}^{2} {\\varphi_6}^{2} \\sin\\left({\\alpha}\\right)^{2} + 2 \\, {\\delta_\\mu}^{2} {\\delta_\\nu}^{2} {\\mu_I}^{4} {\\varphi_7}^{2} \\sin\\left({\\alpha}\\right)^{2} + 8 \\, {\\delta_\\mu}^{2} {\\delta_\\nu}^{2} {\\mu_I}^{2} {\\mu_S}^{2} {\\varphi_7}^{2} \\sin\\left({\\alpha}\\right)^{2} + \\frac{8}{3} i \\, \\sqrt{3} {\\delta_\\mu} {\\delta_\\nu}^{2} {\\partial_\\mu\\varphi_1} {\\mu_I}^{3} {\\varphi_8} \\sin\\left({\\alpha}\\right)^{3} + \\frac{8}{3} i \\, \\sqrt{3} {\\delta_\\mu}^{2} {\\delta_\\nu} {\\partial_\\nu\\varphi_1} {\\mu_I}^{3} {\\varphi_8} \\sin\\left({\\alpha}\\right)^{3} + 2 \\, {\\delta_\\mu} {\\delta_\\nu}^{2} {\\partial_\\mu\\varphi_5} {\\mu_I}^{3} {\\varphi_4} \\cos\\left({\\alpha}\\right) \\sin\\left({\\alpha}\\right)^{2} + 2 \\, {\\delta_\\mu}^{2} {\\delta_\\nu} {\\partial_\\nu\\varphi_5} {\\mu_I}^{3} {\\varphi_4} \\cos\\left({\\alpha}\\right) \\sin\\left({\\alpha}\\right)^{2} - 4 \\, {\\delta_\\mu} {\\delta_\\nu}^{2} {\\partial_\\mu\\varphi_5} {\\mu_I}^{2} {\\mu_S} {\\varphi_4} \\cos\\left({\\alpha}\\right) \\sin\\left({\\alpha}\\right)^{2} - 4 \\, {\\delta_\\mu}^{2} {\\delta_\\nu} {\\partial_\\nu\\varphi_5} {\\mu_I}^{2} {\\mu_S} {\\varphi_4} \\cos\\left({\\alpha}\\right) \\sin\\left({\\alpha}\\right)^{2} - 2 \\, {\\delta_\\mu} {\\delta_\\nu}^{2} {\\partial_\\mu\\varphi_4} {\\mu_I}^{3} {\\varphi_5} \\cos\\left({\\alpha}\\right) \\sin\\left({\\alpha}\\right)^{2} - 2 \\, {\\delta_\\mu}^{2} {\\delta_\\nu} {\\partial_\\nu\\varphi_4} {\\mu_I}^{3} {\\varphi_5} \\cos\\left({\\alpha}\\right) \\sin\\left({\\alpha}\\right)^{2} + 4 \\, {\\delta_\\mu} {\\delta_\\nu}^{2} {\\partial_\\mu\\varphi_4} {\\mu_I}^{2} {\\mu_S} {\\varphi_5} \\cos\\left({\\alpha}\\right) \\sin\\left({\\alpha}\\right)^{2} + 4 \\, {\\delta_\\mu}^{2} {\\delta_\\nu} {\\partial_\\nu\\varphi_4} {\\mu_I}^{2} {\\mu_S} {\\varphi_5} \\cos\\left({\\alpha}\\right) \\sin\\left({\\alpha}\\right)^{2} - 2 \\, {\\delta_\\mu} {\\delta_\\nu}^{2} {\\partial_\\mu\\varphi_7} {\\mu_I}^{3} {\\varphi_6} \\cos\\left({\\alpha}\\right) \\sin\\left({\\alpha}\\right)^{2} - 2 \\, {\\delta_\\mu}^{2} {\\delta_\\nu} {\\partial_\\nu\\varphi_7} {\\mu_I}^{3} {\\varphi_6} \\cos\\left({\\alpha}\\right) \\sin\\left({\\alpha}\\right)^{2} - 4 \\, {\\delta_\\mu} {\\delta_\\nu}^{2} {\\partial_\\mu\\varphi_7} {\\mu_I}^{2} {\\mu_S} {\\varphi_6} \\cos\\left({\\alpha}\\right) \\sin\\left({\\alpha}\\right)^{2} - 4 \\, {\\delta_\\mu}^{2} {\\delta_\\nu} {\\partial_\\nu\\varphi_7} {\\mu_I}^{2} {\\mu_S} {\\varphi_6} \\cos\\left({\\alpha}\\right) \\sin\\left({\\alpha}\\right)^{2} + 2 \\, {\\delta_\\mu} {\\delta_\\nu}^{2} {\\partial_\\mu\\varphi_6} {\\mu_I}^{3} {\\varphi_7} \\cos\\left({\\alpha}\\right) \\sin\\left({\\alpha}\\right)^{2} + 2 \\, {\\delta_\\mu}^{2} {\\delta_\\nu} {\\partial_\\nu\\varphi_6} {\\mu_I}^{3} {\\varphi_7} \\cos\\left({\\alpha}\\right) \\sin\\left({\\alpha}\\right)^{2} + 4 \\, {\\delta_\\mu} {\\delta_\\nu}^{2} {\\partial_\\mu\\varphi_6} {\\mu_I}^{2} {\\mu_S} {\\varphi_7} \\cos\\left({\\alpha}\\right) \\sin\\left({\\alpha}\\right)^{2} + 4 \\, {\\delta_\\mu}^{2} {\\delta_\\nu} {\\partial_\\nu\\varphi_6} {\\mu_I}^{2} {\\mu_S} {\\varphi_7} \\cos\\left({\\alpha}\\right) \\sin\\left({\\alpha}\\right)^{2} + 2 i \\, {\\delta_\\mu} {\\delta_\\nu}^{2} {\\partial_\\mu\\varphi_6} {\\mu_I}^{3} {\\varphi_4} \\sin\\left({\\alpha}\\right)^{3} + 2 i \\, {\\delta_\\mu}^{2} {\\delta_\\nu} {\\partial_\\nu\\varphi_6} {\\mu_I}^{3} {\\varphi_4} \\sin\\left({\\alpha}\\right)^{3} - 4 i \\, {\\delta_\\mu} {\\delta_\\nu}^{2} {\\partial_\\mu\\varphi_6} {\\mu_I}^{2} {\\mu_S} {\\varphi_4} \\sin\\left({\\alpha}\\right)^{3} - 4 i \\, {\\delta_\\mu}^{2} {\\delta_\\nu} {\\partial_\\nu\\varphi_6} {\\mu_I}^{2} {\\mu_S} {\\varphi_4} \\sin\\left({\\alpha}\\right)^{3} + 2 i \\, {\\delta_\\mu} {\\delta_\\nu}^{2} {\\partial_\\mu\\varphi_7} {\\mu_I}^{3} {\\varphi_5} \\sin\\left({\\alpha}\\right)^{3} + 2 i \\, {\\delta_\\mu}^{2} {\\delta_\\nu} {\\partial_\\nu\\varphi_7} {\\mu_I}^{3} {\\varphi_5} \\sin\\left({\\alpha}\\right)^{3} - 4 i \\, {\\delta_\\mu} {\\delta_\\nu}^{2} {\\partial_\\mu\\varphi_7} {\\mu_I}^{2} {\\mu_S} {\\varphi_5} \\sin\\left({\\alpha}\\right)^{3} - 4 i \\, {\\delta_\\mu}^{2} {\\delta_\\nu} {\\partial_\\nu\\varphi_7} {\\mu_I}^{2} {\\mu_S} {\\varphi_5} \\sin\\left({\\alpha}\\right)^{3} + 2 i \\, {\\delta_\\mu} {\\delta_\\nu}^{2} {\\partial_\\mu\\varphi_4} {\\mu_I}^{3} {\\varphi_6} \\sin\\left({\\alpha}\\right)^{3} + 2 i \\, {\\delta_\\mu}^{2} {\\delta_\\nu} {\\partial_\\nu\\varphi_4} {\\mu_I}^{3} {\\varphi_6} \\sin\\left({\\alpha}\\right)^{3} + 4 i \\, {\\delta_\\mu} {\\delta_\\nu}^{2} {\\partial_\\mu\\varphi_4} {\\mu_I}^{2} {\\mu_S} {\\varphi_6} \\sin\\left({\\alpha}\\right)^{3} + 4 i \\, {\\delta_\\mu}^{2} {\\delta_\\nu} {\\partial_\\nu\\varphi_4} {\\mu_I}^{2} {\\mu_S} {\\varphi_6} \\sin\\left({\\alpha}\\right)^{3} + 2 i \\, {\\delta_\\mu} {\\delta_\\nu}^{2} {\\partial_\\mu\\varphi_5} {\\mu_I}^{3} {\\varphi_7} \\sin\\left({\\alpha}\\right)^{3} + 2 i \\, {\\delta_\\mu}^{2} {\\delta_\\nu} {\\partial_\\nu\\varphi_5} {\\mu_I}^{3} {\\varphi_7} \\sin\\left({\\alpha}\\right)^{3} + 4 i \\, {\\delta_\\mu} {\\delta_\\nu}^{2} {\\partial_\\mu\\varphi_5} {\\mu_I}^{2} {\\mu_S} {\\varphi_7} \\sin\\left({\\alpha}\\right)^{3} + 4 i \\, {\\delta_\\mu}^{2} {\\delta_\\nu} {\\partial_\\nu\\varphi_5} {\\mu_I}^{2} {\\mu_S} {\\varphi_7} \\sin\\left({\\alpha}\\right)^{3} - 2 \\, {\\delta_\\mu} {\\delta_\\nu}^{2} {\\partial_\\mu\\varphi_5} {\\mu_I}^{3} {\\varphi_4} \\sin\\left({\\alpha}\\right)^{2} - 2 \\, {\\delta_\\mu}^{2} {\\delta_\\nu} {\\partial_\\nu\\varphi_5} {\\mu_I}^{3} {\\varphi_4} \\sin\\left({\\alpha}\\right)^{2} + 4 \\, {\\delta_\\mu} {\\delta_\\nu}^{2} {\\partial_\\mu\\varphi_5} {\\mu_I}^{2} {\\mu_S} {\\varphi_4} \\sin\\left({\\alpha}\\right)^{2} + 4 \\, {\\delta_\\mu}^{2} {\\delta_\\nu} {\\partial_\\nu\\varphi_5} {\\mu_I}^{2} {\\mu_S} {\\varphi_4} \\sin\\left({\\alpha}\\right)^{2} + 2 \\, {\\delta_\\mu} {\\delta_\\nu}^{2} {\\partial_\\mu\\varphi_4} {\\mu_I}^{3} {\\varphi_5} \\sin\\left({\\alpha}\\right)^{2} + 2 \\, {\\delta_\\mu}^{2} {\\delta_\\nu} {\\partial_\\nu\\varphi_4} {\\mu_I}^{3} {\\varphi_5} \\sin\\left({\\alpha}\\right)^{2} - 4 \\, {\\delta_\\mu} {\\delta_\\nu}^{2} {\\partial_\\mu\\varphi_4} {\\mu_I}^{2} {\\mu_S} {\\varphi_5} \\sin\\left({\\alpha}\\right)^{2} - 4 \\, {\\delta_\\mu}^{2} {\\delta_\\nu} {\\partial_\\nu\\varphi_4} {\\mu_I}^{2} {\\mu_S} {\\varphi_5} \\sin\\left({\\alpha}\\right)^{2} + 2 \\, {\\delta_\\mu} {\\delta_\\nu}^{2} {\\partial_\\mu\\varphi_7} {\\mu_I}^{3} {\\varphi_6} \\sin\\left({\\alpha}\\right)^{2} + 2 \\, {\\delta_\\mu}^{2} {\\delta_\\nu} {\\partial_\\nu\\varphi_7} {\\mu_I}^{3} {\\varphi_6} \\sin\\left({\\alpha}\\right)^{2} + 4 \\, {\\delta_\\mu} {\\delta_\\nu}^{2} {\\partial_\\mu\\varphi_7} {\\mu_I}^{2} {\\mu_S} {\\varphi_6} \\sin\\left({\\alpha}\\right)^{2} + 4 \\, {\\delta_\\mu}^{2} {\\delta_\\nu} {\\partial_\\nu\\varphi_7} {\\mu_I}^{2} {\\mu_S} {\\varphi_6} \\sin\\left({\\alpha}\\right)^{2} - 2 \\, {\\delta_\\mu} {\\delta_\\nu}^{2} {\\partial_\\mu\\varphi_6} {\\mu_I}^{3} {\\varphi_7} \\sin\\left({\\alpha}\\right)^{2} - 2 \\, {\\delta_\\mu}^{2} {\\delta_\\nu} {\\partial_\\nu\\varphi_6} {\\mu_I}^{3} {\\varphi_7} \\sin\\left({\\alpha}\\right)^{2} - 4 \\, {\\delta_\\mu} {\\delta_\\nu}^{2} {\\partial_\\mu\\varphi_6} {\\mu_I}^{2} {\\mu_S} {\\varphi_7} \\sin\\left({\\alpha}\\right)^{2} - 4 \\, {\\delta_\\mu}^{2} {\\delta_\\nu} {\\partial_\\nu\\varphi_6} {\\mu_I}^{2} {\\mu_S} {\\varphi_7} \\sin\\left({\\alpha}\\right)^{2} + 4 \\, {\\delta_\\nu}^{2} {\\partial_\\mu\\varphi_1}^{2} {\\mu_I}^{2} \\sin\\left({\\alpha}\\right)^{2} + 4 \\, {\\delta_\\mu}^{2} {\\partial_\\nu\\varphi_1}^{2} {\\mu_I}^{2} \\sin\\left({\\alpha}\\right)^{2} + 4 \\, {\\delta_\\nu}^{2} {\\partial_\\mu\\varphi_2}^{2} {\\mu_I}^{2} \\sin\\left({\\alpha}\\right)^{2} + 4 \\, {\\delta_\\mu}^{2} {\\partial_\\nu\\varphi_2}^{2} {\\mu_I}^{2} \\sin\\left({\\alpha}\\right)^{2} + 4 \\, {\\delta_\\nu}^{2} {\\partial_\\mu\\varphi_3}^{2} {\\mu_I}^{2} \\sin\\left({\\alpha}\\right)^{2} + 4 \\, {\\delta_\\mu}^{2} {\\partial_\\nu\\varphi_3}^{2} {\\mu_I}^{2} \\sin\\left({\\alpha}\\right)^{2} + 4 \\, {\\delta_\\nu}^{2} {\\partial_\\mu\\varphi_4}^{2} {\\mu_I}^{2} \\sin\\left({\\alpha}\\right)^{2} + 4 \\, {\\delta_\\mu}^{2} {\\partial_\\nu\\varphi_4}^{2} {\\mu_I}^{2} \\sin\\left({\\alpha}\\right)^{2} + 4 \\, {\\delta_\\nu}^{2} {\\partial_\\mu\\varphi_5}^{2} {\\mu_I}^{2} \\sin\\left({\\alpha}\\right)^{2} + 4 \\, {\\delta_\\mu}^{2} {\\partial_\\nu\\varphi_5}^{2} {\\mu_I}^{2} \\sin\\left({\\alpha}\\right)^{2} + 4 \\, {\\delta_\\nu}^{2} {\\partial_\\mu\\varphi_6}^{2} {\\mu_I}^{2} \\sin\\left({\\alpha}\\right)^{2} + 4 \\, {\\delta_\\mu}^{2} {\\partial_\\nu\\varphi_6}^{2} {\\mu_I}^{2} \\sin\\left({\\alpha}\\right)^{2} + 4 \\, {\\delta_\\nu}^{2} {\\partial_\\mu\\varphi_7}^{2} {\\mu_I}^{2} \\sin\\left({\\alpha}\\right)^{2} + 4 \\, {\\delta_\\mu}^{2} {\\partial_\\nu\\varphi_7}^{2} {\\mu_I}^{2} \\sin\\left({\\alpha}\\right)^{2} + 4 \\, {\\delta_\\nu}^{2} {\\partial_\\mu\\varphi_8}^{2} {\\mu_I}^{2} \\sin\\left({\\alpha}\\right)^{2} + 4 \\, {\\delta_\\mu}^{2} {\\partial_\\nu\\varphi_8}^{2} {\\mu_I}^{2} \\sin\\left({\\alpha}\\right)^{2} $$"
      ],
      "text/plain": [
       "<IPython.core.display.Latex object>"
      ]
     },
     "metadata": {},
     "output_type": "display_data"
    }
   ],
   "source": [
    "L2 = kin[0].trace()*kin[1].trace()\n",
    "L2 = L2.series(e, n+1).truncate().trig_reduce().full_simplify()\n",
    "print_coeff2(L2)"
   ]
  },
  {
   "cell_type": "code",
   "execution_count": 8,
   "id": "aaf9f465",
   "metadata": {},
   "outputs": [
    {
     "name": "stdout",
     "output_type": "stream",
     "text": [
      "1 :\n"
     ]
    },
    {
     "data": {
      "text/latex": [
       "$$ 2 \\, {\\delta_\\mu}^{4} {\\mu_I}^{4} \\sin\\left({\\alpha}\\right)^{4} $$"
      ],
      "text/plain": [
       "<IPython.core.display.Latex object>"
      ]
     },
     "metadata": {},
     "output_type": "display_data"
    },
    {
     "name": "stdout",
     "output_type": "stream",
     "text": [
      "e :\n"
     ]
    },
    {
     "data": {
      "text/latex": [
       "$$ 8 \\, {\\delta_\\mu}^{4} {\\mu_I}^{4} {\\varphi_2} \\cos\\left({\\alpha}\\right) \\sin\\left({\\alpha}\\right)^{3} $$"
      ],
      "text/plain": [
       "<IPython.core.display.Latex object>"
      ]
     },
     "metadata": {},
     "output_type": "display_data"
    },
    {
     "name": "stdout",
     "output_type": "stream",
     "text": [
      "e^2 :\n"
     ]
    },
    {
     "data": {
      "text/latex": [
       "$$ -4 \\, {\\delta_\\mu}^{4} {\\mu_I}^{4} {\\varphi_1}^{2} \\sin\\left({\\alpha}\\right)^{4} - 16 \\, {\\delta_\\mu}^{4} {\\mu_I}^{4} {\\varphi_2}^{2} \\sin\\left({\\alpha}\\right)^{4} - 4 \\, {\\delta_\\mu}^{4} {\\mu_I}^{4} {\\varphi_3}^{2} \\sin\\left({\\alpha}\\right)^{4} - 2 \\, {\\delta_\\mu}^{4} {\\mu_I}^{4} {\\varphi_4}^{2} \\sin\\left({\\alpha}\\right)^{4} - 2 \\, {\\delta_\\mu}^{4} {\\mu_I}^{4} {\\varphi_5}^{2} \\sin\\left({\\alpha}\\right)^{4} - 2 \\, {\\delta_\\mu}^{4} {\\mu_I}^{4} {\\varphi_6}^{2} \\sin\\left({\\alpha}\\right)^{4} - 2 \\, {\\delta_\\mu}^{4} {\\mu_I}^{4} {\\varphi_7}^{2} \\sin\\left({\\alpha}\\right)^{4} + 4 \\, {\\delta_\\mu}^{4} {\\mu_I}^{3} {\\mu_S} {\\varphi_4}^{2} \\cos\\left({\\alpha}\\right) \\sin\\left({\\alpha}\\right)^{2} + 4 \\, {\\delta_\\mu}^{4} {\\mu_I}^{3} {\\mu_S} {\\varphi_5}^{2} \\cos\\left({\\alpha}\\right) \\sin\\left({\\alpha}\\right)^{2} - 4 \\, {\\delta_\\mu}^{4} {\\mu_I}^{3} {\\mu_S} {\\varphi_6}^{2} \\cos\\left({\\alpha}\\right) \\sin\\left({\\alpha}\\right)^{2} - 4 \\, {\\delta_\\mu}^{4} {\\mu_I}^{3} {\\mu_S} {\\varphi_7}^{2} \\cos\\left({\\alpha}\\right) \\sin\\left({\\alpha}\\right)^{2} + 4 \\, {\\delta_\\mu}^{4} {\\mu_I}^{4} {\\varphi_1}^{2} \\sin\\left({\\alpha}\\right)^{2} + 12 \\, {\\delta_\\mu}^{4} {\\mu_I}^{4} {\\varphi_2}^{2} \\sin\\left({\\alpha}\\right)^{2} + {\\delta_\\mu}^{4} {\\mu_I}^{4} {\\varphi_4}^{2} \\sin\\left({\\alpha}\\right)^{2} + 4 \\, {\\delta_\\mu}^{4} {\\mu_I}^{2} {\\mu_S}^{2} {\\varphi_4}^{2} \\sin\\left({\\alpha}\\right)^{2} + {\\delta_\\mu}^{4} {\\mu_I}^{4} {\\varphi_5}^{2} \\sin\\left({\\alpha}\\right)^{2} + 4 \\, {\\delta_\\mu}^{4} {\\mu_I}^{2} {\\mu_S}^{2} {\\varphi_5}^{2} \\sin\\left({\\alpha}\\right)^{2} + {\\delta_\\mu}^{4} {\\mu_I}^{4} {\\varphi_6}^{2} \\sin\\left({\\alpha}\\right)^{2} + 4 \\, {\\delta_\\mu}^{4} {\\mu_I}^{2} {\\mu_S}^{2} {\\varphi_6}^{2} \\sin\\left({\\alpha}\\right)^{2} + {\\delta_\\mu}^{4} {\\mu_I}^{4} {\\varphi_7}^{2} \\sin\\left({\\alpha}\\right)^{2} + 4 \\, {\\delta_\\mu}^{4} {\\mu_I}^{2} {\\mu_S}^{2} {\\varphi_7}^{2} \\sin\\left({\\alpha}\\right)^{2} + \\frac{8}{3} i \\, \\sqrt{3} {\\delta_\\mu}^{3} {\\partial_\\mu\\varphi_1} {\\mu_I}^{3} {\\varphi_8} \\sin\\left({\\alpha}\\right)^{3} + 2 \\, {\\delta_\\mu}^{3} {\\partial_\\mu\\varphi_5} {\\mu_I}^{3} {\\varphi_4} \\cos\\left({\\alpha}\\right) \\sin\\left({\\alpha}\\right)^{2} - 4 \\, {\\delta_\\mu}^{3} {\\partial_\\mu\\varphi_5} {\\mu_I}^{2} {\\mu_S} {\\varphi_4} \\cos\\left({\\alpha}\\right) \\sin\\left({\\alpha}\\right)^{2} - 2 \\, {\\delta_\\mu}^{3} {\\partial_\\mu\\varphi_4} {\\mu_I}^{3} {\\varphi_5} \\cos\\left({\\alpha}\\right) \\sin\\left({\\alpha}\\right)^{2} + 4 \\, {\\delta_\\mu}^{3} {\\partial_\\mu\\varphi_4} {\\mu_I}^{2} {\\mu_S} {\\varphi_5} \\cos\\left({\\alpha}\\right) \\sin\\left({\\alpha}\\right)^{2} - 2 \\, {\\delta_\\mu}^{3} {\\partial_\\mu\\varphi_7} {\\mu_I}^{3} {\\varphi_6} \\cos\\left({\\alpha}\\right) \\sin\\left({\\alpha}\\right)^{2} - 4 \\, {\\delta_\\mu}^{3} {\\partial_\\mu\\varphi_7} {\\mu_I}^{2} {\\mu_S} {\\varphi_6} \\cos\\left({\\alpha}\\right) \\sin\\left({\\alpha}\\right)^{2} + 2 \\, {\\delta_\\mu}^{3} {\\partial_\\mu\\varphi_6} {\\mu_I}^{3} {\\varphi_7} \\cos\\left({\\alpha}\\right) \\sin\\left({\\alpha}\\right)^{2} + 4 \\, {\\delta_\\mu}^{3} {\\partial_\\mu\\varphi_6} {\\mu_I}^{2} {\\mu_S} {\\varphi_7} \\cos\\left({\\alpha}\\right) \\sin\\left({\\alpha}\\right)^{2} + 2 i \\, {\\delta_\\mu}^{3} {\\partial_\\mu\\varphi_6} {\\mu_I}^{3} {\\varphi_4} \\sin\\left({\\alpha}\\right)^{3} - 4 i \\, {\\delta_\\mu}^{3} {\\partial_\\mu\\varphi_6} {\\mu_I}^{2} {\\mu_S} {\\varphi_4} \\sin\\left({\\alpha}\\right)^{3} + 2 i \\, {\\delta_\\mu}^{3} {\\partial_\\mu\\varphi_7} {\\mu_I}^{3} {\\varphi_5} \\sin\\left({\\alpha}\\right)^{3} - 4 i \\, {\\delta_\\mu}^{3} {\\partial_\\mu\\varphi_7} {\\mu_I}^{2} {\\mu_S} {\\varphi_5} \\sin\\left({\\alpha}\\right)^{3} + 2 i \\, {\\delta_\\mu}^{3} {\\partial_\\mu\\varphi_4} {\\mu_I}^{3} {\\varphi_6} \\sin\\left({\\alpha}\\right)^{3} + 4 i \\, {\\delta_\\mu}^{3} {\\partial_\\mu\\varphi_4} {\\mu_I}^{2} {\\mu_S} {\\varphi_6} \\sin\\left({\\alpha}\\right)^{3} + 2 i \\, {\\delta_\\mu}^{3} {\\partial_\\mu\\varphi_5} {\\mu_I}^{3} {\\varphi_7} \\sin\\left({\\alpha}\\right)^{3} + 4 i \\, {\\delta_\\mu}^{3} {\\partial_\\mu\\varphi_5} {\\mu_I}^{2} {\\mu_S} {\\varphi_7} \\sin\\left({\\alpha}\\right)^{3} - \\frac{16}{3} i \\, \\sqrt{3} {\\delta_\\mu}^{2} {\\partial_\\mu\\varphi_2} {\\partial_\\mu\\varphi_8} {\\mu_I}^{2} \\cos\\left({\\alpha}\\right) \\sin\\left({\\alpha}\\right)^{3} - 2 \\, {\\delta_\\mu}^{3} {\\partial_\\mu\\varphi_5} {\\mu_I}^{3} {\\varphi_4} \\sin\\left({\\alpha}\\right)^{2} + 4 \\, {\\delta_\\mu}^{3} {\\partial_\\mu\\varphi_5} {\\mu_I}^{2} {\\mu_S} {\\varphi_4} \\sin\\left({\\alpha}\\right)^{2} + 2 \\, {\\delta_\\mu}^{3} {\\partial_\\mu\\varphi_4} {\\mu_I}^{3} {\\varphi_5} \\sin\\left({\\alpha}\\right)^{2} - 4 \\, {\\delta_\\mu}^{3} {\\partial_\\mu\\varphi_4} {\\mu_I}^{2} {\\mu_S} {\\varphi_5} \\sin\\left({\\alpha}\\right)^{2} + 2 \\, {\\delta_\\mu}^{3} {\\partial_\\mu\\varphi_7} {\\mu_I}^{3} {\\varphi_6} \\sin\\left({\\alpha}\\right)^{2} + 4 \\, {\\delta_\\mu}^{3} {\\partial_\\mu\\varphi_7} {\\mu_I}^{2} {\\mu_S} {\\varphi_6} \\sin\\left({\\alpha}\\right)^{2} - 2 \\, {\\delta_\\mu}^{3} {\\partial_\\mu\\varphi_6} {\\mu_I}^{3} {\\varphi_7} \\sin\\left({\\alpha}\\right)^{2} - 4 \\, {\\delta_\\mu}^{3} {\\partial_\\mu\\varphi_6} {\\mu_I}^{2} {\\mu_S} {\\varphi_7} \\sin\\left({\\alpha}\\right)^{2} + 8 \\, {\\delta_\\mu}^{2} {\\partial_\\mu\\varphi_2}^{2} {\\mu_I}^{2} \\sin\\left({\\alpha}\\right)^{4} + \\frac{8}{3} \\, {\\delta_\\mu}^{2} {\\partial_\\mu\\varphi_8}^{2} {\\mu_I}^{2} \\sin\\left({\\alpha}\\right)^{4} - 2 \\, {\\delta_\\mu}^{2} {\\partial_\\mu\\varphi_4}^{2} {\\mu_I}^{2} \\cos\\left({\\alpha}\\right) \\sin\\left({\\alpha}\\right)^{2} - 2 \\, {\\delta_\\mu}^{2} {\\partial_\\mu\\varphi_5}^{2} {\\mu_I}^{2} \\cos\\left({\\alpha}\\right) \\sin\\left({\\alpha}\\right)^{2} - 2 \\, {\\delta_\\mu}^{2} {\\partial_\\mu\\varphi_6}^{2} {\\mu_I}^{2} \\cos\\left({\\alpha}\\right) \\sin\\left({\\alpha}\\right)^{2} - 2 \\, {\\delta_\\mu}^{2} {\\partial_\\mu\\varphi_7}^{2} {\\mu_I}^{2} \\cos\\left({\\alpha}\\right) \\sin\\left({\\alpha}\\right)^{2} - 4 i \\, {\\delta_\\mu}^{2} {\\partial_\\mu\\varphi_5} {\\partial_\\mu\\varphi_6} {\\mu_I}^{2} \\sin\\left({\\alpha}\\right)^{3} + 4 i \\, {\\delta_\\mu}^{2} {\\partial_\\mu\\varphi_4} {\\partial_\\mu\\varphi_7} {\\mu_I}^{2} \\sin\\left({\\alpha}\\right)^{3} + 4 \\, {\\delta_\\mu}^{2} {\\partial_\\mu\\varphi_1}^{2} {\\mu_I}^{2} \\sin\\left({\\alpha}\\right)^{2} - 4 \\, {\\delta_\\mu}^{2} {\\partial_\\mu\\varphi_2}^{2} {\\mu_I}^{2} \\sin\\left({\\alpha}\\right)^{2} - 4 \\, {\\delta_\\mu}^{2} {\\partial_\\mu\\varphi_3}^{2} {\\mu_I}^{2} \\sin\\left({\\alpha}\\right)^{2} + 2 \\, {\\delta_\\mu}^{2} {\\partial_\\mu\\varphi_4}^{2} {\\mu_I}^{2} \\sin\\left({\\alpha}\\right)^{2} + 2 \\, {\\delta_\\mu}^{2} {\\partial_\\mu\\varphi_5}^{2} {\\mu_I}^{2} \\sin\\left({\\alpha}\\right)^{2} + 2 \\, {\\delta_\\mu}^{2} {\\partial_\\mu\\varphi_6}^{2} {\\mu_I}^{2} \\sin\\left({\\alpha}\\right)^{2} + 2 \\, {\\delta_\\mu}^{2} {\\partial_\\mu\\varphi_7}^{2} {\\mu_I}^{2} \\sin\\left({\\alpha}\\right)^{2} + \\frac{4}{3} \\, {\\delta_\\mu}^{2} {\\partial_\\mu\\varphi_8}^{2} {\\mu_I}^{2} \\sin\\left({\\alpha}\\right)^{2} $$"
      ],
      "text/plain": [
       "<IPython.core.display.Latex object>"
      ]
     },
     "metadata": {},
     "output_type": "display_data"
    }
   ],
   "source": [
    "L3 = (kin[0]**2).trace()\n",
    "L3 = L3.series(e, n+1).truncate().trig_reduce().full_simplify()\n",
    "print_coeff2(L3)"
   ]
  },
  {
   "cell_type": "code",
   "execution_count": 17,
   "id": "c19feec0",
   "metadata": {},
   "outputs": [
    {
     "name": "stdout",
     "output_type": "stream",
     "text": [
      "1 :\n"
     ]
    },
    {
     "data": {
      "text/latex": [
       "$$ 16 \\, {\\bar m}^{4} \\cos\\left({\\alpha}\\right)^{2} + 16 \\, {m_S}^{2} {\\bar m}^{2} \\cos\\left({\\alpha}\\right) + 4 \\, {m_S}^{4} $$"
      ],
      "text/plain": [
       "<IPython.core.display.Latex object>"
      ]
     },
     "metadata": {},
     "output_type": "display_data"
    },
    {
     "name": "stdout",
     "output_type": "stream",
     "text": [
      "e :\n"
     ]
    },
    {
     "data": {
      "text/latex": [
       "$$ -32 \\, {\\bar m}^{4} {\\varphi_2} \\cos\\left({\\alpha}\\right) \\sin\\left({\\alpha}\\right) - 16 \\, {m_S}^{2} {\\bar m}^{2} {\\varphi_2} \\sin\\left({\\alpha}\\right) $$"
      ],
      "text/plain": [
       "<IPython.core.display.Latex object>"
      ]
     },
     "metadata": {},
     "output_type": "display_data"
    },
    {
     "name": "stdout",
     "output_type": "stream",
     "text": [
      "e^2 :\n"
     ]
    },
    {
     "data": {
      "text/latex": [
       "$$ -16 \\, {\\bar m}^{4} {\\varphi_1}^{2} \\cos\\left({\\alpha}\\right)^{2} - 32 \\, {\\bar m}^{4} {\\varphi_2}^{2} \\cos\\left({\\alpha}\\right)^{2} - 16 \\, {\\bar m}^{4} {\\varphi_3}^{2} \\cos\\left({\\alpha}\\right)^{2} - 8 \\, {\\bar m}^{4} {\\varphi_4}^{2} \\cos\\left({\\alpha}\\right)^{2} - 8 \\, {\\bar m}^{4} {\\varphi_5}^{2} \\cos\\left({\\alpha}\\right)^{2} - 8 \\, {\\bar m}^{4} {\\varphi_6}^{2} \\cos\\left({\\alpha}\\right)^{2} - 8 \\, {\\bar m}^{4} {\\varphi_7}^{2} \\cos\\left({\\alpha}\\right)^{2} - \\frac{16}{3} \\, {\\bar m}^{4} {\\varphi_8}^{2} \\cos\\left({\\alpha}\\right)^{2} + \\frac{32}{3} \\, \\sqrt{3} {\\Delta m}^{2} {\\bar m}^{2} {\\varphi_3} {\\varphi_8} \\cos\\left({\\alpha}\\right) - 8 \\, {m_S}^{2} {\\bar m}^{2} {\\varphi_1}^{2} \\cos\\left({\\alpha}\\right) - 8 \\, {m_S}^{2} {\\bar m}^{2} {\\varphi_2}^{2} \\cos\\left({\\alpha}\\right) - 8 \\, {m_S}^{2} {\\bar m}^{2} {\\varphi_3}^{2} \\cos\\left({\\alpha}\\right) + 8 \\, {\\Delta m}^{2} {\\bar m}^{2} {\\varphi_4}^{2} \\cos\\left({\\alpha}\\right) - 12 \\, {m_S}^{2} {\\bar m}^{2} {\\varphi_4}^{2} \\cos\\left({\\alpha}\\right) + 8 \\, {\\Delta m}^{2} {\\bar m}^{2} {\\varphi_5}^{2} \\cos\\left({\\alpha}\\right) - 12 \\, {m_S}^{2} {\\bar m}^{2} {\\varphi_5}^{2} \\cos\\left({\\alpha}\\right) - 8 \\, {\\Delta m}^{2} {\\bar m}^{2} {\\varphi_6}^{2} \\cos\\left({\\alpha}\\right) - 12 \\, {m_S}^{2} {\\bar m}^{2} {\\varphi_6}^{2} \\cos\\left({\\alpha}\\right) - 8 \\, {\\Delta m}^{2} {\\bar m}^{2} {\\varphi_7}^{2} \\cos\\left({\\alpha}\\right) - 12 \\, {m_S}^{2} {\\bar m}^{2} {\\varphi_7}^{2} \\cos\\left({\\alpha}\\right) - \\frac{40}{3} \\, {m_S}^{2} {\\bar m}^{2} {\\varphi_8}^{2} \\cos\\left({\\alpha}\\right) + \\frac{16}{3} \\, \\sqrt{3} {\\Delta m}^{2} {m_S}^{2} {\\varphi_3} {\\varphi_8} + 16 \\, {\\bar m}^{4} {\\varphi_2}^{2} + 4 \\, {\\Delta m}^{2} {m_S}^{2} {\\varphi_4}^{2} - 4 \\, {m_S}^{4} {\\varphi_4}^{2} + 4 \\, {\\Delta m}^{2} {m_S}^{2} {\\varphi_5}^{2} - 4 \\, {m_S}^{4} {\\varphi_5}^{2} - 4 \\, {\\Delta m}^{2} {m_S}^{2} {\\varphi_6}^{2} - 4 \\, {m_S}^{4} {\\varphi_6}^{2} - 4 \\, {\\Delta m}^{2} {m_S}^{2} {\\varphi_7}^{2} - 4 \\, {m_S}^{4} {\\varphi_7}^{2} - \\frac{16}{3} \\, {m_S}^{4} {\\varphi_8}^{2} $$"
      ],
      "text/plain": [
       "<IPython.core.display.Latex object>"
      ]
     },
     "metadata": {},
     "output_type": "display_data"
    }
   ],
   "source": [
    "chiS = chi*Sd + S*chi.T\n",
    "L6 = (chiS.trace())^2\n",
    "L6 = L6.series(e, n+1).truncate().trig_reduce().full_simplify()\n",
    "print_coeff2(L6)"
   ]
  },
  {
   "cell_type": "code",
   "execution_count": 10,
   "id": "c6a97f66",
   "metadata": {},
   "outputs": [
    {
     "name": "stdout",
     "output_type": "stream",
     "text": [
      "e^2 :\n"
     ]
    },
    {
     "data": {
      "text/latex": [
       "$$ -16 \\, {\\Delta m}^{4} {\\varphi_3}^{2} + \\frac{32}{3} \\, {\\left(\\sqrt{3} {\\Delta m}^{2} {\\bar m}^{2} \\cos\\left({\\alpha}\\right) - \\sqrt{3} {\\Delta m}^{2} {m_S}^{2}\\right)} {\\varphi_3} {\\varphi_8} - \\frac{16}{3} \\, {\\left({\\bar m}^{4} \\cos\\left({\\alpha}\\right)^{2} - 2 \\, {m_S}^{2} {\\bar m}^{2} \\cos\\left({\\alpha}\\right) + {m_S}^{4}\\right)} {\\varphi_8}^{2} $$"
      ],
      "text/plain": [
       "<IPython.core.display.Latex object>"
      ]
     },
     "metadata": {},
     "output_type": "display_data"
    }
   ],
   "source": [
    "L7 = mat_prep(chi*Sd - S*chi.T, n=n)\n",
    "L7 = (L7.trace())^2\n",
    "L7 = L7.series(e, n+1).truncate().trig_reduce().full_simplify()\n",
    "print_coeff(L7)"
   ]
  },
  {
   "cell_type": "code",
   "execution_count": 11,
   "id": "0fbf373d",
   "metadata": {
    "scrolled": true
   },
   "outputs": [
    {
     "name": "stdout",
     "output_type": "stream",
     "text": [
      "1 :\n"
     ]
    },
    {
     "data": {
      "text/latex": [
       "$$ 4 \\, {\\left(2 \\, \\cos\\left({\\alpha}\\right)^{2} - 1\\right)} {\\bar m}^{4} + 4 \\, {\\Delta m}^{4} + 2 \\, {m_S}^{4} $$"
      ],
      "text/plain": [
       "<IPython.core.display.Latex object>"
      ]
     },
     "metadata": {},
     "output_type": "display_data"
    },
    {
     "name": "stdout",
     "output_type": "stream",
     "text": [
      "e :\n"
     ]
    },
    {
     "data": {
      "text/latex": [
       "$$ -16 \\, {\\bar m}^{4} {\\varphi_2} \\cos\\left({\\alpha}\\right) \\sin\\left({\\alpha}\\right) $$"
      ],
      "text/plain": [
       "<IPython.core.display.Latex object>"
      ]
     },
     "metadata": {},
     "output_type": "display_data"
    },
    {
     "name": "stdout",
     "output_type": "stream",
     "text": [
      "e^2 :\n"
     ]
    },
    {
     "data": {
      "text/latex": [
       "$$ \\frac{2}{9} \\, \\sqrt{3} {\\left(12 \\, {\\left(\\sqrt{3} \\sin\\left({\\alpha}\\right)^{2} - \\sqrt{3}\\right)} {\\bar m}^{4} {\\varphi_1}^{2} + 12 \\, {\\left(2 \\, \\sqrt{3} \\sin\\left({\\alpha}\\right)^{2} - \\sqrt{3}\\right)} {\\bar m}^{4} {\\varphi_2}^{2} + 48 \\, {\\Delta m}^{2} {\\bar m}^{2} {\\varphi_3} {\\varphi_8} \\cos\\left({\\alpha}\\right) + 12 \\, {\\left({\\left(\\sqrt{3} \\sin\\left({\\alpha}\\right)^{2} - \\sqrt{3}\\right)} {\\bar m}^{4} - \\sqrt{3} {\\Delta m}^{4}\\right)} {\\varphi_3}^{2} + 3 \\, {\\left({\\left(2 \\, \\sqrt{3} \\sin\\left({\\alpha}\\right)^{2} - \\sqrt{3}\\right)} {\\bar m}^{4} - \\sqrt{3} {\\Delta m}^{4} + 2 \\, \\sqrt{3} {\\Delta m}^{2} {m_S}^{2} - \\sqrt{3} {m_S}^{4} + 2 \\, {\\left(\\sqrt{3} {\\Delta m}^{2} \\cos\\left({\\alpha}\\right) - \\sqrt{3} {m_S}^{2} \\cos\\left({\\alpha}\\right)\\right)} {\\bar m}^{2}\\right)} {\\varphi_4}^{2} + 3 \\, {\\left({\\left(2 \\, \\sqrt{3} \\sin\\left({\\alpha}\\right)^{2} - \\sqrt{3}\\right)} {\\bar m}^{4} - \\sqrt{3} {\\Delta m}^{4} + 2 \\, \\sqrt{3} {\\Delta m}^{2} {m_S}^{2} - \\sqrt{3} {m_S}^{4} + 2 \\, {\\left(\\sqrt{3} {\\Delta m}^{2} \\cos\\left({\\alpha}\\right) - \\sqrt{3} {m_S}^{2} \\cos\\left({\\alpha}\\right)\\right)} {\\bar m}^{2}\\right)} {\\varphi_5}^{2} + 3 \\, {\\left({\\left(2 \\, \\sqrt{3} \\sin\\left({\\alpha}\\right)^{2} - \\sqrt{3}\\right)} {\\bar m}^{4} - \\sqrt{3} {\\Delta m}^{4} - 2 \\, \\sqrt{3} {\\Delta m}^{2} {m_S}^{2} - \\sqrt{3} {m_S}^{4} - 2 \\, {\\left(\\sqrt{3} {\\Delta m}^{2} \\cos\\left({\\alpha}\\right) + \\sqrt{3} {m_S}^{2} \\cos\\left({\\alpha}\\right)\\right)} {\\bar m}^{2}\\right)} {\\varphi_6}^{2} + 3 \\, {\\left({\\left(2 \\, \\sqrt{3} \\sin\\left({\\alpha}\\right)^{2} - \\sqrt{3}\\right)} {\\bar m}^{4} - \\sqrt{3} {\\Delta m}^{4} - 2 \\, \\sqrt{3} {\\Delta m}^{2} {m_S}^{2} - \\sqrt{3} {m_S}^{4} - 2 \\, {\\left(\\sqrt{3} {\\Delta m}^{2} \\cos\\left({\\alpha}\\right) + \\sqrt{3} {m_S}^{2} \\cos\\left({\\alpha}\\right)\\right)} {\\bar m}^{2}\\right)} {\\varphi_7}^{2} + 4 \\, {\\left({\\left(2 \\, \\sqrt{3} \\sin\\left({\\alpha}\\right)^{2} - \\sqrt{3}\\right)} {\\bar m}^{4} - \\sqrt{3} {\\Delta m}^{4} - 2 \\, \\sqrt{3} {m_S}^{4}\\right)} {\\varphi_8}^{2}\\right)} $$"
      ],
      "text/plain": [
       "<IPython.core.display.Latex object>"
      ]
     },
     "metadata": {},
     "output_type": "display_data"
    }
   ],
   "source": [
    "L8 = mat_prep((chi*Sd)^2 + (S*chi.T)^2, n=n)\n",
    "L8 = L8.trace().series(e, n+1).truncate().trig_reduce()\n",
    "print_coeff2(L8)"
   ]
  },
  {
   "cell_type": "code",
   "execution_count": 16,
   "id": "e7815442",
   "metadata": {},
   "outputs": [
    {
     "name": "stdout",
     "output_type": "stream",
     "text": [
      "1 :\n"
     ]
    },
    {
     "data": {
      "text/latex": [
       "$$ -8 \\, {\\delta_\\mu}^{2} {\\bar m}^{2} {\\mu_I}^{2} \\cos\\left({\\alpha}\\right)^{3} - 4 \\, {\\delta_\\mu}^{2} {m_S}^{2} {\\mu_I}^{2} \\cos\\left({\\alpha}\\right)^{2} + 8 \\, {\\delta_\\mu}^{2} {\\bar m}^{2} {\\mu_I}^{2} \\cos\\left({\\alpha}\\right) + 4 \\, {\\delta_\\mu}^{2} {m_S}^{2} {\\mu_I}^{2} $$"
      ],
      "text/plain": [
       "<IPython.core.display.Latex object>"
      ]
     },
     "metadata": {},
     "output_type": "display_data"
    },
    {
     "name": "stdout",
     "output_type": "stream",
     "text": [
      "e :\n"
     ]
    },
    {
     "data": {
      "text/latex": [
       "$$ 24 \\, {\\delta_\\mu}^{2} {\\bar m}^{2} {\\mu_I}^{2} {\\varphi_2} \\cos\\left({\\alpha}\\right)^{2} \\sin\\left({\\alpha}\\right) + 8 \\, {\\delta_\\mu}^{2} {m_S}^{2} {\\mu_I}^{2} {\\varphi_2} \\cos\\left({\\alpha}\\right) \\sin\\left({\\alpha}\\right) - 8 \\, {\\delta_\\mu}^{2} {\\bar m}^{2} {\\mu_I}^{2} {\\varphi_2} \\sin\\left({\\alpha}\\right) $$"
      ],
      "text/plain": [
       "<IPython.core.display.Latex object>"
      ]
     },
     "metadata": {},
     "output_type": "display_data"
    },
    {
     "name": "stdout",
     "output_type": "stream",
     "text": [
      "e^2 :\n"
     ]
    },
    {
     "data": {
      "text/latex": [
       "$$ 12 \\, {\\delta_\\mu}^{2} {\\bar m}^{2} {\\mu_I}^{2} {\\varphi_1}^{2} \\cos\\left({\\alpha}\\right)^{3} + 36 \\, {\\delta_\\mu}^{2} {\\bar m}^{2} {\\mu_I}^{2} {\\varphi_2}^{2} \\cos\\left({\\alpha}\\right)^{3} + 12 \\, {\\delta_\\mu}^{2} {\\bar m}^{2} {\\mu_I}^{2} {\\varphi_3}^{2} \\cos\\left({\\alpha}\\right)^{3} + 6 \\, {\\delta_\\mu}^{2} {\\bar m}^{2} {\\mu_I}^{2} {\\varphi_4}^{2} \\cos\\left({\\alpha}\\right)^{3} + 6 \\, {\\delta_\\mu}^{2} {\\bar m}^{2} {\\mu_I}^{2} {\\varphi_5}^{2} \\cos\\left({\\alpha}\\right)^{3} + 6 \\, {\\delta_\\mu}^{2} {\\bar m}^{2} {\\mu_I}^{2} {\\varphi_6}^{2} \\cos\\left({\\alpha}\\right)^{3} + 6 \\, {\\delta_\\mu}^{2} {\\bar m}^{2} {\\mu_I}^{2} {\\varphi_7}^{2} \\cos\\left({\\alpha}\\right)^{3} + \\frac{4}{3} \\, {\\delta_\\mu}^{2} {\\bar m}^{2} {\\mu_I}^{2} {\\varphi_8}^{2} \\cos\\left({\\alpha}\\right)^{3} - \\frac{8}{3} \\, \\sqrt{3} {\\Delta m}^{2} {\\delta_\\mu}^{2} {\\mu_I}^{2} {\\varphi_3} {\\varphi_8} \\cos\\left({\\alpha}\\right)^{2} + 4 \\, {\\delta_\\mu}^{2} {m_S}^{2} {\\mu_I}^{2} {\\varphi_1}^{2} \\cos\\left({\\alpha}\\right)^{2} + 8 \\, {\\delta_\\mu}^{2} {m_S}^{2} {\\mu_I}^{2} {\\varphi_2}^{2} \\cos\\left({\\alpha}\\right)^{2} + 4 \\, {\\delta_\\mu}^{2} {m_S}^{2} {\\mu_I}^{2} {\\varphi_3}^{2} \\cos\\left({\\alpha}\\right)^{2} - 2 \\, {\\Delta m}^{2} {\\delta_\\mu}^{2} {\\mu_I}^{2} {\\varphi_4}^{2} \\cos\\left({\\alpha}\\right)^{2} + 4 \\, {\\delta_\\mu}^{2} {m_S}^{2} {\\mu_I}^{2} {\\varphi_4}^{2} \\cos\\left({\\alpha}\\right)^{2} + 8 \\, {\\delta_\\mu}^{2} {\\bar m}^{2} {\\mu_I} {\\mu_S} {\\varphi_4}^{2} \\cos\\left({\\alpha}\\right)^{2} - 2 \\, {\\Delta m}^{2} {\\delta_\\mu}^{2} {\\mu_I}^{2} {\\varphi_5}^{2} \\cos\\left({\\alpha}\\right)^{2} + 4 \\, {\\delta_\\mu}^{2} {m_S}^{2} {\\mu_I}^{2} {\\varphi_5}^{2} \\cos\\left({\\alpha}\\right)^{2} + 8 \\, {\\delta_\\mu}^{2} {\\bar m}^{2} {\\mu_I} {\\mu_S} {\\varphi_5}^{2} \\cos\\left({\\alpha}\\right)^{2} + 2 \\, {\\Delta m}^{2} {\\delta_\\mu}^{2} {\\mu_I}^{2} {\\varphi_6}^{2} \\cos\\left({\\alpha}\\right)^{2} + 4 \\, {\\delta_\\mu}^{2} {m_S}^{2} {\\mu_I}^{2} {\\varphi_6}^{2} \\cos\\left({\\alpha}\\right)^{2} - 8 \\, {\\delta_\\mu}^{2} {\\bar m}^{2} {\\mu_I} {\\mu_S} {\\varphi_6}^{2} \\cos\\left({\\alpha}\\right)^{2} + 2 \\, {\\Delta m}^{2} {\\delta_\\mu}^{2} {\\mu_I}^{2} {\\varphi_7}^{2} \\cos\\left({\\alpha}\\right)^{2} + 4 \\, {\\delta_\\mu}^{2} {m_S}^{2} {\\mu_I}^{2} {\\varphi_7}^{2} \\cos\\left({\\alpha}\\right)^{2} - 8 \\, {\\delta_\\mu}^{2} {\\bar m}^{2} {\\mu_I} {\\mu_S} {\\varphi_7}^{2} \\cos\\left({\\alpha}\\right)^{2} + \\frac{8}{3} \\, {\\delta_\\mu}^{2} {m_S}^{2} {\\mu_I}^{2} {\\varphi_8}^{2} \\cos\\left({\\alpha}\\right)^{2} - 4 \\, {\\delta_\\mu}^{2} {\\bar m}^{2} {\\mu_I}^{2} {\\varphi_1}^{2} \\cos\\left({\\alpha}\\right) - 28 \\, {\\delta_\\mu}^{2} {\\bar m}^{2} {\\mu_I}^{2} {\\varphi_2}^{2} \\cos\\left({\\alpha}\\right) - 12 \\, {\\delta_\\mu}^{2} {\\bar m}^{2} {\\mu_I}^{2} {\\varphi_3}^{2} \\cos\\left({\\alpha}\\right) - 4 \\, {\\delta_\\mu}^{2} {\\bar m}^{2} {\\mu_I}^{2} {\\varphi_4}^{2} \\cos\\left({\\alpha}\\right) + 4 \\, {\\delta_\\mu}^{2} {m_S}^{2} {\\mu_I} {\\mu_S} {\\varphi_4}^{2} \\cos\\left({\\alpha}\\right) + 8 \\, {\\delta_\\mu}^{2} {\\bar m}^{2} {\\mu_S}^{2} {\\varphi_4}^{2} \\cos\\left({\\alpha}\\right) - 4 \\, {\\delta_\\mu}^{2} {\\bar m}^{2} {\\mu_I}^{2} {\\varphi_5}^{2} \\cos\\left({\\alpha}\\right) + 4 \\, {\\delta_\\mu}^{2} {m_S}^{2} {\\mu_I} {\\mu_S} {\\varphi_5}^{2} \\cos\\left({\\alpha}\\right) + 8 \\, {\\delta_\\mu}^{2} {\\bar m}^{2} {\\mu_S}^{2} {\\varphi_5}^{2} \\cos\\left({\\alpha}\\right) - 4 \\, {\\delta_\\mu}^{2} {\\bar m}^{2} {\\mu_I}^{2} {\\varphi_6}^{2} \\cos\\left({\\alpha}\\right) - 4 \\, {\\delta_\\mu}^{2} {m_S}^{2} {\\mu_I} {\\mu_S} {\\varphi_6}^{2} \\cos\\left({\\alpha}\\right) + 8 \\, {\\delta_\\mu}^{2} {\\bar m}^{2} {\\mu_S}^{2} {\\varphi_6}^{2} \\cos\\left({\\alpha}\\right) - 4 \\, {\\delta_\\mu}^{2} {\\bar m}^{2} {\\mu_I}^{2} {\\varphi_7}^{2} \\cos\\left({\\alpha}\\right) - 4 \\, {\\delta_\\mu}^{2} {m_S}^{2} {\\mu_I} {\\mu_S} {\\varphi_7}^{2} \\cos\\left({\\alpha}\\right) + 8 \\, {\\delta_\\mu}^{2} {\\bar m}^{2} {\\mu_S}^{2} {\\varphi_7}^{2} \\cos\\left({\\alpha}\\right) - \\frac{4}{3} \\, {\\delta_\\mu}^{2} {\\bar m}^{2} {\\mu_I}^{2} {\\varphi_8}^{2} \\cos\\left({\\alpha}\\right) + \\frac{8}{3} \\, \\sqrt{3} {\\Delta m}^{2} {\\delta_\\mu}^{2} {\\mu_I}^{2} {\\varphi_3} {\\varphi_8} + \\frac{16}{3} i \\, \\sqrt{3} {\\delta_\\mu} {\\partial_\\mu\\varphi_1} {\\bar m}^{2} {\\mu_I} {\\varphi_8} \\cos\\left({\\alpha}\\right) \\sin\\left({\\alpha}\\right) - 4 \\, {\\delta_\\mu}^{2} {m_S}^{2} {\\mu_I}^{2} {\\varphi_2}^{2} - 4 \\, {\\delta_\\mu}^{2} {m_S}^{2} {\\mu_I}^{2} {\\varphi_3}^{2} + 2 \\, {\\Delta m}^{2} {\\delta_\\mu}^{2} {\\mu_I}^{2} {\\varphi_4}^{2} - 3 \\, {\\delta_\\mu}^{2} {m_S}^{2} {\\mu_I}^{2} {\\varphi_4}^{2} + 4 \\, {\\delta_\\mu}^{2} {m_S}^{2} {\\mu_S}^{2} {\\varphi_4}^{2} + 2 \\, {\\Delta m}^{2} {\\delta_\\mu}^{2} {\\mu_I}^{2} {\\varphi_5}^{2} - 3 \\, {\\delta_\\mu}^{2} {m_S}^{2} {\\mu_I}^{2} {\\varphi_5}^{2} + 4 \\, {\\delta_\\mu}^{2} {m_S}^{2} {\\mu_S}^{2} {\\varphi_5}^{2} - 2 \\, {\\Delta m}^{2} {\\delta_\\mu}^{2} {\\mu_I}^{2} {\\varphi_6}^{2} - 3 \\, {\\delta_\\mu}^{2} {m_S}^{2} {\\mu_I}^{2} {\\varphi_6}^{2} + 4 \\, {\\delta_\\mu}^{2} {m_S}^{2} {\\mu_S}^{2} {\\varphi_6}^{2} - 2 \\, {\\Delta m}^{2} {\\delta_\\mu}^{2} {\\mu_I}^{2} {\\varphi_7}^{2} - 3 \\, {\\delta_\\mu}^{2} {m_S}^{2} {\\mu_I}^{2} {\\varphi_7}^{2} + 4 \\, {\\delta_\\mu}^{2} {m_S}^{2} {\\mu_S}^{2} {\\varphi_7}^{2} - \\frac{8}{3} \\, {\\delta_\\mu}^{2} {m_S}^{2} {\\mu_I}^{2} {\\varphi_8}^{2} + 4 \\, {\\delta_\\mu} {\\partial_\\mu\\varphi_5} {\\bar m}^{2} {\\mu_I} {\\varphi_4} \\cos\\left({\\alpha}\\right)^{2} - 8 \\, {\\delta_\\mu} {\\partial_\\mu\\varphi_5} {\\bar m}^{2} {\\mu_S} {\\varphi_4} \\cos\\left({\\alpha}\\right)^{2} - 4 \\, {\\delta_\\mu} {\\partial_\\mu\\varphi_4} {\\bar m}^{2} {\\mu_I} {\\varphi_5} \\cos\\left({\\alpha}\\right)^{2} + 8 \\, {\\delta_\\mu} {\\partial_\\mu\\varphi_4} {\\bar m}^{2} {\\mu_S} {\\varphi_5} \\cos\\left({\\alpha}\\right)^{2} - 4 \\, {\\delta_\\mu} {\\partial_\\mu\\varphi_7} {\\bar m}^{2} {\\mu_I} {\\varphi_6} \\cos\\left({\\alpha}\\right)^{2} - 8 \\, {\\delta_\\mu} {\\partial_\\mu\\varphi_7} {\\bar m}^{2} {\\mu_S} {\\varphi_6} \\cos\\left({\\alpha}\\right)^{2} + 4 \\, {\\delta_\\mu} {\\partial_\\mu\\varphi_6} {\\bar m}^{2} {\\mu_I} {\\varphi_7} \\cos\\left({\\alpha}\\right)^{2} + 8 \\, {\\delta_\\mu} {\\partial_\\mu\\varphi_6} {\\bar m}^{2} {\\mu_S} {\\varphi_7} \\cos\\left({\\alpha}\\right)^{2} + 4 i \\, {\\delta_\\mu} {\\partial_\\mu\\varphi_6} {\\bar m}^{2} {\\mu_I} {\\varphi_4} \\cos\\left({\\alpha}\\right) \\sin\\left({\\alpha}\\right) - 8 i \\, {\\delta_\\mu} {\\partial_\\mu\\varphi_6} {\\bar m}^{2} {\\mu_S} {\\varphi_4} \\cos\\left({\\alpha}\\right) \\sin\\left({\\alpha}\\right) + 4 i \\, {\\delta_\\mu} {\\partial_\\mu\\varphi_7} {\\bar m}^{2} {\\mu_I} {\\varphi_5} \\cos\\left({\\alpha}\\right) \\sin\\left({\\alpha}\\right) - 8 i \\, {\\delta_\\mu} {\\partial_\\mu\\varphi_7} {\\bar m}^{2} {\\mu_S} {\\varphi_5} \\cos\\left({\\alpha}\\right) \\sin\\left({\\alpha}\\right) + 4 i \\, {\\delta_\\mu} {\\partial_\\mu\\varphi_4} {\\bar m}^{2} {\\mu_I} {\\varphi_6} \\cos\\left({\\alpha}\\right) \\sin\\left({\\alpha}\\right) + 8 i \\, {\\delta_\\mu} {\\partial_\\mu\\varphi_4} {\\bar m}^{2} {\\mu_S} {\\varphi_6} \\cos\\left({\\alpha}\\right) \\sin\\left({\\alpha}\\right) + 4 i \\, {\\delta_\\mu} {\\partial_\\mu\\varphi_5} {\\bar m}^{2} {\\mu_I} {\\varphi_7} \\cos\\left({\\alpha}\\right) \\sin\\left({\\alpha}\\right) + 8 i \\, {\\delta_\\mu} {\\partial_\\mu\\varphi_5} {\\bar m}^{2} {\\mu_S} {\\varphi_7} \\cos\\left({\\alpha}\\right) \\sin\\left({\\alpha}\\right) + \\frac{8}{3} i \\, \\sqrt{3} {\\delta_\\mu} {\\partial_\\mu\\varphi_1} {m_S}^{2} {\\mu_I} {\\varphi_8} \\sin\\left({\\alpha}\\right) + 2 \\, {\\delta_\\mu} {\\partial_\\mu\\varphi_5} {m_S}^{2} {\\mu_I} {\\varphi_4} \\cos\\left({\\alpha}\\right) - 4 \\, {\\delta_\\mu} {\\partial_\\mu\\varphi_5} {\\bar m}^{2} {\\mu_I} {\\varphi_4} \\cos\\left({\\alpha}\\right) - 4 \\, {\\delta_\\mu} {\\partial_\\mu\\varphi_5} {m_S}^{2} {\\mu_S} {\\varphi_4} \\cos\\left({\\alpha}\\right) + 8 \\, {\\delta_\\mu} {\\partial_\\mu\\varphi_5} {\\bar m}^{2} {\\mu_S} {\\varphi_4} \\cos\\left({\\alpha}\\right) - 2 \\, {\\delta_\\mu} {\\partial_\\mu\\varphi_4} {m_S}^{2} {\\mu_I} {\\varphi_5} \\cos\\left({\\alpha}\\right) + 4 \\, {\\delta_\\mu} {\\partial_\\mu\\varphi_4} {\\bar m}^{2} {\\mu_I} {\\varphi_5} \\cos\\left({\\alpha}\\right) + 4 \\, {\\delta_\\mu} {\\partial_\\mu\\varphi_4} {m_S}^{2} {\\mu_S} {\\varphi_5} \\cos\\left({\\alpha}\\right) - 8 \\, {\\delta_\\mu} {\\partial_\\mu\\varphi_4} {\\bar m}^{2} {\\mu_S} {\\varphi_5} \\cos\\left({\\alpha}\\right) - 2 \\, {\\delta_\\mu} {\\partial_\\mu\\varphi_7} {m_S}^{2} {\\mu_I} {\\varphi_6} \\cos\\left({\\alpha}\\right) + 4 \\, {\\delta_\\mu} {\\partial_\\mu\\varphi_7} {\\bar m}^{2} {\\mu_I} {\\varphi_6} \\cos\\left({\\alpha}\\right) - 4 \\, {\\delta_\\mu} {\\partial_\\mu\\varphi_7} {m_S}^{2} {\\mu_S} {\\varphi_6} \\cos\\left({\\alpha}\\right) + 8 \\, {\\delta_\\mu} {\\partial_\\mu\\varphi_7} {\\bar m}^{2} {\\mu_S} {\\varphi_6} \\cos\\left({\\alpha}\\right) + 2 \\, {\\delta_\\mu} {\\partial_\\mu\\varphi_6} {m_S}^{2} {\\mu_I} {\\varphi_7} \\cos\\left({\\alpha}\\right) - 4 \\, {\\delta_\\mu} {\\partial_\\mu\\varphi_6} {\\bar m}^{2} {\\mu_I} {\\varphi_7} \\cos\\left({\\alpha}\\right) + 4 \\, {\\delta_\\mu} {\\partial_\\mu\\varphi_6} {m_S}^{2} {\\mu_S} {\\varphi_7} \\cos\\left({\\alpha}\\right) - 8 \\, {\\delta_\\mu} {\\partial_\\mu\\varphi_6} {\\bar m}^{2} {\\mu_S} {\\varphi_7} \\cos\\left({\\alpha}\\right) + 2 i \\, {\\delta_\\mu} {\\partial_\\mu\\varphi_6} {m_S}^{2} {\\mu_I} {\\varphi_4} \\sin\\left({\\alpha}\\right) - 4 i \\, {\\delta_\\mu} {\\partial_\\mu\\varphi_6} {m_S}^{2} {\\mu_S} {\\varphi_4} \\sin\\left({\\alpha}\\right) + 2 i \\, {\\delta_\\mu} {\\partial_\\mu\\varphi_7} {m_S}^{2} {\\mu_I} {\\varphi_5} \\sin\\left({\\alpha}\\right) - 4 i \\, {\\delta_\\mu} {\\partial_\\mu\\varphi_7} {m_S}^{2} {\\mu_S} {\\varphi_5} \\sin\\left({\\alpha}\\right) + 2 i \\, {\\delta_\\mu} {\\partial_\\mu\\varphi_4} {m_S}^{2} {\\mu_I} {\\varphi_6} \\sin\\left({\\alpha}\\right) + 4 i \\, {\\delta_\\mu} {\\partial_\\mu\\varphi_4} {m_S}^{2} {\\mu_S} {\\varphi_6} \\sin\\left({\\alpha}\\right) + 2 i \\, {\\delta_\\mu} {\\partial_\\mu\\varphi_5} {m_S}^{2} {\\mu_I} {\\varphi_7} \\sin\\left({\\alpha}\\right) + 4 i \\, {\\delta_\\mu} {\\partial_\\mu\\varphi_5} {m_S}^{2} {\\mu_S} {\\varphi_7} \\sin\\left({\\alpha}\\right) - 2 \\, {\\delta_\\mu} {\\partial_\\mu\\varphi_5} {m_S}^{2} {\\mu_I} {\\varphi_4} + 4 \\, {\\delta_\\mu} {\\partial_\\mu\\varphi_5} {m_S}^{2} {\\mu_S} {\\varphi_4} + 2 \\, {\\delta_\\mu} {\\partial_\\mu\\varphi_4} {m_S}^{2} {\\mu_I} {\\varphi_5} - 4 \\, {\\delta_\\mu} {\\partial_\\mu\\varphi_4} {m_S}^{2} {\\mu_S} {\\varphi_5} + 2 \\, {\\delta_\\mu} {\\partial_\\mu\\varphi_7} {m_S}^{2} {\\mu_I} {\\varphi_6} + 4 \\, {\\delta_\\mu} {\\partial_\\mu\\varphi_7} {m_S}^{2} {\\mu_S} {\\varphi_6} - 2 \\, {\\delta_\\mu} {\\partial_\\mu\\varphi_6} {m_S}^{2} {\\mu_I} {\\varphi_7} - 4 \\, {\\delta_\\mu} {\\partial_\\mu\\varphi_6} {m_S}^{2} {\\mu_S} {\\varphi_7} + 8 \\, {\\partial_\\mu\\varphi_1}^{2} {\\bar m}^{2} \\cos\\left({\\alpha}\\right) + 8 \\, {\\partial_\\mu\\varphi_2}^{2} {\\bar m}^{2} \\cos\\left({\\alpha}\\right) + 8 \\, {\\partial_\\mu\\varphi_3}^{2} {\\bar m}^{2} \\cos\\left({\\alpha}\\right) + 8 \\, {\\partial_\\mu\\varphi_4}^{2} {\\bar m}^{2} \\cos\\left({\\alpha}\\right) + 8 \\, {\\partial_\\mu\\varphi_5}^{2} {\\bar m}^{2} \\cos\\left({\\alpha}\\right) + 8 \\, {\\partial_\\mu\\varphi_6}^{2} {\\bar m}^{2} \\cos\\left({\\alpha}\\right) + 8 \\, {\\partial_\\mu\\varphi_7}^{2} {\\bar m}^{2} \\cos\\left({\\alpha}\\right) + 8 \\, {\\partial_\\mu\\varphi_8}^{2} {\\bar m}^{2} \\cos\\left({\\alpha}\\right) + 4 \\, {\\partial_\\mu\\varphi_1}^{2} {m_S}^{2} + 4 \\, {\\partial_\\mu\\varphi_2}^{2} {m_S}^{2} + 4 \\, {\\partial_\\mu\\varphi_3}^{2} {m_S}^{2} + 4 \\, {\\partial_\\mu\\varphi_4}^{2} {m_S}^{2} + 4 \\, {\\partial_\\mu\\varphi_5}^{2} {m_S}^{2} + 4 \\, {\\partial_\\mu\\varphi_6}^{2} {m_S}^{2} + 4 \\, {\\partial_\\mu\\varphi_7}^{2} {m_S}^{2} + 4 \\, {\\partial_\\mu\\varphi_8}^{2} {m_S}^{2} $$"
      ],
      "text/plain": [
       "<IPython.core.display.Latex object>"
      ]
     },
     "metadata": {},
     "output_type": "display_data"
    }
   ],
   "source": [
    "L4 = kin[0].trace()*chiS.trace()\n",
    "L4 = L4.series(e, n+1).truncate().trig_reduce().full_simplify()\n",
    "print_coeff2(L4)"
   ]
  },
  {
   "cell_type": "code",
   "execution_count": 13,
   "id": "703bd058",
   "metadata": {},
   "outputs": [
    {
     "name": "stdout",
     "output_type": "stream",
     "text": [
      "1 :\n"
     ]
    },
    {
     "data": {
      "text/latex": [
       "$$ -4 \\, {\\delta_\\mu}^{2} {\\bar m}^{2} {\\mu_I}^{2} \\cos\\left({\\alpha}\\right)^{3} + 4 \\, {\\delta_\\mu}^{2} {\\bar m}^{2} {\\mu_I}^{2} \\cos\\left({\\alpha}\\right) $$"
      ],
      "text/plain": [
       "<IPython.core.display.Latex object>"
      ]
     },
     "metadata": {},
     "output_type": "display_data"
    },
    {
     "name": "stdout",
     "output_type": "stream",
     "text": [
      "e :\n"
     ]
    },
    {
     "data": {
      "text/latex": [
       "$$ 12 \\, {\\delta_\\mu}^{2} {\\bar m}^{2} {\\mu_I}^{2} {\\varphi_2} \\cos\\left({\\alpha}\\right)^{2} \\sin\\left({\\alpha}\\right) - \\frac{8}{3} \\, \\sqrt{3} {\\Delta m}^{2} {\\delta_\\mu} {\\partial_\\mu\\varphi_8} {\\mu_I} \\cos\\left({\\alpha}\\right)^{3} - 4 \\, {\\delta_\\mu}^{2} {\\bar m}^{2} {\\mu_I}^{2} {\\varphi_2} \\sin\\left({\\alpha}\\right) - 8 i \\, {\\Delta m}^{2} {\\delta_\\mu} {\\partial_\\mu\\varphi_2} {\\mu_I} \\cos\\left({\\alpha}\\right)^{2} \\sin\\left({\\alpha}\\right) + \\frac{8}{3} \\, \\sqrt{3} {\\Delta m}^{2} {\\delta_\\mu} {\\partial_\\mu\\varphi_8} {\\mu_I} \\cos\\left({\\alpha}\\right) $$"
      ],
      "text/plain": [
       "<IPython.core.display.Latex object>"
      ]
     },
     "metadata": {},
     "output_type": "display_data"
    },
    {
     "name": "stdout",
     "output_type": "stream",
     "text": [
      "e^2 :\n"
     ]
    },
    {
     "data": {
      "text/latex": [
       "$$ 6 \\, {\\delta_\\mu}^{2} {\\bar m}^{2} {\\mu_I}^{2} {\\varphi_1}^{2} \\cos\\left({\\alpha}\\right)^{3} + 18 \\, {\\delta_\\mu}^{2} {\\bar m}^{2} {\\mu_I}^{2} {\\varphi_2}^{2} \\cos\\left({\\alpha}\\right)^{3} + 6 \\, {\\delta_\\mu}^{2} {\\bar m}^{2} {\\mu_I}^{2} {\\varphi_3}^{2} \\cos\\left({\\alpha}\\right)^{3} + 3 \\, {\\delta_\\mu}^{2} {\\bar m}^{2} {\\mu_I}^{2} {\\varphi_4}^{2} \\cos\\left({\\alpha}\\right)^{3} + 3 \\, {\\delta_\\mu}^{2} {\\bar m}^{2} {\\mu_I}^{2} {\\varphi_5}^{2} \\cos\\left({\\alpha}\\right)^{3} + 3 \\, {\\delta_\\mu}^{2} {\\bar m}^{2} {\\mu_I}^{2} {\\varphi_6}^{2} \\cos\\left({\\alpha}\\right)^{3} + 3 \\, {\\delta_\\mu}^{2} {\\bar m}^{2} {\\mu_I}^{2} {\\varphi_7}^{2} \\cos\\left({\\alpha}\\right)^{3} + \\frac{2}{3} \\, {\\delta_\\mu}^{2} {\\bar m}^{2} {\\mu_I}^{2} {\\varphi_8}^{2} \\cos\\left({\\alpha}\\right)^{3} - \\frac{4}{3} \\, \\sqrt{3} {\\Delta m}^{2} {\\delta_\\mu}^{2} {\\mu_I}^{2} {\\varphi_3} {\\varphi_8} \\cos\\left({\\alpha}\\right)^{2} - {\\Delta m}^{2} {\\delta_\\mu}^{2} {\\mu_I}^{2} {\\varphi_4}^{2} \\cos\\left({\\alpha}\\right)^{2} + {\\delta_\\mu}^{2} {m_S}^{2} {\\mu_I}^{2} {\\varphi_4}^{2} \\cos\\left({\\alpha}\\right)^{2} + 4 \\, {\\delta_\\mu}^{2} {\\bar m}^{2} {\\mu_I} {\\mu_S} {\\varphi_4}^{2} \\cos\\left({\\alpha}\\right)^{2} - {\\Delta m}^{2} {\\delta_\\mu}^{2} {\\mu_I}^{2} {\\varphi_5}^{2} \\cos\\left({\\alpha}\\right)^{2} + {\\delta_\\mu}^{2} {m_S}^{2} {\\mu_I}^{2} {\\varphi_5}^{2} \\cos\\left({\\alpha}\\right)^{2} + 4 \\, {\\delta_\\mu}^{2} {\\bar m}^{2} {\\mu_I} {\\mu_S} {\\varphi_5}^{2} \\cos\\left({\\alpha}\\right)^{2} + {\\Delta m}^{2} {\\delta_\\mu}^{2} {\\mu_I}^{2} {\\varphi_6}^{2} \\cos\\left({\\alpha}\\right)^{2} + {\\delta_\\mu}^{2} {m_S}^{2} {\\mu_I}^{2} {\\varphi_6}^{2} \\cos\\left({\\alpha}\\right)^{2} - 4 \\, {\\delta_\\mu}^{2} {\\bar m}^{2} {\\mu_I} {\\mu_S} {\\varphi_6}^{2} \\cos\\left({\\alpha}\\right)^{2} + {\\Delta m}^{2} {\\delta_\\mu}^{2} {\\mu_I}^{2} {\\varphi_7}^{2} \\cos\\left({\\alpha}\\right)^{2} + {\\delta_\\mu}^{2} {m_S}^{2} {\\mu_I}^{2} {\\varphi_7}^{2} \\cos\\left({\\alpha}\\right)^{2} - 4 \\, {\\delta_\\mu}^{2} {\\bar m}^{2} {\\mu_I} {\\mu_S} {\\varphi_7}^{2} \\cos\\left({\\alpha}\\right)^{2} + \\frac{16}{3} \\, \\sqrt{3} {\\Delta m}^{2} {\\delta_\\mu} {\\partial_\\mu\\varphi_8} {\\mu_I} {\\varphi_2} \\cos\\left({\\alpha}\\right)^{2} \\sin\\left({\\alpha}\\right) + \\frac{8}{3} \\, \\sqrt{3} {\\Delta m}^{2} {\\delta_\\mu} {\\partial_\\mu\\varphi_2} {\\mu_I} {\\varphi_8} \\cos\\left({\\alpha}\\right)^{2} \\sin\\left({\\alpha}\\right) + \\frac{8}{3} \\, \\sqrt{3} {\\Delta m}^{2} {\\delta_\\mu} {\\partial_\\mu\\varphi_8} {\\mu_I} \\cos\\left({\\alpha}\\right)^{2} \\varphi_2\\left(x\\right) \\sin\\left({\\alpha}\\right) + \\frac{8}{3} \\, \\sqrt{3} {\\Delta m}^{2} {\\delta_\\mu} {\\partial_\\mu\\varphi_2} {\\mu_I} \\cos\\left({\\alpha}\\right)^{2} \\varphi_8\\left(x\\right) \\sin\\left({\\alpha}\\right) - 2 \\, {\\delta_\\mu}^{2} {\\bar m}^{2} {\\mu_I}^{2} {\\varphi_1}^{2} \\cos\\left({\\alpha}\\right) - 14 \\, {\\delta_\\mu}^{2} {\\bar m}^{2} {\\mu_I}^{2} {\\varphi_2}^{2} \\cos\\left({\\alpha}\\right) - 6 \\, {\\delta_\\mu}^{2} {\\bar m}^{2} {\\mu_I}^{2} {\\varphi_3}^{2} \\cos\\left({\\alpha}\\right) - \\frac{5}{2} \\, {\\delta_\\mu}^{2} {\\bar m}^{2} {\\mu_I}^{2} {\\varphi_4}^{2} \\cos\\left({\\alpha}\\right) - 2 \\, {\\Delta m}^{2} {\\delta_\\mu}^{2} {\\mu_I} {\\mu_S} {\\varphi_4}^{2} \\cos\\left({\\alpha}\\right) + 2 \\, {\\delta_\\mu}^{2} {m_S}^{2} {\\mu_I} {\\mu_S} {\\varphi_4}^{2} \\cos\\left({\\alpha}\\right) + 2 \\, {\\delta_\\mu}^{2} {\\bar m}^{2} {\\mu_S}^{2} {\\varphi_4}^{2} \\cos\\left({\\alpha}\\right) - \\frac{5}{2} \\, {\\delta_\\mu}^{2} {\\bar m}^{2} {\\mu_I}^{2} {\\varphi_5}^{2} \\cos\\left({\\alpha}\\right) - 2 \\, {\\Delta m}^{2} {\\delta_\\mu}^{2} {\\mu_I} {\\mu_S} {\\varphi_5}^{2} \\cos\\left({\\alpha}\\right) + 2 \\, {\\delta_\\mu}^{2} {m_S}^{2} {\\mu_I} {\\mu_S} {\\varphi_5}^{2} \\cos\\left({\\alpha}\\right) + 2 \\, {\\delta_\\mu}^{2} {\\bar m}^{2} {\\mu_S}^{2} {\\varphi_5}^{2} \\cos\\left({\\alpha}\\right) - \\frac{5}{2} \\, {\\delta_\\mu}^{2} {\\bar m}^{2} {\\mu_I}^{2} {\\varphi_6}^{2} \\cos\\left({\\alpha}\\right) - 2 \\, {\\Delta m}^{2} {\\delta_\\mu}^{2} {\\mu_I} {\\mu_S} {\\varphi_6}^{2} \\cos\\left({\\alpha}\\right) - 2 \\, {\\delta_\\mu}^{2} {m_S}^{2} {\\mu_I} {\\mu_S} {\\varphi_6}^{2} \\cos\\left({\\alpha}\\right) + 2 \\, {\\delta_\\mu}^{2} {\\bar m}^{2} {\\mu_S}^{2} {\\varphi_6}^{2} \\cos\\left({\\alpha}\\right) - \\frac{5}{2} \\, {\\delta_\\mu}^{2} {\\bar m}^{2} {\\mu_I}^{2} {\\varphi_7}^{2} \\cos\\left({\\alpha}\\right) - 2 \\, {\\Delta m}^{2} {\\delta_\\mu}^{2} {\\mu_I} {\\mu_S} {\\varphi_7}^{2} \\cos\\left({\\alpha}\\right) - 2 \\, {\\delta_\\mu}^{2} {m_S}^{2} {\\mu_I} {\\mu_S} {\\varphi_7}^{2} \\cos\\left({\\alpha}\\right) + 2 \\, {\\delta_\\mu}^{2} {\\bar m}^{2} {\\mu_S}^{2} {\\varphi_7}^{2} \\cos\\left({\\alpha}\\right) - \\frac{2}{3} \\, {\\delta_\\mu}^{2} {\\bar m}^{2} {\\mu_I}^{2} {\\varphi_8}^{2} \\cos\\left({\\alpha}\\right) - 16 i \\, {\\Delta m}^{2} {\\delta_\\mu} {\\partial_\\mu\\varphi_2} {\\mu_I} {\\varphi_2} \\cos\\left({\\alpha}\\right)^{3} - \\frac{8}{3} i \\, {\\Delta m}^{2} {\\delta_\\mu} {\\partial_\\mu\\varphi_8} {\\mu_I} {\\varphi_8} \\cos\\left({\\alpha}\\right)^{3} - 8 i \\, {\\Delta m}^{2} {\\delta_\\mu} {\\partial_\\mu\\varphi_1} {\\mu_I} \\cos\\left({\\alpha}\\right)^{3} \\varphi_1\\left(x\\right) - 8 i \\, {\\Delta m}^{2} {\\delta_\\mu} {\\partial_\\mu\\varphi_2} {\\mu_I} \\cos\\left({\\alpha}\\right)^{3} \\varphi_2\\left(x\\right) - 8 i \\, {\\Delta m}^{2} {\\delta_\\mu} {\\partial_\\mu\\varphi_3} {\\mu_I} \\cos\\left({\\alpha}\\right)^{3} \\varphi_3\\left(x\\right) - 4 i \\, {\\Delta m}^{2} {\\delta_\\mu} {\\partial_\\mu\\varphi_4} {\\mu_I} \\cos\\left({\\alpha}\\right)^{3} \\varphi_4\\left(x\\right) - 4 i \\, {\\Delta m}^{2} {\\delta_\\mu} {\\partial_\\mu\\varphi_5} {\\mu_I} \\cos\\left({\\alpha}\\right)^{3} \\varphi_5\\left(x\\right) - 4 i \\, {\\Delta m}^{2} {\\delta_\\mu} {\\partial_\\mu\\varphi_6} {\\mu_I} \\cos\\left({\\alpha}\\right)^{3} \\varphi_6\\left(x\\right) - 4 i \\, {\\Delta m}^{2} {\\delta_\\mu} {\\partial_\\mu\\varphi_7} {\\mu_I} \\cos\\left({\\alpha}\\right)^{3} \\varphi_7\\left(x\\right) - \\frac{8}{3} i \\, {\\Delta m}^{2} {\\delta_\\mu} {\\partial_\\mu\\varphi_8} {\\mu_I} \\cos\\left({\\alpha}\\right)^{3} \\varphi_8\\left(x\\right) - 4 \\, {\\Delta m}^{2} {\\delta_\\mu} {\\partial_\\mu\\varphi_7} {\\mu_I} \\cos\\left({\\alpha}\\right)^{2} \\varphi_4\\left(x\\right) \\sin\\left({\\alpha}\\right) + 4 \\, {\\Delta m}^{2} {\\delta_\\mu} {\\partial_\\mu\\varphi_6} {\\mu_I} \\cos\\left({\\alpha}\\right)^{2} \\varphi_5\\left(x\\right) \\sin\\left({\\alpha}\\right) + 4 \\, {\\Delta m}^{2} {\\delta_\\mu} {\\partial_\\mu\\varphi_5} {\\mu_I} \\cos\\left({\\alpha}\\right)^{2} \\varphi_6\\left(x\\right) \\sin\\left({\\alpha}\\right) - 4 \\, {\\Delta m}^{2} {\\delta_\\mu} {\\partial_\\mu\\varphi_4} {\\mu_I} \\cos\\left({\\alpha}\\right)^{2} \\varphi_7\\left(x\\right) \\sin\\left({\\alpha}\\right) + \\frac{4}{3} \\, \\sqrt{3} {\\Delta m}^{2} {\\delta_\\mu}^{2} {\\mu_I}^{2} {\\varphi_3} {\\varphi_8} - \\frac{8}{3} i \\, \\sqrt{3} {\\delta_\\mu} {\\partial_\\mu\\varphi_3} {\\bar m}^{2} {\\mu_I} {\\varphi_8} \\cos\\left({\\alpha}\\right)^{2} + \\frac{8}{3} i \\, \\sqrt{3} {\\delta_\\mu} {\\partial_\\mu\\varphi_1} {\\bar m}^{2} {\\mu_I} {\\varphi_8} \\cos\\left({\\alpha}\\right) \\sin\\left({\\alpha}\\right) + \\frac{1}{2} \\, {\\Delta m}^{2} {\\delta_\\mu}^{2} {\\mu_I}^{2} {\\varphi_4}^{2} - \\frac{1}{2} \\, {\\delta_\\mu}^{2} {m_S}^{2} {\\mu_I}^{2} {\\varphi_4}^{2} - 2 \\, {\\delta_\\mu}^{2} {\\bar m}^{2} {\\mu_I} {\\mu_S} {\\varphi_4}^{2} - 2 \\, {\\Delta m}^{2} {\\delta_\\mu}^{2} {\\mu_S}^{2} {\\varphi_4}^{2} + 2 \\, {\\delta_\\mu}^{2} {m_S}^{2} {\\mu_S}^{2} {\\varphi_4}^{2} + \\frac{1}{2} \\, {\\Delta m}^{2} {\\delta_\\mu}^{2} {\\mu_I}^{2} {\\varphi_5}^{2} - \\frac{1}{2} \\, {\\delta_\\mu}^{2} {m_S}^{2} {\\mu_I}^{2} {\\varphi_5}^{2} - 2 \\, {\\delta_\\mu}^{2} {\\bar m}^{2} {\\mu_I} {\\mu_S} {\\varphi_5}^{2} - 2 \\, {\\Delta m}^{2} {\\delta_\\mu}^{2} {\\mu_S}^{2} {\\varphi_5}^{2} + 2 \\, {\\delta_\\mu}^{2} {m_S}^{2} {\\mu_S}^{2} {\\varphi_5}^{2} - \\frac{1}{2} \\, {\\Delta m}^{2} {\\delta_\\mu}^{2} {\\mu_I}^{2} {\\varphi_6}^{2} - \\frac{1}{2} \\, {\\delta_\\mu}^{2} {m_S}^{2} {\\mu_I}^{2} {\\varphi_6}^{2} + 2 \\, {\\delta_\\mu}^{2} {\\bar m}^{2} {\\mu_I} {\\mu_S} {\\varphi_6}^{2} + 2 \\, {\\Delta m}^{2} {\\delta_\\mu}^{2} {\\mu_S}^{2} {\\varphi_6}^{2} + 2 \\, {\\delta_\\mu}^{2} {m_S}^{2} {\\mu_S}^{2} {\\varphi_6}^{2} - \\frac{1}{2} \\, {\\Delta m}^{2} {\\delta_\\mu}^{2} {\\mu_I}^{2} {\\varphi_7}^{2} - \\frac{1}{2} \\, {\\delta_\\mu}^{2} {m_S}^{2} {\\mu_I}^{2} {\\varphi_7}^{2} + 2 \\, {\\delta_\\mu}^{2} {\\bar m}^{2} {\\mu_I} {\\mu_S} {\\varphi_7}^{2} + 2 \\, {\\Delta m}^{2} {\\delta_\\mu}^{2} {\\mu_S}^{2} {\\varphi_7}^{2} + 2 \\, {\\delta_\\mu}^{2} {m_S}^{2} {\\mu_S}^{2} {\\varphi_7}^{2} - 3 i \\, {\\Delta m}^{2} {\\delta_\\mu} {\\partial_\\mu\\varphi_4} {\\mu_I} {\\varphi_4} \\cos\\left({\\alpha}\\right)^{2} + {\\Delta m}^{2} {\\delta_\\mu} {\\partial_\\mu\\varphi_5} {\\mu_I} {\\varphi_4} \\cos\\left({\\alpha}\\right)^{2} - i \\, {\\delta_\\mu} {\\partial_\\mu\\varphi_4} {m_S}^{2} {\\mu_I} {\\varphi_4} \\cos\\left({\\alpha}\\right)^{2} - {\\delta_\\mu} {\\partial_\\mu\\varphi_5} {m_S}^{2} {\\mu_I} {\\varphi_4} \\cos\\left({\\alpha}\\right)^{2} + 2 \\, {\\delta_\\mu} {\\partial_\\mu\\varphi_5} {\\bar m}^{2} {\\mu_I} {\\varphi_4} \\cos\\left({\\alpha}\\right)^{2} + 2 i \\, {\\delta_\\mu} {\\partial_\\mu\\varphi_4} {\\bar m}^{2} {\\mu_S} {\\varphi_4} \\cos\\left({\\alpha}\\right)^{2} - 2 \\, {\\delta_\\mu} {\\partial_\\mu\\varphi_5} {\\bar m}^{2} {\\mu_S} {\\varphi_4} \\cos\\left({\\alpha}\\right)^{2} - {\\Delta m}^{2} {\\delta_\\mu} {\\partial_\\mu\\varphi_4} {\\mu_I} {\\varphi_5} \\cos\\left({\\alpha}\\right)^{2} - 3 i \\, {\\Delta m}^{2} {\\delta_\\mu} {\\partial_\\mu\\varphi_5} {\\mu_I} {\\varphi_5} \\cos\\left({\\alpha}\\right)^{2} + {\\delta_\\mu} {\\partial_\\mu\\varphi_4} {m_S}^{2} {\\mu_I} {\\varphi_5} \\cos\\left({\\alpha}\\right)^{2} - i \\, {\\delta_\\mu} {\\partial_\\mu\\varphi_5} {m_S}^{2} {\\mu_I} {\\varphi_5} \\cos\\left({\\alpha}\\right)^{2} - 2 \\, {\\delta_\\mu} {\\partial_\\mu\\varphi_4} {\\bar m}^{2} {\\mu_I} {\\varphi_5} \\cos\\left({\\alpha}\\right)^{2} + 2 \\, {\\delta_\\mu} {\\partial_\\mu\\varphi_4} {\\bar m}^{2} {\\mu_S} {\\varphi_5} \\cos\\left({\\alpha}\\right)^{2} + 2 i \\, {\\delta_\\mu} {\\partial_\\mu\\varphi_5} {\\bar m}^{2} {\\mu_S} {\\varphi_5} \\cos\\left({\\alpha}\\right)^{2} - 3 i \\, {\\Delta m}^{2} {\\delta_\\mu} {\\partial_\\mu\\varphi_6} {\\mu_I} {\\varphi_6} \\cos\\left({\\alpha}\\right)^{2} + {\\Delta m}^{2} {\\delta_\\mu} {\\partial_\\mu\\varphi_7} {\\mu_I} {\\varphi_6} \\cos\\left({\\alpha}\\right)^{2} + i \\, {\\delta_\\mu} {\\partial_\\mu\\varphi_6} {m_S}^{2} {\\mu_I} {\\varphi_6} \\cos\\left({\\alpha}\\right)^{2} + {\\delta_\\mu} {\\partial_\\mu\\varphi_7} {m_S}^{2} {\\mu_I} {\\varphi_6} \\cos\\left({\\alpha}\\right)^{2} - 2 \\, {\\delta_\\mu} {\\partial_\\mu\\varphi_7} {\\bar m}^{2} {\\mu_I} {\\varphi_6} \\cos\\left({\\alpha}\\right)^{2} + 2 i \\, {\\delta_\\mu} {\\partial_\\mu\\varphi_6} {\\bar m}^{2} {\\mu_S} {\\varphi_6} \\cos\\left({\\alpha}\\right)^{2} - 2 \\, {\\delta_\\mu} {\\partial_\\mu\\varphi_7} {\\bar m}^{2} {\\mu_S} {\\varphi_6} \\cos\\left({\\alpha}\\right)^{2} - {\\Delta m}^{2} {\\delta_\\mu} {\\partial_\\mu\\varphi_6} {\\mu_I} {\\varphi_7} \\cos\\left({\\alpha}\\right)^{2} - 3 i \\, {\\Delta m}^{2} {\\delta_\\mu} {\\partial_\\mu\\varphi_7} {\\mu_I} {\\varphi_7} \\cos\\left({\\alpha}\\right)^{2} - {\\delta_\\mu} {\\partial_\\mu\\varphi_6} {m_S}^{2} {\\mu_I} {\\varphi_7} \\cos\\left({\\alpha}\\right)^{2} + i \\, {\\delta_\\mu} {\\partial_\\mu\\varphi_7} {m_S}^{2} {\\mu_I} {\\varphi_7} \\cos\\left({\\alpha}\\right)^{2} + 2 \\, {\\delta_\\mu} {\\partial_\\mu\\varphi_6} {\\bar m}^{2} {\\mu_I} {\\varphi_7} \\cos\\left({\\alpha}\\right)^{2} + 2 \\, {\\delta_\\mu} {\\partial_\\mu\\varphi_6} {\\bar m}^{2} {\\mu_S} {\\varphi_7} \\cos\\left({\\alpha}\\right)^{2} + 2 i \\, {\\delta_\\mu} {\\partial_\\mu\\varphi_7} {\\bar m}^{2} {\\mu_S} {\\varphi_7} \\cos\\left({\\alpha}\\right)^{2} + i \\, {\\Delta m}^{2} {\\delta_\\mu} {\\partial_\\mu\\varphi_6} {\\mu_I} {\\varphi_4} \\cos\\left({\\alpha}\\right) \\sin\\left({\\alpha}\\right) - 3 \\, {\\Delta m}^{2} {\\delta_\\mu} {\\partial_\\mu\\varphi_7} {\\mu_I} {\\varphi_4} \\cos\\left({\\alpha}\\right) \\sin\\left({\\alpha}\\right) - i \\, {\\delta_\\mu} {\\partial_\\mu\\varphi_6} {m_S}^{2} {\\mu_I} {\\varphi_4} \\cos\\left({\\alpha}\\right) \\sin\\left({\\alpha}\\right) - {\\delta_\\mu} {\\partial_\\mu\\varphi_7} {m_S}^{2} {\\mu_I} {\\varphi_4} \\cos\\left({\\alpha}\\right) \\sin\\left({\\alpha}\\right) + 2 i \\, {\\delta_\\mu} {\\partial_\\mu\\varphi_6} {\\bar m}^{2} {\\mu_I} {\\varphi_4} \\cos\\left({\\alpha}\\right) \\sin\\left({\\alpha}\\right) - 2 i \\, {\\delta_\\mu} {\\partial_\\mu\\varphi_6} {\\bar m}^{2} {\\mu_S} {\\varphi_4} \\cos\\left({\\alpha}\\right) \\sin\\left({\\alpha}\\right) + 2 \\, {\\delta_\\mu} {\\partial_\\mu\\varphi_7} {\\bar m}^{2} {\\mu_S} {\\varphi_4} \\cos\\left({\\alpha}\\right) \\sin\\left({\\alpha}\\right) + 3 \\, {\\Delta m}^{2} {\\delta_\\mu} {\\partial_\\mu\\varphi_6} {\\mu_I} {\\varphi_5} \\cos\\left({\\alpha}\\right) \\sin\\left({\\alpha}\\right) + i \\, {\\Delta m}^{2} {\\delta_\\mu} {\\partial_\\mu\\varphi_7} {\\mu_I} {\\varphi_5} \\cos\\left({\\alpha}\\right) \\sin\\left({\\alpha}\\right) + {\\delta_\\mu} {\\partial_\\mu\\varphi_6} {m_S}^{2} {\\mu_I} {\\varphi_5} \\cos\\left({\\alpha}\\right) \\sin\\left({\\alpha}\\right) - i \\, {\\delta_\\mu} {\\partial_\\mu\\varphi_7} {m_S}^{2} {\\mu_I} {\\varphi_5} \\cos\\left({\\alpha}\\right) \\sin\\left({\\alpha}\\right) + 2 i \\, {\\delta_\\mu} {\\partial_\\mu\\varphi_7} {\\bar m}^{2} {\\mu_I} {\\varphi_5} \\cos\\left({\\alpha}\\right) \\sin\\left({\\alpha}\\right) - 2 \\, {\\delta_\\mu} {\\partial_\\mu\\varphi_6} {\\bar m}^{2} {\\mu_S} {\\varphi_5} \\cos\\left({\\alpha}\\right) \\sin\\left({\\alpha}\\right) - 2 i \\, {\\delta_\\mu} {\\partial_\\mu\\varphi_7} {\\bar m}^{2} {\\mu_S} {\\varphi_5} \\cos\\left({\\alpha}\\right) \\sin\\left({\\alpha}\\right) - i \\, {\\Delta m}^{2} {\\delta_\\mu} {\\partial_\\mu\\varphi_4} {\\mu_I} {\\varphi_6} \\cos\\left({\\alpha}\\right) \\sin\\left({\\alpha}\\right) + 3 \\, {\\Delta m}^{2} {\\delta_\\mu} {\\partial_\\mu\\varphi_5} {\\mu_I} {\\varphi_6} \\cos\\left({\\alpha}\\right) \\sin\\left({\\alpha}\\right) - i \\, {\\delta_\\mu} {\\partial_\\mu\\varphi_4} {m_S}^{2} {\\mu_I} {\\varphi_6} \\cos\\left({\\alpha}\\right) \\sin\\left({\\alpha}\\right) - {\\delta_\\mu} {\\partial_\\mu\\varphi_5} {m_S}^{2} {\\mu_I} {\\varphi_6} \\cos\\left({\\alpha}\\right) \\sin\\left({\\alpha}\\right) + 2 i \\, {\\delta_\\mu} {\\partial_\\mu\\varphi_4} {\\bar m}^{2} {\\mu_I} {\\varphi_6} \\cos\\left({\\alpha}\\right) \\sin\\left({\\alpha}\\right) + 2 i \\, {\\delta_\\mu} {\\partial_\\mu\\varphi_4} {\\bar m}^{2} {\\mu_S} {\\varphi_6} \\cos\\left({\\alpha}\\right) \\sin\\left({\\alpha}\\right) - 2 \\, {\\delta_\\mu} {\\partial_\\mu\\varphi_5} {\\bar m}^{2} {\\mu_S} {\\varphi_6} \\cos\\left({\\alpha}\\right) \\sin\\left({\\alpha}\\right) - 3 \\, {\\Delta m}^{2} {\\delta_\\mu} {\\partial_\\mu\\varphi_4} {\\mu_I} {\\varphi_7} \\cos\\left({\\alpha}\\right) \\sin\\left({\\alpha}\\right) - i \\, {\\Delta m}^{2} {\\delta_\\mu} {\\partial_\\mu\\varphi_5} {\\mu_I} {\\varphi_7} \\cos\\left({\\alpha}\\right) \\sin\\left({\\alpha}\\right) + {\\delta_\\mu} {\\partial_\\mu\\varphi_4} {m_S}^{2} {\\mu_I} {\\varphi_7} \\cos\\left({\\alpha}\\right) \\sin\\left({\\alpha}\\right) - i \\, {\\delta_\\mu} {\\partial_\\mu\\varphi_5} {m_S}^{2} {\\mu_I} {\\varphi_7} \\cos\\left({\\alpha}\\right) \\sin\\left({\\alpha}\\right) + 2 i \\, {\\delta_\\mu} {\\partial_\\mu\\varphi_5} {\\bar m}^{2} {\\mu_I} {\\varphi_7} \\cos\\left({\\alpha}\\right) \\sin\\left({\\alpha}\\right) + 2 \\, {\\delta_\\mu} {\\partial_\\mu\\varphi_4} {\\bar m}^{2} {\\mu_S} {\\varphi_7} \\cos\\left({\\alpha}\\right) \\sin\\left({\\alpha}\\right) + 2 i \\, {\\delta_\\mu} {\\partial_\\mu\\varphi_5} {\\bar m}^{2} {\\mu_S} {\\varphi_7} \\cos\\left({\\alpha}\\right) \\sin\\left({\\alpha}\\right) - \\frac{8}{3} \\, \\sqrt{3} {\\Delta m}^{2} {\\delta_\\mu} {\\partial_\\mu\\varphi_8} {\\mu_I} {\\varphi_2} \\sin\\left({\\alpha}\\right) - \\frac{8}{3} \\, \\sqrt{3} {\\Delta m}^{2} {\\delta_\\mu} {\\partial_\\mu\\varphi_2} {\\mu_I} {\\varphi_8} \\sin\\left({\\alpha}\\right) - 8 i \\, {\\Delta m}^{2} {\\delta_\\mu} {\\partial_\\mu\\varphi_1} {\\mu_I} {\\varphi_1} \\cos\\left({\\alpha}\\right) + 8 i \\, {\\Delta m}^{2} {\\delta_\\mu} {\\partial_\\mu\\varphi_2} {\\mu_I} {\\varphi_2} \\cos\\left({\\alpha}\\right) - i \\, {\\Delta m}^{2} {\\delta_\\mu} {\\partial_\\mu\\varphi_4} {\\mu_I} {\\varphi_4} \\cos\\left({\\alpha}\\right) - {\\Delta m}^{2} {\\delta_\\mu} {\\partial_\\mu\\varphi_5} {\\mu_I} {\\varphi_4} \\cos\\left({\\alpha}\\right) - i \\, {\\delta_\\mu} {\\partial_\\mu\\varphi_4} {m_S}^{2} {\\mu_I} {\\varphi_4} \\cos\\left({\\alpha}\\right) + {\\delta_\\mu} {\\partial_\\mu\\varphi_5} {m_S}^{2} {\\mu_I} {\\varphi_4} \\cos\\left({\\alpha}\\right) + i \\, {\\delta_\\mu} {\\partial_\\mu\\varphi_4} {\\bar m}^{2} {\\mu_I} {\\varphi_4} \\cos\\left({\\alpha}\\right) - {\\delta_\\mu} {\\partial_\\mu\\varphi_5} {\\bar m}^{2} {\\mu_I} {\\varphi_4} \\cos\\left({\\alpha}\\right) - 2 i \\, {\\Delta m}^{2} {\\delta_\\mu} {\\partial_\\mu\\varphi_4} {\\mu_S} {\\varphi_4} \\cos\\left({\\alpha}\\right) + 2 \\, {\\Delta m}^{2} {\\delta_\\mu} {\\partial_\\mu\\varphi_5} {\\mu_S} {\\varphi_4} \\cos\\left({\\alpha}\\right) - 2 i \\, {\\delta_\\mu} {\\partial_\\mu\\varphi_4} {m_S}^{2} {\\mu_S} {\\varphi_4} \\cos\\left({\\alpha}\\right) - 2 \\, {\\delta_\\mu} {\\partial_\\mu\\varphi_5} {m_S}^{2} {\\mu_S} {\\varphi_4} \\cos\\left({\\alpha}\\right) + 2 i \\, {\\delta_\\mu} {\\partial_\\mu\\varphi_4} {\\bar m}^{2} {\\mu_S} {\\varphi_4} \\cos\\left({\\alpha}\\right) + 2 \\, {\\delta_\\mu} {\\partial_\\mu\\varphi_5} {\\bar m}^{2} {\\mu_S} {\\varphi_4} \\cos\\left({\\alpha}\\right) + {\\Delta m}^{2} {\\delta_\\mu} {\\partial_\\mu\\varphi_4} {\\mu_I} {\\varphi_5} \\cos\\left({\\alpha}\\right) - i \\, {\\Delta m}^{2} {\\delta_\\mu} {\\partial_\\mu\\varphi_5} {\\mu_I} {\\varphi_5} \\cos\\left({\\alpha}\\right) - {\\delta_\\mu} {\\partial_\\mu\\varphi_4} {m_S}^{2} {\\mu_I} {\\varphi_5} \\cos\\left({\\alpha}\\right) - i \\, {\\delta_\\mu} {\\partial_\\mu\\varphi_5} {m_S}^{2} {\\mu_I} {\\varphi_5} \\cos\\left({\\alpha}\\right) + {\\delta_\\mu} {\\partial_\\mu\\varphi_4} {\\bar m}^{2} {\\mu_I} {\\varphi_5} \\cos\\left({\\alpha}\\right) + i \\, {\\delta_\\mu} {\\partial_\\mu\\varphi_5} {\\bar m}^{2} {\\mu_I} {\\varphi_5} \\cos\\left({\\alpha}\\right) - 2 \\, {\\Delta m}^{2} {\\delta_\\mu} {\\partial_\\mu\\varphi_4} {\\mu_S} {\\varphi_5} \\cos\\left({\\alpha}\\right) - 2 i \\, {\\Delta m}^{2} {\\delta_\\mu} {\\partial_\\mu\\varphi_5} {\\mu_S} {\\varphi_5} \\cos\\left({\\alpha}\\right) + 2 \\, {\\delta_\\mu} {\\partial_\\mu\\varphi_4} {m_S}^{2} {\\mu_S} {\\varphi_5} \\cos\\left({\\alpha}\\right) - 2 i \\, {\\delta_\\mu} {\\partial_\\mu\\varphi_5} {m_S}^{2} {\\mu_S} {\\varphi_5} \\cos\\left({\\alpha}\\right) - 2 \\, {\\delta_\\mu} {\\partial_\\mu\\varphi_4} {\\bar m}^{2} {\\mu_S} {\\varphi_5} \\cos\\left({\\alpha}\\right) + 2 i \\, {\\delta_\\mu} {\\partial_\\mu\\varphi_5} {\\bar m}^{2} {\\mu_S} {\\varphi_5} \\cos\\left({\\alpha}\\right) - i \\, {\\Delta m}^{2} {\\delta_\\mu} {\\partial_\\mu\\varphi_6} {\\mu_I} {\\varphi_6} \\cos\\left({\\alpha}\\right) - {\\Delta m}^{2} {\\delta_\\mu} {\\partial_\\mu\\varphi_7} {\\mu_I} {\\varphi_6} \\cos\\left({\\alpha}\\right) + i \\, {\\delta_\\mu} {\\partial_\\mu\\varphi_6} {m_S}^{2} {\\mu_I} {\\varphi_6} \\cos\\left({\\alpha}\\right) - {\\delta_\\mu} {\\partial_\\mu\\varphi_7} {m_S}^{2} {\\mu_I} {\\varphi_6} \\cos\\left({\\alpha}\\right) - i \\, {\\delta_\\mu} {\\partial_\\mu\\varphi_6} {\\bar m}^{2} {\\mu_I} {\\varphi_6} \\cos\\left({\\alpha}\\right) + {\\delta_\\mu} {\\partial_\\mu\\varphi_7} {\\bar m}^{2} {\\mu_I} {\\varphi_6} \\cos\\left({\\alpha}\\right) + 2 i \\, {\\Delta m}^{2} {\\delta_\\mu} {\\partial_\\mu\\varphi_6} {\\mu_S} {\\varphi_6} \\cos\\left({\\alpha}\\right) - 2 \\, {\\Delta m}^{2} {\\delta_\\mu} {\\partial_\\mu\\varphi_7} {\\mu_S} {\\varphi_6} \\cos\\left({\\alpha}\\right) - 2 i \\, {\\delta_\\mu} {\\partial_\\mu\\varphi_6} {m_S}^{2} {\\mu_S} {\\varphi_6} \\cos\\left({\\alpha}\\right) - 2 \\, {\\delta_\\mu} {\\partial_\\mu\\varphi_7} {m_S}^{2} {\\mu_S} {\\varphi_6} \\cos\\left({\\alpha}\\right) + 2 i \\, {\\delta_\\mu} {\\partial_\\mu\\varphi_6} {\\bar m}^{2} {\\mu_S} {\\varphi_6} \\cos\\left({\\alpha}\\right) + 2 \\, {\\delta_\\mu} {\\partial_\\mu\\varphi_7} {\\bar m}^{2} {\\mu_S} {\\varphi_6} \\cos\\left({\\alpha}\\right) + {\\Delta m}^{2} {\\delta_\\mu} {\\partial_\\mu\\varphi_6} {\\mu_I} {\\varphi_7} \\cos\\left({\\alpha}\\right) - i \\, {\\Delta m}^{2} {\\delta_\\mu} {\\partial_\\mu\\varphi_7} {\\mu_I} {\\varphi_7} \\cos\\left({\\alpha}\\right) + {\\delta_\\mu} {\\partial_\\mu\\varphi_6} {m_S}^{2} {\\mu_I} {\\varphi_7} \\cos\\left({\\alpha}\\right) + i \\, {\\delta_\\mu} {\\partial_\\mu\\varphi_7} {m_S}^{2} {\\mu_I} {\\varphi_7} \\cos\\left({\\alpha}\\right) - {\\delta_\\mu} {\\partial_\\mu\\varphi_6} {\\bar m}^{2} {\\mu_I} {\\varphi_7} \\cos\\left({\\alpha}\\right) - i \\, {\\delta_\\mu} {\\partial_\\mu\\varphi_7} {\\bar m}^{2} {\\mu_I} {\\varphi_7} \\cos\\left({\\alpha}\\right) + 2 \\, {\\Delta m}^{2} {\\delta_\\mu} {\\partial_\\mu\\varphi_6} {\\mu_S} {\\varphi_7} \\cos\\left({\\alpha}\\right) + 2 i \\, {\\Delta m}^{2} {\\delta_\\mu} {\\partial_\\mu\\varphi_7} {\\mu_S} {\\varphi_7} \\cos\\left({\\alpha}\\right) + 2 \\, {\\delta_\\mu} {\\partial_\\mu\\varphi_6} {m_S}^{2} {\\mu_S} {\\varphi_7} \\cos\\left({\\alpha}\\right) - 2 i \\, {\\delta_\\mu} {\\partial_\\mu\\varphi_7} {m_S}^{2} {\\mu_S} {\\varphi_7} \\cos\\left({\\alpha}\\right) - 2 \\, {\\delta_\\mu} {\\partial_\\mu\\varphi_6} {\\bar m}^{2} {\\mu_S} {\\varphi_7} \\cos\\left({\\alpha}\\right) + 2 i \\, {\\delta_\\mu} {\\partial_\\mu\\varphi_7} {\\bar m}^{2} {\\mu_S} {\\varphi_7} \\cos\\left({\\alpha}\\right) + \\frac{8}{3} i \\, {\\Delta m}^{2} {\\delta_\\mu} {\\partial_\\mu\\varphi_8} {\\mu_I} {\\varphi_8} \\cos\\left({\\alpha}\\right) + 8 i \\, {\\Delta m}^{2} {\\delta_\\mu} {\\partial_\\mu\\varphi_1} {\\mu_I} \\cos\\left({\\alpha}\\right) \\varphi_1\\left(x\\right) + 8 i \\, {\\Delta m}^{2} {\\delta_\\mu} {\\partial_\\mu\\varphi_2} {\\mu_I} \\cos\\left({\\alpha}\\right) \\varphi_2\\left(x\\right) + 8 i \\, {\\Delta m}^{2} {\\delta_\\mu} {\\partial_\\mu\\varphi_3} {\\mu_I} \\cos\\left({\\alpha}\\right) \\varphi_3\\left(x\\right) + 4 i \\, {\\Delta m}^{2} {\\delta_\\mu} {\\partial_\\mu\\varphi_4} {\\mu_I} \\cos\\left({\\alpha}\\right) \\varphi_4\\left(x\\right) + 4 i \\, {\\Delta m}^{2} {\\delta_\\mu} {\\partial_\\mu\\varphi_5} {\\mu_I} \\cos\\left({\\alpha}\\right) \\varphi_5\\left(x\\right) + 4 i \\, {\\Delta m}^{2} {\\delta_\\mu} {\\partial_\\mu\\varphi_6} {\\mu_I} \\cos\\left({\\alpha}\\right) \\varphi_6\\left(x\\right) + 4 i \\, {\\Delta m}^{2} {\\delta_\\mu} {\\partial_\\mu\\varphi_7} {\\mu_I} \\cos\\left({\\alpha}\\right) \\varphi_7\\left(x\\right) + \\frac{8}{3} i \\, {\\Delta m}^{2} {\\delta_\\mu} {\\partial_\\mu\\varphi_8} {\\mu_I} \\cos\\left({\\alpha}\\right) \\varphi_8\\left(x\\right) + 2 \\, {\\Delta m}^{2} {\\delta_\\mu} {\\partial_\\mu\\varphi_7} {\\mu_I} {\\varphi_4} \\sin\\left({\\alpha}\\right) + i \\, {\\delta_\\mu} {\\partial_\\mu\\varphi_6} {\\bar m}^{2} {\\mu_I} {\\varphi_4} \\sin\\left({\\alpha}\\right) + {\\delta_\\mu} {\\partial_\\mu\\varphi_7} {\\bar m}^{2} {\\mu_I} {\\varphi_4} \\sin\\left({\\alpha}\\right) + 2 i \\, {\\Delta m}^{2} {\\delta_\\mu} {\\partial_\\mu\\varphi_6} {\\mu_S} {\\varphi_4} \\sin\\left({\\alpha}\\right) - 2 \\, {\\Delta m}^{2} {\\delta_\\mu} {\\partial_\\mu\\varphi_7} {\\mu_S} {\\varphi_4} \\sin\\left({\\alpha}\\right) - 2 i \\, {\\delta_\\mu} {\\partial_\\mu\\varphi_6} {m_S}^{2} {\\mu_S} {\\varphi_4} \\sin\\left({\\alpha}\\right) - 2 \\, {\\delta_\\mu} {\\partial_\\mu\\varphi_7} {m_S}^{2} {\\mu_S} {\\varphi_4} \\sin\\left({\\alpha}\\right) - 2 \\, {\\Delta m}^{2} {\\delta_\\mu} {\\partial_\\mu\\varphi_6} {\\mu_I} {\\varphi_5} \\sin\\left({\\alpha}\\right) - {\\delta_\\mu} {\\partial_\\mu\\varphi_6} {\\bar m}^{2} {\\mu_I} {\\varphi_5} \\sin\\left({\\alpha}\\right) + i \\, {\\delta_\\mu} {\\partial_\\mu\\varphi_7} {\\bar m}^{2} {\\mu_I} {\\varphi_5} \\sin\\left({\\alpha}\\right) + 2 \\, {\\Delta m}^{2} {\\delta_\\mu} {\\partial_\\mu\\varphi_6} {\\mu_S} {\\varphi_5} \\sin\\left({\\alpha}\\right) + 2 i \\, {\\Delta m}^{2} {\\delta_\\mu} {\\partial_\\mu\\varphi_7} {\\mu_S} {\\varphi_5} \\sin\\left({\\alpha}\\right) + 2 \\, {\\delta_\\mu} {\\partial_\\mu\\varphi_6} {m_S}^{2} {\\mu_S} {\\varphi_5} \\sin\\left({\\alpha}\\right) - 2 i \\, {\\delta_\\mu} {\\partial_\\mu\\varphi_7} {m_S}^{2} {\\mu_S} {\\varphi_5} \\sin\\left({\\alpha}\\right) - 2 \\, {\\Delta m}^{2} {\\delta_\\mu} {\\partial_\\mu\\varphi_5} {\\mu_I} {\\varphi_6} \\sin\\left({\\alpha}\\right) + i \\, {\\delta_\\mu} {\\partial_\\mu\\varphi_4} {\\bar m}^{2} {\\mu_I} {\\varphi_6} \\sin\\left({\\alpha}\\right) + {\\delta_\\mu} {\\partial_\\mu\\varphi_5} {\\bar m}^{2} {\\mu_I} {\\varphi_6} \\sin\\left({\\alpha}\\right) + 2 i \\, {\\Delta m}^{2} {\\delta_\\mu} {\\partial_\\mu\\varphi_4} {\\mu_S} {\\varphi_6} \\sin\\left({\\alpha}\\right) - 2 \\, {\\Delta m}^{2} {\\delta_\\mu} {\\partial_\\mu\\varphi_5} {\\mu_S} {\\varphi_6} \\sin\\left({\\alpha}\\right) + 2 i \\, {\\delta_\\mu} {\\partial_\\mu\\varphi_4} {m_S}^{2} {\\mu_S} {\\varphi_6} \\sin\\left({\\alpha}\\right) + 2 \\, {\\delta_\\mu} {\\partial_\\mu\\varphi_5} {m_S}^{2} {\\mu_S} {\\varphi_6} \\sin\\left({\\alpha}\\right) + 2 \\, {\\Delta m}^{2} {\\delta_\\mu} {\\partial_\\mu\\varphi_4} {\\mu_I} {\\varphi_7} \\sin\\left({\\alpha}\\right) - {\\delta_\\mu} {\\partial_\\mu\\varphi_4} {\\bar m}^{2} {\\mu_I} {\\varphi_7} \\sin\\left({\\alpha}\\right) + i \\, {\\delta_\\mu} {\\partial_\\mu\\varphi_5} {\\bar m}^{2} {\\mu_I} {\\varphi_7} \\sin\\left({\\alpha}\\right) + 2 \\, {\\Delta m}^{2} {\\delta_\\mu} {\\partial_\\mu\\varphi_4} {\\mu_S} {\\varphi_7} \\sin\\left({\\alpha}\\right) + 2 i \\, {\\Delta m}^{2} {\\delta_\\mu} {\\partial_\\mu\\varphi_5} {\\mu_S} {\\varphi_7} \\sin\\left({\\alpha}\\right) - 2 \\, {\\delta_\\mu} {\\partial_\\mu\\varphi_4} {m_S}^{2} {\\mu_S} {\\varphi_7} \\sin\\left({\\alpha}\\right) + 2 i \\, {\\delta_\\mu} {\\partial_\\mu\\varphi_5} {m_S}^{2} {\\mu_S} {\\varphi_7} \\sin\\left({\\alpha}\\right) + \\frac{8}{3} i \\, \\sqrt{3} {\\delta_\\mu} {\\partial_\\mu\\varphi_3} {\\bar m}^{2} {\\mu_I} {\\varphi_8} + 2 i \\, {\\Delta m}^{2} {\\delta_\\mu} {\\partial_\\mu\\varphi_4} {\\mu_I} {\\varphi_4} + i \\, {\\delta_\\mu} {\\partial_\\mu\\varphi_4} {\\bar m}^{2} {\\mu_I} {\\varphi_4} - {\\delta_\\mu} {\\partial_\\mu\\varphi_5} {\\bar m}^{2} {\\mu_I} {\\varphi_4} - 2 i \\, {\\Delta m}^{2} {\\delta_\\mu} {\\partial_\\mu\\varphi_4} {\\mu_S} {\\varphi_4} - 2 \\, {\\Delta m}^{2} {\\delta_\\mu} {\\partial_\\mu\\varphi_5} {\\mu_S} {\\varphi_4} - 2 i \\, {\\delta_\\mu} {\\partial_\\mu\\varphi_4} {m_S}^{2} {\\mu_S} {\\varphi_4} + 2 \\, {\\delta_\\mu} {\\partial_\\mu\\varphi_5} {m_S}^{2} {\\mu_S} {\\varphi_4} + 2 i \\, {\\Delta m}^{2} {\\delta_\\mu} {\\partial_\\mu\\varphi_5} {\\mu_I} {\\varphi_5} + {\\delta_\\mu} {\\partial_\\mu\\varphi_4} {\\bar m}^{2} {\\mu_I} {\\varphi_5} + i \\, {\\delta_\\mu} {\\partial_\\mu\\varphi_5} {\\bar m}^{2} {\\mu_I} {\\varphi_5} + 2 \\, {\\Delta m}^{2} {\\delta_\\mu} {\\partial_\\mu\\varphi_4} {\\mu_S} {\\varphi_5} - 2 i \\, {\\Delta m}^{2} {\\delta_\\mu} {\\partial_\\mu\\varphi_5} {\\mu_S} {\\varphi_5} - 2 \\, {\\delta_\\mu} {\\partial_\\mu\\varphi_4} {m_S}^{2} {\\mu_S} {\\varphi_5} - 2 i \\, {\\delta_\\mu} {\\partial_\\mu\\varphi_5} {m_S}^{2} {\\mu_S} {\\varphi_5} + 2 i \\, {\\Delta m}^{2} {\\delta_\\mu} {\\partial_\\mu\\varphi_6} {\\mu_I} {\\varphi_6} - i \\, {\\delta_\\mu} {\\partial_\\mu\\varphi_6} {\\bar m}^{2} {\\mu_I} {\\varphi_6} + {\\delta_\\mu} {\\partial_\\mu\\varphi_7} {\\bar m}^{2} {\\mu_I} {\\varphi_6} + 2 i \\, {\\Delta m}^{2} {\\delta_\\mu} {\\partial_\\mu\\varphi_6} {\\mu_S} {\\varphi_6} + 2 \\, {\\Delta m}^{2} {\\delta_\\mu} {\\partial_\\mu\\varphi_7} {\\mu_S} {\\varphi_6} - 2 i \\, {\\delta_\\mu} {\\partial_\\mu\\varphi_6} {m_S}^{2} {\\mu_S} {\\varphi_6} + 2 \\, {\\delta_\\mu} {\\partial_\\mu\\varphi_7} {m_S}^{2} {\\mu_S} {\\varphi_6} + 2 i \\, {\\Delta m}^{2} {\\delta_\\mu} {\\partial_\\mu\\varphi_7} {\\mu_I} {\\varphi_7} - {\\delta_\\mu} {\\partial_\\mu\\varphi_6} {\\bar m}^{2} {\\mu_I} {\\varphi_7} - i \\, {\\delta_\\mu} {\\partial_\\mu\\varphi_7} {\\bar m}^{2} {\\mu_I} {\\varphi_7} - 2 \\, {\\Delta m}^{2} {\\delta_\\mu} {\\partial_\\mu\\varphi_6} {\\mu_S} {\\varphi_7} + 2 i \\, {\\Delta m}^{2} {\\delta_\\mu} {\\partial_\\mu\\varphi_7} {\\mu_S} {\\varphi_7} - 2 \\, {\\delta_\\mu} {\\partial_\\mu\\varphi_6} {m_S}^{2} {\\mu_S} {\\varphi_7} - 2 i \\, {\\delta_\\mu} {\\partial_\\mu\\varphi_7} {m_S}^{2} {\\mu_S} {\\varphi_7} + 4 \\, {\\partial_\\mu\\varphi_1}^{2} {\\bar m}^{2} \\cos\\left({\\alpha}\\right) + 4 \\, {\\partial_\\mu\\varphi_2}^{2} {\\bar m}^{2} \\cos\\left({\\alpha}\\right) + 4 \\, {\\partial_\\mu\\varphi_3}^{2} {\\bar m}^{2} \\cos\\left({\\alpha}\\right) + 2 \\, {\\partial_\\mu\\varphi_4}^{2} {\\bar m}^{2} \\cos\\left({\\alpha}\\right) + 2 \\, {\\partial_\\mu\\varphi_5}^{2} {\\bar m}^{2} \\cos\\left({\\alpha}\\right) + 2 \\, {\\partial_\\mu\\varphi_6}^{2} {\\bar m}^{2} \\cos\\left({\\alpha}\\right) + 2 \\, {\\partial_\\mu\\varphi_7}^{2} {\\bar m}^{2} \\cos\\left({\\alpha}\\right) + \\frac{4}{3} \\, {\\partial_\\mu\\varphi_8}^{2} {\\bar m}^{2} \\cos\\left({\\alpha}\\right) - \\frac{8}{3} \\, \\sqrt{3} {\\Delta m}^{2} {\\partial_\\mu\\varphi_3} {\\partial_\\mu\\varphi_8} - 2 \\, {\\Delta m}^{2} {\\partial_\\mu\\varphi_4}^{2} - 2 \\, {\\Delta m}^{2} {\\partial_\\mu\\varphi_5}^{2} + 2 \\, {\\Delta m}^{2} {\\partial_\\mu\\varphi_6}^{2} + 2 \\, {\\Delta m}^{2} {\\partial_\\mu\\varphi_7}^{2} + 2 \\, {\\partial_\\mu\\varphi_4}^{2} {m_S}^{2} + 2 \\, {\\partial_\\mu\\varphi_5}^{2} {m_S}^{2} + 2 \\, {\\partial_\\mu\\varphi_6}^{2} {m_S}^{2} + 2 \\, {\\partial_\\mu\\varphi_7}^{2} {m_S}^{2} + \\frac{8}{3} \\, {\\partial_\\mu\\varphi_8}^{2} {m_S}^{2} $$"
      ],
      "text/plain": [
       "<IPython.core.display.Latex object>"
      ]
     },
     "metadata": {},
     "output_type": "display_data"
    }
   ],
   "source": [
    "L5 = (kin[0]*chiS).trace()\n",
    "L5 = L5.series(e, n+1).truncate().trig_reduce().full_simplify()\n",
    "print_coeff2(L5)"
   ]
  },
  {
   "cell_type": "code",
   "execution_count": 14,
   "id": "2f4cbed6",
   "metadata": {},
   "outputs": [
    {
     "data": {
      "text/latex": [
       "$$ 2 \\, {\\Delta m}^{4} + {m_S}^{4} + 2 \\, {\\bar m}^{4} $$"
      ],
      "text/plain": [
       "<IPython.core.display.Latex object>"
      ]
     },
     "metadata": {},
     "output_type": "display_data"
    }
   ],
   "source": [
    "H1 = (chi*chi.T).trace().expand()\n",
    "pprint(H1)"
   ]
  },
  {
   "cell_type": "code",
   "execution_count": null,
   "id": "e1e0577f",
   "metadata": {},
   "outputs": [],
   "source": []
  }
 ],
 "metadata": {
  "kernelspec": {
   "display_name": "SageMath 9.0",
   "language": "sage",
   "name": "sagemath"
  },
  "language_info": {
   "codemirror_mode": {
    "name": "ipython",
    "version": 3
   },
   "file_extension": ".py",
   "mimetype": "text/x-python",
   "name": "python",
   "nbconvert_exporter": "python",
   "pygments_lexer": "ipython3",
   "version": "3.8.10"
  }
 },
 "nbformat": 4,
 "nbformat_minor": 5
}
