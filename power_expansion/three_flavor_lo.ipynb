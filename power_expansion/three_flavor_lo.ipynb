{
 "cells": [
  {
   "cell_type": "code",
   "execution_count": 2,
   "id": "8c50c3ac",
   "metadata": {},
   "outputs": [],
   "source": [
    "%display latex\n",
    "load(\"three_flavor.sage\")"
   ]
  },
  {
   "cell_type": "code",
   "execution_count": 44,
   "id": "f87e293f",
   "metadata": {},
   "outputs": [
    {
     "data": {
      "text/html": [
       "<html><script type=\"math/tex; mode=display\">\\newcommand{\\Bold}[1]{\\mathbf{#1}}\\left[\\left(\\begin{array}{rrr}\n",
       "0 & 1 & 0 \\\\\n",
       "1 & 0 & 0 \\\\\n",
       "0 & 0 & 0\n",
       "\\end{array}\\right), \\left(\\begin{array}{rrr}\n",
       "0 & -i & 0 \\\\\n",
       "i & 0 & 0 \\\\\n",
       "0 & 0 & 0\n",
       "\\end{array}\\right), \\left(\\begin{array}{rrr}\n",
       "1 & 0 & 0 \\\\\n",
       "0 & -1 & 0 \\\\\n",
       "0 & 0 & 0\n",
       "\\end{array}\\right), \\left(\\begin{array}{rrr}\n",
       "0 & 0 & 1 \\\\\n",
       "0 & 0 & 0 \\\\\n",
       "1 & 0 & 0\n",
       "\\end{array}\\right), \\left(\\begin{array}{rrr}\n",
       "0 & 0 & -i \\\\\n",
       "0 & 0 & 0 \\\\\n",
       "i & 0 & 0\n",
       "\\end{array}\\right), \\left(\\begin{array}{rrr}\n",
       "0 & 0 & 0 \\\\\n",
       "0 & 0 & 1 \\\\\n",
       "0 & 1 & 0\n",
       "\\end{array}\\right), \\left(\\begin{array}{rrr}\n",
       "0 & 0 & 0 \\\\\n",
       "0 & 0 & -i \\\\\n",
       "0 & i & 0\n",
       "\\end{array}\\right), \\left(\\begin{array}{rrr}\n",
       "\\frac{1}{3} \\, \\sqrt{3} & 0 & 0 \\\\\n",
       "0 & \\frac{1}{3} \\, \\sqrt{3} & 0 \\\\\n",
       "0 & 0 & -\\frac{2}{3} \\, \\sqrt{3}\n",
       "\\end{array}\\right)\\right]</script></html>"
      ],
      "text/plain": [
       "[\n",
       "[0 1 0]  [ 0 -I  0]  [ 1  0  0]  [0 0 1]  [ 0  0 -I]  [0 0 0]\n",
       "[1 0 0]  [ I  0  0]  [ 0 -1  0]  [0 0 0]  [ 0  0  0]  [0 0 1]\n",
       "[0 0 0], [ 0  0  0], [ 0  0  0], [1 0 0], [ I  0  0], [0 1 0],\n",
       "\n",
       "[ 0  0  0]  [ 1/3*sqrt(3)            0            0]\n",
       "[ 0  0 -I]  [           0  1/3*sqrt(3)            0]\n",
       "[ 0  I  0], [           0            0 -2/3*sqrt(3)]\n",
       "]"
      ]
     },
     "metadata": {},
     "output_type": "display_data"
    }
   ],
   "source": [
    "pretty_print(l)"
   ]
  },
  {
   "cell_type": "code",
   "execution_count": 45,
   "id": "2bac28ca",
   "metadata": {},
   "outputs": [
    {
     "data": {
      "text/html": [
       "<html><script type=\"math/tex; mode=display\">\\newcommand{\\Bold}[1]{\\mathbf{#1}}\\left(\\begin{array}{rrr}\n",
       "\\frac{2}{3} & 0 & 0 \\\\\n",
       "0 & -\\frac{4}{3} & 0 \\\\\n",
       "0 & 0 & \\frac{2}{3}\n",
       "\\end{array}\\right)</script></html>"
      ],
      "text/plain": [
       "[ 2/3    0    0]\n",
       "[   0 -4/3    0]\n",
       "[   0    0  2/3]"
      ]
     },
     "execution_count": 45,
     "metadata": {},
     "output_type": "execute_result"
    }
   ],
   "source": [
    "lk = l3 + 1/sqrt(3) * l8\n",
    "lQ = l3 - 1/sqrt(3) * l8\n",
    "lQ"
   ]
  },
  {
   "cell_type": "code",
   "execution_count": 46,
   "id": "bac4692f",
   "metadata": {},
   "outputs": [
    {
     "data": {
      "text/html": [
       "<html><script type=\"math/tex; mode=display\">\\newcommand{\\Bold}[1]{\\mathbf{#1}}\\left(\\begin{array}{rrr}\n",
       "0 & 0 & 0 \\\\\n",
       "0 & 0 & 0 \\\\\n",
       "0 & 0 & 0\n",
       "\\end{array}\\right)</script></html>"
      ],
      "text/plain": [
       "[0 0 0]\n",
       "[0 0 0]\n",
       "[0 0 0]"
      ]
     },
     "execution_count": 46,
     "metadata": {},
     "output_type": "execute_result"
    }
   ],
   "source": [
    "lk*lQ - lQ*lk"
   ]
  },
  {
   "cell_type": "code",
   "execution_count": 47,
   "id": "2e1daa98",
   "metadata": {},
   "outputs": [
    {
     "data": {
      "text/html": [
       "<html><script type=\"math/tex; mode=display\">\\newcommand{\\Bold}[1]{\\mathbf{#1}}\\left(\\begin{array}{rrr}\n",
       "{\\Delta m}^{2} + {\\bar m}^{2} & 0 & 0 \\\\\n",
       "0 & -{\\Delta m}^{2} + {\\bar m}^{2} & 0 \\\\\n",
       "0 & 0 & {m_S}^{2}\n",
       "\\end{array}\\right)</script></html>"
      ],
      "text/plain": [
       "[ dm^2 + mbar^2              0              0]\n",
       "[             0 -dm^2 + mbar^2              0]\n",
       "[             0              0           ms^2]"
      ]
     },
     "execution_count": 47,
     "metadata": {},
     "output_type": "execute_result"
    }
   ],
   "source": [
    "mbar =var(\"mbar\", latex_name=\"\\\\bar m\")\n",
    "var(\"dm\", latex_name=\"\\\\Delta m\")\n",
    "var(\"ms\", latex_name=\"m_S\") \n",
    "# m_S^2 = 2B_0 ms\n",
    "chi = diagonal_matrix([mbar^2 + dm^2, mbar^2 - dm^2, ms^2])\n",
    "chi"
   ]
  },
  {
   "cell_type": "code",
   "execution_count": 48,
   "id": "9c77776b",
   "metadata": {},
   "outputs": [
    {
     "data": {
      "text/html": [
       "<html><script type=\"math/tex; mode=display\">\\newcommand{\\Bold}[1]{\\mathbf{#1}}\\left[\\frac{2}{3} \\, {\\bar m}^{2} + \\frac{1}{3} \\, {m_S}^{2}, 0, 0, {\\Delta m}^{2}, 0, 0, 0, 0, \\frac{1}{3} \\, \\sqrt{3} {\\left({\\bar m}^{2} - {m_S}^{2}\\right)}\\right]</script></html>"
      ],
      "text/plain": [
       "[2/3*mbar^2 + 1/3*ms^2, 0, 0, dm^2, 0, 0, 0, 0, 1/3*sqrt(3)*(mbar^2 - ms^2)]"
      ]
     },
     "execution_count": 48,
     "metadata": {},
     "output_type": "execute_result"
    }
   ],
   "source": [
    "proj(chi, l)"
   ]
  },
  {
   "cell_type": "code",
   "execution_count": 49,
   "id": "f3ad851c",
   "metadata": {},
   "outputs": [
    {
     "data": {
      "text/html": [
       "<html><script type=\"math/tex; mode=display\">\\newcommand{\\Bold}[1]{\\mathbf{#1}}{\\beta}</script></html>"
      ],
      "text/plain": [
       "beta"
      ]
     },
     "execution_count": 49,
     "metadata": {},
     "output_type": "execute_result"
    }
   ],
   "source": [
    "var(\"alpha\", latex_name=\"\\\\alpha\")\n",
    "var(\"beta\", latex_name=\"\\\\beta\")"
   ]
  },
  {
   "cell_type": "code",
   "execution_count": 74,
   "id": "f747d0d0",
   "metadata": {},
   "outputs": [
    {
     "data": {
      "text/html": [
       "<html><script type=\"math/tex; mode=display\">\\newcommand{\\Bold}[1]{\\mathbf{#1}}\\left(\\begin{array}{rrr}\n",
       "\\cos\\left({\\alpha}\\right) & 0 & \\sin\\left({\\alpha}\\right) \\\\\n",
       "0 & 1 & 0 \\\\\n",
       "-\\sin\\left({\\alpha}\\right) & 0 & \\cos\\left({\\alpha}\\right)\n",
       "\\end{array}\\right)</script></html>"
      ],
      "text/plain": [
       "[ cos(alpha)           0  sin(alpha)]\n",
       "[          0           1           0]\n",
       "[-sin(alpha)           0  cos(alpha)]"
      ]
     },
     "execution_count": 74,
     "metadata": {},
     "output_type": "execute_result"
    }
   ],
   "source": [
    "exp_l_a = lambda l, a: (one - l**2) + l**2 * cos(a) + i *l * sin(a)\n",
    "exp_l_a(l5, alpha)"
   ]
  },
  {
   "cell_type": "code",
   "execution_count": 55,
   "id": "d75279bd",
   "metadata": {},
   "outputs": [],
   "source": [
    "S = exp_l_a(l7, beta).T * exp_l_a(l2, alpha) * exp_l_a(l7, beta)\n",
    "Sd = S.T"
   ]
  },
  {
   "cell_type": "code",
   "execution_count": 56,
   "id": "2d3bd1a6",
   "metadata": {},
   "outputs": [],
   "source": [
    "COM = v*S - S*v # [v_mu, Sigma]"
   ]
  },
  {
   "cell_type": "code",
   "execution_count": 92,
   "id": "6331763b",
   "metadata": {},
   "outputs": [],
   "source": [
    "n = 1\n",
    "var(\"B0\", latex_name=\"B_0\")\n",
    "var(\"f\")\n",
    "kin = -(f**2/4*mat_prep(COM*COM.T, n)).trace().full_simplify().full_simplify()"
   ]
  },
  {
   "cell_type": "code",
   "execution_count": 93,
   "id": "0a61c603",
   "metadata": {},
   "outputs": [],
   "source": [
    "var(\"mu\", latex_name=\"m_u\")\n",
    "var(\"md\", latex_name=\"m_d\")\n",
    "var(\"ms\", latex_name=\"m_s\")\n",
    "\n",
    "m = diagonal_matrix([mu, md, ms])\n",
    "\n",
    "mass = (2*B0*(S*m + m*S.T).trace().full_simplify()).full_simplify()"
   ]
  },
  {
   "cell_type": "code",
   "execution_count": 94,
   "id": "2ccdcdc2",
   "metadata": {},
   "outputs": [
    {
     "data": {
      "text/html": [
       "<html><script type=\"math/tex; mode=display\">\\newcommand{\\Bold}[1]{\\mathbf{#1}}\\frac{1}{2} \\, {\\left({\\left(\\sin\\left({\\alpha}\\right)^{2} + 2 \\, \\cos\\left({\\alpha}\\right) - 2\\right)} \\cos\\left({\\beta}\\right)^{3} + {\\left(\\sin\\left({\\alpha}\\right)^{2} - \\cos\\left({\\alpha}\\right) + 1\\right)} \\cos\\left({\\beta}\\right)\\right)} {\\delta}^{2} f^{2} {\\mu_I}^{2} \\sin\\left({\\beta}\\right) - 2 \\, {\\left({\\left(\\sin\\left({\\alpha}\\right)^{2} + 2 \\, \\cos\\left({\\alpha}\\right) - 2\\right)} \\cos\\left({\\beta}\\right)^{3} - {\\left(\\cos\\left({\\alpha}\\right) - 1\\right)} \\cos\\left({\\beta}\\right)\\right)} {\\delta}^{2} f^{2} {\\mu_I} {\\mu_S} \\sin\\left({\\beta}\\right) + 2 \\, {\\left({\\left(\\sin\\left({\\alpha}\\right)^{2} + 2 \\, \\cos\\left({\\alpha}\\right) - 2\\right)} \\cos\\left({\\beta}\\right)^{3} - {\\left(\\sin\\left({\\alpha}\\right)^{2} + \\cos\\left({\\alpha}\\right) - 1\\right)} \\cos\\left({\\beta}\\right)\\right)} {\\delta}^{2} f^{2} {\\mu_S}^{2} \\sin\\left({\\beta}\\right) - 8 \\, {\\left({B_0} \\cos\\left({\\alpha}\\right) - {B_0}\\right)} {m_d} \\cos\\left({\\beta}\\right) \\sin\\left({\\beta}\\right) + 8 \\, {\\left({B_0} \\cos\\left({\\alpha}\\right) - {B_0}\\right)} {m_s} \\cos\\left({\\beta}\\right) \\sin\\left({\\beta}\\right)</script></html>"
      ],
      "text/plain": [
       "1/2*((sin(alpha)^2 + 2*cos(alpha) - 2)*cos(beta)^3 + (sin(alpha)^2 - cos(alpha) + 1)*cos(beta))*d^2*f^2*muI^2*sin(beta) - 2*((sin(alpha)^2 + 2*cos(alpha) - 2)*cos(beta)^3 - (cos(alpha) - 1)*cos(beta))*d^2*f^2*muI*muS*sin(beta) + 2*((sin(alpha)^2 + 2*cos(alpha) - 2)*cos(beta)^3 - (sin(alpha)^2 + cos(alpha) - 1)*cos(beta))*d^2*f^2*muS^2*sin(beta) - 8*(B0*cos(alpha) - B0)*md*cos(beta)*sin(beta) + 8*(B0*cos(alpha) - B0)*ms*cos(beta)*sin(beta)"
      ]
     },
     "execution_count": 94,
     "metadata": {},
     "output_type": "execute_result"
    }
   ],
   "source": [
    "(kin+mass).diff(beta).full_simplify()"
   ]
  },
  {
   "cell_type": "code",
   "execution_count": 3,
   "id": "dc2cf084",
   "metadata": {},
   "outputs": [
    {
     "data": {
      "text/html": [
       "<html><script type=\"math/tex; mode=display\">\\newcommand{\\Bold}[1]{\\mathbf{#1}}\\left(\\begin{array}{rrr}\n",
       "\\frac{1}{3} \\, {\\mu_B} + \\frac{1}{2} \\, {\\mu_I} & 0 & 0 \\\\\n",
       "0 & \\frac{1}{3} \\, {\\mu_B} - \\frac{1}{2} \\, {\\mu_I} & 0 \\\\\n",
       "0 & 0 & \\frac{1}{3} \\, {\\mu_B} - {\\mu_S}\n",
       "\\end{array}\\right)</script></html>"
      ],
      "text/plain": [
       "[1/3*muB + 1/2*muI                 0                 0]\n",
       "[                0 1/3*muB - 1/2*muI                 0]\n",
       "[                0                 0     1/3*muB - muS]"
      ]
     },
     "execution_count": 3,
     "metadata": {},
     "output_type": "execute_result"
    }
   ],
   "source": [
    "muS = var(\"muS\", latex_name=\"\\\\mu_S\")\n",
    "muB = var(\"muB\", latex_name=\"\\\\mu_B\")\n",
    "muI = var(\"muI\", latex_name=\"\\\\mu_I\")\n",
    "\n",
    "mu = diagonal_matrix([muB/3 + muI/2, muB/3 - muI/2, muB/3 - muS])\n",
    "mu"
   ]
  },
  {
   "cell_type": "code",
   "execution_count": 4,
   "id": "b33eeaae",
   "metadata": {},
   "outputs": [
    {
     "data": {
      "text/html": [
       "<html><script type=\"math/tex; mode=display\">\\newcommand{\\Bold}[1]{\\mathbf{#1}}\\left[\\frac{1}{3} \\, {\\mu_B} - \\frac{1}{3} \\, {\\mu_S}, 0, 0, \\frac{1}{2} \\, {\\mu_I}, 0, 0, 0, 0, \\frac{1}{3} \\, \\sqrt{3} {\\mu_S}\\right]</script></html>"
      ],
      "text/plain": [
       "[1/3*muB - 1/3*muS, 0, 0, 1/2*muI, 0, 0, 0, 0, 1/3*sqrt(3)*muS]"
      ]
     },
     "execution_count": 4,
     "metadata": {},
     "output_type": "execute_result"
    }
   ],
   "source": [
    "proj(mu, l)"
   ]
  },
  {
   "cell_type": "code",
   "execution_count": 269,
   "id": "074ffed1",
   "metadata": {},
   "outputs": [
    {
     "data": {
      "text/html": [
       "<html><script type=\"math/tex; mode=display\">\\newcommand{\\Bold}[1]{\\mathbf{#1}}\\left[\\frac{1}{3} \\, {\\mu_B} - \\frac{1}{3} \\, {\\mu_S}, 0, 0, \\frac{1}{2} \\, {\\mu_I}, 0, 0, 0, 0, \\frac{1}{3} \\, \\sqrt{3} {\\mu_S}\\right]</script></html>"
      ],
      "text/plain": [
       "[1/3*muB - 1/3*muS, 0, 0, 1/2*muI, 0, 0, 0, 0, 1/3*sqrt(3)*muS]"
      ]
     },
     "execution_count": 269,
     "metadata": {},
     "output_type": "execute_result"
    }
   ],
   "source": [
    "A"
   ]
  },
  {
   "cell_type": "code",
   "execution_count": 270,
   "id": "78855cf7",
   "metadata": {},
   "outputs": [
    {
     "data": {
      "text/html": [
       "<html><script type=\"math/tex; mode=display\">\\newcommand{\\Bold}[1]{\\mathbf{#1}}\\frac{1}{2} \\, {\\mu_I}^{2} n_{1}^{2} \\sin\\left({\\alpha}\\right)^{2} + \\frac{1}{2} \\, {\\mu_I}^{2} n_{2}^{2} \\sin\\left({\\alpha}\\right)^{2} + \\frac{1}{8} \\, {\\left({\\mu_I}^{2} \\sin\\left({\\alpha}\\right)^{2} + 4 \\, {\\mu_I} {\\mu_S} \\sin\\left({\\alpha}\\right)^{2} + 4 \\, {\\mu_S}^{2} \\sin\\left({\\alpha}\\right)^{2}\\right)} n_{4}^{2} + \\frac{1}{8} \\, {\\left({\\mu_I}^{2} \\sin\\left({\\alpha}\\right)^{2} + 4 \\, {\\mu_I} {\\mu_S} \\sin\\left({\\alpha}\\right)^{2} + 4 \\, {\\mu_S}^{2} \\sin\\left({\\alpha}\\right)^{2}\\right)} n_{5}^{2} + \\frac{1}{8} \\, {\\left({\\mu_I}^{2} \\sin\\left({\\alpha}\\right)^{2} - 4 \\, {\\mu_I} {\\mu_S} \\sin\\left({\\alpha}\\right)^{2} + 4 \\, {\\mu_S}^{2} \\sin\\left({\\alpha}\\right)^{2}\\right)} n_{6}^{2} + \\frac{1}{8} \\, {\\left({\\mu_I}^{2} \\sin\\left({\\alpha}\\right)^{2} - 4 \\, {\\mu_I} {\\mu_S} \\sin\\left({\\alpha}\\right)^{2} + 4 \\, {\\mu_S}^{2} \\sin\\left({\\alpha}\\right)^{2}\\right)} n_{7}^{2}</script></html>"
      ],
      "text/plain": [
       "1/2*muI^2*n_1^2*sin(alpha)^2 + 1/2*muI^2*n_2^2*sin(alpha)^2 + 1/8*(muI^2*sin(alpha)^2 + 4*muI*muS*sin(alpha)^2 + 4*muS^2*sin(alpha)^2)*n_4^2 + 1/8*(muI^2*sin(alpha)^2 + 4*muI*muS*sin(alpha)^2 + 4*muS^2*sin(alpha)^2)*n_5^2 + 1/8*(muI^2*sin(alpha)^2 - 4*muI*muS*sin(alpha)^2 + 4*muS^2*sin(alpha)^2)*n_6^2 + 1/8*(muI^2*sin(alpha)^2 - 4*muI*muS*sin(alpha)^2 + 4*muS^2*sin(alpha)^2)*n_7^2"
      ]
     },
     "execution_count": 270,
     "metadata": {},
     "output_type": "execute_result"
    }
   ],
   "source": [
    "b = -(com(mu, S) * com(mu, SC)).trace().full_simplify() / 4\n",
    "b"
   ]
  },
  {
   "cell_type": "code",
   "execution_count": 208,
   "id": "c7d5c84b",
   "metadata": {},
   "outputs": [
    {
     "data": {
      "text/html": [
       "<html><script type=\"math/tex; mode=display\">\\newcommand{\\Bold}[1]{\\mathbf{#1}}\\frac{1}{2} \\, {\\left({\\mu_I} + 2 \\, {\\mu_S}\\right)}^{2} \\sin\\left({\\alpha}\\right)^{2}</script></html>"
      ],
      "text/plain": [
       "1/2*(muI + 2*muS)^2*sin(alpha)^2"
      ]
     },
     "execution_count": 208,
     "metadata": {},
     "output_type": "execute_result"
    }
   ],
   "source": [
    "b.coefficients(na[4])[1][0].factor()"
   ]
  },
  {
   "cell_type": "code",
   "execution_count": 234,
   "id": "ea494e4a",
   "metadata": {},
   "outputs": [],
   "source": [
    "c = sum([b.coefficients(n)[1][0].factor()*n**2 for n in na if len(b.coefficients(n))>1])"
   ]
  },
  {
   "cell_type": "code",
   "execution_count": 238,
   "id": "eac3c18a",
   "metadata": {},
   "outputs": [
    {
     "data": {
      "text/html": [
       "<html><script type=\"math/tex; mode=display\">\\newcommand{\\Bold}[1]{\\mathbf{#1}}2 \\, {\\mu_I}^{2} n_{1}^{2} \\sin\\left({\\alpha}\\right)^{2} + 2 \\, {\\mu_I}^{2} n_{2}^{2} \\sin\\left({\\alpha}\\right)^{2} + \\frac{1}{2} \\, {\\left({\\mu_I} + 2 \\, {\\mu_S}\\right)}^{2} n_{4}^{2} \\sin\\left({\\alpha}\\right)^{2} + \\frac{1}{2} \\, {\\left({\\mu_I} + 2 \\, {\\mu_S}\\right)}^{2} n_{5}^{2} \\sin\\left({\\alpha}\\right)^{2} + \\frac{1}{2} \\, {\\left({\\mu_I} - 2 \\, {\\mu_S}\\right)}^{2} n_{6}^{2} \\sin\\left({\\alpha}\\right)^{2} + \\frac{1}{2} \\, {\\left({\\mu_I} - 2 \\, {\\mu_S}\\right)}^{2} n_{7}^{2} \\sin\\left({\\alpha}\\right)^{2}</script></html>"
      ],
      "text/plain": [
       "2*muI^2*n_1^2*sin(alpha)^2 + 2*muI^2*n_2^2*sin(alpha)^2 + 1/2*(muI + 2*muS)^2*n_4^2*sin(alpha)^2 + 1/2*(muI + 2*muS)^2*n_5^2*sin(alpha)^2 + 1/2*(muI - 2*muS)^2*n_6^2*sin(alpha)^2 + 1/2*(muI - 2*muS)^2*n_7^2*sin(alpha)^2"
      ]
     },
     "execution_count": 238,
     "metadata": {},
     "output_type": "execute_result"
    }
   ],
   "source": [
    "c + (c - b).full_simplify()"
   ]
  },
  {
   "cell_type": "code",
   "execution_count": 254,
   "id": "8a5e5791",
   "metadata": {},
   "outputs": [
    {
     "data": {
      "text/html": [
       "<html><script type=\"math/tex; mode=display\">\\newcommand{\\Bold}[1]{\\mathbf{#1}}\\left[\\frac{1}{3} \\, {m_d} + \\frac{1}{3} \\, {m_s} + \\frac{1}{3} \\, {m_u}, 0, 0, -\\frac{1}{2} \\, {m_d} + \\frac{1}{2} \\, {m_u}, 0, 0, 0, 0, \\frac{1}{6} \\, \\sqrt{3} {\\left({m_d} - 2 \\, {m_s} + {m_u}\\right)}\\right]</script></html>"
      ],
      "text/plain": [
       "[1/3*md + 1/3*ms + 1/3*mu,\n",
       " 0,\n",
       " 0,\n",
       " -1/2*md + 1/2*mu,\n",
       " 0,\n",
       " 0,\n",
       " 0,\n",
       " 0,\n",
       " 1/6*sqrt(3)*(md - 2*ms + mu)]"
      ]
     },
     "execution_count": 254,
     "metadata": {},
     "output_type": "execute_result"
    }
   ],
   "source": [
    "var(\"mbar\", latex_name=\"\\\\bar m\")\n",
    "var(\"mK\", latex_name=\"m_K\")\n",
    "var(\"meta\", latex_name=\"m_\\\\eta\")\n",
    "\n",
    "var(\"mu\", latex_name=\"m_u\")\n",
    "var(\"md\", latex_name=\"m_d\")\n",
    "var(\"ms\", latex_name=\"m_s\")\n",
    "\n",
    "m = diagonal_matrix([mu, md, ms])\n",
    "proj(m, l)"
   ]
  },
  {
   "cell_type": "code",
   "execution_count": 265,
   "id": "73f1b38a",
   "metadata": {},
   "outputs": [
    {
     "data": {
      "text/html": [
       "<html><script type=\"math/tex; mode=display\">\\newcommand{\\Bold}[1]{\\mathbf{#1}}\\left(\\begin{array}{rrr}\n",
       "\\frac{1}{3} \\, \\sqrt{3} {M_3}^{2} + \\frac{2}{3} \\, {M_1}^{2} + {M_2}^{2} & 0 & 0 \\\\\n",
       "0 & \\frac{1}{3} \\, \\sqrt{3} {M_3}^{2} + \\frac{2}{3} \\, {M_1}^{2} - {M_2}^{2} & 0 \\\\\n",
       "0 & 0 & -\\frac{2}{3} \\, \\sqrt{3} {M_3}^{2} + \\frac{2}{3} \\, {M_1}^{2}\n",
       "\\end{array}\\right)</script></html>"
      ],
      "text/plain": [
       "[1/3*sqrt(3)*M3^2 + 2/3*M1^2 + M2^2                                  0                                  0]\n",
       "[                                 0 1/3*sqrt(3)*M3^2 + 2/3*M1^2 - M2^2                                  0]\n",
       "[                                 0                                  0       -2/3*sqrt(3)*M3^2 + 2/3*M1^2]"
      ]
     },
     "execution_count": 265,
     "metadata": {},
     "output_type": "execute_result"
    }
   ],
   "source": [
    "var(\"M1\", latex_name=\"M_1\")\n",
    "var(\"M2\", latex_name=\"M_2\")\n",
    "var(\"M3\", latex_name=\"M_3\")\n",
    "\n",
    "chi = M1**2 * one + M2**2 * l3 + M3**2 * l8\n",
    "chi"
   ]
  },
  {
   "cell_type": "code",
   "execution_count": 266,
   "id": "9f9eb3ba",
   "metadata": {},
   "outputs": [
    {
     "data": {
      "text/html": [
       "<html><script type=\"math/tex; mode=display\">\\newcommand{\\Bold}[1]{\\mathbf{#1}}4 \\, {M_1}^{2} \\cos\\left({\\alpha}\\right)</script></html>"
      ],
      "text/plain": [
       "4*M1^2*cos(alpha)"
      ]
     },
     "execution_count": 266,
     "metadata": {},
     "output_type": "execute_result"
    }
   ],
   "source": [
    "(S*chi + chi*SC).trace().full_simplify()"
   ]
  },
  {
   "cell_type": "code",
   "execution_count": 289,
   "id": "19a78c4e",
   "metadata": {},
   "outputs": [
    {
     "data": {
      "text/html": [
       "<html><script type=\"math/tex; mode=display\">\\newcommand{\\Bold}[1]{\\mathbf{#1}}\\left(\\begin{array}{rrr}\n",
       "\\cos\\left({\\alpha}\\right) & \\cos\\left({\\beta}\\right) \\sin\\left({\\alpha}\\right) & \\sin\\left({\\alpha}\\right) \\sin\\left({\\beta}\\right) \\\\\n",
       "-\\cos\\left({\\beta}\\right) \\sin\\left({\\alpha}\\right) & \\cos\\left({\\alpha}\\right) & 0 \\\\\n",
       "-\\sin\\left({\\alpha}\\right) \\sin\\left({\\beta}\\right) & 0 & \\cos\\left({\\alpha}\\right)\n",
       "\\end{array}\\right)</script></html>"
      ],
      "text/plain": [
       "[           cos(alpha)  cos(beta)*sin(alpha)  sin(alpha)*sin(beta)]\n",
       "[-cos(beta)*sin(alpha)            cos(alpha)                     0]\n",
       "[-sin(alpha)*sin(beta)                     0            cos(alpha)]"
      ]
     },
     "execution_count": 289,
     "metadata": {},
     "output_type": "execute_result"
    }
   ],
   "source": [
    "var(\"beta\", latex_name=\"\\\\beta\")\n",
    "\n",
    "S = cos(alpha)*one + i *(l2*cos(beta) + l5*sin(beta))*sin(alpha)\n",
    "S"
   ]
  },
  {
   "cell_type": "code",
   "execution_count": 279,
   "id": "e6e0e0cf",
   "metadata": {},
   "outputs": [
    {
     "data": {
      "text/html": [
       "<html><script type=\"math/tex; mode=display\">\\newcommand{\\Bold}[1]{\\mathbf{#1}}\\left(\\begin{array}{rrr}\n",
       "\\cos\\left({\\alpha}\\right) & \\cos\\left({\\beta}\\right) \\sin\\left({\\alpha}\\right) & \\sin\\left({\\alpha}\\right) \\sin\\left({\\beta}\\right) \\\\\n",
       "-\\cos\\left({\\beta}\\right) \\sin\\left({\\alpha}\\right) & \\cos\\left({\\alpha}\\right) \\cos\\left({\\beta}\\right)^{2} + \\sin\\left({\\beta}\\right)^{2} & \\cos\\left({\\alpha}\\right) \\cos\\left({\\beta}\\right) \\sin\\left({\\beta}\\right) - \\cos\\left({\\beta}\\right) \\sin\\left({\\beta}\\right) \\\\\n",
       "-\\sin\\left({\\alpha}\\right) \\sin\\left({\\beta}\\right) & \\cos\\left({\\alpha}\\right) \\cos\\left({\\beta}\\right) \\sin\\left({\\beta}\\right) - \\cos\\left({\\beta}\\right) \\sin\\left({\\beta}\\right) & \\cos\\left({\\alpha}\\right) \\sin\\left({\\beta}\\right)^{2} + \\cos\\left({\\beta}\\right)^{2}\n",
       "\\end{array}\\right)</script></html>"
      ],
      "text/plain": [
       "[                                          cos(alpha)                                 cos(beta)*sin(alpha)                                 sin(alpha)*sin(beta)]\n",
       "[                               -cos(beta)*sin(alpha)                 cos(alpha)*cos(beta)^2 + sin(beta)^2 cos(alpha)*cos(beta)*sin(beta) - cos(beta)*sin(beta)]\n",
       "[                               -sin(alpha)*sin(beta) cos(alpha)*cos(beta)*sin(beta) - cos(beta)*sin(beta)                 cos(alpha)*sin(beta)^2 + cos(beta)^2]"
      ]
     },
     "execution_count": 279,
     "metadata": {},
     "output_type": "execute_result"
    }
   ],
   "source": [
    "A = matrix([\n",
    "    [1, 0, 0],\n",
    "    [0, cos(beta), -sin(beta) ],\n",
    "    [0, sin(beta), cos(beta)]\n",
    "])\n",
    "\n",
    "B = matrix([\n",
    "    [cos(alpha), sin(alpha), 0],\n",
    "    [-sin(alpha), cos(alpha), 0],\n",
    "    [0, 0, 1]\n",
    "])\n",
    "\n",
    "A * B * A.T"
   ]
  },
  {
   "cell_type": "code",
   "execution_count": 296,
   "id": "ffad8406",
   "metadata": {},
   "outputs": [
    {
     "ename": "TypeError",
     "evalue": "cannot coerce arguments: no canonical coercion from Full MatrixSpace of 3 by 3 dense matrices over Symbolic Ring to Symbolic Ring",
     "output_type": "error",
     "traceback": [
      "\u001b[0;31m---------------------------------------------------------------------------\u001b[0m",
      "\u001b[0;31mTypeError\u001b[0m                                 Traceback (most recent call last)",
      "\u001b[0;32m/usr/lib/python3/dist-packages/sage/symbolic/function.pyx\u001b[0m in \u001b[0;36msage.symbolic.function.Function.__call__ (build/cythonized/sage/symbolic/function.cpp:6564)\u001b[0;34m()\u001b[0m\n\u001b[1;32m    571\u001b[0m             \u001b[0;32mtry\u001b[0m\u001b[0;34m:\u001b[0m\u001b[0;34m\u001b[0m\u001b[0;34m\u001b[0m\u001b[0m\n\u001b[0;32m--> 572\u001b[0;31m                 \u001b[0margs\u001b[0m \u001b[0;34m=\u001b[0m \u001b[0;34m[\u001b[0m\u001b[0mSR\u001b[0m\u001b[0;34m.\u001b[0m\u001b[0mcoerce\u001b[0m\u001b[0;34m(\u001b[0m\u001b[0ma\u001b[0m\u001b[0;34m)\u001b[0m \u001b[0;32mfor\u001b[0m \u001b[0ma\u001b[0m \u001b[0;32min\u001b[0m \u001b[0margs\u001b[0m\u001b[0;34m]\u001b[0m\u001b[0;34m\u001b[0m\u001b[0;34m\u001b[0m\u001b[0m\n\u001b[0m\u001b[1;32m    573\u001b[0m             \u001b[0;32mexcept\u001b[0m \u001b[0mTypeError\u001b[0m \u001b[0;32mas\u001b[0m \u001b[0merr\u001b[0m\u001b[0;34m:\u001b[0m\u001b[0;34m\u001b[0m\u001b[0;34m\u001b[0m\u001b[0m\n",
      "\u001b[0;32m/usr/lib/python3/dist-packages/sage/structure/parent.pyx\u001b[0m in \u001b[0;36msage.structure.parent.Parent.coerce (build/cythonized/sage/structure/parent.c:10562)\u001b[0;34m()\u001b[0m\n\u001b[1;32m   1113\u001b[0m \u001b[0;34m\u001b[0m\u001b[0m\n\u001b[0;32m-> 1114\u001b[0;31m     \u001b[0mcpdef\u001b[0m \u001b[0mcoerce\u001b[0m\u001b[0;34m(\u001b[0m\u001b[0mself\u001b[0m\u001b[0;34m,\u001b[0m \u001b[0mx\u001b[0m\u001b[0;34m)\u001b[0m\u001b[0;34m:\u001b[0m\u001b[0;34m\u001b[0m\u001b[0;34m\u001b[0m\u001b[0m\n\u001b[0m\u001b[1;32m   1115\u001b[0m         \"\"\"\n",
      "\u001b[0;32m/usr/lib/python3/dist-packages/sage/structure/parent.pyx\u001b[0m in \u001b[0;36msage.structure.parent.Parent.coerce (build/cythonized/sage/structure/parent.c:10491)\u001b[0;34m()\u001b[0m\n\u001b[1;32m   1143\u001b[0m                     \u001b[0m_record_exception\u001b[0m\u001b[0;34m(\u001b[0m\u001b[0;34m)\u001b[0m\u001b[0;34m\u001b[0m\u001b[0;34m\u001b[0m\u001b[0m\n\u001b[0;32m-> 1144\u001b[0;31m             \u001b[0;32mraise\u001b[0m \u001b[0mTypeError\u001b[0m\u001b[0;34m(\u001b[0m\u001b[0m_LazyString\u001b[0m\u001b[0;34m(\u001b[0m\u001b[0m_lazy_format\u001b[0m\u001b[0;34m,\u001b[0m \u001b[0;34m(\u001b[0m\u001b[0;34m\"no canonical coercion from %s to %s\"\u001b[0m\u001b[0;34m,\u001b[0m \u001b[0mparent\u001b[0m\u001b[0;34m(\u001b[0m\u001b[0mx\u001b[0m\u001b[0;34m)\u001b[0m\u001b[0;34m,\u001b[0m \u001b[0mself\u001b[0m\u001b[0;34m)\u001b[0m\u001b[0;34m,\u001b[0m \u001b[0;34m{\u001b[0m\u001b[0;34m}\u001b[0m\u001b[0;34m)\u001b[0m\u001b[0;34m)\u001b[0m\u001b[0;34m\u001b[0m\u001b[0;34m\u001b[0m\u001b[0m\n\u001b[0m\u001b[1;32m   1145\u001b[0m         \u001b[0;32melse\u001b[0m\u001b[0;34m:\u001b[0m\u001b[0;34m\u001b[0m\u001b[0;34m\u001b[0m\u001b[0m\n",
      "\u001b[0;31mTypeError\u001b[0m: no canonical coercion from Full MatrixSpace of 3 by 3 dense matrices over Symbolic Ring to Symbolic Ring",
      "\nDuring handling of the above exception, another exception occurred:\n",
      "\u001b[0;31mTypeError\u001b[0m                                 Traceback (most recent call last)",
      "\u001b[0;32m/tmp/ipykernel_117161/3205066763.py\u001b[0m in \u001b[0;36m<module>\u001b[0;34m\u001b[0m\n\u001b[0;32m----> 1\u001b[0;31m \u001b[0mcos\u001b[0m\u001b[0;34m(\u001b[0m\u001b[0ml2\u001b[0m\u001b[0;34m)\u001b[0m\u001b[0;34m\u001b[0m\u001b[0;34m\u001b[0m\u001b[0m\n\u001b[0m",
      "\u001b[0;32m/usr/lib/python3/dist-packages/sage/symbolic/function.pyx\u001b[0m in \u001b[0;36msage.symbolic.function.BuiltinFunction.__call__ (build/cythonized/sage/symbolic/function.cpp:12261)\u001b[0;34m()\u001b[0m\n\u001b[1;32m   1136\u001b[0m             \u001b[0mres\u001b[0m \u001b[0;34m=\u001b[0m \u001b[0mself\u001b[0m\u001b[0;34m.\u001b[0m\u001b[0m_evalf_try_\u001b[0m\u001b[0;34m(\u001b[0m\u001b[0;34m*\u001b[0m\u001b[0margs\u001b[0m\u001b[0;34m)\u001b[0m\u001b[0;34m\u001b[0m\u001b[0;34m\u001b[0m\u001b[0m\n\u001b[1;32m   1137\u001b[0m             \u001b[0;32mif\u001b[0m \u001b[0mres\u001b[0m \u001b[0;32mis\u001b[0m \u001b[0;32mNone\u001b[0m\u001b[0;34m:\u001b[0m\u001b[0;34m\u001b[0m\u001b[0;34m\u001b[0m\u001b[0m\n\u001b[0;32m-> 1138\u001b[0;31m                 res = super(BuiltinFunction, self).__call__(\n\u001b[0m\u001b[1;32m   1139\u001b[0m                         *args, coerce=coerce, hold=hold)\n\u001b[1;32m   1140\u001b[0m \u001b[0;34m\u001b[0m\u001b[0m\n",
      "\u001b[0;32m/usr/lib/python3/dist-packages/sage/symbolic/function.pyx\u001b[0m in \u001b[0;36msage.symbolic.function.Function.__call__ (build/cythonized/sage/symbolic/function.cpp:6726)\u001b[0;34m()\u001b[0m\n\u001b[1;32m    583\u001b[0m                     \u001b[0;32mif\u001b[0m \u001b[0mcallable\u001b[0m\u001b[0;34m(\u001b[0m\u001b[0mmethod\u001b[0m\u001b[0;34m)\u001b[0m\u001b[0;34m:\u001b[0m\u001b[0;34m\u001b[0m\u001b[0;34m\u001b[0m\u001b[0m\n\u001b[1;32m    584\u001b[0m                         \u001b[0;32mreturn\u001b[0m \u001b[0mmethod\u001b[0m\u001b[0;34m(\u001b[0m\u001b[0;34m)\u001b[0m\u001b[0;34m\u001b[0m\u001b[0;34m\u001b[0m\u001b[0m\n\u001b[0;32m--> 585\u001b[0;31m                 \u001b[0;32mraise\u001b[0m \u001b[0mTypeError\u001b[0m\u001b[0;34m(\u001b[0m\u001b[0;34m\"cannot coerce arguments: %s\"\u001b[0m \u001b[0;34m%\u001b[0m \u001b[0;34m(\u001b[0m\u001b[0merr\u001b[0m\u001b[0;34m)\u001b[0m\u001b[0;34m)\u001b[0m\u001b[0;34m\u001b[0m\u001b[0;34m\u001b[0m\u001b[0m\n\u001b[0m\u001b[1;32m    586\u001b[0m \u001b[0;34m\u001b[0m\u001b[0m\n\u001b[1;32m    587\u001b[0m         \u001b[0;32melse\u001b[0m\u001b[0;34m:\u001b[0m \u001b[0;31m# coerce == False\u001b[0m\u001b[0;34m\u001b[0m\u001b[0;34m\u001b[0m\u001b[0m\n",
      "\u001b[0;31mTypeError\u001b[0m: cannot coerce arguments: no canonical coercion from Full MatrixSpace of 3 by 3 dense matrices over Symbolic Ring to Symbolic Ring"
     ]
    }
   ],
   "source": [
    "cos(l2)"
   ]
  },
  {
   "cell_type": "code",
   "execution_count": 290,
   "id": "658eed90",
   "metadata": {},
   "outputs": [
    {
     "data": {
      "text/html": [
       "<html><script type=\"math/tex; mode=display\">\\newcommand{\\Bold}[1]{\\mathbf{#1}}\\left(\\begin{array}{rrr}\n",
       "\\cos\\left({\\alpha}\\right) & 0 & \\sin\\left({\\alpha}\\right) \\\\\n",
       "0 & \\cos\\left({\\alpha}\\right) & 0 \\\\\n",
       "-\\sin\\left({\\alpha}\\right) & 0 & \\cos\\left({\\alpha}\\right)\n",
       "\\end{array}\\right)</script></html>"
      ],
      "text/plain": [
       "[ cos(alpha)           0  sin(alpha)]\n",
       "[          0  cos(alpha)           0]\n",
       "[-sin(alpha)           0  cos(alpha)]"
      ]
     },
     "execution_count": 290,
     "metadata": {},
     "output_type": "execute_result"
    }
   ],
   "source": [
    "cos(alpha) + i *l5*sin(alpha)"
   ]
  },
  {
   "cell_type": "code",
   "execution_count": 291,
   "id": "9ad8f158",
   "metadata": {},
   "outputs": [
    {
     "data": {
      "text/html": [
       "<html><script type=\"math/tex; mode=display\">\\newcommand{\\Bold}[1]{\\mathbf{#1}}\\left(\\begin{array}{rrr}\n",
       "\\cos\\left({\\alpha}\\right) & 0 & 0 \\\\\n",
       "0 & \\cos\\left({\\alpha}\\right) & \\sin\\left({\\alpha}\\right) \\\\\n",
       "0 & -\\sin\\left({\\alpha}\\right) & \\cos\\left({\\alpha}\\right)\n",
       "\\end{array}\\right)</script></html>"
      ],
      "text/plain": [
       "[ cos(alpha)           0           0]\n",
       "[          0  cos(alpha)  sin(alpha)]\n",
       "[          0 -sin(alpha)  cos(alpha)]"
      ]
     },
     "execution_count": 291,
     "metadata": {},
     "output_type": "execute_result"
    }
   ],
   "source": [
    "cos(alpha) + i *l7*sin(alpha)"
   ]
  },
  {
   "cell_type": "code",
   "execution_count": null,
   "id": "f697dbe8",
   "metadata": {},
   "outputs": [],
   "source": []
  }
 ],
 "metadata": {
  "kernelspec": {
   "display_name": "SageMath 9.0",
   "language": "sage",
   "name": "sagemath"
  },
  "language_info": {
   "codemirror_mode": {
    "name": "ipython",
    "version": 3
   },
   "file_extension": ".py",
   "mimetype": "text/x-python",
   "name": "python",
   "nbconvert_exporter": "python",
   "pygments_lexer": "ipython3",
   "version": "3.8.10"
  }
 },
 "nbformat": 4,
 "nbformat_minor": 5
}
