{
 "cells": [
  {
   "cell_type": "code",
   "execution_count": 125,
   "id": "43abdca8",
   "metadata": {},
   "outputs": [],
   "source": [
    "%display latex\n",
    "load(\"three_flavor.sage\")"
   ]
  },
  {
   "cell_type": "code",
   "execution_count": 126,
   "id": "71f2afab",
   "metadata": {},
   "outputs": [
    {
     "data": {
      "text/html": [
       "<html><script type=\"math/tex; mode=display\">\\newcommand{\\Bold}[1]{\\mathbf{#1}}\\left[\\left(\\begin{array}{rrr}\n",
       "0 & 1 & 0 \\\\\n",
       "1 & 0 & 0 \\\\\n",
       "0 & 0 & 0\n",
       "\\end{array}\\right), \\left(\\begin{array}{rrr}\n",
       "0 & -i & 0 \\\\\n",
       "i & 0 & 0 \\\\\n",
       "0 & 0 & 0\n",
       "\\end{array}\\right), \\left(\\begin{array}{rrr}\n",
       "1 & 0 & 0 \\\\\n",
       "0 & -1 & 0 \\\\\n",
       "0 & 0 & 0\n",
       "\\end{array}\\right), \\left(\\begin{array}{rrr}\n",
       "0 & 0 & 1 \\\\\n",
       "0 & 0 & 0 \\\\\n",
       "1 & 0 & 0\n",
       "\\end{array}\\right), \\left(\\begin{array}{rrr}\n",
       "0 & 0 & -i \\\\\n",
       "0 & 0 & 0 \\\\\n",
       "i & 0 & 0\n",
       "\\end{array}\\right), \\left(\\begin{array}{rrr}\n",
       "0 & 0 & 0 \\\\\n",
       "0 & 0 & 1 \\\\\n",
       "0 & 1 & 0\n",
       "\\end{array}\\right), \\left(\\begin{array}{rrr}\n",
       "0 & 0 & 0 \\\\\n",
       "0 & 0 & -i \\\\\n",
       "0 & i & 0\n",
       "\\end{array}\\right), \\left(\\begin{array}{rrr}\n",
       "\\frac{1}{3} \\, \\sqrt{3} & 0 & 0 \\\\\n",
       "0 & \\frac{1}{3} \\, \\sqrt{3} & 0 \\\\\n",
       "0 & 0 & -\\frac{2}{3} \\, \\sqrt{3}\n",
       "\\end{array}\\right)\\right]</script></html>"
      ],
      "text/plain": [
       "[\n",
       "[0 1 0]  [ 0 -I  0]  [ 1  0  0]  [0 0 1]  [ 0  0 -I]  [0 0 0]\n",
       "[1 0 0]  [ I  0  0]  [ 0 -1  0]  [0 0 0]  [ 0  0  0]  [0 0 1]\n",
       "[0 0 0], [ 0  0  0], [ 0  0  0], [1 0 0], [ I  0  0], [0 1 0],\n",
       "\n",
       "[ 0  0  0]  [ 1/3*sqrt(3)            0            0]\n",
       "[ 0  0 -I]  [           0  1/3*sqrt(3)            0]\n",
       "[ 0  I  0], [           0            0 -2/3*sqrt(3)]\n",
       "]"
      ]
     },
     "metadata": {},
     "output_type": "display_data"
    }
   ],
   "source": [
    "pretty_print(l)"
   ]
  },
  {
   "cell_type": "code",
   "execution_count": 127,
   "id": "50104ebc",
   "metadata": {},
   "outputs": [
    {
     "data": {
      "text/html": [
       "<html><script type=\"math/tex; mode=display\">\\newcommand{\\Bold}[1]{\\mathbf{#1}}\\left(\\begin{array}{rrr}\n",
       "{\\mu_u} & 0 & 0 \\\\\n",
       "0 & {\\mu_d} & 0 \\\\\n",
       "0 & 0 & {\\mu_s}\n",
       "\\end{array}\\right)</script></html>"
      ],
      "text/plain": [
       "[muu   0   0]\n",
       "[  0 mud   0]\n",
       "[  0   0 mus]"
      ]
     },
     "execution_count": 127,
     "metadata": {},
     "output_type": "execute_result"
    }
   ],
   "source": [
    "muu = var(\"muu\", latex_name=\"\\\\mu_u\")\n",
    "mud = var(\"mud\", latex_name=\"\\\\mu_d\")\n",
    "mus = var(\"mus\", latex_name=\"\\\\mu_s\")\n",
    "\n",
    "mu = diagonal_matrix([muu, mud, mus])\n",
    "mu"
   ]
  },
  {
   "cell_type": "code",
   "execution_count": 128,
   "id": "218ce508",
   "metadata": {},
   "outputs": [
    {
     "data": {
      "text/html": [
       "<html><script type=\"math/tex; mode=display\">\\newcommand{\\Bold}[1]{\\mathbf{#1}}\\left[\\frac{1}{3} \\, {\\mu_d} + \\frac{1}{3} \\, {\\mu_s} + \\frac{1}{3} \\, {\\mu_u}, 0, 0, -\\frac{1}{2} \\, {\\mu_d} + \\frac{1}{2} \\, {\\mu_u}, 0, 0, 0, 0, \\frac{1}{6} \\, \\sqrt{3} {\\mu_d} - \\frac{1}{3} \\, \\sqrt{3} {\\mu_s} + \\frac{1}{6} \\, \\sqrt{3} {\\mu_u}\\right]</script></html>"
      ],
      "text/plain": [
       "[1/3*mud + 1/3*mus + 1/3*muu,\n",
       " 0,\n",
       " 0,\n",
       " -1/2*mud + 1/2*muu,\n",
       " 0,\n",
       " 0,\n",
       " 0,\n",
       " 0,\n",
       " 1/6*sqrt(3)*mud - 1/3*sqrt(3)*mus + 1/6*sqrt(3)*muu]"
      ]
     },
     "execution_count": 128,
     "metadata": {},
     "output_type": "execute_result"
    }
   ],
   "source": [
    "a = proj(mu, l)\n",
    "a"
   ]
  },
  {
   "cell_type": "code",
   "execution_count": 129,
   "id": "1b22d543",
   "metadata": {},
   "outputs": [
    {
     "data": {
      "text/html": [
       "<html><script type=\"math/tex; mode=display\">\\newcommand{\\Bold}[1]{\\mathbf{#1}}\\left(\\begin{array}{rrr}\n",
       "{\\mu_u} & 0 & 0 \\\\\n",
       "0 & {\\mu_d} & 0 \\\\\n",
       "0 & 0 & {\\mu_s}\n",
       "\\end{array}\\right)</script></html>"
      ],
      "text/plain": [
       "[muu   0   0]\n",
       "[  0 mud   0]\n",
       "[  0   0 mus]"
      ]
     },
     "execution_count": 129,
     "metadata": {},
     "output_type": "execute_result"
    }
   ],
   "source": [
    "b = [one, *l]\n",
    "m = sum((b[i]*a[i]) for i in range(len(a)))\n",
    "m.apply_map(attrcall(\"full_simplify\"))"
   ]
  },
  {
   "cell_type": "code",
   "execution_count": 157,
   "id": "80fb02a5",
   "metadata": {},
   "outputs": [],
   "source": [
    "var(\"a\", latex_name=\"\\\\alpha\")\n",
    "na = [var(\"n_%i\"%(a+1)) for a in range(len(l))]\n",
    "S = cos(a) + i* sum(na[i]*l[i] for i in range(len(l))) * sin(a)\n",
    "SC = cos(a) - i* sum(na[i]*l[i] for i in range(len(l))) * sin(a)"
   ]
  },
  {
   "cell_type": "code",
   "execution_count": 159,
   "id": "8d759e18",
   "metadata": {},
   "outputs": [],
   "source": [
    "var(\"mu3\", latex_name=\"\\\\mu_3\")\n",
    "var(\"mu8\", latex_name=\"\\\\mu_8\")\n",
    "\n",
    "\n",
    "v = 1/2 * (mu3*l3 + mu8*l8)"
   ]
  },
  {
   "cell_type": "code",
   "execution_count": 162,
   "id": "223f69b7",
   "metadata": {},
   "outputs": [
    {
     "data": {
      "text/html": [
       "<html><script type=\"math/tex; mode=display\">\\newcommand{\\Bold}[1]{\\mathbf{#1}}\\frac{1}{2} \\, {\\left(4 \\, n_{1}^{2} \\sin\\left({\\alpha}\\right)^{2} + 4 \\, n_{2}^{2} \\sin\\left({\\alpha}\\right)^{2} + n_{4}^{2} \\sin\\left({\\alpha}\\right)^{2} + n_{5}^{2} \\sin\\left({\\alpha}\\right)^{2} + n_{6}^{2} \\sin\\left({\\alpha}\\right)^{2} + n_{7}^{2} \\sin\\left({\\alpha}\\right)^{2}\\right)} {\\mu_3}^{2} + \\frac{3}{2} \\, {\\left(n_{4}^{2} \\sin\\left({\\alpha}\\right)^{2} + n_{5}^{2} \\sin\\left({\\alpha}\\right)^{2} + n_{6}^{2} \\sin\\left({\\alpha}\\right)^{2} + n_{7}^{2} \\sin\\left({\\alpha}\\right)^{2}\\right)} {\\mu_8}^{2} + {\\left(\\sqrt{3} {\\mu_3} n_{4}^{2} \\sin\\left({\\alpha}\\right)^{2} + \\sqrt{3} {\\mu_3} n_{5}^{2} \\sin\\left({\\alpha}\\right)^{2} - \\sqrt{3} {\\mu_3} n_{6}^{2} \\sin\\left({\\alpha}\\right)^{2} - \\sqrt{3} {\\mu_3} n_{7}^{2} \\sin\\left({\\alpha}\\right)^{2}\\right)} {\\mu_8}</script></html>"
      ],
      "text/plain": [
       "1/2*(4*n_1^2*sin(a)^2 + 4*n_2^2*sin(a)^2 + n_4^2*sin(a)^2 + n_5^2*sin(a)^2 + n_6^2*sin(a)^2 + n_7^2*sin(a)^2)*mu3^2 + 3/2*(n_4^2*sin(a)^2 + n_5^2*sin(a)^2 + n_6^2*sin(a)^2 + n_7^2*sin(a)^2)*mu8^2 + (sqrt(3)*mu3*n_4^2*sin(a)^2 + sqrt(3)*mu3*n_5^2*sin(a)^2 - sqrt(3)*mu3*n_6^2*sin(a)^2 - sqrt(3)*mu3*n_7^2*sin(a)^2)*mu8"
      ]
     },
     "execution_count": 162,
     "metadata": {},
     "output_type": "execute_result"
    }
   ],
   "source": [
    "-(com(v, S) * com(v, SC)).trace().full_simplify().collect(mu3).collect(mu8\n",
    "                                                                    )"
   ]
  },
  {
   "cell_type": "code",
   "execution_count": 131,
   "id": "457e8b15",
   "metadata": {},
   "outputs": [
    {
     "data": {
      "text/html": [
       "<html><script type=\"math/tex; mode=display\">\\newcommand{\\Bold}[1]{\\mathbf{#1}}\\left[n_{1}, n_{2}, n_{3}, n_{4}, n_{5}, n_{6}, n_{7}, n_{8}\\right]</script></html>"
      ],
      "text/plain": [
       "[n_1, n_2, n_3, n_4, n_5, n_6, n_7, n_8]"
      ]
     },
     "execution_count": 131,
     "metadata": {},
     "output_type": "execute_result"
    }
   ],
   "source": [
    "na"
   ]
  },
  {
   "cell_type": "code",
   "execution_count": null,
   "id": "f9943ca7",
   "metadata": {},
   "outputs": [],
   "source": []
  }
 ],
 "metadata": {
  "kernelspec": {
   "display_name": "SageMath 9.0",
   "language": "sage",
   "name": "sagemath"
  },
  "language_info": {
   "codemirror_mode": {
    "name": "ipython",
    "version": 3
   },
   "file_extension": ".py",
   "mimetype": "text/x-python",
   "name": "python",
   "nbconvert_exporter": "python",
   "pygments_lexer": "ipython3",
   "version": "3.8.10"
  }
 },
 "nbformat": 4,
 "nbformat_minor": 5
}
