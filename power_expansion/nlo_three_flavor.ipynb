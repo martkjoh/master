{
 "cells": [
  {
   "cell_type": "code",
   "execution_count": 1,
   "id": "56d1c3a9",
   "metadata": {},
   "outputs": [],
   "source": [
    "#%display latex\n",
    "load(\"three_flavor.sage\")"
   ]
  },
  {
   "cell_type": "code",
   "execution_count": 24,
   "id": "cc2f7ff0",
   "metadata": {},
   "outputs": [],
   "source": [
    "v = v_mu\n",
    "n = 0\n",
    "S, Sd, dS, dSd = get_S(n, l2, indx=\"mu\")"
   ]
  },
  {
   "cell_type": "code",
   "execution_count": 25,
   "id": "404f6fcf",
   "metadata": {},
   "outputs": [],
   "source": [
    "indxs = [\"mu\", \"nu\", \"rho\"]\n",
    "\n",
    "\n",
    "v = []\n",
    "COM = []\n",
    "COMd = []\n",
    "for i in indxs:\n",
    "    d = var(\"d\"+i, latex_name=\"\\\\delta_\\\\\"+i, domain=\"real\")\n",
    "    v = d*mu\n",
    "    COM.append(-(v*S - S*v))      # [v_mu, Sigma]\n",
    "    COMd.append(v*Sd - Sd*v) # [v_nu, Sigma^\\dagger]"
   ]
  },
  {
   "cell_type": "code",
   "execution_count": 26,
   "id": "a54263c8",
   "metadata": {},
   "outputs": [],
   "source": [
    "dS = []\n",
    "dSd=[]\n",
    "for i in indxs:\n",
    "    _, _, dSi, dSdi = get_S(n, l2, indx=i)\n",
    "    dS.append(dSi)\n",
    "    dSd.append(dSdi)"
   ]
  },
  {
   "cell_type": "code",
   "execution_count": 27,
   "id": "69d334df",
   "metadata": {},
   "outputs": [],
   "source": [
    "kin = []\n",
    "for i, ind in enumerate(indxs):\n",
    "    term1 = mat_prep(dS[i]*(dSd[i]), n=n)\n",
    "    term2 = -I*mat_prep(dS[i]*COMd[i] - COM[i]*dS[i], n=n)\n",
    "    term3 = mat_prep(COM[i]*COMd[i], n=n)\n",
    "    kin.append(term1 + term2 + term3)"
   ]
  },
  {
   "cell_type": "code",
   "execution_count": 31,
   "id": "989bc8b2",
   "metadata": {},
   "outputs": [
    {
     "name": "stdout",
     "output_type": "stream",
     "text": [
      "1 :\n"
     ]
    },
    {
     "data": {
      "text/latex": [
       "$$ 4 \\, {\\delta_\\mu}^{4} {\\mu_I}^{4} \\sin\\left({\\alpha}\\right)^{4} $$"
      ],
      "text/plain": [
       "<IPython.core.display.Latex object>"
      ]
     },
     "metadata": {},
     "output_type": "display_data"
    }
   ],
   "source": [
    "L1 = (kin[0].trace()**2).series(e, n+1).truncate().trig_reduce().full_simplify()\n",
    "print_coeff2(L1)"
   ]
  },
  {
   "cell_type": "code",
   "execution_count": 34,
   "id": "b9bcb365",
   "metadata": {},
   "outputs": [
    {
     "name": "stdout",
     "output_type": "stream",
     "text": [
      "1 :\n"
     ]
    },
    {
     "data": {
      "text/latex": [
       "$$ 4 \\, {\\delta_\\mu}^{2} {\\delta_\\nu}^{2} {\\mu_I}^{4} \\sin\\left({\\alpha}\\right)^{4} $$"
      ],
      "text/plain": [
       "<IPython.core.display.Latex object>"
      ]
     },
     "metadata": {},
     "output_type": "display_data"
    }
   ],
   "source": [
    "L2 = kin[0].trace()*kin[1].trace()\n",
    "L2 = L2.series(e, n+1).truncate().trig_reduce().full_simplify()\n",
    "print_coeff2(L2)"
   ]
  },
  {
   "cell_type": "code",
   "execution_count": 35,
   "id": "aaf9f465",
   "metadata": {},
   "outputs": [
    {
     "name": "stdout",
     "output_type": "stream",
     "text": [
      "1 :\n"
     ]
    },
    {
     "data": {
      "text/latex": [
       "$$ 2 \\, {\\delta_\\mu}^{4} {\\mu_I}^{4} \\sin\\left({\\alpha}\\right)^{4} $$"
      ],
      "text/plain": [
       "<IPython.core.display.Latex object>"
      ]
     },
     "metadata": {},
     "output_type": "display_data"
    }
   ],
   "source": [
    "L3 = (kin[0]**2).trace()\n",
    "L3 = L3.series(e, n+1).truncate().trig_reduce().full_simplify()\n",
    "print_coeff2(L3)"
   ]
  },
  {
   "cell_type": "code",
   "execution_count": 42,
   "id": "c19feec0",
   "metadata": {},
   "outputs": [
    {
     "name": "stdout",
     "output_type": "stream",
     "text": [
      "1 :\n"
     ]
    },
    {
     "data": {
      "text/latex": [
       "$$ 16 \\, {\\bar m}^{4} \\cos\\left({\\alpha}\\right)^{2} + 16 \\, {m_S}^{2} {\\bar m}^{2} \\cos\\left({\\alpha}\\right) + 4 \\, {m_S}^{4} $$"
      ],
      "text/plain": [
       "<IPython.core.display.Latex object>"
      ]
     },
     "metadata": {},
     "output_type": "display_data"
    }
   ],
   "source": [
    "chiS = chi*Sd + S*chi.T\n",
    "L6 = (chiS.trace())^2\n",
    "L6 = L6.series(e, n+1).truncate().trig_reduce().full_simplify()\n",
    "print_coeff(L6)"
   ]
  },
  {
   "cell_type": "code",
   "execution_count": 41,
   "id": "c6a97f66",
   "metadata": {},
   "outputs": [
    {
     "name": "stdout",
     "output_type": "stream",
     "text": [
      "1 :\n"
     ]
    },
    {
     "data": {
      "text/latex": [
       "$$ 0 $$"
      ],
      "text/plain": [
       "<IPython.core.display.Latex object>"
      ]
     },
     "metadata": {},
     "output_type": "display_data"
    }
   ],
   "source": [
    "L7 = mat_prep(chi*Sd - S*chi.T, n=n)\n",
    "L7 = (L7.trace())^2\n",
    "L7 = L7.series(e, n+1).truncate().trig_reduce().full_simplify()\n",
    "print_coeff(L7)"
   ]
  },
  {
   "cell_type": "code",
   "execution_count": 48,
   "id": "0fbf373d",
   "metadata": {},
   "outputs": [
    {
     "name": "stdout",
     "output_type": "stream",
     "text": [
      "1 :\n"
     ]
    },
    {
     "data": {
      "text/latex": [
       "$$ 4 \\, {\\left(2 \\, \\cos\\left({\\alpha}\\right)^{2} - 1\\right)} {\\bar m}^{4} + 4 \\, {\\Delta m}^{4} + 2 \\, {m_S}^{4} $$"
      ],
      "text/plain": [
       "<IPython.core.display.Latex object>"
      ]
     },
     "metadata": {},
     "output_type": "display_data"
    }
   ],
   "source": [
    "L8 = mat_prep((chi*Sd)^2 + (S*chi.T)^2, n=n)\n",
    "L8 = L8.trace().series(e, n+1).truncate().trig_reduce()\n",
    "print_coeff(L8)"
   ]
  },
  {
   "cell_type": "code",
   "execution_count": 36,
   "id": "e7815442",
   "metadata": {},
   "outputs": [
    {
     "name": "stdout",
     "output_type": "stream",
     "text": [
      "1 :\n"
     ]
    },
    {
     "data": {
      "text/latex": [
       "$$ 4 \\, {\\left(2 \\, {\\delta_\\mu}^{2} {\\bar m}^{2} \\cos\\left({\\alpha}\\right) \\sin\\left({\\alpha}\\right)^{2} + {\\delta_\\mu}^{2} {m_S}^{2} \\sin\\left({\\alpha}\\right)^{2}\\right)} {\\mu_I}^{2} $$"
      ],
      "text/plain": [
       "<IPython.core.display.Latex object>"
      ]
     },
     "metadata": {},
     "output_type": "display_data"
    }
   ],
   "source": [
    "L4 = kin[0].trace()*chiS.trace()\n",
    "L4 = L4.series(e, n+1).truncate().trig_reduce().full_simplify()\n",
    "print_coeff(L4)"
   ]
  },
  {
   "cell_type": "code",
   "execution_count": 37,
   "id": "703bd058",
   "metadata": {},
   "outputs": [
    {
     "name": "stdout",
     "output_type": "stream",
     "text": [
      "1 :\n"
     ]
    },
    {
     "data": {
      "text/latex": [
       "$$ 4 \\, {\\delta_\\mu}^{2} {\\bar m}^{2} {\\mu_I}^{2} \\cos\\left({\\alpha}\\right) \\sin\\left({\\alpha}\\right)^{2} $$"
      ],
      "text/plain": [
       "<IPython.core.display.Latex object>"
      ]
     },
     "metadata": {},
     "output_type": "display_data"
    }
   ],
   "source": [
    "L5 = (kin[0]*chiS).trace()\n",
    "L5 = L5.series(e, n+1).truncate().trig_reduce().full_simplify()\n",
    "print_coeff2(L5)"
   ]
  },
  {
   "cell_type": "code",
   "execution_count": 39,
   "id": "2f4cbed6",
   "metadata": {},
   "outputs": [
    {
     "data": {
      "text/latex": [
       "$$ 2 \\, {\\Delta m}^{4} + {m_S}^{4} + 2 \\, {\\bar m}^{4} $$"
      ],
      "text/plain": [
       "<IPython.core.display.Latex object>"
      ]
     },
     "metadata": {},
     "output_type": "display_data"
    }
   ],
   "source": [
    "H1 = (chi*chi.T).trace().expand()\n",
    "pprint(H1)"
   ]
  },
  {
   "cell_type": "code",
   "execution_count": null,
   "id": "e1e0577f",
   "metadata": {},
   "outputs": [],
   "source": []
  }
 ],
 "metadata": {
  "kernelspec": {
   "display_name": "SageMath 9.0",
   "language": "sage",
   "name": "sagemath"
  },
  "language_info": {
   "codemirror_mode": {
    "name": "ipython",
    "version": 3
   },
   "file_extension": ".py",
   "mimetype": "text/x-python",
   "name": "python",
   "nbconvert_exporter": "python",
   "pygments_lexer": "ipython3",
   "version": "3.8.10"
  }
 },
 "nbformat": 4,
 "nbformat_minor": 5
}
