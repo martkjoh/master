{
 "cells": [
  {
   "cell_type": "code",
   "execution_count": 1,
   "id": "56d1c3a9",
   "metadata": {},
   "outputs": [],
   "source": [
    "%display latex\n",
    "load(\"three_flavor.sage\")"
   ]
  },
  {
   "cell_type": "code",
   "execution_count": 2,
   "id": "cc2f7ff0",
   "metadata": {},
   "outputs": [],
   "source": [
    "var(\"f\")\n",
    "v = v_mu\n",
    "\n",
    "exp_l_a = lambda l, a: (one - l**2) + l**2 * cos(a) + i *l * sin(a)\n",
    "# pion condensate\n",
    "A = exp_l_a(l2, a/2)\n",
    "U = lambda n: EXP(I * pi_s, n)\n",
    "U_d = lambda n: EXP(-I * pi_s, n)\n",
    "\n",
    "SIGMA = lambda n: mat_prep(A * U(n) * A, n)\n",
    "SIGMA_d = lambda n: mat_prep(A.C.T * U_d(n) * A.C.T, n)"
   ]
  },
  {
   "cell_type": "code",
   "execution_count": 3,
   "id": "ef7d8f9f",
   "metadata": {},
   "outputs": [],
   "source": [
    "n = 1\n",
    "S = SIGMA(n)\n",
    "Sd = SIGMA_d(n)"
   ]
  },
  {
   "cell_type": "code",
   "execution_count": 4,
   "id": "26f14497",
   "metadata": {},
   "outputs": [
    {
     "data": {
      "text/html": [
       "<html><script type=\"math/tex; mode=display\">\\newcommand{\\Bold}[1]{\\mathbf{#1}}16 \\, {\\bar m}^{4} \\cos\\left({\\alpha}\\right)^{2} + 16 \\, {m_S}^{2} {\\bar m}^{2} \\cos\\left({\\alpha}\\right) + 4 \\, {m_S}^{4}</script></html>"
      ],
      "text/plain": [
       "16*mbar^4*cos(a)^2 + 16*mS^2*mbar^2*cos(a) + 4*mS^4"
      ]
     },
     "execution_count": 4,
     "metadata": {},
     "output_type": "execute_result"
    }
   ],
   "source": [
    "term6 = mat_prep(chi*Sd + S*chi.T, n=n)\n",
    "term6 = (term6.trace())^2\n",
    "term6 = term6.series(e, n).truncate().trig_reduce().full_simplify()\n",
    "term6"
   ]
  },
  {
   "cell_type": "code",
   "execution_count": 5,
   "id": "f52b58d0",
   "metadata": {},
   "outputs": [
    {
     "data": {
      "text/html": [
       "<html><script type=\"math/tex; mode=display\">\\newcommand{\\Bold}[1]{\\mathbf{#1}}0</script></html>"
      ],
      "text/plain": [
       "0"
      ]
     },
     "execution_count": 5,
     "metadata": {},
     "output_type": "execute_result"
    }
   ],
   "source": [
    "term7 = mat_prep(chi*Sd - S*chi.T, n=n)\n",
    "term7 = (term7.trace())^2\n",
    "term7 = term7.series(e, n).truncate().trig_reduce().full_simplify()\n",
    "term7"
   ]
  },
  {
   "cell_type": "code",
   "execution_count": 6,
   "id": "4bd97a57",
   "metadata": {},
   "outputs": [
    {
     "data": {
      "text/html": [
       "<html><script type=\"math/tex; mode=display\">\\newcommand{\\Bold}[1]{\\mathbf{#1}}0</script></html>"
      ],
      "text/plain": [
       "0"
      ]
     },
     "execution_count": 6,
     "metadata": {},
     "output_type": "execute_result"
    }
   ],
   "source": [
    "term8 = mat_prep((chi*Sd)^2 - (S*chi.T)^2, n=n)\n",
    "term8 = term8.trace().series(e, n).truncate().trig_reduce().full_simplify()\n",
    "term8"
   ]
  },
  {
   "cell_type": "code",
   "execution_count": 7,
   "id": "404f6fcf",
   "metadata": {},
   "outputs": [],
   "source": [
    "var(\"dmu\", latex_name=\"\\\\delta_\\\\mu\", domain=\"real\")\n",
    "var(\"dnu\", latex_name=\"\\\\delta_\\\\nu\", domain=\"real\")\n",
    "var(\"drho\", latex_name=\"\\\\delta_\\\\rho\", domain=\"real\")\n",
    "\n",
    "vmu = dmu*mu\n",
    "vnu = dnu*mu\n",
    "vrho = drho*mu\n",
    "\n",
    "COMmu = -(vmu*S - S*vmu)      # [v_mu, Sigma]\n",
    "COMmud = vmu*Sd - Sd*vmu  # [v_nu, Sigma^\\dagger]\n",
    "\n",
    "COMnu = vnu*S - Sd*vnu  # [v_nu, Sigma^\\dagger]\n",
    "COMrho = -(vrho*S - S*vrho)      # [v_mu, Sigma]\n",
    "COMrhoct = vrho*Sd - Sd*vrho      # [v_mu, Sigma]"
   ]
  },
  {
   "cell_type": "code",
   "execution_count": 21,
   "id": "34763f6c",
   "metadata": {},
   "outputs": [],
   "source": [
    "indx = [\"mu\", \"nu\", \"rho\"]\n",
    "dps = [\n",
    "    vector([var(\"pi\"+ind+str(i), latex_name=\"\\\\partial_\\\\\"+ind+\" \\\\pi_\"+str(i)) for i  in range(1, 9)\n",
    "           ])\n",
    "    for ind in indx\n",
    "]"
   ]
  },
  {
   "cell_type": "code",
   "execution_count": 22,
   "id": "a54263c8",
   "metadata": {},
   "outputs": [],
   "source": [
    "dS = diff(S, x)\n",
    "dSd = diff(Sd, x)\n",
    "dSindx = [copy(dS) for i in indx]\n",
    "dSdindx = [copy(dSd) for i in indx]\n",
    "\n",
    "for i, dpi in enumerate(diff(p, x)):\n",
    "    for j, inx in enumerate(indx):\n",
    "        dSindx[j] = dSindx[j].subs(dpi==dps[j][i])\n",
    "        dSdindx[j] = dSdindx[j].subs(dpi==dps[j][i])"
   ]
  },
  {
   "cell_type": "code",
   "execution_count": 23,
   "id": "69d334df",
   "metadata": {},
   "outputs": [],
   "source": [
    "term1a = mat_prep(dSdindx[0]*(dSdindx[0]), n=n)\n",
    "term2a = -I*mat_prep(dSindx[0]*COMmud - COMmu*dSdindx[0], n=n)\n",
    "term3a = mat_prep(COMmu*COMmud, n=n)\n",
    "kin_mumu = term1a + term2a + term3a"
   ]
  },
  {
   "cell_type": "code",
   "execution_count": 25,
   "id": "aaf9f465",
   "metadata": {},
   "outputs": [
    {
     "data": {
      "text/html": [
       "<html><script type=\"math/tex; mode=display\">\\newcommand{\\Bold}[1]{\\mathbf{#1}}-8 \\, {\\left(\\sin\\left({\\alpha}\\right)^{4} - \\sin\\left({\\alpha}\\right)^{2}\\right)} {\\delta_\\mu}^{4} {\\varepsilon}^{2} {\\mu_I}^{4} \\pi_2\\left(x\\right)^{2} + 2 \\, {\\delta_\\mu}^{4} {\\mu_I}^{4} \\sin\\left({\\alpha}\\right)^{4} - 8 \\, {\\delta_\\mu}^{3} {\\varepsilon} {\\mu_I}^{3} {\\partial_\\mu \\pi_1} \\sin\\left({\\alpha}\\right)^{3} + 8 \\, {\\delta_\\mu}^{2} {\\varepsilon}^{2} {\\mu_I}^{2} {\\partial_\\mu \\pi_1}^{2} \\sin\\left({\\alpha}\\right)^{2} + 2 \\, {\\delta_\\mu}^{2} {\\varepsilon}^{2} {\\mu_I}^{2} {\\partial_\\mu \\pi_4}^{2} \\sin\\left({\\alpha}\\right)^{2} + 2 \\, {\\delta_\\mu}^{2} {\\varepsilon}^{2} {\\mu_I}^{2} {\\partial_\\mu \\pi_5}^{2} \\sin\\left({\\alpha}\\right)^{2} + 2 \\, {\\delta_\\mu}^{2} {\\varepsilon}^{2} {\\mu_I}^{2} {\\partial_\\mu \\pi_6}^{2} \\sin\\left({\\alpha}\\right)^{2} + 2 \\, {\\delta_\\mu}^{2} {\\varepsilon}^{2} {\\mu_I}^{2} {\\partial_\\mu \\pi_7}^{2} \\sin\\left({\\alpha}\\right)^{2} + \\frac{8}{3} \\, {\\delta_\\mu}^{2} {\\varepsilon}^{2} {\\mu_I}^{2} {\\partial_\\mu \\pi_8}^{2} \\sin\\left({\\alpha}\\right)^{2} + \\frac{1}{2} \\, {\\left(4 \\, {\\delta_\\mu}^{4} {\\varepsilon}^{2} {\\mu_I}^{3} {\\mu_S} \\cos\\left({\\alpha}\\right) \\sin\\left({\\alpha}\\right)^{2} + {\\delta_\\mu}^{4} {\\varepsilon}^{2} {\\mu_I}^{4} \\sin\\left({\\alpha}\\right)^{2} + 4 \\, {\\delta_\\mu}^{4} {\\varepsilon}^{2} {\\mu_I}^{2} {\\mu_S}^{2} \\sin\\left({\\alpha}\\right)^{2}\\right)} \\pi_4\\left(x\\right)^{2} + \\frac{1}{2} \\, {\\left(4 \\, {\\delta_\\mu}^{4} {\\varepsilon}^{2} {\\mu_I}^{3} {\\mu_S} \\cos\\left({\\alpha}\\right) \\sin\\left({\\alpha}\\right)^{2} + {\\delta_\\mu}^{4} {\\varepsilon}^{2} {\\mu_I}^{4} \\sin\\left({\\alpha}\\right)^{2} + 4 \\, {\\delta_\\mu}^{4} {\\varepsilon}^{2} {\\mu_I}^{2} {\\mu_S}^{2} \\sin\\left({\\alpha}\\right)^{2}\\right)} \\pi_5\\left(x\\right)^{2} - \\frac{1}{2} \\, {\\left(4 \\, {\\delta_\\mu}^{4} {\\varepsilon}^{2} {\\mu_I}^{3} {\\mu_S} \\cos\\left({\\alpha}\\right) \\sin\\left({\\alpha}\\right)^{2} - {\\delta_\\mu}^{4} {\\varepsilon}^{2} {\\mu_I}^{4} \\sin\\left({\\alpha}\\right)^{2} - 4 \\, {\\delta_\\mu}^{4} {\\varepsilon}^{2} {\\mu_I}^{2} {\\mu_S}^{2} \\sin\\left({\\alpha}\\right)^{2}\\right)} \\pi_6\\left(x\\right)^{2} - \\frac{1}{2} \\, {\\left(4 \\, {\\delta_\\mu}^{4} {\\varepsilon}^{2} {\\mu_I}^{3} {\\mu_S} \\cos\\left({\\alpha}\\right) \\sin\\left({\\alpha}\\right)^{2} - {\\delta_\\mu}^{4} {\\varepsilon}^{2} {\\mu_I}^{4} \\sin\\left({\\alpha}\\right)^{2} - 4 \\, {\\delta_\\mu}^{4} {\\varepsilon}^{2} {\\mu_I}^{2} {\\mu_S}^{2} \\sin\\left({\\alpha}\\right)^{2}\\right)} \\pi_7\\left(x\\right)^{2} + 8 \\, {\\left({\\delta_\\mu}^{4} {\\varepsilon} {\\mu_I}^{4} \\cos\\left({\\alpha}\\right) \\sin\\left({\\alpha}\\right)^{3} - 2 \\, {\\delta_\\mu}^{3} {\\varepsilon}^{2} {\\mu_I}^{3} {\\partial_\\mu \\pi_1} \\cos\\left({\\alpha}\\right) \\sin\\left({\\alpha}\\right)^{2}\\right)} \\pi_2\\left(x\\right) - 2 \\, {\\left({\\delta_\\mu}^{3} {\\varepsilon}^{2} {\\mu_I}^{3} {\\partial_\\mu \\pi_7} \\sin\\left({\\alpha}\\right)^{3} - {\\left({\\delta_\\mu}^{3} {\\varepsilon}^{2} {\\mu_I}^{3} \\cos\\left({\\alpha}\\right) \\sin\\left({\\alpha}\\right)^{2} + 2 \\, {\\delta_\\mu}^{3} {\\varepsilon}^{2} {\\mu_I}^{2} {\\mu_S} \\sin\\left({\\alpha}\\right)^{2}\\right)} {\\partial_\\mu \\pi_5}\\right)} \\pi_4\\left(x\\right) + 2 \\, {\\left({\\delta_\\mu}^{3} {\\varepsilon}^{2} {\\mu_I}^{3} {\\partial_\\mu \\pi_6} \\sin\\left({\\alpha}\\right)^{3} - {\\left({\\delta_\\mu}^{3} {\\varepsilon}^{2} {\\mu_I}^{3} \\cos\\left({\\alpha}\\right) \\sin\\left({\\alpha}\\right)^{2} + 2 \\, {\\delta_\\mu}^{3} {\\varepsilon}^{2} {\\mu_I}^{2} {\\mu_S} \\sin\\left({\\alpha}\\right)^{2}\\right)} {\\partial_\\mu \\pi_4}\\right)} \\pi_5\\left(x\\right) - 2 \\, {\\left(2 \\, {\\delta_\\mu}^{4} {\\varepsilon}^{2} {\\mu_I}^{3} {\\mu_S} \\pi_4\\left(x\\right) \\sin\\left({\\alpha}\\right)^{3} + {\\delta_\\mu}^{3} {\\varepsilon}^{2} {\\mu_I}^{3} {\\partial_\\mu \\pi_5} \\sin\\left({\\alpha}\\right)^{3} + {\\left({\\delta_\\mu}^{3} {\\varepsilon}^{2} {\\mu_I}^{3} \\cos\\left({\\alpha}\\right) \\sin\\left({\\alpha}\\right)^{2} - 2 \\, {\\delta_\\mu}^{3} {\\varepsilon}^{2} {\\mu_I}^{2} {\\mu_S} \\sin\\left({\\alpha}\\right)^{2}\\right)} {\\partial_\\mu \\pi_7}\\right)} \\pi_6\\left(x\\right) - 2 \\, {\\left(2 \\, {\\delta_\\mu}^{4} {\\varepsilon}^{2} {\\mu_I}^{3} {\\mu_S} \\pi_5\\left(x\\right) \\sin\\left({\\alpha}\\right)^{3} - {\\delta_\\mu}^{3} {\\varepsilon}^{2} {\\mu_I}^{3} {\\partial_\\mu \\pi_4} \\sin\\left({\\alpha}\\right)^{3} - {\\left({\\delta_\\mu}^{3} {\\varepsilon}^{2} {\\mu_I}^{3} \\cos\\left({\\alpha}\\right) \\sin\\left({\\alpha}\\right)^{2} - 2 \\, {\\delta_\\mu}^{3} {\\varepsilon}^{2} {\\mu_I}^{2} {\\mu_S} \\sin\\left({\\alpha}\\right)^{2}\\right)} {\\partial_\\mu \\pi_6}\\right)} \\pi_7\\left(x\\right)</script></html>"
      ],
      "text/plain": [
       "-8*(sin(a)^4 - sin(a)^2)*dmu^4*e^2*muI^4*pi2(x)^2 + 2*dmu^4*muI^4*sin(a)^4 - 8*dmu^3*e*muI^3*pimu1*sin(a)^3 + 8*dmu^2*e^2*muI^2*pimu1^2*sin(a)^2 + 2*dmu^2*e^2*muI^2*pimu4^2*sin(a)^2 + 2*dmu^2*e^2*muI^2*pimu5^2*sin(a)^2 + 2*dmu^2*e^2*muI^2*pimu6^2*sin(a)^2 + 2*dmu^2*e^2*muI^2*pimu7^2*sin(a)^2 + 8/3*dmu^2*e^2*muI^2*pimu8^2*sin(a)^2 + 1/2*(4*dmu^4*e^2*muI^3*muS*cos(a)*sin(a)^2 + dmu^4*e^2*muI^4*sin(a)^2 + 4*dmu^4*e^2*muI^2*muS^2*sin(a)^2)*pi4(x)^2 + 1/2*(4*dmu^4*e^2*muI^3*muS*cos(a)*sin(a)^2 + dmu^4*e^2*muI^4*sin(a)^2 + 4*dmu^4*e^2*muI^2*muS^2*sin(a)^2)*pi5(x)^2 - 1/2*(4*dmu^4*e^2*muI^3*muS*cos(a)*sin(a)^2 - dmu^4*e^2*muI^4*sin(a)^2 - 4*dmu^4*e^2*muI^2*muS^2*sin(a)^2)*pi6(x)^2 - 1/2*(4*dmu^4*e^2*muI^3*muS*cos(a)*sin(a)^2 - dmu^4*e^2*muI^4*sin(a)^2 - 4*dmu^4*e^2*muI^2*muS^2*sin(a)^2)*pi7(x)^2 + 8*(dmu^4*e*muI^4*cos(a)*sin(a)^3 - 2*dmu^3*e^2*muI^3*pimu1*cos(a)*sin(a)^2)*pi2(x) - 2*(dmu^3*e^2*muI^3*pimu7*sin(a)^3 - (dmu^3*e^2*muI^3*cos(a)*sin(a)^2 + 2*dmu^3*e^2*muI^2*muS*sin(a)^2)*pimu5)*pi4(x) + 2*(dmu^3*e^2*muI^3*pimu6*sin(a)^3 - (dmu^3*e^2*muI^3*cos(a)*sin(a)^2 + 2*dmu^3*e^2*muI^2*muS*sin(a)^2)*pimu4)*pi5(x) - 2*(2*dmu^4*e^2*muI^3*muS*pi4(x)*sin(a)^3 + dmu^3*e^2*muI^3*pimu5*sin(a)^3 + (dmu^3*e^2*muI^3*cos(a)*sin(a)^2 - 2*dmu^3*e^2*muI^2*muS*sin(a)^2)*pimu7)*pi6(x) - 2*(2*dmu^4*e^2*muI^3*muS*pi5(x)*sin(a)^3 - dmu^3*e^2*muI^3*pimu4*sin(a)^3 - (dmu^3*e^2*muI^3*cos(a)*sin(a)^2 - 2*dmu^3*e^2*muI^2*muS*sin(a)^2)*pimu6)*pi7(x)"
      ]
     },
     "execution_count": 25,
     "metadata": {},
     "output_type": "execute_result"
    }
   ],
   "source": [
    "(kin_mumu**2).trace().trig_reduce().full_simplify()"
   ]
  },
  {
   "cell_type": "code",
   "execution_count": 18,
   "id": "0fbf373d",
   "metadata": {},
   "outputs": [
    {
     "data": {
      "text/html": [
       "<html><script type=\"math/tex; mode=display\">\\newcommand{\\Bold}[1]{\\mathbf{#1}}-4 \\, {\\delta_\\mu} {\\varepsilon} {\\mu_I} \\sin\\left({\\alpha}\\right)</script></html>"
      ],
      "text/plain": [
       "-4*dmu*e*muI*sin(a)"
      ]
     },
     "execution_count": 18,
     "metadata": {},
     "output_type": "execute_result"
    }
   ],
   "source": [
    "kin_mumu.trace().coefficient(pimu1(x)).trig_reduce()"
   ]
  },
  {
   "cell_type": "code",
   "execution_count": null,
   "id": "e7815442",
   "metadata": {},
   "outputs": [],
   "source": []
  }
 ],
 "metadata": {
  "kernelspec": {
   "display_name": "SageMath 9.0",
   "language": "sage",
   "name": "sagemath"
  },
  "language_info": {
   "codemirror_mode": {
    "name": "ipython",
    "version": 3
   },
   "file_extension": ".py",
   "mimetype": "text/x-python",
   "name": "python",
   "nbconvert_exporter": "python",
   "pygments_lexer": "ipython3",
   "version": "3.8.10"
  }
 },
 "nbformat": 4,
 "nbformat_minor": 5
}
