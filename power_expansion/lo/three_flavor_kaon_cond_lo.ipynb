{
 "cells": [
  {
   "cell_type": "code",
   "execution_count": 1,
   "id": "b35e7d13",
   "metadata": {},
   "outputs": [],
   "source": [
    "%display latex\n",
    "load(\"../three_flavor.sage\")"
   ]
  },
  {
   "cell_type": "code",
   "execution_count": 2,
   "id": "ddcb84e6",
   "metadata": {},
   "outputs": [],
   "source": [
    "n = 2\n",
    "v = v_mu\n",
    "\n",
    "S, Sd, dS, dSd = get_S(n, l5)\n",
    "\n",
    "COM = v*S - S*v # [v_mu, Sigma]\n",
    "COMd = Sd*v - v*Sd\n",
    "\n",
    "COM = mat_prep(COM, n)\n",
    "COMd = mat_prep(COMd, n)"
   ]
  },
  {
   "cell_type": "code",
   "execution_count": 3,
   "id": "3de1d063",
   "metadata": {},
   "outputs": [],
   "source": [
    "term1 = mat_prep(dS*(dSd), n)"
   ]
  },
  {
   "cell_type": "code",
   "execution_count": 4,
   "id": "59b566b4",
   "metadata": {},
   "outputs": [],
   "source": [
    "term2 = -I*mat_prep(dS*(-COMd) + COM*dSd, n)"
   ]
  },
  {
   "cell_type": "code",
   "execution_count": 5,
   "id": "1444827a",
   "metadata": {},
   "outputs": [],
   "source": [
    "term3 = mat_prep(COM*COMd, n)"
   ]
  },
  {
   "cell_type": "code",
   "execution_count": 6,
   "id": "73d62ad1",
   "metadata": {},
   "outputs": [],
   "source": [
    "term1 = term1.trace().full_simplify().trig_reduce()\n",
    "term2 = term2.trace().full_simplify().trig_reduce()\n",
    "term3 = term3.trace().full_simplify().trig_reduce()\n",
    "mass_term = (chi*Sd + S*chi).trace().trig_reduce().full_simplify()\n",
    "term1, term2, term3, mass_term = (f^2/4 * term for term in [term1, term2, term3, mass_term])"
   ]
  },
  {
   "cell_type": "code",
   "execution_count": 7,
   "id": "304c1475",
   "metadata": {},
   "outputs": [],
   "source": [
    "def print_coeff(elem):\n",
    "    coeff = elem.coefficients(e)\n",
    "    for i in range(len(coeff)):\n",
    "        print(e^coeff[i][1], \":\")\n",
    "        pretty_print(coeff[i][0].full_simplify())"
   ]
  },
  {
   "cell_type": "code",
   "execution_count": 8,
   "id": "241d3e44",
   "metadata": {},
   "outputs": [
    {
     "name": "stdout",
     "output_type": "stream",
     "text": [
      "1 :\n"
     ]
    },
    {
     "data": {
      "text/html": [
       "<html><script type=\"math/tex; mode=display\">\\newcommand{\\Bold}[1]{\\mathbf{#1}}\\frac{1}{8} \\, {\\delta}^{2} f^{2} {\\mu_I}^{2} \\sin\\left({\\alpha}\\right)^{2} + \\frac{1}{2} \\, {\\delta}^{2} f^{2} {\\mu_I} {\\mu_S} \\sin\\left({\\alpha}\\right)^{2} + \\frac{1}{2} \\, {\\delta}^{2} f^{2} {\\mu_S}^{2} \\sin\\left({\\alpha}\\right)^{2} + \\frac{1}{2} \\, f^{2} {\\bar m}^{2} {\\left(\\cos\\left({\\alpha}\\right) + 1\\right)} - \\frac{1}{2} \\, {\\Delta m}^{2} f^{2} {\\left(\\cos\\left({\\alpha}\\right) - 1\\right)} + \\frac{1}{2} \\, f^{2} {m_S}^{2} \\cos\\left({\\alpha}\\right)</script></html>"
      ],
      "text/plain": [
       "1/8*d^2*f^2*muI^2*sin(a)^2 + 1/2*d^2*f^2*muI*muS*sin(a)^2 + 1/2*d^2*f^2*muS^2*sin(a)^2 + 1/2*f^2*mbar^2*(cos(a) + 1) - 1/2*dm^2*f^2*(cos(a) - 1) + 1/2*f^2*mS^2*cos(a)"
      ]
     },
     "metadata": {},
     "output_type": "display_data"
    },
    {
     "name": "stdout",
     "output_type": "stream",
     "text": [
      "e :\n"
     ]
    },
    {
     "data": {
      "text/html": [
       "<html><script type=\"math/tex; mode=display\">\\newcommand{\\Bold}[1]{\\mathbf{#1}}-\\frac{1}{2} \\, {\\delta} {\\partial_\\mu\\varphi_4} f^{2} {\\mu_I} \\sin\\left({\\alpha}\\right) - {\\delta} {\\partial_\\mu\\varphi_4} f^{2} {\\mu_S} \\sin\\left({\\alpha}\\right) + \\frac{1}{4} \\, {\\left({\\delta}^{2} f^{2} {\\mu_I}^{2} \\cos\\left({\\alpha}\\right) \\sin\\left({\\alpha}\\right) + 4 \\, {\\delta}^{2} f^{2} {\\mu_I} {\\mu_S} \\cos\\left({\\alpha}\\right) \\sin\\left({\\alpha}\\right) + 4 \\, {\\delta}^{2} f^{2} {\\mu_S}^{2} \\cos\\left({\\alpha}\\right) \\sin\\left({\\alpha}\\right) + 2 \\, {\\Delta m}^{2} f^{2} \\sin\\left({\\alpha}\\right) - 2 \\, f^{2} {m_S}^{2} \\sin\\left({\\alpha}\\right) - 2 \\, f^{2} {\\bar m}^{2} \\sin\\left({\\alpha}\\right)\\right)} {\\varphi_5}</script></html>"
      ],
      "text/plain": [
       "-1/2*d*dphi4mu*f^2*muI*sin(a) - d*dphi4mu*f^2*muS*sin(a) + 1/4*(d^2*f^2*muI^2*cos(a)*sin(a) + 4*d^2*f^2*muI*muS*cos(a)*sin(a) + 4*d^2*f^2*muS^2*cos(a)*sin(a) + 2*dm^2*f^2*sin(a) - 2*f^2*mS^2*sin(a) - 2*f^2*mbar^2*sin(a))*phi5"
      ]
     },
     "metadata": {},
     "output_type": "display_data"
    },
    {
     "name": "stdout",
     "output_type": "stream",
     "text": [
      "e^2 :\n"
     ]
    },
    {
     "data": {
      "text/html": [
       "<html><script type=\"math/tex; mode=display\">\\newcommand{\\Bold}[1]{\\mathbf{#1}}\\frac{1}{288} \\, \\sqrt{3} {\\left(48 \\, {\\left(\\sqrt{3} {\\partial_\\mu\\varphi_1}^{2} + \\sqrt{3} {\\partial_\\mu\\varphi_2}^{2} + \\sqrt{3} {\\partial_\\mu\\varphi_3}^{2} + \\sqrt{3} {\\partial_\\mu\\varphi_4}^{2} + \\sqrt{3} {\\partial_\\mu\\varphi_5}^{2} + \\sqrt{3} {\\partial_\\mu\\varphi_6}^{2} + \\sqrt{3} {\\partial_\\mu\\varphi_7}^{2} + \\sqrt{3} {\\partial_\\mu\\varphi_8}^{2}\\right)} f^{2} + 6 \\, {\\left({\\left(\\sqrt{3} \\cos\\left({\\alpha}\\right)^{2} + 3 \\, \\sqrt{3} \\cos\\left({\\alpha}\\right) + 4 \\, \\sqrt{3}\\right)} {\\delta}^{2} f^{2} {\\mu_I}^{2} + 4 \\, {\\left(\\sqrt{3} \\cos\\left({\\alpha}\\right)^{2} + \\sqrt{3} \\cos\\left({\\alpha}\\right) - 2 \\, \\sqrt{3}\\right)} {\\delta}^{2} f^{2} {\\mu_I} {\\mu_S} + 4 \\, {\\left(\\sqrt{3} \\cos\\left({\\alpha}\\right)^{2} - \\sqrt{3} \\cos\\left({\\alpha}\\right)\\right)} {\\delta}^{2} f^{2} {\\mu_S}^{2} + 2 \\, {\\left(\\sqrt{3} \\cos\\left({\\alpha}\\right) - \\sqrt{3}\\right)} {\\Delta m}^{2} f^{2} - 2 \\, {\\left(\\sqrt{3} \\cos\\left({\\alpha}\\right) - \\sqrt{3}\\right)} f^{2} {m_S}^{2} - 2 \\, {\\left(\\sqrt{3} \\cos\\left({\\alpha}\\right) + 3 \\, \\sqrt{3}\\right)} f^{2} {\\bar m}^{2}\\right)} {\\varphi_1}^{2} + 6 \\, {\\left({\\left(\\sqrt{3} \\cos\\left({\\alpha}\\right)^{2} + 3 \\, \\sqrt{3} \\cos\\left({\\alpha}\\right) + 4 \\, \\sqrt{3}\\right)} {\\delta}^{2} f^{2} {\\mu_I}^{2} + 4 \\, {\\left(\\sqrt{3} \\cos\\left({\\alpha}\\right)^{2} + \\sqrt{3} \\cos\\left({\\alpha}\\right) - 2 \\, \\sqrt{3}\\right)} {\\delta}^{2} f^{2} {\\mu_I} {\\mu_S} + 4 \\, {\\left(\\sqrt{3} \\cos\\left({\\alpha}\\right)^{2} - \\sqrt{3} \\cos\\left({\\alpha}\\right)\\right)} {\\delta}^{2} f^{2} {\\mu_S}^{2} + 2 \\, {\\left(\\sqrt{3} \\cos\\left({\\alpha}\\right) - \\sqrt{3}\\right)} {\\Delta m}^{2} f^{2} - 2 \\, {\\left(\\sqrt{3} \\cos\\left({\\alpha}\\right) - \\sqrt{3}\\right)} f^{2} {m_S}^{2} - 2 \\, {\\left(\\sqrt{3} \\cos\\left({\\alpha}\\right) + 3 \\, \\sqrt{3}\\right)} f^{2} {\\bar m}^{2}\\right)} {\\varphi_2}^{2} + 3 \\, {\\left({\\left(\\sqrt{3} \\cos\\left({\\alpha}\\right)^{2} - \\sqrt{3}\\right)} {\\delta}^{2} f^{2} {\\mu_I}^{2} + 4 \\, {\\left(\\sqrt{3} \\cos\\left({\\alpha}\\right)^{2} - \\sqrt{3}\\right)} {\\delta}^{2} f^{2} {\\mu_I} {\\mu_S} + 4 \\, {\\left(\\sqrt{3} \\cos\\left({\\alpha}\\right)^{2} - \\sqrt{3}\\right)} {\\delta}^{2} f^{2} {\\mu_S}^{2} + 4 \\, {\\left(\\sqrt{3} \\cos\\left({\\alpha}\\right) - \\sqrt{3}\\right)} {\\Delta m}^{2} f^{2} - 4 \\, {\\left(\\sqrt{3} \\cos\\left({\\alpha}\\right) - \\sqrt{3}\\right)} f^{2} {m_S}^{2} - 4 \\, {\\left(\\sqrt{3} \\cos\\left({\\alpha}\\right) + 3 \\, \\sqrt{3}\\right)} f^{2} {\\bar m}^{2}\\right)} {\\varphi_3}^{2} + 12 \\, {\\left(\\sqrt{3} {\\delta}^{2} f^{2} {\\mu_I}^{2} \\cos\\left({\\alpha}\\right)^{2} + 4 \\, \\sqrt{3} {\\delta}^{2} f^{2} {\\mu_I} {\\mu_S} \\cos\\left({\\alpha}\\right)^{2} + 4 \\, \\sqrt{3} {\\delta}^{2} f^{2} {\\mu_S}^{2} \\cos\\left({\\alpha}\\right)^{2} + 2 \\, \\sqrt{3} {\\Delta m}^{2} f^{2} \\cos\\left({\\alpha}\\right) - 2 \\, \\sqrt{3} f^{2} {m_S}^{2} \\cos\\left({\\alpha}\\right) - 2 \\, \\sqrt{3} f^{2} {\\bar m}^{2} \\cos\\left({\\alpha}\\right)\\right)} {\\varphi_4}^{2} + 12 \\, {\\left({\\left(2 \\, \\sqrt{3} \\cos\\left({\\alpha}\\right)^{2} - \\sqrt{3}\\right)} {\\delta}^{2} f^{2} {\\mu_I}^{2} + 4 \\, {\\left(2 \\, \\sqrt{3} \\cos\\left({\\alpha}\\right)^{2} - \\sqrt{3}\\right)} {\\delta}^{2} f^{2} {\\mu_I} {\\mu_S} + 4 \\, {\\left(2 \\, \\sqrt{3} \\cos\\left({\\alpha}\\right)^{2} - \\sqrt{3}\\right)} {\\delta}^{2} f^{2} {\\mu_S}^{2} + 2 \\, \\sqrt{3} {\\Delta m}^{2} f^{2} \\cos\\left({\\alpha}\\right) - 2 \\, \\sqrt{3} f^{2} {m_S}^{2} \\cos\\left({\\alpha}\\right) - 2 \\, \\sqrt{3} f^{2} {\\bar m}^{2} \\cos\\left({\\alpha}\\right)\\right)} {\\varphi_5}^{2} + 6 \\, {\\left({\\left(\\sqrt{3} \\cos\\left({\\alpha}\\right)^{2} - 3 \\, \\sqrt{3} \\cos\\left({\\alpha}\\right) + 4 \\, \\sqrt{3}\\right)} {\\delta}^{2} f^{2} {\\mu_I}^{2} + 4 \\, {\\left(\\sqrt{3} \\cos\\left({\\alpha}\\right)^{2} - \\sqrt{3} \\cos\\left({\\alpha}\\right) - 2 \\, \\sqrt{3}\\right)} {\\delta}^{2} f^{2} {\\mu_I} {\\mu_S} + 4 \\, {\\left(\\sqrt{3} \\cos\\left({\\alpha}\\right)^{2} + \\sqrt{3} \\cos\\left({\\alpha}\\right)\\right)} {\\delta}^{2} f^{2} {\\mu_S}^{2} + 2 \\, {\\left(\\sqrt{3} \\cos\\left({\\alpha}\\right) - 3 \\, \\sqrt{3}\\right)} {\\Delta m}^{2} f^{2} - 2 \\, {\\left(\\sqrt{3} \\cos\\left({\\alpha}\\right) + \\sqrt{3}\\right)} f^{2} {m_S}^{2} - 2 \\, {\\left(\\sqrt{3} \\cos\\left({\\alpha}\\right) + \\sqrt{3}\\right)} f^{2} {\\bar m}^{2}\\right)} {\\varphi_6}^{2} + 6 \\, {\\left({\\left(\\sqrt{3} \\cos\\left({\\alpha}\\right)^{2} - 3 \\, \\sqrt{3} \\cos\\left({\\alpha}\\right) + 4 \\, \\sqrt{3}\\right)} {\\delta}^{2} f^{2} {\\mu_I}^{2} + 4 \\, {\\left(\\sqrt{3} \\cos\\left({\\alpha}\\right)^{2} - \\sqrt{3} \\cos\\left({\\alpha}\\right) - 2 \\, \\sqrt{3}\\right)} {\\delta}^{2} f^{2} {\\mu_I} {\\mu_S} + 4 \\, {\\left(\\sqrt{3} \\cos\\left({\\alpha}\\right)^{2} + \\sqrt{3} \\cos\\left({\\alpha}\\right)\\right)} {\\delta}^{2} f^{2} {\\mu_S}^{2} + 2 \\, {\\left(\\sqrt{3} \\cos\\left({\\alpha}\\right) - 3 \\, \\sqrt{3}\\right)} {\\Delta m}^{2} f^{2} - 2 \\, {\\left(\\sqrt{3} \\cos\\left({\\alpha}\\right) + \\sqrt{3}\\right)} f^{2} {m_S}^{2} - 2 \\, {\\left(\\sqrt{3} \\cos\\left({\\alpha}\\right) + \\sqrt{3}\\right)} f^{2} {\\bar m}^{2}\\right)} {\\varphi_7}^{2} + 6 \\, {\\left(3 \\, {\\left(\\cos\\left({\\alpha}\\right)^{2} - 1\\right)} {\\delta}^{2} f^{2} {\\mu_I}^{2} + 12 \\, {\\left(\\cos\\left({\\alpha}\\right)^{2} - 1\\right)} {\\delta}^{2} f^{2} {\\mu_I} {\\mu_S} + 12 \\, {\\left(\\cos\\left({\\alpha}\\right)^{2} - 1\\right)} {\\delta}^{2} f^{2} {\\mu_S}^{2} + 4 \\, {\\Delta m}^{2} f^{2} {\\left(\\cos\\left({\\alpha}\\right) + 3\\right)} - 4 \\, f^{2} {m_S}^{2} {\\left(\\cos\\left({\\alpha}\\right) - 1\\right)} - 4 \\, f^{2} {\\bar m}^{2} {\\left(\\cos\\left({\\alpha}\\right) - 1\\right)}\\right)} {\\varphi_3} {\\varphi_8} + {\\left(9 \\, {\\left(\\sqrt{3} \\cos\\left({\\alpha}\\right)^{2} - \\sqrt{3}\\right)} {\\delta}^{2} f^{2} {\\mu_I}^{2} + 36 \\, {\\left(\\sqrt{3} \\cos\\left({\\alpha}\\right)^{2} - \\sqrt{3}\\right)} {\\delta}^{2} f^{2} {\\mu_I} {\\mu_S} + 36 \\, {\\left(\\sqrt{3} \\cos\\left({\\alpha}\\right)^{2} - \\sqrt{3}\\right)} {\\delta}^{2} f^{2} {\\mu_S}^{2} + 20 \\, {\\left(\\sqrt{3} \\cos\\left({\\alpha}\\right) - \\sqrt{3}\\right)} {\\Delta m}^{2} f^{2} - 4 \\, {\\left(5 \\, \\sqrt{3} \\cos\\left({\\alpha}\\right) + 3 \\, \\sqrt{3}\\right)} f^{2} {m_S}^{2} - 4 \\, {\\left(5 \\, \\sqrt{3} \\cos\\left({\\alpha}\\right) - \\sqrt{3}\\right)} f^{2} {\\bar m}^{2}\\right)} {\\varphi_8}^{2} + 24 \\, {\\left({\\left(\\sqrt{3} \\cos\\left({\\alpha}\\right) + 3 \\, \\sqrt{3}\\right)} {\\delta} {\\partial_\\mu\\varphi_2} f^{2} {\\mu_I} + 2 \\, {\\left(\\sqrt{3} \\cos\\left({\\alpha}\\right) - \\sqrt{3}\\right)} {\\delta} {\\partial_\\mu\\varphi_2} f^{2} {\\mu_S}\\right)} {\\varphi_1} - 24 \\, {\\left({\\left(\\sqrt{3} \\cos\\left({\\alpha}\\right) + 3 \\, \\sqrt{3}\\right)} {\\delta} {\\partial_\\mu\\varphi_1} f^{2} {\\mu_I} + 2 \\, {\\left(\\sqrt{3} \\cos\\left({\\alpha}\\right) - \\sqrt{3}\\right)} {\\delta} {\\partial_\\mu\\varphi_1} f^{2} {\\mu_S}\\right)} {\\varphi_2} + 48 \\, {\\left(\\sqrt{3} {\\delta} {\\partial_\\mu\\varphi_5} f^{2} {\\mu_I} \\cos\\left({\\alpha}\\right) + 2 \\, \\sqrt{3} {\\delta} {\\partial_\\mu\\varphi_5} f^{2} {\\mu_S} \\cos\\left({\\alpha}\\right)\\right)} {\\varphi_4} - 48 \\, {\\left(\\sqrt{3} {\\delta} {\\partial_\\mu\\varphi_4} f^{2} {\\mu_I} \\cos\\left({\\alpha}\\right) + 2 \\, \\sqrt{3} {\\delta} {\\partial_\\mu\\varphi_4} f^{2} {\\mu_S} \\cos\\left({\\alpha}\\right)\\right)} {\\varphi_5} + 24 \\, {\\left({\\left(\\sqrt{3} \\cos\\left({\\alpha}\\right) - 3 \\, \\sqrt{3}\\right)} {\\delta} {\\partial_\\mu\\varphi_7} f^{2} {\\mu_I} + 2 \\, {\\left(\\sqrt{3} \\cos\\left({\\alpha}\\right) + \\sqrt{3}\\right)} {\\delta} {\\partial_\\mu\\varphi_7} f^{2} {\\mu_S}\\right)} {\\varphi_6} - 24 \\, {\\left({\\left(\\sqrt{3} \\cos\\left({\\alpha}\\right) - 3 \\, \\sqrt{3}\\right)} {\\delta} {\\partial_\\mu\\varphi_6} f^{2} {\\mu_I} + 2 \\, {\\left(\\sqrt{3} \\cos\\left({\\alpha}\\right) + \\sqrt{3}\\right)} {\\delta} {\\partial_\\mu\\varphi_6} f^{2} {\\mu_S}\\right)} {\\varphi_7}\\right)}</script></html>"
      ],
      "text/plain": [
       "1/288*sqrt(3)*(48*(sqrt(3)*dphi1mu^2 + sqrt(3)*dphi2mu^2 + sqrt(3)*dphi3mu^2 + sqrt(3)*dphi4mu^2 + sqrt(3)*dphi5mu^2 + sqrt(3)*dphi6mu^2 + sqrt(3)*dphi7mu^2 + sqrt(3)*dphi8mu^2)*f^2 + 6*((sqrt(3)*cos(a)^2 + 3*sqrt(3)*cos(a) + 4*sqrt(3))*d^2*f^2*muI^2 + 4*(sqrt(3)*cos(a)^2 + sqrt(3)*cos(a) - 2*sqrt(3))*d^2*f^2*muI*muS + 4*(sqrt(3)*cos(a)^2 - sqrt(3)*cos(a))*d^2*f^2*muS^2 + 2*(sqrt(3)*cos(a) - sqrt(3))*dm^2*f^2 - 2*(sqrt(3)*cos(a) - sqrt(3))*f^2*mS^2 - 2*(sqrt(3)*cos(a) + 3*sqrt(3))*f^2*mbar^2)*phi1^2 + 6*((sqrt(3)*cos(a)^2 + 3*sqrt(3)*cos(a) + 4*sqrt(3))*d^2*f^2*muI^2 + 4*(sqrt(3)*cos(a)^2 + sqrt(3)*cos(a) - 2*sqrt(3))*d^2*f^2*muI*muS + 4*(sqrt(3)*cos(a)^2 - sqrt(3)*cos(a))*d^2*f^2*muS^2 + 2*(sqrt(3)*cos(a) - sqrt(3))*dm^2*f^2 - 2*(sqrt(3)*cos(a) - sqrt(3))*f^2*mS^2 - 2*(sqrt(3)*cos(a) + 3*sqrt(3))*f^2*mbar^2)*phi2^2 + 3*((sqrt(3)*cos(a)^2 - sqrt(3))*d^2*f^2*muI^2 + 4*(sqrt(3)*cos(a)^2 - sqrt(3))*d^2*f^2*muI*muS + 4*(sqrt(3)*cos(a)^2 - sqrt(3))*d^2*f^2*muS^2 + 4*(sqrt(3)*cos(a) - sqrt(3))*dm^2*f^2 - 4*(sqrt(3)*cos(a) - sqrt(3))*f^2*mS^2 - 4*(sqrt(3)*cos(a) + 3*sqrt(3))*f^2*mbar^2)*phi3^2 + 12*(sqrt(3)*d^2*f^2*muI^2*cos(a)^2 + 4*sqrt(3)*d^2*f^2*muI*muS*cos(a)^2 + 4*sqrt(3)*d^2*f^2*muS^2*cos(a)^2 + 2*sqrt(3)*dm^2*f^2*cos(a) - 2*sqrt(3)*f^2*mS^2*cos(a) - 2*sqrt(3)*f^2*mbar^2*cos(a))*phi4^2 + 12*((2*sqrt(3)*cos(a)^2 - sqrt(3))*d^2*f^2*muI^2 + 4*(2*sqrt(3)*cos(a)^2 - sqrt(3))*d^2*f^2*muI*muS + 4*(2*sqrt(3)*cos(a)^2 - sqrt(3))*d^2*f^2*muS^2 + 2*sqrt(3)*dm^2*f^2*cos(a) - 2*sqrt(3)*f^2*mS^2*cos(a) - 2*sqrt(3)*f^2*mbar^2*cos(a))*phi5^2 + 6*((sqrt(3)*cos(a)^2 - 3*sqrt(3)*cos(a) + 4*sqrt(3))*d^2*f^2*muI^2 + 4*(sqrt(3)*cos(a)^2 - sqrt(3)*cos(a) - 2*sqrt(3))*d^2*f^2*muI*muS + 4*(sqrt(3)*cos(a)^2 + sqrt(3)*cos(a))*d^2*f^2*muS^2 + 2*(sqrt(3)*cos(a) - 3*sqrt(3))*dm^2*f^2 - 2*(sqrt(3)*cos(a) + sqrt(3))*f^2*mS^2 - 2*(sqrt(3)*cos(a) + sqrt(3))*f^2*mbar^2)*phi6^2 + 6*((sqrt(3)*cos(a)^2 - 3*sqrt(3)*cos(a) + 4*sqrt(3))*d^2*f^2*muI^2 + 4*(sqrt(3)*cos(a)^2 - sqrt(3)*cos(a) - 2*sqrt(3))*d^2*f^2*muI*muS + 4*(sqrt(3)*cos(a)^2 + sqrt(3)*cos(a))*d^2*f^2*muS^2 + 2*(sqrt(3)*cos(a) - 3*sqrt(3))*dm^2*f^2 - 2*(sqrt(3)*cos(a) + sqrt(3))*f^2*mS^2 - 2*(sqrt(3)*cos(a) + sqrt(3))*f^2*mbar^2)*phi7^2 + 6*(3*(cos(a)^2 - 1)*d^2*f^2*muI^2 + 12*(cos(a)^2 - 1)*d^2*f^2*muI*muS + 12*(cos(a)^2 - 1)*d^2*f^2*muS^2 + 4*dm^2*f^2*(cos(a) + 3) - 4*f^2*mS^2*(cos(a) - 1) - 4*f^2*mbar^2*(cos(a) - 1))*phi3*phi8 + (9*(sqrt(3)*cos(a)^2 - sqrt(3))*d^2*f^2*muI^2 + 36*(sqrt(3)*cos(a)^2 - sqrt(3))*d^2*f^2*muI*muS + 36*(sqrt(3)*cos(a)^2 - sqrt(3))*d^2*f^2*muS^2 + 20*(sqrt(3)*cos(a) - sqrt(3))*dm^2*f^2 - 4*(5*sqrt(3)*cos(a) + 3*sqrt(3))*f^2*mS^2 - 4*(5*sqrt(3)*cos(a) - sqrt(3))*f^2*mbar^2)*phi8^2 + 24*((sqrt(3)*cos(a) + 3*sqrt(3))*d*dphi2mu*f^2*muI + 2*(sqrt(3)*cos(a) - sqrt(3))*d*dphi2mu*f^2*muS)*phi1 - 24*((sqrt(3)*cos(a) + 3*sqrt(3))*d*dphi1mu*f^2*muI + 2*(sqrt(3)*cos(a) - sqrt(3))*d*dphi1mu*f^2*muS)*phi2 + 48*(sqrt(3)*d*dphi5mu*f^2*muI*cos(a) + 2*sqrt(3)*d*dphi5mu*f^2*muS*cos(a))*phi4 - 48*(sqrt(3)*d*dphi4mu*f^2*muI*cos(a) + 2*sqrt(3)*d*dphi4mu*f^2*muS*cos(a))*phi5 + 24*((sqrt(3)*cos(a) - 3*sqrt(3))*d*dphi7mu*f^2*muI + 2*(sqrt(3)*cos(a) + sqrt(3))*d*dphi7mu*f^2*muS)*phi6 - 24*((sqrt(3)*cos(a) - 3*sqrt(3))*d*dphi6mu*f^2*muI + 2*(sqrt(3)*cos(a) + sqrt(3))*d*dphi6mu*f^2*muS)*phi7)"
      ]
     },
     "metadata": {},
     "output_type": "display_data"
    }
   ],
   "source": [
    "L = (term1 + term2 + term3 + mass_term).full_simplify()\n",
    "print_coeff(L)"
   ]
  },
  {
   "cell_type": "code",
   "execution_count": 9,
   "id": "631b4cc8",
   "metadata": {},
   "outputs": [
    {
     "data": {
      "text/html": [
       "<html><script type=\"math/tex; mode=display\">\\newcommand{\\Bold}[1]{\\mathbf{#1}}\\frac{1}{2} \\, {\\left({\\partial_\\mu\\varphi_1}^{2} + {\\partial_\\mu\\varphi_2}^{2} + {\\partial_\\mu\\varphi_3}^{2} + {\\partial_\\mu\\varphi_4}^{2} + {\\partial_\\mu\\varphi_5}^{2} + {\\partial_\\mu\\varphi_6}^{2} + {\\partial_\\mu\\varphi_7}^{2} + {\\partial_\\mu\\varphi_8}^{2}\\right)} f^{2}</script></html>"
      ],
      "text/plain": [
       "1/2*(dphi1mu^2 + dphi2mu^2 + dphi3mu^2 + dphi4mu^2 + dphi5mu^2 + dphi6mu^2 + dphi7mu^2 + dphi8mu^2)*f^2"
      ]
     },
     "execution_count": 9,
     "metadata": {},
     "output_type": "execute_result"
    }
   ],
   "source": [
    "(term1).full_simplify().coefficient(e**2)"
   ]
  },
  {
   "cell_type": "code",
   "execution_count": 10,
   "id": "80f6f1ec",
   "metadata": {},
   "outputs": [
    {
     "data": {
      "text/html": [
       "<html><script type=\"math/tex; mode=display\">\\newcommand{\\Bold}[1]{\\mathbf{#1}}\\frac{1}{2} \\, {\\left({\\delta} {\\partial_\\mu\\varphi_2} f^{2} {\\mu_I} {\\left(\\cos\\left({\\alpha}\\right) + 3\\right)} + 2 \\, {\\delta} {\\partial_\\mu\\varphi_2} f^{2} {\\mu_S} {\\left(\\cos\\left({\\alpha}\\right) - 1\\right)}\\right)} {\\varphi_1} - \\frac{1}{2} \\, {\\left({\\delta} {\\partial_\\mu\\varphi_1} f^{2} {\\mu_I} {\\left(\\cos\\left({\\alpha}\\right) + 3\\right)} + 2 \\, {\\delta} {\\partial_\\mu\\varphi_1} f^{2} {\\mu_S} {\\left(\\cos\\left({\\alpha}\\right) - 1\\right)}\\right)} {\\varphi_2} + {\\left({\\delta} {\\partial_\\mu\\varphi_5} f^{2} {\\mu_I} \\cos\\left({\\alpha}\\right) + 2 \\, {\\delta} {\\partial_\\mu\\varphi_5} f^{2} {\\mu_S} \\cos\\left({\\alpha}\\right)\\right)} {\\varphi_4} - {\\left({\\delta} {\\partial_\\mu\\varphi_4} f^{2} {\\mu_I} \\cos\\left({\\alpha}\\right) + 2 \\, {\\delta} {\\partial_\\mu\\varphi_4} f^{2} {\\mu_S} \\cos\\left({\\alpha}\\right)\\right)} {\\varphi_5} + \\frac{1}{2} \\, {\\left(2 \\, {\\delta} {\\partial_\\mu\\varphi_7} f^{2} {\\mu_S} {\\left(\\cos\\left({\\alpha}\\right) + 1\\right)} + {\\delta} {\\partial_\\mu\\varphi_7} f^{2} {\\mu_I} {\\left(\\cos\\left({\\alpha}\\right) - 3\\right)}\\right)} {\\varphi_6} - \\frac{1}{2} \\, {\\left(2 \\, {\\delta} {\\partial_\\mu\\varphi_6} f^{2} {\\mu_S} {\\left(\\cos\\left({\\alpha}\\right) + 1\\right)} + {\\delta} {\\partial_\\mu\\varphi_6} f^{2} {\\mu_I} {\\left(\\cos\\left({\\alpha}\\right) - 3\\right)}\\right)} {\\varphi_7}</script></html>"
      ],
      "text/plain": [
       "1/2*(d*dphi2mu*f^2*muI*(cos(a) + 3) + 2*d*dphi2mu*f^2*muS*(cos(a) - 1))*phi1 - 1/2*(d*dphi1mu*f^2*muI*(cos(a) + 3) + 2*d*dphi1mu*f^2*muS*(cos(a) - 1))*phi2 + (d*dphi5mu*f^2*muI*cos(a) + 2*d*dphi5mu*f^2*muS*cos(a))*phi4 - (d*dphi4mu*f^2*muI*cos(a) + 2*d*dphi4mu*f^2*muS*cos(a))*phi5 + 1/2*(2*d*dphi7mu*f^2*muS*(cos(a) + 1) + d*dphi7mu*f^2*muI*(cos(a) - 3))*phi6 - 1/2*(2*d*dphi6mu*f^2*muS*(cos(a) + 1) + d*dphi6mu*f^2*muI*(cos(a) - 3))*phi7"
      ]
     },
     "execution_count": 10,
     "metadata": {},
     "output_type": "execute_result"
    }
   ],
   "source": [
    "2*(term2).full_simplify().coefficient(e**2)"
   ]
  },
  {
   "cell_type": "code",
   "execution_count": 11,
   "id": "3a72249b",
   "metadata": {},
   "outputs": [
    {
     "data": {
      "text/html": [
       "<html><script type=\"math/tex; mode=display\">\\newcommand{\\Bold}[1]{\\mathbf{#1}}-\\frac{1}{16} \\, {\\left({\\left(\\sin\\left({\\alpha}\\right)^{2} - 3 \\, \\cos\\left({\\alpha}\\right) - 5\\right)} {\\delta}^{2} f^{2} {\\mu_I}^{2} + 4 \\, {\\left(\\sin\\left({\\alpha}\\right)^{2} - \\cos\\left({\\alpha}\\right) + 1\\right)} {\\delta}^{2} f^{2} {\\mu_I} {\\mu_S} + 4 \\, {\\left(\\sin\\left({\\alpha}\\right)^{2} + \\cos\\left({\\alpha}\\right) - 1\\right)} {\\delta}^{2} f^{2} {\\mu_S}^{2}\\right)} {\\varphi_1}^{2} - \\frac{1}{16} \\, {\\left({\\left(\\sin\\left({\\alpha}\\right)^{2} - 3 \\, \\cos\\left({\\alpha}\\right) - 5\\right)} {\\delta}^{2} f^{2} {\\mu_I}^{2} + 4 \\, {\\left(\\sin\\left({\\alpha}\\right)^{2} - \\cos\\left({\\alpha}\\right) + 1\\right)} {\\delta}^{2} f^{2} {\\mu_I} {\\mu_S} + 4 \\, {\\left(\\sin\\left({\\alpha}\\right)^{2} + \\cos\\left({\\alpha}\\right) - 1\\right)} {\\delta}^{2} f^{2} {\\mu_S}^{2}\\right)} {\\varphi_2}^{2} - \\frac{1}{32} \\, {\\left({\\delta}^{2} f^{2} {\\mu_I}^{2} \\sin\\left({\\alpha}\\right)^{2} + 4 \\, {\\delta}^{2} f^{2} {\\mu_I} {\\mu_S} \\sin\\left({\\alpha}\\right)^{2} + 4 \\, {\\delta}^{2} f^{2} {\\mu_S}^{2} \\sin\\left({\\alpha}\\right)^{2}\\right)} {\\varphi_3}^{2} - \\frac{1}{8} \\, {\\left({\\left(\\sin\\left({\\alpha}\\right)^{2} - 1\\right)} {\\delta}^{2} f^{2} {\\mu_I}^{2} + 4 \\, {\\left(\\sin\\left({\\alpha}\\right)^{2} - 1\\right)} {\\delta}^{2} f^{2} {\\mu_I} {\\mu_S} + 4 \\, {\\left(\\sin\\left({\\alpha}\\right)^{2} - 1\\right)} {\\delta}^{2} f^{2} {\\mu_S}^{2}\\right)} {\\varphi_4}^{2} - \\frac{1}{8} \\, {\\left({\\left(2 \\, \\sin\\left({\\alpha}\\right)^{2} - 1\\right)} {\\delta}^{2} f^{2} {\\mu_I}^{2} + 4 \\, {\\left(2 \\, \\sin\\left({\\alpha}\\right)^{2} - 1\\right)} {\\delta}^{2} f^{2} {\\mu_I} {\\mu_S} + 4 \\, {\\left(2 \\, \\sin\\left({\\alpha}\\right)^{2} - 1\\right)} {\\delta}^{2} f^{2} {\\mu_S}^{2}\\right)} {\\varphi_5}^{2} - \\frac{1}{16} \\, {\\left({\\left(\\sin\\left({\\alpha}\\right)^{2} + 3 \\, \\cos\\left({\\alpha}\\right) - 5\\right)} {\\delta}^{2} f^{2} {\\mu_I}^{2} + 4 \\, {\\left(\\sin\\left({\\alpha}\\right)^{2} + \\cos\\left({\\alpha}\\right) + 1\\right)} {\\delta}^{2} f^{2} {\\mu_I} {\\mu_S} + 4 \\, {\\left(\\sin\\left({\\alpha}\\right)^{2} - \\cos\\left({\\alpha}\\right) - 1\\right)} {\\delta}^{2} f^{2} {\\mu_S}^{2}\\right)} {\\varphi_6}^{2} - \\frac{1}{16} \\, {\\left({\\left(\\sin\\left({\\alpha}\\right)^{2} + 3 \\, \\cos\\left({\\alpha}\\right) - 5\\right)} {\\delta}^{2} f^{2} {\\mu_I}^{2} + 4 \\, {\\left(\\sin\\left({\\alpha}\\right)^{2} + \\cos\\left({\\alpha}\\right) + 1\\right)} {\\delta}^{2} f^{2} {\\mu_I} {\\mu_S} + 4 \\, {\\left(\\sin\\left({\\alpha}\\right)^{2} - \\cos\\left({\\alpha}\\right) - 1\\right)} {\\delta}^{2} f^{2} {\\mu_S}^{2}\\right)} {\\varphi_7}^{2} - \\frac{1}{16} \\, {\\left(\\sqrt{3} {\\delta}^{2} f^{2} {\\mu_I}^{2} \\sin\\left({\\alpha}\\right)^{2} + 4 \\, \\sqrt{3} {\\delta}^{2} f^{2} {\\mu_I} {\\mu_S} \\sin\\left({\\alpha}\\right)^{2} + 4 \\, \\sqrt{3} {\\delta}^{2} f^{2} {\\mu_S}^{2} \\sin\\left({\\alpha}\\right)^{2}\\right)} {\\varphi_3} {\\varphi_8} - \\frac{3}{32} \\, {\\left({\\delta}^{2} f^{2} {\\mu_I}^{2} \\sin\\left({\\alpha}\\right)^{2} + 4 \\, {\\delta}^{2} f^{2} {\\mu_I} {\\mu_S} \\sin\\left({\\alpha}\\right)^{2} + 4 \\, {\\delta}^{2} f^{2} {\\mu_S}^{2} \\sin\\left({\\alpha}\\right)^{2}\\right)} {\\varphi_8}^{2}</script></html>"
      ],
      "text/plain": [
       "-1/16*((sin(a)^2 - 3*cos(a) - 5)*d^2*f^2*muI^2 + 4*(sin(a)^2 - cos(a) + 1)*d^2*f^2*muI*muS + 4*(sin(a)^2 + cos(a) - 1)*d^2*f^2*muS^2)*phi1^2 - 1/16*((sin(a)^2 - 3*cos(a) - 5)*d^2*f^2*muI^2 + 4*(sin(a)^2 - cos(a) + 1)*d^2*f^2*muI*muS + 4*(sin(a)^2 + cos(a) - 1)*d^2*f^2*muS^2)*phi2^2 - 1/32*(d^2*f^2*muI^2*sin(a)^2 + 4*d^2*f^2*muI*muS*sin(a)^2 + 4*d^2*f^2*muS^2*sin(a)^2)*phi3^2 - 1/8*((sin(a)^2 - 1)*d^2*f^2*muI^2 + 4*(sin(a)^2 - 1)*d^2*f^2*muI*muS + 4*(sin(a)^2 - 1)*d^2*f^2*muS^2)*phi4^2 - 1/8*((2*sin(a)^2 - 1)*d^2*f^2*muI^2 + 4*(2*sin(a)^2 - 1)*d^2*f^2*muI*muS + 4*(2*sin(a)^2 - 1)*d^2*f^2*muS^2)*phi5^2 - 1/16*((sin(a)^2 + 3*cos(a) - 5)*d^2*f^2*muI^2 + 4*(sin(a)^2 + cos(a) + 1)*d^2*f^2*muI*muS + 4*(sin(a)^2 - cos(a) - 1)*d^2*f^2*muS^2)*phi6^2 - 1/16*((sin(a)^2 + 3*cos(a) - 5)*d^2*f^2*muI^2 + 4*(sin(a)^2 + cos(a) + 1)*d^2*f^2*muI*muS + 4*(sin(a)^2 - cos(a) - 1)*d^2*f^2*muS^2)*phi7^2 - 1/16*(sqrt(3)*d^2*f^2*muI^2*sin(a)^2 + 4*sqrt(3)*d^2*f^2*muI*muS*sin(a)^2 + 4*sqrt(3)*d^2*f^2*muS^2*sin(a)^2)*phi3*phi8 - 3/32*(d^2*f^2*muI^2*sin(a)^2 + 4*d^2*f^2*muI*muS*sin(a)^2 + 4*d^2*f^2*muS^2*sin(a)^2)*phi8^2"
      ]
     },
     "execution_count": 11,
     "metadata": {},
     "output_type": "execute_result"
    }
   ],
   "source": [
    "term3.full_simplify().coefficient(e**2)"
   ]
  },
  {
   "cell_type": "code",
   "execution_count": 12,
   "id": "0bc664ae",
   "metadata": {},
   "outputs": [
    {
     "data": {
      "text/html": [
       "<html><script type=\"math/tex; mode=display\">\\newcommand{\\Bold}[1]{\\mathbf{#1}}-\\frac{1}{8} \\, {\\left(f^{2} {\\bar m}^{2} {\\left(\\cos\\left({\\alpha}\\right) + 3\\right)} - {\\Delta m}^{2} f^{2} {\\left(\\cos\\left({\\alpha}\\right) - 1\\right)} + f^{2} {m_S}^{2} {\\left(\\cos\\left({\\alpha}\\right) - 1\\right)}\\right)} {\\varphi_1}^{2} - \\frac{1}{8} \\, {\\left(f^{2} {\\bar m}^{2} {\\left(\\cos\\left({\\alpha}\\right) + 3\\right)} - {\\Delta m}^{2} f^{2} {\\left(\\cos\\left({\\alpha}\\right) - 1\\right)} + f^{2} {m_S}^{2} {\\left(\\cos\\left({\\alpha}\\right) - 1\\right)}\\right)} {\\varphi_2}^{2} - \\frac{1}{8} \\, {\\left(f^{2} {\\bar m}^{2} {\\left(\\cos\\left({\\alpha}\\right) + 3\\right)} - {\\Delta m}^{2} f^{2} {\\left(\\cos\\left({\\alpha}\\right) - 1\\right)} + f^{2} {m_S}^{2} {\\left(\\cos\\left({\\alpha}\\right) - 1\\right)}\\right)} {\\varphi_3}^{2} + \\frac{1}{4} \\, {\\left({\\Delta m}^{2} f^{2} \\cos\\left({\\alpha}\\right) - f^{2} {m_S}^{2} \\cos\\left({\\alpha}\\right) - f^{2} {\\bar m}^{2} \\cos\\left({\\alpha}\\right)\\right)} {\\varphi_4}^{2} + \\frac{1}{4} \\, {\\left({\\Delta m}^{2} f^{2} \\cos\\left({\\alpha}\\right) - f^{2} {m_S}^{2} \\cos\\left({\\alpha}\\right) - f^{2} {\\bar m}^{2} \\cos\\left({\\alpha}\\right)\\right)} {\\varphi_5}^{2} - \\frac{1}{8} \\, {\\left(f^{2} {m_S}^{2} {\\left(\\cos\\left({\\alpha}\\right) + 1\\right)} + f^{2} {\\bar m}^{2} {\\left(\\cos\\left({\\alpha}\\right) + 1\\right)} - {\\Delta m}^{2} f^{2} {\\left(\\cos\\left({\\alpha}\\right) - 3\\right)}\\right)} {\\varphi_6}^{2} - \\frac{1}{8} \\, {\\left(f^{2} {m_S}^{2} {\\left(\\cos\\left({\\alpha}\\right) + 1\\right)} + f^{2} {\\bar m}^{2} {\\left(\\cos\\left({\\alpha}\\right) + 1\\right)} - {\\Delta m}^{2} f^{2} {\\left(\\cos\\left({\\alpha}\\right) - 3\\right)}\\right)} {\\varphi_7}^{2} + \\frac{1}{12} \\, {\\left({\\left(\\sqrt{3} \\cos\\left({\\alpha}\\right) + 3 \\, \\sqrt{3}\\right)} {\\Delta m}^{2} f^{2} - {\\left(\\sqrt{3} \\cos\\left({\\alpha}\\right) - \\sqrt{3}\\right)} f^{2} {m_S}^{2} - {\\left(\\sqrt{3} \\cos\\left({\\alpha}\\right) - \\sqrt{3}\\right)} f^{2} {\\bar m}^{2}\\right)} {\\varphi_3} {\\varphi_8} - \\frac{1}{24} \\, {\\left(f^{2} {m_S}^{2} {\\left(5 \\, \\cos\\left({\\alpha}\\right) + 3\\right)} + f^{2} {\\bar m}^{2} {\\left(5 \\, \\cos\\left({\\alpha}\\right) - 1\\right)} - 5 \\, {\\Delta m}^{2} f^{2} {\\left(\\cos\\left({\\alpha}\\right) - 1\\right)}\\right)} {\\varphi_8}^{2}</script></html>"
      ],
      "text/plain": [
       "-1/8*(f^2*mbar^2*(cos(a) + 3) - dm^2*f^2*(cos(a) - 1) + f^2*mS^2*(cos(a) - 1))*phi1^2 - 1/8*(f^2*mbar^2*(cos(a) + 3) - dm^2*f^2*(cos(a) - 1) + f^2*mS^2*(cos(a) - 1))*phi2^2 - 1/8*(f^2*mbar^2*(cos(a) + 3) - dm^2*f^2*(cos(a) - 1) + f^2*mS^2*(cos(a) - 1))*phi3^2 + 1/4*(dm^2*f^2*cos(a) - f^2*mS^2*cos(a) - f^2*mbar^2*cos(a))*phi4^2 + 1/4*(dm^2*f^2*cos(a) - f^2*mS^2*cos(a) - f^2*mbar^2*cos(a))*phi5^2 - 1/8*(f^2*mS^2*(cos(a) + 1) + f^2*mbar^2*(cos(a) + 1) - dm^2*f^2*(cos(a) - 3))*phi6^2 - 1/8*(f^2*mS^2*(cos(a) + 1) + f^2*mbar^2*(cos(a) + 1) - dm^2*f^2*(cos(a) - 3))*phi7^2 + 1/12*((sqrt(3)*cos(a) + 3*sqrt(3))*dm^2*f^2 - (sqrt(3)*cos(a) - sqrt(3))*f^2*mS^2 - (sqrt(3)*cos(a) - sqrt(3))*f^2*mbar^2)*phi3*phi8 - 1/24*(f^2*mS^2*(5*cos(a) + 3) + f^2*mbar^2*(5*cos(a) - 1) - 5*dm^2*f^2*(cos(a) - 1))*phi8^2"
      ]
     },
     "execution_count": 12,
     "metadata": {},
     "output_type": "execute_result"
    }
   ],
   "source": [
    "mass_term.full_simplify().coefficient(e**2)"
   ]
  },
  {
   "cell_type": "code",
   "execution_count": 13,
   "id": "769e5eb7",
   "metadata": {},
   "outputs": [
    {
     "data": {
      "text/html": [
       "<html><script type=\"math/tex; mode=display\">\\newcommand{\\Bold}[1]{\\mathbf{#1}}\\frac{1}{8} \\, {\\left({\\left(\\sin\\left({\\alpha}\\right)^{2} - 3 \\, \\cos\\left({\\alpha}\\right) - 5\\right)} {\\delta}^{2} f^{2} {\\mu_I}^{2} + 4 \\, {\\left(\\sin\\left({\\alpha}\\right)^{2} - \\cos\\left({\\alpha}\\right) + 1\\right)} {\\delta}^{2} f^{2} {\\mu_I} {\\mu_S} + 4 \\, {\\left(\\sin\\left({\\alpha}\\right)^{2} + \\cos\\left({\\alpha}\\right) - 1\\right)} {\\delta}^{2} f^{2} {\\mu_S}^{2} + 2 \\, f^{2} {\\bar m}^{2} {\\left(\\cos\\left({\\alpha}\\right) + 3\\right)} - 2 \\, {\\Delta m}^{2} f^{2} {\\left(\\cos\\left({\\alpha}\\right) - 1\\right)} + 2 \\, f^{2} {m_S}^{2} {\\left(\\cos\\left({\\alpha}\\right) - 1\\right)}\\right)} {\\varphi_1}^{2} + \\frac{1}{8} \\, {\\left({\\left(\\sin\\left({\\alpha}\\right)^{2} - 3 \\, \\cos\\left({\\alpha}\\right) - 5\\right)} {\\delta}^{2} f^{2} {\\mu_I}^{2} + 4 \\, {\\left(\\sin\\left({\\alpha}\\right)^{2} - \\cos\\left({\\alpha}\\right) + 1\\right)} {\\delta}^{2} f^{2} {\\mu_I} {\\mu_S} + 4 \\, {\\left(\\sin\\left({\\alpha}\\right)^{2} + \\cos\\left({\\alpha}\\right) - 1\\right)} {\\delta}^{2} f^{2} {\\mu_S}^{2} + 2 \\, f^{2} {\\bar m}^{2} {\\left(\\cos\\left({\\alpha}\\right) + 3\\right)} - 2 \\, {\\Delta m}^{2} f^{2} {\\left(\\cos\\left({\\alpha}\\right) - 1\\right)} + 2 \\, f^{2} {m_S}^{2} {\\left(\\cos\\left({\\alpha}\\right) - 1\\right)}\\right)} {\\varphi_2}^{2} + \\frac{1}{16} \\, {\\left({\\delta}^{2} f^{2} {\\mu_I}^{2} \\sin\\left({\\alpha}\\right)^{2} + 4 \\, {\\delta}^{2} f^{2} {\\mu_I} {\\mu_S} \\sin\\left({\\alpha}\\right)^{2} + 4 \\, {\\delta}^{2} f^{2} {\\mu_S}^{2} \\sin\\left({\\alpha}\\right)^{2} + 4 \\, f^{2} {\\bar m}^{2} {\\left(\\cos\\left({\\alpha}\\right) + 3\\right)} - 4 \\, {\\Delta m}^{2} f^{2} {\\left(\\cos\\left({\\alpha}\\right) - 1\\right)} + 4 \\, f^{2} {m_S}^{2} {\\left(\\cos\\left({\\alpha}\\right) - 1\\right)}\\right)} {\\varphi_3}^{2} + \\frac{1}{4} \\, {\\left({\\left(\\sin\\left({\\alpha}\\right)^{2} - 1\\right)} {\\delta}^{2} f^{2} {\\mu_I}^{2} + 4 \\, {\\left(\\sin\\left({\\alpha}\\right)^{2} - 1\\right)} {\\delta}^{2} f^{2} {\\mu_I} {\\mu_S} + 4 \\, {\\left(\\sin\\left({\\alpha}\\right)^{2} - 1\\right)} {\\delta}^{2} f^{2} {\\mu_S}^{2} - 2 \\, {\\Delta m}^{2} f^{2} \\cos\\left({\\alpha}\\right) + 2 \\, f^{2} {m_S}^{2} \\cos\\left({\\alpha}\\right) + 2 \\, f^{2} {\\bar m}^{2} \\cos\\left({\\alpha}\\right)\\right)} {\\varphi_4}^{2} + \\frac{1}{4} \\, {\\left({\\left(2 \\, \\sin\\left({\\alpha}\\right)^{2} - 1\\right)} {\\delta}^{2} f^{2} {\\mu_I}^{2} + 4 \\, {\\left(2 \\, \\sin\\left({\\alpha}\\right)^{2} - 1\\right)} {\\delta}^{2} f^{2} {\\mu_I} {\\mu_S} + 4 \\, {\\left(2 \\, \\sin\\left({\\alpha}\\right)^{2} - 1\\right)} {\\delta}^{2} f^{2} {\\mu_S}^{2} - 2 \\, {\\Delta m}^{2} f^{2} \\cos\\left({\\alpha}\\right) + 2 \\, f^{2} {m_S}^{2} \\cos\\left({\\alpha}\\right) + 2 \\, f^{2} {\\bar m}^{2} \\cos\\left({\\alpha}\\right)\\right)} {\\varphi_5}^{2} + \\frac{1}{8} \\, {\\left({\\left(\\sin\\left({\\alpha}\\right)^{2} + 3 \\, \\cos\\left({\\alpha}\\right) - 5\\right)} {\\delta}^{2} f^{2} {\\mu_I}^{2} + 4 \\, {\\left(\\sin\\left({\\alpha}\\right)^{2} + \\cos\\left({\\alpha}\\right) + 1\\right)} {\\delta}^{2} f^{2} {\\mu_I} {\\mu_S} + 4 \\, {\\left(\\sin\\left({\\alpha}\\right)^{2} - \\cos\\left({\\alpha}\\right) - 1\\right)} {\\delta}^{2} f^{2} {\\mu_S}^{2} + 2 \\, f^{2} {m_S}^{2} {\\left(\\cos\\left({\\alpha}\\right) + 1\\right)} + 2 \\, f^{2} {\\bar m}^{2} {\\left(\\cos\\left({\\alpha}\\right) + 1\\right)} - 2 \\, {\\Delta m}^{2} f^{2} {\\left(\\cos\\left({\\alpha}\\right) - 3\\right)}\\right)} {\\varphi_6}^{2} + \\frac{1}{8} \\, {\\left({\\left(\\sin\\left({\\alpha}\\right)^{2} + 3 \\, \\cos\\left({\\alpha}\\right) - 5\\right)} {\\delta}^{2} f^{2} {\\mu_I}^{2} + 4 \\, {\\left(\\sin\\left({\\alpha}\\right)^{2} + \\cos\\left({\\alpha}\\right) + 1\\right)} {\\delta}^{2} f^{2} {\\mu_I} {\\mu_S} + 4 \\, {\\left(\\sin\\left({\\alpha}\\right)^{2} - \\cos\\left({\\alpha}\\right) - 1\\right)} {\\delta}^{2} f^{2} {\\mu_S}^{2} + 2 \\, f^{2} {m_S}^{2} {\\left(\\cos\\left({\\alpha}\\right) + 1\\right)} + 2 \\, f^{2} {\\bar m}^{2} {\\left(\\cos\\left({\\alpha}\\right) + 1\\right)} - 2 \\, {\\Delta m}^{2} f^{2} {\\left(\\cos\\left({\\alpha}\\right) - 3\\right)}\\right)} {\\varphi_7}^{2} + \\frac{1}{24} \\, {\\left(3 \\, \\sqrt{3} {\\delta}^{2} f^{2} {\\mu_I}^{2} \\sin\\left({\\alpha}\\right)^{2} + 12 \\, \\sqrt{3} {\\delta}^{2} f^{2} {\\mu_I} {\\mu_S} \\sin\\left({\\alpha}\\right)^{2} + 12 \\, \\sqrt{3} {\\delta}^{2} f^{2} {\\mu_S}^{2} \\sin\\left({\\alpha}\\right)^{2} - 4 \\, {\\left(\\sqrt{3} \\cos\\left({\\alpha}\\right) + 3 \\, \\sqrt{3}\\right)} {\\Delta m}^{2} f^{2} + 4 \\, {\\left(\\sqrt{3} \\cos\\left({\\alpha}\\right) - \\sqrt{3}\\right)} f^{2} {m_S}^{2} + 4 \\, {\\left(\\sqrt{3} \\cos\\left({\\alpha}\\right) - \\sqrt{3}\\right)} f^{2} {\\bar m}^{2}\\right)} {\\varphi_3} {\\varphi_8} + \\frac{1}{48} \\, {\\left(9 \\, {\\delta}^{2} f^{2} {\\mu_I}^{2} \\sin\\left({\\alpha}\\right)^{2} + 36 \\, {\\delta}^{2} f^{2} {\\mu_I} {\\mu_S} \\sin\\left({\\alpha}\\right)^{2} + 36 \\, {\\delta}^{2} f^{2} {\\mu_S}^{2} \\sin\\left({\\alpha}\\right)^{2} + 4 \\, f^{2} {m_S}^{2} {\\left(5 \\, \\cos\\left({\\alpha}\\right) + 3\\right)} + 4 \\, f^{2} {\\bar m}^{2} {\\left(5 \\, \\cos\\left({\\alpha}\\right) - 1\\right)} - 20 \\, {\\Delta m}^{2} f^{2} {\\left(\\cos\\left({\\alpha}\\right) - 1\\right)}\\right)} {\\varphi_8}^{2}</script></html>"
      ],
      "text/plain": [
       "1/8*((sin(a)^2 - 3*cos(a) - 5)*d^2*f^2*muI^2 + 4*(sin(a)^2 - cos(a) + 1)*d^2*f^2*muI*muS + 4*(sin(a)^2 + cos(a) - 1)*d^2*f^2*muS^2 + 2*f^2*mbar^2*(cos(a) + 3) - 2*dm^2*f^2*(cos(a) - 1) + 2*f^2*mS^2*(cos(a) - 1))*phi1^2 + 1/8*((sin(a)^2 - 3*cos(a) - 5)*d^2*f^2*muI^2 + 4*(sin(a)^2 - cos(a) + 1)*d^2*f^2*muI*muS + 4*(sin(a)^2 + cos(a) - 1)*d^2*f^2*muS^2 + 2*f^2*mbar^2*(cos(a) + 3) - 2*dm^2*f^2*(cos(a) - 1) + 2*f^2*mS^2*(cos(a) - 1))*phi2^2 + 1/16*(d^2*f^2*muI^2*sin(a)^2 + 4*d^2*f^2*muI*muS*sin(a)^2 + 4*d^2*f^2*muS^2*sin(a)^2 + 4*f^2*mbar^2*(cos(a) + 3) - 4*dm^2*f^2*(cos(a) - 1) + 4*f^2*mS^2*(cos(a) - 1))*phi3^2 + 1/4*((sin(a)^2 - 1)*d^2*f^2*muI^2 + 4*(sin(a)^2 - 1)*d^2*f^2*muI*muS + 4*(sin(a)^2 - 1)*d^2*f^2*muS^2 - 2*dm^2*f^2*cos(a) + 2*f^2*mS^2*cos(a) + 2*f^2*mbar^2*cos(a))*phi4^2 + 1/4*((2*sin(a)^2 - 1)*d^2*f^2*muI^2 + 4*(2*sin(a)^2 - 1)*d^2*f^2*muI*muS + 4*(2*sin(a)^2 - 1)*d^2*f^2*muS^2 - 2*dm^2*f^2*cos(a) + 2*f^2*mS^2*cos(a) + 2*f^2*mbar^2*cos(a))*phi5^2 + 1/8*((sin(a)^2 + 3*cos(a) - 5)*d^2*f^2*muI^2 + 4*(sin(a)^2 + cos(a) + 1)*d^2*f^2*muI*muS + 4*(sin(a)^2 - cos(a) - 1)*d^2*f^2*muS^2 + 2*f^2*mS^2*(cos(a) + 1) + 2*f^2*mbar^2*(cos(a) + 1) - 2*dm^2*f^2*(cos(a) - 3))*phi6^2 + 1/8*((sin(a)^2 + 3*cos(a) - 5)*d^2*f^2*muI^2 + 4*(sin(a)^2 + cos(a) + 1)*d^2*f^2*muI*muS + 4*(sin(a)^2 - cos(a) - 1)*d^2*f^2*muS^2 + 2*f^2*mS^2*(cos(a) + 1) + 2*f^2*mbar^2*(cos(a) + 1) - 2*dm^2*f^2*(cos(a) - 3))*phi7^2 + 1/24*(3*sqrt(3)*d^2*f^2*muI^2*sin(a)^2 + 12*sqrt(3)*d^2*f^2*muI*muS*sin(a)^2 + 12*sqrt(3)*d^2*f^2*muS^2*sin(a)^2 - 4*(sqrt(3)*cos(a) + 3*sqrt(3))*dm^2*f^2 + 4*(sqrt(3)*cos(a) - sqrt(3))*f^2*mS^2 + 4*(sqrt(3)*cos(a) - sqrt(3))*f^2*mbar^2)*phi3*phi8 + 1/48*(9*d^2*f^2*muI^2*sin(a)^2 + 36*d^2*f^2*muI*muS*sin(a)^2 + 36*d^2*f^2*muS^2*sin(a)^2 + 4*f^2*mS^2*(5*cos(a) + 3) + 4*f^2*mbar^2*(5*cos(a) - 1) - 20*dm^2*f^2*(cos(a) - 1))*phi8^2"
      ]
     },
     "execution_count": 13,
     "metadata": {},
     "output_type": "execute_result"
    }
   ],
   "source": [
    "-2*(term3 + mass_term).coefficient(e**2).full_simplify()"
   ]
  },
  {
   "cell_type": "code",
   "execution_count": 14,
   "id": "1ce74b7f",
   "metadata": {},
   "outputs": [
    {
     "data": {
      "text/latex": [
       "$$ \\frac{1}{16} \\, {\\left({\\left(\\cos\\left({\\alpha}\\right)^{2} + 3 \\, \\cos\\left({\\alpha}\\right) + 4\\right)} f^{2} {\\mu_I}^{2} + 4 \\, {\\left(\\cos\\left({\\alpha}\\right)^{2} + \\cos\\left({\\alpha}\\right) - 2\\right)} f^{2} {\\mu_I} {\\mu_S} + 4 \\, {\\left(\\cos\\left({\\alpha}\\right)^{2} - \\cos\\left({\\alpha}\\right)\\right)} f^{2} {\\mu_S}^{2} - 2 \\, f^{2} {\\bar m}^{2} {\\left(\\cos\\left({\\alpha}\\right) + 3\\right)} + 2 \\, {\\Delta m}^{2} f^{2} {\\left(\\cos\\left({\\alpha}\\right) - 1\\right)} - 2 \\, f^{2} {m_S}^{2} {\\left(\\cos\\left({\\alpha}\\right) - 1\\right)}\\right)} {\\varphi_1}^{2} $$"
      ],
      "text/plain": [
       "<IPython.core.display.Latex object>"
      ]
     },
     "metadata": {},
     "output_type": "display_data"
    },
    {
     "data": {
      "text/latex": [
       "$$ \\frac{1}{16} \\, {\\left({\\left(\\cos\\left({\\alpha}\\right)^{2} + 3 \\, \\cos\\left({\\alpha}\\right) + 4\\right)} f^{2} {\\mu_I}^{2} + 4 \\, {\\left(\\cos\\left({\\alpha}\\right)^{2} + \\cos\\left({\\alpha}\\right) - 2\\right)} f^{2} {\\mu_I} {\\mu_S} + 4 \\, {\\left(\\cos\\left({\\alpha}\\right)^{2} - \\cos\\left({\\alpha}\\right)\\right)} f^{2} {\\mu_S}^{2} - 2 \\, f^{2} {\\bar m}^{2} {\\left(\\cos\\left({\\alpha}\\right) + 3\\right)} + 2 \\, {\\Delta m}^{2} f^{2} {\\left(\\cos\\left({\\alpha}\\right) - 1\\right)} - 2 \\, f^{2} {m_S}^{2} {\\left(\\cos\\left({\\alpha}\\right) - 1\\right)}\\right)} {\\varphi_2}^{2} $$"
      ],
      "text/plain": [
       "<IPython.core.display.Latex object>"
      ]
     },
     "metadata": {},
     "output_type": "display_data"
    },
    {
     "data": {
      "text/latex": [
       "$$ -\\frac{1}{32} \\, {\\left(f^{2} {\\mu_I}^{2} \\sin\\left({\\alpha}\\right)^{2} + 4 \\, f^{2} {\\mu_I} {\\mu_S} \\sin\\left({\\alpha}\\right)^{2} + 4 \\, f^{2} {\\mu_S}^{2} \\sin\\left({\\alpha}\\right)^{2} + 4 \\, f^{2} {\\bar m}^{2} {\\left(\\cos\\left({\\alpha}\\right) + 3\\right)} - 4 \\, {\\Delta m}^{2} f^{2} {\\left(\\cos\\left({\\alpha}\\right) - 1\\right)} + 4 \\, f^{2} {m_S}^{2} {\\left(\\cos\\left({\\alpha}\\right) - 1\\right)}\\right)} {\\varphi_3}^{2} $$"
      ],
      "text/plain": [
       "<IPython.core.display.Latex object>"
      ]
     },
     "metadata": {},
     "output_type": "display_data"
    },
    {
     "data": {
      "text/latex": [
       "$$ \\frac{1}{8} \\, {\\left(f^{2} {\\mu_I}^{2} \\cos\\left({\\alpha}\\right)^{2} + 4 \\, f^{2} {\\mu_I} {\\mu_S} \\cos\\left({\\alpha}\\right)^{2} + 4 \\, f^{2} {\\mu_S}^{2} \\cos\\left({\\alpha}\\right)^{2} + 2 \\, {\\Delta m}^{2} f^{2} \\cos\\left({\\alpha}\\right) - 2 \\, f^{2} {m_S}^{2} \\cos\\left({\\alpha}\\right) - 2 \\, f^{2} {\\bar m}^{2} \\cos\\left({\\alpha}\\right)\\right)} {\\varphi_4}^{2} $$"
      ],
      "text/plain": [
       "<IPython.core.display.Latex object>"
      ]
     },
     "metadata": {},
     "output_type": "display_data"
    },
    {
     "data": {
      "text/latex": [
       "$$ \\frac{1}{8} \\, {\\left({\\left(2 \\, \\cos\\left({\\alpha}\\right)^{2} - 1\\right)} f^{2} {\\mu_I}^{2} + 4 \\, {\\left(2 \\, \\cos\\left({\\alpha}\\right)^{2} - 1\\right)} f^{2} {\\mu_I} {\\mu_S} + 4 \\, {\\left(2 \\, \\cos\\left({\\alpha}\\right)^{2} - 1\\right)} f^{2} {\\mu_S}^{2} + 2 \\, {\\Delta m}^{2} f^{2} \\cos\\left({\\alpha}\\right) - 2 \\, f^{2} {m_S}^{2} \\cos\\left({\\alpha}\\right) - 2 \\, f^{2} {\\bar m}^{2} \\cos\\left({\\alpha}\\right)\\right)} {\\varphi_5}^{2} $$"
      ],
      "text/plain": [
       "<IPython.core.display.Latex object>"
      ]
     },
     "metadata": {},
     "output_type": "display_data"
    },
    {
     "data": {
      "text/latex": [
       "$$ \\frac{1}{16} \\, {\\left({\\left(\\cos\\left({\\alpha}\\right)^{2} - 3 \\, \\cos\\left({\\alpha}\\right) + 4\\right)} f^{2} {\\mu_I}^{2} + 4 \\, {\\left(\\cos\\left({\\alpha}\\right)^{2} - \\cos\\left({\\alpha}\\right) - 2\\right)} f^{2} {\\mu_I} {\\mu_S} + 4 \\, {\\left(\\cos\\left({\\alpha}\\right)^{2} + \\cos\\left({\\alpha}\\right)\\right)} f^{2} {\\mu_S}^{2} - 2 \\, f^{2} {m_S}^{2} {\\left(\\cos\\left({\\alpha}\\right) + 1\\right)} - 2 \\, f^{2} {\\bar m}^{2} {\\left(\\cos\\left({\\alpha}\\right) + 1\\right)} + 2 \\, {\\Delta m}^{2} f^{2} {\\left(\\cos\\left({\\alpha}\\right) - 3\\right)}\\right)} {\\varphi_6}^{2} $$"
      ],
      "text/plain": [
       "<IPython.core.display.Latex object>"
      ]
     },
     "metadata": {},
     "output_type": "display_data"
    },
    {
     "data": {
      "text/latex": [
       "$$ \\frac{1}{16} \\, {\\left({\\left(\\cos\\left({\\alpha}\\right)^{2} - 3 \\, \\cos\\left({\\alpha}\\right) + 4\\right)} f^{2} {\\mu_I}^{2} + 4 \\, {\\left(\\cos\\left({\\alpha}\\right)^{2} - \\cos\\left({\\alpha}\\right) - 2\\right)} f^{2} {\\mu_I} {\\mu_S} + 4 \\, {\\left(\\cos\\left({\\alpha}\\right)^{2} + \\cos\\left({\\alpha}\\right)\\right)} f^{2} {\\mu_S}^{2} - 2 \\, f^{2} {m_S}^{2} {\\left(\\cos\\left({\\alpha}\\right) + 1\\right)} - 2 \\, f^{2} {\\bar m}^{2} {\\left(\\cos\\left({\\alpha}\\right) + 1\\right)} + 2 \\, {\\Delta m}^{2} f^{2} {\\left(\\cos\\left({\\alpha}\\right) - 3\\right)}\\right)} {\\varphi_7}^{2} $$"
      ],
      "text/plain": [
       "<IPython.core.display.Latex object>"
      ]
     },
     "metadata": {},
     "output_type": "display_data"
    },
    {
     "data": {
      "text/latex": [
       "$$ -\\frac{1}{96} \\, {\\left(9 \\, f^{2} {\\mu_I}^{2} \\sin\\left({\\alpha}\\right)^{2} + 36 \\, f^{2} {\\mu_I} {\\mu_S} \\sin\\left({\\alpha}\\right)^{2} + 36 \\, f^{2} {\\mu_S}^{2} \\sin\\left({\\alpha}\\right)^{2} + 4 \\, f^{2} {m_S}^{2} {\\left(5 \\, \\cos\\left({\\alpha}\\right) + 3\\right)} + 4 \\, f^{2} {\\bar m}^{2} {\\left(5 \\, \\cos\\left({\\alpha}\\right) - 1\\right)} - 20 \\, {\\Delta m}^{2} f^{2} {\\left(\\cos\\left({\\alpha}\\right) - 1\\right)}\\right)} {\\varphi_8}^{2} $$"
      ],
      "text/plain": [
       "<IPython.core.display.Latex object>"
      ]
     },
     "metadata": {},
     "output_type": "display_data"
    }
   ],
   "source": [
    "for p in pvar:\n",
    "    pprint(((term3+mass_term)).coefficient(p**2).subs(e==1).subs(d==1).trig_reduce().full_simplify() * p**2)"
   ]
  },
  {
   "cell_type": "code",
   "execution_count": null,
   "id": "936597cd",
   "metadata": {},
   "outputs": [],
   "source": []
  }
 ],
 "metadata": {
  "kernelspec": {
   "display_name": "SageMath 9.0",
   "language": "sage",
   "name": "sagemath"
  },
  "language_info": {
   "codemirror_mode": {
    "name": "ipython",
    "version": 3
   },
   "file_extension": ".py",
   "mimetype": "text/x-python",
   "name": "python",
   "nbconvert_exporter": "python",
   "pygments_lexer": "ipython3",
   "version": "3.8.10"
  }
 },
 "nbformat": 4,
 "nbformat_minor": 5
}
