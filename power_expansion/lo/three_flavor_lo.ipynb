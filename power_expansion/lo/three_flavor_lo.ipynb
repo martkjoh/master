{
 "cells": [
  {
   "cell_type": "code",
   "execution_count": 1,
   "id": "8c50c3ac",
   "metadata": {},
   "outputs": [],
   "source": [
    "%display latex\n",
    "load(\"../three_flavor.sage\")"
   ]
  },
  {
   "cell_type": "code",
   "execution_count": 2,
   "id": "f87e293f",
   "metadata": {},
   "outputs": [
    {
     "data": {
      "text/html": [
       "<html><script type=\"math/tex; mode=display\">\\newcommand{\\Bold}[1]{\\mathbf{#1}}\\left[\\left(\\begin{array}{rrr}\n",
       "0 & 1 & 0 \\\\\n",
       "1 & 0 & 0 \\\\\n",
       "0 & 0 & 0\n",
       "\\end{array}\\right), \\left(\\begin{array}{rrr}\n",
       "0 & -i & 0 \\\\\n",
       "i & 0 & 0 \\\\\n",
       "0 & 0 & 0\n",
       "\\end{array}\\right), \\left(\\begin{array}{rrr}\n",
       "1 & 0 & 0 \\\\\n",
       "0 & -1 & 0 \\\\\n",
       "0 & 0 & 0\n",
       "\\end{array}\\right), \\left(\\begin{array}{rrr}\n",
       "0 & 0 & 1 \\\\\n",
       "0 & 0 & 0 \\\\\n",
       "1 & 0 & 0\n",
       "\\end{array}\\right), \\left(\\begin{array}{rrr}\n",
       "0 & 0 & -i \\\\\n",
       "0 & 0 & 0 \\\\\n",
       "i & 0 & 0\n",
       "\\end{array}\\right), \\left(\\begin{array}{rrr}\n",
       "0 & 0 & 0 \\\\\n",
       "0 & 0 & 1 \\\\\n",
       "0 & 1 & 0\n",
       "\\end{array}\\right), \\left(\\begin{array}{rrr}\n",
       "0 & 0 & 0 \\\\\n",
       "0 & 0 & -i \\\\\n",
       "0 & i & 0\n",
       "\\end{array}\\right), \\left(\\begin{array}{rrr}\n",
       "\\frac{1}{3} \\, \\sqrt{3} & 0 & 0 \\\\\n",
       "0 & \\frac{1}{3} \\, \\sqrt{3} & 0 \\\\\n",
       "0 & 0 & -\\frac{2}{3} \\, \\sqrt{3}\n",
       "\\end{array}\\right)\\right]</script></html>"
      ],
      "text/plain": [
       "[\n",
       "[0 1 0]  [ 0 -I  0]  [ 1  0  0]  [0 0 1]  [ 0  0 -I]  [0 0 0]\n",
       "[1 0 0]  [ I  0  0]  [ 0 -1  0]  [0 0 0]  [ 0  0  0]  [0 0 1]\n",
       "[0 0 0], [ 0  0  0], [ 0  0  0], [1 0 0], [ I  0  0], [0 1 0],\n",
       "\n",
       "[ 0  0  0]  [ 1/3*sqrt(3)            0            0]\n",
       "[ 0  0 -I]  [           0  1/3*sqrt(3)            0]\n",
       "[ 0  I  0], [           0            0 -2/3*sqrt(3)]\n",
       "]"
      ]
     },
     "metadata": {},
     "output_type": "display_data"
    }
   ],
   "source": [
    "pretty_print(l)"
   ]
  },
  {
   "cell_type": "code",
   "execution_count": 3,
   "id": "2bac28ca",
   "metadata": {},
   "outputs": [
    {
     "data": {
      "text/html": [
       "<html><script type=\"math/tex; mode=display\">\\newcommand{\\Bold}[1]{\\mathbf{#1}}\\left(\\begin{array}{rrr}\n",
       "\\frac{2}{3} & 0 & 0 \\\\\n",
       "0 & -\\frac{4}{3} & 0 \\\\\n",
       "0 & 0 & \\frac{2}{3}\n",
       "\\end{array}\\right)</script></html>"
      ],
      "text/plain": [
       "[ 2/3    0    0]\n",
       "[   0 -4/3    0]\n",
       "[   0    0  2/3]"
      ]
     },
     "execution_count": 3,
     "metadata": {},
     "output_type": "execute_result"
    }
   ],
   "source": [
    "lk = l3 + 1/sqrt(3) * l8\n",
    "lQ = l3 - 1/sqrt(3) * l8\n",
    "lQ"
   ]
  },
  {
   "cell_type": "code",
   "execution_count": 4,
   "id": "bac4692f",
   "metadata": {},
   "outputs": [
    {
     "data": {
      "text/html": [
       "<html><script type=\"math/tex; mode=display\">\\newcommand{\\Bold}[1]{\\mathbf{#1}}\\left(\\begin{array}{rrr}\n",
       "0 & 0 & 0 \\\\\n",
       "0 & 0 & 0 \\\\\n",
       "0 & 0 & 0\n",
       "\\end{array}\\right)</script></html>"
      ],
      "text/plain": [
       "[0 0 0]\n",
       "[0 0 0]\n",
       "[0 0 0]"
      ]
     },
     "execution_count": 4,
     "metadata": {},
     "output_type": "execute_result"
    }
   ],
   "source": [
    "lk*lQ - lQ*lk"
   ]
  },
  {
   "cell_type": "code",
   "execution_count": 14,
   "id": "e0b306aa",
   "metadata": {},
   "outputs": [
    {
     "data": {
      "text/html": [
       "<html><script type=\"math/tex; mode=display\">\\newcommand{\\Bold}[1]{\\mathbf{#1}}\\left[\\frac{1}{3} \\, m_{d} + \\frac{1}{3} \\, m_{s} + \\frac{1}{3} \\, m_{u}, 0, 0, -\\frac{1}{2} \\, m_{d} + \\frac{1}{2} \\, m_{u}, 0, 0, 0, 0, \\frac{1}{6} \\, \\sqrt{3} {\\left(m_{d} - 2 \\, m_{s} + m_{u}\\right)}\\right]</script></html>"
      ],
      "text/plain": [
       "[1/3*m_d + 1/3*m_s + 1/3*m_u,\n",
       " 0,\n",
       " 0,\n",
       " -1/2*m_d + 1/2*m_u,\n",
       " 0,\n",
       " 0,\n",
       " 0,\n",
       " 0,\n",
       " 1/6*sqrt(3)*(m_d - 2*m_s + m_u)]"
      ]
     },
     "execution_count": 14,
     "metadata": {},
     "output_type": "execute_result"
    }
   ],
   "source": [
    "var(\"m_u m_d m_s\")\n",
    "\n",
    "m = diagonal_matrix((m_u, m_d, m_s))\n",
    "proj(m, l)"
   ]
  },
  {
   "cell_type": "code",
   "execution_count": 5,
   "id": "2e1daa98",
   "metadata": {},
   "outputs": [
    {
     "data": {
      "text/html": [
       "<html><script type=\"math/tex; mode=display\">\\newcommand{\\Bold}[1]{\\mathbf{#1}}\\left(\\begin{array}{rrr}\n",
       "{\\Delta m}^{2} + {\\bar m}^{2} & 0 & 0 \\\\\n",
       "0 & -{\\Delta m}^{2} + {\\bar m}^{2} & 0 \\\\\n",
       "0 & 0 & {m_S}^{2}\n",
       "\\end{array}\\right)</script></html>"
      ],
      "text/plain": [
       "[ dm^2 + mbar^2              0              0]\n",
       "[             0 -dm^2 + mbar^2              0]\n",
       "[             0              0           ms^2]"
      ]
     },
     "execution_count": 5,
     "metadata": {},
     "output_type": "execute_result"
    }
   ],
   "source": [
    "mbar =var(\"mbar\", latex_name=\"\\\\bar m\")\n",
    "var(\"dm\", latex_name=\"\\\\Delta m\")\n",
    "var(\"ms\", latex_name=\"m_S\") \n",
    "# m_S^2 = 2B_0 ms\n",
    "chi = diagonal_matrix([mbar^2 + dm^2, mbar^2 - dm^2, ms^2])\n",
    "chi"
   ]
  },
  {
   "cell_type": "code",
   "execution_count": 6,
   "id": "9c77776b",
   "metadata": {},
   "outputs": [
    {
     "data": {
      "text/html": [
       "<html><script type=\"math/tex; mode=display\">\\newcommand{\\Bold}[1]{\\mathbf{#1}}\\left[\\frac{2}{3} \\, {\\bar m}^{2} + \\frac{1}{3} \\, {m_S}^{2}, 0, 0, {\\Delta m}^{2}, 0, 0, 0, 0, \\frac{1}{3} \\, \\sqrt{3} {\\left({\\bar m}^{2} - {m_S}^{2}\\right)}\\right]</script></html>"
      ],
      "text/plain": [
       "[2/3*mbar^2 + 1/3*ms^2, 0, 0, dm^2, 0, 0, 0, 0, 1/3*sqrt(3)*(mbar^2 - ms^2)]"
      ]
     },
     "execution_count": 6,
     "metadata": {},
     "output_type": "execute_result"
    }
   ],
   "source": [
    "proj(chi, l)"
   ]
  },
  {
   "cell_type": "code",
   "execution_count": 7,
   "id": "f3ad851c",
   "metadata": {},
   "outputs": [
    {
     "data": {
      "text/html": [
       "<html><script type=\"math/tex; mode=display\">\\newcommand{\\Bold}[1]{\\mathbf{#1}}{\\beta}</script></html>"
      ],
      "text/plain": [
       "beta"
      ]
     },
     "execution_count": 7,
     "metadata": {},
     "output_type": "execute_result"
    }
   ],
   "source": [
    "var(\"alpha\", latex_name=\"\\\\alpha\")\n",
    "var(\"beta\", latex_name=\"\\\\beta\")"
   ]
  },
  {
   "cell_type": "code",
   "execution_count": 8,
   "id": "f747d0d0",
   "metadata": {},
   "outputs": [
    {
     "data": {
      "text/html": [
       "<html><script type=\"math/tex; mode=display\">\\newcommand{\\Bold}[1]{\\mathbf{#1}}\\left(\\begin{array}{rrr}\n",
       "\\cos\\left({\\alpha}\\right) & 0 & \\sin\\left({\\alpha}\\right) \\\\\n",
       "0 & 1 & 0 \\\\\n",
       "-\\sin\\left({\\alpha}\\right) & 0 & \\cos\\left({\\alpha}\\right)\n",
       "\\end{array}\\right)</script></html>"
      ],
      "text/plain": [
       "[ cos(alpha)           0  sin(alpha)]\n",
       "[          0           1           0]\n",
       "[-sin(alpha)           0  cos(alpha)]"
      ]
     },
     "execution_count": 8,
     "metadata": {},
     "output_type": "execute_result"
    }
   ],
   "source": [
    "exp_l_a = lambda l, a: (one - l**2) + l**2 * cos(a) + i *l * sin(a)\n",
    "exp_l_a(l5, alpha)"
   ]
  },
  {
   "cell_type": "code",
   "execution_count": 9,
   "id": "d75279bd",
   "metadata": {},
   "outputs": [],
   "source": [
    "S = exp_l_a(l7, beta).T * exp_l_a(l2, alpha) * exp_l_a(l7, beta)\n",
    "Sd = S.T"
   ]
  },
  {
   "cell_type": "code",
   "execution_count": 10,
   "id": "2d3bd1a6",
   "metadata": {},
   "outputs": [
    {
     "ename": "NameError",
     "evalue": "name 'v' is not defined",
     "output_type": "error",
     "traceback": [
      "\u001b[0;31m---------------------------------------------------------------------------\u001b[0m",
      "\u001b[0;31mNameError\u001b[0m                                 Traceback (most recent call last)",
      "\u001b[0;32m/tmp/ipykernel_63471/3416986223.py\u001b[0m in \u001b[0;36m<module>\u001b[0;34m\u001b[0m\n\u001b[0;32m----> 1\u001b[0;31m \u001b[0mCOM\u001b[0m \u001b[0;34m=\u001b[0m \u001b[0mv\u001b[0m\u001b[0;34m*\u001b[0m\u001b[0mS\u001b[0m \u001b[0;34m-\u001b[0m \u001b[0mS\u001b[0m\u001b[0;34m*\u001b[0m\u001b[0mv\u001b[0m \u001b[0;31m# [v_mu, Sigma]\u001b[0m\u001b[0;34m\u001b[0m\u001b[0;34m\u001b[0m\u001b[0m\n\u001b[0m",
      "\u001b[0;31mNameError\u001b[0m: name 'v' is not defined"
     ]
    }
   ],
   "source": [
    "COM = v*S - S*v # [v_mu, Sigma]"
   ]
  },
  {
   "cell_type": "code",
   "execution_count": null,
   "id": "6331763b",
   "metadata": {},
   "outputs": [],
   "source": [
    "n = 1\n",
    "var(\"B0\", latex_name=\"B_0\")\n",
    "var(\"f\")\n",
    "kin = -(f**2/4*mat_prep(COM*COM.T, n)).trace().full_simplify().full_simplify()"
   ]
  },
  {
   "cell_type": "code",
   "execution_count": null,
   "id": "0a61c603",
   "metadata": {},
   "outputs": [],
   "source": [
    "var(\"mu\", latex_name=\"m_u\")\n",
    "var(\"md\", latex_name=\"m_d\")\n",
    "var(\"ms\", latex_name=\"m_s\")\n",
    "\n",
    "m = diagonal_matrix([mu, md, ms])\n",
    "\n",
    "mass = (2*B0*(S*m + m*S.T).trace().full_simplify()).full_simplify()"
   ]
  },
  {
   "cell_type": "code",
   "execution_count": null,
   "id": "2ccdcdc2",
   "metadata": {},
   "outputs": [],
   "source": [
    "(kin+mass).diff(beta).full_simplify()"
   ]
  },
  {
   "cell_type": "code",
   "execution_count": null,
   "id": "dc2cf084",
   "metadata": {},
   "outputs": [],
   "source": [
    "muS = var(\"muS\", latex_name=\"\\\\mu_S\")\n",
    "muB = var(\"muB\", latex_name=\"\\\\mu_B\")\n",
    "muI = var(\"muI\", latex_name=\"\\\\mu_I\")\n",
    "\n",
    "mu = diagonal_matrix([muB/3 + muI/2, muB/3 - muI/2, muB/3 - muS])\n",
    "mu"
   ]
  },
  {
   "cell_type": "code",
   "execution_count": null,
   "id": "b33eeaae",
   "metadata": {},
   "outputs": [],
   "source": [
    "proj(mu, l)"
   ]
  },
  {
   "cell_type": "code",
   "execution_count": null,
   "id": "074ffed1",
   "metadata": {},
   "outputs": [],
   "source": [
    "A"
   ]
  },
  {
   "cell_type": "code",
   "execution_count": null,
   "id": "78855cf7",
   "metadata": {},
   "outputs": [],
   "source": [
    "b = -(com(mu, S) * com(mu, SC)).trace().full_simplify() / 4\n",
    "b"
   ]
  },
  {
   "cell_type": "code",
   "execution_count": null,
   "id": "c7d5c84b",
   "metadata": {},
   "outputs": [],
   "source": [
    "b.coefficients(na[4])[1][0].factor()"
   ]
  },
  {
   "cell_type": "code",
   "execution_count": null,
   "id": "ea494e4a",
   "metadata": {},
   "outputs": [],
   "source": [
    "c = sum([b.coefficients(n)[1][0].factor()*n**2 for n in na if len(b.coefficients(n))>1])"
   ]
  },
  {
   "cell_type": "code",
   "execution_count": null,
   "id": "eac3c18a",
   "metadata": {},
   "outputs": [],
   "source": [
    "c + (c - b).full_simplify()"
   ]
  },
  {
   "cell_type": "code",
   "execution_count": null,
   "id": "8a5e5791",
   "metadata": {},
   "outputs": [],
   "source": [
    "var(\"mbar\", latex_name=\"\\\\bar m\")\n",
    "var(\"mK\", latex_name=\"m_K\")\n",
    "var(\"meta\", latex_name=\"m_\\\\eta\")\n",
    "\n",
    "var(\"mu\", latex_name=\"m_u\")\n",
    "var(\"md\", latex_name=\"m_d\")\n",
    "var(\"ms\", latex_name=\"m_s\")\n",
    "\n",
    "m = diagonal_matrix([mu, md, ms])\n",
    "proj(m, l)"
   ]
  },
  {
   "cell_type": "code",
   "execution_count": null,
   "id": "73f1b38a",
   "metadata": {},
   "outputs": [],
   "source": [
    "var(\"M1\", latex_name=\"M_1\")\n",
    "var(\"M2\", latex_name=\"M_2\")\n",
    "var(\"M3\", latex_name=\"M_3\")\n",
    "\n",
    "chi = M1**2 * one + M2**2 * l3 + M3**2 * l8\n",
    "chi"
   ]
  },
  {
   "cell_type": "code",
   "execution_count": null,
   "id": "9f9eb3ba",
   "metadata": {},
   "outputs": [],
   "source": [
    "(S*chi + chi*SC).trace().full_simplify()"
   ]
  },
  {
   "cell_type": "code",
   "execution_count": null,
   "id": "19a78c4e",
   "metadata": {},
   "outputs": [],
   "source": [
    "var(\"beta\", latex_name=\"\\\\beta\")\n",
    "\n",
    "S = cos(alpha)*one + i *(l2*cos(beta) + l5*sin(beta))*sin(alpha)\n",
    "S"
   ]
  },
  {
   "cell_type": "code",
   "execution_count": null,
   "id": "e6e0e0cf",
   "metadata": {},
   "outputs": [],
   "source": [
    "A = matrix([\n",
    "    [1, 0, 0],\n",
    "    [0, cos(beta), -sin(beta) ],\n",
    "    [0, sin(beta), cos(beta)]\n",
    "])\n",
    "\n",
    "B = matrix([\n",
    "    [cos(alpha), sin(alpha), 0],\n",
    "    [-sin(alpha), cos(alpha), 0],\n",
    "    [0, 0, 1]\n",
    "])\n",
    "\n",
    "A * B * A.T"
   ]
  },
  {
   "cell_type": "code",
   "execution_count": null,
   "id": "ffad8406",
   "metadata": {},
   "outputs": [],
   "source": [
    "cos(l2)"
   ]
  },
  {
   "cell_type": "code",
   "execution_count": null,
   "id": "658eed90",
   "metadata": {},
   "outputs": [],
   "source": [
    "cos(alpha) + i *l5*sin(alpha)"
   ]
  },
  {
   "cell_type": "code",
   "execution_count": null,
   "id": "9ad8f158",
   "metadata": {},
   "outputs": [],
   "source": [
    "cos(alpha) + i *l7*sin(alpha)"
   ]
  },
  {
   "cell_type": "code",
   "execution_count": null,
   "id": "f697dbe8",
   "metadata": {},
   "outputs": [],
   "source": []
  }
 ],
 "metadata": {
  "kernelspec": {
   "display_name": "SageMath 9.0",
   "language": "sage",
   "name": "sagemath"
  },
  "language_info": {
   "codemirror_mode": {
    "name": "ipython",
    "version": 3
   },
   "file_extension": ".py",
   "mimetype": "text/x-python",
   "name": "python",
   "nbconvert_exporter": "python",
   "pygments_lexer": "ipython3",
   "version": "3.8.10"
  }
 },
 "nbformat": 4,
 "nbformat_minor": 5
}
