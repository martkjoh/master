{
 "cells": [
  {
   "cell_type": "code",
   "execution_count": 1,
   "id": "b35e7d13",
   "metadata": {},
   "outputs": [],
   "source": [
    "%display latex\n",
    "load(\"../three_flavor.sage\")"
   ]
  },
  {
   "cell_type": "code",
   "execution_count": 2,
   "id": "ddcb84e6",
   "metadata": {},
   "outputs": [],
   "source": [
    "n = 2\n",
    "v = v_em\n",
    "S, Sd, dS, dSd = get_S(n, None)"
   ]
  },
  {
   "cell_type": "code",
   "execution_count": 3,
   "id": "0e321b7f",
   "metadata": {},
   "outputs": [],
   "source": [
    "COM = v*S - S*v # [v_mu, Sigma]\n",
    "COMd = Sd*v - v*Sd"
   ]
  },
  {
   "cell_type": "code",
   "execution_count": 4,
   "id": "1ec54d71",
   "metadata": {},
   "outputs": [],
   "source": [
    "COM = mat_prep(COM, n)\n",
    "COMd = mat_prep(COMd, n)"
   ]
  },
  {
   "cell_type": "code",
   "execution_count": 5,
   "id": "73d62ad1",
   "metadata": {},
   "outputs": [],
   "source": [
    "term1 = mat_prep(dS*(dSd), n) \n",
    "term2 = -I*mat_prep(dS*(-COMd) + COM*dSd, n)\n",
    "term3 = mat_prep(COM*COMd, n)\n",
    "\n",
    "term1 = term1.trace().trig_reduce().full_simplify()\n",
    "term2 = term2.trace().trig_reduce().full_simplify()\n",
    "term3 = term3.trace().trig_reduce().full_simplify()\n",
    "\n",
    "mass_term = (chi*Sd + S*chi).trace().trig_reduce().simplify()\n",
    "em_term = qe**2*C*(Q*S*Q*Sd)\n",
    "em_term = mat_prep(em_term, n).trace().trig_reduce().full_simplify()\n",
    "\n",
    "terms = [1/4 * term for term in [term1, term2, term3, mass_term]]\n",
    "terms.append(em_term.expand())"
   ]
  },
  {
   "cell_type": "code",
   "execution_count": 6,
   "id": "2c6c6cca",
   "metadata": {},
   "outputs": [
    {
     "data": {
      "text/latex": [
       "$$ \\frac{1}{2} \\, {\\left({\\partial_\\mu\\varphi_1}^{2} + {\\partial_\\mu\\varphi_2}^{2} + {\\partial_\\mu\\varphi_3}^{2} + {\\partial_\\mu\\varphi_4}^{2} + {\\partial_\\mu\\varphi_5}^{2} + {\\partial_\\mu\\varphi_6}^{2} + {\\partial_\\mu\\varphi_7}^{2} + {\\partial_\\mu\\varphi_8}^{2}\\right)} {\\varepsilon}^{2} $$"
      ],
      "text/plain": [
       "<IPython.core.display.Latex object>"
      ]
     },
     "metadata": {},
     "output_type": "display_data"
    },
    {
     "data": {
      "text/latex": [
       "$$ {\\left({\\mathcal A_\\mu} {\\partial_\\mu\\varphi_2} {\\varepsilon}^{2} {\\varphi_1} - {\\mathcal A_\\mu} {\\partial_\\mu\\varphi_1} {\\varepsilon}^{2} {\\varphi_2} + {\\mathcal A_\\mu} {\\partial_\\mu\\varphi_5} {\\varepsilon}^{2} {\\varphi_4} - {\\mathcal A_\\mu} {\\partial_\\mu\\varphi_4} {\\varepsilon}^{2} {\\varphi_5}\\right)} {e} $$"
      ],
      "text/plain": [
       "<IPython.core.display.Latex object>"
      ]
     },
     "metadata": {},
     "output_type": "display_data"
    },
    {
     "data": {
      "text/latex": [
       "$$ \\frac{1}{2} \\, {\\left({\\mathcal A_\\mu}^{2} {\\varepsilon}^{2} {\\varphi_1}^{2} + {\\mathcal A_\\mu}^{2} {\\varepsilon}^{2} {\\varphi_2}^{2} + {\\mathcal A_\\mu}^{2} {\\varepsilon}^{2} {\\varphi_4}^{2} + {\\mathcal A_\\mu}^{2} {\\varepsilon}^{2} {\\varphi_5}^{2}\\right)} {e}^{2} $$"
      ],
      "text/plain": [
       "<IPython.core.display.Latex object>"
      ]
     },
     "metadata": {},
     "output_type": "display_data"
    },
    {
     "data": {
      "text/latex": [
       "$$ \\frac{1}{3} \\, \\sqrt{3} {\\Delta m}^{2} {\\varepsilon}^{2} {\\varphi_3} {\\varphi_8} - \\frac{1}{2} \\, {\\varepsilon}^{2} {\\bar m}^{2} {\\varphi_1}^{2} - \\frac{1}{2} \\, {\\varepsilon}^{2} {\\bar m}^{2} {\\varphi_2}^{2} - \\frac{1}{2} \\, {\\varepsilon}^{2} {\\bar m}^{2} {\\varphi_3}^{2} + \\frac{1}{4} \\, {\\Delta m}^{2} {\\varepsilon}^{2} {\\varphi_4}^{2} - \\frac{1}{4} \\, {\\varepsilon}^{2} {m_S}^{2} {\\varphi_4}^{2} - \\frac{1}{4} \\, {\\varepsilon}^{2} {\\bar m}^{2} {\\varphi_4}^{2} + \\frac{1}{4} \\, {\\Delta m}^{2} {\\varepsilon}^{2} {\\varphi_5}^{2} - \\frac{1}{4} \\, {\\varepsilon}^{2} {m_S}^{2} {\\varphi_5}^{2} - \\frac{1}{4} \\, {\\varepsilon}^{2} {\\bar m}^{2} {\\varphi_5}^{2} - \\frac{1}{4} \\, {\\Delta m}^{2} {\\varepsilon}^{2} {\\varphi_6}^{2} - \\frac{1}{4} \\, {\\varepsilon}^{2} {m_S}^{2} {\\varphi_6}^{2} - \\frac{1}{4} \\, {\\varepsilon}^{2} {\\bar m}^{2} {\\varphi_6}^{2} - \\frac{1}{4} \\, {\\Delta m}^{2} {\\varepsilon}^{2} {\\varphi_7}^{2} - \\frac{1}{4} \\, {\\varepsilon}^{2} {m_S}^{2} {\\varphi_7}^{2} - \\frac{1}{4} \\, {\\varepsilon}^{2} {\\bar m}^{2} {\\varphi_7}^{2} - \\frac{1}{3} \\, {\\varepsilon}^{2} {m_S}^{2} {\\varphi_8}^{2} - \\frac{1}{6} \\, {\\varepsilon}^{2} {\\bar m}^{2} {\\varphi_8}^{2} + \\frac{1}{2} \\, {m_S}^{2} + {\\bar m}^{2} $$"
      ],
      "text/plain": [
       "<IPython.core.display.Latex object>"
      ]
     },
     "metadata": {},
     "output_type": "display_data"
    },
    {
     "data": {
      "text/latex": [
       "$$ -C {\\varepsilon}^{2} {\\varphi_1}^{2} {e}^{2} - C {\\varepsilon}^{2} {\\varphi_2}^{2} {e}^{2} - C {\\varepsilon}^{2} {\\varphi_4}^{2} {e}^{2} - C {\\varepsilon}^{2} {\\varphi_5}^{2} {e}^{2} + \\frac{2}{3} \\, C {e}^{2} $$"
      ],
      "text/plain": [
       "<IPython.core.display.Latex object>"
      ]
     },
     "metadata": {},
     "output_type": "display_data"
    }
   ],
   "source": [
    "[pprint(term) for term in terms];"
   ]
  },
  {
   "cell_type": "code",
   "execution_count": 7,
   "id": "bb1a7e81",
   "metadata": {},
   "outputs": [],
   "source": [
    "n = 0\n",
    "v = v_em + v_mu\n",
    "\n",
    "S, Sd, dS, dSd = get_S(n, l2)\n",
    "\n",
    "COM = v*S - S*v # [v_mu, Sigma]\n",
    "COMd = Sd*v - v*Sd\n",
    "COM = mat_prep(COM, n)\n",
    "COMd = mat_prep(COMd, n)\n",
    "\n",
    "term1 = mat_prep(dS*(dSd), n) \n",
    "term2 = -I*mat_prep(dS*(-COMd) + COM*dSd, n)\n",
    "term3 = mat_prep(COM*COMd, n)\n",
    "\n",
    "term1 = term1.trace().trig_reduce().full_simplify()\n",
    "term2 = term2.trace().trig_reduce().full_simplify()\n",
    "term3 = term3.trace().trig_reduce().full_simplify()\n",
    "\n",
    "mass_term = (chi*Sd + S*chi).trace().trig_reduce().full_simplify()\n",
    "em_term = qe**2*C*(Q*S*Q*Sd)\n",
    "em_term = mat_prep(em_term, n).trace()\n",
    "em_term = em_term.full_simplify().trig_reduce().full_simplify()\n",
    "\n",
    "terms = [1/4 * term for term in [term1, term2, term3, mass_term]]\n",
    "terms.append(em_term)"
   ]
  },
  {
   "cell_type": "code",
   "execution_count": 8,
   "id": "34fc2737",
   "metadata": {},
   "outputs": [
    {
     "data": {
      "text/latex": [
       "$$ 0 $$"
      ],
      "text/plain": [
       "<IPython.core.display.Latex object>"
      ]
     },
     "metadata": {},
     "output_type": "display_data"
    },
    {
     "data": {
      "text/latex": [
       "$$ 0 $$"
      ],
      "text/plain": [
       "<IPython.core.display.Latex object>"
      ]
     },
     "metadata": {},
     "output_type": "display_data"
    },
    {
     "data": {
      "text/latex": [
       "$$ \\frac{1}{2} \\, {\\delta}^{2} {\\mu_I}^{2} \\sin\\left({\\alpha}\\right)^{2} + {\\mathcal A_\\mu} {\\delta} {\\mu_I} {e} \\sin\\left({\\alpha}\\right)^{2} + \\frac{1}{2} \\, {\\mathcal A_\\mu}^{2} {e}^{2} \\sin\\left({\\alpha}\\right)^{2} $$"
      ],
      "text/plain": [
       "<IPython.core.display.Latex object>"
      ]
     },
     "metadata": {},
     "output_type": "display_data"
    },
    {
     "data": {
      "text/latex": [
       "$$ {\\bar m}^{2} \\cos\\left({\\alpha}\\right) + \\frac{1}{2} \\, {m_S}^{2} $$"
      ],
      "text/plain": [
       "<IPython.core.display.Latex object>"
      ]
     },
     "metadata": {},
     "output_type": "display_data"
    },
    {
     "data": {
      "text/latex": [
       "$$ -\\frac{1}{3} \\, {\\left(3 \\, C \\sin\\left({\\alpha}\\right)^{2} - 2 \\, C\\right)} {e}^{2} $$"
      ],
      "text/plain": [
       "<IPython.core.display.Latex object>"
      ]
     },
     "metadata": {},
     "output_type": "display_data"
    }
   ],
   "source": [
    "[pprint(term) for term in terms];"
   ]
  },
  {
   "cell_type": "code",
   "execution_count": 35,
   "id": "0b986855",
   "metadata": {},
   "outputs": [
    {
     "data": {
      "text/latex": [
       "$$ C \\cos\\left({\\alpha}\\right)^{2} - \\frac{1}{3} \\, C $$"
      ],
      "text/plain": [
       "<IPython.core.display.Latex object>"
      ]
     },
     "metadata": {},
     "output_type": "display_data"
    }
   ],
   "source": [
    "pprint((1/2*(cos(a)**2 - 1/3)*2*C).full_simplify())"
   ]
  },
  {
   "cell_type": "code",
   "execution_count": 36,
   "id": "91be9fe6",
   "metadata": {},
   "outputs": [
    {
     "data": {
      "text/latex": [
       "$$ \\frac{1}{2} \\, {\\delta}^{2} {\\mu_I}^{2} \\sin\\left({\\alpha}\\right)^{2} - \\frac{1}{3} \\, {\\left(3 \\, C \\sin\\left({\\alpha}\\right)^{2} - 2 \\, C\\right)} {e}^{2} + {\\bar m}^{2} \\cos\\left({\\alpha}\\right) + \\frac{1}{2} \\, {m_S}^{2} $$"
      ],
      "text/plain": [
       "<IPython.core.display.Latex object>"
      ]
     },
     "metadata": {},
     "output_type": "display_data"
    }
   ],
   "source": [
    "pprint((term1+term2+term3+mass_term+em_term).coefficients(e)[0][0].subs(A_mu==0).full_simplify())"
   ]
  },
  {
   "cell_type": "code",
   "execution_count": 37,
   "id": "76a38c62",
   "metadata": {},
   "outputs": [],
   "source": [
    "S, Sd, dS, dSd = get_S(n, l5)\n",
    "\n",
    "COM = v*S - S*v # [v_mu, Sigma]\n",
    "COMd = Sd*v - v*Sd\n",
    "COM = mat_prep(COM, n)\n",
    "COMd = mat_prep(COMd, n)\n",
    "\n",
    "term1 = mat_prep(dS*(dSd), n) \n",
    "term2 = -I*mat_prep(dS*(-COMd) + COM*dSd, n)\n",
    "term3 = mat_prep(COM*COMd, n)\n",
    "\n",
    "term1 = term1.trace().trig_reduce().full_simplify()\n",
    "term2 = term2.trace().trig_reduce().full_simplify()\n",
    "term3 = term3.trace().trig_reduce().full_simplify()\n",
    "\n",
    "mass_term = (chi*Sd + S*chi).trace().trig_reduce().full_simplify()\n",
    "em_term = qe**2*C*(Q*S*Q*Sd)\n",
    "em_term = mat_prep(em_term, n).trace().trig_reduce().full_simplify()\n",
    "\n",
    "term1, term2, term3, mass_term = (1/4 * term for term in [term1, term2, term3, mass_term])"
   ]
  },
  {
   "cell_type": "code",
   "execution_count": 38,
   "id": "32376b0e",
   "metadata": {},
   "outputs": [
    {
     "data": {
      "text/latex": [
       "$$ \\frac{1}{2} \\, {\\left({\\partial_\\mu\\varphi_1}^{2} + {\\partial_\\mu\\varphi_2}^{2} + {\\partial_\\mu\\varphi_3}^{2} + {\\partial_\\mu\\varphi_4}^{2} + {\\partial_\\mu\\varphi_5}^{2} + {\\partial_\\mu\\varphi_6}^{2} + {\\partial_\\mu\\varphi_7}^{2} + {\\partial_\\mu\\varphi_8}^{2}\\right)} {\\varepsilon}^{2} $$"
      ],
      "text/plain": [
       "<IPython.core.display.Latex object>"
      ]
     },
     "metadata": {},
     "output_type": "display_data"
    }
   ],
   "source": [
    "pprint(term1)"
   ]
  },
  {
   "cell_type": "code",
   "execution_count": 39,
   "id": "afa6e7e5",
   "metadata": {},
   "outputs": [
    {
     "data": {
      "text/latex": [
       "$$ -\\frac{1}{2} \\, {\\delta} {\\partial_\\mu\\varphi_4} {\\varepsilon} {\\mu_I} \\sin\\left({\\alpha}\\right) - {\\delta} {\\partial_\\mu\\varphi_4} {\\varepsilon} {\\mu_S} \\sin\\left({\\alpha}\\right) + \\frac{1}{4} \\, {\\left({\\delta} {\\partial_\\mu\\varphi_2} {\\varepsilon}^{2} {\\mu_I} {\\left(\\cos\\left({\\alpha}\\right) + 3\\right)} + 2 \\, {\\delta} {\\partial_\\mu\\varphi_2} {\\varepsilon}^{2} {\\mu_S} {\\left(\\cos\\left({\\alpha}\\right) - 1\\right)}\\right)} {\\varphi_1} - \\frac{1}{4} \\, {\\left({\\delta} {\\partial_\\mu\\varphi_1} {\\varepsilon}^{2} {\\mu_I} {\\left(\\cos\\left({\\alpha}\\right) + 3\\right)} + 2 \\, {\\delta} {\\partial_\\mu\\varphi_1} {\\varepsilon}^{2} {\\mu_S} {\\left(\\cos\\left({\\alpha}\\right) - 1\\right)}\\right)} {\\varphi_2} + \\frac{1}{2} \\, {\\left({\\delta} {\\partial_\\mu\\varphi_5} {\\varepsilon}^{2} {\\mu_I} \\cos\\left({\\alpha}\\right) + 2 \\, {\\delta} {\\partial_\\mu\\varphi_5} {\\varepsilon}^{2} {\\mu_S} \\cos\\left({\\alpha}\\right)\\right)} {\\varphi_4} - \\frac{1}{2} \\, {\\left({\\delta} {\\partial_\\mu\\varphi_4} {\\varepsilon}^{2} {\\mu_I} \\cos\\left({\\alpha}\\right) + 2 \\, {\\delta} {\\partial_\\mu\\varphi_4} {\\varepsilon}^{2} {\\mu_S} \\cos\\left({\\alpha}\\right)\\right)} {\\varphi_5} + \\frac{1}{4} \\, {\\left(2 \\, {\\delta} {\\partial_\\mu\\varphi_7} {\\varepsilon}^{2} {\\mu_S} {\\left(\\cos\\left({\\alpha}\\right) + 1\\right)} + {\\delta} {\\partial_\\mu\\varphi_7} {\\varepsilon}^{2} {\\mu_I} {\\left(\\cos\\left({\\alpha}\\right) - 3\\right)}\\right)} {\\varphi_6} - \\frac{1}{4} \\, {\\left(2 \\, {\\delta} {\\partial_\\mu\\varphi_6} {\\varepsilon}^{2} {\\mu_S} {\\left(\\cos\\left({\\alpha}\\right) + 1\\right)} + {\\delta} {\\partial_\\mu\\varphi_6} {\\varepsilon}^{2} {\\mu_I} {\\left(\\cos\\left({\\alpha}\\right) - 3\\right)}\\right)} {\\varphi_7} + \\frac{1}{2} \\, {\\left(2 \\, {\\mathcal A_\\mu} {\\partial_\\mu\\varphi_5} {\\varepsilon}^{2} {\\varphi_4} \\cos\\left({\\alpha}\\right) - 2 \\, {\\mathcal A_\\mu} {\\partial_\\mu\\varphi_4} {\\varepsilon}^{2} {\\varphi_5} \\cos\\left({\\alpha}\\right) + {\\left({\\mathcal A_\\mu} \\cos\\left({\\alpha}\\right) + {\\mathcal A_\\mu}\\right)} {\\partial_\\mu\\varphi_2} {\\varepsilon}^{2} {\\varphi_1} - {\\left({\\mathcal A_\\mu} \\cos\\left({\\alpha}\\right) + {\\mathcal A_\\mu}\\right)} {\\partial_\\mu\\varphi_1} {\\varepsilon}^{2} {\\varphi_2} + {\\left({\\mathcal A_\\mu} \\cos\\left({\\alpha}\\right) - {\\mathcal A_\\mu}\\right)} {\\partial_\\mu\\varphi_7} {\\varepsilon}^{2} {\\varphi_6} - {\\left({\\mathcal A_\\mu} \\cos\\left({\\alpha}\\right) - {\\mathcal A_\\mu}\\right)} {\\partial_\\mu\\varphi_6} {\\varepsilon}^{2} {\\varphi_7} - 2 \\, {\\mathcal A_\\mu} {\\partial_\\mu\\varphi_4} {\\varepsilon} \\sin\\left({\\alpha}\\right)\\right)} {e} $$"
      ],
      "text/plain": [
       "<IPython.core.display.Latex object>"
      ]
     },
     "metadata": {},
     "output_type": "display_data"
    }
   ],
   "source": [
    "pprint(term2)"
   ]
  },
  {
   "cell_type": "code",
   "execution_count": 40,
   "id": "ed4505a5",
   "metadata": {},
   "outputs": [
    {
     "data": {
      "text/latex": [
       "$$ \\frac{1}{8} \\, {\\delta}^{2} {\\mu_I}^{2} \\sin\\left({\\alpha}\\right)^{2} + \\frac{1}{2} \\, {\\delta}^{2} {\\mu_I} {\\mu_S} \\sin\\left({\\alpha}\\right)^{2} + \\frac{1}{2} \\, {\\delta}^{2} {\\mu_S}^{2} \\sin\\left({\\alpha}\\right)^{2} - \\frac{1}{16} \\, {\\left({\\left(\\sin\\left({\\alpha}\\right)^{2} - 3 \\, \\cos\\left({\\alpha}\\right) - 5\\right)} {\\delta}^{2} {\\varepsilon}^{2} {\\mu_I}^{2} + 4 \\, {\\left(\\sin\\left({\\alpha}\\right)^{2} - \\cos\\left({\\alpha}\\right) + 1\\right)} {\\delta}^{2} {\\varepsilon}^{2} {\\mu_I} {\\mu_S} + 4 \\, {\\left(\\sin\\left({\\alpha}\\right)^{2} + \\cos\\left({\\alpha}\\right) - 1\\right)} {\\delta}^{2} {\\varepsilon}^{2} {\\mu_S}^{2}\\right)} {\\varphi_1}^{2} - \\frac{1}{16} \\, {\\left({\\left(\\sin\\left({\\alpha}\\right)^{2} - 3 \\, \\cos\\left({\\alpha}\\right) - 5\\right)} {\\delta}^{2} {\\varepsilon}^{2} {\\mu_I}^{2} + 4 \\, {\\left(\\sin\\left({\\alpha}\\right)^{2} - \\cos\\left({\\alpha}\\right) + 1\\right)} {\\delta}^{2} {\\varepsilon}^{2} {\\mu_I} {\\mu_S} + 4 \\, {\\left(\\sin\\left({\\alpha}\\right)^{2} + \\cos\\left({\\alpha}\\right) - 1\\right)} {\\delta}^{2} {\\varepsilon}^{2} {\\mu_S}^{2}\\right)} {\\varphi_2}^{2} - \\frac{1}{32} \\, {\\left({\\delta}^{2} {\\varepsilon}^{2} {\\mu_I}^{2} \\sin\\left({\\alpha}\\right)^{2} + 4 \\, {\\delta}^{2} {\\varepsilon}^{2} {\\mu_I} {\\mu_S} \\sin\\left({\\alpha}\\right)^{2} + 4 \\, {\\delta}^{2} {\\varepsilon}^{2} {\\mu_S}^{2} \\sin\\left({\\alpha}\\right)^{2}\\right)} {\\varphi_3}^{2} - \\frac{1}{8} \\, {\\left({\\left(\\sin\\left({\\alpha}\\right)^{2} - 1\\right)} {\\delta}^{2} {\\varepsilon}^{2} {\\mu_I}^{2} + 4 \\, {\\left(\\sin\\left({\\alpha}\\right)^{2} - 1\\right)} {\\delta}^{2} {\\varepsilon}^{2} {\\mu_I} {\\mu_S} + 4 \\, {\\left(\\sin\\left({\\alpha}\\right)^{2} - 1\\right)} {\\delta}^{2} {\\varepsilon}^{2} {\\mu_S}^{2}\\right)} {\\varphi_4}^{2} - \\frac{1}{8} \\, {\\left({\\left(2 \\, \\sin\\left({\\alpha}\\right)^{2} - 1\\right)} {\\delta}^{2} {\\varepsilon}^{2} {\\mu_I}^{2} + 4 \\, {\\left(2 \\, \\sin\\left({\\alpha}\\right)^{2} - 1\\right)} {\\delta}^{2} {\\varepsilon}^{2} {\\mu_I} {\\mu_S} + 4 \\, {\\left(2 \\, \\sin\\left({\\alpha}\\right)^{2} - 1\\right)} {\\delta}^{2} {\\varepsilon}^{2} {\\mu_S}^{2}\\right)} {\\varphi_5}^{2} - \\frac{1}{16} \\, {\\left({\\left(\\sin\\left({\\alpha}\\right)^{2} + 3 \\, \\cos\\left({\\alpha}\\right) - 5\\right)} {\\delta}^{2} {\\varepsilon}^{2} {\\mu_I}^{2} + 4 \\, {\\left(\\sin\\left({\\alpha}\\right)^{2} + \\cos\\left({\\alpha}\\right) + 1\\right)} {\\delta}^{2} {\\varepsilon}^{2} {\\mu_I} {\\mu_S} + 4 \\, {\\left(\\sin\\left({\\alpha}\\right)^{2} - \\cos\\left({\\alpha}\\right) - 1\\right)} {\\delta}^{2} {\\varepsilon}^{2} {\\mu_S}^{2}\\right)} {\\varphi_6}^{2} - \\frac{1}{16} \\, {\\left({\\left(\\sin\\left({\\alpha}\\right)^{2} + 3 \\, \\cos\\left({\\alpha}\\right) - 5\\right)} {\\delta}^{2} {\\varepsilon}^{2} {\\mu_I}^{2} + 4 \\, {\\left(\\sin\\left({\\alpha}\\right)^{2} + \\cos\\left({\\alpha}\\right) + 1\\right)} {\\delta}^{2} {\\varepsilon}^{2} {\\mu_I} {\\mu_S} + 4 \\, {\\left(\\sin\\left({\\alpha}\\right)^{2} - \\cos\\left({\\alpha}\\right) - 1\\right)} {\\delta}^{2} {\\varepsilon}^{2} {\\mu_S}^{2}\\right)} {\\varphi_7}^{2} - \\frac{1}{16} \\, {\\left(\\sqrt{3} {\\delta}^{2} {\\varepsilon}^{2} {\\mu_I}^{2} \\sin\\left({\\alpha}\\right)^{2} + 4 \\, \\sqrt{3} {\\delta}^{2} {\\varepsilon}^{2} {\\mu_I} {\\mu_S} \\sin\\left({\\alpha}\\right)^{2} + 4 \\, \\sqrt{3} {\\delta}^{2} {\\varepsilon}^{2} {\\mu_S}^{2} \\sin\\left({\\alpha}\\right)^{2}\\right)} {\\varphi_3} {\\varphi_8} - \\frac{3}{32} \\, {\\left({\\delta}^{2} {\\varepsilon}^{2} {\\mu_I}^{2} \\sin\\left({\\alpha}\\right)^{2} + 4 \\, {\\delta}^{2} {\\varepsilon}^{2} {\\mu_I} {\\mu_S} \\sin\\left({\\alpha}\\right)^{2} + 4 \\, {\\delta}^{2} {\\varepsilon}^{2} {\\mu_S}^{2} \\sin\\left({\\alpha}\\right)^{2}\\right)} {\\varphi_8}^{2} - \\frac{1}{8} \\, {\\left(2 \\, \\sqrt{3} {\\mathcal A_\\mu}^{2} {\\varepsilon}^{2} {\\varphi_3} {\\varphi_8} \\sin\\left({\\alpha}\\right)^{2} + {\\mathcal A_\\mu}^{2} {\\varepsilon}^{2} {\\varphi_3}^{2} \\sin\\left({\\alpha}\\right)^{2} + 3 \\, {\\mathcal A_\\mu}^{2} {\\varepsilon}^{2} {\\varphi_8}^{2} \\sin\\left({\\alpha}\\right)^{2} - 8 \\, {\\mathcal A_\\mu}^{2} {\\varepsilon} {\\varphi_5} \\cos\\left({\\alpha}\\right) \\sin\\left({\\alpha}\\right) + 2 \\, {\\left({\\mathcal A_\\mu}^{2} \\sin\\left({\\alpha}\\right)^{2} - {\\mathcal A_\\mu}^{2} \\cos\\left({\\alpha}\\right) - {\\mathcal A_\\mu}^{2}\\right)} {\\varepsilon}^{2} {\\varphi_1}^{2} + 2 \\, {\\left({\\mathcal A_\\mu}^{2} \\sin\\left({\\alpha}\\right)^{2} - {\\mathcal A_\\mu}^{2} \\cos\\left({\\alpha}\\right) - {\\mathcal A_\\mu}^{2}\\right)} {\\varepsilon}^{2} {\\varphi_2}^{2} + 4 \\, {\\left({\\mathcal A_\\mu}^{2} \\sin\\left({\\alpha}\\right)^{2} - {\\mathcal A_\\mu}^{2}\\right)} {\\varepsilon}^{2} {\\varphi_4}^{2} + 4 \\, {\\left(2 \\, {\\mathcal A_\\mu}^{2} \\sin\\left({\\alpha}\\right)^{2} - {\\mathcal A_\\mu}^{2}\\right)} {\\varepsilon}^{2} {\\varphi_5}^{2} + 2 \\, {\\left({\\mathcal A_\\mu}^{2} \\sin\\left({\\alpha}\\right)^{2} + {\\mathcal A_\\mu}^{2} \\cos\\left({\\alpha}\\right) - {\\mathcal A_\\mu}^{2}\\right)} {\\varepsilon}^{2} {\\varphi_6}^{2} + 2 \\, {\\left({\\mathcal A_\\mu}^{2} \\sin\\left({\\alpha}\\right)^{2} + {\\mathcal A_\\mu}^{2} \\cos\\left({\\alpha}\\right) - {\\mathcal A_\\mu}^{2}\\right)} {\\varepsilon}^{2} {\\varphi_7}^{2} - 4 \\, {\\mathcal A_\\mu}^{2} \\sin\\left({\\alpha}\\right)^{2}\\right)} {e}^{2} + \\frac{1}{4} \\, {\\left({\\delta}^{2} {\\varepsilon} {\\mu_I}^{2} \\cos\\left({\\alpha}\\right) \\sin\\left({\\alpha}\\right) + 4 \\, {\\delta}^{2} {\\varepsilon} {\\mu_I} {\\mu_S} \\cos\\left({\\alpha}\\right) \\sin\\left({\\alpha}\\right) + 4 \\, {\\delta}^{2} {\\varepsilon} {\\mu_S}^{2} \\cos\\left({\\alpha}\\right) \\sin\\left({\\alpha}\\right)\\right)} {\\varphi_5} + \\frac{1}{8} \\, {\\left(4 \\, {\\mathcal A_\\mu} {\\delta} {\\mu_I} \\sin\\left({\\alpha}\\right)^{2} + 8 \\, {\\mathcal A_\\mu} {\\delta} {\\mu_S} \\sin\\left({\\alpha}\\right)^{2} - 2 \\, {\\left(2 \\, {\\mathcal A_\\mu} {\\delta} {\\varepsilon}^{2} {\\mu_S} \\sin\\left({\\alpha}\\right)^{2} + {\\left({\\mathcal A_\\mu} \\sin\\left({\\alpha}\\right)^{2} - 2 \\, {\\mathcal A_\\mu} \\cos\\left({\\alpha}\\right) - 2 \\, {\\mathcal A_\\mu}\\right)} {\\delta} {\\varepsilon}^{2} {\\mu_I}\\right)} {\\varphi_1}^{2} - 2 \\, {\\left(2 \\, {\\mathcal A_\\mu} {\\delta} {\\varepsilon}^{2} {\\mu_S} \\sin\\left({\\alpha}\\right)^{2} + {\\left({\\mathcal A_\\mu} \\sin\\left({\\alpha}\\right)^{2} - 2 \\, {\\mathcal A_\\mu} \\cos\\left({\\alpha}\\right) - 2 \\, {\\mathcal A_\\mu}\\right)} {\\delta} {\\varepsilon}^{2} {\\mu_I}\\right)} {\\varphi_2}^{2} - {\\left({\\mathcal A_\\mu} {\\delta} {\\varepsilon}^{2} {\\mu_I} \\sin\\left({\\alpha}\\right)^{2} + 2 \\, {\\mathcal A_\\mu} {\\delta} {\\varepsilon}^{2} {\\mu_S} \\sin\\left({\\alpha}\\right)^{2}\\right)} {\\varphi_3}^{2} - 4 \\, {\\left({\\left({\\mathcal A_\\mu} \\sin\\left({\\alpha}\\right)^{2} - {\\mathcal A_\\mu}\\right)} {\\delta} {\\varepsilon}^{2} {\\mu_I} + 2 \\, {\\left({\\mathcal A_\\mu} \\sin\\left({\\alpha}\\right)^{2} - {\\mathcal A_\\mu}\\right)} {\\delta} {\\varepsilon}^{2} {\\mu_S}\\right)} {\\varphi_4}^{2} - 4 \\, {\\left({\\left(2 \\, {\\mathcal A_\\mu} \\sin\\left({\\alpha}\\right)^{2} - {\\mathcal A_\\mu}\\right)} {\\delta} {\\varepsilon}^{2} {\\mu_I} + 2 \\, {\\left(2 \\, {\\mathcal A_\\mu} \\sin\\left({\\alpha}\\right)^{2} - {\\mathcal A_\\mu}\\right)} {\\delta} {\\varepsilon}^{2} {\\mu_S}\\right)} {\\varphi_5}^{2} - 2 \\, {\\left(2 \\, {\\mathcal A_\\mu} {\\delta} {\\varepsilon}^{2} {\\mu_S} \\sin\\left({\\alpha}\\right)^{2} + {\\left({\\mathcal A_\\mu} \\sin\\left({\\alpha}\\right)^{2} + 2 \\, {\\mathcal A_\\mu} \\cos\\left({\\alpha}\\right) - 2 \\, {\\mathcal A_\\mu}\\right)} {\\delta} {\\varepsilon}^{2} {\\mu_I}\\right)} {\\varphi_6}^{2} - 2 \\, {\\left(2 \\, {\\mathcal A_\\mu} {\\delta} {\\varepsilon}^{2} {\\mu_S} \\sin\\left({\\alpha}\\right)^{2} + {\\left({\\mathcal A_\\mu} \\sin\\left({\\alpha}\\right)^{2} + 2 \\, {\\mathcal A_\\mu} \\cos\\left({\\alpha}\\right) - 2 \\, {\\mathcal A_\\mu}\\right)} {\\delta} {\\varepsilon}^{2} {\\mu_I}\\right)} {\\varphi_7}^{2} - 2 \\, {\\left(\\sqrt{3} {\\mathcal A_\\mu} {\\delta} {\\varepsilon}^{2} {\\mu_I} \\sin\\left({\\alpha}\\right)^{2} + 2 \\, \\sqrt{3} {\\mathcal A_\\mu} {\\delta} {\\varepsilon}^{2} {\\mu_S} \\sin\\left({\\alpha}\\right)^{2}\\right)} {\\varphi_3} {\\varphi_8} - 3 \\, {\\left({\\mathcal A_\\mu} {\\delta} {\\varepsilon}^{2} {\\mu_I} \\sin\\left({\\alpha}\\right)^{2} + 2 \\, {\\mathcal A_\\mu} {\\delta} {\\varepsilon}^{2} {\\mu_S} \\sin\\left({\\alpha}\\right)^{2}\\right)} {\\varphi_8}^{2} + 8 \\, {\\left({\\mathcal A_\\mu} {\\delta} {\\varepsilon} {\\mu_I} \\cos\\left({\\alpha}\\right) \\sin\\left({\\alpha}\\right) + 2 \\, {\\mathcal A_\\mu} {\\delta} {\\varepsilon} {\\mu_S} \\cos\\left({\\alpha}\\right) \\sin\\left({\\alpha}\\right)\\right)} {\\varphi_5}\\right)} {e} $$"
      ],
      "text/plain": [
       "<IPython.core.display.Latex object>"
      ]
     },
     "metadata": {},
     "output_type": "display_data"
    }
   ],
   "source": [
    "pprint(term3)"
   ]
  },
  {
   "cell_type": "code",
   "execution_count": 41,
   "id": "b8785bf6",
   "metadata": {},
   "outputs": [
    {
     "data": {
      "text/latex": [
       "$$ -\\frac{1}{8} \\, {\\left({\\varepsilon}^{2} {\\bar m}^{2} {\\left(\\cos\\left({\\alpha}\\right) + 3\\right)} - {\\Delta m}^{2} {\\varepsilon}^{2} {\\left(\\cos\\left({\\alpha}\\right) - 1\\right)} + {\\varepsilon}^{2} {m_S}^{2} {\\left(\\cos\\left({\\alpha}\\right) - 1\\right)}\\right)} {\\varphi_1}^{2} - \\frac{1}{8} \\, {\\left({\\varepsilon}^{2} {\\bar m}^{2} {\\left(\\cos\\left({\\alpha}\\right) + 3\\right)} - {\\Delta m}^{2} {\\varepsilon}^{2} {\\left(\\cos\\left({\\alpha}\\right) - 1\\right)} + {\\varepsilon}^{2} {m_S}^{2} {\\left(\\cos\\left({\\alpha}\\right) - 1\\right)}\\right)} {\\varphi_2}^{2} - \\frac{1}{8} \\, {\\left({\\varepsilon}^{2} {\\bar m}^{2} {\\left(\\cos\\left({\\alpha}\\right) + 3\\right)} - {\\Delta m}^{2} {\\varepsilon}^{2} {\\left(\\cos\\left({\\alpha}\\right) - 1\\right)} + {\\varepsilon}^{2} {m_S}^{2} {\\left(\\cos\\left({\\alpha}\\right) - 1\\right)}\\right)} {\\varphi_3}^{2} + \\frac{1}{4} \\, {\\left({\\Delta m}^{2} {\\varepsilon}^{2} \\cos\\left({\\alpha}\\right) - {\\varepsilon}^{2} {m_S}^{2} \\cos\\left({\\alpha}\\right) - {\\varepsilon}^{2} {\\bar m}^{2} \\cos\\left({\\alpha}\\right)\\right)} {\\varphi_4}^{2} + \\frac{1}{4} \\, {\\left({\\Delta m}^{2} {\\varepsilon}^{2} \\cos\\left({\\alpha}\\right) - {\\varepsilon}^{2} {m_S}^{2} \\cos\\left({\\alpha}\\right) - {\\varepsilon}^{2} {\\bar m}^{2} \\cos\\left({\\alpha}\\right)\\right)} {\\varphi_5}^{2} - \\frac{1}{8} \\, {\\left({\\varepsilon}^{2} {m_S}^{2} {\\left(\\cos\\left({\\alpha}\\right) + 1\\right)} + {\\varepsilon}^{2} {\\bar m}^{2} {\\left(\\cos\\left({\\alpha}\\right) + 1\\right)} - {\\Delta m}^{2} {\\varepsilon}^{2} {\\left(\\cos\\left({\\alpha}\\right) - 3\\right)}\\right)} {\\varphi_6}^{2} - \\frac{1}{8} \\, {\\left({\\varepsilon}^{2} {m_S}^{2} {\\left(\\cos\\left({\\alpha}\\right) + 1\\right)} + {\\varepsilon}^{2} {\\bar m}^{2} {\\left(\\cos\\left({\\alpha}\\right) + 1\\right)} - {\\Delta m}^{2} {\\varepsilon}^{2} {\\left(\\cos\\left({\\alpha}\\right) - 3\\right)}\\right)} {\\varphi_7}^{2} + \\frac{1}{12} \\, {\\left({\\left(\\sqrt{3} \\cos\\left({\\alpha}\\right) + 3 \\, \\sqrt{3}\\right)} {\\Delta m}^{2} {\\varepsilon}^{2} - {\\left(\\sqrt{3} \\cos\\left({\\alpha}\\right) - \\sqrt{3}\\right)} {\\varepsilon}^{2} {m_S}^{2} - {\\left(\\sqrt{3} \\cos\\left({\\alpha}\\right) - \\sqrt{3}\\right)} {\\varepsilon}^{2} {\\bar m}^{2}\\right)} {\\varphi_3} {\\varphi_8} - \\frac{1}{24} \\, {\\left({\\varepsilon}^{2} {m_S}^{2} {\\left(5 \\, \\cos\\left({\\alpha}\\right) + 3\\right)} + {\\varepsilon}^{2} {\\bar m}^{2} {\\left(5 \\, \\cos\\left({\\alpha}\\right) - 1\\right)} - 5 \\, {\\Delta m}^{2} {\\varepsilon}^{2} {\\left(\\cos\\left({\\alpha}\\right) - 1\\right)}\\right)} {\\varphi_8}^{2} + \\frac{1}{2} \\, {\\bar m}^{2} {\\left(\\cos\\left({\\alpha}\\right) + 1\\right)} - \\frac{1}{2} \\, {\\Delta m}^{2} {\\left(\\cos\\left({\\alpha}\\right) - 1\\right)} + \\frac{1}{2} \\, {m_S}^{2} \\cos\\left({\\alpha}\\right) + \\frac{1}{2} \\, {\\left({\\Delta m}^{2} {\\varepsilon} \\sin\\left({\\alpha}\\right) - {\\varepsilon} {m_S}^{2} \\sin\\left({\\alpha}\\right) - {\\varepsilon} {\\bar m}^{2} \\sin\\left({\\alpha}\\right)\\right)} {\\varphi_5} $$"
      ],
      "text/plain": [
       "<IPython.core.display.Latex object>"
      ]
     },
     "metadata": {},
     "output_type": "display_data"
    }
   ],
   "source": [
    "pprint(mass_term)"
   ]
  },
  {
   "cell_type": "code",
   "execution_count": 42,
   "id": "9767c511",
   "metadata": {},
   "outputs": [
    {
     "data": {
      "text/latex": [
       "$$ \\frac{1}{12} \\, {\\left(6 \\, \\sqrt{3} C {\\varepsilon}^{2} {\\varphi_3} {\\varphi_8} \\sin\\left({\\alpha}\\right)^{2} + 3 \\, C {\\varepsilon}^{2} {\\varphi_3}^{2} \\sin\\left({\\alpha}\\right)^{2} + 9 \\, C {\\varepsilon}^{2} {\\varphi_8}^{2} \\sin\\left({\\alpha}\\right)^{2} + 6 \\, {\\left(C \\sin\\left({\\alpha}\\right)^{2} - C \\cos\\left({\\alpha}\\right) - C\\right)} {\\varepsilon}^{2} {\\varphi_1}^{2} + 6 \\, {\\left(C \\sin\\left({\\alpha}\\right)^{2} - C \\cos\\left({\\alpha}\\right) - C\\right)} {\\varepsilon}^{2} {\\varphi_2}^{2} + 12 \\, {\\left(C \\sin\\left({\\alpha}\\right)^{2} - C\\right)} {\\varepsilon}^{2} {\\varphi_4}^{2} + 12 \\, {\\left(2 \\, C \\sin\\left({\\alpha}\\right)^{2} - C\\right)} {\\varepsilon}^{2} {\\varphi_5}^{2} + 6 \\, {\\left(C \\sin\\left({\\alpha}\\right)^{2} + C \\cos\\left({\\alpha}\\right) - C\\right)} {\\varepsilon}^{2} {\\varphi_6}^{2} + 6 \\, {\\left(C \\sin\\left({\\alpha}\\right)^{2} + C \\cos\\left({\\alpha}\\right) - C\\right)} {\\varepsilon}^{2} {\\varphi_7}^{2} - 24 \\, C {\\varepsilon} {\\varphi_5} \\cos\\left({\\alpha}\\right) \\sin\\left({\\alpha}\\right) - 12 \\, C \\sin\\left({\\alpha}\\right)^{2} + 8 \\, C\\right)} {e}^{2} $$"
      ],
      "text/plain": [
       "<IPython.core.display.Latex object>"
      ]
     },
     "metadata": {},
     "output_type": "display_data"
    }
   ],
   "source": [
    "pprint(em_term.full_simplify())"
   ]
  },
  {
   "cell_type": "code",
   "execution_count": 17,
   "id": "6269a07d",
   "metadata": {},
   "outputs": [],
   "source": [
    "S, Sd, dS, dSd = get_S(n, l7)\n",
    "\n",
    "COM = v*S - S*v # [v_mu, Sigma]\n",
    "COMd = Sd*v - v*Sd\n",
    "COM = mat_prep(COM, n)\n",
    "COMd = mat_prep(COMd, n)\n",
    "\n",
    "term1 = mat_prep(dS*(dSd), n) \n",
    "term2 = -I*mat_prep(dS*(-COMd) + COM*dSd, n)\n",
    "term3 = mat_prep(COM*COMd, n)\n",
    "\n",
    "term1 = term1.trace().trig_reduce().full_simplify()\n",
    "term2 = term2.trace().trig_reduce().full_simplify()\n",
    "term3 = term3.trace().trig_reduce().full_simplify()\n",
    "\n",
    "mass_term = (chi*Sd + S*chi).trace().trig_reduce().full_simplify()\n",
    "em_term = qe**2*C*(Q*S*Q*Sd)\n",
    "em_term = mat_prep(em_term, n).trace().full_simplify().full_simplify()\n",
    "\n",
    "terms = [1/4 * term for term in [term1, term2, term3, mass_term]]\n",
    "terms.append(em_term)"
   ]
  },
  {
   "cell_type": "code",
   "execution_count": 18,
   "id": "58511c71",
   "metadata": {},
   "outputs": [
    {
     "data": {
      "text/latex": [
       "$$ 0 $$"
      ],
      "text/plain": [
       "<IPython.core.display.Latex object>"
      ]
     },
     "metadata": {},
     "output_type": "display_data"
    },
    {
     "data": {
      "text/latex": [
       "$$ 0 $$"
      ],
      "text/plain": [
       "<IPython.core.display.Latex object>"
      ]
     },
     "metadata": {},
     "output_type": "display_data"
    },
    {
     "data": {
      "text/latex": [
       "$$ \\frac{1}{8} \\, {\\delta}^{2} {\\mu_I}^{2} \\sin\\left({\\alpha}\\right)^{2} - \\frac{1}{2} \\, {\\delta}^{2} {\\mu_I} {\\mu_S} \\sin\\left({\\alpha}\\right)^{2} + \\frac{1}{2} \\, {\\delta}^{2} {\\mu_S}^{2} \\sin\\left({\\alpha}\\right)^{2} $$"
      ],
      "text/plain": [
       "<IPython.core.display.Latex object>"
      ]
     },
     "metadata": {},
     "output_type": "display_data"
    },
    {
     "data": {
      "text/latex": [
       "$$ \\frac{1}{2} \\, {\\bar m}^{2} {\\left(\\cos\\left({\\alpha}\\right) + 1\\right)} + \\frac{1}{2} \\, {\\Delta m}^{2} {\\left(\\cos\\left({\\alpha}\\right) - 1\\right)} + \\frac{1}{2} \\, {m_S}^{2} \\cos\\left({\\alpha}\\right) $$"
      ],
      "text/plain": [
       "<IPython.core.display.Latex object>"
      ]
     },
     "metadata": {},
     "output_type": "display_data"
    },
    {
     "data": {
      "text/latex": [
       "$$ \\frac{2}{3} \\, C {e}^{2} $$"
      ],
      "text/plain": [
       "<IPython.core.display.Latex object>"
      ]
     },
     "metadata": {},
     "output_type": "display_data"
    }
   ],
   "source": [
    "[pprint(term) for term in terms];"
   ]
  },
  {
   "cell_type": "code",
   "execution_count": 19,
   "id": "a77a2a58",
   "metadata": {},
   "outputs": [
    {
     "data": {
      "text/html": [
       "<html><script type=\"math/tex; mode=display\">\\newcommand{\\Bold}[1]{\\mathbf{#1}}\\frac{2}{3} \\, C {e}^{2}</script></html>"
      ],
      "text/latex": [
       "$$\\newcommand{\\Bold}[1]{\\mathbf{#1}}\\frac{2}{3} \\, C {e}^{2}$$"
      ],
      "text/plain": [
       "2/3*C*qe^2"
      ]
     },
     "execution_count": 19,
     "metadata": {},
     "output_type": "execute_result"
    }
   ],
   "source": [
    "em_term"
   ]
  },
  {
   "cell_type": "code",
   "execution_count": 20,
   "id": "639ff7e8",
   "metadata": {},
   "outputs": [
    {
     "data": {
      "text/html": [
       "<html><script type=\"math/tex; mode=display\">\\newcommand{\\Bold}[1]{\\mathbf{#1}}-\\frac{{\\delta} + \\frac{x^{2}}{{\\delta} x^{2} - 1} - \\frac{1}{x^{2}} + 2}{{\\delta} + \\frac{{\\left({\\delta} x^{2} - 3\\right)} x^{2}}{{\\left({\\delta} x^{2} - 1\\right)}^{2}} + \\frac{1}{x^{2}} + 2}</script></html>"
      ],
      "text/latex": [
       "$$\\newcommand{\\Bold}[1]{\\mathbf{#1}}-\\frac{{\\delta} + \\frac{x^{2}}{{\\delta} x^{2} - 1} - \\frac{1}{x^{2}} + 2}{{\\delta} + \\frac{{\\left({\\delta} x^{2} - 3\\right)} x^{2}}{{\\left({\\delta} x^{2} - 1\\right)}^{2}} + \\frac{1}{x^{2}} + 2}$$"
      ],
      "text/plain": [
       "-(d + x^2/(d*x^2 - 1) - 1/x^2 + 2)/(d + (d*x^2 - 3)*x^2/(d*x^2 - 1)^2 + 1/x^2 + 2)"
      ]
     },
     "execution_count": 20,
     "metadata": {},
     "output_type": "execute_result"
    }
   ],
   "source": [
    "k1 = (\n",
    "    (1/x**2 + x**2/(1 - x**2*d) - 2 - d) \n",
    "    / (\n",
    "        (1/x**2 - x**2*(3 - x**2 * d)/(1 - x**2*d)**2 + 2 + d)\n",
    "    )\n",
    ")\n",
    "k1"
   ]
  },
  {
   "cell_type": "code",
   "execution_count": 21,
   "id": "2538f98b",
   "metadata": {},
   "outputs": [
    {
     "data": {
      "text/html": [
       "<html><script type=\"math/tex; mode=display\">\\newcommand{\\Bold}[1]{\\mathbf{#1}}-\\frac{{\\left({\\delta}^{2} + {\\delta}\\right)} x^{4} - {\\left(2 \\, {\\delta} + 1\\right)} x^{2} + 1}{{\\left({\\delta}^{2} + {\\delta}\\right)} x^{4} - 3 \\, x^{2} - 1}</script></html>"
      ],
      "text/latex": [
       "$$\\newcommand{\\Bold}[1]{\\mathbf{#1}}-\\frac{{\\left({\\delta}^{2} + {\\delta}\\right)} x^{4} - {\\left(2 \\, {\\delta} + 1\\right)} x^{2} + 1}{{\\left({\\delta}^{2} + {\\delta}\\right)} x^{4} - 3 \\, x^{2} - 1}$$"
      ],
      "text/plain": [
       "-((d^2 + d)*x^4 - (2*d + 1)*x^2 + 1)/((d^2 + d)*x^4 - 3*x^2 - 1)"
      ]
     },
     "execution_count": 21,
     "metadata": {},
     "output_type": "execute_result"
    }
   ],
   "source": [
    "k1.full_simplify()"
   ]
  },
  {
   "cell_type": "code",
   "execution_count": 22,
   "id": "1d4e49b6",
   "metadata": {},
   "outputs": [
    {
     "data": {
      "text/html": [
       "<html><script type=\"math/tex; mode=display\">\\newcommand{\\Bold}[1]{\\mathbf{#1}}-\\frac{{\\left(x + 1\\right)} {\\left(x - 1\\right)}}{3 \\, x^{2} + 1}</script></html>"
      ],
      "text/latex": [
       "$$\\newcommand{\\Bold}[1]{\\mathbf{#1}}-\\frac{{\\left(x + 1\\right)} {\\left(x - 1\\right)}}{3 \\, x^{2} + 1}$$"
      ],
      "text/plain": [
       "-(x + 1)*(x - 1)/(3*x^2 + 1)"
      ]
     },
     "execution_count": 22,
     "metadata": {},
     "output_type": "execute_result"
    }
   ],
   "source": [
    "k1.subs(d==0).full_simplify().factor()"
   ]
  },
  {
   "cell_type": "code",
   "execution_count": 23,
   "id": "ee112903",
   "metadata": {},
   "outputs": [
    {
     "data": {
      "text/html": [
       "<html><script type=\"math/tex; mode=display\">\\newcommand{\\Bold}[1]{\\mathbf{#1}}-\\frac{3 \\, x^{2} + 1}{{\\left(x + 1\\right)} {\\left(x - 1\\right)}}</script></html>"
      ],
      "text/latex": [
       "$$\\newcommand{\\Bold}[1]{\\mathbf{#1}}-\\frac{3 \\, x^{2} + 1}{{\\left(x + 1\\right)} {\\left(x - 1\\right)}}$$"
      ],
      "text/plain": [
       "-(3*x^2 + 1)/((x + 1)*(x - 1))"
      ]
     },
     "execution_count": 23,
     "metadata": {},
     "output_type": "execute_result"
    }
   ],
   "source": [
    "(1/k1).subs(d==0).full_simplify().factor()"
   ]
  },
  {
   "cell_type": "code",
   "execution_count": 24,
   "id": "78dfa46e",
   "metadata": {},
   "outputs": [
    {
     "data": {
      "text/html": [
       "<html><script type=\"math/tex; mode=display\">\\newcommand{\\Bold}[1]{\\mathbf{#1}}3 \\, x^{4} + 2 \\, x^{2} + 1</script></html>"
      ],
      "text/latex": [
       "$$\\newcommand{\\Bold}[1]{\\mathbf{#1}}3 \\, x^{4} + 2 \\, x^{2} + 1$$"
      ],
      "text/plain": [
       "3*x^4 + 2*x^2 + 1"
      ]
     },
     "execution_count": 24,
     "metadata": {},
     "output_type": "execute_result"
    }
   ],
   "source": [
    "(3*x**4 + 2*x**2 + 1).factor()"
   ]
  },
  {
   "cell_type": "code",
   "execution_count": 25,
   "id": "c16a12c8",
   "metadata": {},
   "outputs": [],
   "source": [
    "n = 2\n",
    "v = v_em + v_mu\n",
    "\n",
    "S, Sd, dS, dSd = get_S(n, l2)\n",
    "\n",
    "COM = v*S - S*v # [v_mu, Sigma]\n",
    "COMd = Sd*v - v*Sd\n",
    "COM = mat_prep(COM, n)\n",
    "COMd = mat_prep(COMd, n)\n",
    "\n",
    "term1 = mat_prep(dS*(dSd), n) \n",
    "term2 = -I*mat_prep(dS*(-COMd) + COM*dSd, n)\n",
    "term3 = mat_prep(COM*COMd, n)\n",
    "\n",
    "term1 = term1.trace().trig_reduce().full_simplify()\n",
    "term2 = term2.trace().trig_reduce().full_simplify()\n",
    "term3 = term3.trace().trig_reduce().full_simplify()\n",
    "\n",
    "mass_term = (chi*Sd + S*chi).trace().trig_reduce().full_simplify()\n",
    "em_term = qe**2*C*(Q*S*Q*Sd)\n",
    "em_term = mat_prep(em_term, n).trace()\n",
    "em_term = em_term.full_simplify().trig_reduce().full_simplify()\n",
    "\n",
    "term1, term2, term3, mass_term = [1/4 * term for term in [term1, term2, term3, mass_term]]"
   ]
  },
  {
   "cell_type": "code",
   "execution_count": 26,
   "id": "10f712ec",
   "metadata": {},
   "outputs": [
    {
     "data": {
      "text/html": [
       "<html><script type=\"math/tex; mode=display\">\\newcommand{\\Bold}[1]{\\mathbf{#1}}\\frac{1}{2} \\, {\\left({\\partial_\\mu\\varphi_1}^{2} + {\\partial_\\mu\\varphi_2}^{2} + {\\partial_\\mu\\varphi_3}^{2} + {\\partial_\\mu\\varphi_4}^{2} + {\\partial_\\mu\\varphi_5}^{2} + {\\partial_\\mu\\varphi_6}^{2} + {\\partial_\\mu\\varphi_7}^{2} + {\\partial_\\mu\\varphi_8}^{2}\\right)} {\\varepsilon}^{2}</script></html>"
      ],
      "text/latex": [
       "$$\\newcommand{\\Bold}[1]{\\mathbf{#1}}\\frac{1}{2} \\, {\\left({\\partial_\\mu\\varphi_1}^{2} + {\\partial_\\mu\\varphi_2}^{2} + {\\partial_\\mu\\varphi_3}^{2} + {\\partial_\\mu\\varphi_4}^{2} + {\\partial_\\mu\\varphi_5}^{2} + {\\partial_\\mu\\varphi_6}^{2} + {\\partial_\\mu\\varphi_7}^{2} + {\\partial_\\mu\\varphi_8}^{2}\\right)} {\\varepsilon}^{2}$$"
      ],
      "text/plain": [
       "1/2*(dphi1^2 + dphi2^2 + dphi3^2 + dphi4^2 + dphi5^2 + dphi6^2 + dphi7^2 + dphi8^2)*e^2"
      ]
     },
     "execution_count": 26,
     "metadata": {},
     "output_type": "execute_result"
    }
   ],
   "source": [
    "term1"
   ]
  },
  {
   "cell_type": "code",
   "execution_count": 27,
   "id": "9d7e76b9",
   "metadata": {},
   "outputs": [
    {
     "data": {
      "text/html": [
       "<html><script type=\"math/tex; mode=display\">\\newcommand{\\Bold}[1]{\\mathbf{#1}}{\\delta} {\\partial_\\mu\\varphi_2} {\\varepsilon}^{2} {\\mu_I} {\\varphi_1} \\cos\\left({\\alpha}\\right) - {\\delta} {\\partial_\\mu\\varphi_1} {\\varepsilon}^{2} {\\mu_I} {\\varphi_2} \\cos\\left({\\alpha}\\right) - {\\delta} {\\partial_\\mu\\varphi_1} {\\varepsilon} {\\mu_I} \\sin\\left({\\alpha}\\right) + \\frac{1}{2} \\, {\\left({\\delta} {\\partial_\\mu\\varphi_5} {\\varepsilon}^{2} {\\mu_I} \\cos\\left({\\alpha}\\right) + 2 \\, {\\delta} {\\partial_\\mu\\varphi_5} {\\varepsilon}^{2} {\\mu_S}\\right)} {\\varphi_4} - \\frac{1}{2} \\, {\\left({\\delta} {\\partial_\\mu\\varphi_4} {\\varepsilon}^{2} {\\mu_I} \\cos\\left({\\alpha}\\right) + 2 \\, {\\delta} {\\partial_\\mu\\varphi_4} {\\varepsilon}^{2} {\\mu_S}\\right)} {\\varphi_5} - \\frac{1}{2} \\, {\\left({\\delta} {\\partial_\\mu\\varphi_7} {\\varepsilon}^{2} {\\mu_I} \\cos\\left({\\alpha}\\right) - 2 \\, {\\delta} {\\partial_\\mu\\varphi_7} {\\varepsilon}^{2} {\\mu_S}\\right)} {\\varphi_6} + \\frac{1}{2} \\, {\\left({\\delta} {\\partial_\\mu\\varphi_6} {\\varepsilon}^{2} {\\mu_I} \\cos\\left({\\alpha}\\right) - 2 \\, {\\delta} {\\partial_\\mu\\varphi_6} {\\varepsilon}^{2} {\\mu_S}\\right)} {\\varphi_7} + \\frac{1}{2} \\, {\\left(2 \\, {\\mathcal A_\\mu} {\\partial_\\mu\\varphi_2} {\\varepsilon}^{2} {\\varphi_1} \\cos\\left({\\alpha}\\right) - 2 \\, {\\mathcal A_\\mu} {\\partial_\\mu\\varphi_1} {\\varepsilon}^{2} {\\varphi_2} \\cos\\left({\\alpha}\\right) + {\\left({\\mathcal A_\\mu} \\cos\\left({\\alpha}\\right) + {\\mathcal A_\\mu}\\right)} {\\partial_\\mu\\varphi_5} {\\varepsilon}^{2} {\\varphi_4} - {\\left({\\mathcal A_\\mu} \\cos\\left({\\alpha}\\right) + {\\mathcal A_\\mu}\\right)} {\\partial_\\mu\\varphi_4} {\\varepsilon}^{2} {\\varphi_5} - {\\left({\\mathcal A_\\mu} \\cos\\left({\\alpha}\\right) - {\\mathcal A_\\mu}\\right)} {\\partial_\\mu\\varphi_7} {\\varepsilon}^{2} {\\varphi_6} + {\\left({\\mathcal A_\\mu} \\cos\\left({\\alpha}\\right) - {\\mathcal A_\\mu}\\right)} {\\partial_\\mu\\varphi_6} {\\varepsilon}^{2} {\\varphi_7} - 2 \\, {\\mathcal A_\\mu} {\\partial_\\mu\\varphi_1} {\\varepsilon} \\sin\\left({\\alpha}\\right)\\right)} {e}</script></html>"
      ],
      "text/latex": [
       "$$\\newcommand{\\Bold}[1]{\\mathbf{#1}}{\\delta} {\\partial_\\mu\\varphi_2} {\\varepsilon}^{2} {\\mu_I} {\\varphi_1} \\cos\\left({\\alpha}\\right) - {\\delta} {\\partial_\\mu\\varphi_1} {\\varepsilon}^{2} {\\mu_I} {\\varphi_2} \\cos\\left({\\alpha}\\right) - {\\delta} {\\partial_\\mu\\varphi_1} {\\varepsilon} {\\mu_I} \\sin\\left({\\alpha}\\right) + \\frac{1}{2} \\, {\\left({\\delta} {\\partial_\\mu\\varphi_5} {\\varepsilon}^{2} {\\mu_I} \\cos\\left({\\alpha}\\right) + 2 \\, {\\delta} {\\partial_\\mu\\varphi_5} {\\varepsilon}^{2} {\\mu_S}\\right)} {\\varphi_4} - \\frac{1}{2} \\, {\\left({\\delta} {\\partial_\\mu\\varphi_4} {\\varepsilon}^{2} {\\mu_I} \\cos\\left({\\alpha}\\right) + 2 \\, {\\delta} {\\partial_\\mu\\varphi_4} {\\varepsilon}^{2} {\\mu_S}\\right)} {\\varphi_5} - \\frac{1}{2} \\, {\\left({\\delta} {\\partial_\\mu\\varphi_7} {\\varepsilon}^{2} {\\mu_I} \\cos\\left({\\alpha}\\right) - 2 \\, {\\delta} {\\partial_\\mu\\varphi_7} {\\varepsilon}^{2} {\\mu_S}\\right)} {\\varphi_6} + \\frac{1}{2} \\, {\\left({\\delta} {\\partial_\\mu\\varphi_6} {\\varepsilon}^{2} {\\mu_I} \\cos\\left({\\alpha}\\right) - 2 \\, {\\delta} {\\partial_\\mu\\varphi_6} {\\varepsilon}^{2} {\\mu_S}\\right)} {\\varphi_7} + \\frac{1}{2} \\, {\\left(2 \\, {\\mathcal A_\\mu} {\\partial_\\mu\\varphi_2} {\\varepsilon}^{2} {\\varphi_1} \\cos\\left({\\alpha}\\right) - 2 \\, {\\mathcal A_\\mu} {\\partial_\\mu\\varphi_1} {\\varepsilon}^{2} {\\varphi_2} \\cos\\left({\\alpha}\\right) + {\\left({\\mathcal A_\\mu} \\cos\\left({\\alpha}\\right) + {\\mathcal A_\\mu}\\right)} {\\partial_\\mu\\varphi_5} {\\varepsilon}^{2} {\\varphi_4} - {\\left({\\mathcal A_\\mu} \\cos\\left({\\alpha}\\right) + {\\mathcal A_\\mu}\\right)} {\\partial_\\mu\\varphi_4} {\\varepsilon}^{2} {\\varphi_5} - {\\left({\\mathcal A_\\mu} \\cos\\left({\\alpha}\\right) - {\\mathcal A_\\mu}\\right)} {\\partial_\\mu\\varphi_7} {\\varepsilon}^{2} {\\varphi_6} + {\\left({\\mathcal A_\\mu} \\cos\\left({\\alpha}\\right) - {\\mathcal A_\\mu}\\right)} {\\partial_\\mu\\varphi_6} {\\varepsilon}^{2} {\\varphi_7} - 2 \\, {\\mathcal A_\\mu} {\\partial_\\mu\\varphi_1} {\\varepsilon} \\sin\\left({\\alpha}\\right)\\right)} {e}$$"
      ],
      "text/plain": [
       "d*dphi2*e^2*muI*phi1*cos(a) - d*dphi1*e^2*muI*phi2*cos(a) - d*dphi1*e*muI*sin(a) + 1/2*(d*dphi5*e^2*muI*cos(a) + 2*d*dphi5*e^2*muS)*phi4 - 1/2*(d*dphi4*e^2*muI*cos(a) + 2*d*dphi4*e^2*muS)*phi5 - 1/2*(d*dphi7*e^2*muI*cos(a) - 2*d*dphi7*e^2*muS)*phi6 + 1/2*(d*dphi6*e^2*muI*cos(a) - 2*d*dphi6*e^2*muS)*phi7 + 1/2*(2*A_mu*dphi2*e^2*phi1*cos(a) - 2*A_mu*dphi1*e^2*phi2*cos(a) + (A_mu*cos(a) + A_mu)*dphi5*e^2*phi4 - (A_mu*cos(a) + A_mu)*dphi4*e^2*phi5 - (A_mu*cos(a) - A_mu)*dphi7*e^2*phi6 + (A_mu*cos(a) - A_mu)*dphi6*e^2*phi7 - 2*A_mu*dphi1*e*sin(a))*qe"
      ]
     },
     "execution_count": 27,
     "metadata": {},
     "output_type": "execute_result"
    }
   ],
   "source": [
    "term2"
   ]
  },
  {
   "cell_type": "code",
   "execution_count": 28,
   "id": "185026db",
   "metadata": {},
   "outputs": [
    {
     "data": {
      "text/html": [
       "<html><script type=\"math/tex; mode=display\">\\newcommand{\\Bold}[1]{\\mathbf{#1}}\\frac{1}{2} \\, {\\delta}^{2} {\\varepsilon}^{2} {\\mu_I}^{2} {\\varphi_1}^{2} \\cos\\left({\\alpha}\\right)^{2} + \\frac{1}{2} \\, {\\left(2 \\, \\cos\\left({\\alpha}\\right)^{2} - 1\\right)} {\\delta}^{2} {\\varepsilon}^{2} {\\mu_I}^{2} {\\varphi_2}^{2} + \\frac{1}{2} \\, {\\left(\\cos\\left({\\alpha}\\right)^{2} - 1\\right)} {\\delta}^{2} {\\varepsilon}^{2} {\\mu_I}^{2} {\\varphi_3}^{2} + {\\delta}^{2} {\\varepsilon} {\\mu_I}^{2} {\\varphi_2} \\cos\\left({\\alpha}\\right) \\sin\\left({\\alpha}\\right) - \\frac{1}{2} \\, {\\left(\\cos\\left({\\alpha}\\right)^{2} - 1\\right)} {\\delta}^{2} {\\mu_I}^{2} + \\frac{1}{8} \\, {\\left({\\left(2 \\, \\cos\\left({\\alpha}\\right)^{2} - 1\\right)} {\\delta}^{2} {\\varepsilon}^{2} {\\mu_I}^{2} + 4 \\, {\\delta}^{2} {\\varepsilon}^{2} {\\mu_I} {\\mu_S} \\cos\\left({\\alpha}\\right) + 4 \\, {\\delta}^{2} {\\varepsilon}^{2} {\\mu_S}^{2}\\right)} {\\varphi_4}^{2} + \\frac{1}{8} \\, {\\left({\\left(2 \\, \\cos\\left({\\alpha}\\right)^{2} - 1\\right)} {\\delta}^{2} {\\varepsilon}^{2} {\\mu_I}^{2} + 4 \\, {\\delta}^{2} {\\varepsilon}^{2} {\\mu_I} {\\mu_S} \\cos\\left({\\alpha}\\right) + 4 \\, {\\delta}^{2} {\\varepsilon}^{2} {\\mu_S}^{2}\\right)} {\\varphi_5}^{2} + \\frac{1}{8} \\, {\\left({\\left(2 \\, \\cos\\left({\\alpha}\\right)^{2} - 1\\right)} {\\delta}^{2} {\\varepsilon}^{2} {\\mu_I}^{2} - 4 \\, {\\delta}^{2} {\\varepsilon}^{2} {\\mu_I} {\\mu_S} \\cos\\left({\\alpha}\\right) + 4 \\, {\\delta}^{2} {\\varepsilon}^{2} {\\mu_S}^{2}\\right)} {\\varphi_6}^{2} + \\frac{1}{8} \\, {\\left({\\left(2 \\, \\cos\\left({\\alpha}\\right)^{2} - 1\\right)} {\\delta}^{2} {\\varepsilon}^{2} {\\mu_I}^{2} - 4 \\, {\\delta}^{2} {\\varepsilon}^{2} {\\mu_I} {\\mu_S} \\cos\\left({\\alpha}\\right) + 4 \\, {\\delta}^{2} {\\varepsilon}^{2} {\\mu_S}^{2}\\right)} {\\varphi_7}^{2} + \\frac{1}{4} \\, {\\left(2 \\, {\\mathcal A_\\mu}^{2} {\\varepsilon}^{2} {\\varphi_1}^{2} \\cos\\left({\\alpha}\\right)^{2} + 4 \\, {\\mathcal A_\\mu}^{2} {\\varepsilon} {\\varphi_2} \\cos\\left({\\alpha}\\right) \\sin\\left({\\alpha}\\right) + 2 \\, {\\left(2 \\, {\\mathcal A_\\mu}^{2} \\cos\\left({\\alpha}\\right)^{2} - {\\mathcal A_\\mu}^{2}\\right)} {\\varepsilon}^{2} {\\varphi_2}^{2} + 2 \\, {\\left({\\mathcal A_\\mu}^{2} \\cos\\left({\\alpha}\\right)^{2} - {\\mathcal A_\\mu}^{2}\\right)} {\\varepsilon}^{2} {\\varphi_3}^{2} + {\\left({\\mathcal A_\\mu}^{2} \\cos\\left({\\alpha}\\right)^{2} + {\\mathcal A_\\mu}^{2} \\cos\\left({\\alpha}\\right)\\right)} {\\varepsilon}^{2} {\\varphi_4}^{2} + {\\left({\\mathcal A_\\mu}^{2} \\cos\\left({\\alpha}\\right)^{2} + {\\mathcal A_\\mu}^{2} \\cos\\left({\\alpha}\\right)\\right)} {\\varepsilon}^{2} {\\varphi_5}^{2} + {\\left({\\mathcal A_\\mu}^{2} \\cos\\left({\\alpha}\\right)^{2} - {\\mathcal A_\\mu}^{2} \\cos\\left({\\alpha}\\right)\\right)} {\\varepsilon}^{2} {\\varphi_6}^{2} + {\\left({\\mathcal A_\\mu}^{2} \\cos\\left({\\alpha}\\right)^{2} - {\\mathcal A_\\mu}^{2} \\cos\\left({\\alpha}\\right)\\right)} {\\varepsilon}^{2} {\\varphi_7}^{2} - 2 \\, {\\mathcal A_\\mu}^{2} \\cos\\left({\\alpha}\\right)^{2} + 2 \\, {\\mathcal A_\\mu}^{2}\\right)} {e}^{2} + \\frac{1}{4} \\, {\\left(4 \\, {\\mathcal A_\\mu} {\\delta} {\\varepsilon}^{2} {\\mu_I} {\\varphi_1}^{2} \\cos\\left({\\alpha}\\right)^{2} + 4 \\, {\\left(2 \\, {\\mathcal A_\\mu} \\cos\\left({\\alpha}\\right)^{2} - {\\mathcal A_\\mu}\\right)} {\\delta} {\\varepsilon}^{2} {\\mu_I} {\\varphi_2}^{2} + 4 \\, {\\left({\\mathcal A_\\mu} \\cos\\left({\\alpha}\\right)^{2} - {\\mathcal A_\\mu}\\right)} {\\delta} {\\varepsilon}^{2} {\\mu_I} {\\varphi_3}^{2} + 8 \\, {\\mathcal A_\\mu} {\\delta} {\\varepsilon} {\\mu_I} {\\varphi_2} \\cos\\left({\\alpha}\\right) \\sin\\left({\\alpha}\\right) - 4 \\, {\\left({\\mathcal A_\\mu} \\cos\\left({\\alpha}\\right)^{2} - {\\mathcal A_\\mu}\\right)} {\\delta} {\\mu_I} + {\\left({\\left(2 \\, {\\mathcal A_\\mu} \\cos\\left({\\alpha}\\right)^{2} + {\\mathcal A_\\mu} \\cos\\left({\\alpha}\\right) - {\\mathcal A_\\mu}\\right)} {\\delta} {\\varepsilon}^{2} {\\mu_I} + 2 \\, {\\left({\\mathcal A_\\mu} \\cos\\left({\\alpha}\\right) + {\\mathcal A_\\mu}\\right)} {\\delta} {\\varepsilon}^{2} {\\mu_S}\\right)} {\\varphi_4}^{2} + {\\left({\\left(2 \\, {\\mathcal A_\\mu} \\cos\\left({\\alpha}\\right)^{2} + {\\mathcal A_\\mu} \\cos\\left({\\alpha}\\right) - {\\mathcal A_\\mu}\\right)} {\\delta} {\\varepsilon}^{2} {\\mu_I} + 2 \\, {\\left({\\mathcal A_\\mu} \\cos\\left({\\alpha}\\right) + {\\mathcal A_\\mu}\\right)} {\\delta} {\\varepsilon}^{2} {\\mu_S}\\right)} {\\varphi_5}^{2} + {\\left({\\left(2 \\, {\\mathcal A_\\mu} \\cos\\left({\\alpha}\\right)^{2} - {\\mathcal A_\\mu} \\cos\\left({\\alpha}\\right) - {\\mathcal A_\\mu}\\right)} {\\delta} {\\varepsilon}^{2} {\\mu_I} - 2 \\, {\\left({\\mathcal A_\\mu} \\cos\\left({\\alpha}\\right) - {\\mathcal A_\\mu}\\right)} {\\delta} {\\varepsilon}^{2} {\\mu_S}\\right)} {\\varphi_6}^{2} + {\\left({\\left(2 \\, {\\mathcal A_\\mu} \\cos\\left({\\alpha}\\right)^{2} - {\\mathcal A_\\mu} \\cos\\left({\\alpha}\\right) - {\\mathcal A_\\mu}\\right)} {\\delta} {\\varepsilon}^{2} {\\mu_I} - 2 \\, {\\left({\\mathcal A_\\mu} \\cos\\left({\\alpha}\\right) - {\\mathcal A_\\mu}\\right)} {\\delta} {\\varepsilon}^{2} {\\mu_S}\\right)} {\\varphi_7}^{2}\\right)} {e}</script></html>"
      ],
      "text/latex": [
       "$$\\newcommand{\\Bold}[1]{\\mathbf{#1}}\\frac{1}{2} \\, {\\delta}^{2} {\\varepsilon}^{2} {\\mu_I}^{2} {\\varphi_1}^{2} \\cos\\left({\\alpha}\\right)^{2} + \\frac{1}{2} \\, {\\left(2 \\, \\cos\\left({\\alpha}\\right)^{2} - 1\\right)} {\\delta}^{2} {\\varepsilon}^{2} {\\mu_I}^{2} {\\varphi_2}^{2} + \\frac{1}{2} \\, {\\left(\\cos\\left({\\alpha}\\right)^{2} - 1\\right)} {\\delta}^{2} {\\varepsilon}^{2} {\\mu_I}^{2} {\\varphi_3}^{2} + {\\delta}^{2} {\\varepsilon} {\\mu_I}^{2} {\\varphi_2} \\cos\\left({\\alpha}\\right) \\sin\\left({\\alpha}\\right) - \\frac{1}{2} \\, {\\left(\\cos\\left({\\alpha}\\right)^{2} - 1\\right)} {\\delta}^{2} {\\mu_I}^{2} + \\frac{1}{8} \\, {\\left({\\left(2 \\, \\cos\\left({\\alpha}\\right)^{2} - 1\\right)} {\\delta}^{2} {\\varepsilon}^{2} {\\mu_I}^{2} + 4 \\, {\\delta}^{2} {\\varepsilon}^{2} {\\mu_I} {\\mu_S} \\cos\\left({\\alpha}\\right) + 4 \\, {\\delta}^{2} {\\varepsilon}^{2} {\\mu_S}^{2}\\right)} {\\varphi_4}^{2} + \\frac{1}{8} \\, {\\left({\\left(2 \\, \\cos\\left({\\alpha}\\right)^{2} - 1\\right)} {\\delta}^{2} {\\varepsilon}^{2} {\\mu_I}^{2} + 4 \\, {\\delta}^{2} {\\varepsilon}^{2} {\\mu_I} {\\mu_S} \\cos\\left({\\alpha}\\right) + 4 \\, {\\delta}^{2} {\\varepsilon}^{2} {\\mu_S}^{2}\\right)} {\\varphi_5}^{2} + \\frac{1}{8} \\, {\\left({\\left(2 \\, \\cos\\left({\\alpha}\\right)^{2} - 1\\right)} {\\delta}^{2} {\\varepsilon}^{2} {\\mu_I}^{2} - 4 \\, {\\delta}^{2} {\\varepsilon}^{2} {\\mu_I} {\\mu_S} \\cos\\left({\\alpha}\\right) + 4 \\, {\\delta}^{2} {\\varepsilon}^{2} {\\mu_S}^{2}\\right)} {\\varphi_6}^{2} + \\frac{1}{8} \\, {\\left({\\left(2 \\, \\cos\\left({\\alpha}\\right)^{2} - 1\\right)} {\\delta}^{2} {\\varepsilon}^{2} {\\mu_I}^{2} - 4 \\, {\\delta}^{2} {\\varepsilon}^{2} {\\mu_I} {\\mu_S} \\cos\\left({\\alpha}\\right) + 4 \\, {\\delta}^{2} {\\varepsilon}^{2} {\\mu_S}^{2}\\right)} {\\varphi_7}^{2} + \\frac{1}{4} \\, {\\left(2 \\, {\\mathcal A_\\mu}^{2} {\\varepsilon}^{2} {\\varphi_1}^{2} \\cos\\left({\\alpha}\\right)^{2} + 4 \\, {\\mathcal A_\\mu}^{2} {\\varepsilon} {\\varphi_2} \\cos\\left({\\alpha}\\right) \\sin\\left({\\alpha}\\right) + 2 \\, {\\left(2 \\, {\\mathcal A_\\mu}^{2} \\cos\\left({\\alpha}\\right)^{2} - {\\mathcal A_\\mu}^{2}\\right)} {\\varepsilon}^{2} {\\varphi_2}^{2} + 2 \\, {\\left({\\mathcal A_\\mu}^{2} \\cos\\left({\\alpha}\\right)^{2} - {\\mathcal A_\\mu}^{2}\\right)} {\\varepsilon}^{2} {\\varphi_3}^{2} + {\\left({\\mathcal A_\\mu}^{2} \\cos\\left({\\alpha}\\right)^{2} + {\\mathcal A_\\mu}^{2} \\cos\\left({\\alpha}\\right)\\right)} {\\varepsilon}^{2} {\\varphi_4}^{2} + {\\left({\\mathcal A_\\mu}^{2} \\cos\\left({\\alpha}\\right)^{2} + {\\mathcal A_\\mu}^{2} \\cos\\left({\\alpha}\\right)\\right)} {\\varepsilon}^{2} {\\varphi_5}^{2} + {\\left({\\mathcal A_\\mu}^{2} \\cos\\left({\\alpha}\\right)^{2} - {\\mathcal A_\\mu}^{2} \\cos\\left({\\alpha}\\right)\\right)} {\\varepsilon}^{2} {\\varphi_6}^{2} + {\\left({\\mathcal A_\\mu}^{2} \\cos\\left({\\alpha}\\right)^{2} - {\\mathcal A_\\mu}^{2} \\cos\\left({\\alpha}\\right)\\right)} {\\varepsilon}^{2} {\\varphi_7}^{2} - 2 \\, {\\mathcal A_\\mu}^{2} \\cos\\left({\\alpha}\\right)^{2} + 2 \\, {\\mathcal A_\\mu}^{2}\\right)} {e}^{2} + \\frac{1}{4} \\, {\\left(4 \\, {\\mathcal A_\\mu} {\\delta} {\\varepsilon}^{2} {\\mu_I} {\\varphi_1}^{2} \\cos\\left({\\alpha}\\right)^{2} + 4 \\, {\\left(2 \\, {\\mathcal A_\\mu} \\cos\\left({\\alpha}\\right)^{2} - {\\mathcal A_\\mu}\\right)} {\\delta} {\\varepsilon}^{2} {\\mu_I} {\\varphi_2}^{2} + 4 \\, {\\left({\\mathcal A_\\mu} \\cos\\left({\\alpha}\\right)^{2} - {\\mathcal A_\\mu}\\right)} {\\delta} {\\varepsilon}^{2} {\\mu_I} {\\varphi_3}^{2} + 8 \\, {\\mathcal A_\\mu} {\\delta} {\\varepsilon} {\\mu_I} {\\varphi_2} \\cos\\left({\\alpha}\\right) \\sin\\left({\\alpha}\\right) - 4 \\, {\\left({\\mathcal A_\\mu} \\cos\\left({\\alpha}\\right)^{2} - {\\mathcal A_\\mu}\\right)} {\\delta} {\\mu_I} + {\\left({\\left(2 \\, {\\mathcal A_\\mu} \\cos\\left({\\alpha}\\right)^{2} + {\\mathcal A_\\mu} \\cos\\left({\\alpha}\\right) - {\\mathcal A_\\mu}\\right)} {\\delta} {\\varepsilon}^{2} {\\mu_I} + 2 \\, {\\left({\\mathcal A_\\mu} \\cos\\left({\\alpha}\\right) + {\\mathcal A_\\mu}\\right)} {\\delta} {\\varepsilon}^{2} {\\mu_S}\\right)} {\\varphi_4}^{2} + {\\left({\\left(2 \\, {\\mathcal A_\\mu} \\cos\\left({\\alpha}\\right)^{2} + {\\mathcal A_\\mu} \\cos\\left({\\alpha}\\right) - {\\mathcal A_\\mu}\\right)} {\\delta} {\\varepsilon}^{2} {\\mu_I} + 2 \\, {\\left({\\mathcal A_\\mu} \\cos\\left({\\alpha}\\right) + {\\mathcal A_\\mu}\\right)} {\\delta} {\\varepsilon}^{2} {\\mu_S}\\right)} {\\varphi_5}^{2} + {\\left({\\left(2 \\, {\\mathcal A_\\mu} \\cos\\left({\\alpha}\\right)^{2} - {\\mathcal A_\\mu} \\cos\\left({\\alpha}\\right) - {\\mathcal A_\\mu}\\right)} {\\delta} {\\varepsilon}^{2} {\\mu_I} - 2 \\, {\\left({\\mathcal A_\\mu} \\cos\\left({\\alpha}\\right) - {\\mathcal A_\\mu}\\right)} {\\delta} {\\varepsilon}^{2} {\\mu_S}\\right)} {\\varphi_6}^{2} + {\\left({\\left(2 \\, {\\mathcal A_\\mu} \\cos\\left({\\alpha}\\right)^{2} - {\\mathcal A_\\mu} \\cos\\left({\\alpha}\\right) - {\\mathcal A_\\mu}\\right)} {\\delta} {\\varepsilon}^{2} {\\mu_I} - 2 \\, {\\left({\\mathcal A_\\mu} \\cos\\left({\\alpha}\\right) - {\\mathcal A_\\mu}\\right)} {\\delta} {\\varepsilon}^{2} {\\mu_S}\\right)} {\\varphi_7}^{2}\\right)} {e}$$"
      ],
      "text/plain": [
       "1/2*d^2*e^2*muI^2*phi1^2*cos(a)^2 + 1/2*(2*cos(a)^2 - 1)*d^2*e^2*muI^2*phi2^2 + 1/2*(cos(a)^2 - 1)*d^2*e^2*muI^2*phi3^2 + d^2*e*muI^2*phi2*cos(a)*sin(a) - 1/2*(cos(a)^2 - 1)*d^2*muI^2 + 1/8*((2*cos(a)^2 - 1)*d^2*e^2*muI^2 + 4*d^2*e^2*muI*muS*cos(a) + 4*d^2*e^2*muS^2)*phi4^2 + 1/8*((2*cos(a)^2 - 1)*d^2*e^2*muI^2 + 4*d^2*e^2*muI*muS*cos(a) + 4*d^2*e^2*muS^2)*phi5^2 + 1/8*((2*cos(a)^2 - 1)*d^2*e^2*muI^2 - 4*d^2*e^2*muI*muS*cos(a) + 4*d^2*e^2*muS^2)*phi6^2 + 1/8*((2*cos(a)^2 - 1)*d^2*e^2*muI^2 - 4*d^2*e^2*muI*muS*cos(a) + 4*d^2*e^2*muS^2)*phi7^2 + 1/4*(2*A_mu^2*e^2*phi1^2*cos(a)^2 + 4*A_mu^2*e*phi2*cos(a)*sin(a) + 2*(2*A_mu^2*cos(a)^2 - A_mu^2)*e^2*phi2^2 + 2*(A_mu^2*cos(a)^2 - A_mu^2)*e^2*phi3^2 + (A_mu^2*cos(a)^2 + A_mu^2*cos(a))*e^2*phi4^2 + (A_mu^2*cos(a)^2 + A_mu^2*cos(a))*e^2*phi5^2 + (A_mu^2*cos(a)^2 - A_mu^2*cos(a))*e^2*phi6^2 + (A_mu^2*cos(a)^2 - A_mu^2*cos(a))*e^2*phi7^2 - 2*A_mu^2*cos(a)^2 + 2*A_mu^2)*qe^2 + 1/4*(4*A_mu*d*e^2*muI*phi1^2*cos(a)^2 + 4*(2*A_mu*cos(a)^2 - A_mu)*d*e^2*muI*phi2^2 + 4*(A_mu*cos(a)^2 - A_mu)*d*e^2*muI*phi3^2 + 8*A_mu*d*e*muI*phi2*cos(a)*sin(a) - 4*(A_mu*cos(a)^2 - A_mu)*d*muI + ((2*A_mu*cos(a)^2 + A_mu*cos(a) - A_mu)*d*e^2*muI + 2*(A_mu*cos(a) + A_mu)*d*e^2*muS)*phi4^2 + ((2*A_mu*cos(a)^2 + A_mu*cos(a) - A_mu)*d*e^2*muI + 2*(A_mu*cos(a) + A_mu)*d*e^2*muS)*phi5^2 + ((2*A_mu*cos(a)^2 - A_mu*cos(a) - A_mu)*d*e^2*muI - 2*(A_mu*cos(a) - A_mu)*d*e^2*muS)*phi6^2 + ((2*A_mu*cos(a)^2 - A_mu*cos(a) - A_mu)*d*e^2*muI - 2*(A_mu*cos(a) - A_mu)*d*e^2*muS)*phi7^2)*qe"
      ]
     },
     "execution_count": 28,
     "metadata": {},
     "output_type": "execute_result"
    }
   ],
   "source": [
    "term3"
   ]
  },
  {
   "cell_type": "code",
   "execution_count": 29,
   "id": "523c1bfc",
   "metadata": {},
   "outputs": [
    {
     "data": {
      "text/html": [
       "<html><script type=\"math/tex; mode=display\">\\newcommand{\\Bold}[1]{\\mathbf{#1}}-\\frac{1}{36} \\, \\sqrt{3} {\\left(6 \\, \\sqrt{3} {\\varepsilon}^{2} {\\bar m}^{2} {\\varphi_1}^{2} \\cos\\left({\\alpha}\\right) + 6 \\, \\sqrt{3} {\\varepsilon}^{2} {\\bar m}^{2} {\\varphi_2}^{2} \\cos\\left({\\alpha}\\right) + 6 \\, \\sqrt{3} {\\varepsilon}^{2} {\\bar m}^{2} {\\varphi_3}^{2} \\cos\\left({\\alpha}\\right) - 12 \\, {\\Delta m}^{2} {\\varepsilon}^{2} {\\varphi_3} {\\varphi_8} + 12 \\, \\sqrt{3} {\\varepsilon} {\\bar m}^{2} {\\varphi_2} \\sin\\left({\\alpha}\\right) - 12 \\, \\sqrt{3} {\\bar m}^{2} \\cos\\left({\\alpha}\\right) + 3 \\, {\\left(\\sqrt{3} {\\varepsilon}^{2} {\\bar m}^{2} \\cos\\left({\\alpha}\\right) - \\sqrt{3} {\\Delta m}^{2} {\\varepsilon}^{2} + \\sqrt{3} {\\varepsilon}^{2} {m_S}^{2}\\right)} {\\varphi_4}^{2} + 3 \\, {\\left(\\sqrt{3} {\\varepsilon}^{2} {\\bar m}^{2} \\cos\\left({\\alpha}\\right) - \\sqrt{3} {\\Delta m}^{2} {\\varepsilon}^{2} + \\sqrt{3} {\\varepsilon}^{2} {m_S}^{2}\\right)} {\\varphi_5}^{2} + 3 \\, {\\left(\\sqrt{3} {\\varepsilon}^{2} {\\bar m}^{2} \\cos\\left({\\alpha}\\right) + \\sqrt{3} {\\Delta m}^{2} {\\varepsilon}^{2} + \\sqrt{3} {\\varepsilon}^{2} {m_S}^{2}\\right)} {\\varphi_6}^{2} + 3 \\, {\\left(\\sqrt{3} {\\varepsilon}^{2} {\\bar m}^{2} \\cos\\left({\\alpha}\\right) + \\sqrt{3} {\\Delta m}^{2} {\\varepsilon}^{2} + \\sqrt{3} {\\varepsilon}^{2} {m_S}^{2}\\right)} {\\varphi_7}^{2} + 2 \\, {\\left(\\sqrt{3} {\\varepsilon}^{2} {\\bar m}^{2} \\cos\\left({\\alpha}\\right) + 2 \\, \\sqrt{3} {\\varepsilon}^{2} {m_S}^{2}\\right)} {\\varphi_8}^{2} - 6 \\, \\sqrt{3} {m_S}^{2}\\right)}</script></html>"
      ],
      "text/latex": [
       "$$\\newcommand{\\Bold}[1]{\\mathbf{#1}}-\\frac{1}{36} \\, \\sqrt{3} {\\left(6 \\, \\sqrt{3} {\\varepsilon}^{2} {\\bar m}^{2} {\\varphi_1}^{2} \\cos\\left({\\alpha}\\right) + 6 \\, \\sqrt{3} {\\varepsilon}^{2} {\\bar m}^{2} {\\varphi_2}^{2} \\cos\\left({\\alpha}\\right) + 6 \\, \\sqrt{3} {\\varepsilon}^{2} {\\bar m}^{2} {\\varphi_3}^{2} \\cos\\left({\\alpha}\\right) - 12 \\, {\\Delta m}^{2} {\\varepsilon}^{2} {\\varphi_3} {\\varphi_8} + 12 \\, \\sqrt{3} {\\varepsilon} {\\bar m}^{2} {\\varphi_2} \\sin\\left({\\alpha}\\right) - 12 \\, \\sqrt{3} {\\bar m}^{2} \\cos\\left({\\alpha}\\right) + 3 \\, {\\left(\\sqrt{3} {\\varepsilon}^{2} {\\bar m}^{2} \\cos\\left({\\alpha}\\right) - \\sqrt{3} {\\Delta m}^{2} {\\varepsilon}^{2} + \\sqrt{3} {\\varepsilon}^{2} {m_S}^{2}\\right)} {\\varphi_4}^{2} + 3 \\, {\\left(\\sqrt{3} {\\varepsilon}^{2} {\\bar m}^{2} \\cos\\left({\\alpha}\\right) - \\sqrt{3} {\\Delta m}^{2} {\\varepsilon}^{2} + \\sqrt{3} {\\varepsilon}^{2} {m_S}^{2}\\right)} {\\varphi_5}^{2} + 3 \\, {\\left(\\sqrt{3} {\\varepsilon}^{2} {\\bar m}^{2} \\cos\\left({\\alpha}\\right) + \\sqrt{3} {\\Delta m}^{2} {\\varepsilon}^{2} + \\sqrt{3} {\\varepsilon}^{2} {m_S}^{2}\\right)} {\\varphi_6}^{2} + 3 \\, {\\left(\\sqrt{3} {\\varepsilon}^{2} {\\bar m}^{2} \\cos\\left({\\alpha}\\right) + \\sqrt{3} {\\Delta m}^{2} {\\varepsilon}^{2} + \\sqrt{3} {\\varepsilon}^{2} {m_S}^{2}\\right)} {\\varphi_7}^{2} + 2 \\, {\\left(\\sqrt{3} {\\varepsilon}^{2} {\\bar m}^{2} \\cos\\left({\\alpha}\\right) + 2 \\, \\sqrt{3} {\\varepsilon}^{2} {m_S}^{2}\\right)} {\\varphi_8}^{2} - 6 \\, \\sqrt{3} {m_S}^{2}\\right)}$$"
      ],
      "text/plain": [
       "-1/36*sqrt(3)*(6*sqrt(3)*e^2*mbar^2*phi1^2*cos(a) + 6*sqrt(3)*e^2*mbar^2*phi2^2*cos(a) + 6*sqrt(3)*e^2*mbar^2*phi3^2*cos(a) - 12*dm^2*e^2*phi3*phi8 + 12*sqrt(3)*e*mbar^2*phi2*sin(a) - 12*sqrt(3)*mbar^2*cos(a) + 3*(sqrt(3)*e^2*mbar^2*cos(a) - sqrt(3)*dm^2*e^2 + sqrt(3)*e^2*mS^2)*phi4^2 + 3*(sqrt(3)*e^2*mbar^2*cos(a) - sqrt(3)*dm^2*e^2 + sqrt(3)*e^2*mS^2)*phi5^2 + 3*(sqrt(3)*e^2*mbar^2*cos(a) + sqrt(3)*dm^2*e^2 + sqrt(3)*e^2*mS^2)*phi6^2 + 3*(sqrt(3)*e^2*mbar^2*cos(a) + sqrt(3)*dm^2*e^2 + sqrt(3)*e^2*mS^2)*phi7^2 + 2*(sqrt(3)*e^2*mbar^2*cos(a) + 2*sqrt(3)*e^2*mS^2)*phi8^2 - 6*sqrt(3)*mS^2)"
      ]
     },
     "execution_count": 29,
     "metadata": {},
     "output_type": "execute_result"
    }
   ],
   "source": [
    "mass_term"
   ]
  },
  {
   "cell_type": "code",
   "execution_count": 30,
   "id": "6d944828",
   "metadata": {},
   "outputs": [
    {
     "data": {
      "text/html": [
       "<html><script type=\"math/tex; mode=display\">\\newcommand{\\Bold}[1]{\\mathbf{#1}}-\\frac{1}{2} \\, {\\left(2 \\, C {\\varphi_1}^{2} \\cos\\left({\\alpha}\\right)^{2} + 2 \\, {\\left(2 \\, C \\cos\\left({\\alpha}\\right)^{2} - C\\right)} {\\varphi_2}^{2} + 2 \\, {\\left(C \\cos\\left({\\alpha}\\right)^{2} - C\\right)} {\\varphi_3}^{2} + {\\left(C \\cos\\left({\\alpha}\\right)^{2} + C \\cos\\left({\\alpha}\\right)\\right)} {\\varphi_4}^{2} + {\\left(C \\cos\\left({\\alpha}\\right)^{2} + C \\cos\\left({\\alpha}\\right)\\right)} {\\varphi_5}^{2} + {\\left(C \\cos\\left({\\alpha}\\right)^{2} - C \\cos\\left({\\alpha}\\right)\\right)} {\\varphi_6}^{2} + {\\left(C \\cos\\left({\\alpha}\\right)^{2} - C \\cos\\left({\\alpha}\\right)\\right)} {\\varphi_7}^{2}\\right)} {e}^{2}</script></html>"
      ],
      "text/latex": [
       "$$\\newcommand{\\Bold}[1]{\\mathbf{#1}}-\\frac{1}{2} \\, {\\left(2 \\, C {\\varphi_1}^{2} \\cos\\left({\\alpha}\\right)^{2} + 2 \\, {\\left(2 \\, C \\cos\\left({\\alpha}\\right)^{2} - C\\right)} {\\varphi_2}^{2} + 2 \\, {\\left(C \\cos\\left({\\alpha}\\right)^{2} - C\\right)} {\\varphi_3}^{2} + {\\left(C \\cos\\left({\\alpha}\\right)^{2} + C \\cos\\left({\\alpha}\\right)\\right)} {\\varphi_4}^{2} + {\\left(C \\cos\\left({\\alpha}\\right)^{2} + C \\cos\\left({\\alpha}\\right)\\right)} {\\varphi_5}^{2} + {\\left(C \\cos\\left({\\alpha}\\right)^{2} - C \\cos\\left({\\alpha}\\right)\\right)} {\\varphi_6}^{2} + {\\left(C \\cos\\left({\\alpha}\\right)^{2} - C \\cos\\left({\\alpha}\\right)\\right)} {\\varphi_7}^{2}\\right)} {e}^{2}$$"
      ],
      "text/plain": [
       "-1/2*(2*C*phi1^2*cos(a)^2 + 2*(2*C*cos(a)^2 - C)*phi2^2 + 2*(C*cos(a)^2 - C)*phi3^2 + (C*cos(a)^2 + C*cos(a))*phi4^2 + (C*cos(a)^2 + C*cos(a))*phi5^2 + (C*cos(a)^2 - C*cos(a))*phi6^2 + (C*cos(a)^2 - C*cos(a))*phi7^2)*qe^2"
      ]
     },
     "execution_count": 30,
     "metadata": {},
     "output_type": "execute_result"
    }
   ],
   "source": [
    "em_term.expand().coefficient(e**2).full_simplify()"
   ]
  },
  {
   "cell_type": "code",
   "execution_count": 31,
   "id": "c26f459c",
   "metadata": {},
   "outputs": [
    {
     "data": {
      "text/html": [
       "<html><script type=\"math/tex; mode=display\">\\newcommand{\\Bold}[1]{\\mathbf{#1}}\\left[C {e}^{2} \\cos\\left({\\alpha}\\right)^{2} - \\frac{1}{3} \\, C {e}^{2}, 0\\right]</script></html>"
      ],
      "text/latex": [
       "$$\\newcommand{\\Bold}[1]{\\mathbf{#1}}\\left[C {e}^{2} \\cos\\left({\\alpha}\\right)^{2} - \\frac{1}{3} \\, C {e}^{2}, 0\\right]$$"
      ],
      "text/plain": [
       "[C*qe^2*cos(a)^2 - 1/3*C*qe^2, 0]"
      ]
     },
     "execution_count": 31,
     "metadata": {},
     "output_type": "execute_result"
    }
   ],
   "source": [
    "em_term.expand().coefficients(e)[0]"
   ]
  },
  {
   "cell_type": "code",
   "execution_count": 32,
   "id": "0746fa5b",
   "metadata": {},
   "outputs": [
    {
     "data": {
      "text/html": [
       "<html><script type=\"math/tex; mode=display\">\\newcommand{\\Bold}[1]{\\mathbf{#1}}\\frac{1}{2} \\, {\\delta}^{2} {\\mu_I}^{2} \\sin\\left({\\alpha}\\right)^{2} - \\frac{1}{3} \\, {\\left(3 \\, C \\sin\\left({\\alpha}\\right)^{2} - 2 \\, C\\right)} {e}^{2}</script></html>"
      ],
      "text/latex": [
       "$$\\newcommand{\\Bold}[1]{\\mathbf{#1}}\\frac{1}{2} \\, {\\delta}^{2} {\\mu_I}^{2} \\sin\\left({\\alpha}\\right)^{2} - \\frac{1}{3} \\, {\\left(3 \\, C \\sin\\left({\\alpha}\\right)^{2} - 2 \\, C\\right)} {e}^{2}$$"
      ],
      "text/plain": [
       "1/2*d^2*muI^2*sin(a)^2 - 1/3*(3*C*sin(a)^2 - 2*C)*qe^2"
      ]
     },
     "execution_count": 32,
     "metadata": {},
     "output_type": "execute_result"
    }
   ],
   "source": [
    "(sum([term1, term2, term3, em_term])).coefficients(e)[0][0].subs(A_mu==0).full_simplify()"
   ]
  },
  {
   "cell_type": "code",
   "execution_count": null,
   "id": "c14a6b01",
   "metadata": {},
   "outputs": [],
   "source": []
  }
 ],
 "metadata": {
  "kernelspec": {
   "display_name": "SageMath 9.5",
   "language": "sage",
   "name": "sagemath"
  },
  "language_info": {
   "codemirror_mode": {
    "name": "ipython",
    "version": 3
   },
   "file_extension": ".py",
   "mimetype": "text/x-python",
   "name": "python",
   "nbconvert_exporter": "python",
   "pygments_lexer": "ipython3",
   "version": "3.10.12"
  }
 },
 "nbformat": 4,
 "nbformat_minor": 5
}
