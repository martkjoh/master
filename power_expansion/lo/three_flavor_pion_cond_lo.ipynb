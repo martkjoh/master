{
 "cells": [
  {
   "cell_type": "code",
   "execution_count": 1,
   "id": "b35e7d13",
   "metadata": {},
   "outputs": [
    {
     "ename": "OSError",
     "evalue": "did not find file 'three_flavor.sage' to load or attach",
     "output_type": "error",
     "traceback": [
      "\u001b[0;31m---------------------------------------------------------------------------\u001b[0m",
      "\u001b[0;31mOSError\u001b[0m                                   Traceback (most recent call last)",
      "\u001b[0;32m/tmp/ipykernel_171692/826563649.py\u001b[0m in \u001b[0;36m<module>\u001b[0;34m\u001b[0m\n\u001b[1;32m      1\u001b[0m \u001b[0mget_ipython\u001b[0m\u001b[0;34m(\u001b[0m\u001b[0;34m)\u001b[0m\u001b[0;34m.\u001b[0m\u001b[0mrun_line_magic\u001b[0m\u001b[0;34m(\u001b[0m\u001b[0;34m'display'\u001b[0m\u001b[0;34m,\u001b[0m \u001b[0;34m'latex'\u001b[0m\u001b[0;34m)\u001b[0m\u001b[0;34m\u001b[0m\u001b[0;34m\u001b[0m\u001b[0m\n\u001b[0;32m----> 2\u001b[0;31m \u001b[0mload\u001b[0m\u001b[0;34m(\u001b[0m\u001b[0;34m\"three_flavor.sage\"\u001b[0m\u001b[0;34m)\u001b[0m\u001b[0;34m\u001b[0m\u001b[0;34m\u001b[0m\u001b[0m\n\u001b[0m",
      "\u001b[0;32m/usr/lib/python3/dist-packages/sage/misc/persist.pyx\u001b[0m in \u001b[0;36msage.misc.persist.load (build/cythonized/sage/misc/persist.c:2538)\u001b[0;34m()\u001b[0m\n\u001b[1;32m    142\u001b[0m \u001b[0;34m\u001b[0m\u001b[0m\n\u001b[1;32m    143\u001b[0m     \u001b[0;32mif\u001b[0m \u001b[0msage\u001b[0m\u001b[0;34m.\u001b[0m\u001b[0mrepl\u001b[0m\u001b[0;34m.\u001b[0m\u001b[0mload\u001b[0m\u001b[0;34m.\u001b[0m\u001b[0mis_loadable_filename\u001b[0m\u001b[0;34m(\u001b[0m\u001b[0mfilename\u001b[0m\u001b[0;34m)\u001b[0m\u001b[0;34m:\u001b[0m\u001b[0;34m\u001b[0m\u001b[0;34m\u001b[0m\u001b[0m\n\u001b[0;32m--> 144\u001b[0;31m         \u001b[0msage\u001b[0m\u001b[0;34m.\u001b[0m\u001b[0mrepl\u001b[0m\u001b[0;34m.\u001b[0m\u001b[0mload\u001b[0m\u001b[0;34m.\u001b[0m\u001b[0mload\u001b[0m\u001b[0;34m(\u001b[0m\u001b[0mfilename\u001b[0m\u001b[0;34m,\u001b[0m \u001b[0mglobals\u001b[0m\u001b[0;34m(\u001b[0m\u001b[0;34m)\u001b[0m\u001b[0;34m)\u001b[0m\u001b[0;34m\u001b[0m\u001b[0;34m\u001b[0m\u001b[0m\n\u001b[0m\u001b[1;32m    145\u001b[0m         \u001b[0;32mreturn\u001b[0m\u001b[0;34m\u001b[0m\u001b[0;34m\u001b[0m\u001b[0m\n\u001b[1;32m    146\u001b[0m \u001b[0;34m\u001b[0m\u001b[0m\n",
      "\u001b[0;32m/usr/lib/python3/dist-packages/sage/repl/load.py\u001b[0m in \u001b[0;36mload\u001b[0;34m(filename, globals, attach)\u001b[0m\n\u001b[1;32m    242\u001b[0m             \u001b[0;32mbreak\u001b[0m\u001b[0;34m\u001b[0m\u001b[0;34m\u001b[0m\u001b[0m\n\u001b[1;32m    243\u001b[0m     \u001b[0;32melse\u001b[0m\u001b[0;34m:\u001b[0m\u001b[0;34m\u001b[0m\u001b[0;34m\u001b[0m\u001b[0m\n\u001b[0;32m--> 244\u001b[0;31m         \u001b[0;32mraise\u001b[0m \u001b[0mIOError\u001b[0m\u001b[0;34m(\u001b[0m\u001b[0;34m'did not find file %r to load or attach'\u001b[0m \u001b[0;34m%\u001b[0m \u001b[0mfilename\u001b[0m\u001b[0;34m)\u001b[0m\u001b[0;34m\u001b[0m\u001b[0;34m\u001b[0m\u001b[0m\n\u001b[0m\u001b[1;32m    245\u001b[0m \u001b[0;34m\u001b[0m\u001b[0m\n\u001b[1;32m    246\u001b[0m     \u001b[0mext\u001b[0m \u001b[0;34m=\u001b[0m \u001b[0mos\u001b[0m\u001b[0;34m.\u001b[0m\u001b[0mpath\u001b[0m\u001b[0;34m.\u001b[0m\u001b[0msplitext\u001b[0m\u001b[0;34m(\u001b[0m\u001b[0mfpath\u001b[0m\u001b[0;34m)\u001b[0m\u001b[0;34m[\u001b[0m\u001b[0;36m1\u001b[0m\u001b[0;34m]\u001b[0m\u001b[0;34m.\u001b[0m\u001b[0mlower\u001b[0m\u001b[0;34m(\u001b[0m\u001b[0;34m)\u001b[0m\u001b[0;34m\u001b[0m\u001b[0;34m\u001b[0m\u001b[0m\n",
      "\u001b[0;31mOSError\u001b[0m: did not find file 'three_flavor.sage' to load or attach"
     ]
    }
   ],
   "source": [
    "%display latex\n",
    "load(\"three_flavor.sage\")"
   ]
  },
  {
   "cell_type": "code",
   "execution_count": null,
   "id": "ddcb84e6",
   "metadata": {},
   "outputs": [],
   "source": [
    "n = 2\n",
    "v = v_mu\n",
    "\n",
    "S, Sd, dS, dSd = get_S(n, l2)"
   ]
  },
  {
   "cell_type": "code",
   "execution_count": null,
   "id": "0e321b7f",
   "metadata": {},
   "outputs": [],
   "source": [
    "COM = v*S - S*v # [v_mu, Sigma]\n",
    "COMd = Sd*v - v*Sd"
   ]
  },
  {
   "cell_type": "code",
   "execution_count": null,
   "id": "1ec54d71",
   "metadata": {},
   "outputs": [],
   "source": [
    "COM = mat_prep(COM, n)\n",
    "COMd = mat_prep(COMd, n)"
   ]
  },
  {
   "cell_type": "code",
   "execution_count": null,
   "id": "3de1d063",
   "metadata": {},
   "outputs": [],
   "source": [
    "term1 = mat_prep(dS*(dSd), n)"
   ]
  },
  {
   "cell_type": "code",
   "execution_count": null,
   "id": "59b566b4",
   "metadata": {},
   "outputs": [],
   "source": [
    "term2 = -I*mat_prep(dS*(-COMd) + COM*dSd, n)"
   ]
  },
  {
   "cell_type": "code",
   "execution_count": null,
   "id": "1444827a",
   "metadata": {},
   "outputs": [],
   "source": [
    "term3 = mat_prep(COM*COMd, n)"
   ]
  },
  {
   "cell_type": "code",
   "execution_count": null,
   "id": "73d62ad1",
   "metadata": {},
   "outputs": [],
   "source": [
    "term1 = term1.trace().full_simplify().trig_reduce()\n",
    "term2 = term2.trace().full_simplify().trig_reduce()\n",
    "term3 = term3.trace().full_simplify().trig_reduce()\n",
    "mass_term = (chi*Sd + S*chi).trace().trig_reduce().full_simplify()\n",
    "term1, term2, term3, mass_term = (1/4 * term for term in [term1, term2, term3, mass_term])"
   ]
  },
  {
   "cell_type": "code",
   "execution_count": null,
   "id": "241d3e44",
   "metadata": {},
   "outputs": [],
   "source": [
    "L = (term1 + term2 + term3 + mass_term).full_simplify()\n",
    "print_coeff(L)"
   ]
  },
  {
   "cell_type": "code",
   "execution_count": null,
   "id": "631b4cc8",
   "metadata": {},
   "outputs": [],
   "source": [
    "(term1).full_simplify().coefficient(e**2)"
   ]
  },
  {
   "cell_type": "code",
   "execution_count": null,
   "id": "80f6f1ec",
   "metadata": {},
   "outputs": [],
   "source": [
    "(term2).full_simplify().coefficient(e**2)"
   ]
  },
  {
   "cell_type": "code",
   "execution_count": null,
   "id": "8a8d1fb1",
   "metadata": {},
   "outputs": [],
   "source": [
    "(term3).coefficient(e**2).full_simplify()"
   ]
  },
  {
   "cell_type": "code",
   "execution_count": null,
   "id": "ac9b2929",
   "metadata": {},
   "outputs": [],
   "source": [
    "(mass_term).coefficient(e**2)"
   ]
  },
  {
   "cell_type": "code",
   "execution_count": null,
   "id": "c6773cd1",
   "metadata": {},
   "outputs": [],
   "source": [
    "for p in pvar:\n",
    "    pprint(((term3+mass_term)).coefficient(p**2).subs(e==1).subs(d==1).trig_reduce().full_simplify() * p**2)"
   ]
  },
  {
   "cell_type": "code",
   "execution_count": null,
   "id": "15b66ce0",
   "metadata": {},
   "outputs": [],
   "source": [
    "(cos(2*a)).trig_expand()"
   ]
  }
 ],
 "metadata": {
  "kernelspec": {
   "display_name": "SageMath 9.0",
   "language": "sage",
   "name": "sagemath"
  },
  "language_info": {
   "codemirror_mode": {
    "name": "ipython",
    "version": 3
   },
   "file_extension": ".py",
   "mimetype": "text/x-python",
   "name": "python",
   "nbconvert_exporter": "python",
   "pygments_lexer": "ipython3",
   "version": "3.8.10"
  }
 },
 "nbformat": 4,
 "nbformat_minor": 5
}
