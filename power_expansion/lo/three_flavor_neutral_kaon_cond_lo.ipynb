{
 "cells": [
  {
   "cell_type": "code",
   "execution_count": 1,
   "id": "b35e7d13",
   "metadata": {},
   "outputs": [],
   "source": [
    "%display latex\n",
    "load(\"../three_flavor.sage\")"
   ]
  },
  {
   "cell_type": "code",
   "execution_count": 2,
   "id": "ddcb84e6",
   "metadata": {},
   "outputs": [],
   "source": [
    "n = 2\n",
    "v = v_mu\n",
    "S, Sd, dS, dSd = get_S(n, l7)\n",
    "\n",
    "COM = v*S - S*v # [v_mu, Sigma]\n",
    "COMd = Sd*v - v*Sd\n",
    "\n",
    "COM = mat_prep(COM, n)\n",
    "COMd = mat_prep(COMd, n)"
   ]
  },
  {
   "cell_type": "code",
   "execution_count": 3,
   "id": "3de1d063",
   "metadata": {},
   "outputs": [],
   "source": [
    "term1 = mat_prep(dS*(dSd), n)"
   ]
  },
  {
   "cell_type": "code",
   "execution_count": 4,
   "id": "59b566b4",
   "metadata": {},
   "outputs": [],
   "source": [
    "term2 = -I*mat_prep(dS*(-COMd) + COM*dSd, n)"
   ]
  },
  {
   "cell_type": "code",
   "execution_count": 5,
   "id": "1444827a",
   "metadata": {},
   "outputs": [],
   "source": [
    "term3 = mat_prep(COM*COMd, n)"
   ]
  },
  {
   "cell_type": "code",
   "execution_count": 6,
   "id": "73d62ad1",
   "metadata": {},
   "outputs": [],
   "source": [
    "term1 = term1.trace().full_simplify().trig_reduce()\n",
    "term2 = term2.trace().full_simplify().trig_reduce()\n",
    "term3 = term3.trace().full_simplify().trig_reduce()\n",
    "mass_term = (chi*Sd + S*chi).trace().trig_reduce().full_simplify()\n",
    "term1, term2, term3, mass_term = (1/4 * term for term in [term1, term2, term3, mass_term])"
   ]
  },
  {
   "cell_type": "code",
   "execution_count": 7,
   "id": "304c1475",
   "metadata": {},
   "outputs": [],
   "source": [
    "def print_coeff(elem):\n",
    "    coeff = elem.coefficients(e)\n",
    "    for i in range(len(coeff)):\n",
    "        print(e^coeff[i][1], \":\")\n",
    "        pretty_print(coeff[i][0].full_simplify())"
   ]
  },
  {
   "cell_type": "code",
   "execution_count": 16,
   "id": "241d3e44",
   "metadata": {},
   "outputs": [
    {
     "data": {
      "text/html": [
       "<html><script type=\"math/tex; mode=display\">\\newcommand{\\Bold}[1]{\\mathbf{#1}}\\frac{1}{8} \\, {\\delta}^{2} {\\mu_I}^{2} \\sin\\left({\\alpha}\\right)^{2} - \\frac{1}{2} \\, {\\delta}^{2} {\\mu_I} {\\mu_S} \\sin\\left({\\alpha}\\right)^{2} + \\frac{1}{2} \\, {\\delta}^{2} {\\mu_S}^{2} \\sin\\left({\\alpha}\\right)^{2} + \\frac{1}{2} \\, {\\bar m}^{2} {\\left(\\cos\\left({\\alpha}\\right) + 1\\right)} + \\frac{1}{2} \\, {\\Delta m}^{2} {\\left(\\cos\\left({\\alpha}\\right) - 1\\right)} + \\frac{1}{2} \\, {m_S}^{2} \\cos\\left({\\alpha}\\right)</script></html>"
      ],
      "text/latex": [
       "$$\\newcommand{\\Bold}[1]{\\mathbf{#1}}\\frac{1}{8} \\, {\\delta}^{2} {\\mu_I}^{2} \\sin\\left({\\alpha}\\right)^{2} - \\frac{1}{2} \\, {\\delta}^{2} {\\mu_I} {\\mu_S} \\sin\\left({\\alpha}\\right)^{2} + \\frac{1}{2} \\, {\\delta}^{2} {\\mu_S}^{2} \\sin\\left({\\alpha}\\right)^{2} + \\frac{1}{2} \\, {\\bar m}^{2} {\\left(\\cos\\left({\\alpha}\\right) + 1\\right)} + \\frac{1}{2} \\, {\\Delta m}^{2} {\\left(\\cos\\left({\\alpha}\\right) - 1\\right)} + \\frac{1}{2} \\, {m_S}^{2} \\cos\\left({\\alpha}\\right)$$"
      ],
      "text/plain": [
       "1/8*d^2*muI^2*sin(a)^2 - 1/2*d^2*muI*muS*sin(a)^2 + 1/2*d^2*muS^2*sin(a)^2 + 1/2*mbar^2*(cos(a) + 1) + 1/2*dm^2*(cos(a) - 1) + 1/2*mS^2*cos(a)"
      ]
     },
     "metadata": {},
     "output_type": "display_data"
    }
   ],
   "source": [
    "L = (term1 + term2 + term3 + mass_term).full_simplify()\n",
    "pretty_print(L.coefficients(e)[0][0])"
   ]
  },
  {
   "cell_type": "code",
   "execution_count": 23,
   "id": "631b4cc8",
   "metadata": {},
   "outputs": [
    {
     "data": {
      "text/latex": [
       "$$ \\frac{1}{2} \\, {\\partial_\\mu\\varphi_1}^{2} + \\frac{1}{2} \\, {\\partial_\\mu\\varphi_2}^{2} + \\frac{1}{2} \\, {\\partial_\\mu\\varphi_3}^{2} + \\frac{1}{2} \\, {\\partial_\\mu\\varphi_4}^{2} + \\frac{1}{2} \\, {\\partial_\\mu\\varphi_5}^{2} + \\frac{1}{2} \\, {\\partial_\\mu\\varphi_6}^{2} + \\frac{1}{2} \\, {\\partial_\\mu\\varphi_7}^{2} + \\frac{1}{2} \\, {\\partial_\\mu\\varphi_8}^{2} $$"
      ],
      "text/plain": [
       "<IPython.core.display.Latex object>"
      ]
     },
     "metadata": {},
     "output_type": "display_data"
    }
   ],
   "source": [
    "pprint((term1).full_simplify().coefficient(e**2))"
   ]
  },
  {
   "cell_type": "code",
   "execution_count": 21,
   "id": "80f6f1ec",
   "metadata": {},
   "outputs": [
    {
     "data": {
      "text/latex": [
       "$$ \\frac{1}{2} \\, {\\left({\\delta} {\\partial_\\mu\\varphi_2} {\\mu_I} {\\left(\\cos\\left({\\alpha}\\right) + 3\\right)} - 2 \\, {\\delta} {\\partial_\\mu\\varphi_2} {\\mu_S} {\\left(\\cos\\left({\\alpha}\\right) - 1\\right)}\\right)} {\\varphi_1} - \\frac{1}{2} \\, {\\left({\\delta} {\\partial_\\mu\\varphi_1} {\\mu_I} {\\left(\\cos\\left({\\alpha}\\right) + 3\\right)} - 2 \\, {\\delta} {\\partial_\\mu\\varphi_1} {\\mu_S} {\\left(\\cos\\left({\\alpha}\\right) - 1\\right)}\\right)} {\\varphi_2} + \\frac{1}{2} \\, {\\left(2 \\, {\\delta} {\\partial_\\mu\\varphi_5} {\\mu_S} {\\left(\\cos\\left({\\alpha}\\right) + 1\\right)} - {\\delta} {\\partial_\\mu\\varphi_5} {\\mu_I} {\\left(\\cos\\left({\\alpha}\\right) - 3\\right)}\\right)} {\\varphi_4} - \\frac{1}{2} \\, {\\left(2 \\, {\\delta} {\\partial_\\mu\\varphi_4} {\\mu_S} {\\left(\\cos\\left({\\alpha}\\right) + 1\\right)} - {\\delta} {\\partial_\\mu\\varphi_4} {\\mu_I} {\\left(\\cos\\left({\\alpha}\\right) - 3\\right)}\\right)} {\\varphi_5} - {\\left({\\delta} {\\partial_\\mu\\varphi_7} {\\mu_I} \\cos\\left({\\alpha}\\right) - 2 \\, {\\delta} {\\partial_\\mu\\varphi_7} {\\mu_S} \\cos\\left({\\alpha}\\right)\\right)} {\\varphi_6} + {\\left({\\delta} {\\partial_\\mu\\varphi_6} {\\mu_I} \\cos\\left({\\alpha}\\right) - 2 \\, {\\delta} {\\partial_\\mu\\varphi_6} {\\mu_S} \\cos\\left({\\alpha}\\right)\\right)} {\\varphi_7} $$"
      ],
      "text/plain": [
       "<IPython.core.display.Latex object>"
      ]
     },
     "metadata": {},
     "output_type": "display_data"
    }
   ],
   "source": [
    "pprint(2*(term2).full_simplify().coefficient(e**2))"
   ]
  },
  {
   "cell_type": "code",
   "execution_count": 25,
   "id": "3a72249b",
   "metadata": {},
   "outputs": [
    {
     "data": {
      "text/latex": [
       "$$ -\\frac{1}{16} \\, {\\left({\\left(\\sin\\left({\\alpha}\\right)^{2} - 3 \\, \\cos\\left({\\alpha}\\right) - 5\\right)} {\\delta}^{2} {\\mu_I}^{2} - 4 \\, {\\left(\\sin\\left({\\alpha}\\right)^{2} - \\cos\\left({\\alpha}\\right) + 1\\right)} {\\delta}^{2} {\\mu_I} {\\mu_S} + 4 \\, {\\left(\\sin\\left({\\alpha}\\right)^{2} + \\cos\\left({\\alpha}\\right) - 1\\right)} {\\delta}^{2} {\\mu_S}^{2}\\right)} {\\varphi_1}^{2} - \\frac{1}{16} \\, {\\left({\\left(\\sin\\left({\\alpha}\\right)^{2} - 3 \\, \\cos\\left({\\alpha}\\right) - 5\\right)} {\\delta}^{2} {\\mu_I}^{2} - 4 \\, {\\left(\\sin\\left({\\alpha}\\right)^{2} - \\cos\\left({\\alpha}\\right) + 1\\right)} {\\delta}^{2} {\\mu_I} {\\mu_S} + 4 \\, {\\left(\\sin\\left({\\alpha}\\right)^{2} + \\cos\\left({\\alpha}\\right) - 1\\right)} {\\delta}^{2} {\\mu_S}^{2}\\right)} {\\varphi_2}^{2} - \\frac{1}{32} \\, {\\left({\\delta}^{2} {\\mu_I}^{2} \\sin\\left({\\alpha}\\right)^{2} - 4 \\, {\\delta}^{2} {\\mu_I} {\\mu_S} \\sin\\left({\\alpha}\\right)^{2} + 4 \\, {\\delta}^{2} {\\mu_S}^{2} \\sin\\left({\\alpha}\\right)^{2}\\right)} {\\varphi_3}^{2} - \\frac{1}{16} \\, {\\left({\\left(\\sin\\left({\\alpha}\\right)^{2} + 3 \\, \\cos\\left({\\alpha}\\right) - 5\\right)} {\\delta}^{2} {\\mu_I}^{2} - 4 \\, {\\left(\\sin\\left({\\alpha}\\right)^{2} + \\cos\\left({\\alpha}\\right) + 1\\right)} {\\delta}^{2} {\\mu_I} {\\mu_S} + 4 \\, {\\left(\\sin\\left({\\alpha}\\right)^{2} - \\cos\\left({\\alpha}\\right) - 1\\right)} {\\delta}^{2} {\\mu_S}^{2}\\right)} {\\varphi_4}^{2} - \\frac{1}{16} \\, {\\left({\\left(\\sin\\left({\\alpha}\\right)^{2} + 3 \\, \\cos\\left({\\alpha}\\right) - 5\\right)} {\\delta}^{2} {\\mu_I}^{2} - 4 \\, {\\left(\\sin\\left({\\alpha}\\right)^{2} + \\cos\\left({\\alpha}\\right) + 1\\right)} {\\delta}^{2} {\\mu_I} {\\mu_S} + 4 \\, {\\left(\\sin\\left({\\alpha}\\right)^{2} - \\cos\\left({\\alpha}\\right) - 1\\right)} {\\delta}^{2} {\\mu_S}^{2}\\right)} {\\varphi_5}^{2} - \\frac{1}{8} \\, {\\left({\\left(\\sin\\left({\\alpha}\\right)^{2} - 1\\right)} {\\delta}^{2} {\\mu_I}^{2} - 4 \\, {\\left(\\sin\\left({\\alpha}\\right)^{2} - 1\\right)} {\\delta}^{2} {\\mu_I} {\\mu_S} + 4 \\, {\\left(\\sin\\left({\\alpha}\\right)^{2} - 1\\right)} {\\delta}^{2} {\\mu_S}^{2}\\right)} {\\varphi_6}^{2} - \\frac{1}{8} \\, {\\left({\\left(2 \\, \\sin\\left({\\alpha}\\right)^{2} - 1\\right)} {\\delta}^{2} {\\mu_I}^{2} - 4 \\, {\\left(2 \\, \\sin\\left({\\alpha}\\right)^{2} - 1\\right)} {\\delta}^{2} {\\mu_I} {\\mu_S} + 4 \\, {\\left(2 \\, \\sin\\left({\\alpha}\\right)^{2} - 1\\right)} {\\delta}^{2} {\\mu_S}^{2}\\right)} {\\varphi_7}^{2} + \\frac{1}{16} \\, {\\left(\\sqrt{3} {\\delta}^{2} {\\mu_I}^{2} \\sin\\left({\\alpha}\\right)^{2} - 4 \\, \\sqrt{3} {\\delta}^{2} {\\mu_I} {\\mu_S} \\sin\\left({\\alpha}\\right)^{2} + 4 \\, \\sqrt{3} {\\delta}^{2} {\\mu_S}^{2} \\sin\\left({\\alpha}\\right)^{2}\\right)} {\\varphi_3} {\\varphi_8} - \\frac{3}{32} \\, {\\left({\\delta}^{2} {\\mu_I}^{2} \\sin\\left({\\alpha}\\right)^{2} - 4 \\, {\\delta}^{2} {\\mu_I} {\\mu_S} \\sin\\left({\\alpha}\\right)^{2} + 4 \\, {\\delta}^{2} {\\mu_S}^{2} \\sin\\left({\\alpha}\\right)^{2}\\right)} {\\varphi_8}^{2} $$"
      ],
      "text/plain": [
       "<IPython.core.display.Latex object>"
      ]
     },
     "metadata": {},
     "output_type": "display_data"
    }
   ],
   "source": [
    "pprint(term3.full_simplify().coefficient(e**2))"
   ]
  },
  {
   "cell_type": "code",
   "execution_count": 12,
   "id": "0bc664ae",
   "metadata": {},
   "outputs": [
    {
     "data": {
      "text/html": [
       "<html><script type=\"math/tex; mode=display\">\\newcommand{\\Bold}[1]{\\mathbf{#1}}-\\frac{1}{8} \\, {\\left({\\bar m}^{2} {\\left(\\cos\\left({\\alpha}\\right) + 3\\right)} + {\\Delta m}^{2} {\\left(\\cos\\left({\\alpha}\\right) - 1\\right)} + {m_S}^{2} {\\left(\\cos\\left({\\alpha}\\right) - 1\\right)}\\right)} {\\varphi_1}^{2} - \\frac{1}{8} \\, {\\left({\\bar m}^{2} {\\left(\\cos\\left({\\alpha}\\right) + 3\\right)} + {\\Delta m}^{2} {\\left(\\cos\\left({\\alpha}\\right) - 1\\right)} + {m_S}^{2} {\\left(\\cos\\left({\\alpha}\\right) - 1\\right)}\\right)} {\\varphi_2}^{2} - \\frac{1}{8} \\, {\\left({\\bar m}^{2} {\\left(\\cos\\left({\\alpha}\\right) + 3\\right)} + {\\Delta m}^{2} {\\left(\\cos\\left({\\alpha}\\right) - 1\\right)} + {m_S}^{2} {\\left(\\cos\\left({\\alpha}\\right) - 1\\right)}\\right)} {\\varphi_3}^{2} - \\frac{1}{8} \\, {\\left({m_S}^{2} {\\left(\\cos\\left({\\alpha}\\right) + 1\\right)} + {\\bar m}^{2} {\\left(\\cos\\left({\\alpha}\\right) + 1\\right)} + {\\Delta m}^{2} {\\left(\\cos\\left({\\alpha}\\right) - 3\\right)}\\right)} {\\varphi_4}^{2} - \\frac{1}{8} \\, {\\left({m_S}^{2} {\\left(\\cos\\left({\\alpha}\\right) + 1\\right)} + {\\bar m}^{2} {\\left(\\cos\\left({\\alpha}\\right) + 1\\right)} + {\\Delta m}^{2} {\\left(\\cos\\left({\\alpha}\\right) - 3\\right)}\\right)} {\\varphi_5}^{2} - \\frac{1}{4} \\, {\\left({\\Delta m}^{2} \\cos\\left({\\alpha}\\right) + {m_S}^{2} \\cos\\left({\\alpha}\\right) + {\\bar m}^{2} \\cos\\left({\\alpha}\\right)\\right)} {\\varphi_6}^{2} - \\frac{1}{4} \\, {\\left({\\Delta m}^{2} \\cos\\left({\\alpha}\\right) + {m_S}^{2} \\cos\\left({\\alpha}\\right) + {\\bar m}^{2} \\cos\\left({\\alpha}\\right)\\right)} {\\varphi_7}^{2} + \\frac{1}{12} \\, {\\left({\\left(\\sqrt{3} \\cos\\left({\\alpha}\\right) + 3 \\, \\sqrt{3}\\right)} {\\Delta m}^{2} + {\\left(\\sqrt{3} \\cos\\left({\\alpha}\\right) - \\sqrt{3}\\right)} {m_S}^{2} + {\\left(\\sqrt{3} \\cos\\left({\\alpha}\\right) - \\sqrt{3}\\right)} {\\bar m}^{2}\\right)} {\\varphi_3} {\\varphi_8} - \\frac{1}{24} \\, {\\left({m_S}^{2} {\\left(5 \\, \\cos\\left({\\alpha}\\right) + 3\\right)} + {\\bar m}^{2} {\\left(5 \\, \\cos\\left({\\alpha}\\right) - 1\\right)} + 5 \\, {\\Delta m}^{2} {\\left(\\cos\\left({\\alpha}\\right) - 1\\right)}\\right)} {\\varphi_8}^{2}</script></html>"
      ],
      "text/latex": [
       "$$\\newcommand{\\Bold}[1]{\\mathbf{#1}}-\\frac{1}{8} \\, {\\left({\\bar m}^{2} {\\left(\\cos\\left({\\alpha}\\right) + 3\\right)} + {\\Delta m}^{2} {\\left(\\cos\\left({\\alpha}\\right) - 1\\right)} + {m_S}^{2} {\\left(\\cos\\left({\\alpha}\\right) - 1\\right)}\\right)} {\\varphi_1}^{2} - \\frac{1}{8} \\, {\\left({\\bar m}^{2} {\\left(\\cos\\left({\\alpha}\\right) + 3\\right)} + {\\Delta m}^{2} {\\left(\\cos\\left({\\alpha}\\right) - 1\\right)} + {m_S}^{2} {\\left(\\cos\\left({\\alpha}\\right) - 1\\right)}\\right)} {\\varphi_2}^{2} - \\frac{1}{8} \\, {\\left({\\bar m}^{2} {\\left(\\cos\\left({\\alpha}\\right) + 3\\right)} + {\\Delta m}^{2} {\\left(\\cos\\left({\\alpha}\\right) - 1\\right)} + {m_S}^{2} {\\left(\\cos\\left({\\alpha}\\right) - 1\\right)}\\right)} {\\varphi_3}^{2} - \\frac{1}{8} \\, {\\left({m_S}^{2} {\\left(\\cos\\left({\\alpha}\\right) + 1\\right)} + {\\bar m}^{2} {\\left(\\cos\\left({\\alpha}\\right) + 1\\right)} + {\\Delta m}^{2} {\\left(\\cos\\left({\\alpha}\\right) - 3\\right)}\\right)} {\\varphi_4}^{2} - \\frac{1}{8} \\, {\\left({m_S}^{2} {\\left(\\cos\\left({\\alpha}\\right) + 1\\right)} + {\\bar m}^{2} {\\left(\\cos\\left({\\alpha}\\right) + 1\\right)} + {\\Delta m}^{2} {\\left(\\cos\\left({\\alpha}\\right) - 3\\right)}\\right)} {\\varphi_5}^{2} - \\frac{1}{4} \\, {\\left({\\Delta m}^{2} \\cos\\left({\\alpha}\\right) + {m_S}^{2} \\cos\\left({\\alpha}\\right) + {\\bar m}^{2} \\cos\\left({\\alpha}\\right)\\right)} {\\varphi_6}^{2} - \\frac{1}{4} \\, {\\left({\\Delta m}^{2} \\cos\\left({\\alpha}\\right) + {m_S}^{2} \\cos\\left({\\alpha}\\right) + {\\bar m}^{2} \\cos\\left({\\alpha}\\right)\\right)} {\\varphi_7}^{2} + \\frac{1}{12} \\, {\\left({\\left(\\sqrt{3} \\cos\\left({\\alpha}\\right) + 3 \\, \\sqrt{3}\\right)} {\\Delta m}^{2} + {\\left(\\sqrt{3} \\cos\\left({\\alpha}\\right) - \\sqrt{3}\\right)} {m_S}^{2} + {\\left(\\sqrt{3} \\cos\\left({\\alpha}\\right) - \\sqrt{3}\\right)} {\\bar m}^{2}\\right)} {\\varphi_3} {\\varphi_8} - \\frac{1}{24} \\, {\\left({m_S}^{2} {\\left(5 \\, \\cos\\left({\\alpha}\\right) + 3\\right)} + {\\bar m}^{2} {\\left(5 \\, \\cos\\left({\\alpha}\\right) - 1\\right)} + 5 \\, {\\Delta m}^{2} {\\left(\\cos\\left({\\alpha}\\right) - 1\\right)}\\right)} {\\varphi_8}^{2}$$"
      ],
      "text/plain": [
       "-1/8*(mbar^2*(cos(a) + 3) + dm^2*(cos(a) - 1) + mS^2*(cos(a) - 1))*phi1^2 - 1/8*(mbar^2*(cos(a) + 3) + dm^2*(cos(a) - 1) + mS^2*(cos(a) - 1))*phi2^2 - 1/8*(mbar^2*(cos(a) + 3) + dm^2*(cos(a) - 1) + mS^2*(cos(a) - 1))*phi3^2 - 1/8*(mS^2*(cos(a) + 1) + mbar^2*(cos(a) + 1) + dm^2*(cos(a) - 3))*phi4^2 - 1/8*(mS^2*(cos(a) + 1) + mbar^2*(cos(a) + 1) + dm^2*(cos(a) - 3))*phi5^2 - 1/4*(dm^2*cos(a) + mS^2*cos(a) + mbar^2*cos(a))*phi6^2 - 1/4*(dm^2*cos(a) + mS^2*cos(a) + mbar^2*cos(a))*phi7^2 + 1/12*((sqrt(3)*cos(a) + 3*sqrt(3))*dm^2 + (sqrt(3)*cos(a) - sqrt(3))*mS^2 + (sqrt(3)*cos(a) - sqrt(3))*mbar^2)*phi3*phi8 - 1/24*(mS^2*(5*cos(a) + 3) + mbar^2*(5*cos(a) - 1) + 5*dm^2*(cos(a) - 1))*phi8^2"
      ]
     },
     "execution_count": 12,
     "metadata": {},
     "output_type": "execute_result"
    }
   ],
   "source": [
    "mass_term.full_simplify().coefficient(e**2)"
   ]
  },
  {
   "cell_type": "code",
   "execution_count": 13,
   "id": "769e5eb7",
   "metadata": {},
   "outputs": [
    {
     "data": {
      "text/html": [
       "<html><script type=\"math/tex; mode=display\">\\newcommand{\\Bold}[1]{\\mathbf{#1}}\\frac{1}{8} \\, {\\left({\\left(\\sin\\left({\\alpha}\\right)^{2} - 3 \\, \\cos\\left({\\alpha}\\right) - 5\\right)} {\\delta}^{2} {\\mu_I}^{2} - 4 \\, {\\left(\\sin\\left({\\alpha}\\right)^{2} - \\cos\\left({\\alpha}\\right) + 1\\right)} {\\delta}^{2} {\\mu_I} {\\mu_S} + 4 \\, {\\left(\\sin\\left({\\alpha}\\right)^{2} + \\cos\\left({\\alpha}\\right) - 1\\right)} {\\delta}^{2} {\\mu_S}^{2} + 2 \\, {\\bar m}^{2} {\\left(\\cos\\left({\\alpha}\\right) + 3\\right)} + 2 \\, {\\Delta m}^{2} {\\left(\\cos\\left({\\alpha}\\right) - 1\\right)} + 2 \\, {m_S}^{2} {\\left(\\cos\\left({\\alpha}\\right) - 1\\right)}\\right)} {\\varphi_1}^{2} + \\frac{1}{8} \\, {\\left({\\left(\\sin\\left({\\alpha}\\right)^{2} - 3 \\, \\cos\\left({\\alpha}\\right) - 5\\right)} {\\delta}^{2} {\\mu_I}^{2} - 4 \\, {\\left(\\sin\\left({\\alpha}\\right)^{2} - \\cos\\left({\\alpha}\\right) + 1\\right)} {\\delta}^{2} {\\mu_I} {\\mu_S} + 4 \\, {\\left(\\sin\\left({\\alpha}\\right)^{2} + \\cos\\left({\\alpha}\\right) - 1\\right)} {\\delta}^{2} {\\mu_S}^{2} + 2 \\, {\\bar m}^{2} {\\left(\\cos\\left({\\alpha}\\right) + 3\\right)} + 2 \\, {\\Delta m}^{2} {\\left(\\cos\\left({\\alpha}\\right) - 1\\right)} + 2 \\, {m_S}^{2} {\\left(\\cos\\left({\\alpha}\\right) - 1\\right)}\\right)} {\\varphi_2}^{2} + \\frac{1}{16} \\, {\\left({\\delta}^{2} {\\mu_I}^{2} \\sin\\left({\\alpha}\\right)^{2} - 4 \\, {\\delta}^{2} {\\mu_I} {\\mu_S} \\sin\\left({\\alpha}\\right)^{2} + 4 \\, {\\delta}^{2} {\\mu_S}^{2} \\sin\\left({\\alpha}\\right)^{2} + 4 \\, {\\bar m}^{2} {\\left(\\cos\\left({\\alpha}\\right) + 3\\right)} + 4 \\, {\\Delta m}^{2} {\\left(\\cos\\left({\\alpha}\\right) - 1\\right)} + 4 \\, {m_S}^{2} {\\left(\\cos\\left({\\alpha}\\right) - 1\\right)}\\right)} {\\varphi_3}^{2} + \\frac{1}{8} \\, {\\left({\\left(\\sin\\left({\\alpha}\\right)^{2} + 3 \\, \\cos\\left({\\alpha}\\right) - 5\\right)} {\\delta}^{2} {\\mu_I}^{2} - 4 \\, {\\left(\\sin\\left({\\alpha}\\right)^{2} + \\cos\\left({\\alpha}\\right) + 1\\right)} {\\delta}^{2} {\\mu_I} {\\mu_S} + 4 \\, {\\left(\\sin\\left({\\alpha}\\right)^{2} - \\cos\\left({\\alpha}\\right) - 1\\right)} {\\delta}^{2} {\\mu_S}^{2} + 2 \\, {m_S}^{2} {\\left(\\cos\\left({\\alpha}\\right) + 1\\right)} + 2 \\, {\\bar m}^{2} {\\left(\\cos\\left({\\alpha}\\right) + 1\\right)} + 2 \\, {\\Delta m}^{2} {\\left(\\cos\\left({\\alpha}\\right) - 3\\right)}\\right)} {\\varphi_4}^{2} + \\frac{1}{8} \\, {\\left({\\left(\\sin\\left({\\alpha}\\right)^{2} + 3 \\, \\cos\\left({\\alpha}\\right) - 5\\right)} {\\delta}^{2} {\\mu_I}^{2} - 4 \\, {\\left(\\sin\\left({\\alpha}\\right)^{2} + \\cos\\left({\\alpha}\\right) + 1\\right)} {\\delta}^{2} {\\mu_I} {\\mu_S} + 4 \\, {\\left(\\sin\\left({\\alpha}\\right)^{2} - \\cos\\left({\\alpha}\\right) - 1\\right)} {\\delta}^{2} {\\mu_S}^{2} + 2 \\, {m_S}^{2} {\\left(\\cos\\left({\\alpha}\\right) + 1\\right)} + 2 \\, {\\bar m}^{2} {\\left(\\cos\\left({\\alpha}\\right) + 1\\right)} + 2 \\, {\\Delta m}^{2} {\\left(\\cos\\left({\\alpha}\\right) - 3\\right)}\\right)} {\\varphi_5}^{2} + \\frac{1}{4} \\, {\\left({\\left(\\sin\\left({\\alpha}\\right)^{2} - 1\\right)} {\\delta}^{2} {\\mu_I}^{2} - 4 \\, {\\left(\\sin\\left({\\alpha}\\right)^{2} - 1\\right)} {\\delta}^{2} {\\mu_I} {\\mu_S} + 4 \\, {\\left(\\sin\\left({\\alpha}\\right)^{2} - 1\\right)} {\\delta}^{2} {\\mu_S}^{2} + 2 \\, {\\Delta m}^{2} \\cos\\left({\\alpha}\\right) + 2 \\, {m_S}^{2} \\cos\\left({\\alpha}\\right) + 2 \\, {\\bar m}^{2} \\cos\\left({\\alpha}\\right)\\right)} {\\varphi_6}^{2} + \\frac{1}{4} \\, {\\left({\\left(2 \\, \\sin\\left({\\alpha}\\right)^{2} - 1\\right)} {\\delta}^{2} {\\mu_I}^{2} - 4 \\, {\\left(2 \\, \\sin\\left({\\alpha}\\right)^{2} - 1\\right)} {\\delta}^{2} {\\mu_I} {\\mu_S} + 4 \\, {\\left(2 \\, \\sin\\left({\\alpha}\\right)^{2} - 1\\right)} {\\delta}^{2} {\\mu_S}^{2} + 2 \\, {\\Delta m}^{2} \\cos\\left({\\alpha}\\right) + 2 \\, {m_S}^{2} \\cos\\left({\\alpha}\\right) + 2 \\, {\\bar m}^{2} \\cos\\left({\\alpha}\\right)\\right)} {\\varphi_7}^{2} - \\frac{1}{24} \\, {\\left(3 \\, \\sqrt{3} {\\delta}^{2} {\\mu_I}^{2} \\sin\\left({\\alpha}\\right)^{2} - 12 \\, \\sqrt{3} {\\delta}^{2} {\\mu_I} {\\mu_S} \\sin\\left({\\alpha}\\right)^{2} + 12 \\, \\sqrt{3} {\\delta}^{2} {\\mu_S}^{2} \\sin\\left({\\alpha}\\right)^{2} + 4 \\, {\\left(\\sqrt{3} \\cos\\left({\\alpha}\\right) + 3 \\, \\sqrt{3}\\right)} {\\Delta m}^{2} + 4 \\, {\\left(\\sqrt{3} \\cos\\left({\\alpha}\\right) - \\sqrt{3}\\right)} {m_S}^{2} + 4 \\, {\\left(\\sqrt{3} \\cos\\left({\\alpha}\\right) - \\sqrt{3}\\right)} {\\bar m}^{2}\\right)} {\\varphi_3} {\\varphi_8} + \\frac{1}{48} \\, {\\left(9 \\, {\\delta}^{2} {\\mu_I}^{2} \\sin\\left({\\alpha}\\right)^{2} - 36 \\, {\\delta}^{2} {\\mu_I} {\\mu_S} \\sin\\left({\\alpha}\\right)^{2} + 36 \\, {\\delta}^{2} {\\mu_S}^{2} \\sin\\left({\\alpha}\\right)^{2} + 4 \\, {m_S}^{2} {\\left(5 \\, \\cos\\left({\\alpha}\\right) + 3\\right)} + 4 \\, {\\bar m}^{2} {\\left(5 \\, \\cos\\left({\\alpha}\\right) - 1\\right)} + 20 \\, {\\Delta m}^{2} {\\left(\\cos\\left({\\alpha}\\right) - 1\\right)}\\right)} {\\varphi_8}^{2}</script></html>"
      ],
      "text/latex": [
       "$$\\newcommand{\\Bold}[1]{\\mathbf{#1}}\\frac{1}{8} \\, {\\left({\\left(\\sin\\left({\\alpha}\\right)^{2} - 3 \\, \\cos\\left({\\alpha}\\right) - 5\\right)} {\\delta}^{2} {\\mu_I}^{2} - 4 \\, {\\left(\\sin\\left({\\alpha}\\right)^{2} - \\cos\\left({\\alpha}\\right) + 1\\right)} {\\delta}^{2} {\\mu_I} {\\mu_S} + 4 \\, {\\left(\\sin\\left({\\alpha}\\right)^{2} + \\cos\\left({\\alpha}\\right) - 1\\right)} {\\delta}^{2} {\\mu_S}^{2} + 2 \\, {\\bar m}^{2} {\\left(\\cos\\left({\\alpha}\\right) + 3\\right)} + 2 \\, {\\Delta m}^{2} {\\left(\\cos\\left({\\alpha}\\right) - 1\\right)} + 2 \\, {m_S}^{2} {\\left(\\cos\\left({\\alpha}\\right) - 1\\right)}\\right)} {\\varphi_1}^{2} + \\frac{1}{8} \\, {\\left({\\left(\\sin\\left({\\alpha}\\right)^{2} - 3 \\, \\cos\\left({\\alpha}\\right) - 5\\right)} {\\delta}^{2} {\\mu_I}^{2} - 4 \\, {\\left(\\sin\\left({\\alpha}\\right)^{2} - \\cos\\left({\\alpha}\\right) + 1\\right)} {\\delta}^{2} {\\mu_I} {\\mu_S} + 4 \\, {\\left(\\sin\\left({\\alpha}\\right)^{2} + \\cos\\left({\\alpha}\\right) - 1\\right)} {\\delta}^{2} {\\mu_S}^{2} + 2 \\, {\\bar m}^{2} {\\left(\\cos\\left({\\alpha}\\right) + 3\\right)} + 2 \\, {\\Delta m}^{2} {\\left(\\cos\\left({\\alpha}\\right) - 1\\right)} + 2 \\, {m_S}^{2} {\\left(\\cos\\left({\\alpha}\\right) - 1\\right)}\\right)} {\\varphi_2}^{2} + \\frac{1}{16} \\, {\\left({\\delta}^{2} {\\mu_I}^{2} \\sin\\left({\\alpha}\\right)^{2} - 4 \\, {\\delta}^{2} {\\mu_I} {\\mu_S} \\sin\\left({\\alpha}\\right)^{2} + 4 \\, {\\delta}^{2} {\\mu_S}^{2} \\sin\\left({\\alpha}\\right)^{2} + 4 \\, {\\bar m}^{2} {\\left(\\cos\\left({\\alpha}\\right) + 3\\right)} + 4 \\, {\\Delta m}^{2} {\\left(\\cos\\left({\\alpha}\\right) - 1\\right)} + 4 \\, {m_S}^{2} {\\left(\\cos\\left({\\alpha}\\right) - 1\\right)}\\right)} {\\varphi_3}^{2} + \\frac{1}{8} \\, {\\left({\\left(\\sin\\left({\\alpha}\\right)^{2} + 3 \\, \\cos\\left({\\alpha}\\right) - 5\\right)} {\\delta}^{2} {\\mu_I}^{2} - 4 \\, {\\left(\\sin\\left({\\alpha}\\right)^{2} + \\cos\\left({\\alpha}\\right) + 1\\right)} {\\delta}^{2} {\\mu_I} {\\mu_S} + 4 \\, {\\left(\\sin\\left({\\alpha}\\right)^{2} - \\cos\\left({\\alpha}\\right) - 1\\right)} {\\delta}^{2} {\\mu_S}^{2} + 2 \\, {m_S}^{2} {\\left(\\cos\\left({\\alpha}\\right) + 1\\right)} + 2 \\, {\\bar m}^{2} {\\left(\\cos\\left({\\alpha}\\right) + 1\\right)} + 2 \\, {\\Delta m}^{2} {\\left(\\cos\\left({\\alpha}\\right) - 3\\right)}\\right)} {\\varphi_4}^{2} + \\frac{1}{8} \\, {\\left({\\left(\\sin\\left({\\alpha}\\right)^{2} + 3 \\, \\cos\\left({\\alpha}\\right) - 5\\right)} {\\delta}^{2} {\\mu_I}^{2} - 4 \\, {\\left(\\sin\\left({\\alpha}\\right)^{2} + \\cos\\left({\\alpha}\\right) + 1\\right)} {\\delta}^{2} {\\mu_I} {\\mu_S} + 4 \\, {\\left(\\sin\\left({\\alpha}\\right)^{2} - \\cos\\left({\\alpha}\\right) - 1\\right)} {\\delta}^{2} {\\mu_S}^{2} + 2 \\, {m_S}^{2} {\\left(\\cos\\left({\\alpha}\\right) + 1\\right)} + 2 \\, {\\bar m}^{2} {\\left(\\cos\\left({\\alpha}\\right) + 1\\right)} + 2 \\, {\\Delta m}^{2} {\\left(\\cos\\left({\\alpha}\\right) - 3\\right)}\\right)} {\\varphi_5}^{2} + \\frac{1}{4} \\, {\\left({\\left(\\sin\\left({\\alpha}\\right)^{2} - 1\\right)} {\\delta}^{2} {\\mu_I}^{2} - 4 \\, {\\left(\\sin\\left({\\alpha}\\right)^{2} - 1\\right)} {\\delta}^{2} {\\mu_I} {\\mu_S} + 4 \\, {\\left(\\sin\\left({\\alpha}\\right)^{2} - 1\\right)} {\\delta}^{2} {\\mu_S}^{2} + 2 \\, {\\Delta m}^{2} \\cos\\left({\\alpha}\\right) + 2 \\, {m_S}^{2} \\cos\\left({\\alpha}\\right) + 2 \\, {\\bar m}^{2} \\cos\\left({\\alpha}\\right)\\right)} {\\varphi_6}^{2} + \\frac{1}{4} \\, {\\left({\\left(2 \\, \\sin\\left({\\alpha}\\right)^{2} - 1\\right)} {\\delta}^{2} {\\mu_I}^{2} - 4 \\, {\\left(2 \\, \\sin\\left({\\alpha}\\right)^{2} - 1\\right)} {\\delta}^{2} {\\mu_I} {\\mu_S} + 4 \\, {\\left(2 \\, \\sin\\left({\\alpha}\\right)^{2} - 1\\right)} {\\delta}^{2} {\\mu_S}^{2} + 2 \\, {\\Delta m}^{2} \\cos\\left({\\alpha}\\right) + 2 \\, {m_S}^{2} \\cos\\left({\\alpha}\\right) + 2 \\, {\\bar m}^{2} \\cos\\left({\\alpha}\\right)\\right)} {\\varphi_7}^{2} - \\frac{1}{24} \\, {\\left(3 \\, \\sqrt{3} {\\delta}^{2} {\\mu_I}^{2} \\sin\\left({\\alpha}\\right)^{2} - 12 \\, \\sqrt{3} {\\delta}^{2} {\\mu_I} {\\mu_S} \\sin\\left({\\alpha}\\right)^{2} + 12 \\, \\sqrt{3} {\\delta}^{2} {\\mu_S}^{2} \\sin\\left({\\alpha}\\right)^{2} + 4 \\, {\\left(\\sqrt{3} \\cos\\left({\\alpha}\\right) + 3 \\, \\sqrt{3}\\right)} {\\Delta m}^{2} + 4 \\, {\\left(\\sqrt{3} \\cos\\left({\\alpha}\\right) - \\sqrt{3}\\right)} {m_S}^{2} + 4 \\, {\\left(\\sqrt{3} \\cos\\left({\\alpha}\\right) - \\sqrt{3}\\right)} {\\bar m}^{2}\\right)} {\\varphi_3} {\\varphi_8} + \\frac{1}{48} \\, {\\left(9 \\, {\\delta}^{2} {\\mu_I}^{2} \\sin\\left({\\alpha}\\right)^{2} - 36 \\, {\\delta}^{2} {\\mu_I} {\\mu_S} \\sin\\left({\\alpha}\\right)^{2} + 36 \\, {\\delta}^{2} {\\mu_S}^{2} \\sin\\left({\\alpha}\\right)^{2} + 4 \\, {m_S}^{2} {\\left(5 \\, \\cos\\left({\\alpha}\\right) + 3\\right)} + 4 \\, {\\bar m}^{2} {\\left(5 \\, \\cos\\left({\\alpha}\\right) - 1\\right)} + 20 \\, {\\Delta m}^{2} {\\left(\\cos\\left({\\alpha}\\right) - 1\\right)}\\right)} {\\varphi_8}^{2}$$"
      ],
      "text/plain": [
       "1/8*((sin(a)^2 - 3*cos(a) - 5)*d^2*muI^2 - 4*(sin(a)^2 - cos(a) + 1)*d^2*muI*muS + 4*(sin(a)^2 + cos(a) - 1)*d^2*muS^2 + 2*mbar^2*(cos(a) + 3) + 2*dm^2*(cos(a) - 1) + 2*mS^2*(cos(a) - 1))*phi1^2 + 1/8*((sin(a)^2 - 3*cos(a) - 5)*d^2*muI^2 - 4*(sin(a)^2 - cos(a) + 1)*d^2*muI*muS + 4*(sin(a)^2 + cos(a) - 1)*d^2*muS^2 + 2*mbar^2*(cos(a) + 3) + 2*dm^2*(cos(a) - 1) + 2*mS^2*(cos(a) - 1))*phi2^2 + 1/16*(d^2*muI^2*sin(a)^2 - 4*d^2*muI*muS*sin(a)^2 + 4*d^2*muS^2*sin(a)^2 + 4*mbar^2*(cos(a) + 3) + 4*dm^2*(cos(a) - 1) + 4*mS^2*(cos(a) - 1))*phi3^2 + 1/8*((sin(a)^2 + 3*cos(a) - 5)*d^2*muI^2 - 4*(sin(a)^2 + cos(a) + 1)*d^2*muI*muS + 4*(sin(a)^2 - cos(a) - 1)*d^2*muS^2 + 2*mS^2*(cos(a) + 1) + 2*mbar^2*(cos(a) + 1) + 2*dm^2*(cos(a) - 3))*phi4^2 + 1/8*((sin(a)^2 + 3*cos(a) - 5)*d^2*muI^2 - 4*(sin(a)^2 + cos(a) + 1)*d^2*muI*muS + 4*(sin(a)^2 - cos(a) - 1)*d^2*muS^2 + 2*mS^2*(cos(a) + 1) + 2*mbar^2*(cos(a) + 1) + 2*dm^2*(cos(a) - 3))*phi5^2 + 1/4*((sin(a)^2 - 1)*d^2*muI^2 - 4*(sin(a)^2 - 1)*d^2*muI*muS + 4*(sin(a)^2 - 1)*d^2*muS^2 + 2*dm^2*cos(a) + 2*mS^2*cos(a) + 2*mbar^2*cos(a))*phi6^2 + 1/4*((2*sin(a)^2 - 1)*d^2*muI^2 - 4*(2*sin(a)^2 - 1)*d^2*muI*muS + 4*(2*sin(a)^2 - 1)*d^2*muS^2 + 2*dm^2*cos(a) + 2*mS^2*cos(a) + 2*mbar^2*cos(a))*phi7^2 - 1/24*(3*sqrt(3)*d^2*muI^2*sin(a)^2 - 12*sqrt(3)*d^2*muI*muS*sin(a)^2 + 12*sqrt(3)*d^2*muS^2*sin(a)^2 + 4*(sqrt(3)*cos(a) + 3*sqrt(3))*dm^2 + 4*(sqrt(3)*cos(a) - sqrt(3))*mS^2 + 4*(sqrt(3)*cos(a) - sqrt(3))*mbar^2)*phi3*phi8 + 1/48*(9*d^2*muI^2*sin(a)^2 - 36*d^2*muI*muS*sin(a)^2 + 36*d^2*muS^2*sin(a)^2 + 4*mS^2*(5*cos(a) + 3) + 4*mbar^2*(5*cos(a) - 1) + 20*dm^2*(cos(a) - 1))*phi8^2"
      ]
     },
     "execution_count": 13,
     "metadata": {},
     "output_type": "execute_result"
    }
   ],
   "source": [
    "-2*(term3 + mass_term).coefficient(e**2).full_simplify()"
   ]
  },
  {
   "cell_type": "code",
   "execution_count": 30,
   "metadata": {},
   "outputs": [
    {
     "data": {
      "text/latex": [
       "$$ \\frac{1}{8} \\, {\\delta}^{2} {\\mu_I}^{2} \\sin\\left({\\alpha}\\right)^{2} - \\frac{1}{2} \\, {\\delta}^{2} {\\mu_I} {\\mu_S} \\sin\\left({\\alpha}\\right)^{2} + \\frac{1}{2} \\, {\\delta}^{2} {\\mu_S}^{2} \\sin\\left({\\alpha}\\right)^{2} + \\frac{1}{2} \\, {\\bar m}^{2} {\\left(\\cos\\left({\\alpha}\\right) + 1\\right)} + \\frac{1}{2} \\, {\\Delta m}^{2} {\\left(\\cos\\left({\\alpha}\\right) - 1\\right)} + \\frac{1}{2} \\, {m_S}^{2} \\cos\\left({\\alpha}\\right) $$"
      ],
      "text/plain": [
       "<IPython.core.display.Latex object>"
      ]
     },
     "metadata": {},
     "output_type": "display_data"
    }
   ],
   "source": [
    "L0 = L\n",
    "for i in range(len(l)):\n",
    "    L0 = L0.subs(pvar[i]==0)\n",
    "    L0 = L0.subs(dpvar[i]==0)\n",
    "\n",
    "L0 = L0.full_simplify()\n",
    "pprint(L0)"
   ]
  },
  {
   "cell_type": "code",
   "execution_count": 15,
   "id": "1ce74b7f",
   "metadata": {},
   "outputs": [
    {
     "data": {
      "text/latex": [
       "$$ 0 $$"
      ],
      "text/plain": [
       "<IPython.core.display.Latex object>"
      ]
     },
     "metadata": {},
     "output_type": "display_data"
    },
    {
     "data": {
      "text/latex": [
       "$$ 0 $$"
      ],
      "text/plain": [
       "<IPython.core.display.Latex object>"
      ]
     },
     "metadata": {},
     "output_type": "display_data"
    },
    {
     "data": {
      "text/latex": [
       "$$ 0 $$"
      ],
      "text/plain": [
       "<IPython.core.display.Latex object>"
      ]
     },
     "metadata": {},
     "output_type": "display_data"
    },
    {
     "data": {
      "text/latex": [
       "$$ 0 $$"
      ],
      "text/plain": [
       "<IPython.core.display.Latex object>"
      ]
     },
     "metadata": {},
     "output_type": "display_data"
    },
    {
     "data": {
      "text/latex": [
       "$$ 0 $$"
      ],
      "text/plain": [
       "<IPython.core.display.Latex object>"
      ]
     },
     "metadata": {},
     "output_type": "display_data"
    },
    {
     "data": {
      "text/latex": [
       "$$ 0 $$"
      ],
      "text/plain": [
       "<IPython.core.display.Latex object>"
      ]
     },
     "metadata": {},
     "output_type": "display_data"
    },
    {
     "data": {
      "text/latex": [
       "$$ 0 $$"
      ],
      "text/plain": [
       "<IPython.core.display.Latex object>"
      ]
     },
     "metadata": {},
     "output_type": "display_data"
    },
    {
     "data": {
      "text/latex": [
       "$$ 0 $$"
      ],
      "text/plain": [
       "<IPython.core.display.Latex object>"
      ]
     },
     "metadata": {},
     "output_type": "display_data"
    },
    {
     "data": {
      "text/latex": [
       "$$ 0 $$"
      ],
      "text/plain": [
       "<IPython.core.display.Latex object>"
      ]
     },
     "metadata": {},
     "output_type": "display_data"
    },
    {
     "data": {
      "text/latex": [
       "$$ 0 $$"
      ],
      "text/plain": [
       "<IPython.core.display.Latex object>"
      ]
     },
     "metadata": {},
     "output_type": "display_data"
    },
    {
     "data": {
      "text/latex": [
       "$$ \\frac{1}{48} \\, \\sqrt{3} {\\left(3 \\, {\\mu_I}^{2} \\sin\\left({\\alpha}\\right)^{2} - 12 \\, {\\mu_I} {\\mu_S} \\sin\\left({\\alpha}\\right)^{2} + 12 \\, {\\mu_S}^{2} \\sin\\left({\\alpha}\\right)^{2} + 4 \\, {\\Delta m}^{2} {\\left(\\cos\\left({\\alpha}\\right) + 3\\right)} + 4 \\, {m_S}^{2} {\\left(\\cos\\left({\\alpha}\\right) - 1\\right)} + 4 \\, {\\bar m}^{2} {\\left(\\cos\\left({\\alpha}\\right) - 1\\right)}\\right)} {\\varphi_3} {\\varphi_8} $$"
      ],
      "text/plain": [
       "<IPython.core.display.Latex object>"
      ]
     },
     "metadata": {},
     "output_type": "display_data"
    },
    {
     "data": {
      "text/latex": [
       "$$ 0 $$"
      ],
      "text/plain": [
       "<IPython.core.display.Latex object>"
      ]
     },
     "metadata": {},
     "output_type": "display_data"
    },
    {
     "data": {
      "text/latex": [
       "$$ 0 $$"
      ],
      "text/plain": [
       "<IPython.core.display.Latex object>"
      ]
     },
     "metadata": {},
     "output_type": "display_data"
    },
    {
     "data": {
      "text/latex": [
       "$$ 0 $$"
      ],
      "text/plain": [
       "<IPython.core.display.Latex object>"
      ]
     },
     "metadata": {},
     "output_type": "display_data"
    },
    {
     "data": {
      "text/latex": [
       "$$ \\frac{1}{4} \\, {\\left({\\mu_I}^{2} \\cos\\left({\\alpha}\\right) \\sin\\left({\\alpha}\\right) - 4 \\, {\\mu_I} {\\mu_S} \\cos\\left({\\alpha}\\right) \\sin\\left({\\alpha}\\right) + 4 \\, {\\mu_S}^{2} \\cos\\left({\\alpha}\\right) \\sin\\left({\\alpha}\\right) - 2 \\, {\\Delta m}^{2} \\sin\\left({\\alpha}\\right) - 2 \\, {m_S}^{2} \\sin\\left({\\alpha}\\right) - 2 \\, {\\bar m}^{2} \\sin\\left({\\alpha}\\right)\\right)} {\\varphi_7} $$"
      ],
      "text/plain": [
       "<IPython.core.display.Latex object>"
      ]
     },
     "metadata": {},
     "output_type": "display_data"
    },
    {
     "data": {
      "text/latex": [
       "$$ \\frac{1}{48} \\, \\sqrt{3} {\\left(3 \\, {\\mu_I}^{2} \\sin\\left({\\alpha}\\right)^{2} - 12 \\, {\\mu_I} {\\mu_S} \\sin\\left({\\alpha}\\right)^{2} + 12 \\, {\\mu_S}^{2} \\sin\\left({\\alpha}\\right)^{2} + 4 \\, {\\Delta m}^{2} {\\left(\\cos\\left({\\alpha}\\right) + 3\\right)} + 4 \\, {m_S}^{2} {\\left(\\cos\\left({\\alpha}\\right) - 1\\right)} + 4 \\, {\\bar m}^{2} {\\left(\\cos\\left({\\alpha}\\right) - 1\\right)}\\right)} {\\varphi_3} {\\varphi_8} $$"
      ],
      "text/plain": [
       "<IPython.core.display.Latex object>"
      ]
     },
     "metadata": {},
     "output_type": "display_data"
    },
    {
     "data": {
      "text/latex": [
       "$$ \\frac{1}{16} \\, {\\left({\\left(\\cos\\left({\\alpha}\\right)^{2} + 3 \\, \\cos\\left({\\alpha}\\right) + 4\\right)} {\\mu_I}^{2} - 4 \\, {\\left(\\cos\\left({\\alpha}\\right)^{2} + \\cos\\left({\\alpha}\\right) - 2\\right)} {\\mu_I} {\\mu_S} + 4 \\, {\\left(\\cos\\left({\\alpha}\\right)^{2} - \\cos\\left({\\alpha}\\right)\\right)} {\\mu_S}^{2} - 2 \\, {\\bar m}^{2} {\\left(\\cos\\left({\\alpha}\\right) + 3\\right)} - 2 \\, {\\Delta m}^{2} {\\left(\\cos\\left({\\alpha}\\right) - 1\\right)} - 2 \\, {m_S}^{2} {\\left(\\cos\\left({\\alpha}\\right) - 1\\right)}\\right)} {\\varphi_1}^{2} $$"
      ],
      "text/plain": [
       "<IPython.core.display.Latex object>"
      ]
     },
     "metadata": {},
     "output_type": "display_data"
    },
    {
     "data": {
      "text/latex": [
       "$$ \\frac{1}{16} \\, {\\left({\\left(\\cos\\left({\\alpha}\\right)^{2} + 3 \\, \\cos\\left({\\alpha}\\right) + 4\\right)} {\\mu_I}^{2} - 4 \\, {\\left(\\cos\\left({\\alpha}\\right)^{2} + \\cos\\left({\\alpha}\\right) - 2\\right)} {\\mu_I} {\\mu_S} + 4 \\, {\\left(\\cos\\left({\\alpha}\\right)^{2} - \\cos\\left({\\alpha}\\right)\\right)} {\\mu_S}^{2} - 2 \\, {\\bar m}^{2} {\\left(\\cos\\left({\\alpha}\\right) + 3\\right)} - 2 \\, {\\Delta m}^{2} {\\left(\\cos\\left({\\alpha}\\right) - 1\\right)} - 2 \\, {m_S}^{2} {\\left(\\cos\\left({\\alpha}\\right) - 1\\right)}\\right)} {\\varphi_2}^{2} $$"
      ],
      "text/plain": [
       "<IPython.core.display.Latex object>"
      ]
     },
     "metadata": {},
     "output_type": "display_data"
    },
    {
     "data": {
      "text/latex": [
       "$$ -\\frac{1}{32} \\, {\\left({\\mu_I}^{2} \\sin\\left({\\alpha}\\right)^{2} - 4 \\, {\\mu_I} {\\mu_S} \\sin\\left({\\alpha}\\right)^{2} + 4 \\, {\\mu_S}^{2} \\sin\\left({\\alpha}\\right)^{2} + 4 \\, {\\bar m}^{2} {\\left(\\cos\\left({\\alpha}\\right) + 3\\right)} + 4 \\, {\\Delta m}^{2} {\\left(\\cos\\left({\\alpha}\\right) - 1\\right)} + 4 \\, {m_S}^{2} {\\left(\\cos\\left({\\alpha}\\right) - 1\\right)}\\right)} {\\varphi_3}^{2} $$"
      ],
      "text/plain": [
       "<IPython.core.display.Latex object>"
      ]
     },
     "metadata": {},
     "output_type": "display_data"
    },
    {
     "data": {
      "text/latex": [
       "$$ \\frac{1}{16} \\, {\\left({\\left(\\cos\\left({\\alpha}\\right)^{2} - 3 \\, \\cos\\left({\\alpha}\\right) + 4\\right)} {\\mu_I}^{2} - 4 \\, {\\left(\\cos\\left({\\alpha}\\right)^{2} - \\cos\\left({\\alpha}\\right) - 2\\right)} {\\mu_I} {\\mu_S} + 4 \\, {\\left(\\cos\\left({\\alpha}\\right)^{2} + \\cos\\left({\\alpha}\\right)\\right)} {\\mu_S}^{2} - 2 \\, {m_S}^{2} {\\left(\\cos\\left({\\alpha}\\right) + 1\\right)} - 2 \\, {\\bar m}^{2} {\\left(\\cos\\left({\\alpha}\\right) + 1\\right)} - 2 \\, {\\Delta m}^{2} {\\left(\\cos\\left({\\alpha}\\right) - 3\\right)}\\right)} {\\varphi_4}^{2} $$"
      ],
      "text/plain": [
       "<IPython.core.display.Latex object>"
      ]
     },
     "metadata": {},
     "output_type": "display_data"
    },
    {
     "data": {
      "text/latex": [
       "$$ \\frac{1}{16} \\, {\\left({\\left(\\cos\\left({\\alpha}\\right)^{2} - 3 \\, \\cos\\left({\\alpha}\\right) + 4\\right)} {\\mu_I}^{2} - 4 \\, {\\left(\\cos\\left({\\alpha}\\right)^{2} - \\cos\\left({\\alpha}\\right) - 2\\right)} {\\mu_I} {\\mu_S} + 4 \\, {\\left(\\cos\\left({\\alpha}\\right)^{2} + \\cos\\left({\\alpha}\\right)\\right)} {\\mu_S}^{2} - 2 \\, {m_S}^{2} {\\left(\\cos\\left({\\alpha}\\right) + 1\\right)} - 2 \\, {\\bar m}^{2} {\\left(\\cos\\left({\\alpha}\\right) + 1\\right)} - 2 \\, {\\Delta m}^{2} {\\left(\\cos\\left({\\alpha}\\right) - 3\\right)}\\right)} {\\varphi_5}^{2} $$"
      ],
      "text/plain": [
       "<IPython.core.display.Latex object>"
      ]
     },
     "metadata": {},
     "output_type": "display_data"
    },
    {
     "data": {
      "text/latex": [
       "$$ \\frac{1}{8} \\, {\\left({\\mu_I}^{2} \\cos\\left({\\alpha}\\right)^{2} - 4 \\, {\\mu_I} {\\mu_S} \\cos\\left({\\alpha}\\right)^{2} + 4 \\, {\\mu_S}^{2} \\cos\\left({\\alpha}\\right)^{2} - 2 \\, {\\Delta m}^{2} \\cos\\left({\\alpha}\\right) - 2 \\, {m_S}^{2} \\cos\\left({\\alpha}\\right) - 2 \\, {\\bar m}^{2} \\cos\\left({\\alpha}\\right)\\right)} {\\varphi_6}^{2} $$"
      ],
      "text/plain": [
       "<IPython.core.display.Latex object>"
      ]
     },
     "metadata": {},
     "output_type": "display_data"
    },
    {
     "data": {
      "text/latex": [
       "$$ \\frac{1}{8} \\, {\\left({\\left(2 \\, \\cos\\left({\\alpha}\\right)^{2} - 1\\right)} {\\mu_I}^{2} - 4 \\, {\\left(2 \\, \\cos\\left({\\alpha}\\right)^{2} - 1\\right)} {\\mu_I} {\\mu_S} + 4 \\, {\\left(2 \\, \\cos\\left({\\alpha}\\right)^{2} - 1\\right)} {\\mu_S}^{2} - 2 \\, {\\Delta m}^{2} \\cos\\left({\\alpha}\\right) - 2 \\, {m_S}^{2} \\cos\\left({\\alpha}\\right) - 2 \\, {\\bar m}^{2} \\cos\\left({\\alpha}\\right)\\right)} {\\varphi_7}^{2} $$"
      ],
      "text/plain": [
       "<IPython.core.display.Latex object>"
      ]
     },
     "metadata": {},
     "output_type": "display_data"
    },
    {
     "data": {
      "text/latex": [
       "$$ -\\frac{1}{96} \\, {\\left(9 \\, {\\mu_I}^{2} \\sin\\left({\\alpha}\\right)^{2} - 36 \\, {\\mu_I} {\\mu_S} \\sin\\left({\\alpha}\\right)^{2} + 36 \\, {\\mu_S}^{2} \\sin\\left({\\alpha}\\right)^{2} + 4 \\, {m_S}^{2} {\\left(5 \\, \\cos\\left({\\alpha}\\right) + 3\\right)} + 4 \\, {\\bar m}^{2} {\\left(5 \\, \\cos\\left({\\alpha}\\right) - 1\\right)} + 20 \\, {\\Delta m}^{2} {\\left(\\cos\\left({\\alpha}\\right) - 1\\right)}\\right)} {\\varphi_8}^{2} $$"
      ],
      "text/plain": [
       "<IPython.core.display.Latex object>"
      ]
     },
     "metadata": {},
     "output_type": "display_data"
    }
   ],
   "source": [
    "for n in [0, 1, 2]:\n",
    "    for p in pvar:\n",
    "        pprint(((term3+mass_term)).subs(p=0).subs(e==1).subs(d==1).trig_reduce().full_simplify() * p**n)"
   ]
  },
  {
   "cell_type": "code",
   "execution_count": null,
   "id": "cf735e1a",
   "metadata": {},
   "outputs": [],
   "source": []
  }
 ],
 "metadata": {
  "kernelspec": {
   "display_name": "SageMath 9.5",
   "language": "sage",
   "name": "sagemath"
  },
  "language_info": {
   "codemirror_mode": {
    "name": "ipython",
    "version": 3
   },
   "file_extension": ".py",
   "mimetype": "text/x-python",
   "name": "python",
   "nbconvert_exporter": "python",
   "pygments_lexer": "ipython3",
   "version": "3.10.12"
  }
 },
 "nbformat": 4,
 "nbformat_minor": 5
}
