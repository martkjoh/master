{
 "cells": [
  {
   "cell_type": "code",
   "execution_count": 1,
   "id": "b35e7d13",
   "metadata": {},
   "outputs": [],
   "source": [
    "%display latex\n",
    "load(\"../three_flavor.sage\")"
   ]
  },
  {
   "cell_type": "code",
   "execution_count": 4,
   "id": "ddcb84e6",
   "metadata": {},
   "outputs": [],
   "source": [
    "n = 2\n",
    "v = v_mu\n",
    "S, Sd, dS, dSd = get_S(n, l7)\n",
    "\n",
    "COM = v*S - S*v # [v_mu, Sigma]\n",
    "COMd = Sd*v - v*Sd\n",
    "\n",
    "COM = mat_prep(COM, n)\n",
    "COMd = mat_prep(COMd, n)"
   ]
  },
  {
   "cell_type": "code",
   "execution_count": 5,
   "id": "3de1d063",
   "metadata": {},
   "outputs": [],
   "source": [
    "term1 = mat_prep(dS*(dSd), n)"
   ]
  },
  {
   "cell_type": "code",
   "execution_count": 6,
   "id": "59b566b4",
   "metadata": {},
   "outputs": [],
   "source": [
    "term2 = -I*mat_prep(dS*(-COMd) + COM*dSd, n)"
   ]
  },
  {
   "cell_type": "code",
   "execution_count": 7,
   "id": "1444827a",
   "metadata": {},
   "outputs": [],
   "source": [
    "term3 = mat_prep(COM*COMd, n)"
   ]
  },
  {
   "cell_type": "code",
   "execution_count": 17,
   "id": "73d62ad1",
   "metadata": {},
   "outputs": [
    {
     "ename": "AttributeError",
     "evalue": "'sage.symbolic.expression.Expression' object has no attribute 'trace'",
     "output_type": "error",
     "traceback": [
      "\u001b[0;31m---------------------------------------------------------------------------\u001b[0m",
      "\u001b[0;31mAttributeError\u001b[0m                            Traceback (most recent call last)",
      "\u001b[0;32m/tmp/ipykernel_171642/3232414728.py\u001b[0m in \u001b[0;36m<module>\u001b[0;34m\u001b[0m\n\u001b[0;32m----> 1\u001b[0;31m \u001b[0mterm1\u001b[0m \u001b[0;34m=\u001b[0m \u001b[0mterm1\u001b[0m\u001b[0;34m.\u001b[0m\u001b[0mtrace\u001b[0m\u001b[0;34m(\u001b[0m\u001b[0;34m)\u001b[0m\u001b[0;34m.\u001b[0m\u001b[0mfull_simplify\u001b[0m\u001b[0;34m(\u001b[0m\u001b[0;34m)\u001b[0m\u001b[0;34m.\u001b[0m\u001b[0mtrig_reduce\u001b[0m\u001b[0;34m(\u001b[0m\u001b[0;34m)\u001b[0m\u001b[0;34m\u001b[0m\u001b[0;34m\u001b[0m\u001b[0m\n\u001b[0m\u001b[1;32m      2\u001b[0m \u001b[0mterm2\u001b[0m \u001b[0;34m=\u001b[0m \u001b[0mterm2\u001b[0m\u001b[0;34m.\u001b[0m\u001b[0mtrace\u001b[0m\u001b[0;34m(\u001b[0m\u001b[0;34m)\u001b[0m\u001b[0;34m.\u001b[0m\u001b[0mfull_simplify\u001b[0m\u001b[0;34m(\u001b[0m\u001b[0;34m)\u001b[0m\u001b[0;34m.\u001b[0m\u001b[0mtrig_reduce\u001b[0m\u001b[0;34m(\u001b[0m\u001b[0;34m)\u001b[0m\u001b[0;34m\u001b[0m\u001b[0;34m\u001b[0m\u001b[0m\n\u001b[1;32m      3\u001b[0m \u001b[0mterm3\u001b[0m \u001b[0;34m=\u001b[0m \u001b[0mterm3\u001b[0m\u001b[0;34m.\u001b[0m\u001b[0mtrace\u001b[0m\u001b[0;34m(\u001b[0m\u001b[0;34m)\u001b[0m\u001b[0;34m.\u001b[0m\u001b[0mfull_simplify\u001b[0m\u001b[0;34m(\u001b[0m\u001b[0;34m)\u001b[0m\u001b[0;34m.\u001b[0m\u001b[0mtrig_reduce\u001b[0m\u001b[0;34m(\u001b[0m\u001b[0;34m)\u001b[0m\u001b[0;34m\u001b[0m\u001b[0;34m\u001b[0m\u001b[0m\n\u001b[1;32m      4\u001b[0m \u001b[0mmass_term\u001b[0m \u001b[0;34m=\u001b[0m \u001b[0;34m(\u001b[0m\u001b[0mchi\u001b[0m\u001b[0;34m*\u001b[0m\u001b[0mSd\u001b[0m \u001b[0;34m+\u001b[0m \u001b[0mS\u001b[0m\u001b[0;34m*\u001b[0m\u001b[0mchi\u001b[0m\u001b[0;34m)\u001b[0m\u001b[0;34m.\u001b[0m\u001b[0mtrace\u001b[0m\u001b[0;34m(\u001b[0m\u001b[0;34m)\u001b[0m\u001b[0;34m.\u001b[0m\u001b[0mtrig_reduce\u001b[0m\u001b[0;34m(\u001b[0m\u001b[0;34m)\u001b[0m\u001b[0;34m.\u001b[0m\u001b[0mfull_simplify\u001b[0m\u001b[0;34m(\u001b[0m\u001b[0;34m)\u001b[0m\u001b[0;34m\u001b[0m\u001b[0;34m\u001b[0m\u001b[0m\n\u001b[1;32m      5\u001b[0m \u001b[0mterm1\u001b[0m\u001b[0;34m,\u001b[0m \u001b[0mterm2\u001b[0m\u001b[0;34m,\u001b[0m \u001b[0mterm3\u001b[0m\u001b[0;34m,\u001b[0m \u001b[0mmass_term\u001b[0m \u001b[0;34m=\u001b[0m \u001b[0;34m(\u001b[0m\u001b[0mInteger\u001b[0m\u001b[0;34m(\u001b[0m\u001b[0;36m1\u001b[0m\u001b[0;34m)\u001b[0m\u001b[0;34m/\u001b[0m\u001b[0mInteger\u001b[0m\u001b[0;34m(\u001b[0m\u001b[0;36m4\u001b[0m\u001b[0;34m)\u001b[0m \u001b[0;34m*\u001b[0m \u001b[0mterm\u001b[0m \u001b[0;32mfor\u001b[0m \u001b[0mterm\u001b[0m \u001b[0;32min\u001b[0m \u001b[0;34m[\u001b[0m\u001b[0mterm1\u001b[0m\u001b[0;34m,\u001b[0m \u001b[0mterm2\u001b[0m\u001b[0;34m,\u001b[0m \u001b[0mterm3\u001b[0m\u001b[0;34m,\u001b[0m \u001b[0mmass_term\u001b[0m\u001b[0;34m]\u001b[0m\u001b[0;34m)\u001b[0m\u001b[0;34m\u001b[0m\u001b[0;34m\u001b[0m\u001b[0m\n",
      "\u001b[0;32m/usr/lib/python3/dist-packages/sage/structure/element.pyx\u001b[0m in \u001b[0;36msage.structure.element.Element.__getattr__ (build/cythonized/sage/structure/element.c:4608)\u001b[0;34m()\u001b[0m\n\u001b[1;32m    485\u001b[0m             \u001b[0mAttributeError\u001b[0m\u001b[0;34m:\u001b[0m \u001b[0;34m'LeftZeroSemigroup_with_category.element_class'\u001b[0m \u001b[0mobject\u001b[0m \u001b[0mhas\u001b[0m \u001b[0mno\u001b[0m \u001b[0mattribute\u001b[0m \u001b[0;34m'blah_blah'\u001b[0m\u001b[0;34m\u001b[0m\u001b[0;34m\u001b[0m\u001b[0m\n\u001b[1;32m    486\u001b[0m         \"\"\"\n\u001b[0;32m--> 487\u001b[0;31m         \u001b[0;32mreturn\u001b[0m \u001b[0mself\u001b[0m\u001b[0;34m.\u001b[0m\u001b[0mgetattr_from_category\u001b[0m\u001b[0;34m(\u001b[0m\u001b[0mname\u001b[0m\u001b[0;34m)\u001b[0m\u001b[0;34m\u001b[0m\u001b[0;34m\u001b[0m\u001b[0m\n\u001b[0m\u001b[1;32m    488\u001b[0m \u001b[0;34m\u001b[0m\u001b[0m\n\u001b[1;32m    489\u001b[0m     \u001b[0mcdef\u001b[0m \u001b[0mgetattr_from_category\u001b[0m\u001b[0;34m(\u001b[0m\u001b[0mself\u001b[0m\u001b[0;34m,\u001b[0m \u001b[0mname\u001b[0m\u001b[0;34m)\u001b[0m\u001b[0;34m:\u001b[0m\u001b[0;34m\u001b[0m\u001b[0;34m\u001b[0m\u001b[0m\n",
      "\u001b[0;32m/usr/lib/python3/dist-packages/sage/structure/element.pyx\u001b[0m in \u001b[0;36msage.structure.element.Element.getattr_from_category (build/cythonized/sage/structure/element.c:4717)\u001b[0;34m()\u001b[0m\n\u001b[1;32m    498\u001b[0m         \u001b[0;32melse\u001b[0m\u001b[0;34m:\u001b[0m\u001b[0;34m\u001b[0m\u001b[0;34m\u001b[0m\u001b[0m\n\u001b[1;32m    499\u001b[0m             \u001b[0mcls\u001b[0m \u001b[0;34m=\u001b[0m \u001b[0mP\u001b[0m\u001b[0;34m.\u001b[0m\u001b[0m_abstract_element_class\u001b[0m\u001b[0;34m\u001b[0m\u001b[0;34m\u001b[0m\u001b[0m\n\u001b[0;32m--> 500\u001b[0;31m         \u001b[0;32mreturn\u001b[0m \u001b[0mgetattr_from_other_class\u001b[0m\u001b[0;34m(\u001b[0m\u001b[0mself\u001b[0m\u001b[0;34m,\u001b[0m \u001b[0mcls\u001b[0m\u001b[0;34m,\u001b[0m \u001b[0mname\u001b[0m\u001b[0;34m)\u001b[0m\u001b[0;34m\u001b[0m\u001b[0;34m\u001b[0m\u001b[0m\n\u001b[0m\u001b[1;32m    501\u001b[0m \u001b[0;34m\u001b[0m\u001b[0m\n\u001b[1;32m    502\u001b[0m     \u001b[0;32mdef\u001b[0m \u001b[0m__dir__\u001b[0m\u001b[0;34m(\u001b[0m\u001b[0mself\u001b[0m\u001b[0;34m)\u001b[0m\u001b[0;34m:\u001b[0m\u001b[0;34m\u001b[0m\u001b[0;34m\u001b[0m\u001b[0m\n",
      "\u001b[0;32m/usr/lib/python3/dist-packages/sage/cpython/getattr.pyx\u001b[0m in \u001b[0;36msage.cpython.getattr.getattr_from_other_class (build/cythonized/sage/cpython/getattr.c:2614)\u001b[0;34m()\u001b[0m\n\u001b[1;32m    392\u001b[0m         \u001b[0mdummy_error_message\u001b[0m\u001b[0;34m.\u001b[0m\u001b[0mcls\u001b[0m \u001b[0;34m=\u001b[0m \u001b[0mtype\u001b[0m\u001b[0;34m(\u001b[0m\u001b[0mself\u001b[0m\u001b[0;34m)\u001b[0m\u001b[0;34m\u001b[0m\u001b[0;34m\u001b[0m\u001b[0m\n\u001b[1;32m    393\u001b[0m         \u001b[0mdummy_error_message\u001b[0m\u001b[0;34m.\u001b[0m\u001b[0mname\u001b[0m \u001b[0;34m=\u001b[0m \u001b[0mname\u001b[0m\u001b[0;34m\u001b[0m\u001b[0;34m\u001b[0m\u001b[0m\n\u001b[0;32m--> 394\u001b[0;31m         \u001b[0;32mraise\u001b[0m \u001b[0mAttributeError\u001b[0m\u001b[0;34m(\u001b[0m\u001b[0mdummy_error_message\u001b[0m\u001b[0;34m)\u001b[0m\u001b[0;34m\u001b[0m\u001b[0;34m\u001b[0m\u001b[0m\n\u001b[0m\u001b[1;32m    395\u001b[0m     \u001b[0mattribute\u001b[0m \u001b[0;34m=\u001b[0m \u001b[0;34m<\u001b[0m\u001b[0mobject\u001b[0m\u001b[0;34m>\u001b[0m\u001b[0mattr\u001b[0m\u001b[0;34m\u001b[0m\u001b[0;34m\u001b[0m\u001b[0m\n\u001b[1;32m    396\u001b[0m     \u001b[0;31m# Check for a descriptor (__get__ in Python)\u001b[0m\u001b[0;34m\u001b[0m\u001b[0;34m\u001b[0m\u001b[0;34m\u001b[0m\u001b[0m\n",
      "\u001b[0;31mAttributeError\u001b[0m: 'sage.symbolic.expression.Expression' object has no attribute 'trace'"
     ]
    }
   ],
   "source": [
    "term1 = term1.trace().full_simplify().trig_reduce()\n",
    "term2 = term2.trace().full_simplify().trig_reduce()\n",
    "term3 = term3.trace().full_simplify().trig_reduce()\n",
    "mass_term = (chi*Sd + S*chi).trace().trig_reduce().full_simplify()\n",
    "term1, term2, term3, mass_term = (1/4 * term for term in [term1, term2, term3, mass_term])"
   ]
  },
  {
   "cell_type": "code",
   "execution_count": null,
   "id": "304c1475",
   "metadata": {},
   "outputs": [],
   "source": [
    "def print_coeff(elem):\n",
    "    coeff = elem.coefficients(e)\n",
    "    for i in range(len(coeff)):\n",
    "        print(e^coeff[i][1], \":\")\n",
    "        pretty_print(coeff[i][0].full_simplify())"
   ]
  },
  {
   "cell_type": "code",
   "execution_count": null,
   "id": "241d3e44",
   "metadata": {},
   "outputs": [],
   "source": [
    "L = (term1 + term2 + term3 + mass_term).full_simplify()\n",
    "pretty_print(L.coefficients(e)[0][0])"
   ]
  },
  {
   "cell_type": "code",
   "execution_count": null,
   "id": "631b4cc8",
   "metadata": {},
   "outputs": [],
   "source": [
    "(term1).full_simplify().coefficient(e**2)"
   ]
  },
  {
   "cell_type": "code",
   "execution_count": null,
   "id": "80f6f1ec",
   "metadata": {},
   "outputs": [],
   "source": [
    "2*(term2).full_simplify().coefficient(e**2)"
   ]
  },
  {
   "cell_type": "code",
   "execution_count": null,
   "id": "3a72249b",
   "metadata": {},
   "outputs": [],
   "source": [
    "term3.full_simplify().coefficient(e**2)"
   ]
  },
  {
   "cell_type": "code",
   "execution_count": 18,
   "id": "0bc664ae",
   "metadata": {},
   "outputs": [
    {
     "data": {
      "text/html": [
       "<html><script type=\"math/tex; mode=display\">\\newcommand{\\Bold}[1]{\\mathbf{#1}}-\\frac{1}{8} \\, {\\left(f^{2} {\\bar m}^{2} {\\left(\\cos\\left({\\alpha}\\right) + 3\\right)} + {\\Delta m}^{2} f^{2} {\\left(\\cos\\left({\\alpha}\\right) - 1\\right)} + f^{2} {m_S}^{2} {\\left(\\cos\\left({\\alpha}\\right) - 1\\right)}\\right)} {\\varphi_1}^{2} - \\frac{1}{8} \\, {\\left(f^{2} {\\bar m}^{2} {\\left(\\cos\\left({\\alpha}\\right) + 3\\right)} + {\\Delta m}^{2} f^{2} {\\left(\\cos\\left({\\alpha}\\right) - 1\\right)} + f^{2} {m_S}^{2} {\\left(\\cos\\left({\\alpha}\\right) - 1\\right)}\\right)} {\\varphi_2}^{2} - \\frac{1}{8} \\, {\\left(f^{2} {\\bar m}^{2} {\\left(\\cos\\left({\\alpha}\\right) + 3\\right)} + {\\Delta m}^{2} f^{2} {\\left(\\cos\\left({\\alpha}\\right) - 1\\right)} + f^{2} {m_S}^{2} {\\left(\\cos\\left({\\alpha}\\right) - 1\\right)}\\right)} {\\varphi_3}^{2} - \\frac{1}{8} \\, {\\left(f^{2} {m_S}^{2} {\\left(\\cos\\left({\\alpha}\\right) + 1\\right)} + f^{2} {\\bar m}^{2} {\\left(\\cos\\left({\\alpha}\\right) + 1\\right)} + {\\Delta m}^{2} f^{2} {\\left(\\cos\\left({\\alpha}\\right) - 3\\right)}\\right)} {\\varphi_4}^{2} - \\frac{1}{8} \\, {\\left(f^{2} {m_S}^{2} {\\left(\\cos\\left({\\alpha}\\right) + 1\\right)} + f^{2} {\\bar m}^{2} {\\left(\\cos\\left({\\alpha}\\right) + 1\\right)} + {\\Delta m}^{2} f^{2} {\\left(\\cos\\left({\\alpha}\\right) - 3\\right)}\\right)} {\\varphi_5}^{2} - \\frac{1}{4} \\, {\\left({\\Delta m}^{2} f^{2} \\cos\\left({\\alpha}\\right) + f^{2} {m_S}^{2} \\cos\\left({\\alpha}\\right) + f^{2} {\\bar m}^{2} \\cos\\left({\\alpha}\\right)\\right)} {\\varphi_6}^{2} - \\frac{1}{4} \\, {\\left({\\Delta m}^{2} f^{2} \\cos\\left({\\alpha}\\right) + f^{2} {m_S}^{2} \\cos\\left({\\alpha}\\right) + f^{2} {\\bar m}^{2} \\cos\\left({\\alpha}\\right)\\right)} {\\varphi_7}^{2} + \\frac{1}{12} \\, {\\left({\\left(\\sqrt{3} \\cos\\left({\\alpha}\\right) + 3 \\, \\sqrt{3}\\right)} {\\Delta m}^{2} f^{2} + {\\left(\\sqrt{3} \\cos\\left({\\alpha}\\right) - \\sqrt{3}\\right)} f^{2} {m_S}^{2} + {\\left(\\sqrt{3} \\cos\\left({\\alpha}\\right) - \\sqrt{3}\\right)} f^{2} {\\bar m}^{2}\\right)} {\\varphi_3} {\\varphi_8} - \\frac{1}{24} \\, {\\left(f^{2} {m_S}^{2} {\\left(5 \\, \\cos\\left({\\alpha}\\right) + 3\\right)} + f^{2} {\\bar m}^{2} {\\left(5 \\, \\cos\\left({\\alpha}\\right) - 1\\right)} + 5 \\, {\\Delta m}^{2} f^{2} {\\left(\\cos\\left({\\alpha}\\right) - 1\\right)}\\right)} {\\varphi_8}^{2}</script></html>"
      ],
      "text/plain": [
       "-1/8*(f^2*mbar^2*(cos(a) + 3) + dm^2*f^2*(cos(a) - 1) + f^2*mS^2*(cos(a) - 1))*phi1^2 - 1/8*(f^2*mbar^2*(cos(a) + 3) + dm^2*f^2*(cos(a) - 1) + f^2*mS^2*(cos(a) - 1))*phi2^2 - 1/8*(f^2*mbar^2*(cos(a) + 3) + dm^2*f^2*(cos(a) - 1) + f^2*mS^2*(cos(a) - 1))*phi3^2 - 1/8*(f^2*mS^2*(cos(a) + 1) + f^2*mbar^2*(cos(a) + 1) + dm^2*f^2*(cos(a) - 3))*phi4^2 - 1/8*(f^2*mS^2*(cos(a) + 1) + f^2*mbar^2*(cos(a) + 1) + dm^2*f^2*(cos(a) - 3))*phi5^2 - 1/4*(dm^2*f^2*cos(a) + f^2*mS^2*cos(a) + f^2*mbar^2*cos(a))*phi6^2 - 1/4*(dm^2*f^2*cos(a) + f^2*mS^2*cos(a) + f^2*mbar^2*cos(a))*phi7^2 + 1/12*((sqrt(3)*cos(a) + 3*sqrt(3))*dm^2*f^2 + (sqrt(3)*cos(a) - sqrt(3))*f^2*mS^2 + (sqrt(3)*cos(a) - sqrt(3))*f^2*mbar^2)*phi3*phi8 - 1/24*(f^2*mS^2*(5*cos(a) + 3) + f^2*mbar^2*(5*cos(a) - 1) + 5*dm^2*f^2*(cos(a) - 1))*phi8^2"
      ]
     },
     "execution_count": 18,
     "metadata": {},
     "output_type": "execute_result"
    }
   ],
   "source": [
    "mass_term.full_simplify().coefficient(e**2)"
   ]
  },
  {
   "cell_type": "code",
   "execution_count": 19,
   "id": "769e5eb7",
   "metadata": {},
   "outputs": [
    {
     "data": {
      "text/html": [
       "<html><script type=\"math/tex; mode=display\">\\newcommand{\\Bold}[1]{\\mathbf{#1}}\\frac{1}{8} \\, {\\left({\\left(\\sin\\left({\\alpha}\\right)^{2} - 3 \\, \\cos\\left({\\alpha}\\right) - 5\\right)} {\\delta}^{2} f^{2} {\\mu_I}^{2} - 4 \\, {\\left(\\sin\\left({\\alpha}\\right)^{2} - \\cos\\left({\\alpha}\\right) + 1\\right)} {\\delta}^{2} f^{2} {\\mu_I} {\\mu_S} + 4 \\, {\\left(\\sin\\left({\\alpha}\\right)^{2} + \\cos\\left({\\alpha}\\right) - 1\\right)} {\\delta}^{2} f^{2} {\\mu_S}^{2} + 2 \\, f^{2} {\\bar m}^{2} {\\left(\\cos\\left({\\alpha}\\right) + 3\\right)} + 2 \\, {\\Delta m}^{2} f^{2} {\\left(\\cos\\left({\\alpha}\\right) - 1\\right)} + 2 \\, f^{2} {m_S}^{2} {\\left(\\cos\\left({\\alpha}\\right) - 1\\right)}\\right)} {\\varphi_1}^{2} + \\frac{1}{8} \\, {\\left({\\left(\\sin\\left({\\alpha}\\right)^{2} - 3 \\, \\cos\\left({\\alpha}\\right) - 5\\right)} {\\delta}^{2} f^{2} {\\mu_I}^{2} - 4 \\, {\\left(\\sin\\left({\\alpha}\\right)^{2} - \\cos\\left({\\alpha}\\right) + 1\\right)} {\\delta}^{2} f^{2} {\\mu_I} {\\mu_S} + 4 \\, {\\left(\\sin\\left({\\alpha}\\right)^{2} + \\cos\\left({\\alpha}\\right) - 1\\right)} {\\delta}^{2} f^{2} {\\mu_S}^{2} + 2 \\, f^{2} {\\bar m}^{2} {\\left(\\cos\\left({\\alpha}\\right) + 3\\right)} + 2 \\, {\\Delta m}^{2} f^{2} {\\left(\\cos\\left({\\alpha}\\right) - 1\\right)} + 2 \\, f^{2} {m_S}^{2} {\\left(\\cos\\left({\\alpha}\\right) - 1\\right)}\\right)} {\\varphi_2}^{2} + \\frac{1}{16} \\, {\\left({\\delta}^{2} f^{2} {\\mu_I}^{2} \\sin\\left({\\alpha}\\right)^{2} - 4 \\, {\\delta}^{2} f^{2} {\\mu_I} {\\mu_S} \\sin\\left({\\alpha}\\right)^{2} + 4 \\, {\\delta}^{2} f^{2} {\\mu_S}^{2} \\sin\\left({\\alpha}\\right)^{2} + 4 \\, f^{2} {\\bar m}^{2} {\\left(\\cos\\left({\\alpha}\\right) + 3\\right)} + 4 \\, {\\Delta m}^{2} f^{2} {\\left(\\cos\\left({\\alpha}\\right) - 1\\right)} + 4 \\, f^{2} {m_S}^{2} {\\left(\\cos\\left({\\alpha}\\right) - 1\\right)}\\right)} {\\varphi_3}^{2} + \\frac{1}{8} \\, {\\left({\\left(\\sin\\left({\\alpha}\\right)^{2} + 3 \\, \\cos\\left({\\alpha}\\right) - 5\\right)} {\\delta}^{2} f^{2} {\\mu_I}^{2} - 4 \\, {\\left(\\sin\\left({\\alpha}\\right)^{2} + \\cos\\left({\\alpha}\\right) + 1\\right)} {\\delta}^{2} f^{2} {\\mu_I} {\\mu_S} + 4 \\, {\\left(\\sin\\left({\\alpha}\\right)^{2} - \\cos\\left({\\alpha}\\right) - 1\\right)} {\\delta}^{2} f^{2} {\\mu_S}^{2} + 2 \\, f^{2} {m_S}^{2} {\\left(\\cos\\left({\\alpha}\\right) + 1\\right)} + 2 \\, f^{2} {\\bar m}^{2} {\\left(\\cos\\left({\\alpha}\\right) + 1\\right)} + 2 \\, {\\Delta m}^{2} f^{2} {\\left(\\cos\\left({\\alpha}\\right) - 3\\right)}\\right)} {\\varphi_4}^{2} + \\frac{1}{8} \\, {\\left({\\left(\\sin\\left({\\alpha}\\right)^{2} + 3 \\, \\cos\\left({\\alpha}\\right) - 5\\right)} {\\delta}^{2} f^{2} {\\mu_I}^{2} - 4 \\, {\\left(\\sin\\left({\\alpha}\\right)^{2} + \\cos\\left({\\alpha}\\right) + 1\\right)} {\\delta}^{2} f^{2} {\\mu_I} {\\mu_S} + 4 \\, {\\left(\\sin\\left({\\alpha}\\right)^{2} - \\cos\\left({\\alpha}\\right) - 1\\right)} {\\delta}^{2} f^{2} {\\mu_S}^{2} + 2 \\, f^{2} {m_S}^{2} {\\left(\\cos\\left({\\alpha}\\right) + 1\\right)} + 2 \\, f^{2} {\\bar m}^{2} {\\left(\\cos\\left({\\alpha}\\right) + 1\\right)} + 2 \\, {\\Delta m}^{2} f^{2} {\\left(\\cos\\left({\\alpha}\\right) - 3\\right)}\\right)} {\\varphi_5}^{2} + \\frac{1}{4} \\, {\\left({\\left(\\sin\\left({\\alpha}\\right)^{2} - 1\\right)} {\\delta}^{2} f^{2} {\\mu_I}^{2} - 4 \\, {\\left(\\sin\\left({\\alpha}\\right)^{2} - 1\\right)} {\\delta}^{2} f^{2} {\\mu_I} {\\mu_S} + 4 \\, {\\left(\\sin\\left({\\alpha}\\right)^{2} - 1\\right)} {\\delta}^{2} f^{2} {\\mu_S}^{2} + 2 \\, {\\Delta m}^{2} f^{2} \\cos\\left({\\alpha}\\right) + 2 \\, f^{2} {m_S}^{2} \\cos\\left({\\alpha}\\right) + 2 \\, f^{2} {\\bar m}^{2} \\cos\\left({\\alpha}\\right)\\right)} {\\varphi_6}^{2} + \\frac{1}{4} \\, {\\left({\\left(2 \\, \\sin\\left({\\alpha}\\right)^{2} - 1\\right)} {\\delta}^{2} f^{2} {\\mu_I}^{2} - 4 \\, {\\left(2 \\, \\sin\\left({\\alpha}\\right)^{2} - 1\\right)} {\\delta}^{2} f^{2} {\\mu_I} {\\mu_S} + 4 \\, {\\left(2 \\, \\sin\\left({\\alpha}\\right)^{2} - 1\\right)} {\\delta}^{2} f^{2} {\\mu_S}^{2} + 2 \\, {\\Delta m}^{2} f^{2} \\cos\\left({\\alpha}\\right) + 2 \\, f^{2} {m_S}^{2} \\cos\\left({\\alpha}\\right) + 2 \\, f^{2} {\\bar m}^{2} \\cos\\left({\\alpha}\\right)\\right)} {\\varphi_7}^{2} - \\frac{1}{24} \\, {\\left(3 \\, \\sqrt{3} {\\delta}^{2} f^{2} {\\mu_I}^{2} \\sin\\left({\\alpha}\\right)^{2} - 12 \\, \\sqrt{3} {\\delta}^{2} f^{2} {\\mu_I} {\\mu_S} \\sin\\left({\\alpha}\\right)^{2} + 12 \\, \\sqrt{3} {\\delta}^{2} f^{2} {\\mu_S}^{2} \\sin\\left({\\alpha}\\right)^{2} + 4 \\, {\\left(\\sqrt{3} \\cos\\left({\\alpha}\\right) + 3 \\, \\sqrt{3}\\right)} {\\Delta m}^{2} f^{2} + 4 \\, {\\left(\\sqrt{3} \\cos\\left({\\alpha}\\right) - \\sqrt{3}\\right)} f^{2} {m_S}^{2} + 4 \\, {\\left(\\sqrt{3} \\cos\\left({\\alpha}\\right) - \\sqrt{3}\\right)} f^{2} {\\bar m}^{2}\\right)} {\\varphi_3} {\\varphi_8} + \\frac{1}{48} \\, {\\left(9 \\, {\\delta}^{2} f^{2} {\\mu_I}^{2} \\sin\\left({\\alpha}\\right)^{2} - 36 \\, {\\delta}^{2} f^{2} {\\mu_I} {\\mu_S} \\sin\\left({\\alpha}\\right)^{2} + 36 \\, {\\delta}^{2} f^{2} {\\mu_S}^{2} \\sin\\left({\\alpha}\\right)^{2} + 4 \\, f^{2} {m_S}^{2} {\\left(5 \\, \\cos\\left({\\alpha}\\right) + 3\\right)} + 4 \\, f^{2} {\\bar m}^{2} {\\left(5 \\, \\cos\\left({\\alpha}\\right) - 1\\right)} + 20 \\, {\\Delta m}^{2} f^{2} {\\left(\\cos\\left({\\alpha}\\right) - 1\\right)}\\right)} {\\varphi_8}^{2}</script></html>"
      ],
      "text/plain": [
       "1/8*((sin(a)^2 - 3*cos(a) - 5)*d^2*f^2*muI^2 - 4*(sin(a)^2 - cos(a) + 1)*d^2*f^2*muI*muS + 4*(sin(a)^2 + cos(a) - 1)*d^2*f^2*muS^2 + 2*f^2*mbar^2*(cos(a) + 3) + 2*dm^2*f^2*(cos(a) - 1) + 2*f^2*mS^2*(cos(a) - 1))*phi1^2 + 1/8*((sin(a)^2 - 3*cos(a) - 5)*d^2*f^2*muI^2 - 4*(sin(a)^2 - cos(a) + 1)*d^2*f^2*muI*muS + 4*(sin(a)^2 + cos(a) - 1)*d^2*f^2*muS^2 + 2*f^2*mbar^2*(cos(a) + 3) + 2*dm^2*f^2*(cos(a) - 1) + 2*f^2*mS^2*(cos(a) - 1))*phi2^2 + 1/16*(d^2*f^2*muI^2*sin(a)^2 - 4*d^2*f^2*muI*muS*sin(a)^2 + 4*d^2*f^2*muS^2*sin(a)^2 + 4*f^2*mbar^2*(cos(a) + 3) + 4*dm^2*f^2*(cos(a) - 1) + 4*f^2*mS^2*(cos(a) - 1))*phi3^2 + 1/8*((sin(a)^2 + 3*cos(a) - 5)*d^2*f^2*muI^2 - 4*(sin(a)^2 + cos(a) + 1)*d^2*f^2*muI*muS + 4*(sin(a)^2 - cos(a) - 1)*d^2*f^2*muS^2 + 2*f^2*mS^2*(cos(a) + 1) + 2*f^2*mbar^2*(cos(a) + 1) + 2*dm^2*f^2*(cos(a) - 3))*phi4^2 + 1/8*((sin(a)^2 + 3*cos(a) - 5)*d^2*f^2*muI^2 - 4*(sin(a)^2 + cos(a) + 1)*d^2*f^2*muI*muS + 4*(sin(a)^2 - cos(a) - 1)*d^2*f^2*muS^2 + 2*f^2*mS^2*(cos(a) + 1) + 2*f^2*mbar^2*(cos(a) + 1) + 2*dm^2*f^2*(cos(a) - 3))*phi5^2 + 1/4*((sin(a)^2 - 1)*d^2*f^2*muI^2 - 4*(sin(a)^2 - 1)*d^2*f^2*muI*muS + 4*(sin(a)^2 - 1)*d^2*f^2*muS^2 + 2*dm^2*f^2*cos(a) + 2*f^2*mS^2*cos(a) + 2*f^2*mbar^2*cos(a))*phi6^2 + 1/4*((2*sin(a)^2 - 1)*d^2*f^2*muI^2 - 4*(2*sin(a)^2 - 1)*d^2*f^2*muI*muS + 4*(2*sin(a)^2 - 1)*d^2*f^2*muS^2 + 2*dm^2*f^2*cos(a) + 2*f^2*mS^2*cos(a) + 2*f^2*mbar^2*cos(a))*phi7^2 - 1/24*(3*sqrt(3)*d^2*f^2*muI^2*sin(a)^2 - 12*sqrt(3)*d^2*f^2*muI*muS*sin(a)^2 + 12*sqrt(3)*d^2*f^2*muS^2*sin(a)^2 + 4*(sqrt(3)*cos(a) + 3*sqrt(3))*dm^2*f^2 + 4*(sqrt(3)*cos(a) - sqrt(3))*f^2*mS^2 + 4*(sqrt(3)*cos(a) - sqrt(3))*f^2*mbar^2)*phi3*phi8 + 1/48*(9*d^2*f^2*muI^2*sin(a)^2 - 36*d^2*f^2*muI*muS*sin(a)^2 + 36*d^2*f^2*muS^2*sin(a)^2 + 4*f^2*mS^2*(5*cos(a) + 3) + 4*f^2*mbar^2*(5*cos(a) - 1) + 20*dm^2*f^2*(cos(a) - 1))*phi8^2"
      ]
     },
     "execution_count": 19,
     "metadata": {},
     "output_type": "execute_result"
    }
   ],
   "source": [
    "-2*(term3 + mass_term).coefficient(e**2).full_simplify()"
   ]
  },
  {
   "cell_type": "code",
   "execution_count": 16,
   "id": "1ce74b7f",
   "metadata": {},
   "outputs": [
    {
     "data": {
      "text/latex": [
       "$$ \\frac{1}{16} \\, {\\left({\\left(\\cos\\left({\\alpha}\\right)^{2} + 3 \\, \\cos\\left({\\alpha}\\right) + 4\\right)} f^{2} {\\mu_I}^{2} - 4 \\, {\\left(\\cos\\left({\\alpha}\\right)^{2} + \\cos\\left({\\alpha}\\right) - 2\\right)} f^{2} {\\mu_I} {\\mu_S} + 4 \\, {\\left(\\cos\\left({\\alpha}\\right)^{2} - \\cos\\left({\\alpha}\\right)\\right)} f^{2} {\\mu_S}^{2} - 2 \\, f^{2} {\\bar m}^{2} {\\left(\\cos\\left({\\alpha}\\right) + 3\\right)} - 2 \\, {\\Delta m}^{2} f^{2} {\\left(\\cos\\left({\\alpha}\\right) - 1\\right)} - 2 \\, f^{2} {m_S}^{2} {\\left(\\cos\\left({\\alpha}\\right) - 1\\right)}\\right)} {\\varphi_1}^{2} $$"
      ],
      "text/plain": [
       "<IPython.core.display.Latex object>"
      ]
     },
     "metadata": {},
     "output_type": "display_data"
    },
    {
     "data": {
      "text/latex": [
       "$$ \\frac{1}{16} \\, {\\left({\\left(\\cos\\left({\\alpha}\\right)^{2} + 3 \\, \\cos\\left({\\alpha}\\right) + 4\\right)} f^{2} {\\mu_I}^{2} - 4 \\, {\\left(\\cos\\left({\\alpha}\\right)^{2} + \\cos\\left({\\alpha}\\right) - 2\\right)} f^{2} {\\mu_I} {\\mu_S} + 4 \\, {\\left(\\cos\\left({\\alpha}\\right)^{2} - \\cos\\left({\\alpha}\\right)\\right)} f^{2} {\\mu_S}^{2} - 2 \\, f^{2} {\\bar m}^{2} {\\left(\\cos\\left({\\alpha}\\right) + 3\\right)} - 2 \\, {\\Delta m}^{2} f^{2} {\\left(\\cos\\left({\\alpha}\\right) - 1\\right)} - 2 \\, f^{2} {m_S}^{2} {\\left(\\cos\\left({\\alpha}\\right) - 1\\right)}\\right)} {\\varphi_2}^{2} $$"
      ],
      "text/plain": [
       "<IPython.core.display.Latex object>"
      ]
     },
     "metadata": {},
     "output_type": "display_data"
    },
    {
     "data": {
      "text/latex": [
       "$$ -\\frac{1}{32} \\, {\\left(f^{2} {\\mu_I}^{2} \\sin\\left({\\alpha}\\right)^{2} - 4 \\, f^{2} {\\mu_I} {\\mu_S} \\sin\\left({\\alpha}\\right)^{2} + 4 \\, f^{2} {\\mu_S}^{2} \\sin\\left({\\alpha}\\right)^{2} + 4 \\, f^{2} {\\bar m}^{2} {\\left(\\cos\\left({\\alpha}\\right) + 3\\right)} + 4 \\, {\\Delta m}^{2} f^{2} {\\left(\\cos\\left({\\alpha}\\right) - 1\\right)} + 4 \\, f^{2} {m_S}^{2} {\\left(\\cos\\left({\\alpha}\\right) - 1\\right)}\\right)} {\\varphi_3}^{2} $$"
      ],
      "text/plain": [
       "<IPython.core.display.Latex object>"
      ]
     },
     "metadata": {},
     "output_type": "display_data"
    },
    {
     "data": {
      "text/latex": [
       "$$ \\frac{1}{16} \\, {\\left({\\left(\\cos\\left({\\alpha}\\right)^{2} - 3 \\, \\cos\\left({\\alpha}\\right) + 4\\right)} f^{2} {\\mu_I}^{2} - 4 \\, {\\left(\\cos\\left({\\alpha}\\right)^{2} - \\cos\\left({\\alpha}\\right) - 2\\right)} f^{2} {\\mu_I} {\\mu_S} + 4 \\, {\\left(\\cos\\left({\\alpha}\\right)^{2} + \\cos\\left({\\alpha}\\right)\\right)} f^{2} {\\mu_S}^{2} - 2 \\, f^{2} {m_S}^{2} {\\left(\\cos\\left({\\alpha}\\right) + 1\\right)} - 2 \\, f^{2} {\\bar m}^{2} {\\left(\\cos\\left({\\alpha}\\right) + 1\\right)} - 2 \\, {\\Delta m}^{2} f^{2} {\\left(\\cos\\left({\\alpha}\\right) - 3\\right)}\\right)} {\\varphi_4}^{2} $$"
      ],
      "text/plain": [
       "<IPython.core.display.Latex object>"
      ]
     },
     "metadata": {},
     "output_type": "display_data"
    },
    {
     "data": {
      "text/latex": [
       "$$ \\frac{1}{16} \\, {\\left({\\left(\\cos\\left({\\alpha}\\right)^{2} - 3 \\, \\cos\\left({\\alpha}\\right) + 4\\right)} f^{2} {\\mu_I}^{2} - 4 \\, {\\left(\\cos\\left({\\alpha}\\right)^{2} - \\cos\\left({\\alpha}\\right) - 2\\right)} f^{2} {\\mu_I} {\\mu_S} + 4 \\, {\\left(\\cos\\left({\\alpha}\\right)^{2} + \\cos\\left({\\alpha}\\right)\\right)} f^{2} {\\mu_S}^{2} - 2 \\, f^{2} {m_S}^{2} {\\left(\\cos\\left({\\alpha}\\right) + 1\\right)} - 2 \\, f^{2} {\\bar m}^{2} {\\left(\\cos\\left({\\alpha}\\right) + 1\\right)} - 2 \\, {\\Delta m}^{2} f^{2} {\\left(\\cos\\left({\\alpha}\\right) - 3\\right)}\\right)} {\\varphi_5}^{2} $$"
      ],
      "text/plain": [
       "<IPython.core.display.Latex object>"
      ]
     },
     "metadata": {},
     "output_type": "display_data"
    },
    {
     "data": {
      "text/latex": [
       "$$ \\frac{1}{8} \\, {\\left(f^{2} {\\mu_I}^{2} \\cos\\left({\\alpha}\\right)^{2} - 4 \\, f^{2} {\\mu_I} {\\mu_S} \\cos\\left({\\alpha}\\right)^{2} + 4 \\, f^{2} {\\mu_S}^{2} \\cos\\left({\\alpha}\\right)^{2} - 2 \\, {\\Delta m}^{2} f^{2} \\cos\\left({\\alpha}\\right) - 2 \\, f^{2} {m_S}^{2} \\cos\\left({\\alpha}\\right) - 2 \\, f^{2} {\\bar m}^{2} \\cos\\left({\\alpha}\\right)\\right)} {\\varphi_6}^{2} $$"
      ],
      "text/plain": [
       "<IPython.core.display.Latex object>"
      ]
     },
     "metadata": {},
     "output_type": "display_data"
    },
    {
     "data": {
      "text/latex": [
       "$$ \\frac{1}{8} \\, {\\left({\\left(2 \\, \\cos\\left({\\alpha}\\right)^{2} - 1\\right)} f^{2} {\\mu_I}^{2} - 4 \\, {\\left(2 \\, \\cos\\left({\\alpha}\\right)^{2} - 1\\right)} f^{2} {\\mu_I} {\\mu_S} + 4 \\, {\\left(2 \\, \\cos\\left({\\alpha}\\right)^{2} - 1\\right)} f^{2} {\\mu_S}^{2} - 2 \\, {\\Delta m}^{2} f^{2} \\cos\\left({\\alpha}\\right) - 2 \\, f^{2} {m_S}^{2} \\cos\\left({\\alpha}\\right) - 2 \\, f^{2} {\\bar m}^{2} \\cos\\left({\\alpha}\\right)\\right)} {\\varphi_7}^{2} $$"
      ],
      "text/plain": [
       "<IPython.core.display.Latex object>"
      ]
     },
     "metadata": {},
     "output_type": "display_data"
    },
    {
     "data": {
      "text/latex": [
       "$$ -\\frac{1}{96} \\, {\\left(9 \\, f^{2} {\\mu_I}^{2} \\sin\\left({\\alpha}\\right)^{2} - 36 \\, f^{2} {\\mu_I} {\\mu_S} \\sin\\left({\\alpha}\\right)^{2} + 36 \\, f^{2} {\\mu_S}^{2} \\sin\\left({\\alpha}\\right)^{2} + 4 \\, f^{2} {m_S}^{2} {\\left(5 \\, \\cos\\left({\\alpha}\\right) + 3\\right)} + 4 \\, f^{2} {\\bar m}^{2} {\\left(5 \\, \\cos\\left({\\alpha}\\right) - 1\\right)} + 20 \\, {\\Delta m}^{2} f^{2} {\\left(\\cos\\left({\\alpha}\\right) - 1\\right)}\\right)} {\\varphi_8}^{2} $$"
      ],
      "text/plain": [
       "<IPython.core.display.Latex object>"
      ]
     },
     "metadata": {},
     "output_type": "display_data"
    }
   ],
   "source": [
    "for p in pvar:\n",
    "    pprint(((term3+mass_term)).coefficient(p**2).subs(e==1).subs(d==1).trig_reduce().full_simplify() * p**2)"
   ]
  },
  {
   "cell_type": "code",
   "execution_count": null,
   "id": "cf735e1a",
   "metadata": {},
   "outputs": [],
   "source": []
  }
 ],
 "metadata": {
  "kernelspec": {
   "display_name": "SageMath 9.0",
   "language": "sage",
   "name": "sagemath"
  },
  "language_info": {
   "codemirror_mode": {
    "name": "ipython",
    "version": 3
   },
   "file_extension": ".py",
   "mimetype": "text/x-python",
   "name": "python",
   "nbconvert_exporter": "python",
   "pygments_lexer": "ipython3",
   "version": "3.8.10"
  }
 },
 "nbformat": 4,
 "nbformat_minor": 5
}
