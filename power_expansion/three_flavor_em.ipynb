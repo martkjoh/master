{
 "cells": [
  {
   "cell_type": "code",
   "execution_count": 2,
   "id": "b35e7d13",
   "metadata": {},
   "outputs": [],
   "source": [
    "%display latex\n",
    "load(\"three_flavor.sage\")"
   ]
  },
  {
   "cell_type": "code",
   "execution_count": 3,
   "id": "ddcb84e6",
   "metadata": {},
   "outputs": [],
   "source": [
    "n = 2\n",
    "v = v_em\n",
    "\n",
    "exp_l_a = lambda l, a: (one - l**2) + l**2 * cos(a) + i *l * sin(a)\n",
    "# pion condensate\n",
    "A = exp_l_a(l2, a/2)\n",
    "U = lambda n: EXP(I * pi_s/f, n)\n",
    "U_d = lambda n: EXP(-I * pi_s/f, n)\n",
    "\n",
    "SIGMA = lambda n: mat_prep(A * U(n) * A, n)\n",
    "SIGMA_d = lambda n: mat_prep(A.C.T * U_d(n) * A.C.T, n)"
   ]
  },
  {
   "cell_type": "code",
   "execution_count": 4,
   "id": "1330e164",
   "metadata": {},
   "outputs": [
    {
     "data": {
      "text/html": [
       "<html><script type=\"math/tex; mode=display\">\\newcommand{\\Bold}[1]{\\mathbf{#1}}\\left(\\begin{array}{rrr}\n",
       "\\frac{2}{3} \\, {\\mathcal A_\\mu} {e} & 0 & 0 \\\\\n",
       "0 & -\\frac{1}{3} \\, {\\mathcal A_\\mu} {e} & 0 \\\\\n",
       "0 & 0 & -\\frac{1}{3} \\, {\\mathcal A_\\mu} {e}\n",
       "\\end{array}\\right)</script></html>"
      ],
      "text/plain": [
       "[ 2/3*A*qe         0         0]\n",
       "[        0 -1/3*A*qe         0]\n",
       "[        0         0 -1/3*A*qe]"
      ]
     },
     "execution_count": 4,
     "metadata": {},
     "output_type": "execute_result"
    }
   ],
   "source": [
    "S = U(n)\n",
    "Sd = U_d(n)\n",
    "v"
   ]
  },
  {
   "cell_type": "code",
   "execution_count": 5,
   "id": "0e321b7f",
   "metadata": {},
   "outputs": [],
   "source": [
    "dS = diff(S, x) # nabla_mu Sigma\n",
    "dSd = diff(Sd, x)\n",
    "COM = v*S - S*v # [v_mu, Sigma]\n",
    "COMd = Sd*v - v*Sd"
   ]
  },
  {
   "cell_type": "code",
   "execution_count": 6,
   "id": "1ec54d71",
   "metadata": {},
   "outputs": [],
   "source": [
    "dS = mat_prep(dS, n)\n",
    "dSd = mat_prep(dSd, n)\n",
    "COM = mat_prep(COM, n)\n",
    "COMd = mat_prep(COMd, n)"
   ]
  },
  {
   "cell_type": "code",
   "execution_count": 7,
   "id": "73d62ad1",
   "metadata": {},
   "outputs": [],
   "source": [
    "term1 = mat_prep(dS*(dSd), n) \n",
    "term2 = -I*mat_prep(dS*(-COMd) + COM*dSd, n)\n",
    "term3 = mat_prep(COM*COMd, n)\n",
    "\n",
    "term1 = term1.trace().trig_reduce().full_simplify()\n",
    "term2 = term2.trace().trig_reduce().full_simplify()\n",
    "term3 = term3.trace().trig_reduce().full_simplify()\n",
    "\n",
    "mass_term = (chi*Sd + S*chi).trace().trig_reduce().full_simplify()\n",
    "em_term = qe**2*C*(Q*S*Q*Sd)\n",
    "em_term = mat_prep(em_term, n).trace().full_simplify()\n",
    "\n",
    "term1, term2, term3, mass_term = (f^2/4 * term for term in [term1, term2, term3, mass_term])"
   ]
  },
  {
   "cell_type": "code",
   "execution_count": 8,
   "id": "3f491782",
   "metadata": {},
   "outputs": [
    {
     "data": {
      "text/html": [
       "<html><script type=\"math/tex; mode=display\">\\newcommand{\\Bold}[1]{\\mathbf{#1}}\\frac{1}{2} \\, {\\varepsilon}^{2} \\frac{\\partial}{\\partial x}\\pi_{1}\\left(x\\right)^{2} + \\frac{1}{2} \\, {\\varepsilon}^{2} \\frac{\\partial}{\\partial x}\\pi_{2}\\left(x\\right)^{2} + \\frac{1}{2} \\, {\\varepsilon}^{2} \\frac{\\partial}{\\partial x}\\pi_{3}\\left(x\\right)^{2} + \\frac{1}{2} \\, {\\varepsilon}^{2} \\frac{\\partial}{\\partial x}\\pi_{4}\\left(x\\right)^{2} + \\frac{1}{2} \\, {\\varepsilon}^{2} \\frac{\\partial}{\\partial x}\\pi_{5}\\left(x\\right)^{2} + \\frac{1}{2} \\, {\\varepsilon}^{2} \\frac{\\partial}{\\partial x}\\pi_{6}\\left(x\\right)^{2} + \\frac{1}{2} \\, {\\varepsilon}^{2} \\frac{\\partial}{\\partial x}\\pi_{7}\\left(x\\right)^{2} + \\frac{1}{2} \\, {\\varepsilon}^{2} \\frac{\\partial}{\\partial x}\\pi_{8}\\left(x\\right)^{2}</script></html>"
      ],
      "text/plain": [
       "1/2*e^2*diff(pi1(x), x)^2 + 1/2*e^2*diff(pi2(x), x)^2 + 1/2*e^2*diff(pi3(x), x)^2 + 1/2*e^2*diff(pi4(x), x)^2 + 1/2*e^2*diff(pi5(x), x)^2 + 1/2*e^2*diff(pi6(x), x)^2 + 1/2*e^2*diff(pi7(x), x)^2 + 1/2*e^2*diff(pi8(x), x)^2"
      ]
     },
     "execution_count": 8,
     "metadata": {},
     "output_type": "execute_result"
    }
   ],
   "source": [
    "term1"
   ]
  },
  {
   "cell_type": "code",
   "execution_count": 9,
   "id": "50f2648a",
   "metadata": {},
   "outputs": [
    {
     "data": {
      "text/html": [
       "<html><script type=\"math/tex; mode=display\">\\newcommand{\\Bold}[1]{\\mathbf{#1}}-{\\mathcal A_\\mu} {\\varepsilon}^{2} {e} \\pi_{2}\\left(x\\right) \\frac{\\partial}{\\partial x}\\pi_{1}\\left(x\\right) + {\\mathcal A_\\mu} {\\varepsilon}^{2} {e} \\pi_{1}\\left(x\\right) \\frac{\\partial}{\\partial x}\\pi_{2}\\left(x\\right) - {\\mathcal A_\\mu} {\\varepsilon}^{2} {e} \\pi_{5}\\left(x\\right) \\frac{\\partial}{\\partial x}\\pi_{4}\\left(x\\right) + {\\mathcal A_\\mu} {\\varepsilon}^{2} {e} \\pi_{4}\\left(x\\right) \\frac{\\partial}{\\partial x}\\pi_{5}\\left(x\\right)</script></html>"
      ],
      "text/plain": [
       "-A*e^2*qe*pi2(x)*diff(pi1(x), x) + A*e^2*qe*pi1(x)*diff(pi2(x), x) - A*e^2*qe*pi5(x)*diff(pi4(x), x) + A*e^2*qe*pi4(x)*diff(pi5(x), x)"
      ]
     },
     "execution_count": 9,
     "metadata": {},
     "output_type": "execute_result"
    }
   ],
   "source": [
    "term2"
   ]
  },
  {
   "cell_type": "code",
   "execution_count": 10,
   "id": "a7f174c4",
   "metadata": {},
   "outputs": [
    {
     "data": {
      "text/html": [
       "<html><script type=\"math/tex; mode=display\">\\newcommand{\\Bold}[1]{\\mathbf{#1}}\\frac{1}{2} \\, {\\mathcal A_\\mu}^{2} {\\varepsilon}^{2} {e}^{2} \\pi_{1}\\left(x\\right)^{2} + \\frac{1}{2} \\, {\\mathcal A_\\mu}^{2} {\\varepsilon}^{2} {e}^{2} \\pi_{2}\\left(x\\right)^{2} + \\frac{1}{2} \\, {\\mathcal A_\\mu}^{2} {\\varepsilon}^{2} {e}^{2} \\pi_{4}\\left(x\\right)^{2} + \\frac{1}{2} \\, {\\mathcal A_\\mu}^{2} {\\varepsilon}^{2} {e}^{2} \\pi_{5}\\left(x\\right)^{2}</script></html>"
      ],
      "text/plain": [
       "1/2*A^2*e^2*qe^2*pi1(x)^2 + 1/2*A^2*e^2*qe^2*pi2(x)^2 + 1/2*A^2*e^2*qe^2*pi4(x)^2 + 1/2*A^2*e^2*qe^2*pi5(x)^2"
      ]
     },
     "execution_count": 10,
     "metadata": {},
     "output_type": "execute_result"
    }
   ],
   "source": [
    "term3"
   ]
  },
  {
   "cell_type": "code",
   "execution_count": 11,
   "id": "ecfe5a6d",
   "metadata": {},
   "outputs": [
    {
     "data": {
      "text/html": [
       "<html><script type=\"math/tex; mode=display\">\\newcommand{\\Bold}[1]{\\mathbf{#1}}\\frac{1}{3} \\, \\sqrt{3} {\\Delta m}^{2} {\\varepsilon}^{2} \\pi_{3}\\left(x\\right) \\pi_{8}\\left(x\\right) - \\frac{1}{2} \\, {\\varepsilon}^{2} {\\bar m}^{2} \\pi_{1}\\left(x\\right)^{2} - \\frac{1}{2} \\, {\\varepsilon}^{2} {\\bar m}^{2} \\pi_{2}\\left(x\\right)^{2} - \\frac{1}{2} \\, {\\varepsilon}^{2} {\\bar m}^{2} \\pi_{3}\\left(x\\right)^{2} + \\frac{1}{2} \\, f^{2} {m_S}^{2} + f^{2} {\\bar m}^{2} + \\frac{1}{4} \\, {\\left({\\Delta m}^{2} {\\varepsilon}^{2} - {\\varepsilon}^{2} {m_S}^{2} - {\\varepsilon}^{2} {\\bar m}^{2}\\right)} \\pi_{4}\\left(x\\right)^{2} + \\frac{1}{4} \\, {\\left({\\Delta m}^{2} {\\varepsilon}^{2} - {\\varepsilon}^{2} {m_S}^{2} - {\\varepsilon}^{2} {\\bar m}^{2}\\right)} \\pi_{5}\\left(x\\right)^{2} - \\frac{1}{4} \\, {\\left({\\Delta m}^{2} {\\varepsilon}^{2} + {\\varepsilon}^{2} {m_S}^{2} + {\\varepsilon}^{2} {\\bar m}^{2}\\right)} \\pi_{6}\\left(x\\right)^{2} - \\frac{1}{4} \\, {\\left({\\Delta m}^{2} {\\varepsilon}^{2} + {\\varepsilon}^{2} {m_S}^{2} + {\\varepsilon}^{2} {\\bar m}^{2}\\right)} \\pi_{7}\\left(x\\right)^{2} - \\frac{1}{6} \\, {\\left(2 \\, {\\varepsilon}^{2} {m_S}^{2} + {\\varepsilon}^{2} {\\bar m}^{2}\\right)} \\pi_{8}\\left(x\\right)^{2}</script></html>"
      ],
      "text/plain": [
       "1/3*sqrt(3)*dm^2*e^2*pi3(x)*pi8(x) - 1/2*e^2*mbar^2*pi1(x)^2 - 1/2*e^2*mbar^2*pi2(x)^2 - 1/2*e^2*mbar^2*pi3(x)^2 + 1/2*f^2*mS^2 + f^2*mbar^2 + 1/4*(dm^2*e^2 - e^2*mS^2 - e^2*mbar^2)*pi4(x)^2 + 1/4*(dm^2*e^2 - e^2*mS^2 - e^2*mbar^2)*pi5(x)^2 - 1/4*(dm^2*e^2 + e^2*mS^2 + e^2*mbar^2)*pi6(x)^2 - 1/4*(dm^2*e^2 + e^2*mS^2 + e^2*mbar^2)*pi7(x)^2 - 1/6*(2*e^2*mS^2 + e^2*mbar^2)*pi8(x)^2"
      ]
     },
     "execution_count": 11,
     "metadata": {},
     "output_type": "execute_result"
    }
   ],
   "source": [
    "mass_term"
   ]
  },
  {
   "cell_type": "code",
   "execution_count": 12,
   "id": "cc2fd888",
   "metadata": {},
   "outputs": [
    {
     "data": {
      "text/html": [
       "<html><script type=\"math/tex; mode=display\">\\newcommand{\\Bold}[1]{\\mathbf{#1}}-\\frac{3 \\, C {\\varepsilon}^{2} {e}^{2} \\pi_{1}\\left(x\\right)^{2} + 3 \\, C {\\varepsilon}^{2} {e}^{2} \\pi_{2}\\left(x\\right)^{2} + 3 \\, C {\\varepsilon}^{2} {e}^{2} \\pi_{4}\\left(x\\right)^{2} + 3 \\, C {\\varepsilon}^{2} {e}^{2} \\pi_{5}\\left(x\\right)^{2} - 2 \\, C f^{2} {e}^{2}}{3 \\, f^{2}}</script></html>"
      ],
      "text/plain": [
       "-1/3*(3*C*e^2*qe^2*pi1(x)^2 + 3*C*e^2*qe^2*pi2(x)^2 + 3*C*e^2*qe^2*pi4(x)^2 + 3*C*e^2*qe^2*pi5(x)^2 - 2*C*f^2*qe^2)/f^2"
      ]
     },
     "execution_count": 12,
     "metadata": {},
     "output_type": "execute_result"
    }
   ],
   "source": [
    "em_term"
   ]
  },
  {
   "cell_type": "code",
   "execution_count": 42,
   "id": "bb1a7e81",
   "metadata": {},
   "outputs": [],
   "source": [
    "n = 0\n",
    "v = v_em + v_mu\n",
    "\n",
    "S = mat_prep(exp_l_a(l2, a), n)\n",
    "Sd = S.T\n",
    "\n",
    "dS = diff(S, x) # nabla_mu Sigma\n",
    "dSd = diff(Sd, x)\n",
    "COM = v*S - S*v # [v_mu, Sigma]\n",
    "COMd = Sd*v - v*Sd\n",
    "\n",
    "dS = mat_prep(dS, n)\n",
    "dSd = mat_prep(dSd, n)\n",
    "COM = mat_prep(COM, n)\n",
    "COMd = mat_prep(COMd, n)\n",
    "\n",
    "term1 = mat_prep(dS*(dSd), n) \n",
    "term2 = -I*mat_prep(dS*(-COMd) + COM*dSd, n)\n",
    "term3 = mat_prep(COM*COMd, n)\n",
    "\n",
    "term1 = term1.trace().trig_reduce().full_simplify()\n",
    "term2 = term2.trace().trig_reduce().full_simplify()\n",
    "term3 = term3.trace().trig_reduce().full_simplify()\n",
    "\n",
    "mass_term = (chi*Sd + S*chi).trace().trig_reduce().full_simplify()\n",
    "em_term = qe**2*C*(Q*S*Q*Sd)\n",
    "em_term = mat_prep(em_term, n).trace()\n",
    "em_term = em_term.full_simplify().full_simplify()\n",
    "\n",
    "term1, term2, term3, mass_term = (f^2/4 * term for term in [term1, term2, term3, mass_term])"
   ]
  },
  {
   "cell_type": "code",
   "execution_count": 43,
   "id": "b3ce75d3",
   "metadata": {},
   "outputs": [
    {
     "data": {
      "text/html": [
       "<html><script type=\"math/tex; mode=display\">\\newcommand{\\Bold}[1]{\\mathbf{#1}}0</script></html>"
      ],
      "text/plain": [
       "0"
      ]
     },
     "execution_count": 43,
     "metadata": {},
     "output_type": "execute_result"
    }
   ],
   "source": [
    "term1"
   ]
  },
  {
   "cell_type": "code",
   "execution_count": 44,
   "id": "09b94793",
   "metadata": {},
   "outputs": [
    {
     "data": {
      "text/html": [
       "<html><script type=\"math/tex; mode=display\">\\newcommand{\\Bold}[1]{\\mathbf{#1}}0</script></html>"
      ],
      "text/plain": [
       "0"
      ]
     },
     "execution_count": 44,
     "metadata": {},
     "output_type": "execute_result"
    }
   ],
   "source": [
    "term2"
   ]
  },
  {
   "cell_type": "code",
   "execution_count": 45,
   "id": "fccf6745",
   "metadata": {},
   "outputs": [
    {
     "data": {
      "text/html": [
       "<html><script type=\"math/tex; mode=display\">\\newcommand{\\Bold}[1]{\\mathbf{#1}}\\frac{1}{2} \\, {\\left({\\delta}^{2} {\\mu_I}^{2} \\sin\\left({\\alpha}\\right)^{2} + 2 \\, {\\mathcal A_\\mu} {\\delta} {\\mu_I} {e} \\sin\\left({\\alpha}\\right)^{2} + {\\mathcal A_\\mu}^{2} {e}^{2} \\sin\\left({\\alpha}\\right)^{2}\\right)} f^{2}</script></html>"
      ],
      "text/plain": [
       "1/2*(d^2*muI^2*sin(a)^2 + 2*A*d*muI*qe*sin(a)^2 + A^2*qe^2*sin(a)^2)*f^2"
      ]
     },
     "execution_count": 45,
     "metadata": {},
     "output_type": "execute_result"
    }
   ],
   "source": [
    "term3"
   ]
  },
  {
   "cell_type": "code",
   "execution_count": 46,
   "id": "cc481dd3",
   "metadata": {},
   "outputs": [
    {
     "data": {
      "text/html": [
       "<html><script type=\"math/tex; mode=display\">\\newcommand{\\Bold}[1]{\\mathbf{#1}}\\frac{1}{2} \\, {\\left(2 \\, {\\bar m}^{2} \\cos\\left({\\alpha}\\right) + {m_S}^{2}\\right)} f^{2}</script></html>"
      ],
      "text/plain": [
       "1/2*(2*mbar^2*cos(a) + mS^2)*f^2"
      ]
     },
     "execution_count": 46,
     "metadata": {},
     "output_type": "execute_result"
    }
   ],
   "source": [
    "mass_term "
   ]
  },
  {
   "cell_type": "code",
   "execution_count": 48,
   "id": "13e88077",
   "metadata": {},
   "outputs": [
    {
     "data": {
      "text/html": [
       "<html><script type=\"math/tex; mode=display\">\\newcommand{\\Bold}[1]{\\mathbf{#1}}C {e}^{2} \\cos\\left({\\alpha}\\right)^{2} - \\frac{1}{3} \\, C {e}^{2}</script></html>"
      ],
      "text/plain": [
       "C*qe^2*cos(a)^2 - 1/3*C*qe^2"
      ]
     },
     "execution_count": 48,
     "metadata": {},
     "output_type": "execute_result"
    }
   ],
   "source": [
    "em_term.expand()"
   ]
  },
  {
   "cell_type": "code",
   "execution_count": 32,
   "id": "0b986855",
   "metadata": {},
   "outputs": [
    {
     "data": {
      "text/html": [
       "<html><script type=\"math/tex; mode=display\">\\newcommand{\\Bold}[1]{\\mathbf{#1}}C \\cos\\left({\\alpha}\\right)^{2} - \\frac{1}{3} \\, C</script></html>"
      ],
      "text/plain": [
       "C*cos(a)^2 - 1/3*C"
      ]
     },
     "execution_count": 32,
     "metadata": {},
     "output_type": "execute_result"
    }
   ],
   "source": [
    "(1/2*(cos(a)**2 - 1/3)*2*C).full_simplify()"
   ]
  },
  {
   "cell_type": "code",
   "execution_count": 49,
   "id": "76a38c62",
   "metadata": {},
   "outputs": [],
   "source": [
    "S = mat_prep(exp_l_a(l5, a), n)\n",
    "Sd = S.T\n",
    "\n",
    "dS = diff(S, x) # nabla_mu Sigma\n",
    "dSd = diff(Sd, x)\n",
    "COM = v*S - S*v # [v_mu, Sigma]\n",
    "COMd = Sd*v - v*Sd\n",
    "\n",
    "dS = mat_prep(dS, n)\n",
    "dSd = mat_prep(dSd, n)\n",
    "COM = mat_prep(COM, n)\n",
    "COMd = mat_prep(COMd, n)\n",
    "\n",
    "term1 = mat_prep(dS*(dSd), n) \n",
    "term2 = -I*mat_prep(dS*(-COMd) + COM*dSd, n)\n",
    "term3 = mat_prep(COM*COMd, n)\n",
    "\n",
    "term1 = term1.trace().trig_reduce().full_simplify()\n",
    "term2 = term2.trace().trig_reduce().full_simplify()\n",
    "term3 = term3.trace().trig_reduce().full_simplify()\n",
    "\n",
    "mass_term = (chi*Sd + S*chi).trace().trig_reduce().full_simplify()\n",
    "em_term = qe**2*C*(Q*S*Q*Sd)\n",
    "em_term = mat_prep(em_term, n).trace().full_simplify().full_simplify()\n",
    "\n",
    "term1, term2, term3, mass_term = (f^2/4 * term for term in [term1, term2, term3, mass_term])"
   ]
  },
  {
   "cell_type": "code",
   "execution_count": 50,
   "id": "32376b0e",
   "metadata": {},
   "outputs": [
    {
     "data": {
      "text/html": [
       "<html><script type=\"math/tex; mode=display\">\\newcommand{\\Bold}[1]{\\mathbf{#1}}0</script></html>"
      ],
      "text/plain": [
       "0"
      ]
     },
     "execution_count": 50,
     "metadata": {},
     "output_type": "execute_result"
    }
   ],
   "source": [
    "term1"
   ]
  },
  {
   "cell_type": "code",
   "execution_count": 51,
   "id": "afa6e7e5",
   "metadata": {},
   "outputs": [
    {
     "data": {
      "text/html": [
       "<html><script type=\"math/tex; mode=display\">\\newcommand{\\Bold}[1]{\\mathbf{#1}}0</script></html>"
      ],
      "text/plain": [
       "0"
      ]
     },
     "execution_count": 51,
     "metadata": {},
     "output_type": "execute_result"
    }
   ],
   "source": [
    "term2"
   ]
  },
  {
   "cell_type": "code",
   "execution_count": 52,
   "id": "ed4505a5",
   "metadata": {},
   "outputs": [
    {
     "data": {
      "text/html": [
       "<html><script type=\"math/tex; mode=display\">\\newcommand{\\Bold}[1]{\\mathbf{#1}}\\frac{1}{8} \\, {\\left({\\delta}^{2} {\\mu_I}^{2} \\sin\\left({\\alpha}\\right)^{2} + 4 \\, {\\delta}^{2} {\\mu_I} {\\mu_S} \\sin\\left({\\alpha}\\right)^{2} + 4 \\, {\\delta}^{2} {\\mu_S}^{2} \\sin\\left({\\alpha}\\right)^{2} + 4 \\, {\\mathcal A_\\mu}^{2} {e}^{2} \\sin\\left({\\alpha}\\right)^{2} + 4 \\, {\\left({\\mathcal A_\\mu} {\\delta} {\\mu_I} \\sin\\left({\\alpha}\\right)^{2} + 2 \\, {\\mathcal A_\\mu} {\\delta} {\\mu_S} \\sin\\left({\\alpha}\\right)^{2}\\right)} {e}\\right)} f^{2}</script></html>"
      ],
      "text/plain": [
       "1/8*(d^2*muI^2*sin(a)^2 + 4*d^2*muI*muS*sin(a)^2 + 4*d^2*muS^2*sin(a)^2 + 4*A^2*qe^2*sin(a)^2 + 4*(A*d*muI*sin(a)^2 + 2*A*d*muS*sin(a)^2)*qe)*f^2"
      ]
     },
     "execution_count": 52,
     "metadata": {},
     "output_type": "execute_result"
    }
   ],
   "source": [
    "term3"
   ]
  },
  {
   "cell_type": "code",
   "execution_count": 53,
   "id": "b8785bf6",
   "metadata": {},
   "outputs": [
    {
     "data": {
      "text/html": [
       "<html><script type=\"math/tex; mode=display\">\\newcommand{\\Bold}[1]{\\mathbf{#1}}\\frac{1}{2} \\, {\\left({\\bar m}^{2} {\\left(\\cos\\left({\\alpha}\\right) + 1\\right)} - {\\Delta m}^{2} {\\left(\\cos\\left({\\alpha}\\right) - 1\\right)} + {m_S}^{2} \\cos\\left({\\alpha}\\right)\\right)} f^{2}</script></html>"
      ],
      "text/plain": [
       "1/2*(mbar^2*(cos(a) + 1) - dm^2*(cos(a) - 1) + mS^2*cos(a))*f^2"
      ]
     },
     "execution_count": 53,
     "metadata": {},
     "output_type": "execute_result"
    }
   ],
   "source": [
    "mass_term"
   ]
  },
  {
   "cell_type": "code",
   "execution_count": 54,
   "id": "9767c511",
   "metadata": {},
   "outputs": [
    {
     "data": {
      "text/html": [
       "<html><script type=\"math/tex; mode=display\">\\newcommand{\\Bold}[1]{\\mathbf{#1}}\\frac{1}{3} \\, {\\left(3 \\, C \\cos\\left({\\alpha}\\right)^{2} - C\\right)} {e}^{2}</script></html>"
      ],
      "text/plain": [
       "1/3*(3*C*cos(a)^2 - C)*qe^2"
      ]
     },
     "execution_count": 54,
     "metadata": {},
     "output_type": "execute_result"
    }
   ],
   "source": [
    "em_term.full_simplify()"
   ]
  },
  {
   "cell_type": "code",
   "execution_count": 55,
   "id": "6269a07d",
   "metadata": {},
   "outputs": [],
   "source": [
    "S = mat_prep(exp_l_a(l7, a), n)\n",
    "Sd = S.T\n",
    "\n",
    "dS = diff(S, x) # nabla_mu Sigma\n",
    "dSd = diff(Sd, x)\n",
    "COM = v*S - S*v # [v_mu, Sigma]\n",
    "COMd = Sd*v - v*Sd\n",
    "\n",
    "dS = mat_prep(dS, n)\n",
    "dSd = mat_prep(dSd, n)\n",
    "COM = mat_prep(COM, n)\n",
    "COMd = mat_prep(COMd, n)\n",
    "\n",
    "term1 = mat_prep(dS*(dSd), n) \n",
    "term2 = -I*mat_prep(dS*(-COMd) + COM*dSd, n)\n",
    "term3 = mat_prep(COM*COMd, n)\n",
    "\n",
    "term1 = term1.trace().trig_reduce().full_simplify()\n",
    "term2 = term2.trace().trig_reduce().full_simplify()\n",
    "term3 = term3.trace().trig_reduce().full_simplify()\n",
    "\n",
    "mass_term = (chi*Sd + S*chi).trace().trig_reduce().full_simplify()\n",
    "em_term = qe**2*C*(Q*S*Q*Sd)\n",
    "em_term = mat_prep(em_term, n).trace().full_simplify().full_simplify()\n",
    "\n",
    "term1, term2, term3, mass_term = (f^2/4 * term for term in [term1, term2, term3, mass_term])"
   ]
  },
  {
   "cell_type": "code",
   "execution_count": 56,
   "id": "aece3bde",
   "metadata": {},
   "outputs": [
    {
     "data": {
      "text/html": [
       "<html><script type=\"math/tex; mode=display\">\\newcommand{\\Bold}[1]{\\mathbf{#1}}0</script></html>"
      ],
      "text/plain": [
       "0"
      ]
     },
     "execution_count": 56,
     "metadata": {},
     "output_type": "execute_result"
    }
   ],
   "source": [
    "term1"
   ]
  },
  {
   "cell_type": "code",
   "execution_count": 57,
   "id": "c872d414",
   "metadata": {},
   "outputs": [
    {
     "data": {
      "text/html": [
       "<html><script type=\"math/tex; mode=display\">\\newcommand{\\Bold}[1]{\\mathbf{#1}}0</script></html>"
      ],
      "text/plain": [
       "0"
      ]
     },
     "execution_count": 57,
     "metadata": {},
     "output_type": "execute_result"
    }
   ],
   "source": [
    "term2"
   ]
  },
  {
   "cell_type": "code",
   "execution_count": 58,
   "id": "56c55034",
   "metadata": {},
   "outputs": [
    {
     "data": {
      "text/html": [
       "<html><script type=\"math/tex; mode=display\">\\newcommand{\\Bold}[1]{\\mathbf{#1}}\\frac{1}{8} \\, {\\left({\\delta}^{2} {\\mu_I}^{2} \\sin\\left({\\alpha}\\right)^{2} - 4 \\, {\\delta}^{2} {\\mu_I} {\\mu_S} \\sin\\left({\\alpha}\\right)^{2} + 4 \\, {\\delta}^{2} {\\mu_S}^{2} \\sin\\left({\\alpha}\\right)^{2}\\right)} f^{2}</script></html>"
      ],
      "text/plain": [
       "1/8*(d^2*muI^2*sin(a)^2 - 4*d^2*muI*muS*sin(a)^2 + 4*d^2*muS^2*sin(a)^2)*f^2"
      ]
     },
     "execution_count": 58,
     "metadata": {},
     "output_type": "execute_result"
    }
   ],
   "source": [
    "term3"
   ]
  },
  {
   "cell_type": "code",
   "execution_count": 59,
   "id": "b4e9d200",
   "metadata": {},
   "outputs": [
    {
     "data": {
      "text/html": [
       "<html><script type=\"math/tex; mode=display\">\\newcommand{\\Bold}[1]{\\mathbf{#1}}\\frac{1}{2} \\, {\\left({\\bar m}^{2} {\\left(\\cos\\left({\\alpha}\\right) + 1\\right)} + {\\Delta m}^{2} {\\left(\\cos\\left({\\alpha}\\right) - 1\\right)} + {m_S}^{2} \\cos\\left({\\alpha}\\right)\\right)} f^{2}</script></html>"
      ],
      "text/plain": [
       "1/2*(mbar^2*(cos(a) + 1) + dm^2*(cos(a) - 1) + mS^2*cos(a))*f^2"
      ]
     },
     "execution_count": 59,
     "metadata": {},
     "output_type": "execute_result"
    }
   ],
   "source": [
    "mass_term"
   ]
  },
  {
   "cell_type": "code",
   "execution_count": null,
   "id": "a77a2a58",
   "metadata": {},
   "outputs": [],
   "source": [
    "em_term"
   ]
  },
  {
   "cell_type": "code",
   "execution_count": 19,
   "id": "639ff7e8",
   "metadata": {},
   "outputs": [
    {
     "data": {
      "text/html": [
       "<html><script type=\"math/tex; mode=display\">\\newcommand{\\Bold}[1]{\\mathbf{#1}}-\\frac{{\\delta} + \\frac{x^{2}}{{\\delta} x^{2} - 1} - \\frac{1}{x^{2}} + 2}{{\\delta} + \\frac{{\\left({\\delta} x^{2} - 3\\right)} x^{2}}{{\\left({\\delta} x^{2} - 1\\right)}^{2}} + \\frac{1}{x^{2}} + 2}</script></html>"
      ],
      "text/plain": [
       "-(d + x^2/(d*x^2 - 1) - 1/x^2 + 2)/(d + (d*x^2 - 3)*x^2/(d*x^2 - 1)^2 + 1/x^2 + 2)"
      ]
     },
     "execution_count": 19,
     "metadata": {},
     "output_type": "execute_result"
    }
   ],
   "source": [
    "k1 = (\n",
    "    (1/x**2 + x**2/(1 - x**2*d) - 2 - d) \n",
    "    / (\n",
    "        (1/x**2 - x**2*(3 - x**2 * d)/(1 - x**2*d)**2 + 2 + d)\n",
    "    )\n",
    ")\n",
    "k1"
   ]
  },
  {
   "cell_type": "code",
   "execution_count": 20,
   "id": "2538f98b",
   "metadata": {},
   "outputs": [
    {
     "data": {
      "text/html": [
       "<html><script type=\"math/tex; mode=display\">\\newcommand{\\Bold}[1]{\\mathbf{#1}}-\\frac{{\\left({\\delta}^{2} + {\\delta}\\right)} x^{4} - {\\left(2 \\, {\\delta} + 1\\right)} x^{2} + 1}{{\\left({\\delta}^{2} + {\\delta}\\right)} x^{4} - 3 \\, x^{2} - 1}</script></html>"
      ],
      "text/plain": [
       "-((d^2 + d)*x^4 - (2*d + 1)*x^2 + 1)/((d^2 + d)*x^4 - 3*x^2 - 1)"
      ]
     },
     "execution_count": 20,
     "metadata": {},
     "output_type": "execute_result"
    }
   ],
   "source": [
    "k1.full_simplify()"
   ]
  },
  {
   "cell_type": "code",
   "execution_count": 21,
   "id": "1d4e49b6",
   "metadata": {},
   "outputs": [
    {
     "data": {
      "text/html": [
       "<html><script type=\"math/tex; mode=display\">\\newcommand{\\Bold}[1]{\\mathbf{#1}}-\\frac{{\\left(x + 1\\right)} {\\left(x - 1\\right)}}{3 \\, x^{2} + 1}</script></html>"
      ],
      "text/plain": [
       "-(x + 1)*(x - 1)/(3*x^2 + 1)"
      ]
     },
     "execution_count": 21,
     "metadata": {},
     "output_type": "execute_result"
    }
   ],
   "source": [
    "k1.subs(d==0).full_simplify().factor()"
   ]
  },
  {
   "cell_type": "code",
   "execution_count": 22,
   "id": "ee112903",
   "metadata": {},
   "outputs": [
    {
     "data": {
      "text/html": [
       "<html><script type=\"math/tex; mode=display\">\\newcommand{\\Bold}[1]{\\mathbf{#1}}-\\frac{3 \\, x^{2} + 1}{{\\left(x + 1\\right)} {\\left(x - 1\\right)}}</script></html>"
      ],
      "text/plain": [
       "-(3*x^2 + 1)/((x + 1)*(x - 1))"
      ]
     },
     "execution_count": 22,
     "metadata": {},
     "output_type": "execute_result"
    }
   ],
   "source": [
    "(1/k1).subs(d==0).full_simplify().factor()"
   ]
  },
  {
   "cell_type": "code",
   "execution_count": 23,
   "id": "78dfa46e",
   "metadata": {},
   "outputs": [
    {
     "data": {
      "text/html": [
       "<html><script type=\"math/tex; mode=display\">\\newcommand{\\Bold}[1]{\\mathbf{#1}}3 \\, x^{4} + 2 \\, x^{2} + 1</script></html>"
      ],
      "text/plain": [
       "3*x^4 + 2*x^2 + 1"
      ]
     },
     "execution_count": 23,
     "metadata": {},
     "output_type": "execute_result"
    }
   ],
   "source": [
    "(3*x**4 + 2*x**2 + 1).factor()"
   ]
  },
  {
   "cell_type": "code",
   "execution_count": null,
   "id": "34b67946",
   "metadata": {},
   "outputs": [],
   "source": []
  }
 ],
 "metadata": {
  "kernelspec": {
   "display_name": "SageMath 9.0",
   "language": "sage",
   "name": "sagemath"
  },
  "language_info": {
   "codemirror_mode": {
    "name": "ipython",
    "version": 3
   },
   "file_extension": ".py",
   "mimetype": "text/x-python",
   "name": "python",
   "nbconvert_exporter": "python",
   "pygments_lexer": "ipython3",
   "version": "3.8.10"
  }
 },
 "nbformat": 4,
 "nbformat_minor": 5
}
