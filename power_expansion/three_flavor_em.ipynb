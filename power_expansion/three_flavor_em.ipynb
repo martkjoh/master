{
 "cells": [
  {
   "cell_type": "code",
   "execution_count": 90,
   "id": "b35e7d13",
   "metadata": {},
   "outputs": [],
   "source": [
    "%display latex\n",
    "load(\"three_flavor.sage\")"
   ]
  },
  {
   "cell_type": "code",
   "execution_count": 60,
   "id": "ddcb84e6",
   "metadata": {},
   "outputs": [],
   "source": [
    "n = 2\n",
    "v = v_em\n",
    "\n",
    "exp_l_a = lambda l, a: (one - l**2) + l**2 * cos(a) + i *l * sin(a)\n",
    "# pion condensate\n",
    "A = exp_l_a(l2, a/2)\n",
    "U = lambda n: EXP(I * pi_s/f, n)\n",
    "U_d = lambda n: EXP(-I * pi_s/f, n)\n",
    "\n",
    "SIGMA = lambda n: mat_prep(A * U(n) * A, n)\n",
    "SIGMA_d = lambda n: mat_prep(A.C.T * U_d(n) * A.C.T, n)"
   ]
  },
  {
   "cell_type": "code",
   "execution_count": 61,
   "id": "1330e164",
   "metadata": {},
   "outputs": [
    {
     "data": {
      "text/html": [
       "<html><script type=\"math/tex; mode=display\">\\newcommand{\\Bold}[1]{\\mathbf{#1}}\\left(\\begin{array}{rrr}\n",
       "\\frac{2}{3} \\, {\\mathcal A_\\mu} {e} & 0 & 0 \\\\\n",
       "0 & -\\frac{1}{3} \\, {\\mathcal A_\\mu} {e} & 0 \\\\\n",
       "0 & 0 & -\\frac{1}{3} \\, {\\mathcal A_\\mu} {e}\n",
       "\\end{array}\\right)</script></html>"
      ],
      "text/plain": [
       "[ 2/3*A*qe         0         0]\n",
       "[        0 -1/3*A*qe         0]\n",
       "[        0         0 -1/3*A*qe]"
      ]
     },
     "execution_count": 61,
     "metadata": {},
     "output_type": "execute_result"
    }
   ],
   "source": [
    "S = U(n)\n",
    "Sd = U_d(n)\n",
    "v"
   ]
  },
  {
   "cell_type": "code",
   "execution_count": 62,
   "id": "0e321b7f",
   "metadata": {},
   "outputs": [],
   "source": [
    "dS = diff(S, x) # nabla_mu Sigma\n",
    "dSd = diff(Sd, x)\n",
    "COM = v*S - S*v # [v_mu, Sigma]\n",
    "COMd = Sd*v - v*Sd"
   ]
  },
  {
   "cell_type": "code",
   "execution_count": 63,
   "id": "1ec54d71",
   "metadata": {},
   "outputs": [],
   "source": [
    "dS = mat_prep(dS, n)\n",
    "dSd = mat_prep(dSd, n)\n",
    "COM = mat_prep(COM, n)\n",
    "COMd = mat_prep(COMd, n)"
   ]
  },
  {
   "cell_type": "code",
   "execution_count": 71,
   "id": "73d62ad1",
   "metadata": {},
   "outputs": [],
   "source": [
    "term1 = mat_prep(dS*(dSd), n) \n",
    "term2 = -I*mat_prep(dS*(-COMd) + COM*dSd, n)\n",
    "term3 = mat_prep(COM*COMd, n)\n",
    "\n",
    "term1 = term1.trace().trig_reduce().full_simplify()\n",
    "term2 = term2.trace().trig_reduce().full_simplify()\n",
    "term3 = term3.trace().trig_reduce().full_simplify()\n",
    "\n",
    "mass_term = (chi*Sd + S*chi).trace().trig_reduce().full_simplify()\n",
    "em_term = qe**2*C*(Q*S*Q*Sd)\n",
    "em_term = mat_prep(em_term, n).trace().full_simplify()\n",
    "\n",
    "term1, term2, term3, mass_term = (f^2/4 * term for term in [term1, term2, term3, mass_term])"
   ]
  },
  {
   "cell_type": "code",
   "execution_count": 72,
   "id": "3f491782",
   "metadata": {},
   "outputs": [
    {
     "data": {
      "text/html": [
       "<html><script type=\"math/tex; mode=display\">\\newcommand{\\Bold}[1]{\\mathbf{#1}}\\frac{1}{2} \\, {\\varepsilon}^{2} \\frac{\\partial}{\\partial x}\\pi_1\\left(x\\right)^{2} + \\frac{1}{2} \\, {\\varepsilon}^{2} \\frac{\\partial}{\\partial x}\\pi_2\\left(x\\right)^{2} + \\frac{1}{2} \\, {\\varepsilon}^{2} \\frac{\\partial}{\\partial x}\\pi_3\\left(x\\right)^{2} + \\frac{1}{2} \\, {\\varepsilon}^{2} \\frac{\\partial}{\\partial x}\\pi_4\\left(x\\right)^{2} + \\frac{1}{2} \\, {\\varepsilon}^{2} \\frac{\\partial}{\\partial x}\\pi_5\\left(x\\right)^{2} + \\frac{1}{2} \\, {\\varepsilon}^{2} \\frac{\\partial}{\\partial x}\\pi_6\\left(x\\right)^{2} + \\frac{1}{2} \\, {\\varepsilon}^{2} \\frac{\\partial}{\\partial x}\\pi_7\\left(x\\right)^{2} + \\frac{1}{2} \\, {\\varepsilon}^{2} \\frac{\\partial}{\\partial x}\\pi_8\\left(x\\right)^{2}</script></html>"
      ],
      "text/plain": [
       "1/2*e^2*diff(pi1(x), x)^2 + 1/2*e^2*diff(pi2(x), x)^2 + 1/2*e^2*diff(pi3(x), x)^2 + 1/2*e^2*diff(pi4(x), x)^2 + 1/2*e^2*diff(pi5(x), x)^2 + 1/2*e^2*diff(pi6(x), x)^2 + 1/2*e^2*diff(pi7(x), x)^2 + 1/2*e^2*diff(pi8(x), x)^2"
      ]
     },
     "execution_count": 72,
     "metadata": {},
     "output_type": "execute_result"
    }
   ],
   "source": [
    "term1"
   ]
  },
  {
   "cell_type": "code",
   "execution_count": 73,
   "id": "50f2648a",
   "metadata": {},
   "outputs": [
    {
     "data": {
      "text/html": [
       "<html><script type=\"math/tex; mode=display\">\\newcommand{\\Bold}[1]{\\mathbf{#1}}-{\\mathcal A_\\mu} {\\varepsilon}^{2} {e} \\pi_2\\left(x\\right) \\frac{\\partial}{\\partial x}\\pi_1\\left(x\\right) + {\\mathcal A_\\mu} {\\varepsilon}^{2} {e} \\pi_1\\left(x\\right) \\frac{\\partial}{\\partial x}\\pi_2\\left(x\\right) - {\\mathcal A_\\mu} {\\varepsilon}^{2} {e} \\pi_5\\left(x\\right) \\frac{\\partial}{\\partial x}\\pi_4\\left(x\\right) + {\\mathcal A_\\mu} {\\varepsilon}^{2} {e} \\pi_4\\left(x\\right) \\frac{\\partial}{\\partial x}\\pi_5\\left(x\\right)</script></html>"
      ],
      "text/plain": [
       "-A*e^2*qe*pi2(x)*diff(pi1(x), x) + A*e^2*qe*pi1(x)*diff(pi2(x), x) - A*e^2*qe*pi5(x)*diff(pi4(x), x) + A*e^2*qe*pi4(x)*diff(pi5(x), x)"
      ]
     },
     "execution_count": 73,
     "metadata": {},
     "output_type": "execute_result"
    }
   ],
   "source": [
    "term2"
   ]
  },
  {
   "cell_type": "code",
   "execution_count": 74,
   "id": "a7f174c4",
   "metadata": {},
   "outputs": [
    {
     "data": {
      "text/html": [
       "<html><script type=\"math/tex; mode=display\">\\newcommand{\\Bold}[1]{\\mathbf{#1}}\\frac{1}{2} \\, {\\mathcal A_\\mu}^{2} {\\varepsilon}^{2} {e}^{2} \\pi_1\\left(x\\right)^{2} + \\frac{1}{2} \\, {\\mathcal A_\\mu}^{2} {\\varepsilon}^{2} {e}^{2} \\pi_2\\left(x\\right)^{2} + \\frac{1}{2} \\, {\\mathcal A_\\mu}^{2} {\\varepsilon}^{2} {e}^{2} \\pi_4\\left(x\\right)^{2} + \\frac{1}{2} \\, {\\mathcal A_\\mu}^{2} {\\varepsilon}^{2} {e}^{2} \\pi_5\\left(x\\right)^{2}</script></html>"
      ],
      "text/plain": [
       "1/2*A^2*e^2*qe^2*pi1(x)^2 + 1/2*A^2*e^2*qe^2*pi2(x)^2 + 1/2*A^2*e^2*qe^2*pi4(x)^2 + 1/2*A^2*e^2*qe^2*pi5(x)^2"
      ]
     },
     "execution_count": 74,
     "metadata": {},
     "output_type": "execute_result"
    }
   ],
   "source": [
    "term3"
   ]
  },
  {
   "cell_type": "code",
   "execution_count": 75,
   "id": "ecfe5a6d",
   "metadata": {},
   "outputs": [
    {
     "data": {
      "text/html": [
       "<html><script type=\"math/tex; mode=display\">\\newcommand{\\Bold}[1]{\\mathbf{#1}}-\\frac{1}{3} \\, \\sqrt{3} {\\Delta m}^{2} {\\varepsilon}^{2} \\pi_3\\left(x\\right) \\pi_8\\left(x\\right) - \\frac{1}{2} \\, {\\varepsilon}^{2} {\\bar m}^{2} \\pi_1\\left(x\\right)^{2} - \\frac{1}{2} \\, {\\varepsilon}^{2} {\\bar m}^{2} \\pi_2\\left(x\\right)^{2} - \\frac{1}{2} \\, {\\varepsilon}^{2} {\\bar m}^{2} \\pi_3\\left(x\\right)^{2} + \\frac{1}{2} \\, f^{2} {m_S}^{2} + f^{2} {\\bar m}^{2} - \\frac{1}{4} \\, {\\left({\\Delta m}^{2} {\\varepsilon}^{2} + {\\varepsilon}^{2} {m_S}^{2} + {\\varepsilon}^{2} {\\bar m}^{2}\\right)} \\pi_4\\left(x\\right)^{2} - \\frac{1}{4} \\, {\\left({\\Delta m}^{2} {\\varepsilon}^{2} + {\\varepsilon}^{2} {m_S}^{2} + {\\varepsilon}^{2} {\\bar m}^{2}\\right)} \\pi_5\\left(x\\right)^{2} + \\frac{1}{4} \\, {\\left({\\Delta m}^{2} {\\varepsilon}^{2} - {\\varepsilon}^{2} {m_S}^{2} - {\\varepsilon}^{2} {\\bar m}^{2}\\right)} \\pi_6\\left(x\\right)^{2} + \\frac{1}{4} \\, {\\left({\\Delta m}^{2} {\\varepsilon}^{2} - {\\varepsilon}^{2} {m_S}^{2} - {\\varepsilon}^{2} {\\bar m}^{2}\\right)} \\pi_7\\left(x\\right)^{2} - \\frac{1}{6} \\, {\\left(2 \\, {\\varepsilon}^{2} {m_S}^{2} + {\\varepsilon}^{2} {\\bar m}^{2}\\right)} \\pi_8\\left(x\\right)^{2}</script></html>"
      ],
      "text/plain": [
       "-1/3*sqrt(3)*dm^2*e^2*pi3(x)*pi8(x) - 1/2*e^2*mbar^2*pi1(x)^2 - 1/2*e^2*mbar^2*pi2(x)^2 - 1/2*e^2*mbar^2*pi3(x)^2 + 1/2*f^2*mS^2 + f^2*mbar^2 - 1/4*(dm^2*e^2 + e^2*mS^2 + e^2*mbar^2)*pi4(x)^2 - 1/4*(dm^2*e^2 + e^2*mS^2 + e^2*mbar^2)*pi5(x)^2 + 1/4*(dm^2*e^2 - e^2*mS^2 - e^2*mbar^2)*pi6(x)^2 + 1/4*(dm^2*e^2 - e^2*mS^2 - e^2*mbar^2)*pi7(x)^2 - 1/6*(2*e^2*mS^2 + e^2*mbar^2)*pi8(x)^2"
      ]
     },
     "execution_count": 75,
     "metadata": {},
     "output_type": "execute_result"
    }
   ],
   "source": [
    "mass_term"
   ]
  },
  {
   "cell_type": "code",
   "execution_count": 77,
   "id": "cc2fd888",
   "metadata": {},
   "outputs": [
    {
     "data": {
      "text/html": [
       "<html><script type=\"math/tex; mode=display\">\\newcommand{\\Bold}[1]{\\mathbf{#1}}-\\frac{3 \\, C {\\varepsilon}^{2} {e}^{2} \\pi_1\\left(x\\right)^{2} + 3 \\, C {\\varepsilon}^{2} {e}^{2} \\pi_2\\left(x\\right)^{2} + 3 \\, C {\\varepsilon}^{2} {e}^{2} \\pi_4\\left(x\\right)^{2} + 3 \\, C {\\varepsilon}^{2} {e}^{2} \\pi_5\\left(x\\right)^{2} - 2 \\, C f^{2} {e}^{2}}{3 \\, f^{2}}</script></html>"
      ],
      "text/plain": [
       "-1/3*(3*C*e^2*qe^2*pi1(x)^2 + 3*C*e^2*qe^2*pi2(x)^2 + 3*C*e^2*qe^2*pi4(x)^2 + 3*C*e^2*qe^2*pi5(x)^2 - 2*C*f^2*qe^2)/f^2"
      ]
     },
     "execution_count": 77,
     "metadata": {},
     "output_type": "execute_result"
    }
   ],
   "source": [
    "em_term"
   ]
  },
  {
   "cell_type": "code",
   "execution_count": 100,
   "id": "bb1a7e81",
   "metadata": {},
   "outputs": [],
   "source": [
    "n = 0\n",
    "v = v_em + v_mu\n",
    "\n",
    "exp_l_a = lambda l, a: (one - l**2) + l**2 * cos(a) + i *l * sin(a)\n",
    "\n",
    "S = mat_prep(exp_l_a(l2, a), n)\n",
    "Sd = S.T"
   ]
  },
  {
   "cell_type": "code",
   "execution_count": 101,
   "id": "5602b76b",
   "metadata": {},
   "outputs": [],
   "source": [
    "dS = diff(S, x) # nabla_mu Sigma\n",
    "dSd = diff(Sd, x)\n",
    "COM = v*S - S*v # [v_mu, Sigma]\n",
    "COMd = Sd*v - v*Sd"
   ]
  },
  {
   "cell_type": "code",
   "execution_count": 102,
   "id": "9acefd18",
   "metadata": {},
   "outputs": [],
   "source": [
    "dS = mat_prep(dS, n)\n",
    "dSd = mat_prep(dSd, n)\n",
    "COM = mat_prep(COM, n)\n",
    "COMd = mat_prep(COMd, n)"
   ]
  },
  {
   "cell_type": "code",
   "execution_count": 103,
   "id": "a21dc09a",
   "metadata": {},
   "outputs": [],
   "source": [
    "term1 = mat_prep(dS*(dSd), n) \n",
    "term2 = -I*mat_prep(dS*(-COMd) + COM*dSd, n)\n",
    "term3 = mat_prep(COM*COMd, n)\n",
    "\n",
    "term1 = term1.trace().trig_reduce().full_simplify()\n",
    "term2 = term2.trace().trig_reduce().full_simplify()\n",
    "term3 = term3.trace().trig_reduce().full_simplify()\n",
    "\n",
    "mass_term = (chi*Sd + S*chi).trace().trig_reduce().full_simplify()\n",
    "em_term = qe**2*C*(Q*S*Q*Sd)\n",
    "em_term = mat_prep(em_term, n).trace().full_simplify()\n",
    "\n",
    "term1, term2, term3, mass_term = (f^2/4 * term for term in [term1, term2, term3, mass_term])"
   ]
  },
  {
   "cell_type": "code",
   "execution_count": 104,
   "id": "b3ce75d3",
   "metadata": {},
   "outputs": [
    {
     "data": {
      "text/html": [
       "<html><script type=\"math/tex; mode=display\">\\newcommand{\\Bold}[1]{\\mathbf{#1}}0</script></html>"
      ],
      "text/plain": [
       "0"
      ]
     },
     "execution_count": 104,
     "metadata": {},
     "output_type": "execute_result"
    }
   ],
   "source": [
    "term1"
   ]
  },
  {
   "cell_type": "code",
   "execution_count": 105,
   "id": "09b94793",
   "metadata": {},
   "outputs": [
    {
     "data": {
      "text/html": [
       "<html><script type=\"math/tex; mode=display\">\\newcommand{\\Bold}[1]{\\mathbf{#1}}0</script></html>"
      ],
      "text/plain": [
       "0"
      ]
     },
     "execution_count": 105,
     "metadata": {},
     "output_type": "execute_result"
    }
   ],
   "source": [
    "term2"
   ]
  },
  {
   "cell_type": "code",
   "execution_count": 106,
   "id": "fccf6745",
   "metadata": {},
   "outputs": [
    {
     "data": {
      "text/html": [
       "<html><script type=\"math/tex; mode=display\">\\newcommand{\\Bold}[1]{\\mathbf{#1}}\\frac{1}{2} \\, {\\left({\\delta}^{2} {\\mu_I}^{2} \\sin\\left({\\alpha}\\right)^{2} + 2 \\, {\\mathcal A_\\mu} {\\delta} {\\mu_I} {e} \\sin\\left({\\alpha}\\right)^{2} + {\\mathcal A_\\mu}^{2} {e}^{2} \\sin\\left({\\alpha}\\right)^{2}\\right)} f^{2}</script></html>"
      ],
      "text/plain": [
       "1/2*(d^2*muI^2*sin(a)^2 + 2*A*d*muI*qe*sin(a)^2 + A^2*qe^2*sin(a)^2)*f^2"
      ]
     },
     "execution_count": 106,
     "metadata": {},
     "output_type": "execute_result"
    }
   ],
   "source": [
    "term3"
   ]
  },
  {
   "cell_type": "code",
   "execution_count": 107,
   "id": "cc481dd3",
   "metadata": {},
   "outputs": [
    {
     "data": {
      "text/html": [
       "<html><script type=\"math/tex; mode=display\">\\newcommand{\\Bold}[1]{\\mathbf{#1}}\\frac{1}{2} \\, {\\left(2 \\, {\\bar m}^{2} \\cos\\left({\\alpha}\\right) + {m_S}^{2}\\right)} f^{2}</script></html>"
      ],
      "text/plain": [
       "1/2*(2*mbar^2*cos(a) + mS^2)*f^2"
      ]
     },
     "execution_count": 107,
     "metadata": {},
     "output_type": "execute_result"
    }
   ],
   "source": [
    "mass_term "
   ]
  },
  {
   "cell_type": "code",
   "execution_count": 109,
   "id": "13e88077",
   "metadata": {},
   "outputs": [
    {
     "data": {
      "text/html": [
       "<html><script type=\"math/tex; mode=display\">\\newcommand{\\Bold}[1]{\\mathbf{#1}}-\\frac{1}{3} \\, {\\left(3 \\, C \\sin\\left({\\alpha}\\right)^{2} - 2 \\, C\\right)} {e}^{2}</script></html>"
      ],
      "text/plain": [
       "-1/3*(3*C*sin(a)^2 - 2*C)*qe^2"
      ]
     },
     "execution_count": 109,
     "metadata": {},
     "output_type": "execute_result"
    }
   ],
   "source": [
    "em_term"
   ]
  },
  {
   "cell_type": "code",
   "execution_count": 122,
   "id": "639ff7e8",
   "metadata": {},
   "outputs": [
    {
     "data": {
      "text/html": [
       "<html><script type=\"math/tex; mode=display\">\\newcommand{\\Bold}[1]{\\mathbf{#1}}-\\frac{{\\delta} + \\frac{x^{2}}{{\\delta} x^{2} - 1} - \\frac{1}{x^{2}} + 2}{{\\delta} + \\frac{{\\left({\\delta} x^{2} - 3\\right)} x^{2}}{{\\left({\\delta} x^{2} - 1\\right)}^{2}} + \\frac{1}{x^{2}} + 2}</script></html>"
      ],
      "text/plain": [
       "-(d + x^2/(d*x^2 - 1) - 1/x^2 + 2)/(d + (d*x^2 - 3)*x^2/(d*x^2 - 1)^2 + 1/x^2 + 2)"
      ]
     },
     "execution_count": 122,
     "metadata": {},
     "output_type": "execute_result"
    }
   ],
   "source": [
    "k1 = (\n",
    "    (1/x**2 + x**2/(1 - x**2*d) - 2 - d) \n",
    "    / (\n",
    "        (1/x**2 - x**2*(3 - x**2 * d)/(1 - x**2*d)**2 + 2 + d)\n",
    "    )\n",
    ")\n",
    "k1"
   ]
  },
  {
   "cell_type": "code",
   "execution_count": 123,
   "id": "2538f98b",
   "metadata": {},
   "outputs": [
    {
     "data": {
      "text/html": [
       "<html><script type=\"math/tex; mode=display\">\\newcommand{\\Bold}[1]{\\mathbf{#1}}-\\frac{{\\left({\\delta}^{2} + {\\delta}\\right)} x^{4} - {\\left(2 \\, {\\delta} + 1\\right)} x^{2} + 1}{{\\left({\\delta}^{2} + {\\delta}\\right)} x^{4} - 3 \\, x^{2} - 1}</script></html>"
      ],
      "text/plain": [
       "-((d^2 + d)*x^4 - (2*d + 1)*x^2 + 1)/((d^2 + d)*x^4 - 3*x^2 - 1)"
      ]
     },
     "execution_count": 123,
     "metadata": {},
     "output_type": "execute_result"
    }
   ],
   "source": [
    "k1.full_simplify()"
   ]
  },
  {
   "cell_type": "code",
   "execution_count": 118,
   "id": "1d4e49b6",
   "metadata": {},
   "outputs": [
    {
     "data": {
      "text/html": [
       "<html><script type=\"math/tex; mode=display\">\\newcommand{\\Bold}[1]{\\mathbf{#1}}\\frac{{\\left(x + 1\\right)}^{2} {\\left(x - 1\\right)}^{2}}{3 \\, x^{4} + 2 \\, x^{2} + 1}</script></html>"
      ],
      "text/plain": [
       "(x + 1)^2*(x - 1)^2/(3*x^4 + 2*x^2 + 1)"
      ]
     },
     "execution_count": 118,
     "metadata": {},
     "output_type": "execute_result"
    }
   ],
   "source": [
    "k1.subs(d==0).full_simplify().factor()"
   ]
  },
  {
   "cell_type": "code",
   "execution_count": 119,
   "id": "ee112903",
   "metadata": {},
   "outputs": [
    {
     "data": {
      "text/html": [
       "<html><script type=\"math/tex; mode=display\">\\newcommand{\\Bold}[1]{\\mathbf{#1}}\\frac{3 \\, x^{4} + 2 \\, x^{2} + 1}{{\\left(x + 1\\right)}^{2} {\\left(x - 1\\right)}^{2}}</script></html>"
      ],
      "text/plain": [
       "(3*x^4 + 2*x^2 + 1)/((x + 1)^2*(x - 1)^2)"
      ]
     },
     "execution_count": 119,
     "metadata": {},
     "output_type": "execute_result"
    }
   ],
   "source": [
    "(1/k1).subs(d==0).full_simplify().factor()"
   ]
  },
  {
   "cell_type": "code",
   "execution_count": 121,
   "id": "78dfa46e",
   "metadata": {},
   "outputs": [
    {
     "data": {
      "text/html": [
       "<html><script type=\"math/tex; mode=display\">\\newcommand{\\Bold}[1]{\\mathbf{#1}}3 \\, x^{4} + 2 \\, x^{2} + 1</script></html>"
      ],
      "text/plain": [
       "3*x^4 + 2*x^2 + 1"
      ]
     },
     "execution_count": 121,
     "metadata": {},
     "output_type": "execute_result"
    }
   ],
   "source": [
    "(3*x**4 + 2*x**2 + 1).factor()"
   ]
  },
  {
   "cell_type": "code",
   "execution_count": null,
   "id": "34b67946",
   "metadata": {},
   "outputs": [],
   "source": []
  }
 ],
 "metadata": {
  "kernelspec": {
   "display_name": "SageMath 9.0",
   "language": "sage",
   "name": "sagemath"
  },
  "language_info": {
   "codemirror_mode": {
    "name": "ipython",
    "version": 3
   },
   "file_extension": ".py",
   "mimetype": "text/x-python",
   "name": "python",
   "nbconvert_exporter": "python",
   "pygments_lexer": "ipython3",
   "version": "3.8.10"
  }
 },
 "nbformat": 4,
 "nbformat_minor": 5
}
