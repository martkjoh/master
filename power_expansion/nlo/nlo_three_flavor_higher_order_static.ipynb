{
 "cells": [
  {
   "cell_type": "code",
   "execution_count": 1,
   "id": "56d1c3a9",
   "metadata": {},
   "outputs": [],
   "source": [
    "%display latex\n",
    "load(\"../three_flavor.sage\")"
   ]
  },
  {
   "cell_type": "code",
   "execution_count": 2,
   "id": "cc2f7ff0",
   "metadata": {},
   "outputs": [],
   "source": [
    "v = v_mu\n",
    "n = 0\n",
    "S, Sd, dS, dSd = get_S(n, l2, indx=\"mu\")"
   ]
  },
  {
   "cell_type": "code",
   "execution_count": 3,
   "id": "404f6fcf",
   "metadata": {},
   "outputs": [],
   "source": [
    "indxs = [\"mu\", \"nu\", \"rho\"]\n",
    "\n",
    "v = []\n",
    "COM = []\n",
    "COMd = []\n",
    "for i in indxs:\n",
    "    d = var(\"d\"+i, latex_name=\"\\\\delta_\\\\\"+i, domain=\"real\")\n",
    "    v = d*mu\n",
    "    COM.append(-(v*S - S*v))      # [v_mu, Sigma]\n",
    "    COMd.append(v*Sd - Sd*v) # [v_nu, Sigma^\\dagger]"
   ]
  },
  {
   "cell_type": "code",
   "execution_count": 4,
   "id": "a54263c8",
   "metadata": {},
   "outputs": [],
   "source": [
    "dS = []\n",
    "dSd=[]\n",
    "for i in indxs:\n",
    "    _, _, dSi, dSdi = get_S(n, l2, indx=i)\n",
    "    dS.append(dSi)\n",
    "    dSd.append(dSdi)"
   ]
  },
  {
   "cell_type": "code",
   "execution_count": 5,
   "id": "69d334df",
   "metadata": {},
   "outputs": [],
   "source": [
    "kin = []\n",
    "for i, ind in enumerate(indxs):\n",
    "    term1 = mat_prep(dS[i]*(dSd[i]), n=n)\n",
    "    term2 = -I*mat_prep(dS[i]*COMd[i] - COM[i]*dS[i], n=n)\n",
    "    term3 = mat_prep(COM[i]*COMd[i], n=n)\n",
    "    kin.append(term1 + term2 + term3)"
   ]
  },
  {
   "cell_type": "code",
   "execution_count": 6,
   "id": "c6a97f66",
   "metadata": {},
   "outputs": [],
   "source": [
    "L1 = (kin[0].trace()**2).series(e, n+1).truncate().trig_reduce().full_simplify()\n",
    "L2 = kin[0].trace()*kin[1].trace()\n",
    "L2 = L2.series(e, n+1).truncate().trig_reduce().full_simplify()\n",
    "L3 = (kin[0]**2).trace()\n",
    "L3 = L3.series(e, n+1).truncate().trig_reduce().full_simplify()\n",
    "chiS = chi*Sd + S*chi.T\n",
    "L4 = kin[0].trace()*chiS.trace()\n",
    "L4 = L4.series(e, n+1).truncate().trig_reduce().full_simplify()\n",
    "L5 = (kin[0]*chiS).trace()\n",
    "L5 = L5.series(e, n+1).truncate().trig_reduce().full_simplify()\n",
    "L6 = (chiS.trace())^2\n",
    "L6 = L6.series(e, n+1).truncate().trig_reduce().full_simplify()\n",
    "L7 = mat_prep(chi*Sd - S*chi.T, n=n)\n",
    "L7 = (L7.trace())^2\n",
    "L7 = L7.series(e, n+1).truncate().trig_reduce().full_simplify()\n",
    "L8 = mat_prep((chi*Sd)^2 + (S*chi.T)^2, n=n)\n",
    "L8 = L8.trace().series(e, n+1).truncate().trig_reduce()\n",
    "H2 = (chi*chi.T).trace().expand()"
   ]
  },
  {
   "cell_type": "code",
   "execution_count": 7,
   "id": "e1e0577f",
   "metadata": {},
   "outputs": [],
   "source": [
    "l = [var(\"l\"+str(i), latex_name=\"L_\"+str(i)) for i in range(1, 9) ]\n",
    "l.append(var(\"h2\", latex_name=\"H_2\"))\n",
    "\n",
    "Ls = [L1, L2, L3, L4, L5, L6, L7, L8, H2]\n",
    "for i in range(len(Ls)):\n",
    "    Ls[i] = Ls[i].subs(dmu==1).subs(dnu==1)\n",
    "L = sum([l*Ls[i] for i, l in enumerate(l)])\n",
    "L = L.subs(dmu==1).subs(dnu==1).trig_reduce().full_simplify()"
   ]
  },
  {
   "cell_type": "code",
   "execution_count": 8,
   "id": "41a6c068",
   "metadata": {},
   "outputs": [
    {
     "data": {
      "text/latex": [
       "$$ 16 \\, {L_6} {m_S}^{2} {\\bar m}^{2} \\cos\\left({\\alpha}\\right) + 2 \\, {\\Delta m}^{4} {H_2} + 4 \\, {\\Delta m}^{4} {L_8} + {\\left({H_2} + 4 \\, {L_6} + 2 \\, {L_8}\\right)} {m_S}^{4} - 2 \\, {\\left(8 \\, {\\left(\\sin\\left({\\alpha}\\right)^{2} - 1\\right)} {L_6} + 2 \\, {\\left(2 \\, \\sin\\left({\\alpha}\\right)^{2} - 1\\right)} {L_8} - {H_2}\\right)} {\\bar m}^{4} + 2 \\, {\\left(2 \\, {L_1} \\sin\\left({\\alpha}\\right)^{4} + 2 \\, {L_2} \\sin\\left({\\alpha}\\right)^{4} + {L_3} \\sin\\left({\\alpha}\\right)^{4}\\right)} {\\mu_I}^{4} + 4 \\, {\\left({L_4} {m_S}^{2} \\sin\\left({\\alpha}\\right)^{2} + {\\left(2 \\, {L_4} \\cos\\left({\\alpha}\\right) \\sin\\left({\\alpha}\\right)^{2} + {L_5} \\cos\\left({\\alpha}\\right) \\sin\\left({\\alpha}\\right)^{2}\\right)} {\\bar m}^{2}\\right)} {\\mu_I}^{2} $$"
      ],
      "text/plain": [
       "<IPython.core.display.Latex object>"
      ]
     },
     "metadata": {},
     "output_type": "display_data"
    }
   ],
   "source": [
    "pprint(L.simplify())"
   ]
  },
  {
   "cell_type": "code",
   "execution_count": 9,
   "id": "41f614ad",
   "metadata": {},
   "outputs": [
    {
     "data": {
      "text/latex": [
       "$$ 4 \\, {\\mu_I}^{4} \\sin\\left({\\alpha}\\right)^{4} $$"
      ],
      "text/plain": [
       "<IPython.core.display.Latex object>"
      ]
     },
     "metadata": {},
     "output_type": "display_data"
    },
    {
     "data": {
      "text/latex": [
       "$$ 4 \\, {\\mu_I}^{4} \\sin\\left({\\alpha}\\right)^{4} $$"
      ],
      "text/plain": [
       "<IPython.core.display.Latex object>"
      ]
     },
     "metadata": {},
     "output_type": "display_data"
    },
    {
     "data": {
      "text/latex": [
       "$$ 2 \\, {\\mu_I}^{4} \\sin\\left({\\alpha}\\right)^{4} $$"
      ],
      "text/plain": [
       "<IPython.core.display.Latex object>"
      ]
     },
     "metadata": {},
     "output_type": "display_data"
    },
    {
     "data": {
      "text/latex": [
       "$$ 8 \\, {\\bar m}^{2} {\\mu_I}^{2} \\cos\\left({\\alpha}\\right) \\sin\\left({\\alpha}\\right)^{2} + 4 \\, {m_S}^{2} {\\mu_I}^{2} \\sin\\left({\\alpha}\\right)^{2} $$"
      ],
      "text/plain": [
       "<IPython.core.display.Latex object>"
      ]
     },
     "metadata": {},
     "output_type": "display_data"
    },
    {
     "data": {
      "text/latex": [
       "$$ 4 \\, {\\bar m}^{2} {\\mu_I}^{2} \\cos\\left({\\alpha}\\right) \\sin\\left({\\alpha}\\right)^{2} $$"
      ],
      "text/plain": [
       "<IPython.core.display.Latex object>"
      ]
     },
     "metadata": {},
     "output_type": "display_data"
    },
    {
     "data": {
      "text/latex": [
       "$$ 16 \\, {\\bar m}^{4} \\cos\\left({\\alpha}\\right)^{2} + 16 \\, {m_S}^{2} {\\bar m}^{2} \\cos\\left({\\alpha}\\right) + 4 \\, {m_S}^{4} $$"
      ],
      "text/plain": [
       "<IPython.core.display.Latex object>"
      ]
     },
     "metadata": {},
     "output_type": "display_data"
    },
    {
     "data": {
      "text/latex": [
       "$$ 0 $$"
      ],
      "text/plain": [
       "<IPython.core.display.Latex object>"
      ]
     },
     "metadata": {},
     "output_type": "display_data"
    },
    {
     "data": {
      "text/latex": [
       "$$ 8 \\, {\\bar m}^{4} \\cos\\left({\\alpha}\\right)^{2} + 4 \\, {\\Delta m}^{4} + 2 \\, {m_S}^{4} - 4 \\, {\\bar m}^{4} $$"
      ],
      "text/plain": [
       "<IPython.core.display.Latex object>"
      ]
     },
     "metadata": {},
     "output_type": "display_data"
    },
    {
     "data": {
      "text/latex": [
       "$$ 2 \\, {\\Delta m}^{4} + {m_S}^{4} + 2 \\, {\\bar m}^{4} $$"
      ],
      "text/plain": [
       "<IPython.core.display.Latex object>"
      ]
     },
     "metadata": {},
     "output_type": "display_data"
    }
   ],
   "source": [
    "[pprint(L.full_simplify().expand()) for L in Ls];"
   ]
  },
  {
   "cell_type": "code",
   "execution_count": 10,
   "id": "fa9c3e60",
   "metadata": {},
   "outputs": [
    {
     "data": {
      "text/html": [
       "<html><script type=\"math/tex; mode=display\">\\newcommand{\\Bold}[1]{\\mathbf{#1}}2 \\, \\cos\\left({\\alpha}\\right)^{2} - 1</script></html>"
      ],
      "text/plain": [
       "2*cos(a)^2 - 1"
      ]
     },
     "execution_count": 10,
     "metadata": {},
     "output_type": "execute_result"
    }
   ],
   "source": [
    "cos(2*a).full_simplify()"
   ]
  },
  {
   "cell_type": "code",
   "execution_count": null,
   "id": "bb017c51",
   "metadata": {},
   "outputs": [],
   "source": []
  }
 ],
 "metadata": {
  "kernelspec": {
   "display_name": "SageMath 9.0",
   "language": "sage",
   "name": "sagemath"
  },
  "language_info": {
   "codemirror_mode": {
    "name": "ipython",
    "version": 3
   },
   "file_extension": ".py",
   "mimetype": "text/x-python",
   "name": "python",
   "nbconvert_exporter": "python",
   "pygments_lexer": "ipython3",
   "version": "3.8.10"
  }
 },
 "nbformat": 4,
 "nbformat_minor": 5
}
