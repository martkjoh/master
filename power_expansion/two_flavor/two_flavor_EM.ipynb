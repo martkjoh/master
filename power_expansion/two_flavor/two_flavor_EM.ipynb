{
 "cells": [
  {
   "cell_type": "code",
   "execution_count": 1,
   "id": "27298589",
   "metadata": {},
   "outputs": [],
   "source": [
    "%display latex\n",
    "load(\"../two_flavor.sage\")"
   ]
  },
  {
   "cell_type": "markdown",
   "id": "67025366",
   "metadata": {},
   "source": [
    "# EM contribution to LO free energy"
   ]
  },
  {
   "cell_type": "code",
   "execution_count": 4,
   "id": "d8f04d54",
   "metadata": {},
   "outputs": [
    {
     "data": {
      "text/html": [
       "<html><script type=\"math/tex; mode=display\">\\newcommand{\\Bold}[1]{\\mathbf{#1}}\\left[-\\frac{1}{2} \\, {\\varepsilon}^{2} \\pi_{1}\\left(x\\right)^{2} - \\frac{1}{2} \\, {\\varepsilon}^{2} \\pi_{2}\\left(x\\right)^{2} - \\frac{1}{2} \\, {\\varepsilon}^{2} \\pi_{3}\\left(x\\right)^{2} + 1, -\\frac{1}{6} i \\, {\\varepsilon}^{3} \\pi_{1}\\left(x\\right)^{3} - \\frac{1}{6} i \\, {\\varepsilon}^{3} \\pi_{1}\\left(x\\right) \\pi_{2}\\left(x\\right)^{2} - \\frac{1}{6} i \\, {\\varepsilon}^{3} \\pi_{1}\\left(x\\right) \\pi_{3}\\left(x\\right)^{2} + i \\, {\\varepsilon} \\pi_{1}\\left(x\\right), -\\frac{1}{6} i \\, {\\varepsilon}^{3} \\pi_{2}\\left(x\\right)^{3} - \\frac{1}{6} i \\, {\\varepsilon}^{3} \\pi_{2}\\left(x\\right) \\pi_{3}\\left(x\\right)^{2} - \\frac{1}{6} \\, {\\left(i \\, {\\varepsilon}^{3} \\pi_{1}\\left(x\\right)^{2} - 6 i \\, {\\varepsilon}\\right)} \\pi_{2}\\left(x\\right), -\\frac{1}{6} i \\, {\\varepsilon}^{3} \\pi_{3}\\left(x\\right)^{3} - \\frac{1}{6} \\, {\\left(i \\, {\\varepsilon}^{3} \\pi_{1}\\left(x\\right)^{2} + i \\, {\\varepsilon}^{3} \\pi_{2}\\left(x\\right)^{2} - 6 i \\, {\\varepsilon}\\right)} \\pi_{3}\\left(x\\right)\\right]</script></html>"
      ],
      "text/plain": [
       "[-1/2*e^2*pi1(x)^2 - 1/2*e^2*pi2(x)^2 - 1/2*e^2*pi3(x)^2 + 1,\n",
       " -1/6*I*e^3*pi1(x)^3 - 1/6*I*e^3*pi1(x)*pi2(x)^2 - 1/6*I*e^3*pi1(x)*pi3(x)^2 + I*e*pi1(x),\n",
       " -1/6*I*e^3*pi2(x)^3 - 1/6*I*e^3*pi2(x)*pi3(x)^2 - 1/6*(I*e^3*pi1(x)^2 - 6*I*e)*pi2(x),\n",
       " -1/6*I*e^3*pi3(x)^3 - 1/6*(I*e^3*pi1(x)^2 + I*e^3*pi2(x)^2 - 6*I*e)*pi3(x)]"
      ]
     },
     "execution_count": 4,
     "metadata": {},
     "output_type": "execute_result"
    }
   ],
   "source": [
    "n = 3\n",
    "S = mat_prep(U(n)*U(n), n=n)\n",
    "proj(S, s)"
   ]
  },
  {
   "cell_type": "code",
   "execution_count": 6,
   "id": "049454a4",
   "metadata": {},
   "outputs": [
    {
     "data": {
      "text/html": [
       "<html><script type=\"math/tex; mode=display\">\\newcommand{\\Bold}[1]{\\mathbf{#1}}-{\\varepsilon}^{2} \\pi_{1}\\left(x\\right)^{2} - {\\varepsilon}^{2} \\pi_{2}\\left(x\\right)^{2} + \\frac{5}{9}</script></html>"
      ],
      "text/plain": [
       "-e^2*pi1(x)^2 - e^2*pi2(x)^2 + 5/9"
      ]
     },
     "execution_count": 6,
     "metadata": {},
     "output_type": "execute_result"
    }
   ],
   "source": [
    "QSQS = mat_prep(Q*S*Q*S.C.T, n=n)\n",
    "\n",
    "proj(QSQS, s)\n",
    "(QSQS).trace().simplify_full()"
   ]
  },
  {
   "cell_type": "code",
   "execution_count": 7,
   "id": "d68cd158",
   "metadata": {},
   "outputs": [
    {
     "data": {
      "text/html": [
       "<html><script type=\"math/tex; mode=display\">\\newcommand{\\Bold}[1]{\\mathbf{#1}}2 \\, {\\varepsilon}^{2} {e \\mathcal A_\\mu}^{2} \\pi_{1}\\left(x\\right)^{2} + 2 \\, {\\varepsilon}^{2} {e \\mathcal A_\\mu}^{2} \\pi_{2}\\left(x\\right)^{2} - 4 \\, {\\varepsilon}^{2} {e \\mathcal A_\\mu} \\pi_{2}\\left(x\\right) \\frac{\\partial}{\\partial x}\\pi_{1}\\left(x\\right) + 4 \\, {\\varepsilon}^{2} {e \\mathcal A_\\mu} \\pi_{1}\\left(x\\right) \\frac{\\partial}{\\partial x}\\pi_{2}\\left(x\\right) + 2 \\, {\\varepsilon}^{2} \\frac{\\partial}{\\partial x}\\pi_{1}\\left(x\\right)^{2} + 2 \\, {\\varepsilon}^{2} \\frac{\\partial}{\\partial x}\\pi_{2}\\left(x\\right)^{2} + 2 \\, {\\varepsilon}^{2} \\frac{\\partial}{\\partial x}\\pi_{3}\\left(x\\right)^{2}</script></html>"
      ],
      "text/plain": [
       "2*e^2*eA^2*pi1(x)^2 + 2*e^2*eA^2*pi2(x)^2 - 4*e^2*eA*pi2(x)*diff(pi1(x), x) + 4*e^2*eA*pi1(x)*diff(pi2(x), x) + 2*e^2*diff(pi1(x), x)^2 + 2*e^2*diff(pi2(x), x)^2 + 2*e^2*diff(pi3(x), x)^2"
      ]
     },
     "execution_count": 7,
     "metadata": {},
     "output_type": "execute_result"
    }
   ],
   "source": [
    "v = v_I + v_EM\n",
    "tr_nabla_sq(S, v_EM, n).full_simplify()"
   ]
  },
  {
   "cell_type": "code",
   "execution_count": 8,
   "id": "274baad1",
   "metadata": {},
   "outputs": [
    {
     "data": {
      "text/html": [
       "<html><script type=\"math/tex; mode=display\">\\newcommand{\\Bold}[1]{\\mathbf{#1}}-2 \\, {\\varepsilon}^{2} {\\bar m}^{2} \\pi_{1}\\left(x\\right)^{2} - 2 \\, {\\varepsilon}^{2} {\\bar m}^{2} \\pi_{2}\\left(x\\right)^{2} - 2 \\, {\\varepsilon}^{2} {\\bar m}^{2} \\pi_{3}\\left(x\\right)^{2} + 4 \\, {\\bar m}^{2}</script></html>"
      ],
      "text/plain": [
       "-2*e^2*mm^2*pi1(x)^2 - 2*e^2*mm^2*pi2(x)^2 - 2*e^2*mm^2*pi3(x)^2 + 4*mm^2"
      ]
     },
     "execution_count": 8,
     "metadata": {},
     "output_type": "execute_result"
    }
   ],
   "source": [
    "(S*chi.C.T + chi*S.C.T).trace().full_simplify()"
   ]
  },
  {
   "cell_type": "code",
   "execution_count": null,
   "id": "dcac7389",
   "metadata": {},
   "outputs": [],
   "source": []
  }
 ],
 "metadata": {
  "kernelspec": {
   "display_name": "SageMath 9.0",
   "language": "sage",
   "name": "sagemath"
  },
  "language_info": {
   "codemirror_mode": {
    "name": "ipython",
    "version": 3
   },
   "file_extension": ".py",
   "mimetype": "text/x-python",
   "name": "python",
   "nbconvert_exporter": "python",
   "pygments_lexer": "ipython3",
   "version": "3.8.10"
  }
 },
 "nbformat": 4,
 "nbformat_minor": 5
}
