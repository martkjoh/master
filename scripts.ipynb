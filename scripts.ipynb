{
 "cells": [
  {
   "cell_type": "code",
   "execution_count": 10,
   "metadata": {},
   "outputs": [],
   "source": [
    "%display latex"
   ]
  },
  {
   "cell_type": "markdown",
   "metadata": {},
   "source": [
    "### Setup\n"
   ]
  },
  {
   "cell_type": "code",
   "execution_count": 8,
   "metadata": {},
   "outputs": [
    {
     "data": {
      "text/html": [
       "<html><script type=\"math/tex; mode=display\">\\newcommand{\\Bold}[1]{\\mathbf{#1}}\\left[\\left(\\begin{array}{rr}\n",
       "0 & 1 \\\\\n",
       "1 & 0\n",
       "\\end{array}\\right), \\left(\\begin{array}{rr}\n",
       "0 & -i \\\\\n",
       "i & 0\n",
       "\\end{array}\\right), \\left(\\begin{array}{rr}\n",
       "1 & 0 \\\\\n",
       "0 & -1\n",
       "\\end{array}\\right)\\right]</script></html>"
      ],
      "text/plain": [
       "[\n",
       "[0 1]  [ 0 -I]  [ 1  0]\n",
       "[1 0], [ I  0], [ 0 -1]\n",
       "]"
      ]
     },
     "execution_count": 8,
     "metadata": {},
     "output_type": "execute_result"
    }
   ],
   "source": [
    "import numpy as np\n",
    "s1 = matrix(\n",
    "    [\n",
    "        [0, 1],\n",
    "        [1, 0]\n",
    "    ]\n",
    ")\n",
    "s2 = matrix(\n",
    "    [\n",
    "        [0, -i],\n",
    "        [i, 0]\n",
    "    ]\n",
    ")\n",
    "s3 = matrix(\n",
    "    [\n",
    "        [1, 0],\n",
    "        [0, -1]\n",
    "    ]\n",
    ")\n",
    "\n",
    "one = matrix.identity(s1.dimensions()[0])\n",
    "\n",
    "s = [s1, s2, s3]\n",
    "s"
   ]
  },
  {
   "cell_type": "code",
   "execution_count": 12,
   "metadata": {},
   "outputs": [
    {
     "data": {
      "text/html": [
       "<html><script type=\"math/tex; mode=display\">\\newcommand{\\Bold}[1]{\\mathbf{#1}}\\left(\\pi_1\\left(x\\right),\\,\\pi_2\\left(x\\right),\\,\\pi_3\\left(x\\right)\\right)</script></html>"
      ],
      "text/plain": [
       "(pi1(x), pi2(x), pi3(x))"
      ]
     },
     "execution_count": 12,
     "metadata": {},
     "output_type": "execute_result"
    }
   ],
   "source": [
    "# Hack\n",
    "# Needed to take conjugate of pi functions\n",
    "# Do not know of a better way\n",
    "\n",
    "def Id(self, x): return self(x)\n",
    "\n",
    "p = vector([\n",
    "    function(\"pi\"+str(i), latex_name=\"\\\\pi_\"+str(i), conjugate_func=Id)(x) for i  in range(1, 4)\n",
    "])\n",
    "p"
   ]
  },
  {
   "cell_type": "code",
   "execution_count": 16,
   "metadata": {},
   "outputs": [
    {
     "data": {
      "text/html": [
       "<html><script type=\"math/tex; mode=display\">\\newcommand{\\Bold}[1]{\\mathbf{#1}}\\left(\\begin{array}{rr}\n",
       "\\frac{2}{3} & 0 \\\\\n",
       "0 & -\\frac{1}{3}\n",
       "\\end{array}\\right)</script></html>"
      ],
      "text/plain": [
       "[ 2/3    0]\n",
       "[   0 -1/3]"
      ]
     },
     "execution_count": 16,
     "metadata": {},
     "output_type": "execute_result"
    }
   ],
   "source": [
    "Q = 1/6 * one + 1/2*s3\n",
    "Q"
   ]
  },
  {
   "cell_type": "code",
   "execution_count": 17,
   "metadata": {},
   "outputs": [],
   "source": [
    "var(\"e\", latex_name=\"\\\\varepsilon\", domain=\"real\")\n",
    "var(\"d\", latex_name=\"\\\\delta\", domain=\"real\")\n",
    "var(\"mu\", latex_name=\"\\\\mu_I\", domain=\"real\")\n",
    "var(\"a\", latex_name=\"\\\\alpha\", domain=\"real\")\n",
    "\n",
    "pi_s = e * sum([s[i]*p[i] for i in range(len(s))])\n",
    "v = 1/2*d*mu*s3\n",
    "\n",
    "n = 3 # expand up to, not incluing, n"
   ]
  },
  {
   "cell_type": "markdown",
   "metadata": {},
   "source": [
    "Functions for simplifying and printing expressions"
   ]
  },
  {
   "cell_type": "code",
   "execution_count": 18,
   "metadata": {},
   "outputs": [],
   "source": [
    "def mat_series(mat, x, n):\n",
    "    d = mat.dimensions()\n",
    "    for i in range(0, d[0]):\n",
    "        for j in range(0, d[1]):\n",
    "            mat[i, j] = mat[i, j].series(x, n).truncate()\n",
    "\n",
    "def mat_simp(mat):\n",
    "    d = mat.dimensions()\n",
    "    for i in range(0, d[0]):\n",
    "        for j in range(0, d[1]):\n",
    "            mat[i, j] = mat[i, j].full_simplify()\n",
    "            mat[i, j] = mat[i, j].trig_reduce()\n",
    "\n",
    "def mat_prep(mat, n=n):\n",
    "    mat_series(mat, e, n)\n",
    "    mat_simp(mat)\n",
    "    return mat\n",
    "\n",
    "def print_e(elem):\n",
    "    coeff = elem.coefficients(e)\n",
    "    for i in range(len(coeff)):\n",
    "        print(e^coeff[i][1], \":\")\n",
    "        c = coeff[i][0].coefficients(mu)\n",
    "        for k in c:\n",
    "            s = k[0].full_simplify()*mu**k[1]\n",
    "            pretty_print(s.factor())\n",
    "\n",
    "def print_e2(elem):\n",
    "    coeff = elem.coefficients(e)\n",
    "    for i in range(len(coeff)):\n",
    "        print(e^coeff[i][1], \":\")\n",
    "        c = coeff[i][0].coefficients(mu)\n",
    "        for k in c:\n",
    "            s = k[0].full_simplify()*mu**k[1]\n",
    "            pretty_print(s.factor().full_simplify())"
   ]
  },
  {
   "cell_type": "code",
   "execution_count": 19,
   "metadata": {},
   "outputs": [],
   "source": [
    "acom = lambda A1, A2 : A1 * A2 + A2 * A1\n",
    "com = lambda A1, A2 : A1 * A2 - A2 * A1\n",
    "\n",
    "def proj(A):\n",
    "    A1 = A.trace()/2\n",
    "    A = A - one * A1\n",
    "    v = [A1, acom(A, s1)[0, 0]/2, acom(A, s2)[0, 0]/2, acom(A, s3)[0, 0]/2]\n",
    "    v = [a.full_simplify().trig_reduce() for a in v]\n",
    "    return v "
   ]
  },
  {
   "cell_type": "code",
   "execution_count": 20,
   "metadata": {},
   "outputs": [],
   "source": [
    "POW = lambda A, n : matrix.identity(A.dimensions()[0]) if (n == 0) else A * POW(A, n-1)\n",
    "EXP = lambda A, n : sum([POW(A, i)/factorial(i) for i in range(n+1)])"
   ]
  },
  {
   "cell_type": "markdown",
   "metadata": {},
   "source": [
    "### Find $\\Sigma$ and derivatives"
   ]
  },
  {
   "cell_type": "code",
   "execution_count": 30,
   "metadata": {},
   "outputs": [
    {
     "data": {
      "text/html": [
       "<html><script type=\"math/tex; mode=display\">\\newcommand{\\Bold}[1]{\\mathbf{#1}}\\left[-\\frac{1}{2} \\, {\\varepsilon}^{2} \\pi_1\\left(x\\right)^{2} - \\frac{1}{2} \\, {\\varepsilon}^{2} \\pi_2\\left(x\\right)^{2} - \\frac{1}{2} \\, {\\varepsilon}^{2} \\pi_3\\left(x\\right)^{2} + 1, i \\, {\\varepsilon} \\pi_1\\left(x\\right), i \\, {\\varepsilon} \\pi_2\\left(x\\right), i \\, {\\varepsilon} \\pi_3\\left(x\\right)\\right]</script></html>"
      ],
      "text/plain": [
       "[-1/2*e^2*pi1(x)^2 - 1/2*e^2*pi2(x)^2 - 1/2*e^2*pi3(x)^2 + 1,\n",
       " I*e*pi1(x),\n",
       " I*e*pi2(x),\n",
       " I*e*pi3(x)]"
      ]
     },
     "execution_count": 30,
     "metadata": {},
     "output_type": "execute_result"
    }
   ],
   "source": [
    "A_a = one*cos(a/2) + I * s1 * sin(a/2)\n",
    "U = lambda n: EXP(I * pi_s/2, n)\n",
    "SIGMA = lambda n: mat_prep(A_a * U(n) * U(n) * A_a)\n",
    "S = mat_prep(SIGMA(n), n=n)\n",
    "\n",
    "S = mat_prep(U(n)*U(n), n=n)\n",
    "proj(S)"
   ]
  },
  {
   "cell_type": "code",
   "execution_count": 34,
   "metadata": {},
   "outputs": [
    {
     "data": {
      "text/html": [
       "<html><script type=\"math/tex; mode=display\">\\newcommand{\\Bold}[1]{\\mathbf{#1}}-{\\varepsilon}^{2} \\pi_1\\left(x\\right)^{2} - {\\varepsilon}^{2} \\pi_2\\left(x\\right)^{2} + \\frac{5}{9}</script></html>"
      ],
      "text/plain": [
       "-e^2*pi1(x)^2 - e^2*pi2(x)^2 + 5/9"
      ]
     },
     "execution_count": 34,
     "metadata": {},
     "output_type": "execute_result"
    }
   ],
   "source": [
    "(mat_prep(Q*S*Q*S.C.T, n=n)).trace().simplify_full()"
   ]
  },
  {
   "cell_type": "code",
   "execution_count": null,
   "metadata": {},
   "outputs": [],
   "source": []
  },
  {
   "cell_type": "markdown",
   "metadata": {},
   "source": [
    "$\\Sigma$, to order $(\\pi/f)^4$."
   ]
  },
  {
   "cell_type": "code",
   "execution_count": 11,
   "metadata": {},
   "outputs": [],
   "source": [
    "dS = diff(S, x) # nabla_mu Sigma\n",
    "dSct = diff(S.C.T, x)\n",
    "COM = v*S - S*v # [v_mu, Sigma]"
   ]
  },
  {
   "cell_type": "markdown",
   "metadata": {},
   "source": [
    "using $[v_\\mu, \\Sigma]^\\dagger = - [v_\\mu, \\Sigma^\\dagger] $"
   ]
  },
  {
   "cell_type": "code",
   "execution_count": 12,
   "metadata": {},
   "outputs": [],
   "source": [
    "term1 = mat_prep(dS*(dSct))\n",
    "term2 = -I*mat_prep(dS*(-COM.C.T) + COM*dSct)\n",
    "term3 = mat_prep(COM*COM.C.T)\n",
    "\n",
    "\n",
    "var(\"dm\", latex_name=\"\\\\Delta m\", domain=\"real\")\n",
    "var(\"mm\", latex_name=\"\\\\bar m\", domain=\"real\")\n",
    "var(\"B0\", latex_name=\"B_0\", domain=\"real\")\n",
    "\n",
    "chi = (mm^2 * one + dm^2 * s3)\n",
    "\n",
    "term4 = mat_prep(chi*S.C.T + S*chi.C.T, n=5)\n",
    "\n",
    "terms_full = [term1, term2, term3, term4]"
   ]
  },
  {
   "cell_type": "markdown",
   "metadata": {},
   "source": [
    "### All terms in the leading order Lagrangian\n",
    "Sorted by powers of $\\pi$. $f$ is not included"
   ]
  },
  {
   "cell_type": "code",
   "execution_count": 13,
   "metadata": {},
   "outputs": [
    {
     "name": "stdout",
     "output_type": "stream",
     "text": [
      "term 1:\n",
      "e^2 :\n"
     ]
    },
    {
     "data": {
      "text/html": [
       "<html><script type=\"math/tex; mode=display\">\\newcommand{\\Bold}[1]{\\mathbf{#1}}2 \\, \\frac{\\partial}{\\partial x}\\pi_1\\left(x\\right)^{2} + 2 \\, \\frac{\\partial}{\\partial x}\\pi_2\\left(x\\right)^{2} + 2 \\, \\frac{\\partial}{\\partial x}\\pi_3\\left(x\\right)^{2}</script></html>"
      ],
      "text/plain": [
       "2*diff(pi1(x), x)^2 + 2*diff(pi2(x), x)^2 + 2*diff(pi3(x), x)^2"
      ]
     },
     "metadata": {},
     "output_type": "display_data"
    },
    {
     "name": "stdout",
     "output_type": "stream",
     "text": [
      "e^4 :\n"
     ]
    },
    {
     "data": {
      "text/html": [
       "<html><script type=\"math/tex; mode=display\">\\newcommand{\\Bold}[1]{\\mathbf{#1}}-\\frac{2}{3} \\, \\pi_2\\left(x\\right)^{2} \\frac{\\partial}{\\partial x}\\pi_1\\left(x\\right)^{2} - \\frac{2}{3} \\, \\pi_3\\left(x\\right)^{2} \\frac{\\partial}{\\partial x}\\pi_1\\left(x\\right)^{2} + \\frac{4}{3} \\, \\pi_1\\left(x\\right) \\pi_2\\left(x\\right) \\frac{\\partial}{\\partial x}\\pi_1\\left(x\\right) \\frac{\\partial}{\\partial x}\\pi_2\\left(x\\right) - \\frac{2}{3} \\, \\pi_1\\left(x\\right)^{2} \\frac{\\partial}{\\partial x}\\pi_2\\left(x\\right)^{2} - \\frac{2}{3} \\, \\pi_3\\left(x\\right)^{2} \\frac{\\partial}{\\partial x}\\pi_2\\left(x\\right)^{2} + \\frac{4}{3} \\, \\pi_1\\left(x\\right) \\pi_3\\left(x\\right) \\frac{\\partial}{\\partial x}\\pi_1\\left(x\\right) \\frac{\\partial}{\\partial x}\\pi_3\\left(x\\right) + \\frac{4}{3} \\, \\pi_2\\left(x\\right) \\pi_3\\left(x\\right) \\frac{\\partial}{\\partial x}\\pi_2\\left(x\\right) \\frac{\\partial}{\\partial x}\\pi_3\\left(x\\right) - \\frac{2}{3} \\, \\pi_1\\left(x\\right)^{2} \\frac{\\partial}{\\partial x}\\pi_3\\left(x\\right)^{2} - \\frac{2}{3} \\, \\pi_2\\left(x\\right)^{2} \\frac{\\partial}{\\partial x}\\pi_3\\left(x\\right)^{2}</script></html>"
      ],
      "text/plain": [
       "-2/3*pi2(x)^2*diff(pi1(x), x)^2 - 2/3*pi3(x)^2*diff(pi1(x), x)^2 + 4/3*pi1(x)*pi2(x)*diff(pi1(x), x)*diff(pi2(x), x) - 2/3*pi1(x)^2*diff(pi2(x), x)^2 - 2/3*pi3(x)^2*diff(pi2(x), x)^2 + 4/3*pi1(x)*pi3(x)*diff(pi1(x), x)*diff(pi3(x), x) + 4/3*pi2(x)*pi3(x)*diff(pi2(x), x)*diff(pi3(x), x) - 2/3*pi1(x)^2*diff(pi3(x), x)^2 - 2/3*pi2(x)^2*diff(pi3(x), x)^2"
      ]
     },
     "metadata": {},
     "output_type": "display_data"
    },
    {
     "name": "stdout",
     "output_type": "stream",
     "text": [
      "term 2:\n",
      "e :\n"
     ]
    },
    {
     "data": {
      "text/html": [
       "<html><script type=\"math/tex; mode=display\">\\newcommand{\\Bold}[1]{\\mathbf{#1}}4 \\, {\\delta} {\\mu_I} \\sin\\left({\\alpha}\\right) \\frac{\\partial}{\\partial x}\\pi_2\\left(x\\right)</script></html>"
      ],
      "text/plain": [
       "4*d*mu*sin(a)*diff(pi2(x), x)"
      ]
     },
     "metadata": {},
     "output_type": "display_data"
    },
    {
     "name": "stdout",
     "output_type": "stream",
     "text": [
      "e^2 :\n"
     ]
    },
    {
     "data": {
      "text/html": [
       "<html><script type=\"math/tex; mode=display\">\\newcommand{\\Bold}[1]{\\mathbf{#1}}-4 \\, {\\left(\\pi_2\\left(x\\right) \\frac{\\partial}{\\partial x}\\pi_1\\left(x\\right) - \\pi_1\\left(x\\right) \\frac{\\partial}{\\partial x}\\pi_2\\left(x\\right)\\right)} {\\delta} {\\mu_I} \\cos\\left({\\alpha}\\right)</script></html>"
      ],
      "text/plain": [
       "-4*(pi2(x)*diff(pi1(x), x) - pi1(x)*diff(pi2(x), x))*d*mu*cos(a)"
      ]
     },
     "metadata": {},
     "output_type": "display_data"
    },
    {
     "name": "stdout",
     "output_type": "stream",
     "text": [
      "e^3 :\n"
     ]
    },
    {
     "data": {
      "text/html": [
       "<html><script type=\"math/tex; mode=display\">\\newcommand{\\Bold}[1]{\\mathbf{#1}}\\frac{8}{3} \\, {\\left(\\pi_1\\left(x\\right) \\pi_2\\left(x\\right) \\frac{\\partial}{\\partial x}\\pi_1\\left(x\\right) - \\pi_1\\left(x\\right)^{2} \\frac{\\partial}{\\partial x}\\pi_2\\left(x\\right) - \\pi_3\\left(x\\right)^{2} \\frac{\\partial}{\\partial x}\\pi_2\\left(x\\right) + \\pi_2\\left(x\\right) \\pi_3\\left(x\\right) \\frac{\\partial}{\\partial x}\\pi_3\\left(x\\right)\\right)} {\\delta} {\\mu_I} \\sin\\left({\\alpha}\\right)</script></html>"
      ],
      "text/plain": [
       "8/3*(pi1(x)*pi2(x)*diff(pi1(x), x) - pi1(x)^2*diff(pi2(x), x) - pi3(x)^2*diff(pi2(x), x) + pi2(x)*pi3(x)*diff(pi3(x), x))*d*mu*sin(a)"
      ]
     },
     "metadata": {},
     "output_type": "display_data"
    },
    {
     "name": "stdout",
     "output_type": "stream",
     "text": [
      "e^4 :\n"
     ]
    },
    {
     "data": {
      "text/html": [
       "<html><script type=\"math/tex; mode=display\">\\newcommand{\\Bold}[1]{\\mathbf{#1}}\\frac{4}{3} \\, {\\left(\\pi_1\\left(x\\right)^{2} + \\pi_2\\left(x\\right)^{2} + \\pi_3\\left(x\\right)^{2}\\right)} {\\left(\\pi_2\\left(x\\right) \\frac{\\partial}{\\partial x}\\pi_1\\left(x\\right) - \\pi_1\\left(x\\right) \\frac{\\partial}{\\partial x}\\pi_2\\left(x\\right)\\right)} {\\delta} {\\mu_I} \\cos\\left({\\alpha}\\right)</script></html>"
      ],
      "text/plain": [
       "4/3*(pi1(x)^2 + pi2(x)^2 + pi3(x)^2)*(pi2(x)*diff(pi1(x), x) - pi1(x)*diff(pi2(x), x))*d*mu*cos(a)"
      ]
     },
     "metadata": {},
     "output_type": "display_data"
    },
    {
     "name": "stdout",
     "output_type": "stream",
     "text": [
      "term 3:\n",
      "1 :\n"
     ]
    },
    {
     "data": {
      "text/html": [
       "<html><script type=\"math/tex; mode=display\">\\newcommand{\\Bold}[1]{\\mathbf{#1}}2 \\, {\\delta}^{2} {\\mu_I}^{2} \\sin\\left({\\alpha}\\right)^{2}</script></html>"
      ],
      "text/plain": [
       "2*d^2*mu^2*sin(a)^2"
      ]
     },
     "metadata": {},
     "output_type": "display_data"
    },
    {
     "name": "stdout",
     "output_type": "stream",
     "text": [
      "e :\n"
     ]
    },
    {
     "data": {
      "text/html": [
       "<html><script type=\"math/tex; mode=display\">\\newcommand{\\Bold}[1]{\\mathbf{#1}}4 \\, {\\delta}^{2} {\\mu_I}^{2} \\cos\\left({\\alpha}\\right) \\pi_1\\left(x\\right) \\sin\\left({\\alpha}\\right)</script></html>"
      ],
      "text/plain": [
       "4*d^2*mu^2*cos(a)*pi1(x)*sin(a)"
      ]
     },
     "metadata": {},
     "output_type": "display_data"
    },
    {
     "name": "stdout",
     "output_type": "stream",
     "text": [
      "e^2 :\n"
     ]
    },
    {
     "data": {
      "text/html": [
       "<html><script type=\"math/tex; mode=display\">\\newcommand{\\Bold}[1]{\\mathbf{#1}}2 \\, {\\left(2 \\, \\cos\\left({\\alpha}\\right)^{2} \\pi_1\\left(x\\right)^{2} + \\cos\\left({\\alpha}\\right)^{2} \\pi_2\\left(x\\right)^{2} + \\cos\\left({\\alpha}\\right)^{2} \\pi_3\\left(x\\right)^{2} - \\pi_1\\left(x\\right)^{2} - \\pi_3\\left(x\\right)^{2}\\right)} {\\delta}^{2} {\\mu_I}^{2}</script></html>"
      ],
      "text/plain": [
       "2*(2*cos(a)^2*pi1(x)^2 + cos(a)^2*pi2(x)^2 + cos(a)^2*pi3(x)^2 - pi1(x)^2 - pi3(x)^2)*d^2*mu^2"
      ]
     },
     "metadata": {},
     "output_type": "display_data"
    },
    {
     "name": "stdout",
     "output_type": "stream",
     "text": [
      "e^3 :\n"
     ]
    },
    {
     "data": {
      "text/html": [
       "<html><script type=\"math/tex; mode=display\">\\newcommand{\\Bold}[1]{\\mathbf{#1}}-\\frac{8}{3} \\, {\\left(\\pi_1\\left(x\\right)^{2} + \\pi_2\\left(x\\right)^{2} + \\pi_3\\left(x\\right)^{2}\\right)} {\\delta}^{2} {\\mu_I}^{2} \\cos\\left({\\alpha}\\right) \\pi_1\\left(x\\right) \\sin\\left({\\alpha}\\right)</script></html>"
      ],
      "text/plain": [
       "-8/3*(pi1(x)^2 + pi2(x)^2 + pi3(x)^2)*d^2*mu^2*cos(a)*pi1(x)*sin(a)"
      ]
     },
     "metadata": {},
     "output_type": "display_data"
    },
    {
     "name": "stdout",
     "output_type": "stream",
     "text": [
      "e^4 :\n"
     ]
    },
    {
     "data": {
      "text/html": [
       "<html><script type=\"math/tex; mode=display\">\\newcommand{\\Bold}[1]{\\mathbf{#1}}\\frac{2}{3} \\, {\\left(2 \\, \\pi_1\\left(x\\right)^{2} \\sin\\left({\\alpha}\\right)^{2} + \\pi_2\\left(x\\right)^{2} \\sin\\left({\\alpha}\\right)^{2} + \\pi_3\\left(x\\right)^{2} \\sin\\left({\\alpha}\\right)^{2} - \\pi_1\\left(x\\right)^{2} - \\pi_2\\left(x\\right)^{2}\\right)} {\\left(\\pi_1\\left(x\\right)^{2} + \\pi_2\\left(x\\right)^{2} + \\pi_3\\left(x\\right)^{2}\\right)} {\\delta}^{2} {\\mu_I}^{2}</script></html>"
      ],
      "text/plain": [
       "2/3*(2*pi1(x)^2*sin(a)^2 + pi2(x)^2*sin(a)^2 + pi3(x)^2*sin(a)^2 - pi1(x)^2 - pi2(x)^2)*(pi1(x)^2 + pi2(x)^2 + pi3(x)^2)*d^2*mu^2"
      ]
     },
     "metadata": {},
     "output_type": "display_data"
    },
    {
     "name": "stdout",
     "output_type": "stream",
     "text": [
      "term 4:\n",
      "1 :\n"
     ]
    },
    {
     "data": {
      "text/html": [
       "<html><script type=\"math/tex; mode=display\">\\newcommand{\\Bold}[1]{\\mathbf{#1}}4 \\, {\\bar m}^{2} \\cos\\left({\\alpha}\\right)</script></html>"
      ],
      "text/plain": [
       "4*mm^2*cos(a)"
      ]
     },
     "metadata": {},
     "output_type": "display_data"
    },
    {
     "name": "stdout",
     "output_type": "stream",
     "text": [
      "e :\n"
     ]
    },
    {
     "data": {
      "text/html": [
       "<html><script type=\"math/tex; mode=display\">\\newcommand{\\Bold}[1]{\\mathbf{#1}}-4 \\, {\\bar m}^{2} \\pi_1\\left(x\\right) \\sin\\left({\\alpha}\\right)</script></html>"
      ],
      "text/plain": [
       "-4*mm^2*pi1(x)*sin(a)"
      ]
     },
     "metadata": {},
     "output_type": "display_data"
    },
    {
     "name": "stdout",
     "output_type": "stream",
     "text": [
      "e^2 :\n"
     ]
    },
    {
     "data": {
      "text/html": [
       "<html><script type=\"math/tex; mode=display\">\\newcommand{\\Bold}[1]{\\mathbf{#1}}-2 \\, {\\left(\\pi_1\\left(x\\right)^{2} + \\pi_2\\left(x\\right)^{2} + \\pi_3\\left(x\\right)^{2}\\right)} {\\bar m}^{2} \\cos\\left({\\alpha}\\right)</script></html>"
      ],
      "text/plain": [
       "-2*(pi1(x)^2 + pi2(x)^2 + pi3(x)^2)*mm^2*cos(a)"
      ]
     },
     "metadata": {},
     "output_type": "display_data"
    },
    {
     "name": "stdout",
     "output_type": "stream",
     "text": [
      "e^3 :\n"
     ]
    },
    {
     "data": {
      "text/html": [
       "<html><script type=\"math/tex; mode=display\">\\newcommand{\\Bold}[1]{\\mathbf{#1}}\\frac{2}{3} \\, {\\left(\\pi_1\\left(x\\right)^{2} + \\pi_2\\left(x\\right)^{2} + \\pi_3\\left(x\\right)^{2}\\right)} {\\bar m}^{2} \\pi_1\\left(x\\right) \\sin\\left({\\alpha}\\right)</script></html>"
      ],
      "text/plain": [
       "2/3*(pi1(x)^2 + pi2(x)^2 + pi3(x)^2)*mm^2*pi1(x)*sin(a)"
      ]
     },
     "metadata": {},
     "output_type": "display_data"
    },
    {
     "name": "stdout",
     "output_type": "stream",
     "text": [
      "e^4 :\n"
     ]
    },
    {
     "data": {
      "text/html": [
       "<html><script type=\"math/tex; mode=display\">\\newcommand{\\Bold}[1]{\\mathbf{#1}}\\frac{1}{6} \\, {\\left(\\pi_1\\left(x\\right)^{2} + \\pi_2\\left(x\\right)^{2} + \\pi_3\\left(x\\right)^{2}\\right)}^{2} {\\bar m}^{2} \\cos\\left({\\alpha}\\right)</script></html>"
      ],
      "text/plain": [
       "1/6*(pi1(x)^2 + pi2(x)^2 + pi3(x)^2)^2*mm^2*cos(a)"
      ]
     },
     "metadata": {},
     "output_type": "display_data"
    }
   ],
   "source": [
    "terms = [t.trace().full_simplify() for t in terms_full]\n",
    "\n",
    "for i, t in enumerate(terms):\n",
    "    print(\"term {}:\".format(i+1))\n",
    "    print_e(t)"
   ]
  },
  {
   "cell_type": "code",
   "execution_count": 14,
   "metadata": {},
   "outputs": [],
   "source": [
    "var(\"m\", domain=\"real\")\n",
    "var(\"f\", domain=\"real\")\n",
    "\n",
    "L_LO = 1/4*(term1+term2+term3+m^2*term4).trace().full_simplify().trig_reduce()\n",
    "L_coeff = L_LO.coefficients(e)\n",
    "L_coeff = [c[0].full_simplify().trig_reduce() for c in L_coeff]"
   ]
  },
  {
   "cell_type": "markdown",
   "metadata": {},
   "source": [
    "# Leading order Lagrangian\n",
    "$\\mathcal{L}_4$ to $\\mathcal{O}(\\varepsilon^4)$, sorted by powers of $\\varepsilon$ and $\\mu_I$."
   ]
  },
  {
   "cell_type": "code",
   "execution_count": 15,
   "metadata": {},
   "outputs": [
    {
     "name": "stdout",
     "output_type": "stream",
     "text": [
      "1 :\n"
     ]
    },
    {
     "data": {
      "text/html": [
       "<html><script type=\"math/tex; mode=display\">\\newcommand{\\Bold}[1]{\\mathbf{#1}}m^{2} {\\bar m}^{2} \\cos\\left({\\alpha}\\right)</script></html>"
      ],
      "text/plain": [
       "m^2*mm^2*cos(a)"
      ]
     },
     "metadata": {},
     "output_type": "display_data"
    },
    {
     "data": {
      "text/html": [
       "<html><script type=\"math/tex; mode=display\">\\newcommand{\\Bold}[1]{\\mathbf{#1}}\\frac{1}{2} \\, {\\delta}^{2} {\\mu_I}^{2} \\sin\\left({\\alpha}\\right)^{2}</script></html>"
      ],
      "text/plain": [
       "1/2*d^2*mu^2*sin(a)^2"
      ]
     },
     "metadata": {},
     "output_type": "display_data"
    },
    {
     "name": "stdout",
     "output_type": "stream",
     "text": [
      "e :\n"
     ]
    },
    {
     "data": {
      "text/html": [
       "<html><script type=\"math/tex; mode=display\">\\newcommand{\\Bold}[1]{\\mathbf{#1}}-m^{2} {\\bar m}^{2} \\pi_1\\left(x\\right) \\sin\\left({\\alpha}\\right)</script></html>"
      ],
      "text/plain": [
       "-m^2*mm^2*pi1(x)*sin(a)"
      ]
     },
     "metadata": {},
     "output_type": "display_data"
    },
    {
     "data": {
      "text/html": [
       "<html><script type=\"math/tex; mode=display\">\\newcommand{\\Bold}[1]{\\mathbf{#1}}{\\delta} {\\mu_I} \\sin\\left({\\alpha}\\right) \\frac{\\partial}{\\partial x}\\pi_2\\left(x\\right)</script></html>"
      ],
      "text/plain": [
       "d*mu*sin(a)*diff(pi2(x), x)"
      ]
     },
     "metadata": {},
     "output_type": "display_data"
    },
    {
     "data": {
      "text/html": [
       "<html><script type=\"math/tex; mode=display\">\\newcommand{\\Bold}[1]{\\mathbf{#1}}{\\delta}^{2} {\\mu_I}^{2} \\cos\\left({\\alpha}\\right) \\pi_1\\left(x\\right) \\sin\\left({\\alpha}\\right)</script></html>"
      ],
      "text/plain": [
       "d^2*mu^2*cos(a)*pi1(x)*sin(a)"
      ]
     },
     "metadata": {},
     "output_type": "display_data"
    },
    {
     "name": "stdout",
     "output_type": "stream",
     "text": [
      "e^2 :\n"
     ]
    },
    {
     "data": {
      "text/html": [
       "<html><script type=\"math/tex; mode=display\">\\newcommand{\\Bold}[1]{\\mathbf{#1}}-\\frac{1}{2} \\, m^{2} {\\bar m}^{2} \\cos\\left({\\alpha}\\right) \\pi_1\\left(x\\right)^{2} - \\frac{1}{2} \\, m^{2} {\\bar m}^{2} \\cos\\left({\\alpha}\\right) \\pi_2\\left(x\\right)^{2} - \\frac{1}{2} \\, m^{2} {\\bar m}^{2} \\cos\\left({\\alpha}\\right) \\pi_3\\left(x\\right)^{2} + \\frac{1}{2} \\, \\frac{\\partial}{\\partial x}\\pi_1\\left(x\\right)^{2} + \\frac{1}{2} \\, \\frac{\\partial}{\\partial x}\\pi_2\\left(x\\right)^{2} + \\frac{1}{2} \\, \\frac{\\partial}{\\partial x}\\pi_3\\left(x\\right)^{2}</script></html>"
      ],
      "text/plain": [
       "-1/2*m^2*mm^2*cos(a)*pi1(x)^2 - 1/2*m^2*mm^2*cos(a)*pi2(x)^2 - 1/2*m^2*mm^2*cos(a)*pi3(x)^2 + 1/2*diff(pi1(x), x)^2 + 1/2*diff(pi2(x), x)^2 + 1/2*diff(pi3(x), x)^2"
      ]
     },
     "metadata": {},
     "output_type": "display_data"
    },
    {
     "data": {
      "text/html": [
       "<html><script type=\"math/tex; mode=display\">\\newcommand{\\Bold}[1]{\\mathbf{#1}}-{\\left(\\pi_2\\left(x\\right) \\frac{\\partial}{\\partial x}\\pi_1\\left(x\\right) - \\pi_1\\left(x\\right) \\frac{\\partial}{\\partial x}\\pi_2\\left(x\\right)\\right)} {\\delta} {\\mu_I} \\cos\\left({\\alpha}\\right)</script></html>"
      ],
      "text/plain": [
       "-(pi2(x)*diff(pi1(x), x) - pi1(x)*diff(pi2(x), x))*d*mu*cos(a)"
      ]
     },
     "metadata": {},
     "output_type": "display_data"
    },
    {
     "data": {
      "text/html": [
       "<html><script type=\"math/tex; mode=display\">\\newcommand{\\Bold}[1]{\\mathbf{#1}}\\frac{1}{2} \\, {\\left(2 \\, \\cos\\left({\\alpha}\\right)^{2} \\pi_1\\left(x\\right)^{2} + \\cos\\left({\\alpha}\\right)^{2} \\pi_2\\left(x\\right)^{2} + \\cos\\left({\\alpha}\\right)^{2} \\pi_3\\left(x\\right)^{2} - \\pi_1\\left(x\\right)^{2} - \\pi_3\\left(x\\right)^{2}\\right)} {\\delta}^{2} {\\mu_I}^{2}</script></html>"
      ],
      "text/plain": [
       "1/2*(2*cos(a)^2*pi1(x)^2 + cos(a)^2*pi2(x)^2 + cos(a)^2*pi3(x)^2 - pi1(x)^2 - pi3(x)^2)*d^2*mu^2"
      ]
     },
     "metadata": {},
     "output_type": "display_data"
    },
    {
     "name": "stdout",
     "output_type": "stream",
     "text": [
      "e^3 :\n"
     ]
    },
    {
     "data": {
      "text/html": [
       "<html><script type=\"math/tex; mode=display\">\\newcommand{\\Bold}[1]{\\mathbf{#1}}\\frac{1}{6} \\, {\\left(\\pi_1\\left(x\\right)^{2} + \\pi_2\\left(x\\right)^{2} + \\pi_3\\left(x\\right)^{2}\\right)} m^{2} {\\bar m}^{2} \\pi_1\\left(x\\right) \\sin\\left({\\alpha}\\right)</script></html>"
      ],
      "text/plain": [
       "1/6*(pi1(x)^2 + pi2(x)^2 + pi3(x)^2)*m^2*mm^2*pi1(x)*sin(a)"
      ]
     },
     "metadata": {},
     "output_type": "display_data"
    },
    {
     "data": {
      "text/html": [
       "<html><script type=\"math/tex; mode=display\">\\newcommand{\\Bold}[1]{\\mathbf{#1}}\\frac{2}{3} \\, {\\left(\\pi_1\\left(x\\right) \\pi_2\\left(x\\right) \\frac{\\partial}{\\partial x}\\pi_1\\left(x\\right) - \\pi_1\\left(x\\right)^{2} \\frac{\\partial}{\\partial x}\\pi_2\\left(x\\right) - \\pi_3\\left(x\\right)^{2} \\frac{\\partial}{\\partial x}\\pi_2\\left(x\\right) + \\pi_2\\left(x\\right) \\pi_3\\left(x\\right) \\frac{\\partial}{\\partial x}\\pi_3\\left(x\\right)\\right)} {\\delta} {\\mu_I} \\sin\\left({\\alpha}\\right)</script></html>"
      ],
      "text/plain": [
       "2/3*(pi1(x)*pi2(x)*diff(pi1(x), x) - pi1(x)^2*diff(pi2(x), x) - pi3(x)^2*diff(pi2(x), x) + pi2(x)*pi3(x)*diff(pi3(x), x))*d*mu*sin(a)"
      ]
     },
     "metadata": {},
     "output_type": "display_data"
    },
    {
     "data": {
      "text/html": [
       "<html><script type=\"math/tex; mode=display\">\\newcommand{\\Bold}[1]{\\mathbf{#1}}-\\frac{2}{3} \\, {\\left(\\pi_1\\left(x\\right)^{2} + \\pi_2\\left(x\\right)^{2} + \\pi_3\\left(x\\right)^{2}\\right)} {\\delta}^{2} {\\mu_I}^{2} \\cos\\left({\\alpha}\\right) \\pi_1\\left(x\\right) \\sin\\left({\\alpha}\\right)</script></html>"
      ],
      "text/plain": [
       "-2/3*(pi1(x)^2 + pi2(x)^2 + pi3(x)^2)*d^2*mu^2*cos(a)*pi1(x)*sin(a)"
      ]
     },
     "metadata": {},
     "output_type": "display_data"
    },
    {
     "name": "stdout",
     "output_type": "stream",
     "text": [
      "e^4 :\n"
     ]
    },
    {
     "data": {
      "text/html": [
       "<html><script type=\"math/tex; mode=display\">\\newcommand{\\Bold}[1]{\\mathbf{#1}}\\frac{1}{24} \\, m^{2} {\\bar m}^{2} \\cos\\left({\\alpha}\\right) \\pi_1\\left(x\\right)^{4} + \\frac{1}{12} \\, m^{2} {\\bar m}^{2} \\cos\\left({\\alpha}\\right) \\pi_1\\left(x\\right)^{2} \\pi_2\\left(x\\right)^{2} + \\frac{1}{24} \\, m^{2} {\\bar m}^{2} \\cos\\left({\\alpha}\\right) \\pi_2\\left(x\\right)^{4} + \\frac{1}{12} \\, m^{2} {\\bar m}^{2} \\cos\\left({\\alpha}\\right) \\pi_1\\left(x\\right)^{2} \\pi_3\\left(x\\right)^{2} + \\frac{1}{12} \\, m^{2} {\\bar m}^{2} \\cos\\left({\\alpha}\\right) \\pi_2\\left(x\\right)^{2} \\pi_3\\left(x\\right)^{2} + \\frac{1}{24} \\, m^{2} {\\bar m}^{2} \\cos\\left({\\alpha}\\right) \\pi_3\\left(x\\right)^{4} - \\frac{1}{6} \\, \\pi_2\\left(x\\right)^{2} \\frac{\\partial}{\\partial x}\\pi_1\\left(x\\right)^{2} - \\frac{1}{6} \\, \\pi_3\\left(x\\right)^{2} \\frac{\\partial}{\\partial x}\\pi_1\\left(x\\right)^{2} + \\frac{1}{3} \\, \\pi_1\\left(x\\right) \\pi_2\\left(x\\right) \\frac{\\partial}{\\partial x}\\pi_1\\left(x\\right) \\frac{\\partial}{\\partial x}\\pi_2\\left(x\\right) - \\frac{1}{6} \\, \\pi_1\\left(x\\right)^{2} \\frac{\\partial}{\\partial x}\\pi_2\\left(x\\right)^{2} - \\frac{1}{6} \\, \\pi_3\\left(x\\right)^{2} \\frac{\\partial}{\\partial x}\\pi_2\\left(x\\right)^{2} + \\frac{1}{3} \\, \\pi_1\\left(x\\right) \\pi_3\\left(x\\right) \\frac{\\partial}{\\partial x}\\pi_1\\left(x\\right) \\frac{\\partial}{\\partial x}\\pi_3\\left(x\\right) + \\frac{1}{3} \\, \\pi_2\\left(x\\right) \\pi_3\\left(x\\right) \\frac{\\partial}{\\partial x}\\pi_2\\left(x\\right) \\frac{\\partial}{\\partial x}\\pi_3\\left(x\\right) - \\frac{1}{6} \\, \\pi_1\\left(x\\right)^{2} \\frac{\\partial}{\\partial x}\\pi_3\\left(x\\right)^{2} - \\frac{1}{6} \\, \\pi_2\\left(x\\right)^{2} \\frac{\\partial}{\\partial x}\\pi_3\\left(x\\right)^{2}</script></html>"
      ],
      "text/plain": [
       "1/24*m^2*mm^2*cos(a)*pi1(x)^4 + 1/12*m^2*mm^2*cos(a)*pi1(x)^2*pi2(x)^2 + 1/24*m^2*mm^2*cos(a)*pi2(x)^4 + 1/12*m^2*mm^2*cos(a)*pi1(x)^2*pi3(x)^2 + 1/12*m^2*mm^2*cos(a)*pi2(x)^2*pi3(x)^2 + 1/24*m^2*mm^2*cos(a)*pi3(x)^4 - 1/6*pi2(x)^2*diff(pi1(x), x)^2 - 1/6*pi3(x)^2*diff(pi1(x), x)^2 + 1/3*pi1(x)*pi2(x)*diff(pi1(x), x)*diff(pi2(x), x) - 1/6*pi1(x)^2*diff(pi2(x), x)^2 - 1/6*pi3(x)^2*diff(pi2(x), x)^2 + 1/3*pi1(x)*pi3(x)*diff(pi1(x), x)*diff(pi3(x), x) + 1/3*pi2(x)*pi3(x)*diff(pi2(x), x)*diff(pi3(x), x) - 1/6*pi1(x)^2*diff(pi3(x), x)^2 - 1/6*pi2(x)^2*diff(pi3(x), x)^2"
      ]
     },
     "metadata": {},
     "output_type": "display_data"
    },
    {
     "data": {
      "text/html": [
       "<html><script type=\"math/tex; mode=display\">\\newcommand{\\Bold}[1]{\\mathbf{#1}}\\frac{1}{3} \\, {\\left(\\pi_1\\left(x\\right)^{2} + \\pi_2\\left(x\\right)^{2} + \\pi_3\\left(x\\right)^{2}\\right)} {\\left(\\pi_2\\left(x\\right) \\frac{\\partial}{\\partial x}\\pi_1\\left(x\\right) - \\pi_1\\left(x\\right) \\frac{\\partial}{\\partial x}\\pi_2\\left(x\\right)\\right)} {\\delta} {\\mu_I} \\cos\\left({\\alpha}\\right)</script></html>"
      ],
      "text/plain": [
       "1/3*(pi1(x)^2 + pi2(x)^2 + pi3(x)^2)*(pi2(x)*diff(pi1(x), x) - pi1(x)*diff(pi2(x), x))*d*mu*cos(a)"
      ]
     },
     "metadata": {},
     "output_type": "display_data"
    },
    {
     "data": {
      "text/html": [
       "<html><script type=\"math/tex; mode=display\">\\newcommand{\\Bold}[1]{\\mathbf{#1}}\\frac{1}{6} \\, {\\left(2 \\, \\pi_1\\left(x\\right)^{2} \\sin\\left({\\alpha}\\right)^{2} + \\pi_2\\left(x\\right)^{2} \\sin\\left({\\alpha}\\right)^{2} + \\pi_3\\left(x\\right)^{2} \\sin\\left({\\alpha}\\right)^{2} - \\pi_1\\left(x\\right)^{2} - \\pi_2\\left(x\\right)^{2}\\right)} {\\left(\\pi_1\\left(x\\right)^{2} + \\pi_2\\left(x\\right)^{2} + \\pi_3\\left(x\\right)^{2}\\right)} {\\delta}^{2} {\\mu_I}^{2}</script></html>"
      ],
      "text/plain": [
       "1/6*(2*pi1(x)^2*sin(a)^2 + pi2(x)^2*sin(a)^2 + pi3(x)^2*sin(a)^2 - pi1(x)^2 - pi2(x)^2)*(pi1(x)^2 + pi2(x)^2 + pi3(x)^2)*d^2*mu^2"
      ]
     },
     "metadata": {},
     "output_type": "display_data"
    }
   ],
   "source": [
    "print_e(L_LO)"
   ]
  },
  {
   "cell_type": "markdown",
   "metadata": {},
   "source": [
    "Comparing to more compact notation"
   ]
  },
  {
   "cell_type": "code",
   "execution_count": 16,
   "metadata": {},
   "outputs": [
    {
     "data": {
      "text/html": [
       "<html><script type=\"math/tex; mode=display\">\\newcommand{\\Bold}[1]{\\mathbf{#1}}\\frac{1}{24} \\, m^{2} \\cos\\left({\\alpha}\\right) \\pi_1\\left(x\\right)^{4} + \\frac{1}{12} \\, m^{2} \\cos\\left({\\alpha}\\right) \\pi_1\\left(x\\right)^{2} \\pi_2\\left(x\\right)^{2} + \\frac{1}{24} \\, m^{2} \\cos\\left({\\alpha}\\right) \\pi_2\\left(x\\right)^{4} + \\frac{1}{12} \\, m^{2} \\cos\\left({\\alpha}\\right) \\pi_1\\left(x\\right)^{2} \\pi_3\\left(x\\right)^{2} + \\frac{1}{12} \\, m^{2} \\cos\\left({\\alpha}\\right) \\pi_2\\left(x\\right)^{2} \\pi_3\\left(x\\right)^{2} + \\frac{1}{24} \\, m^{2} \\cos\\left({\\alpha}\\right) \\pi_3\\left(x\\right)^{4} - \\frac{1}{6} \\, \\pi_2\\left(x\\right)^{2} \\frac{\\partial}{\\partial x}\\pi_1\\left(x\\right)^{2} - \\frac{1}{6} \\, \\pi_3\\left(x\\right)^{2} \\frac{\\partial}{\\partial x}\\pi_1\\left(x\\right)^{2} + \\frac{1}{3} \\, \\pi_1\\left(x\\right) \\pi_2\\left(x\\right) \\frac{\\partial}{\\partial x}\\pi_1\\left(x\\right) \\frac{\\partial}{\\partial x}\\pi_2\\left(x\\right) - \\frac{1}{6} \\, \\pi_1\\left(x\\right)^{2} \\frac{\\partial}{\\partial x}\\pi_2\\left(x\\right)^{2} - \\frac{1}{6} \\, \\pi_3\\left(x\\right)^{2} \\frac{\\partial}{\\partial x}\\pi_2\\left(x\\right)^{2} + \\frac{1}{3} \\, \\pi_1\\left(x\\right) \\pi_3\\left(x\\right) \\frac{\\partial}{\\partial x}\\pi_1\\left(x\\right) \\frac{\\partial}{\\partial x}\\pi_3\\left(x\\right) + \\frac{1}{3} \\, \\pi_2\\left(x\\right) \\pi_3\\left(x\\right) \\frac{\\partial}{\\partial x}\\pi_2\\left(x\\right) \\frac{\\partial}{\\partial x}\\pi_3\\left(x\\right) - \\frac{1}{6} \\, \\pi_1\\left(x\\right)^{2} \\frac{\\partial}{\\partial x}\\pi_3\\left(x\\right)^{2} - \\frac{1}{6} \\, \\pi_2\\left(x\\right)^{2} \\frac{\\partial}{\\partial x}\\pi_3\\left(x\\right)^{2}</script></html>"
      ],
      "text/plain": [
       "1/24*m^2*cos(a)*pi1(x)^4 + 1/12*m^2*cos(a)*pi1(x)^2*pi2(x)^2 + 1/24*m^2*cos(a)*pi2(x)^4 + 1/12*m^2*cos(a)*pi1(x)^2*pi3(x)^2 + 1/12*m^2*cos(a)*pi2(x)^2*pi3(x)^2 + 1/24*m^2*cos(a)*pi3(x)^4 - 1/6*pi2(x)^2*diff(pi1(x), x)^2 - 1/6*pi3(x)^2*diff(pi1(x), x)^2 + 1/3*pi1(x)*pi2(x)*diff(pi1(x), x)*diff(pi2(x), x) - 1/6*pi1(x)^2*diff(pi2(x), x)^2 - 1/6*pi3(x)^2*diff(pi2(x), x)^2 + 1/3*pi1(x)*pi3(x)*diff(pi1(x), x)*diff(pi3(x), x) + 1/3*pi2(x)*pi3(x)*diff(pi2(x), x)*diff(pi3(x), x) - 1/6*pi1(x)^2*diff(pi3(x), x)^2 - 1/6*pi2(x)^2*diff(pi3(x), x)^2"
      ]
     },
     "execution_count": 16,
     "metadata": {},
     "output_type": "execute_result"
    }
   ],
   "source": [
    "(((p*p)**2*cos(a)/4*m**2 - ((p*p)*(diff(p, x)*diff(p, x) ) - (diff(p, x)*p)**2))/6).expand()"
   ]
  },
  {
   "cell_type": "markdown",
   "metadata": {},
   "source": [
    "### Next to leading order terms\n",
    "Expanded to $\\mathcal O (\\varepsilon^3)$"
   ]
  },
  {
   "cell_type": "code",
   "execution_count": 17,
   "metadata": {},
   "outputs": [],
   "source": [
    "S = SIGMA(3)\n",
    "S = mat_prep(S, n=3)"
   ]
  },
  {
   "cell_type": "code",
   "execution_count": 18,
   "metadata": {},
   "outputs": [],
   "source": [
    "var(\"xmu\", latex_name=\"x_\\\\mu\")\n",
    "var(\"xnu\", latex_name=\"x_\\\\nu\")\n",
    "\n",
    "chiSigmaMin = mat_prep(chi*S.C.T - S*chi.C.T, n=3)"
   ]
  },
  {
   "cell_type": "markdown",
   "metadata": {},
   "source": [
    "$\\chi \\Sigma^\\dagger -\\Sigma \\chi^\\dagger$"
   ]
  },
  {
   "cell_type": "code",
   "execution_count": 19,
   "metadata": {},
   "outputs": [
    {
     "name": "stdout",
     "output_type": "stream",
     "text": [
      "e^2 :\n"
     ]
    },
    {
     "data": {
      "text/html": [
       "<html><script type=\"math/tex; mode=display\">\\newcommand{\\Bold}[1]{\\mathbf{#1}}-16 \\, {\\Delta m}^{4} \\pi_3\\left(x\\right)^{2}</script></html>"
      ],
      "text/plain": [
       "-16*dm^4*pi3(x)^2"
      ]
     },
     "metadata": {},
     "output_type": "display_data"
    }
   ],
   "source": [
    "res = (mat_prep(chiSigmaMin, n=3).trace()**2).series(e, 3).truncate()\n",
    "print_e(res)"
   ]
  },
  {
   "cell_type": "markdown",
   "metadata": {},
   "source": [
    "$\\chi \\Sigma^\\dagger + \\Sigma \\chi^\\dagger$"
   ]
  },
  {
   "cell_type": "code",
   "execution_count": 20,
   "metadata": {},
   "outputs": [
    {
     "data": {
      "text/html": [
       "<html><script type=\"math/tex; mode=display\">\\newcommand{\\Bold}[1]{\\mathbf{#1}}-{\\left({\\varepsilon}^{2} \\cos\\left({\\alpha}\\right) \\pi_1\\left(x\\right)^{2} + {\\varepsilon}^{2} \\cos\\left({\\alpha}\\right) \\pi_2\\left(x\\right)^{2} + {\\varepsilon}^{2} \\cos\\left({\\alpha}\\right) \\pi_3\\left(x\\right)^{2} + 2 \\, {\\varepsilon} \\pi_1\\left(x\\right) \\sin\\left({\\alpha}\\right) - 2 \\, \\cos\\left({\\alpha}\\right)\\right)} {\\bar m}^{2}</script></html>"
      ],
      "text/plain": [
       "-(e^2*cos(a)*pi1(x)^2 + e^2*cos(a)*pi2(x)^2 + e^2*cos(a)*pi3(x)^2 + 2*e*pi1(x)*sin(a) - 2*cos(a))*mm^2"
      ]
     },
     "metadata": {},
     "output_type": "display_data"
    },
    {
     "data": {
      "text/html": [
       "<html><script type=\"math/tex; mode=display\">\\newcommand{\\Bold}[1]{\\mathbf{#1}}-2 \\, {\\Delta m}^{2} {\\varepsilon} \\pi_2\\left(x\\right)</script></html>"
      ],
      "text/plain": [
       "-2*dm^2*e*pi2(x)"
      ]
     },
     "metadata": {},
     "output_type": "display_data"
    },
    {
     "data": {
      "text/html": [
       "<html><script type=\"math/tex; mode=display\">\\newcommand{\\Bold}[1]{\\mathbf{#1}}-{\\left({\\varepsilon}^{2} \\pi_1\\left(x\\right)^{2} \\sin\\left({\\alpha}\\right) + {\\varepsilon}^{2} \\pi_2\\left(x\\right)^{2} \\sin\\left({\\alpha}\\right) + {\\varepsilon}^{2} \\pi_3\\left(x\\right)^{2} \\sin\\left({\\alpha}\\right) - 2 \\, {\\varepsilon} \\cos\\left({\\alpha}\\right) \\pi_1\\left(x\\right) - 2 \\, \\sin\\left({\\alpha}\\right)\\right)} {\\Delta m}^{2}</script></html>"
      ],
      "text/plain": [
       "-(e^2*pi1(x)^2*sin(a) + e^2*pi2(x)^2*sin(a) + e^2*pi3(x)^2*sin(a) - 2*e*cos(a)*pi1(x) - 2*sin(a))*dm^2"
      ]
     },
     "metadata": {},
     "output_type": "display_data"
    },
    {
     "data": {
      "text/html": [
       "<html><script type=\"math/tex; mode=display\">\\newcommand{\\Bold}[1]{\\mathbf{#1}}-{\\left({\\varepsilon}^{2} \\cos\\left({\\alpha}\\right) \\pi_1\\left(x\\right)^{2} + {\\varepsilon}^{2} \\cos\\left({\\alpha}\\right) \\pi_2\\left(x\\right)^{2} + {\\varepsilon}^{2} \\cos\\left({\\alpha}\\right) \\pi_3\\left(x\\right)^{2} + 2 \\, {\\varepsilon} \\pi_1\\left(x\\right) \\sin\\left({\\alpha}\\right) - 2 \\, \\cos\\left({\\alpha}\\right)\\right)} {\\Delta m}^{2}</script></html>"
      ],
      "text/plain": [
       "-(e^2*cos(a)*pi1(x)^2 + e^2*cos(a)*pi2(x)^2 + e^2*cos(a)*pi3(x)^2 + 2*e*pi1(x)*sin(a) - 2*cos(a))*dm^2"
      ]
     },
     "metadata": {},
     "output_type": "display_data"
    },
    {
     "data": {
      "text/html": [
       "<html><script type=\"math/tex; mode=display\">\\newcommand{\\Bold}[1]{\\mathbf{#1}}-2 \\, {\\varepsilon}^{2} {\\bar m}^{2} \\cos\\left({\\alpha}\\right) \\pi_1\\left(x\\right)^{2} - 2 \\, {\\varepsilon}^{2} {\\bar m}^{2} \\cos\\left({\\alpha}\\right) \\pi_2\\left(x\\right)^{2} - 2 \\, {\\varepsilon}^{2} {\\bar m}^{2} \\cos\\left({\\alpha}\\right) \\pi_3\\left(x\\right)^{2} - 4 \\, {\\varepsilon} {\\bar m}^{2} \\pi_1\\left(x\\right) \\sin\\left({\\alpha}\\right) + 4 \\, {\\bar m}^{2} \\cos\\left({\\alpha}\\right)</script></html>"
      ],
      "text/plain": [
       "-2*e^2*mm^2*cos(a)*pi1(x)^2 - 2*e^2*mm^2*cos(a)*pi2(x)^2 - 2*e^2*mm^2*cos(a)*pi3(x)^2 - 4*e*mm^2*pi1(x)*sin(a) + 4*mm^2*cos(a)"
      ]
     },
     "execution_count": 20,
     "metadata": {},
     "output_type": "execute_result"
    }
   ],
   "source": [
    "chiSigmaPlus = mat_prep(chi*S.C.T + S*chi.T.C, n=3)\n",
    "[pretty_print(t.factor()) for t in proj(chiSigmaPlus)];\n",
    "chiSigmaPlus.trace()"
   ]
  },
  {
   "cell_type": "markdown",
   "metadata": {},
   "source": [
    "### Kinetic terms\n",
    "\n",
    "$\\nabla_\\mu \\Sigma \\nabla_\\nu \\Sigma^\\dagger$"
   ]
  },
  {
   "cell_type": "code",
   "execution_count": null,
   "metadata": {},
   "outputs": [],
   "source": [
    "S2 = mat_prep(SIGMA(3), n=3)\n",
    "S2ct = S2.C.T\n",
    "dS = diff(S2, x)\n",
    "\n",
    "COM = v*S2 - S2*v\n",
    "term1 = mat_prep(dS*(dSct))\n",
    "term2 = -I*mat_prep(COM*dSct - dS*(COM.C.T))\n",
    "term3 = mat_prep(COM*COM.C.T)"
   ]
  },
  {
   "cell_type": "code",
   "execution_count": null,
   "metadata": {},
   "outputs": [],
   "source": [
    "print_e(term1.trace().series(e, 3).truncate().full_simplify().factor())\n",
    "print_e(term2.trace().series(e, 3).truncate().full_simplify().factor())\n",
    "print_e(term3.trace().series(e, 3).truncate().full_simplify().factor())\n",
    "\n",
    "kin = term1 + term2 + term3"
   ]
  },
  {
   "cell_type": "markdown",
   "metadata": {},
   "source": [
    "Hack needed to get answer with free indices. I don'ẗ know any other way. This seems to work but be carefule, esp. with conjugate."
   ]
  },
  {
   "cell_type": "code",
   "execution_count": null,
   "metadata": {},
   "outputs": [],
   "source": [
    "dp = diff(p, x); dp\n",
    "dpmu = vector([\n",
    "    function(\n",
    "        \"pimu\"+str(i), \n",
    "        latex_name=\"\\\\partial_\\\\mu \\\\pi_\"+str(i), \n",
    "        conjugate_func=Id)(x) for i  in range(1, 4)\n",
    "])\n",
    "\n",
    "dpnu = vector([\n",
    "    function(\n",
    "        \"pinu\"+str(i), \n",
    "        latex_name=\"\\\\partial_\\\\nu \\\\pi_\"+str(i), \n",
    "        conjugate_func=Id)(x) for i  in range(1, 4)\n",
    "])\n",
    "\n",
    "dprho = vector([\n",
    "    function(\n",
    "        \"pirho\"+str(i), \n",
    "        latex_name=\"\\\\partial_\\\\rho \\\\pi_\"+str(i), \n",
    "        conjugate_func=Id)(x) for i  in range(1, 4)\n",
    "])"
   ]
  },
  {
   "cell_type": "code",
   "execution_count": null,
   "metadata": {},
   "outputs": [],
   "source": [
    "dSct = diff(S2ct, x)\n",
    "\n",
    "dSmu = copy(dS)\n",
    "dSrho = copy(dS)\n",
    "dSnuct = copy(dSct)\n",
    "dSmuct = copy(dSct)\n",
    "dSrhoct = copy(dSct)\n",
    "for i, dpi in enumerate(dp):\n",
    "    dSmu = dSmu.subs(dpi==dpmu[i])\n",
    "    dSrho = dSrho.subs(dpi==dprho[i])\n",
    "    dSnuct = dSnuct.subs(dpi==dpnu[i])\n",
    "    dSmuct = dSmuct.subs(dpi==dpmu[i])\n",
    "    dSrhoct = dSrhoct.subs(dpi==dprho[i])"
   ]
  },
  {
   "cell_type": "code",
   "execution_count": null,
   "metadata": {},
   "outputs": [],
   "source": [
    "var(\"dmu\", latex_name=\"\\\\delta_\\\\mu\", domain=\"real\")\n",
    "var(\"dnu\", latex_name=\"\\\\delta_\\\\nu\", domain=\"real\")\n",
    "var(\"drho\", latex_name=\"\\\\delta_\\\\rho\", domain=\"real\")\n",
    "\n",
    "vmu = 1/2*dmu*mu*s3\n",
    "vnu = 1/2*dnu*mu*s3\n",
    "vrho = 1/2*drho*mu*s3\n",
    "\n",
    "COMmu = -(vmu*S2 - S2*vmu)      # [v_mu, Sigma]\n",
    "COMmuct = vmu*S2ct - S2ct*vmu  # [v_nu, Sigma^\\dagger]\n",
    "\n",
    "COMnu = vnu*S2ct - S2ct*vnu  # [v_nu, Sigma^\\dagger]\n",
    "COMrho = -(vrho*S2 - S2*vrho)      # [v_mu, Sigma]\n",
    "COMrhoct = vrho*S2ct - S2ct*vrho      # [v_mu, Sigma]"
   ]
  },
  {
   "cell_type": "code",
   "execution_count": null,
   "metadata": {},
   "outputs": [],
   "source": [
    "term1a = mat_prep(dSmu*(dSmuct), n=3)\n",
    "term2a = -I*mat_prep(dSmu*COMmuct - COMmu*dSmuct, n=3)\n",
    "term3a = mat_prep(COMmu*COMmuct, n=3)\n",
    "kin_mumu = term1a + term2a + term3a\n",
    "\n",
    "term1 = mat_prep(dSrho*(dSrhoct), n=3)\n",
    "term2 = -I*mat_prep(dSrho*COMrhoct - COMrho*dSrhoct, n=3)\n",
    "term3 = mat_prep(COMrho*COMrhoct, n=3)\n",
    "kin_rhorho = term1 + term2 + term3\n",
    "\n",
    "term1 = mat_prep(dSmu*(dSnuct), n=3)\n",
    "term2 = -I*mat_prep(dSmu*COMnu - COMmu*dSnuct, n=3)\n",
    "term3 = mat_prep(COMmu*COMnu, n=3)\n",
    "kin_munu = term1 + term2 + term3"
   ]
  },
  {
   "cell_type": "markdown",
   "metadata": {},
   "source": [
    "# Constitutive terms for NLO Lagrangian\n",
    "\n",
    "term_l1:\n",
    "\n",
    "$\\mathrm{Tr}\\{ \\nabla_\\mu \\Sigma \\nabla^\\mu \\Sigma^\\dagger \\}^2$"
   ]
  },
  {
   "cell_type": "code",
   "execution_count": null,
   "metadata": {},
   "outputs": [],
   "source": [
    "term_l1 = (kin_mumu.trace()*kin_rhorho.trace()).series(e, 3).truncate()\n",
    "print_e(term_l1)"
   ]
  },
  {
   "cell_type": "markdown",
   "metadata": {},
   "source": [
    "term_l2:\n",
    "\n",
    "$\\mathrm{Tr}\\{ \\nabla_\\mu \\Sigma \\nabla_\\nu \\Sigma^\\dagger \\}\n",
    "\\mathrm{Tr}\\{ \\nabla^\\mu \\Sigma \\nabla^\\nu \\Sigma^\\dagger \\}$"
   ]
  },
  {
   "cell_type": "code",
   "execution_count": null,
   "metadata": {},
   "outputs": [],
   "source": [
    "term_l2 = (kin_munu.trace()**2).series(e, 3).truncate()\n",
    "print_e(term_l2)"
   ]
  },
  {
   "cell_type": "markdown",
   "metadata": {},
   "source": [
    "term_l3\n",
    "\n",
    "$\\mathrm{Tr}\\{ \\chi \\Sigma^\\dagger + \\Sigma \\chi^\\dagger \\}^2$"
   ]
  },
  {
   "cell_type": "code",
   "execution_count": null,
   "metadata": {},
   "outputs": [],
   "source": [
    "term_l3 = (chiSigmaPlus.trace()**2).series(e, 3).truncate().factor()\n",
    "print_e(term_l3)"
   ]
  },
  {
   "cell_type": "markdown",
   "metadata": {},
   "source": [
    "term_l4\n",
    "\n",
    "$\\mathrm{Tr}\\{ \\nabla_\\mu \\Sigma \\nabla_\\nu \\Sigma^\\dagger \\}\n",
    "\\mathrm{Tr}\\{ \\chi \\Sigma^\\dagger + \\Sigma \\chi^\\dagger \\}$"
   ]
  },
  {
   "cell_type": "code",
   "execution_count": null,
   "metadata": {},
   "outputs": [],
   "source": [
    "term_l4 = (kin.trace()*chiSigmaPlus.trace()).series(e, 3).truncate()\n",
    "print_e(term_l4)"
   ]
  },
  {
   "cell_type": "markdown",
   "metadata": {},
   "source": [
    "term_l7\n",
    "\n",
    "$\\mathrm{Tr}\\{ \\chi \\Sigma^\\dagger - \\Sigma \\chi^\\dagger \\}^2$"
   ]
  },
  {
   "cell_type": "code",
   "execution_count": null,
   "metadata": {},
   "outputs": [],
   "source": [
    "term_l7 = (mat_prep(chiSigmaMin, n=3).trace()**2).series(e, 3).truncate()\n",
    "print_e(term_l7)"
   ]
  },
  {
   "cell_type": "markdown",
   "metadata": {},
   "source": [
    "term chisq\n",
    "\n",
    "$\\mathrm{Tr}\\{\\chi^\\dagger \\chi\\}$"
   ]
  },
  {
   "cell_type": "code",
   "execution_count": null,
   "metadata": {},
   "outputs": [],
   "source": [
    "term_chisq = (chi*chi).trace().series(e, 3).truncate()\n",
    "print_e(term_chisq)"
   ]
  },
  {
   "cell_type": "markdown",
   "metadata": {},
   "source": [
    "last_term\n",
    "\n",
    "$\\mathrm{Tr}\\{ (\\chi \\Sigma^\\dagger)^2 + (\\Sigma \\chi^\\dagger)^2 \\}$"
   ]
  },
  {
   "cell_type": "code",
   "execution_count": null,
   "metadata": {},
   "outputs": [],
   "source": [
    "term_last = ((chi*S2ct)**2 + (S2*chi)**2).trace().series(e, 3)\n",
    "print_e(term_last)"
   ]
  },
  {
   "cell_type": "markdown",
   "metadata": {},
   "source": [
    "### Names\n",
    "\n",
    "term_l1:\n",
    "\n",
    "$\\mathrm{Tr}\\{ \\nabla_\\mu \\Sigma \\nabla^\\mu \\Sigma^\\dagger \\}^2$\n",
    "\n",
    "term_l2:\n",
    "\n",
    "$\\mathrm{Tr}\\{ \\nabla_\\mu \\Sigma \\nabla_\\nu \\Sigma^\\dagger \\}\n",
    "\\mathrm{Tr}\\{ \\nabla^\\mu \\Sigma \\nabla^\\nu \\Sigma^\\dagger \\}$\n",
    "\n",
    "term_l3\n",
    "\n",
    "$\\mathrm{Tr}\\{ \\chi \\Sigma^\\dagger + \\Sigma \\chi^\\dagger \\}^2$\n",
    "\n",
    "term_l4\n",
    "\n",
    "$\\mathrm{Tr}\\{ \\nabla_\\mu \\Sigma \\nabla_\\nu \\Sigma^\\dagger \\}\n",
    "\\mathrm{Tr}\\{ \\chi \\Sigma^\\dagger + \\Sigma \\chi^\\dagger \\}$\n",
    "\n",
    "term_l7\n",
    "\n",
    "$\\mathrm{Tr}\\{ \\chi \\Sigma^\\dagger - \\Sigma \\chi^\\dagger \\}^2$\n",
    "\n",
    "term chisq\n",
    "\n",
    "$\\mathrm{Tr}\\{\\chi^\\dagger \\chi\\}$\n",
    "\n",
    "term_last\n",
    "\n",
    "$\\mathrm{Tr}\\{ (\\chi \\Sigma^\\dagger)^2 + (\\Sigma \\chi^\\dagger)^2 \\}$"
   ]
  },
  {
   "cell_type": "markdown",
   "metadata": {},
   "source": [
    "## NLO Lagrangian"
   ]
  },
  {
   "cell_type": "code",
   "execution_count": null,
   "metadata": {},
   "outputs": [],
   "source": [
    "ls = [var(\"l{}\".format(i), latex_name = \"l_{}\".format(i)) for i in range(1, 8)]\n",
    "hs = [var(\"h{}\".format(i), latex_name = \"h_{}\".format(i)) for i in range(1, 8)]"
   ]
  },
  {
   "cell_type": "code",
   "execution_count": null,
   "metadata": {},
   "outputs": [],
   "source": [
    "LNLO = (\n",
    "    l1 / 4 * term_l1\n",
    "    + l2 / 4 * term_l2\n",
    "    + (l3 + l4) / 16 * term_l3\n",
    "    + l4 / 8 * term_l4\n",
    "    - l7 / 16 * term_l7\n",
    "    + (h1 + h3 - l4)/4 * term_chisq\n",
    "    + (h1 - h3 - l4) / 16 * (term_l3 + term_l7 - 2*term_last )\n",
    ")"
   ]
  },
  {
   "cell_type": "code",
   "execution_count": null,
   "metadata": {},
   "outputs": [],
   "source": [
    "print_e(LNLO)"
   ]
  }
 ],
 "metadata": {
  "kernelspec": {
   "display_name": "SageMath 9.0",
   "language": "sage",
   "name": "sagemath"
  },
  "language_info": {
   "codemirror_mode": {
    "name": "ipython",
    "version": 3
   },
   "file_extension": ".py",
   "mimetype": "text/x-python",
   "name": "python",
   "nbconvert_exporter": "python",
   "pygments_lexer": "ipython3",
   "version": "3.8.10"
  }
 },
 "nbformat": 4,
 "nbformat_minor": 4
}
