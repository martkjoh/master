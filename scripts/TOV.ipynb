{
 "cells": [
  {
   "cell_type": "code",
   "execution_count": 17,
   "metadata": {},
   "outputs": [],
   "source": [
    "from sympy import MatrixSymbol, Matrix, Array, pprint\n",
    "from sympy import symbols, diff, exp, log, cos, sin, simplify, Rational\n",
    "from sympy.core.symbol import Symbol\n",
    "from sympy import pi\n",
    "\n",
    "import numpy as np\n",
    "import sympy as sp\n",
    "from IPython.display import display, Latex"
   ]
  },
  {
   "cell_type": "markdown",
   "metadata": {},
   "source": [
    "Tensor operations"
   ]
  },
  {
   "cell_type": "code",
   "execution_count": 18,
   "metadata": {},
   "outputs": [],
   "source": [
    "def INDX(i, place, num_indx):\n",
    "    \"\"\"\n",
    "    Acceses an index at 'place' for 'num_indx' order tensor\n",
    "    T_(a0 ... âp ... an-1) = T[INDX(i, place=p, num_indx=n)] = T[:,...<-p-> , i, :,...<-(n-p-1)->]\n",
    "    \"\"\"\n",
    "    indx = []\n",
    "    assert place<num_indx\n",
    "    for j in range(num_indx):\n",
    "        if place==j: indx.append(i)\n",
    "        else: indx.append(slice(None))\n",
    "    return tuple(indx)"
   ]
  },
  {
   "cell_type": "code",
   "execution_count": 19,
   "metadata": {},
   "outputs": [],
   "source": [
    "def contract(T, g=None, g_inv=None, num_indx=2, upper=1, indx=(0, 1)):\n",
    "    \"\"\"\n",
    "    contracts indecies indx=(a_p, a_q) on tensor T with 'num_indx', \n",
    "    'upper' of whom are upper. If upper=0, all indecies are assumed lower.\n",
    "    With indx=(a_k, a_l), upper=n, num_indx=n+m, this gives\n",
    "    T^(a_0...a_n-1)_(a_n...a_n+m-1) -> T^(a_0...a_k=a...a_n-1)_(a_n...a_k...a_n+m-1),\n",
    "    with the necesarry metric. If wrong metric is given, this wil throw error.\n",
    "    \"\"\"\n",
    "    assert indx[0] < indx[1]  # we have to know if the index to the left dissapears\n",
    "    dim = np.shape(T)[0]\n",
    "    a = (indx[0] < upper) + (indx[1] < upper) # number of upper indecies to be contracted\n",
    "    if a==2: g0 = g # two upper\n",
    "    elif a==0: g0 = g_inv # two lower\n",
    "    else: g0 = np.identity(dim, dtype=Rational)\n",
    "\n",
    "    Tc = Rational(0) * np.ones((T.shape)[:-2], dtype=Rational)\n",
    "    for i in range(dim):\n",
    "        for j in range(dim):\n",
    "            Tc += g0[i, j] * (T[INDX(i, indx[0], num_indx)])[INDX(j, indx[1] - 1, num_indx - 1)]\n",
    "\n",
    "    return Tc\n",
    "\n",
    "def raise_indx(T, g_inv, indx, num_indx):\n",
    "    \"\"\"\n",
    "    Raise index 'indx' of a tensor T with 'num_indx' indices.\n",
    "    \"\"\"\n",
    "    dim = np.shape(T)[0]\n",
    "    Tu = np.zeros_like(T)\n",
    "    for i in range(dim):\n",
    "        I = INDX(i, indx, num_indx)\n",
    "        for j in range(dim):\n",
    "            J = INDX(j, indx, num_indx)\n",
    "            Tu[I] += g_inv[i, j] * T[J]\n",
    "    return Tu\n",
    "\n",
    "def lower_indx(T, g, indx, num_indx):\n",
    "    return raise_indx(T, g, indx, num_indx)\n",
    "\n",
    "def get_g_inv(g):\n",
    "    return np.array(Matrix(g)**(-1))"
   ]
  },
  {
   "cell_type": "markdown",
   "metadata": {},
   "source": [
    "Calculate Christoffel symbols and Riemann curvature tensor"
   ]
  },
  {
   "cell_type": "code",
   "execution_count": 20,
   "metadata": {},
   "outputs": [],
   "source": [
    "def Christoffel(g, g_inv, var):\n",
    "    \"\"\" \n",
    "    Work out the christoffel symbols, given a metric an its variables \n",
    "    Γ^i_jk = C[i, j, k]\n",
    "    \"\"\"\n",
    "    dim = len(var)\n",
    "    C = np.zeros((dim, dim, dim), dtype=Symbol)\n",
    "    for i in range(dim):\n",
    "        for j in range(dim):\n",
    "            for k in range(dim):\n",
    "                for m in range(dim):\n",
    "                    C[i, j, k] += Rational(1, 2) * (g_inv)[i, m] * (\n",
    "                        diff(g[m, k], var[j])\n",
    "                        + diff(g[m, j], var[k])\n",
    "                        - diff(g[k, j], var[m])\n",
    "                    )\n",
    "\n",
    "    return C"
   ]
  },
  {
   "cell_type": "code",
   "execution_count": 21,
   "metadata": {},
   "outputs": [],
   "source": [
    "def Riemann_tensor(C, var):\n",
    "    \"\"\" \n",
    "    Riemann_tensor(Christoffel_symbols, (x_1, ...)) = R[i, j, k, l] = R^i_jkl\n",
    "    Compute the Riemann tensor from the Christoffel symbols \n",
    "    \"\"\"\n",
    "    dim = len(var)\n",
    "    R = np.zeros([dim] * 4, dtype=Symbol)\n",
    "    indx = [(i, j, k, l)\n",
    "        for i in range(dim)\n",
    "        for j in range(dim)\n",
    "        for k in range(dim)\n",
    "        for l in range(dim)\n",
    "    ]\n",
    "\n",
    "    for (a, b, r, s) in indx:\n",
    "        R[a, b, r, s] += diff(C[a, b, s], var[r]) - diff(C[a, b, r], var[s])\n",
    "        for k in range(dim):\n",
    "            R[a, b, r, s] += C[a, k, r] * C[k, b, s] - C[a, k, s] * C[k, b, r]\n",
    "    return R"
   ]
  },
  {
   "cell_type": "markdown",
   "metadata": {},
   "source": [
    "Printing functions"
   ]
  },
  {
   "cell_type": "code",
   "execution_count": 22,
   "metadata": {},
   "outputs": [],
   "source": [
    "print_latex = False\n",
    "\n",
    "def print_christoffel(C, var):\n",
    "    \"\"\" A function for dsiplaying christoffels symbols \"\"\"\n",
    "    output = []\n",
    "    for i in range(len(var)):\n",
    "        txt = \"$$\"\n",
    "        txt += \"\\\\Gamma^\" + sp.latex(var[i]) + \"_{\\\\mu \\\\nu} =\"\n",
    "        txt += sp.latex(Matrix(C[i]))\n",
    "        txt += \"$$\"\n",
    "        print(txt) if print_latex else print()\n",
    "        output.append(display(Latex(txt)))\n",
    "\n",
    "    return output\n",
    "\n",
    "def print_matrix(T):\n",
    "    txt = \"$$\" + sp.latex(Matrix(T)) +\"$$\"\n",
    "    print(txt) if print_latex else print()\n",
    "    return display(Latex(txt))\n",
    "\n",
    "def print_scalar(T):\n",
    "    txt = \"$$\" + sp.latex(T) +\"$$\"\n",
    "    print(txt) if print_latex else print()\n",
    "    return display(Latex(txt))\n",
    "\n",
    "def print_eq(eq):\n",
    "    txt = \"$$\" + sp.latex(eq) +\"=0\" + \"$$\"\n",
    "    print(txt) if print_latex else print()\n",
    "    return display(Latex(txt))"
   ]
  },
  {
   "cell_type": "markdown",
   "metadata": {},
   "source": [
    "#### Metric $g_{\\mu \\nu}$ for spherically symmetric spacetime"
   ]
  },
  {
   "cell_type": "code",
   "execution_count": 23,
   "metadata": {},
   "outputs": [
    {
     "name": "stdout",
     "output_type": "stream",
     "text": [
      "\n"
     ]
    },
    {
     "data": {
      "text/latex": [
       "$$\\left[\\begin{matrix}e^{2 \\alpha{\\left(r \\right)}} & 0 & 0 & 0\\\\0 & - e^{2 \\beta{\\left(r \\right)}} & 0 & 0\\\\0 & 0 & - r^{2} & 0\\\\0 & 0 & 0 & - r^{2} \\sin^{2}{\\left(\\theta \\right)}\\end{matrix}\\right]$$"
      ],
      "text/plain": [
       "<IPython.core.display.Latex object>"
      ]
     },
     "metadata": {},
     "output_type": "display_data"
    },
    {
     "name": "stdout",
     "output_type": "stream",
     "text": [
      "\n"
     ]
    },
    {
     "data": {
      "text/latex": [
       "$$\\left[\\begin{matrix}e^{- 2 \\alpha{\\left(r \\right)}} & 0 & 0 & 0\\\\0 & - e^{- 2 \\beta{\\left(r \\right)}} & 0 & 0\\\\0 & 0 & - \\frac{1}{r^{2}} & 0\\\\0 & 0 & 0 & - \\frac{1}{r^{2} \\sin^{2}{\\left(\\theta \\right)}}\\end{matrix}\\right]$$"
      ],
      "text/plain": [
       "<IPython.core.display.Latex object>"
      ]
     },
     "metadata": {},
     "output_type": "display_data"
    }
   ],
   "source": [
    "t, r, th, ph = symbols(\"t, r, \\\\theta, \\\\phi\")\n",
    "x1 = r * cos(ph) * sin(th)\n",
    "x2 = r * sin(ph) * sin(th)\n",
    "x3 = r * cos(th)\n",
    "\n",
    "one = Rational(1)\n",
    "eta = sp.diag(one, -one, -one, -one)\n",
    "var = (t, r, th, ph)\n",
    "J = Matrix([t, x1, x2, x3]).jacobian(var)\n",
    "g = np.array(simplify(J.T *eta* J))\n",
    "\n",
    "a = sp.Function(\"\\\\alpha\", real=True)(r)\n",
    "b = sp.Function(\"\\\\beta\", real=True)(r)\n",
    "g[0, 0] *= exp(2 * a)\n",
    "g[1, 1] *= exp(2 * b)\n",
    "g_inv = get_g_inv(g)\n",
    "\n",
    "print_matrix(g)\n",
    "print_matrix(g_inv)"
   ]
  },
  {
   "cell_type": "code",
   "execution_count": 24,
   "metadata": {},
   "outputs": [
    {
     "name": "stdout",
     "output_type": "stream",
     "text": [
      "\n"
     ]
    },
    {
     "data": {
      "text/latex": [
       "$$\\Gamma^t_{\\mu \\nu} =\\left[\\begin{matrix}0 & \\frac{d}{d r} \\alpha{\\left(r \\right)} & 0 & 0\\\\\\frac{d}{d r} \\alpha{\\left(r \\right)} & 0 & 0 & 0\\\\0 & 0 & 0 & 0\\\\0 & 0 & 0 & 0\\end{matrix}\\right]$$"
      ],
      "text/plain": [
       "<IPython.core.display.Latex object>"
      ]
     },
     "metadata": {},
     "output_type": "display_data"
    },
    {
     "name": "stdout",
     "output_type": "stream",
     "text": [
      "\n"
     ]
    },
    {
     "data": {
      "text/latex": [
       "$$\\Gamma^r_{\\mu \\nu} =\\left[\\begin{matrix}e^{2 \\alpha{\\left(r \\right)}} e^{- 2 \\beta{\\left(r \\right)}} \\frac{d}{d r} \\alpha{\\left(r \\right)} & 0 & 0 & 0\\\\0 & \\frac{d}{d r} \\beta{\\left(r \\right)} & 0 & 0\\\\0 & 0 & - r e^{- 2 \\beta{\\left(r \\right)}} & 0\\\\0 & 0 & 0 & - r e^{- 2 \\beta{\\left(r \\right)}} \\sin^{2}{\\left(\\theta \\right)}\\end{matrix}\\right]$$"
      ],
      "text/plain": [
       "<IPython.core.display.Latex object>"
      ]
     },
     "metadata": {},
     "output_type": "display_data"
    },
    {
     "name": "stdout",
     "output_type": "stream",
     "text": [
      "\n"
     ]
    },
    {
     "data": {
      "text/latex": [
       "$$\\Gamma^\\theta_{\\mu \\nu} =\\left[\\begin{matrix}0 & 0 & 0 & 0\\\\0 & 0 & \\frac{1}{r} & 0\\\\0 & \\frac{1}{r} & 0 & 0\\\\0 & 0 & 0 & - \\sin{\\left(\\theta \\right)} \\cos{\\left(\\theta \\right)}\\end{matrix}\\right]$$"
      ],
      "text/plain": [
       "<IPython.core.display.Latex object>"
      ]
     },
     "metadata": {},
     "output_type": "display_data"
    },
    {
     "name": "stdout",
     "output_type": "stream",
     "text": [
      "\n"
     ]
    },
    {
     "data": {
      "text/latex": [
       "$$\\Gamma^\\phi_{\\mu \\nu} =\\left[\\begin{matrix}0 & 0 & 0 & 0\\\\0 & 0 & 0 & \\frac{1}{r}\\\\0 & 0 & 0 & \\frac{\\cos{\\left(\\theta \\right)}}{\\sin{\\left(\\theta \\right)}}\\\\0 & \\frac{1}{r} & \\frac{\\cos{\\left(\\theta \\right)}}{\\sin{\\left(\\theta \\right)}} & 0\\end{matrix}\\right]$$"
      ],
      "text/plain": [
       "<IPython.core.display.Latex object>"
      ]
     },
     "metadata": {},
     "output_type": "display_data"
    }
   ],
   "source": [
    "C = Christoffel(g, g_inv, var)\n",
    "c = print_christoffel(C, var)"
   ]
  },
  {
   "cell_type": "code",
   "execution_count": 25,
   "metadata": {},
   "outputs": [
    {
     "name": "stdout",
     "output_type": "stream",
     "text": [
      "\n"
     ]
    },
    {
     "data": {
      "text/latex": [
       "$$\\frac{\\left(r \\left(\\frac{d}{d r} \\alpha{\\left(r \\right)}\\right)^{2} - r \\frac{d}{d r} \\alpha{\\left(r \\right)} \\frac{d}{d r} \\beta{\\left(r \\right)} + r \\frac{d^{2}}{d r^{2}} \\alpha{\\left(r \\right)} + 2 \\frac{d}{d r} \\alpha{\\left(r \\right)}\\right) e^{2 \\alpha{\\left(r \\right)}} e^{- 2 \\beta{\\left(r \\right)}}}{r}$$"
      ],
      "text/plain": [
       "<IPython.core.display.Latex object>"
      ]
     },
     "metadata": {},
     "output_type": "display_data"
    },
    {
     "name": "stdout",
     "output_type": "stream",
     "text": [
      "\n"
     ]
    },
    {
     "data": {
      "text/latex": [
       "$$- \\frac{r \\left(\\frac{d}{d r} \\alpha{\\left(r \\right)}\\right)^{2} - r \\frac{d}{d r} \\alpha{\\left(r \\right)} \\frac{d}{d r} \\beta{\\left(r \\right)} + r \\frac{d^{2}}{d r^{2}} \\alpha{\\left(r \\right)} - 2 \\frac{d}{d r} \\beta{\\left(r \\right)}}{r}$$"
      ],
      "text/plain": [
       "<IPython.core.display.Latex object>"
      ]
     },
     "metadata": {},
     "output_type": "display_data"
    },
    {
     "name": "stdout",
     "output_type": "stream",
     "text": [
      "\n"
     ]
    },
    {
     "data": {
      "text/latex": [
       "$$- \\left(r \\frac{d}{d r} \\alpha{\\left(r \\right)} - r \\frac{d}{d r} \\beta{\\left(r \\right)} - e^{2 \\beta{\\left(r \\right)}} + 1\\right) e^{- 2 \\beta{\\left(r \\right)}}$$"
      ],
      "text/plain": [
       "<IPython.core.display.Latex object>"
      ]
     },
     "metadata": {},
     "output_type": "display_data"
    },
    {
     "name": "stdout",
     "output_type": "stream",
     "text": [
      "\n"
     ]
    },
    {
     "data": {
      "text/latex": [
       "$$- \\left(r \\frac{d}{d r} \\alpha{\\left(r \\right)} - r \\frac{d}{d r} \\beta{\\left(r \\right)} - e^{2 \\beta{\\left(r \\right)}} + 1\\right) e^{- 2 \\beta{\\left(r \\right)}} \\sin^{2}{\\left(\\theta \\right)}$$"
      ],
      "text/plain": [
       "<IPython.core.display.Latex object>"
      ]
     },
     "metadata": {},
     "output_type": "display_data"
    }
   ],
   "source": [
    "Rie = Riemann_tensor(C, var)\n",
    "Ricci = contract(Rie, num_indx=4, upper=1, indx=(0, 2)) \n",
    "\n",
    "for i in range(4):\n",
    "    print_scalar(Ricci[i, i].factor())"
   ]
  },
  {
   "cell_type": "code",
   "execution_count": 26,
   "metadata": {},
   "outputs": [
    {
     "name": "stdout",
     "output_type": "stream",
     "text": [
      "\n"
     ]
    },
    {
     "data": {
      "text/latex": [
       "$$\\frac{2 \\left(r^{2} \\left(\\frac{d}{d r} \\alpha{\\left(r \\right)}\\right)^{2} - r^{2} \\frac{d}{d r} \\alpha{\\left(r \\right)} \\frac{d}{d r} \\beta{\\left(r \\right)} + r^{2} \\frac{d^{2}}{d r^{2}} \\alpha{\\left(r \\right)} + 2 r \\frac{d}{d r} \\alpha{\\left(r \\right)} - 2 r \\frac{d}{d r} \\beta{\\left(r \\right)} - e^{2 \\beta{\\left(r \\right)}} + 1\\right) e^{- 2 \\beta{\\left(r \\right)}}}{r^{2}}$$"
      ],
      "text/plain": [
       "<IPython.core.display.Latex object>"
      ]
     },
     "metadata": {},
     "output_type": "display_data"
    }
   ],
   "source": [
    "R = contract(Ricci, g_inv=g_inv, upper=0).simplify() \n",
    "print_scalar(R) "
   ]
  },
  {
   "cell_type": "code",
   "execution_count": 27,
   "metadata": {},
   "outputs": [
    {
     "name": "stdout",
     "output_type": "stream",
     "text": [
      "\n"
     ]
    },
    {
     "data": {
      "text/latex": [
       "$$\\frac{\\left(2 r \\frac{d}{d r} \\beta{\\left(r \\right)} + e^{2 \\beta{\\left(r \\right)}} - 1\\right) e^{2 \\alpha{\\left(r \\right)}} e^{- 2 \\beta{\\left(r \\right)}}}{r^{2}}$$"
      ],
      "text/plain": [
       "<IPython.core.display.Latex object>"
      ]
     },
     "metadata": {},
     "output_type": "display_data"
    },
    {
     "name": "stdout",
     "output_type": "stream",
     "text": [
      "\n"
     ]
    },
    {
     "data": {
      "text/latex": [
       "$$\\frac{2 r \\frac{d}{d r} \\alpha{\\left(r \\right)} - e^{2 \\beta{\\left(r \\right)}} + 1}{r^{2}}$$"
      ],
      "text/plain": [
       "<IPython.core.display.Latex object>"
      ]
     },
     "metadata": {},
     "output_type": "display_data"
    },
    {
     "name": "stdout",
     "output_type": "stream",
     "text": [
      "\n"
     ]
    },
    {
     "data": {
      "text/latex": [
       "$$r \\left(r \\left(\\frac{d}{d r} \\alpha{\\left(r \\right)}\\right)^{2} - r \\frac{d}{d r} \\alpha{\\left(r \\right)} \\frac{d}{d r} \\beta{\\left(r \\right)} + r \\frac{d^{2}}{d r^{2}} \\alpha{\\left(r \\right)} + \\frac{d}{d r} \\alpha{\\left(r \\right)} - \\frac{d}{d r} \\beta{\\left(r \\right)}\\right) e^{- 2 \\beta{\\left(r \\right)}}$$"
      ],
      "text/plain": [
       "<IPython.core.display.Latex object>"
      ]
     },
     "metadata": {},
     "output_type": "display_data"
    },
    {
     "name": "stdout",
     "output_type": "stream",
     "text": [
      "\n"
     ]
    },
    {
     "data": {
      "text/latex": [
       "$$r \\left(r \\left(\\frac{d}{d r} \\alpha{\\left(r \\right)}\\right)^{2} - r \\frac{d}{d r} \\alpha{\\left(r \\right)} \\frac{d}{d r} \\beta{\\left(r \\right)} + r \\frac{d^{2}}{d r^{2}} \\alpha{\\left(r \\right)} + \\frac{d}{d r} \\alpha{\\left(r \\right)} - \\frac{d}{d r} \\beta{\\left(r \\right)}\\right) e^{- 2 \\beta{\\left(r \\right)}} \\sin^{2}{\\left(\\theta \\right)}$$"
      ],
      "text/plain": [
       "<IPython.core.display.Latex object>"
      ]
     },
     "metadata": {},
     "output_type": "display_data"
    }
   ],
   "source": [
    "G = Ricci - Rational(1, 2) * R * g\n",
    "for i in range(4):\n",
    "    G[i, i] = G[i, i].simplify().factor()\n",
    "    print_scalar(G[i, i])"
   ]
  },
  {
   "cell_type": "markdown",
   "metadata": {},
   "source": [
    "### Stress-energy tensor $T_{\\mu \\nu}$ for perfect fluid"
   ]
  },
  {
   "cell_type": "code",
   "execution_count": 28,
   "metadata": {},
   "outputs": [
    {
     "name": "stdout",
     "output_type": "stream",
     "text": [
      "\n"
     ]
    },
    {
     "data": {
      "text/latex": [
       "$$\\left[\\begin{matrix}\\rho{\\left(r \\right)} e^{2 \\alpha{\\left(r \\right)}} & 0 & 0 & 0\\\\0 & p{\\left(r \\right)} e^{2 \\beta{\\left(r \\right)}} & 0 & 0\\\\0 & 0 & r^{2} p{\\left(r \\right)} & 0\\\\0 & 0 & 0 & r^{2} p{\\left(r \\right)} \\sin^{2}{\\left(\\theta \\right)}\\end{matrix}\\right]$$"
      ],
      "text/plain": [
       "<IPython.core.display.Latex object>"
      ]
     },
     "metadata": {},
     "output_type": "display_data"
    }
   ],
   "source": [
    "p = sp.Function(\"p\")(r)\n",
    "rho = sp.Function(\"\\\\rho\")(r)\n",
    "\n",
    "UU = np.zeros((4, 4), dtype=sp.Rational)\n",
    "UU[0, 0] = exp(2 * a)\n",
    "\n",
    "T = (p + rho) * UU - p * g\n",
    "for i in range(4):\n",
    "    T[i, i] = T[i, i].simplify()\n",
    "print_matrix(T)"
   ]
  },
  {
   "cell_type": "markdown",
   "metadata": {},
   "source": [
    "### Einstin equation\n",
    "$R_{\\mu \\nu}- \\frac{1}{2} R g_{\\mu \\nu} = 8 \\pi G T_{\\mu \\nu}$"
   ]
  },
  {
   "cell_type": "code",
   "execution_count": 29,
   "metadata": {},
   "outputs": [
    {
     "name": "stdout",
     "output_type": "stream",
     "text": [
      "\n"
     ]
    },
    {
     "data": {
      "text/latex": [
       "$$8 \\pi G r^{2} \\rho{\\left(r \\right)} e^{2 \\beta{\\left(r \\right)}} - 2 r \\frac{d}{d r} \\beta{\\left(r \\right)} - e^{2 \\beta{\\left(r \\right)}} + 1=0$$"
      ],
      "text/plain": [
       "<IPython.core.display.Latex object>"
      ]
     },
     "metadata": {},
     "output_type": "display_data"
    },
    {
     "name": "stdout",
     "output_type": "stream",
     "text": [
      "\n"
     ]
    },
    {
     "data": {
      "text/latex": [
       "$$8 \\pi G r^{2} p{\\left(r \\right)} e^{2 \\beta{\\left(r \\right)}} - 2 r \\frac{d}{d r} \\alpha{\\left(r \\right)} + e^{2 \\beta{\\left(r \\right)}} - 1=0$$"
      ],
      "text/plain": [
       "<IPython.core.display.Latex object>"
      ]
     },
     "metadata": {},
     "output_type": "display_data"
    },
    {
     "name": "stdout",
     "output_type": "stream",
     "text": [
      "\n"
     ]
    },
    {
     "data": {
      "text/latex": [
       "$$- 8 \\pi G r p{\\left(r \\right)} e^{2 \\beta{\\left(r \\right)}} + r \\left(\\frac{d}{d r} \\alpha{\\left(r \\right)}\\right)^{2} - r \\frac{d}{d r} \\alpha{\\left(r \\right)} \\frac{d}{d r} \\beta{\\left(r \\right)} + r \\frac{d^{2}}{d r^{2}} \\alpha{\\left(r \\right)} + \\frac{d}{d r} \\alpha{\\left(r \\right)} - \\frac{d}{d r} \\beta{\\left(r \\right)}=0$$"
      ],
      "text/plain": [
       "<IPython.core.display.Latex object>"
      ]
     },
     "metadata": {},
     "output_type": "display_data"
    },
    {
     "name": "stdout",
     "output_type": "stream",
     "text": [
      "\n"
     ]
    },
    {
     "data": {
      "text/latex": [
       "$$R_{\\theta \\theta} r e^{- 2 \\beta{\\left(r \\right)}} \\sin^{2}{\\left(\\theta \\right)}=0$$"
      ],
      "text/plain": [
       "<IPython.core.display.Latex object>"
      ]
     },
     "metadata": {},
     "output_type": "display_data"
    }
   ],
   "source": [
    "G_newton = sp.Symbol(\"G\")\n",
    "\n",
    "eq = []\n",
    "for i in range(len(G)):\n",
    "    eq.append((G[i, i] - 8 * pi * G_newton * T[i, i]).simplify())\n",
    "\n",
    "# Some manual simplification\n",
    "Rtt = sp.Symbol(\"R_{\\\\theta \\\\theta}\")\n",
    "eq[0] = eq[0] * r**2 / exp(2 * a)/exp(-2*b ) * (-1 )\n",
    "eq[1] = eq[1] * r**2 * (-1)\n",
    "eq[2] = eq[2] / r / exp(-2*b)\n",
    "eq[3] = eq[3].subs(eq[2], Rtt)\n",
    "for i in range(len(G)):\n",
    "    print_eq(eq[i].simplify())"
   ]
  },
  {
   "cell_type": "markdown",
   "metadata": {},
   "source": [
    "Define $e^{2 \\beta} = [1 - 2 G m(r) / r ]^{-1}$"
   ]
  },
  {
   "cell_type": "code",
   "execution_count": 30,
   "metadata": {},
   "outputs": [],
   "source": [
    "m = sp.Function(\"m\", Real=True)(r)\n",
    "f = (1 - 2 * G_newton * m / r)**(-1)\n",
    "eq1 = (eq[0] * exp(- 2 *a)).simplify().subs(b, Rational(1, 2) * log(f)).simplify().expand().simplify()\n",
    "s = sp.solve(eq1, m.diff(r))\n",
    "eq1 = m.diff(r) - s[0]"
   ]
  },
  {
   "cell_type": "markdown",
   "metadata": {},
   "source": [
    "Use $\\nabla_\\mu T^{\\mu r} = 0 \\implies (p + \\rho) \\partial_r \\alpha = - \\partial_r p$."
   ]
  },
  {
   "cell_type": "code",
   "execution_count": 31,
   "metadata": {},
   "outputs": [],
   "source": [
    "eq2 = (eq[1] * r**2).subs(exp(2 * b), f).simplify()\n",
    "s = sp.solve(eq2, a.diff(r))\n",
    "eq2 = a.diff(r) - s[0]\n",
    "eq2 = ((a.diff(r) - s[0]).subs(a.diff(r), - p.diff(r) / (p + rho))*(p + rho)).simplify()\n",
    "s = sp.solve(eq2, p.diff())\n",
    "eq2 = p.diff(r) - s[0].factor()"
   ]
  },
  {
   "cell_type": "markdown",
   "metadata": {},
   "source": [
    "The TOV-equation and equation for $m(r)$, both expressions are equal to 0."
   ]
  },
  {
   "cell_type": "code",
   "execution_count": 32,
   "metadata": {},
   "outputs": [
    {
     "name": "stdout",
     "output_type": "stream",
     "text": [
      "\n"
     ]
    },
    {
     "data": {
      "text/latex": [
       "$$- 4 \\pi r^{2} \\rho{\\left(r \\right)} + \\frac{d}{d r} m{\\left(r \\right)}=0$$"
      ],
      "text/plain": [
       "<IPython.core.display.Latex object>"
      ]
     },
     "metadata": {},
     "output_type": "display_data"
    },
    {
     "name": "stdout",
     "output_type": "stream",
     "text": [
      "\n"
     ]
    },
    {
     "data": {
      "text/latex": [
       "$$\\frac{G \\left(4 \\pi r^{3} p{\\left(r \\right)} + m{\\left(r \\right)}\\right) \\left(\\rho{\\left(r \\right)} + p{\\left(r \\right)}\\right)}{r \\left(- 2 G m{\\left(r \\right)} + r\\right)} + \\frac{d}{d r} p{\\left(r \\right)}=0$$"
      ],
      "text/plain": [
       "<IPython.core.display.Latex object>"
      ]
     },
     "metadata": {},
     "output_type": "display_data"
    }
   ],
   "source": [
    "print_eq(eq1)\n",
    "print_eq(eq2)"
   ]
  }
 ],
 "metadata": {
  "interpreter": {
   "hash": "31f2aee4e71d21fbe5cf8b01ff0e069b9275f58929596ceb00d14d90e3e16cd6"
  },
  "kernelspec": {
   "display_name": "Python 3.8.10 64-bit",
   "language": "python",
   "name": "python3"
  },
  "language_info": {
   "codemirror_mode": {
    "name": "ipython",
    "version": 3
   },
   "file_extension": ".py",
   "mimetype": "text/x-python",
   "name": "python",
   "nbconvert_exporter": "python",
   "pygments_lexer": "ipython3",
   "version": "3.8.10"
  },
  "orig_nbformat": 4
 },
 "nbformat": 4,
 "nbformat_minor": 2
}
