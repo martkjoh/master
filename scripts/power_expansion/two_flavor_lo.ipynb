{
 "cells": [
  {
   "cell_type": "code",
   "execution_count": 6,
   "id": "27298589",
   "metadata": {},
   "outputs": [],
   "source": [
    "%display latex\n",
    "load(\"power_expansion_chpt.sage\")"
   ]
  },
  {
   "cell_type": "code",
   "execution_count": 7,
   "id": "ba1ca3f4",
   "metadata": {},
   "outputs": [
    {
     "data": {
      "text/html": [
       "<html><script type=\"math/tex; mode=display\">\\newcommand{\\Bold}[1]{\\mathbf{#1}}\\left[-\\frac{1}{2} \\, {\\varepsilon}^{2} \\pi_1\\left(x\\right)^{2} - \\frac{1}{2} \\, {\\varepsilon}^{2} \\pi_2\\left(x\\right)^{2} - \\frac{1}{2} \\, {\\varepsilon}^{2} \\pi_3\\left(x\\right)^{2} + 1, i \\, {\\varepsilon} \\pi_1\\left(x\\right), i \\, {\\varepsilon} \\pi_2\\left(x\\right), i \\, {\\varepsilon} \\pi_3\\left(x\\right)\\right]</script></html>"
      ],
      "text/plain": [
       "[-1/2*e^2*pi1(x)^2 - 1/2*e^2*pi2(x)^2 - 1/2*e^2*pi3(x)^2 + 1,\n",
       " I*e*pi1(x),\n",
       " I*e*pi2(x),\n",
       " I*e*pi3(x)]"
      ]
     },
     "execution_count": 7,
     "metadata": {},
     "output_type": "execute_result"
    }
   ],
   "source": [
    "n = 3\n",
    "S = mat_prep(U(n)*U(n), n=n)\n",
    "proj(S)"
   ]
  },
  {
   "cell_type": "markdown",
   "id": "67025366",
   "metadata": {},
   "source": [
    "# EM contribution to LO free energy"
   ]
  },
  {
   "cell_type": "code",
   "execution_count": 8,
   "id": "d8f04d54",
   "metadata": {},
   "outputs": [
    {
     "data": {
      "text/html": [
       "<html><script type=\"math/tex; mode=display\">\\newcommand{\\Bold}[1]{\\mathbf{#1}}\\left(\\begin{array}{rr}\n",
       "\\cos\\left({\\alpha}\\right) & i \\, \\sin\\left({\\alpha}\\right) \\\\\n",
       "i \\, \\sin\\left({\\alpha}\\right) & \\cos\\left({\\alpha}\\right)\n",
       "\\end{array}\\right)</script></html>"
      ],
      "text/plain": [
       "[  cos(a) I*sin(a)]\n",
       "[I*sin(a)   cos(a)]"
      ]
     },
     "execution_count": 8,
     "metadata": {},
     "output_type": "execute_result"
    }
   ],
   "source": [
    "n = 1\n",
    "S = SIGMA(1)\n",
    "S"
   ]
  },
  {
   "cell_type": "code",
   "execution_count": 9,
   "id": "049454a4",
   "metadata": {},
   "outputs": [
    {
     "data": {
      "text/html": [
       "<html><script type=\"math/tex; mode=display\">\\newcommand{\\Bold}[1]{\\mathbf{#1}}\\cos\\left({\\alpha}\\right)^{2} - \\frac{4}{9}</script></html>"
      ],
      "text/plain": [
       "cos(a)^2 - 4/9"
      ]
     },
     "execution_count": 9,
     "metadata": {},
     "output_type": "execute_result"
    }
   ],
   "source": [
    "QSQS = mat_prep(Q*S*Q*S.C.T, n=n)\n",
    "\n",
    "proj(QSQS)\n",
    "(QSQS).trace().simplify_full()"
   ]
  },
  {
   "cell_type": "code",
   "execution_count": 10,
   "id": "d68cd158",
   "metadata": {},
   "outputs": [
    {
     "data": {
      "text/html": [
       "<html><script type=\"math/tex; mode=display\">\\newcommand{\\Bold}[1]{\\mathbf{#1}}2 \\, {\\delta}^{2} {\\mu_I}^{2} \\sin\\left({\\alpha}\\right)^{2} + 4 \\, {\\delta} {e \\mathcal A_\\mu} {\\mu_I} \\sin\\left({\\alpha}\\right)^{2} + 2 \\, {e \\mathcal A_\\mu}^{2} \\sin\\left({\\alpha}\\right)^{2}</script></html>"
      ],
      "text/plain": [
       "2*d^2*mu^2*sin(a)^2 + 4*d*eA*mu*sin(a)^2 + 2*eA^2*sin(a)^2"
      ]
     },
     "execution_count": 10,
     "metadata": {},
     "output_type": "execute_result"
    }
   ],
   "source": [
    "v = v_I + v_EM\n",
    "tr_nabla_sq(S, v, n)"
   ]
  },
  {
   "cell_type": "code",
   "execution_count": null,
   "id": "274baad1",
   "metadata": {},
   "outputs": [],
   "source": []
  }
 ],
 "metadata": {
  "kernelspec": {
   "display_name": "SageMath 9.0",
   "language": "sage",
   "name": "sagemath"
  },
  "language_info": {
   "codemirror_mode": {
    "name": "ipython",
    "version": 3
   },
   "file_extension": ".py",
   "mimetype": "text/x-python",
   "name": "python",
   "nbconvert_exporter": "python",
   "pygments_lexer": "ipython3",
   "version": "3.8.10"
  }
 },
 "nbformat": 4,
 "nbformat_minor": 5
}
