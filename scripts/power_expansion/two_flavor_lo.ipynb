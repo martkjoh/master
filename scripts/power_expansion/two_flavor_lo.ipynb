{
 "cells": [
  {
   "cell_type": "code",
   "execution_count": 29,
   "id": "27298589",
   "metadata": {},
   "outputs": [],
   "source": [
    "%display latex\n",
    "load(\"power_expansion_chpt.sage\")"
   ]
  },
  {
   "cell_type": "code",
   "execution_count": 30,
   "id": "ba1ca3f4",
   "metadata": {},
   "outputs": [
    {
     "data": {
      "text/html": [
       "<html><script type=\"math/tex; mode=display\">\\newcommand{\\Bold}[1]{\\mathbf{#1}}\\left[-\\frac{1}{2} \\, {\\varepsilon}^{2} \\pi_1\\left(x\\right)^{2} - \\frac{1}{2} \\, {\\varepsilon}^{2} \\pi_2\\left(x\\right)^{2} - \\frac{1}{2} \\, {\\varepsilon}^{2} \\pi_3\\left(x\\right)^{2} + 1, i \\, {\\varepsilon} \\pi_1\\left(x\\right), i \\, {\\varepsilon} \\pi_2\\left(x\\right), i \\, {\\varepsilon} \\pi_3\\left(x\\right)\\right]</script></html>"
      ],
      "text/plain": [
       "[-1/2*e^2*pi1(x)^2 - 1/2*e^2*pi2(x)^2 - 1/2*e^2*pi3(x)^2 + 1,\n",
       " I*e*pi1(x),\n",
       " I*e*pi2(x),\n",
       " I*e*pi3(x)]"
      ]
     },
     "execution_count": 30,
     "metadata": {},
     "output_type": "execute_result"
    }
   ],
   "source": [
    "n = 3\n",
    "\n",
    "proj(S)"
   ]
  },
  {
   "cell_type": "markdown",
   "id": "67025366",
   "metadata": {},
   "source": [
    "# EM contribution to LO free energy"
   ]
  },
  {
   "cell_type": "code",
   "execution_count": 31,
   "id": "d8f04d54",
   "metadata": {},
   "outputs": [
    {
     "data": {
      "text/html": [
       "<html><script type=\"math/tex; mode=display\">\\newcommand{\\Bold}[1]{\\mathbf{#1}}\\left[-\\frac{1}{2} \\, {\\varepsilon}^{2} \\pi_1\\left(x\\right)^{2} - \\frac{1}{2} \\, {\\varepsilon}^{2} \\pi_2\\left(x\\right)^{2} - \\frac{1}{2} \\, {\\varepsilon}^{2} \\pi_3\\left(x\\right)^{2} + 1, i \\, {\\varepsilon} \\pi_1\\left(x\\right), i \\, {\\varepsilon} \\pi_2\\left(x\\right), i \\, {\\varepsilon} \\pi_3\\left(x\\right)\\right]</script></html>"
      ],
      "text/plain": [
       "[-1/2*e^2*pi1(x)^2 - 1/2*e^2*pi2(x)^2 - 1/2*e^2*pi3(x)^2 + 1,\n",
       " I*e*pi1(x),\n",
       " I*e*pi2(x),\n",
       " I*e*pi3(x)]"
      ]
     },
     "execution_count": 31,
     "metadata": {},
     "output_type": "execute_result"
    }
   ],
   "source": [
    "n = 3\n",
    "S = mat_prep(U(n)*U(n), n=n)\n",
    "proj(S)"
   ]
  },
  {
   "cell_type": "code",
   "execution_count": 32,
   "id": "049454a4",
   "metadata": {},
   "outputs": [
    {
     "data": {
      "text/html": [
       "<html><script type=\"math/tex; mode=display\">\\newcommand{\\Bold}[1]{\\mathbf{#1}}-{\\varepsilon}^{2} \\pi_1\\left(x\\right)^{2} - {\\varepsilon}^{2} \\pi_2\\left(x\\right)^{2} + \\frac{5}{9}</script></html>"
      ],
      "text/plain": [
       "-e^2*pi1(x)^2 - e^2*pi2(x)^2 + 5/9"
      ]
     },
     "execution_count": 32,
     "metadata": {},
     "output_type": "execute_result"
    }
   ],
   "source": [
    "QSQS = mat_prep(Q*S*Q*S.C.T, n=n)\n",
    "\n",
    "proj(QSQS)\n",
    "(QSQS).trace().simplify_full()"
   ]
  },
  {
   "cell_type": "code",
   "execution_count": 33,
   "id": "d68cd158",
   "metadata": {},
   "outputs": [
    {
     "data": {
      "text/html": [
       "<html><script type=\"math/tex; mode=display\">\\newcommand{\\Bold}[1]{\\mathbf{#1}}2 \\, {\\varepsilon}^{2} {e \\mathcal A_\\mu}^{2} \\pi_1\\left(x\\right)^{2} + 2 \\, {\\varepsilon}^{2} {e \\mathcal A_\\mu}^{2} \\pi_2\\left(x\\right)^{2} - 4 \\, {\\varepsilon}^{2} {e \\mathcal A_\\mu} \\pi_2\\left(x\\right) \\frac{\\partial}{\\partial x}\\pi_1\\left(x\\right) + 4 \\, {\\varepsilon}^{2} {e \\mathcal A_\\mu} \\pi_1\\left(x\\right) \\frac{\\partial}{\\partial x}\\pi_2\\left(x\\right) + 2 \\, {\\varepsilon}^{2} \\frac{\\partial}{\\partial x}\\pi_1\\left(x\\right)^{2} + 2 \\, {\\varepsilon}^{2} \\frac{\\partial}{\\partial x}\\pi_2\\left(x\\right)^{2} + 2 \\, {\\varepsilon}^{2} \\frac{\\partial}{\\partial x}\\pi_3\\left(x\\right)^{2}</script></html>"
      ],
      "text/plain": [
       "2*e^2*eA^2*pi1(x)^2 + 2*e^2*eA^2*pi2(x)^2 - 4*e^2*eA*pi2(x)*diff(pi1(x), x) + 4*e^2*eA*pi1(x)*diff(pi2(x), x) + 2*e^2*diff(pi1(x), x)^2 + 2*e^2*diff(pi2(x), x)^2 + 2*e^2*diff(pi3(x), x)^2"
      ]
     },
     "execution_count": 33,
     "metadata": {},
     "output_type": "execute_result"
    }
   ],
   "source": [
    "v = v_I + v_EM\n",
    "tr_nabla_sq(S, v_EM, n).full_simplify()"
   ]
  },
  {
   "cell_type": "code",
   "execution_count": 34,
   "id": "274baad1",
   "metadata": {},
   "outputs": [
    {
     "data": {
      "text/html": [
       "<html><script type=\"math/tex; mode=display\">\\newcommand{\\Bold}[1]{\\mathbf{#1}}-2 \\, {\\varepsilon}^{2} {\\bar m}^{2} \\pi_1\\left(x\\right)^{2} - 2 \\, {\\varepsilon}^{2} {\\bar m}^{2} \\pi_2\\left(x\\right)^{2} - 2 \\, {\\varepsilon}^{2} {\\bar m}^{2} \\pi_3\\left(x\\right)^{2} + 4 \\, {\\bar m}^{2}</script></html>"
      ],
      "text/plain": [
       "-2*e^2*mm^2*pi1(x)^2 - 2*e^2*mm^2*pi2(x)^2 - 2*e^2*mm^2*pi3(x)^2 + 4*mm^2"
      ]
     },
     "execution_count": 34,
     "metadata": {},
     "output_type": "execute_result"
    }
   ],
   "source": [
    "(S*chi.C.T + chi*S.C.T).trace().full_simplify()"
   ]
  },
  {
   "cell_type": "code",
   "execution_count": null,
   "id": "dcac7389",
   "metadata": {},
   "outputs": [],
   "source": []
  }
 ],
 "metadata": {
  "kernelspec": {
   "display_name": "SageMath 9.0",
   "language": "sage",
   "name": "sagemath"
  },
  "language_info": {
   "codemirror_mode": {
    "name": "ipython",
    "version": 3
   },
   "file_extension": ".py",
   "mimetype": "text/x-python",
   "name": "python",
   "nbconvert_exporter": "python",
   "pygments_lexer": "ipython3",
   "version": "3.8.10"
  }
 },
 "nbformat": 4,
 "nbformat_minor": 5
}
