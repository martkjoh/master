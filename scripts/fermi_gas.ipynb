{
 "cells": [
  {
   "cell_type": "code",
   "execution_count": 217,
   "metadata": {},
   "outputs": [],
   "source": [
    "import numpy as np\n",
    "import sympy as sp\n",
    "import matplotlib.pyplot as plt\n",
    "\n",
    "from scipy.integrate import quad, solve_ivp, odeint\n",
    "from scipy.optimize import root_scalar\n",
    "from scipy.interpolate import CubicSpline\n",
    "from numpy import pi, sqrt, exp, arcsinh, log as ln"
   ]
  },
  {
   "cell_type": "code",
   "execution_count": 218,
   "metadata": {},
   "outputs": [],
   "source": [
    "# c = 2.998e8\n",
    "# G = 6.67e-11\n",
    "# hbar = 1.055e-34\n",
    "\n",
    "\n",
    "# m = 1.67e-27\n",
    "# u0 = 1 / (8 * pi**2) * m**4 * (c**5 / hbar**3)\n",
    "\n",
    "# MO = 1.989e30\n",
    "\n",
    "# m0 = c**4 / sqrt(4 * pi * u0*G**3)\n",
    "# r0 = G * m0 / c**2\n",
    "\n",
    "\n",
    "# print(u0)\n",
    "# print(m0)\n",
    "# print(m0/MO)\n",
    "# print(r0)"
   ]
  },
  {
   "cell_type": "code",
   "execution_count": 284,
   "metadata": {},
   "outputs": [],
   "source": [
    "x0 = 1e-2\n",
    "\n",
    "def p_para(x): \n",
    "    if x<x0:return 8/5 * x**5\n",
    "    else: return (2*x**3 - 3*x) * sqrt(x**2 + 1) + 3 * arcsinh(x)\n",
    "\n",
    "def u_para(x):\n",
    "    if x<x0: return 8/3*x**3 + 4/5*x**5\n",
    "    else: return (2*x**3 + x) * sqrt(x**2 + 1) - arcsinh(x)\n",
    "\n",
    "p_para = np.vectorize(p_para)\n",
    "u_para = np.vectorize(u_para)"
   ]
  },
  {
   "cell_type": "code",
   "execution_count": 286,
   "metadata": {},
   "outputs": [],
   "source": [
    "X = 10**np.linspace(-5, 5, 100)\n",
    "P = p_para(x)\n",
    "    "
   ]
  },
  {
   "cell_type": "code",
   "execution_count": 288,
   "metadata": {},
   "outputs": [],
   "source": [
    "def u(p0, x0=1):\n",
    "    if p0<0: return 0\n",
    "    f = lambda x: p_para(x) - p0\n",
    "    x = root_scalar(f, bracket=(0, 1e10)).root\n",
    "    u = u_para(x)\n",
    "    assert u>=0\n",
    "    return u\n",
    "\n",
    "u = np.vectorize(u)\n"
   ]
  },
  {
   "cell_type": "code",
   "execution_count": 293,
   "metadata": {},
   "outputs": [
    {
     "data": {
      "text/plain": [
       "[<matplotlib.lines.Line2D at 0x7f0d31c33790>]"
      ]
     },
     "execution_count": 293,
     "metadata": {},
     "output_type": "execute_result"
    },
    {
     "data": {
      "image/png": "[encoded data removed]",
      "text/plain": [
       "<Figure size 432x288 with 1 Axes>"
      ]
     },
     "metadata": {
      "needs_background": "light"
     },
     "output_type": "display_data"
    }
   ],
   "source": [
    "x = np.linspace(0, 1.2e-2, 100)\n",
    "px = p_para(x)\n",
    "ux = u_para(x)\n",
    "# print(p)\n",
    "# plt.plot(x, p)\n",
    "# plt.plot(x, ux)\n",
    "plt.plot(px, ux)\n",
    "plt.plot(px, u(px), \"k--\") \n"
   ]
  },
  {
   "cell_type": "code",
   "execution_count": 295,
   "metadata": {},
   "outputs": [],
   "source": [
    "def dmdr(r, y, args):\n",
    "    p, m = y\n",
    "    return u(p) * r**2\n",
    "\n",
    "def dpdr(r, y, args):\n",
    "    p, m = y\n",
    "    if r<1e-10:\n",
    "        p0 = args\n",
    "        u0 = u(p0)\n",
    "        return - r * (p + u0) * (p + u0) / (1 - 2 * u0 * r )\n",
    "    else:\n",
    "        Dp = - (p + u(p)) * (p * r**3 + m) /  (1 - 2 * m/r ) / r**2\n",
    "        return Dp"
   ]
  },
  {
   "cell_type": "code",
   "execution_count": 296,
   "metadata": {},
   "outputs": [],
   "source": [
    "def f(r, y, args):\n",
    "    return dpdr(r, y, args), dmdr(r, y, args)\n",
    "\n",
    "def stop(r, y, args):\n",
    "    p, m = y\n",
    "    return p\n",
    "stop.terminal = True\n"
   ]
  },
  {
   "cell_type": "code",
   "execution_count": 297,
   "metadata": {},
   "outputs": [],
   "source": [
    "def sim(p0 = 0.01):\n",
    "    return solve_ivp(f, (0, 1e10), (p0, 0), args=(p0,), events=stop, dense_output=True)"
   ]
  },
  {
   "cell_type": "code",
   "execution_count": 298,
   "metadata": {},
   "outputs": [],
   "source": [
    "s = sim(1)"
   ]
  },
  {
   "cell_type": "code",
   "execution_count": 299,
   "metadata": {},
   "outputs": [
    {
     "data": {
      "text/plain": [
       "  message: 'A termination event occurred.'\n",
       "     nfev: 122\n",
       "     njev: 0\n",
       "      nlu: 0\n",
       "      sol: <scipy.integrate._ivp.common.OdeSolution object at 0x7f0d31c416a0>\n",
       "   status: 1\n",
       "  success: True\n",
       "        t: array([0.00000000e+00, 1.00000000e-04, 1.10000000e-03, 1.11000000e-02,\n",
       "       1.00856995e-01, 2.02259270e-01, 3.42937074e-01, 5.23246754e-01,\n",
       "       7.38145862e-01, 8.92112883e-01, 1.04607990e+00, 1.19886650e+00,\n",
       "       1.35165310e+00, 1.48974911e+00, 1.58243948e+00, 1.67512986e+00,\n",
       "       1.76059466e+00, 1.79066920e+00])\n",
       " t_events: [array([1.7906692])]\n",
       "        y: array([[1.00000000e+00, 9.99999962e-01, 9.99995377e-01, 9.99529376e-01,\n",
       "        9.61906251e-01, 8.55479667e-01, 6.39265835e-01, 3.56124251e-01,\n",
       "        1.34115565e-01, 5.74046661e-02, 2.22033418e-02, 7.76166301e-03,\n",
       "        2.29210994e-03, 5.43550036e-04, 1.46959439e-04, 3.43953119e-05,\n",
       "        6.05332400e-06, 1.01643954e-20],\n",
       "       [0.00000000e+00, 9.63726537e-13, 1.28271746e-09, 1.31775248e-06,\n",
       "        9.72296421e-04, 7.45576050e-03, 3.21548980e-02, 9.03192130e-02,\n",
       "        1.76303857e-01, 2.32163096e-01, 2.76363665e-01, 3.07731219e-01,\n",
       "        3.27911044e-01, 3.38422030e-01, 3.41885225e-01, 3.43146348e-01,\n",
       "        3.43548134e-01, 3.43655077e-01]])\n",
       " y_events: [array([[1.01643954e-20, 3.43655077e-01]])]"
      ]
     },
     "execution_count": 299,
     "metadata": {},
     "output_type": "execute_result"
    }
   ],
   "source": [
    "s"
   ]
  },
  {
   "cell_type": "code",
   "execution_count": 300,
   "metadata": {},
   "outputs": [
    {
     "data": {
      "text/plain": [
       "array([1.00000000e+00, 9.99999962e-01, 9.99995377e-01, 9.99529376e-01,\n",
       "       9.61906251e-01, 8.55479667e-01, 6.39265835e-01, 3.56124251e-01,\n",
       "       1.34115565e-01, 5.74046661e-02, 2.22033418e-02, 7.76166301e-03,\n",
       "       2.29210994e-03, 5.43550036e-04, 1.46959439e-04, 3.43953119e-05,\n",
       "       6.05332400e-06])"
      ]
     },
     "execution_count": 300,
     "metadata": {},
     "output_type": "execute_result"
    },
    {
     "data": {
      "image/png": "[encoded data removed]",
      "text/plain": [
       "<Figure size 432x288 with 1 Axes>"
      ]
     },
     "metadata": {
      "needs_background": "light"
     },
     "output_type": "display_data"
    }
   ],
   "source": [
    "n = -1\n",
    "r = s.t[:n]\n",
    "p = s.y[0][:n]\n",
    "\n",
    "spline = CubicSpline(r, p)\n",
    "plt.plot(r, p, \"x\")\n",
    "r1 = np.linspace(r[0], r[-1], 100)\n",
    "plt.plot(r1, spline(r1))\n"
   ]
  },
  {
   "cell_type": "code",
   "execution_count": 319,
   "metadata": {},
   "outputs": [
    {
     "data": {
      "text/plain": [
       "[<matplotlib.lines.Line2D at 0x7f0d3170fa60>]"
      ]
     },
     "execution_count": 319,
     "metadata": {},
     "output_type": "execute_result"
    },
    {
     "data": {
      "image/png": "[encoded data removed]",
      "text/plain": [
       "<Figure size 432x288 with 1 Axes>"
      ]
     },
     "metadata": {
      "needs_background": "light"
     },
     "output_type": "display_data"
    }
   ],
   "source": [
    "m = s.y[1][:n]\n",
    "spline = CubicSpline(r, m)\n",
    " \n",
    "plt.plot(r, m, \"x\")\n",
    "plt.plot(r1, spline(r1))"
   ]
  },
  {
   "cell_type": "code",
   "execution_count": 348,
   "metadata": {},
   "outputs": [],
   "source": [
    "def sim_many():\n",
    "    N = 100\n",
    "    p0s = 10**np.linspace(-4, 2, N)\n",
    "\n",
    "    M = np.zeros(N)\n",
    "    R = np.zeros(N)\n",
    "\n",
    "    for i, p0 in enumerate(p0s):\n",
    "        s = solve_ivp(f, (0, 10), (p0, 0), args=(p0,), events=stop, method='DOP853')\n",
    "        rs = s.t\n",
    "        ps, ms = s.y\n",
    "        M[i] = ms[-1]\n",
    "        R[i] = rs[-1]\n",
    "\n",
    "    return R, M\n"
   ]
  },
  {
   "cell_type": "code",
   "execution_count": 349,
   "metadata": {},
   "outputs": [],
   "source": [
    "R, M = sim_many()"
   ]
  },
  {
   "cell_type": "code",
   "execution_count": 350,
   "metadata": {},
   "outputs": [
    {
     "data": {
      "text/plain": [
       "[<matplotlib.lines.Line2D at 0x7f0d310b33a0>]"
      ]
     },
     "execution_count": 350,
     "metadata": {},
     "output_type": "execute_result"
    },
    {
     "data": {
      "image/png": "[encoded data removed]",
      "text/plain": [
       "<Figure size 432x288 with 1 Axes>"
      ]
     },
     "metadata": {
      "needs_background": "light"
     },
     "output_type": "display_data"
    }
   ],
   "source": [
    "plt.plot(R, M, \"--,\")"
   ]
  },
  {
   "cell_type": "code",
   "execution_count": 352,
   "metadata": {},
   "outputs": [
    {
     "data": {
      "text/plain": [
       "[<matplotlib.lines.Line2D at 0x7f0d3102c2b0>]"
      ]
     },
     "execution_count": 352,
     "metadata": {},
     "output_type": "execute_result"
    },
    {
     "data": {
      "image/png": "[encoded data removed]",
      "text/plain": [
       "<Figure size 432x288 with 1 Axes>"
      ]
     },
     "metadata": {
      "needs_background": "light"
     },
     "output_type": "display_data"
    }
   ],
   "source": [
    "Rs = np.linspace(0.2, 1.4, 100)\n",
    "plt.plot(Rs,  4 / 9 * Rs)\n",
    "plt.plot(R, M)"
   ]
  },
  {
   "cell_type": "code",
   "execution_count": null,
   "metadata": {},
   "outputs": [],
   "source": []
  }
 ],
 "metadata": {
  "interpreter": {
   "hash": "31f2aee4e71d21fbe5cf8b01ff0e069b9275f58929596ceb00d14d90e3e16cd6"
  },
  "kernelspec": {
   "display_name": "Python 3.8.10 64-bit",
   "language": "python",
   "name": "python3"
  },
  "language_info": {
   "codemirror_mode": {
    "name": "ipython",
    "version": 3
   },
   "file_extension": ".py",
   "mimetype": "text/x-python",
   "name": "python",
   "nbconvert_exporter": "python",
   "pygments_lexer": "ipython3",
   "version": "3.8.10"
  },
  "orig_nbformat": 4
 },
 "nbformat": 4,
 "nbformat_minor": 2
}
