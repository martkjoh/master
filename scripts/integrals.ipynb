{
 "cells": [
  {
   "cell_type": "code",
   "execution_count": 58,
   "metadata": {},
   "outputs": [
    {
     "data": {
      "text/latex": [
       "${\\left(2 \\, x^{3} - 3 \\, x\\right)} \\sqrt{x^{2} + 1} + 3 \\, \\operatorname{arsinh}\\left(x\\right)$"
      ],
      "text/plain": [
       "<IPython.core.display.Latex object>"
      ]
     },
     "execution_count": 58,
     "metadata": {},
     "output_type": "execute_result"
    }
   ],
   "source": [
    "from IPython.display import display, Latex\n",
    "pprint = lambda x: Latex(\"$\" + str(latex(x)) + \"$\")\n",
    "\n",
    "x = var(\"x\")\n",
    "xf = var(\"x_f\")\n",
    "\n",
    "p = integral(8 * x**4 /sqrt(x**2 + 1), x, 0, xf, assume(xf>0))\n",
    "pprint(p(x))"
   ]
  },
  {
   "cell_type": "code",
   "execution_count": 54,
   "metadata": {},
   "outputs": [
    {
     "data": {
      "text/latex": [
       "$\\frac{8}{5} x^{5} + {(-\\frac{4}{7})} x^{7} + \\frac{1}{3} x^{9} + \\mathcal{O}\\left(x^{10}\\right)$"
      ],
      "text/plain": [
       "<IPython.core.display.Latex object>"
      ]
     },
     "execution_count": 54,
     "metadata": {},
     "output_type": "execute_result"
    }
   ],
   "source": [
    "pprint(p(x).series(x, 10))"
   ]
  },
  {
   "cell_type": "code",
   "execution_count": 55,
   "metadata": {},
   "outputs": [
    {
     "data": {
      "text/latex": [
       "${\\left(2 \\, x_{f}^{3} + x_{f}\\right)} \\sqrt{x_{f}^{2} + 1} - \\operatorname{arsinh}\\left(x_{f}\\right)$"
      ],
      "text/plain": [
       "<IPython.core.display.Latex object>"
      ]
     },
     "execution_count": 55,
     "metadata": {},
     "output_type": "execute_result"
    }
   ],
   "source": [
    "u = 8*integral(x**2 * sqrt(x**2 + 1), x, 0, xf, assume(xf>0))\n",
    "pprint(u)"
   ]
  },
  {
   "cell_type": "code",
   "execution_count": 56,
   "metadata": {},
   "outputs": [
    {
     "data": {
      "text/latex": [
       "$\\frac{8}{3} x^{3} + \\frac{4}{5} x^{5} + {(-\\frac{1}{7})} x^{7} + \\frac{1}{18} x^{9} + \\mathcal{O}\\left(x^{10}\\right)$"
      ],
      "text/plain": [
       "<IPython.core.display.Latex object>"
      ]
     },
     "execution_count": 56,
     "metadata": {},
     "output_type": "execute_result"
    }
   ],
   "source": [
    "pprint(u(x).series(x, 10))"
   ]
  },
  {
   "cell_type": "code",
   "execution_count": 61,
   "metadata": {},
   "outputs": [
    {
     "data": {
      "text/latex": [
       "$\\frac{1}{2} \\, \\log\\left(3 \\, x + 1\\right) - \\frac{1}{2} \\, \\log\\left(x + 1\\right)$"
      ],
      "text/plain": [
       "<IPython.core.display.Latex object>"
      ]
     },
     "execution_count": 61,
     "metadata": {},
     "output_type": "execute_result"
    }
   ],
   "source": [
    "I = integral(1 / (1 + x) / (1 + 3 * x), x, 0, x, assume(x>0))\n",
    "pprint(I)"
   ]
  },
  {
   "cell_type": "code",
   "execution_count": 82,
   "metadata": {},
   "outputs": [
    {
     "data": {
      "text/latex": [
       "$-\\frac{1}{4} \\, \\log\\left({\\left| 2 \\, x^{2} - 1 \\right|}\\right)$"
      ],
      "text/plain": [
       "<IPython.core.display.Latex object>"
      ]
     },
     "execution_count": 82,
     "metadata": {},
     "output_type": "execute_result"
    }
   ],
   "source": [
    "forget(assumptions())\n",
    "I = integral(x / (1 - 2 * x**2), x, 0, x, assume(x>0,sqrt(2)*x<1))\n",
    "pprint(I)"
   ]
  },
  {
   "cell_type": "code",
   "execution_count": null,
   "metadata": {},
   "outputs": [],
   "source": []
  }
 ],
 "metadata": {
  "interpreter": {
   "hash": "31f2aee4e71d21fbe5cf8b01ff0e069b9275f58929596ceb00d14d90e3e16cd6"
  },
  "kernelspec": {
   "display_name": "SageMath 9.0",
   "language": "sage",
   "name": "sagemath"
  },
  "language_info": {
   "codemirror_mode": {
    "name": "ipython",
    "version": 3
   },
   "file_extension": ".py",
   "mimetype": "text/x-python",
   "name": "python",
   "nbconvert_exporter": "python",
   "pygments_lexer": "ipython3",
   "version": "3.8.10"
  },
  "orig_nbformat": 4
 },
 "nbformat": 4,
 "nbformat_minor": 2
}
