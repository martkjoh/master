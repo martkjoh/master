{
 "cells": [
  {
   "cell_type": "code",
   "execution_count": null,
   "metadata": {},
   "outputs": [],
   "source": [
    "from IPython.display import display, Latex\n",
    "pprint = lambda x: Latex(\"$\" + str(latex(x)) + \"$\")"
   ]
  },
  {
   "cell_type": "code",
   "execution_count": null,
   "metadata": {},
   "outputs": [],
   "source": [
    "c = 2.998e8\n",
    "G = 6.67e-11\n",
    "hbar = 1.055e-34\n",
    "\n",
    "\n",
    "m = 1.67e-27\n",
    " \n",
    "MO = 1.988 41 * 10**30\n",
    "\n",
    "u0 = m**4 / (8 * pi**2) * (c**5 / hbar**3) \n",
    "m0 = c**4 / sqrt(4*pi/3 * u0 * G**3)\n",
    "r0 = G * m0 / c**2 / 1e3 # (km)\n",
    "\n",
    "\n",
    "print(N(u0))\n",
    "print(N(m0))\n",
    "print(N(m0/MO))\n",
    "print(N(r0))"
   ]
  },
  {
   "cell_type": "code",
   "execution_count": null,
   "metadata": {},
   "outputs": [],
   "source": [
    "x = var(\"x\")\n",
    "xf = var(\"x_f\")\n",
    "\n",
    "p = integral(8 * x**4 /sqrt(x**2 + 1), x, 0, xf, assume(xf>0))\n",
    "pprint(p(x))"
   ]
  },
  {
   "cell_type": "code",
   "execution_count": null,
   "metadata": {},
   "outputs": [],
   "source": [
    "pprint(p(x).series(x, 10).simplify())"
   ]
  },
  {
   "cell_type": "code",
   "execution_count": null,
   "metadata": {},
   "outputs": [],
   "source": [
    "u = 8*integral(x**2 * sqrt(x**2 + 1), x, 0, xf, assume(xf>0))\n",
    "pprint(u)"
   ]
  },
  {
   "cell_type": "code",
   "execution_count": null,
   "metadata": {},
   "outputs": [],
   "source": [
    "pprint(u(x).series(x, 10))"
   ]
  },
  {
   "cell_type": "code",
   "execution_count": null,
   "metadata": {},
   "outputs": [],
   "source": [
    "I = integral(1 / (1 + x) / (1 + 3 * x), x, 0, x, assume(x>0))\n",
    "pprint(I)"
   ]
  },
  {
   "cell_type": "code",
   "execution_count": null,
   "metadata": {},
   "outputs": [],
   "source": [
    "forget(assumptions())\n",
    "I = integral(x / (1 - 2 * x**2), x, 0, x, assume(x>0,sqrt(2)*x<1))\n",
    "pprint(I)"
   ]
  },
  {
   "cell_type": "code",
   "execution_count": null,
   "metadata": {},
   "outputs": [],
   "source": [
    "var(\"x\")\n",
    "var(\"a\")\n",
    "I = integral(1/3 * x^4 / sqrt(x^2 + 1) - x^2*sqrt(a^2 + 1), x, 0, a, assume(a>0))\n",
    "pprint(-I.simplify())"
   ]
  },
  {
   "cell_type": "code",
   "execution_count": null,
   "metadata": {},
   "outputs": [],
   "source": [
    "I = integral(x^2 * sqrt(x^2 + 1), x, 0, a)\n",
    "pprint(I)"
   ]
  },
  {
   "cell_type": "code",
   "execution_count": null,
   "metadata": {},
   "outputs": [],
   "source": []
  }
 ],
 "metadata": {
  "interpreter": {
   "hash": "31f2aee4e71d21fbe5cf8b01ff0e069b9275f58929596ceb00d14d90e3e16cd6"
  },
  "kernelspec": {
   "display_name": "SageMath 9.0",
   "language": "sage",
   "name": "sagemath"
  },
  "language_info": {
   "codemirror_mode": {
    "name": "ipython",
    "version": 3
   },
   "file_extension": ".py",
   "mimetype": "text/x-python",
   "name": "sage",
   "nbconvert_exporter": "python",
   "pygments_lexer": "ipython3",
   "version": "3.8.10"
  },
  "orig_nbformat": 4
 },
 "nbformat": 4,
 "nbformat_minor": 2
}
