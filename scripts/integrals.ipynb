{
 "cells": [
  {
   "cell_type": "code",
   "execution_count": 2,
   "metadata": {},
   "outputs": [],
   "source": [
    "from IPython.display import display, Latex\n",
    "pprint = lambda x: Latex(\"$\" + str(latex(x)) + \"$\")"
   ]
  },
  {
   "cell_type": "code",
   "execution_count": 3,
   "metadata": {},
   "outputs": [
    {
     "name": "stdout",
     "output_type": "stream",
     "text": [
      "2.03178109883078e35\n",
      "1.60751487598658e31\n",
      "8.08442361478057\n",
      "11.9293718859388\n"
     ]
    }
   ],
   "source": [
    "c = 2.998e8\n",
    "G = 6.67e-11\n",
    "hbar = 1.055e-34\n",
    "\n",
    "\n",
    "m = 1.67e-27\n",
    " \n",
    "MO = 1.98841 * 10**30\n",
    "\n",
    "u0 = m**4 / (8 * pi**2) * (c**5 / hbar**3) \n",
    "m0 = c**4 / sqrt(4*pi/3 * u0 * G**3)\n",
    "r0 = G * m0 / c**2 / 1e3 # (km)\n",
    "\n",
    "\n",
    "print(N(u0))\n",
    "print(N(m0))\n",
    "print(N(m0/MO))\n",
    "print(N(r0))"
   ]
  },
  {
   "cell_type": "code",
   "execution_count": 4,
   "metadata": {},
   "outputs": [
    {
     "data": {
      "text/latex": [
       "$\\frac{1}{3} \\, {\\left(2 \\, x^{3} - 3 \\, x\\right)} \\sqrt{x^{2} + 1} + \\operatorname{arsinh}\\left(x\\right)$"
      ],
      "text/plain": [
       "<IPython.core.display.Latex object>"
      ]
     },
     "execution_count": 4,
     "metadata": {},
     "output_type": "execute_result"
    }
   ],
   "source": [
    "x = var(\"x\")\n",
    "xf = var(\"x_f\")\n",
    "\n",
    "p = 8/3*integral(x**4 /sqrt(x**2 + 1), x, 0, xf, assume(xf>0))\n",
    "pprint(p(x))"
   ]
  },
  {
   "cell_type": "code",
   "execution_count": 12,
   "metadata": {},
   "outputs": [
    {
     "data": {
      "text/latex": [
       "$\\frac{8}{15} x^{5} + {(-\\frac{4}{21})} x^{7} + \\frac{1}{9} x^{9} + \\mathcal{O}\\left(x^{10}\\right)$"
      ],
      "text/plain": [
       "<IPython.core.display.Latex object>"
      ]
     },
     "execution_count": 12,
     "metadata": {},
     "output_type": "execute_result"
    }
   ],
   "source": [
    "pprint(p(x).series(x, 10))"
   ]
  },
  {
   "cell_type": "code",
   "execution_count": 6,
   "metadata": {},
   "outputs": [
    {
     "data": {
      "text/latex": [
       "${\\left(2 \\, x_{f}^{3} + x_{f}\\right)} \\sqrt{x_{f}^{2} + 1} - \\operatorname{arsinh}\\left(x_{f}\\right)$"
      ],
      "text/plain": [
       "<IPython.core.display.Latex object>"
      ]
     },
     "execution_count": 6,
     "metadata": {},
     "output_type": "execute_result"
    }
   ],
   "source": [
    "u = 8*integral(x**2 * sqrt(x**2 + 1), x, 0, xf, assume(xf>0))\n",
    "pprint(u)"
   ]
  },
  {
   "cell_type": "code",
   "execution_count": 7,
   "metadata": {},
   "outputs": [
    {
     "data": {
      "text/latex": [
       "$\\frac{8}{3} x^{3} + \\frac{4}{5} x^{5} + {(-\\frac{1}{7})} x^{7} + \\frac{1}{18} x^{9} + \\mathcal{O}\\left(x^{10}\\right)$"
      ],
      "text/plain": [
       "<IPython.core.display.Latex object>"
      ]
     },
     "execution_count": 7,
     "metadata": {},
     "output_type": "execute_result"
    }
   ],
   "source": [
    "pprint(u(x).series(x, 10))"
   ]
  },
  {
   "cell_type": "code",
   "execution_count": 8,
   "metadata": {},
   "outputs": [
    {
     "data": {
      "text/latex": [
       "$\\frac{1}{2} \\, \\log\\left(3 \\, x + 1\\right) - \\frac{1}{2} \\, \\log\\left(x + 1\\right)$"
      ],
      "text/plain": [
       "<IPython.core.display.Latex object>"
      ]
     },
     "execution_count": 8,
     "metadata": {},
     "output_type": "execute_result"
    }
   ],
   "source": [
    "I = integral(1 / (1 + x) / (1 + 3 * x), x, 0, x, assume(x>0))\n",
    "pprint(I)"
   ]
  },
  {
   "cell_type": "code",
   "execution_count": 9,
   "metadata": {},
   "outputs": [
    {
     "data": {
      "text/latex": [
       "$-\\frac{1}{4} \\, \\log\\left({\\left| 2 \\, x^{2} - 1 \\right|}\\right)$"
      ],
      "text/plain": [
       "<IPython.core.display.Latex object>"
      ]
     },
     "execution_count": 9,
     "metadata": {},
     "output_type": "execute_result"
    }
   ],
   "source": [
    "forget(assumptions())\n",
    "I = integral(x / (1 - 2 * x**2), x, 0, x, assume(x>0,sqrt(2)*x<1))\n",
    "pprint(I)"
   ]
  },
  {
   "cell_type": "code",
   "execution_count": 10,
   "metadata": {},
   "outputs": [
    {
     "data": {
      "text/latex": [
       "$\\frac{1}{8} \\, {\\left(2 \\, a^{3} + a\\right)} \\sqrt{a^{2} + 1} - \\frac{1}{8} \\, \\operatorname{arsinh}\\left(a\\right)$"
      ],
      "text/plain": [
       "<IPython.core.display.Latex object>"
      ]
     },
     "execution_count": 10,
     "metadata": {},
     "output_type": "execute_result"
    }
   ],
   "source": [
    "var(\"x\")\n",
    "var(\"a\")\n",
    "I = integral(1/3 * x^4 / sqrt(x^2 + 1) - x^2*sqrt(a^2 + 1), x, 0, a, assume(a>0))\n",
    "pprint(-I.simplify())"
   ]
  },
  {
   "cell_type": "code",
   "execution_count": 11,
   "metadata": {},
   "outputs": [
    {
     "data": {
      "text/latex": [
       "$\\frac{1}{8} \\, {\\left(2 \\, a^{3} + a\\right)} \\sqrt{a^{2} + 1} - \\frac{1}{8} \\, \\operatorname{arsinh}\\left(a\\right)$"
      ],
      "text/plain": [
       "<IPython.core.display.Latex object>"
      ]
     },
     "execution_count": 11,
     "metadata": {},
     "output_type": "execute_result"
    }
   ],
   "source": [
    "I = integral(x^2 * sqrt(x^2 + 1), x, 0, a)\n",
    "pprint(I)"
   ]
  },
  {
   "cell_type": "code",
   "execution_count": null,
   "metadata": {},
   "outputs": [],
   "source": []
  }
 ],
 "metadata": {
  "interpreter": {
   "hash": "31f2aee4e71d21fbe5cf8b01ff0e069b9275f58929596ceb00d14d90e3e16cd6"
  },
  "kernelspec": {
   "display_name": "SageMath 9.0",
   "language": "sage",
   "name": "sagemath"
  },
  "language_info": {
   "codemirror_mode": {
    "name": "ipython",
    "version": 3
   },
   "file_extension": ".py",
   "mimetype": "text/x-python",
   "name": "python",
   "nbconvert_exporter": "python",
   "pygments_lexer": "ipython3",
   "version": "3.8.10"
  },
  "orig_nbformat": 4
 },
 "nbformat": 4,
 "nbformat_minor": 2
}
