{
 "cells": [
  {
   "cell_type": "code",
   "execution_count": 14,
   "id": "f018d545",
   "metadata": {},
   "outputs": [],
   "source": [
    "import sympy as sp\n",
    "\n",
    "var(\"a b c\")\n",
    "ex = a**2 + b - c"
   ]
  },
  {
   "cell_type": "code",
   "execution_count": 15,
   "id": "13d08b81",
   "metadata": {},
   "outputs": [
    {
     "data": {
      "text/latex": [
       "$$ a^{2} + b - c $$"
      ],
      "text/plain": [
       "<IPython.core.display.Latex object>"
      ]
     },
     "metadata": {},
     "output_type": "display_data"
    }
   ],
   "source": [
    "from IPython.display import display, Latex\n",
    "display(Latex(\"$$\" +latex(ex)+ \"$$\") )"
   ]
  },
  {
   "cell_type": "code",
   "execution_count": null,
   "id": "182499cd",
   "metadata": {},
   "outputs": [],
   "source": []
  }
 ],
 "metadata": {
  "kernelspec": {
   "display_name": "SageMath 9.0",
   "language": "sage",
   "name": "sagemath"
  },
  "language_info": {
   "codemirror_mode": {
    "name": "ipython",
    "version": 3
   },
   "file_extension": ".py",
   "mimetype": "text/x-python",
   "name": "python",
   "nbconvert_exporter": "python",
   "pygments_lexer": "ipython3",
   "version": "3.8.10"
  }
 },
 "nbformat": 4,
 "nbformat_minor": 5
}
